{
 "cells": [
  {
   "cell_type": "markdown",
   "metadata": {},
   "source": [
    "Given a 32-bit signed integer, reverse digits of an integer.\n",
    "\n",
    "#### Example 1:\n",
    "\n",
    "**Input**: 123\n",
    "**Output**: 321\n",
    "\n",
    "#### Example 2:\n",
    "\n",
    "**Input**: -123\n",
    "**Output**: -321\n",
    "\n",
    "#### Example 3:\n",
    "\n",
    "**Input**: 120\n",
    "**Output**: 21\n",
    "\n",
    "Assume we are dealing with an environment which could only store integers within the 32-bit signed integer range: [−231,  231 − 1]. For the purpose of this problem, assume that your function returns 0 when the reversed integer overflows."
   ]
  },
  {
   "cell_type": "code",
   "execution_count": null,
   "metadata": {},
   "outputs": [],
   "source": [
    "import math\n",
    "\n",
    "class Solution:\n",
    "    def reverse(self, x):        \n",
    "        \"\"\"\n",
    "        :type x: int\n",
    "        :rtype: int\n",
    "        \"\"\"\n",
    "        \n",
    "        neg = False\n",
    "        if x < 0:\n",
    "            neg = True\n",
    "            x = abs(x)\n",
    "        \n",
    "        modulo = 0\n",
    "        tens = 1\n",
    "        while x > 9:\n",
    "            modulo += x%10\n",
    "            x = int(x/10)\n",
    "            modulo *= 10\n",
    "        \n",
    "        modulo += x\n",
    "        \n",
    "        if neg:\n",
    "            modulo *= -1\n",
    "            \n",
    "        if modulo > (int(math.pow(2, 31) - 1)):\n",
    "            return 0\n",
    "        \n",
    "        if modulo < math.pow(-2, 31):\n",
    "            return 0\n",
    "        \n",
    "        return modulo\n",
    "           \n",
    "\n",
    "s1 = Solution()\n"
   ]
  },
  {
   "cell_type": "code",
   "execution_count": null,
   "metadata": {},
   "outputs": [],
   "source": [
    "print(s1.reverse(123))"
   ]
  },
  {
   "cell_type": "code",
   "execution_count": null,
   "metadata": {},
   "outputs": [],
   "source": [
    "print(s1.reverse(23))"
   ]
  },
  {
   "cell_type": "code",
   "execution_count": null,
   "metadata": {},
   "outputs": [],
   "source": [
    "print(s1.reverse(1234))"
   ]
  },
  {
   "cell_type": "code",
   "execution_count": null,
   "metadata": {},
   "outputs": [],
   "source": [
    "print(s1.reverse(-321))"
   ]
  },
  {
   "cell_type": "code",
   "execution_count": null,
   "metadata": {},
   "outputs": [],
   "source": [
    "print(s1.reverse(20))"
   ]
  },
  {
   "cell_type": "code",
   "execution_count": null,
   "metadata": {},
   "outputs": [],
   "source": [
    "print(s1.reverse(10))"
   ]
  },
  {
   "cell_type": "code",
   "execution_count": null,
   "metadata": {},
   "outputs": [],
   "source": [
    "print(s1.reverse(1534236469))"
   ]
  }
 ],
 "metadata": {
  "kernelspec": {
   "display_name": "Python 3",
   "language": "python",
   "name": "python3"
  },
  "language_info": {
   "codemirror_mode": {
    "name": "ipython",
    "version": 3
   },
   "file_extension": ".py",
   "mimetype": "text/x-python",
   "name": "python",
   "nbconvert_exporter": "python",
   "pygments_lexer": "ipython3",
   "version": "3.7.0"
  }
 },
 "nbformat": 4,
 "nbformat_minor": 2
}
