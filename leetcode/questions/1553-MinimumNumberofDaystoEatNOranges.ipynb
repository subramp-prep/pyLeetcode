{
 "cells": [
  {
   "cell_type": "markdown",
   "metadata": {},
   "source": [
    "## Q1553. Minimum Number of Days to Eat N Oranges\n",
    "\n",
    "There are n oranges in the kitchen and you decided to eat some of these oranges every day as follows:\n",
    "\n",
    "Eat one orange.\n",
    "If the number of remaining oranges (n) is divisible by 2 then you can eat  n/2 oranges.\n",
    "If the number of remaining oranges (n) is divisible by 3 then you can eat  2*(n/3) oranges.\n",
    "You can only choose one of the actions per day.\n",
    "\n",
    "Return the minimum number of days to eat n oranges.\n",
    "\n",
    " \n",
    "\n",
    "Example 1:\n",
    "```\n",
    "Input: n = 10\n",
    "Output: 4\n",
    "```\n",
    "Explanation: You have 10 oranges.\n",
    "Day 1: Eat 1 orange,  10 - 1 = 9.  \n",
    "Day 2: Eat 6 oranges, 9 - 2*(9/3) = 9 - 6 = 3. (Since 9 is divisible by 3)\n",
    "Day 3: Eat 2 oranges, 3 - 2*(3/3) = 3 - 2 = 1. \n",
    "Day 4: Eat the last orange  1 - 1  = 0.\n",
    "You need at least 4 days to eat the 10 oranges.\n",
    "\n",
    "Example 2:\n",
    "```\n",
    "Input: n = 6\n",
    "Output: 3\n",
    "```\n",
    "Explanation: You have 6 oranges.\n",
    "Day 1: Eat 3 oranges, 6 - 6/2 = 6 - 3 = 3. (Since 6 is divisible by 2).\n",
    "Day 2: Eat 2 oranges, 3 - 2*(3/3) = 3 - 2 = 1. (Since 3 is divisible by 3)\n",
    "Day 3: Eat the last orange  1 - 1  = 0.\n",
    "You need at least 3 days to eat the 6 oranges.\n",
    "\n",
    "Example 3:\n",
    "```\n",
    "Input: n = 1\n",
    "Output: 1\n",
    "```\n",
    "\n",
    "Example 4:\n",
    "```\n",
    "Input: n = 56\n",
    "Output: 6\n",
    "```\n",
    "\n",
    "Constraints:\n",
    "```\n",
    "1 <= n <= 2*10^9\n",
    "```"
   ]
  },
  {
   "cell_type": "code",
   "execution_count": 3,
   "metadata": {},
   "outputs": [],
   "source": [
    "import functools\n",
    "\n",
    "@functools.lru_cache(maxsize=None)\n",
    "def minDays(n):\n",
    "    if n <= 1:\n",
    "        return 1\n",
    "\n",
    "    return 1 + min(n%2 + minDays(n//2), n%3 + minDays(n//3))"
   ]
  },
  {
   "cell_type": "code",
   "execution_count": 4,
   "metadata": {},
   "outputs": [
    {
     "name": "stdout",
     "output_type": "stream",
     "text": [
      "3\n"
     ]
    }
   ],
   "source": [
    "print(minDays(6))"
   ]
  },
  {
   "cell_type": "code",
   "execution_count": 6,
   "metadata": {},
   "outputs": [
    {
     "name": "stdout",
     "output_type": "stream",
     "text": [
      "6\n"
     ]
    }
   ],
   "source": [
    "print(minDays(56))"
   ]
  },
  {
   "cell_type": "markdown",
   "metadata": {},
   "source": [
    "Ref: https://leetcode.com/problems/minimum-number-of-days-to-eat-n-oranges/discuss/794162/C%2B%2BJavaPython-5-lines"
   ]
  }
 ],
 "metadata": {
  "kernelspec": {
   "display_name": "Python 3",
   "language": "python",
   "name": "python3"
  },
  "language_info": {
   "codemirror_mode": {
    "name": "ipython",
    "version": 3
   },
   "file_extension": ".py",
   "mimetype": "text/x-python",
   "name": "python",
   "nbconvert_exporter": "python",
   "pygments_lexer": "ipython3",
   "version": "3.7.6"
  }
 },
 "nbformat": 4,
 "nbformat_minor": 4
}
