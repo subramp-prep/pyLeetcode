{
 "cells": [
  {
   "cell_type": "markdown",
   "metadata": {},
   "source": [
    "## Q1020 Number Of enclaves\n",
    "\n",
    "Given a 2D array A, each cell is 0 (representing sea) or 1 (representing land)\n",
    "\n",
    "A move consists of walking from one land square 4-directionally to another land square, or off the boundary of the grid.\n",
    "\n",
    "Return the number of land squares in the grid for which we cannot walk off the boundary of the grid in any number of moves.\n",
    "\n",
    " \n",
    "\n",
    "Example 1:\n",
    "```\n",
    "Input: [[0,0,0,0],[1,0,1,0],[0,1,1,0],[0,0,0,0]]\n",
    "Output: 3\n",
    "```\n",
    "Explanation: \n",
    "There are three 1s that are enclosed by 0s, and one 1 that isn't enclosed because its on the boundary.\n",
    "Example 2:\n",
    "```\n",
    "Input: [[0,1,1,0],[0,0,1,0],[0,0,1,0],[0,0,0,0]]\n",
    "Output: 0\n",
    "```\n",
    "Explanation: \n",
    "All 1s are either on the boundary or can reach the boundary.\n",
    " \n",
    "\n",
    "Note:\n",
    "\n",
    "1 <= A.length <= 500\n",
    "1 <= A[i].length <= 500\n",
    "0 <= A[i][j] <= 1\n",
    "All rows have the same size."
   ]
  },
  {
   "cell_type": "code",
   "execution_count": 1,
   "metadata": {},
   "outputs": [],
   "source": [
    "def numEnclaves(A):\n",
    "    rows = len(A)\n",
    "    columns = len(A[0])\n",
    "\n",
    "    def dfs(r,c,tr,tc):\n",
    "        if c >=0 and r >= 0 and c < tc and r < tr and A[r][c] == 1:\n",
    "\n",
    "            A[r][c] = 0\n",
    "\n",
    "            dfs(r-1, c, tr, tc)\n",
    "            dfs(r, c-1, tr, tc)\n",
    "            dfs(r+1, c, tr, tc)\n",
    "            dfs(r, c+1, tr, tc)\n",
    "\n",
    "\n",
    "    for i in range(rows):\n",
    "        for j in range(columns):\n",
    "            if i == 0 or j == 0 or i == rows-1 or j == columns-1 and A[i][j] == 1:\n",
    "                dfs(i, j, rows, columns)\n",
    "\n",
    "    count = 0\n",
    "\n",
    "    for i in range(rows):\n",
    "        for j in range(columns):\n",
    "            if A[i][j] == 1:\n",
    "                count += 1\n",
    "\n",
    "    return count"
   ]
  },
  {
   "cell_type": "code",
   "execution_count": 2,
   "metadata": {},
   "outputs": [
    {
     "name": "stdout",
     "output_type": "stream",
     "text": [
      "0\n"
     ]
    }
   ],
   "source": [
    "print(numEnclaves([\n",
    "    [0, 1, 1, 0],\n",
    "    [0, 0, 1, 0],\n",
    "    [0, 0, 1, 0],\n",
    "    [0, 0, 0, 0]]\n",
    "))"
   ]
  },
  {
   "cell_type": "code",
   "execution_count": 3,
   "metadata": {},
   "outputs": [
    {
     "name": "stdout",
     "output_type": "stream",
     "text": [
      "3\n"
     ]
    }
   ],
   "source": [
    "print(numEnclaves([\n",
    "    [0, 0, 0, 0],\n",
    "    [1, 0, 1, 0],\n",
    "    [0, 1, 1, 0],\n",
    "    [0, 0, 0, 0]])\n",
    ")"
   ]
  },
  {
   "cell_type": "code",
   "execution_count": null,
   "metadata": {},
   "outputs": [],
   "source": []
  }
 ],
 "metadata": {
  "kernelspec": {
   "display_name": "Python 3",
   "language": "python",
   "name": "python3"
  },
  "language_info": {
   "codemirror_mode": {
    "name": "ipython",
    "version": 3
   },
   "file_extension": ".py",
   "mimetype": "text/x-python",
   "name": "python",
   "nbconvert_exporter": "python",
   "pygments_lexer": "ipython3",
   "version": "3.7.6"
  }
 },
 "nbformat": 4,
 "nbformat_minor": 4
}
