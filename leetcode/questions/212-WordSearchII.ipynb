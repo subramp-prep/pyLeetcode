{
 "cells": [
  {
   "cell_type": "markdown",
   "metadata": {},
   "source": [
    "## 212. Word Search II\n",
    "\n",
    "Given a 2D board and a list of words from the dictionary, find all words in the board.\n",
    "\n",
    "Each word must be constructed from letters of sequentially adjacent cell, where \"adjacent\" cells are those horizontally or vertically neighboring. The same letter cell may not be used more than once in a word.\n",
    "\n",
    " \n",
    "\n",
    "Example:\n",
    "```\n",
    "Input: \n",
    "board = [\n",
    "  ['o','a','a','n'],\n",
    "  ['e','t','a','e'],\n",
    "  ['i','h','k','r'],\n",
    "  ['i','f','l','v']\n",
    "]\n",
    "words = [\"oath\",\"pea\",\"eat\",\"rain\"]\n",
    "\n",
    "Output: [\"eat\",\"oath\"]\n",
    "``` \n",
    "\n",
    "Note:\n",
    "```\n",
    "All inputs are consist of lowercase letters a-z.\n",
    "The values of words are distinct.\n",
    "```"
   ]
  },
  {
   "cell_type": "code",
   "execution_count": 1,
   "metadata": {},
   "outputs": [],
   "source": [
    "def findWords(board, words):\n",
    "\n",
    "    class Trie:\n",
    "        def __init__(self):\n",
    "            self.children = {}\n",
    "            self.value = None\n",
    "            self.isWord = False\n",
    "\n",
    "    def insertTrie(root, word):\n",
    "        temp = root\n",
    "\n",
    "        for c in word:\n",
    "            if c in temp.children:\n",
    "                temp = temp.children[c]\n",
    "            else:\n",
    "                temp.children[c] = Trie()\n",
    "                temp = temp.children[c]\n",
    "\n",
    "        temp.value = word\n",
    "        temp.isWord = True\n",
    "\n",
    "    def dfs(x, y, node, path):\n",
    "        if node.isWord:\n",
    "            output.append(node.value)\n",
    "            node.isWord = False\n",
    "\n",
    "        if x < 0 or y < 0 or x >= len(board) or y >= len(board[0]):\n",
    "            return\n",
    "\n",
    "        tmp = board[x][y]\n",
    "        if tmp not in node.children:\n",
    "            return\n",
    "\n",
    "        node = node.children[tmp]\n",
    "\n",
    "        board[x][y] = '#' # mark visited\n",
    "\n",
    "        dfs(x-1, y, node, path + tmp)\n",
    "        dfs(x+1, y, node, path + tmp)\n",
    "        dfs(x, y-1, node, path + tmp)\n",
    "        dfs(x, y+1, node, path + tmp)\n",
    "\n",
    "        board[x][y] = tmp  # reset mark after visit\n",
    "    \n",
    "    output = []\n",
    "    \n",
    "    # insert words in trie\n",
    "    trie = Trie()\n",
    "    for word in words:\n",
    "        insertTrie(trie, word)\n",
    "\n",
    "    for i in range(len(board)):\n",
    "        for j in range(len(board[0])):\n",
    "            dfs(i, j, trie, \"\")\n",
    "\n",
    "    return output"
   ]
  },
  {
   "cell_type": "code",
   "execution_count": 3,
   "metadata": {},
   "outputs": [
    {
     "name": "stdout",
     "output_type": "stream",
     "text": [
      "['oath', 'eat']\n"
     ]
    }
   ],
   "source": [
    "board = [\n",
    "  ['o','a','a','n'],\n",
    "  ['e','t','a','e'],\n",
    "  ['i','h','k','r'],\n",
    "  ['i','f','l','v']\n",
    "]\n",
    "\n",
    "print(findWords(board, [\"oath\",\"pea\",\"eat\",\"rain\"]))"
   ]
  }
 ],
 "metadata": {
  "kernelspec": {
   "display_name": "Python 3",
   "language": "python",
   "name": "python3"
  },
  "language_info": {
   "codemirror_mode": {
    "name": "ipython",
    "version": 3
   },
   "file_extension": ".py",
   "mimetype": "text/x-python",
   "name": "python",
   "nbconvert_exporter": "python",
   "pygments_lexer": "ipython3",
   "version": "3.7.6"
  }
 },
 "nbformat": 4,
 "nbformat_minor": 4
}
