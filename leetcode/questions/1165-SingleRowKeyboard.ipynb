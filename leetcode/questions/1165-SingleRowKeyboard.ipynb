{
 "cells": [
  {
   "cell_type": "markdown",
   "metadata": {},
   "source": [
    "## 1165. Single-Row Keyboard\n",
    "\n",
    "There is a special keyboard with all keys in a single row.\n",
    "\n",
    "Given a string keyboard of length 26 indicating the layout of the keyboard (indexed from 0 to 25), initially your finger is at index 0. To type a character, you have to move your finger to the index of the desired character. The time taken to move your finger from index i to index j is |i - j|.\n",
    "\n",
    "You want to type a string word. Write a function to calculate how much time it takes to type it with one finger.\n",
    "\n",
    " \n",
    "\n",
    "Example 1:\n",
    "```\n",
    "Input: keyboard = \"abcdefghijklmnopqrstuvwxyz\", word = \"cba\"\n",
    "Output: 4\n",
    "```\n",
    "Explanation: The index moves from 0 to 2 to write 'c' then to 1 to write 'b' then to 0 again to write 'a'.\n",
    "Total time = 2 + 1 + 1 = 4. \n",
    "Example 2:\n",
    "```\n",
    "Input: keyboard = \"pqrstuvwxyzabcdefghijklmno\", word = \"leetcode\"\n",
    "Output: 73\n",
    "```\n",
    "\n",
    "Constraints:\n",
    "```\n",
    "keyboard.length == 26\n",
    "keyboard contains each English lowercase letter exactly once in some order.\n",
    "1 <= word.length <= 10^4\n",
    "word[i] is an English lowercase letter.\n",
    "```"
   ]
  },
  {
   "cell_type": "code",
   "execution_count": 2,
   "metadata": {},
   "outputs": [],
   "source": [
    "def calculateTime(keyboard, word):\n",
    "    time = 0\n",
    "    maps = {c:pos for pos, c in enumerate(keyboard) }\n",
    "\n",
    "    for i in range(len(word)):\n",
    "        if not i:\n",
    "            time += maps[word[i]]\n",
    "        else:\n",
    "            time += abs(maps[word[i]] - maps[word[i-1]])\n",
    "\n",
    "    return time"
   ]
  },
  {
   "cell_type": "code",
   "execution_count": 3,
   "metadata": {},
   "outputs": [
    {
     "name": "stdout",
     "output_type": "stream",
     "text": [
      "73\n"
     ]
    }
   ],
   "source": [
    "print(calculateTime(\"pqrstuvwxyzabcdefghijklmno\", \"leetcode\"))"
   ]
  },
  {
   "cell_type": "code",
   "execution_count": 4,
   "metadata": {},
   "outputs": [
    {
     "name": "stdout",
     "output_type": "stream",
     "text": [
      "4\n"
     ]
    }
   ],
   "source": [
    "print(calculateTime(\"abcdefghijklmnopqrstuvwxyz\", \"cba\"))"
   ]
  }
 ],
 "metadata": {
  "kernelspec": {
   "display_name": "Python 3",
   "language": "python",
   "name": "python3"
  },
  "language_info": {
   "codemirror_mode": {
    "name": "ipython",
    "version": 3
   },
   "file_extension": ".py",
   "mimetype": "text/x-python",
   "name": "python",
   "nbconvert_exporter": "python",
   "pygments_lexer": "ipython3",
   "version": "3.7.6"
  }
 },
 "nbformat": 4,
 "nbformat_minor": 4
}
