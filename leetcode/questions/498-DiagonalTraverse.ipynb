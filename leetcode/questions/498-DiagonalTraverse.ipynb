{
 "cells": [
  {
   "cell_type": "markdown",
   "metadata": {},
   "source": [
    "## 498 Diagonal Traverse\n",
    "\n",
    "Given a matrix of M x N elements (M rows, N columns), return all elements of the matrix in diagonal order as shown in the below image.\n",
    "\n",
    "Example:\n",
    "\n",
    "Input:\n",
    "```\n",
    "[\n",
    " [ 1, 2, 3 ],\n",
    " [ 4, 5, 6 ],\n",
    " [ 7, 8, 9 ]\n",
    "]\n",
    "```\n",
    "Output:\n",
    "```\n",
    "[1,2,4,7,5,3,6,8,9]\n",
    "```\n",
    "Explanation:\n",
    "\n",
    "Note:\n",
    "```\n",
    "The total number of elements of the given matrix will not exceed 10,000.\n",
    "```"
   ]
  },
  {
   "cell_type": "code",
   "execution_count": 1,
   "metadata": {},
   "outputs": [],
   "source": [
    "def findDiagonalOrder(matrix):\n",
    "    maps = {}\n",
    "\n",
    "    for r in range(len(matrix)):\n",
    "        for c in range(len(matrix[0])):\n",
    "            maps[r+c] = maps.setdefault(r+c, []) + [matrix[r][c]]\n",
    "\n",
    "    output = []\n",
    "\n",
    "    for i, v in enumerate(sorted(maps.items(), key = lambda x: x[0])):\n",
    "        print(i, v)\n",
    "        if i % 2 != 0:\n",
    "            output += v[1]\n",
    "\n",
    "        else:\n",
    "            output += v[1][::-1]\n",
    "\n",
    "    return output"
   ]
  },
  {
   "cell_type": "code",
   "execution_count": 2,
   "metadata": {},
   "outputs": [
    {
     "name": "stdout",
     "output_type": "stream",
     "text": [
      "0 (0, [1])\n",
      "1 (1, [2, 4])\n",
      "2 (2, [3, 5, 7])\n",
      "3 (3, [6, 8])\n",
      "4 (4, [9])\n",
      "[1, 2, 4, 7, 5, 3, 6, 8, 9]\n"
     ]
    }
   ],
   "source": [
    "print(findDiagonalOrder([\n",
    " [ 1, 2, 3 ],\n",
    " [ 4, 5, 6 ],\n",
    " [ 7, 8, 9 ]\n",
    "]))"
   ]
  },
  {
   "cell_type": "code",
   "execution_count": null,
   "metadata": {},
   "outputs": [],
   "source": []
  }
 ],
 "metadata": {
  "kernelspec": {
   "display_name": "Python 3",
   "language": "python",
   "name": "python3"
  },
  "language_info": {
   "codemirror_mode": {
    "name": "ipython",
    "version": 3
   },
   "file_extension": ".py",
   "mimetype": "text/x-python",
   "name": "python",
   "nbconvert_exporter": "python",
   "pygments_lexer": "ipython3",
   "version": "3.7.6"
  }
 },
 "nbformat": 4,
 "nbformat_minor": 4
}
