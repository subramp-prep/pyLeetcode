{
 "cells": [
  {
   "cell_type": "markdown",
   "metadata": {},
   "source": [
    "## Q886 Possible Bipartition\n",
    "\n",
    "Given a set of N people (numbered 1, 2, ..., N), we would like to split everyone into two groups of any size.\n",
    "\n",
    "Each person may dislike some other people, and they should not go into the same group. \n",
    "\n",
    "Formally, if dislikes[i] = [a, b], it means it is not allowed to put the people numbered a and b into the same group.\n",
    "\n",
    "Return true if and only if it is possible to split everyone into two groups in this way.\n",
    "\n",
    " \n",
    "\n",
    "Example 1:\n",
    "```\n",
    "Input: N = 4, dislikes = [[1,2],[1,3],[2,4]]\n",
    "Output: true\n",
    "```\n",
    "Explanation: group1 [1,4], group2 [2,3]\n",
    "Example 2:\n",
    "```\n",
    "Input: N = 3, dislikes = [[1,2],[1,3],[2,3]]\n",
    "Output: false\n",
    "```\n",
    "Example 3:\n",
    "```\n",
    "Input: N = 5, dislikes = [[1,2],[2,3],[3,4],[4,5],[1,5]]\n",
    "Output: false\n",
    "```\n",
    "\n",
    "Constraints:\n",
    "```\n",
    "1 <= N <= 2000\n",
    "0 <= dislikes.length <= 10000\n",
    "dislikes[i].length == 2\n",
    "1 <= dislikes[i][j] <= N\n",
    "dislikes[i][0] < dislikes[i][1]\n",
    "There does not exist i != j for which dislikes[i] == dislikes[j].\n",
    "```"
   ]
  },
  {
   "cell_type": "code",
   "execution_count": 1,
   "metadata": {},
   "outputs": [],
   "source": [
    "import collections\n",
    "\n",
    "def possibleBipartition(N, dislikes):\n",
    "    graph = collections.defaultdict(list)\n",
    "    for u, v in dislikes:\n",
    "        graph[u].append(v)\n",
    "        graph[v].append(u)\n",
    "\n",
    "    color = {}\n",
    "\n",
    "    def dfs(node):\n",
    "        for nei in graph[node]:\n",
    "            if nei in color:\n",
    "                if color[nei] == color[node]:\n",
    "                    return False\n",
    "            else:\n",
    "                color[nei] = 1 - color[node]\n",
    "                if not dfs(nei):\n",
    "                    return False\n",
    "\n",
    "        return True\n",
    "\n",
    "    for node in range(1, N+1):\n",
    "        if node not in color:\n",
    "            color[node] = 0\n",
    "        if not dfs(node):\n",
    "            return False\n",
    "\n",
    "    return True"
   ]
  },
  {
   "cell_type": "code",
   "execution_count": 2,
   "metadata": {},
   "outputs": [
    {
     "name": "stdout",
     "output_type": "stream",
     "text": [
      "True\n"
     ]
    }
   ],
   "source": [
    "print(possibleBipartition(4, [[1,2],[1,3],[2,4]]))"
   ]
  },
  {
   "cell_type": "code",
   "execution_count": 3,
   "metadata": {},
   "outputs": [
    {
     "name": "stdout",
     "output_type": "stream",
     "text": [
      "False\n"
     ]
    }
   ],
   "source": [
    "print(possibleBipartition(5, [[1,2],[2,3],[3,4],[4,5],[1,5]]))"
   ]
  },
  {
   "cell_type": "code",
   "execution_count": 4,
   "metadata": {},
   "outputs": [
    {
     "name": "stdout",
     "output_type": "stream",
     "text": [
      "False\n"
     ]
    }
   ],
   "source": [
    "print(possibleBipartition(3, [[1,2],[1,3],[2,3]]))"
   ]
  }
 ],
 "metadata": {
  "kernelspec": {
   "display_name": "Python 3",
   "language": "python",
   "name": "python3"
  },
  "language_info": {
   "codemirror_mode": {
    "name": "ipython",
    "version": 3
   },
   "file_extension": ".py",
   "mimetype": "text/x-python",
   "name": "python",
   "nbconvert_exporter": "python",
   "pygments_lexer": "ipython3",
   "version": "3.7.6"
  }
 },
 "nbformat": 4,
 "nbformat_minor": 4
}
