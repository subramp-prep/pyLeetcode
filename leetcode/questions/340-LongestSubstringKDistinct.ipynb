{
 "cells": [
  {
   "cell_type": "markdown",
   "metadata": {},
   "source": [
    "## 340. Longest Substring with At Most K Distinct Characters\n",
    "\n",
    "Given a string, find the length of the longest substring T that contains at most k distinct characters.\n",
    "\n",
    "Example 1:\n",
    "```\n",
    "Input: s = \"eceba\", k = 2\n",
    "Output: 3\n",
    "```\n",
    "Explanation: T is \"ece\" which its length is 3.\n",
    "Example 2:\n",
    "```\n",
    "Input: s = \"aa\", k = 1\n",
    "Output: 2\n",
    "```\n",
    "Explanation: T is \"aa\" which its length is 2."
   ]
  },
  {
   "cell_type": "code",
   "execution_count": 1,
   "metadata": {},
   "outputs": [],
   "source": [
    "def lengthOfLongestSubstringKDistinct(s, k):\n",
    "    counter = start = stop = 0\n",
    "    maps = {}\n",
    "    l = len(s)\n",
    "    maxlen = 0\n",
    "    \n",
    "    while stop < l:\n",
    "        if s[stop] not in maps:\n",
    "            maps[s[stop]] = 1\n",
    "            counter += 1\n",
    "            \n",
    "        else:\n",
    "            maps[s[stop]] += 1\n",
    "            \n",
    "        stop += 1\n",
    "        \n",
    "        while counter > k:\n",
    "            if maps[s[start]] == 1:\n",
    "                counter -= 1\n",
    "                \n",
    "            maps[s[start]] -= 1\n",
    "            if maps[s[start]] == 0:\n",
    "                maps.pop(s[start], None)\n",
    "                \n",
    "            start += 1\n",
    "            \n",
    "        maxlen = max(maxlen, stop-start)\n",
    "        \n",
    "    return maxlen"
   ]
  },
  {
   "cell_type": "code",
   "execution_count": 2,
   "metadata": {},
   "outputs": [
    {
     "name": "stdout",
     "output_type": "stream",
     "text": [
      "3\n"
     ]
    }
   ],
   "source": [
    "print(lengthOfLongestSubstringKDistinct('eceba', 2))"
   ]
  },
  {
   "cell_type": "code",
   "execution_count": 3,
   "metadata": {},
   "outputs": [
    {
     "name": "stdout",
     "output_type": "stream",
     "text": [
      "2\n"
     ]
    }
   ],
   "source": [
    "print(lengthOfLongestSubstringKDistinct('aa', 1))"
   ]
  }
 ],
 "metadata": {
  "kernelspec": {
   "display_name": "Python 3",
   "language": "python",
   "name": "python3"
  },
  "language_info": {
   "codemirror_mode": {
    "name": "ipython",
    "version": 3
   },
   "file_extension": ".py",
   "mimetype": "text/x-python",
   "name": "python",
   "nbconvert_exporter": "python",
   "pygments_lexer": "ipython3",
   "version": "3.8.5"
  }
 },
 "nbformat": 4,
 "nbformat_minor": 4
}
