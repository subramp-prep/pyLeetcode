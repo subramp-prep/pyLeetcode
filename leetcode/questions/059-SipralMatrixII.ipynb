{
 "cells": [
  {
   "cell_type": "markdown",
   "metadata": {},
   "source": [
    "## 59 - Sprial Matrix II\n",
    "\n",
    "Given a positive integer n, generate a square matrix filled with elements from 1 to n2 in spiral order.\n",
    "\n",
    "Example:\n",
    "```\n",
    "Input: 3\n",
    "Output:\n",
    "[\n",
    " [ 1, 2, 3 ],\n",
    " [ 8, 9, 4 ],\n",
    " [ 7, 6, 5 ]\n",
    "]\n",
    "```"
   ]
  },
  {
   "cell_type": "code",
   "execution_count": 4,
   "metadata": {},
   "outputs": [],
   "source": [
    "def generateMatrix(n: int):\n",
    "    matrix = [[None for _ in range(n)] for _ in range(n)]\n",
    "\n",
    "    r = c = di = 0\n",
    "    dr = [0, 1, 0, -1]\n",
    "    dc = [1, 0, -1, 0]\n",
    "\n",
    "    currVal = 1\n",
    "\n",
    "    for _ in range(n*n):\n",
    "\n",
    "        matrix[r][c] = currVal\n",
    "\n",
    "        cr, cc = r + dr[di], c+ dc[di]\n",
    "        if 0 <= cr < n and 0 <= cc < n and matrix[cr][cc] is None:\n",
    "            r, c = cr, cc\n",
    "        else:\n",
    "            di = (di + 1) % 4\n",
    "            r, c = r + dr[di], c+ dc[di]\n",
    "\n",
    "        currVal += 1\n",
    "\n",
    "    return matrix"
   ]
  },
  {
   "cell_type": "code",
   "execution_count": 5,
   "metadata": {},
   "outputs": [
    {
     "name": "stdout",
     "output_type": "stream",
     "text": [
      "[[1, 2, 3], [8, 9, 4], [7, 6, 5]]\n"
     ]
    }
   ],
   "source": [
    "print(generateMatrix(3))"
   ]
  },
  {
   "cell_type": "code",
   "execution_count": 6,
   "metadata": {},
   "outputs": [
    {
     "name": "stdout",
     "output_type": "stream",
     "text": [
      "[[1, 2], [4, 3]]\n"
     ]
    }
   ],
   "source": [
    "print(generateMatrix(2))"
   ]
  },
  {
   "cell_type": "code",
   "execution_count": 7,
   "metadata": {},
   "outputs": [
    {
     "name": "stdout",
     "output_type": "stream",
     "text": [
      "[[1, 2, 3, 4], [12, 13, 14, 5], [11, 16, 15, 6], [10, 9, 8, 7]]\n"
     ]
    }
   ],
   "source": [
    "print(generateMatrix(4))"
   ]
  },
  {
   "cell_type": "code",
   "execution_count": 8,
   "metadata": {},
   "outputs": [
    {
     "name": "stdout",
     "output_type": "stream",
     "text": [
      "[[1, 2, 3, 4, 5], [16, 17, 18, 19, 6], [15, 24, 25, 20, 7], [14, 23, 22, 21, 8], [13, 12, 11, 10, 9]]\n"
     ]
    }
   ],
   "source": [
    "print(generateMatrix(5))"
   ]
  }
 ],
 "metadata": {
  "kernelspec": {
   "display_name": "Python 3",
   "language": "python",
   "name": "python3"
  },
  "language_info": {
   "codemirror_mode": {
    "name": "ipython",
    "version": 3
   },
   "file_extension": ".py",
   "mimetype": "text/x-python",
   "name": "python",
   "nbconvert_exporter": "python",
   "pygments_lexer": "ipython3",
   "version": "3.7.1"
  }
 },
 "nbformat": 4,
 "nbformat_minor": 2
}
