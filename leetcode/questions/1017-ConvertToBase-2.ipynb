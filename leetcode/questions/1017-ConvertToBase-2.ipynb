{
 "cells": [
  {
   "cell_type": "markdown",
   "metadata": {},
   "source": [
    "## 1017 - Convert To Base -2\n",
    "\n",
    "Given a number N, return a string consisting of \"0\"s and \"1\"s that represents its value in base -2 (negative two).\n",
    "\n",
    "The returned string must have no leading zeroes, unless the string is \"0\".\n",
    "\n",
    " \n",
    "\n",
    "Example 1:\n",
    "```\n",
    "Input: 2\n",
    "Output: \"110\"\n",
    "Explantion: (-2) ^ 2 + (-2) ^ 1 = 2\n",
    "```\n",
    "Example 2:\n",
    "```\n",
    "Input: 3\n",
    "Output: \"111\"\n",
    "Explantion: (-2) ^ 2 + (-2) ^ 1 + (-2) ^ 0 = 3\n",
    "```\n",
    "Example 3:\n",
    "```\n",
    "Input: 4\n",
    "Output: \"100\"\n",
    "Explantion: (-2) ^ 2 = 4\n",
    "``` \n",
    "\n",
    "Note:\n",
    "\n",
    "0 <= N <= 10^9"
   ]
  },
  {
   "cell_type": "code",
   "execution_count": 7,
   "metadata": {},
   "outputs": [],
   "source": [
    "def baseNeg2(num):\n",
    "    if num == 0 or num == 1:\n",
    "        return str(num)\n",
    "    \n",
    "    return baseNeg2(-(num >> 1)) + str(num & 1)"
   ]
  },
  {
   "cell_type": "code",
   "execution_count": 8,
   "metadata": {},
   "outputs": [
    {
     "name": "stdout",
     "output_type": "stream",
     "text": [
      "100\n"
     ]
    }
   ],
   "source": [
    "print(baseNeg2(4))"
   ]
  },
  {
   "cell_type": "code",
   "execution_count": 9,
   "metadata": {},
   "outputs": [
    {
     "name": "stdout",
     "output_type": "stream",
     "text": [
      "1111001\n"
     ]
    }
   ],
   "source": [
    "print(baseNeg2(41)) "
   ]
  },
  {
   "cell_type": "code",
   "execution_count": 10,
   "metadata": {},
   "outputs": [
    {
     "name": "stdout",
     "output_type": "stream",
     "text": [
      "1100000\n"
     ]
    }
   ],
   "source": [
    "print(baseNeg2(32))"
   ]
  }
 ],
 "metadata": {
  "kernelspec": {
   "display_name": "Python 3",
   "language": "python",
   "name": "python3"
  },
  "language_info": {
   "codemirror_mode": {
    "name": "ipython",
    "version": 3
   },
   "file_extension": ".py",
   "mimetype": "text/x-python",
   "name": "python",
   "nbconvert_exporter": "python",
   "pygments_lexer": "ipython3",
   "version": "3.7.1"
  }
 },
 "nbformat": 4,
 "nbformat_minor": 2
}
