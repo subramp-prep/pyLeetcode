{
 "cells": [
  {
   "cell_type": "markdown",
   "metadata": {},
   "source": [
    "## 1153 String Transforms Into Another String\n",
    "\n",
    "Given two strings str1 and str2 of the same length, determine whether you can transform str1 into str2 by doing zero or more conversions.\n",
    "\n",
    "In one conversion you can convert all occurrences of one character in str1 to any other lowercase English character.\n",
    "\n",
    "Return true if and only if you can transform str1 into str2.\n",
    "\n",
    " \n",
    "\n",
    "Example 1:\n",
    "```\n",
    "Input: str1 = \"aabcc\", str2 = \"ccdee\"\n",
    "Output: true\n",
    "```\n",
    "Explanation: Convert 'c' to 'e' then 'b' to 'd' then 'a' to 'c'. Note that the order of conversions matter.\n",
    "Example 2:\n",
    "```\n",
    "Input: str1 = \"leetcode\", str2 = \"codeleet\"\n",
    "Output: false\n",
    "```\n",
    "Explanation: There is no way to transform str1 to str2.\n",
    " \n",
    "\n",
    "Note:\n",
    "\n",
    "1 <= str1.length == str2.length <= 10^4\n",
    "Both str1 and str2 contain only lowercase English letters."
   ]
  },
  {
   "cell_type": "code",
   "execution_count": 2,
   "metadata": {},
   "outputs": [],
   "source": [
    "def canConvert(s1, s2):\n",
    "    \n",
    "    if s1 == s2:\n",
    "        return True\n",
    "    \n",
    "    maps = {}\n",
    "    \n",
    "    for i, j in zip(s1, s2):\n",
    "        \n",
    "        if maps.setdefault(i,j) != j:\n",
    "            return False\n",
    "        \n",
    "    return True"
   ]
  },
  {
   "cell_type": "code",
   "execution_count": 3,
   "metadata": {},
   "outputs": [
    {
     "name": "stdout",
     "output_type": "stream",
     "text": [
      "True\n"
     ]
    }
   ],
   "source": [
    "print(canConvert('aabcc', 'ccdee'))"
   ]
  },
  {
   "cell_type": "code",
   "execution_count": 4,
   "metadata": {},
   "outputs": [
    {
     "name": "stdout",
     "output_type": "stream",
     "text": [
      "False\n"
     ]
    }
   ],
   "source": [
    "print(canConvert('leetcode', 'codeleet'))"
   ]
  }
 ],
 "metadata": {
  "kernelspec": {
   "display_name": "Python 3",
   "language": "python",
   "name": "python3"
  },
  "language_info": {
   "codemirror_mode": {
    "name": "ipython",
    "version": 3
   },
   "file_extension": ".py",
   "mimetype": "text/x-python",
   "name": "python",
   "nbconvert_exporter": "python",
   "pygments_lexer": "ipython3",
   "version": "3.7.4"
  }
 },
 "nbformat": 4,
 "nbformat_minor": 2
}
