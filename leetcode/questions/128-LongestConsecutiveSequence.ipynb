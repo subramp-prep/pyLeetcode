{
 "cells": [
  {
   "cell_type": "markdown",
   "metadata": {},
   "source": [
    "## Q128 LongestConsecutiveSequence\n",
    "\n",
    "\n",
    "Given an unsorted array of integers, find the length of the longest consecutive elements sequence.\n",
    "\n",
    "Your algorithm should run in O(n) complexity.\n",
    "\n",
    "Example:\n",
    "```\n",
    "Input: [100, 4, 200, 1, 3, 2]\n",
    "Output: 4\n",
    "```\n",
    "Explanation: The longest consecutive elements sequence is [1, 2, 3, 4]. Therefore its length is 4."
   ]
  },
  {
   "cell_type": "code",
   "execution_count": 3,
   "metadata": {},
   "outputs": [],
   "source": [
    "import heapq\n",
    "\n",
    "def longestConsecutive(nums):\n",
    "        \n",
    "    if not nums:\n",
    "        return 0\n",
    "\n",
    "    heap = []\n",
    "\n",
    "    for num in nums:\n",
    "        heapq.heappush(heap, num)\n",
    "\n",
    "    inter = [heapq.heappop(heap) for _ in range(len(heap)) ]\n",
    "\n",
    "    print(inter)\n",
    "\n",
    "    maxLength = 1\n",
    "    tempLength = 1\n",
    "\n",
    "    for i in range(1, len(inter)):\n",
    "        if inter[i] != inter[i-1]:\n",
    "            if inter[i] - inter[i-1] == 1:\n",
    "                tempLength += 1\n",
    "\n",
    "            else:\n",
    "                maxLength = max(maxLength, tempLength)\n",
    "                tempLength=1\n",
    "\n",
    "    return max(maxLength, tempLength)"
   ]
  },
  {
   "cell_type": "code",
   "execution_count": 4,
   "metadata": {},
   "outputs": [
    {
     "name": "stdout",
     "output_type": "stream",
     "text": [
      "[1, 2, 3, 4, 100, 200]\n",
      "4\n"
     ]
    }
   ],
   "source": [
    "print(longestConsecutive([100, 4, 200, 1, 3, 2]))"
   ]
  },
  {
   "cell_type": "markdown",
   "metadata": {},
   "source": [
    "## Optimized version"
   ]
  },
  {
   "cell_type": "code",
   "execution_count": 5,
   "metadata": {},
   "outputs": [],
   "source": [
    "def longestConsecutive(nums):\n",
    "    nums = set(nums)\n",
    "    window = 0\n",
    "    for num in nums:\n",
    "        if num-1 not in nums:\n",
    "            nextnum = num + 1\n",
    "            while nextnum in nums:\n",
    "                nextnum += 1\n",
    "\n",
    "            window = max(window, nextnum-num)\n",
    "\n",
    "    return window"
   ]
  }
 ],
 "metadata": {
  "kernelspec": {
   "display_name": "Python 3",
   "language": "python",
   "name": "python3"
  },
  "language_info": {
   "codemirror_mode": {
    "name": "ipython",
    "version": 3
   },
   "file_extension": ".py",
   "mimetype": "text/x-python",
   "name": "python",
   "nbconvert_exporter": "python",
   "pygments_lexer": "ipython3",
   "version": "3.7.6"
  }
 },
 "nbformat": 4,
 "nbformat_minor": 4
}
