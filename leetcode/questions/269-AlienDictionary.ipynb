{
 "cells": [
  {
   "cell_type": "markdown",
   "metadata": {},
   "source": [
    "## 269 Alien Dictionary\n",
    "\n",
    "There is a new alien language which uses the latin alphabet. However, the order among letters are unknown to you. You receive a list of non-empty words from the dictionary, where words are sorted lexicographically by the rules of this new language. Derive the order of letters in this language.\n",
    "\n",
    "Example 1:\n",
    "```\n",
    "Input:\n",
    "[\n",
    "  \"wrt\",\n",
    "  \"wrf\",\n",
    "  \"er\",\n",
    "  \"ett\",\n",
    "  \"rftt\"\n",
    "]\n",
    "\n",
    "Output: \"wertf\"\n",
    "```\n",
    "Example 2:\n",
    "```\n",
    "Input:\n",
    "[\n",
    "  \"z\",\n",
    "  \"x\"\n",
    "]\n",
    "\n",
    "Output: \"zx\"\n",
    "```\n",
    "Example 3:\n",
    "```\n",
    "Input:\n",
    "[\n",
    "  \"z\",\n",
    "  \"x\",\n",
    "  \"z\"\n",
    "] \n",
    "\n",
    "Output: \"\" \n",
    "```\n",
    "\n",
    "Explanation: The order is invalid, so return \"\".\n",
    "Note:\n",
    "\n",
    "You may assume all letters are in lowercase.\n",
    "You may assume that if a is a prefix of b, then a must appear before b in the given dictionary.\n",
    "If the order is invalid, return an empty string.\n",
    "There may be multiple valid order of letters, return any one of them is fine."
   ]
  },
  {
   "cell_type": "code",
   "execution_count": 8,
   "metadata": {},
   "outputs": [],
   "source": [
    "class Graph:\n",
    "    def __init__(self):\n",
    "        self.nodes = {}\n",
    "        self.inDegree = {}\n",
    "\n",
    "    def findNodes(self, words):\n",
    "        \n",
    "        for word in words:\n",
    "            for c in word:\n",
    "                self.inDegree[c] = self.inDegree.setdefault(c, 0)\n",
    "\n",
    "    def addNode(self, source, destination):\n",
    "        \n",
    "        self.nodes[source] = self.nodes.setdefault(source, []) + [destination]\n",
    "        self.inDegree[destination] += 1\n",
    "\n",
    "    def getOutgoingOnlyNodes(self):\n",
    "        \n",
    "        outgoing = []\n",
    "\n",
    "        for k in self.inDegree:\n",
    "            if self.inDegree[k] == 0:\n",
    "                outgoing.append(k)\n",
    "\n",
    "        return outgoing\n",
    "\n",
    "    def kahnsToposort(self):\n",
    "        \n",
    "        S = set(self.getOutgoingOnlyNodes())\n",
    "        L = []\n",
    "\n",
    "        while len(S) > 0:\n",
    "            recent = S.pop()\n",
    "\n",
    "            L.append(recent)\n",
    "\n",
    "            if recent in self.nodes:\n",
    "                for n in self.nodes[recent]:\n",
    "                    S.add(n)\n",
    "\n",
    "        return L\n",
    "    \n",
    "def alienOrder(words):\n",
    "        g = Graph()\n",
    "\n",
    "        g.findNodes(words)\n",
    "\n",
    "        for i in range(1, len(words)):\n",
    "            for j, k in zip(words[i-1], words[i]):\n",
    "                if j != k:\n",
    "                    g.addNode(j, k)\n",
    "\n",
    "        order = g.kahnsToposort()\n",
    "\n",
    "        return ''.join(order)"
   ]
  },
  {
   "cell_type": "code",
   "execution_count": 14,
   "metadata": {},
   "outputs": [
    {
     "name": "stdout",
     "output_type": "stream",
     "text": [
      "wertf\n"
     ]
    }
   ],
   "source": [
    "print(alienOrder([\n",
    "  \"wrt\",\n",
    "  \"wrf\",\n",
    "  \"er\",\n",
    "  \"ett\",\n",
    "  \"rftt\"\n",
    "]))"
   ]
  },
  {
   "cell_type": "code",
   "execution_count": 15,
   "metadata": {},
   "outputs": [
    {
     "name": "stdout",
     "output_type": "stream",
     "text": [
      "zx\n"
     ]
    }
   ],
   "source": [
    "print(alienOrder([\n",
    "  \"z\",\n",
    "  \"x\"\n",
    "]))"
   ]
  },
  {
   "cell_type": "code",
   "execution_count": 16,
   "metadata": {},
   "outputs": [
    {
     "name": "stdout",
     "output_type": "stream",
     "text": [
      "\n"
     ]
    }
   ],
   "source": [
    "print(alienOrder([\n",
    "  \"z\",\n",
    "  \"x\",\n",
    "  \"z\"\n",
    "] ))"
   ]
  },
  {
   "cell_type": "code",
   "execution_count": 13,
   "metadata": {},
   "outputs": [
    {
     "name": "stdout",
     "output_type": "stream",
     "text": [
      "\n"
     ]
    }
   ],
   "source": [
    "print(alienOrder([\"baa\", \"abcd\", \"abca\", \"cab\", \"cad\"]))"
   ]
  },
  {
   "cell_type": "code",
   "execution_count": 17,
   "metadata": {},
   "outputs": [
    {
     "name": "stdout",
     "output_type": "stream",
     "text": [
      "cab\n"
     ]
    }
   ],
   "source": [
    "print(alienOrder([\"caa\", \"aaa\", \"aab\"]))"
   ]
  },
  {
   "cell_type": "code",
   "execution_count": null,
   "metadata": {},
   "outputs": [],
   "source": []
  }
 ],
 "metadata": {
  "kernelspec": {
   "display_name": "Python 3",
   "language": "python",
   "name": "python3"
  },
  "language_info": {
   "codemirror_mode": {
    "name": "ipython",
    "version": 3
   },
   "file_extension": ".py",
   "mimetype": "text/x-python",
   "name": "python",
   "nbconvert_exporter": "python",
   "pygments_lexer": "ipython3",
   "version": "3.7.4"
  }
 },
 "nbformat": 4,
 "nbformat_minor": 2
}
