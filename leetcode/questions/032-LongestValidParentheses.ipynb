{
 "cells": [
  {
   "cell_type": "markdown",
   "metadata": {},
   "source": [
    "## 32. Longest Valid Parentheses\n",
    "\n",
    "\n",
    "Given a string containing just the characters '(' and ')', find the length of the longest valid (well-formed) parentheses substring.\n",
    " \n",
    "\n",
    "Example 1:\n",
    "```\n",
    "Input: s = \"(()\"\n",
    "Output: 2\n",
    "```\n",
    "Explanation: The longest valid parentheses substring is \"()\".\n",
    "Example 2:\n",
    "```\n",
    "Input: s = \")()())\"\n",
    "Output: 4\n",
    "```\n",
    "Explanation: The longest valid parentheses substring is \"()()\".\n",
    "Example 3:\n",
    "```\n",
    "Input: s = \"\"\n",
    "Output: 0\n",
    "```\n",
    "\n",
    "Constraints:\n",
    "```\n",
    "0 <= s.length <= 3 * 104\n",
    "s[i] is '(', or ')'.\n",
    "```"
   ]
  },
  {
   "cell_type": "code",
   "execution_count": 1,
   "metadata": {},
   "outputs": [],
   "source": [
    "def longestValidParentheses(s):\n",
    "    stack = [-1]\n",
    "    maxlen = 0\n",
    "    \n",
    "    for i in range(len(s)):\n",
    "        if s[i] == '(':\n",
    "            stack.append(i)\n",
    "            \n",
    "        else:\n",
    "            stack.pop()\n",
    "            if len(stack) == 0:\n",
    "                stack.append(i)\n",
    "                \n",
    "            else:\n",
    "                maxlen = max(maxlen, i - stack[-1])\n",
    "                \n",
    "    return maxlen"
   ]
  },
  {
   "cell_type": "code",
   "execution_count": 2,
   "metadata": {},
   "outputs": [
    {
     "name": "stdout",
     "output_type": "stream",
     "text": [
      "2\n"
     ]
    }
   ],
   "source": [
    "print(longestValidParentheses(\"(()\"))"
   ]
  },
  {
   "cell_type": "code",
   "execution_count": 3,
   "metadata": {},
   "outputs": [
    {
     "name": "stdout",
     "output_type": "stream",
     "text": [
      "4\n"
     ]
    }
   ],
   "source": [
    "print(longestValidParentheses(\")()())\"))"
   ]
  }
 ],
 "metadata": {
  "kernelspec": {
   "display_name": "Python 3",
   "language": "python",
   "name": "python3"
  },
  "language_info": {
   "codemirror_mode": {
    "name": "ipython",
    "version": 3
   },
   "file_extension": ".py",
   "mimetype": "text/x-python",
   "name": "python",
   "nbconvert_exporter": "python",
   "pygments_lexer": "ipython3",
   "version": "3.8.5"
  }
 },
 "nbformat": 4,
 "nbformat_minor": 4
}
