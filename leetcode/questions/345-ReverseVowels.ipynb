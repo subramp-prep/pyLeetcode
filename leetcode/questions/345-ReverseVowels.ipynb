{
 "cells": [
  {
   "cell_type": "markdown",
   "metadata": {},
   "source": [
    "Write a function that takes a string as input and reverse only the vowels of a string.\n",
    "\n",
    "Example 1:\n",
    "```\n",
    "Input: \"hello\"\n",
    "Output: \"holle\"\n",
    "```\n",
    "\n",
    "Example 2:\n",
    "```\n",
    "Input: \"leetcode\"\n",
    "Output: \"leotcede\"\n",
    "```\n",
    "Note:\n",
    "The vowels does not include the letter \"y\"."
   ]
  },
  {
   "cell_type": "code",
   "execution_count": null,
   "metadata": {},
   "outputs": [],
   "source": [
    "def reverseVowels(s):\n",
    "    result = ''\n",
    "    \n",
    "    if len(s) <= 0:\n",
    "        return result\n",
    "    \n",
    "    vowels = ['a', 'e', 'i', 'o', 'u']\n",
    "    foundVowels = []\n",
    "    \n",
    "    for c in s:\n",
    "        if c.lower() in vowels:\n",
    "            foundVowels.append(c)\n",
    "            \n",
    "    for c in s:\n",
    "        if c.lower() in vowels:\n",
    "            result = result + foundVowels.pop()\n",
    "        else:\n",
    "            result = result + c\n",
    "            \n",
    "    return result"
   ]
  },
  {
   "cell_type": "code",
   "execution_count": null,
   "metadata": {},
   "outputs": [],
   "source": [
    "print(reverseVowels('hello'))"
   ]
  },
  {
   "cell_type": "code",
   "execution_count": null,
   "metadata": {},
   "outputs": [],
   "source": [
    "print(reverseVowels('leetcode'))"
   ]
  },
  {
   "cell_type": "code",
   "execution_count": null,
   "metadata": {},
   "outputs": [],
   "source": [
    "print(reverseVowels('Aa'))"
   ]
  },
  {
   "cell_type": "code",
   "execution_count": null,
   "metadata": {},
   "outputs": [],
   "source": [
    "s = 'hello'\n",
    "print(list(s))"
   ]
  },
  {
   "cell_type": "markdown",
   "metadata": {},
   "source": [
    "## Optimized version"
   ]
  },
  {
   "cell_type": "code",
   "execution_count": null,
   "metadata": {},
   "outputs": [],
   "source": [
    "def reverseVowelsOptimized(s):\n",
    "    result = ''\n",
    "    if len(s) <= 0:\n",
    "        return result\n",
    "    \n",
    "    chars = list(s)\n",
    "    l, h = 0, len(s)-1\n",
    "    vowels = ['a', 'e', 'i', 'o', 'u', 'A', 'E', 'I', 'O', 'U']\n",
    "    \n",
    "    while l < h:\n",
    "        if chars[l] not in vowels:\n",
    "            l = l + 1\n",
    "        elif chars[h] not in vowels:\n",
    "            h = h - 1\n",
    "        elif chars[l] in vowels and chars[h] in vowels:\n",
    "            chars[l], chars[h] = chars[h], chars[l]\n",
    "            l += 1\n",
    "            h -= 1\n",
    "    \n",
    "    return \"\".join(chars)"
   ]
  },
  {
   "cell_type": "code",
   "execution_count": null,
   "metadata": {},
   "outputs": [],
   "source": [
    "print(reverseVowelsOptimized('hello'))"
   ]
  },
  {
   "cell_type": "code",
   "execution_count": null,
   "metadata": {},
   "outputs": [],
   "source": [
    "def reverseVowelsOptimizedAgain(s):\n",
    "    result = ''\n",
    "    if len(s) <= 0:\n",
    "        return result\n",
    "    \n",
    "    chars = list(s)\n",
    "    l, h = 0, len(s)-1\n",
    "    vowels = ['a', 'e', 'i', 'o', 'u', 'A', 'E', 'I', 'O', 'U']\n",
    "    \n",
    "    while l <= h:\n",
    "        while l <= h and chars[l] not in vowels: l = l + 1\n",
    "        while l <= h and chars[h] not in vowels: h = h - 1\n",
    "        \n",
    "        if l > h: break\n",
    "        \n",
    "        if chars[l] in vowels and chars[h] in vowels:\n",
    "            chars[l], chars[h] = chars[h], chars[l]\n",
    "            l += 1\n",
    "            h -= 1\n",
    "    \n",
    "    return \"\".join(chars)"
   ]
  },
  {
   "cell_type": "code",
   "execution_count": null,
   "metadata": {},
   "outputs": [],
   "source": [
    "print(reverseVowelsOptimizedAgain('hello'))"
   ]
  },
  {
   "cell_type": "code",
   "execution_count": null,
   "metadata": {},
   "outputs": [],
   "source": [
    "print(reverseVowelsOptimizedAgain(''))"
   ]
  },
  {
   "cell_type": "code",
   "execution_count": null,
   "metadata": {},
   "outputs": [],
   "source": []
  }
 ],
 "metadata": {
  "kernelspec": {
   "display_name": "Python 3",
   "language": "python",
   "name": "python3"
  },
  "language_info": {
   "codemirror_mode": {
    "name": "ipython",
    "version": 3
   },
   "file_extension": ".py",
   "mimetype": "text/x-python",
   "name": "python",
   "nbconvert_exporter": "python",
   "pygments_lexer": "ipython3",
   "version": "3.7.0"
  }
 },
 "nbformat": 4,
 "nbformat_minor": 2
}
