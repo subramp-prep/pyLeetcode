{
 "cells": [
  {
   "cell_type": "markdown",
   "metadata": {},
   "source": [
    "## Q274. H-Index\n",
    "\n",
    "Given an array of citations (each citation is a non-negative integer) of a researcher, write a function to compute the researcher's h-index.\n",
    "\n",
    "According to the definition of h-index on Wikipedia: \"A scientist has index h if h of his/her N papers have at least h citations each, and the other N − h papers have no more than h citations each.\"\n",
    "\n",
    "Example:\n",
    "```\n",
    "Input: citations = [3,0,6,1,5]\n",
    "Output: 3 \n",
    "```\n",
    "Explanation: [3,0,6,1,5] means the researcher has 5 papers in total and each of them had \n",
    "             received 3, 0, 6, 1, 5 citations respectively. \n",
    "             Since the researcher has 3 papers with at least 3 citations each and the remaining \n",
    "             two with no more than 3 citations each, her h-index is 3.\n",
    "Note: If there are several possible values for h, the maximum one is taken as the h-index."
   ]
  },
  {
   "cell_type": "markdown",
   "metadata": {},
   "source": [
    "## Mine"
   ]
  },
  {
   "cell_type": "code",
   "execution_count": 1,
   "metadata": {},
   "outputs": [],
   "source": [
    "def hIndex(citations):\n",
    "    citations.sort(key=lambda x:x, reverse=True)\n",
    "\n",
    "    result = float('-inf')\n",
    "    final = 0\n",
    "    for i, v in enumerate(citations):\n",
    "        temp = min(i+1, v)\n",
    "        result = max(result, temp)\n",
    "\n",
    "        if result == i+1:\n",
    "            final = i+1\n",
    "\n",
    "    return final"
   ]
  },
  {
   "cell_type": "code",
   "execution_count": 2,
   "metadata": {},
   "outputs": [
    {
     "name": "stdout",
     "output_type": "stream",
     "text": [
      "3\n"
     ]
    }
   ],
   "source": [
    "print(hIndex([3,0,6,1,5]))"
   ]
  },
  {
   "cell_type": "markdown",
   "metadata": {},
   "source": [
    "## Optimal O(n)"
   ]
  },
  {
   "cell_type": "code",
   "execution_count": 3,
   "metadata": {},
   "outputs": [],
   "source": [
    "def hIndex(citations):\n",
    "    length = len(citations)\n",
    "    count = [0]*(length+1)\n",
    "\n",
    "    for c in citations:\n",
    "        if c >= length:\n",
    "            count[length] += 1\n",
    "\n",
    "        else:\n",
    "            count[c] += 1\n",
    "\n",
    "    index = length - 1\n",
    "\n",
    "    while index >= 0:\n",
    "        count[index] += count[index+1]\n",
    "\n",
    "        if count[index+1]  >= index+1:\n",
    "            return index+1\n",
    "\n",
    "        index -= 1\n",
    "\n",
    "    return 0"
   ]
  }
 ],
 "metadata": {
  "kernelspec": {
   "display_name": "Python 3",
   "language": "python",
   "name": "python3"
  },
  "language_info": {
   "codemirror_mode": {
    "name": "ipython",
    "version": 3
   },
   "file_extension": ".py",
   "mimetype": "text/x-python",
   "name": "python",
   "nbconvert_exporter": "python",
   "pygments_lexer": "ipython3",
   "version": "3.7.6"
  }
 },
 "nbformat": 4,
 "nbformat_minor": 4
}
