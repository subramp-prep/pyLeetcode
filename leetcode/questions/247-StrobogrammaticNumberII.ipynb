{
 "cells": [
  {
   "cell_type": "markdown",
   "metadata": {},
   "source": [
    "## 247. Strobogrammatic Number II\n",
    "\n",
    "A strobogrammatic number is a number that looks the same when rotated 180 degrees (looked at upside down).\n",
    "\n",
    "Find all strobogrammatic numbers that are of length = n.\n",
    "\n",
    "Example:\n",
    "```\n",
    "Input:  n = 2\n",
    "Output: [\"11\",\"69\",\"88\",\"96\"]\n",
    "```"
   ]
  },
  {
   "cell_type": "markdown",
   "metadata": {},
   "source": [
    "## Brute Force"
   ]
  },
  {
   "cell_type": "code",
   "execution_count": 3,
   "metadata": {},
   "outputs": [],
   "source": [
    "def strobogrammaticList(n):\n",
    "\n",
    "    maps = {\n",
    "        '0' : '0',\n",
    "        '1' : '1',\n",
    "        '6' : '9',\n",
    "        '8' : '8',\n",
    "        '9' : '6'\n",
    "    }\n",
    "\n",
    "    output = []\n",
    "\n",
    "    def isStrobo(num):\n",
    "\n",
    "        strobo = ''\n",
    "        for c in num:\n",
    "            if c not in maps:\n",
    "                return False\n",
    "\n",
    "            strobo = maps[c] + strobo\n",
    "\n",
    "        return num == strobo\n",
    "\n",
    "    def helper(chosen):\n",
    "        if len(chosen) == n and isStrobo(chosen):\n",
    "            output.append(chosen)\n",
    "\n",
    "        elif len(chosen) > n:\n",
    "            return \n",
    "\n",
    "        else:\n",
    "            for c in maps:\n",
    "\n",
    "                helper(chosen + maps[c])\n",
    "\n",
    "    helper('')\n",
    "    return output"
   ]
  },
  {
   "cell_type": "markdown",
   "metadata": {},
   "source": [
    "## Above solution failed due to TLE"
   ]
  },
  {
   "cell_type": "markdown",
   "metadata": {},
   "source": [
    "## Optimal solution"
   ]
  },
  {
   "cell_type": "code",
   "execution_count": 4,
   "metadata": {},
   "outputs": [],
   "source": [
    "def strobo(n):\n",
    "    ones = [\"1\",\"8\", \"0\"]\n",
    "    twos = [\"11\", \"69\", \"96\", \"88\", \"00\"]\n",
    "    \n",
    "    if n == 1:\n",
    "        return ones\n",
    "    elif n == 2:\n",
    "        return twos[:-1]\n",
    "    \n",
    "    # next connect ones with twos and reverse\n",
    "    elif n%2:\n",
    "        pre, known = strobo(n-1), ones\n",
    "    else:\n",
    "        pre, known = strobo(n-2), twos\n",
    "    \n",
    "    premid = (n-1)//2\n",
    "    \n",
    "    output = []\n",
    "    for p in pre:\n",
    "        for k in known:\n",
    "            output.append(p[:premid] + k + p[premid:])\n",
    "            \n",
    "    return output"
   ]
  },
  {
   "cell_type": "code",
   "execution_count": 5,
   "metadata": {},
   "outputs": [
    {
     "name": "stdout",
     "output_type": "stream",
     "text": [
      "['11', '69', '96', '88']\n"
     ]
    }
   ],
   "source": [
    "print(strobo(2))"
   ]
  },
  {
   "cell_type": "code",
   "execution_count": 6,
   "metadata": {},
   "outputs": [
    {
     "name": "stdout",
     "output_type": "stream",
     "text": [
      "['111', '181', '101', '619', '689', '609', '916', '986', '906', '818', '888', '808']\n"
     ]
    }
   ],
   "source": [
    "print(strobo(3))"
   ]
  },
  {
   "cell_type": "code",
   "execution_count": 7,
   "metadata": {},
   "outputs": [
    {
     "name": "stdout",
     "output_type": "stream",
     "text": [
      "['1111', '1691', '1961', '1881', '1001', '6119', '6699', '6969', '6889', '6009', '9116', '9696', '9966', '9886', '9006', '8118', '8698', '8968', '8888', '8008']\n"
     ]
    }
   ],
   "source": [
    "print(strobo(4))"
   ]
  },
  {
   "cell_type": "markdown",
   "metadata": {},
   "source": [
    "Learned from\n",
    "\n",
    "https://leetcode.com/problems/strobogrammatic-number-ii/discuss/67275/Python-recursive-solution-need-some-observation-so-far-97"
   ]
  }
 ],
 "metadata": {
  "kernelspec": {
   "display_name": "Python 3",
   "language": "python",
   "name": "python3"
  },
  "language_info": {
   "codemirror_mode": {
    "name": "ipython",
    "version": 3
   },
   "file_extension": ".py",
   "mimetype": "text/x-python",
   "name": "python",
   "nbconvert_exporter": "python",
   "pygments_lexer": "ipython3",
   "version": "3.8.5"
  }
 },
 "nbformat": 4,
 "nbformat_minor": 4
}
