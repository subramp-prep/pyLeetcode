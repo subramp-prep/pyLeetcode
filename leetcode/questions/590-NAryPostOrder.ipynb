{
 "cells": [
  {
   "cell_type": "markdown",
   "metadata": {},
   "source": [
    "## 590 - N-ary Tree Postorder Traversal\n",
    "\n",
    "Given an n-ary tree, return the postorder traversal of its nodes' values.\n",
    "\n",
    "For example, given a 3-ary tree:\n",
    "\n",
    "![nAry](img/narytreeexample.png)\n",
    "\n",
    "Return its postorder traversal as: [5,6,3,2,4,1].\n",
    "\n",
    " \n",
    "Note:\n",
    "\n",
    "Recursive solution is trivial, could you do it iteratively?"
   ]
  },
  {
   "cell_type": "code",
   "execution_count": 30,
   "metadata": {},
   "outputs": [],
   "source": [
    "class NAry:\n",
    "    def __init__(self, val, children=None):\n",
    "        self.val = val\n",
    "        self.children = children"
   ]
  },
  {
   "cell_type": "markdown",
   "metadata": {},
   "source": [
    "## Recursive"
   ]
  },
  {
   "cell_type": "code",
   "execution_count": 31,
   "metadata": {},
   "outputs": [],
   "source": [
    "def postOrder(root):\n",
    "    \n",
    "    result = []\n",
    "    def helper(head):\n",
    "        if head:\n",
    "            if head.children:\n",
    "                for c in head.children:\n",
    "                    helper(c)\n",
    "            \n",
    "            result.append(head.val)\n",
    "    \n",
    "    helper(root)\n",
    "    return result"
   ]
  },
  {
   "cell_type": "markdown",
   "metadata": {},
   "source": [
    "## Iterative"
   ]
  },
  {
   "cell_type": "code",
   "execution_count": 32,
   "metadata": {},
   "outputs": [],
   "source": [
    "def postOrder_Iterative(root):\n",
    "\n",
    "    stack = [root]\n",
    "    result = []\n",
    "\n",
    "    while len(stack) > 0:\n",
    "        recent = stack.pop()\n",
    "\n",
    "        #print(recent.val, end=' ')\n",
    "        result.append(recent.val)\n",
    "\n",
    "        if recent.children:\n",
    "            for c in recent.children:\n",
    "                stack.append(c)\n",
    "    \n",
    "    return result[::-1]"
   ]
  },
  {
   "cell_type": "code",
   "execution_count": 33,
   "metadata": {},
   "outputs": [],
   "source": [
    "root = NAry(1, [NAry(3, [NAry(5), NAry(6)]), NAry(2), NAry(4)])"
   ]
  },
  {
   "cell_type": "code",
   "execution_count": 34,
   "metadata": {},
   "outputs": [
    {
     "name": "stdout",
     "output_type": "stream",
     "text": [
      "[5, 6, 3, 2, 4, 1]\n"
     ]
    }
   ],
   "source": [
    "print(postOrder(root))"
   ]
  },
  {
   "cell_type": "code",
   "execution_count": 35,
   "metadata": {},
   "outputs": [
    {
     "name": "stdout",
     "output_type": "stream",
     "text": [
      "[5, 6, 3, 2, 4, 1]\n"
     ]
    }
   ],
   "source": [
    "print(postOrder_Iterative(root))"
   ]
  }
 ],
 "metadata": {
  "kernelspec": {
   "display_name": "Python 3",
   "language": "python",
   "name": "python3"
  },
  "language_info": {
   "codemirror_mode": {
    "name": "ipython",
    "version": 3
   },
   "file_extension": ".py",
   "mimetype": "text/x-python",
   "name": "python",
   "nbconvert_exporter": "python",
   "pygments_lexer": "ipython3",
   "version": "3.7.1"
  }
 },
 "nbformat": 4,
 "nbformat_minor": 2
}
