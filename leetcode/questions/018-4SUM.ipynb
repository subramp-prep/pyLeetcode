{
 "cells": [
  {
   "cell_type": "markdown",
   "metadata": {},
   "source": [
    "Given an array nums of n integers and an integer target, are there elements a, b, c, and d in nums such that a + b + c + d = target? Find all unique quadruplets in the array which gives the sum of target.\n",
    "\n",
    "Note:\n",
    "\n",
    "The solution set must not contain duplicate quadruplets.\n",
    "\n",
    "Example:\n",
    "\n",
    "Given array nums = [1, 0, -1, 0, -2, 2], and target = 0.\n",
    "```\n",
    "A solution set is:\n",
    "[\n",
    "  [-1,  0, 0, 1],\n",
    "  [-2, -1, 1, 2],\n",
    "  [-2,  0, 0, 2]\n",
    "]\n",
    "```"
   ]
  },
  {
   "cell_type": "code",
   "execution_count": null,
   "metadata": {},
   "outputs": [],
   "source": [
    "#TODO"
   ]
  }
 ],
 "metadata": {
  "kernelspec": {
   "display_name": "Python 3",
   "language": "python",
   "name": "python3"
  },
  "language_info": {
   "codemirror_mode": {
    "name": "ipython",
    "version": 3
   },
   "file_extension": ".py",
   "mimetype": "text/x-python",
   "name": "python",
   "nbconvert_exporter": "python",
   "pygments_lexer": "ipython3",
   "version": "3.7.1"
  }
 },
 "nbformat": 4,
 "nbformat_minor": 2
}
