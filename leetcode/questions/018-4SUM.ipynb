{
 "cells": [
  {
   "cell_type": "markdown",
   "metadata": {},
   "source": [
    "Given an array nums of n integers and an integer target, are there elements a, b, c, and d in nums such that a + b + c + d = target? Find all unique quadruplets in the array which gives the sum of target.\n",
    "\n",
    "Note:\n",
    "\n",
    "The solution set must not contain duplicate quadruplets.\n",
    "\n",
    "Example:\n",
    "\n",
    "Given array nums = [1, 0, -1, 0, -2, 2], and target = 0.\n",
    "```\n",
    "A solution set is:\n",
    "[\n",
    "  [-1,  0, 0, 1],\n",
    "  [-2, -1, 1, 2],\n",
    "  [-2,  0, 0, 2]\n",
    "]\n",
    "```"
   ]
  },
  {
   "cell_type": "code",
   "execution_count": 1,
   "metadata": {},
   "outputs": [],
   "source": [
    "#TODO: handle large datasets\n",
    "\n",
    "def quadTuples(nums, total):\n",
    "    nums = sorted(nums)\n",
    "    result = []\n",
    "    used = [False for _ in range(len(nums))]\n",
    "\n",
    "    def helper(chosen, index):\n",
    "        if len(chosen) == 4 and sum(chosen) == total:\n",
    "            result.append(chosen[::])\n",
    "        elif len(chosen) > 4:\n",
    "            return\n",
    "        else:\n",
    "            for i in range(index, len(nums)):\n",
    "\n",
    "                if used[i] or i > 0 and nums[i] == nums[i-1] and used[i-1] == False:\n",
    "                    continue\n",
    "\n",
    "                used[i] = True\n",
    "                chosen.append(nums[i])\n",
    "\n",
    "                helper(chosen, i + 1)\n",
    "\n",
    "                chosen.pop()\n",
    "                used[i] = False\n",
    "    \n",
    "    helper([], 0)\n",
    "    return result"
   ]
  },
  {
   "cell_type": "code",
   "execution_count": 2,
   "metadata": {},
   "outputs": [
    {
     "name": "stdout",
     "output_type": "stream",
     "text": [
      "[[-3, -2, 2, 3], [-3, -1, 1, 3], [-3, 0, 0, 3], [-3, 0, 1, 2], [-2, -1, 0, 3], [-2, -1, 1, 2], [-2, 0, 0, 2], [-1, 0, 0, 1]]\n"
     ]
    }
   ],
   "source": [
    "print(quadTuples([-3, -2, -1, 0, 0, 1, 2, 3], 0))"
   ]
  },
  {
   "cell_type": "code",
   "execution_count": 3,
   "metadata": {},
   "outputs": [
    {
     "name": "stdout",
     "output_type": "stream",
     "text": [
      "[[-4, 0, 1, 2], [-1, -1, 0, 1]]\n"
     ]
    }
   ],
   "source": [
    "print(quadTuples([-1, 0, 1, 2, -1, -4], -1))"
   ]
  },
  {
   "cell_type": "code",
   "execution_count": 4,
   "metadata": {},
   "outputs": [
    {
     "name": "stdout",
     "output_type": "stream",
     "text": [
      "[[-2, -1, 1, 2], [-2, 0, 0, 2], [-1, 0, 0, 1]]\n"
     ]
    }
   ],
   "source": [
    "print(quadTuples([1, 0, -1, 0, -2, 2], 0))"
   ]
  },
  {
   "cell_type": "code",
   "execution_count": 5,
   "metadata": {},
   "outputs": [
    {
     "name": "stdout",
     "output_type": "stream",
     "text": [
      "[[0, 4, 7, 9], [1, 3, 7, 9], [2, 4, 5, 9]]\n"
     ]
    }
   ],
   "source": [
    "print(quadTuples([2,7,4,0,9,5,1,3], 20))"
   ]
  },
  {
   "cell_type": "code",
   "execution_count": null,
   "metadata": {},
   "outputs": [],
   "source": []
  }
 ],
 "metadata": {
  "kernelspec": {
   "display_name": "Python 3",
   "language": "python",
   "name": "python3"
  },
  "language_info": {
   "codemirror_mode": {
    "name": "ipython",
    "version": 3
   },
   "file_extension": ".py",
   "mimetype": "text/x-python",
   "name": "python",
   "nbconvert_exporter": "python",
   "pygments_lexer": "ipython3",
   "version": "3.7.1"
  }
 },
 "nbformat": 4,
 "nbformat_minor": 2
}
