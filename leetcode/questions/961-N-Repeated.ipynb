{
 "cells": [
  {
   "cell_type": "markdown",
   "metadata": {},
   "source": [
    "In a array A of size 2N, there are N+1 unique elements, and exactly one of these elements is repeated N times.\n",
    "\n",
    "Return the element repeated N times.\n",
    "\n",
    " \n",
    "\n",
    "Example 1:\n",
    "```\n",
    "Input: [1,2,3,3]\n",
    "Output: 3\n",
    "```\n",
    "Example 2:\n",
    "```\n",
    "Input: [2,1,2,5,3,2]\n",
    "Output: 2\n",
    "```\n",
    "Example 3:\n",
    "```\n",
    "Input: [5,1,5,2,5,3,5,4]\n",
    "Output: 5\n",
    "```\n",
    "\n",
    "Note:\n",
    "\n",
    "4 <= A.length <= 10000\n",
    "0 <= A[i] < 10000\n",
    "A.length is even"
   ]
  },
  {
   "cell_type": "code",
   "execution_count": 1,
   "metadata": {},
   "outputs": [],
   "source": [
    "def nRepeated(nums):\n",
    "    nums = sorted(nums)\n",
    "    \n",
    "    for i in range(len(nums)-1):\n",
    "        if nums[i] == nums[i+1]:\n",
    "            return nums[i]\n",
    "        \n",
    "    return None"
   ]
  },
  {
   "cell_type": "code",
   "execution_count": 2,
   "metadata": {},
   "outputs": [
    {
     "name": "stdout",
     "output_type": "stream",
     "text": [
      "2\n"
     ]
    }
   ],
   "source": [
    "print(nRepeated([2,1,2,5,3,2]))"
   ]
  },
  {
   "cell_type": "code",
   "execution_count": 3,
   "metadata": {},
   "outputs": [
    {
     "name": "stdout",
     "output_type": "stream",
     "text": [
      "5\n"
     ]
    }
   ],
   "source": [
    "print(nRepeated([5,1,5,2,5,3,5,4]))"
   ]
  },
  {
   "cell_type": "code",
   "execution_count": 7,
   "metadata": {},
   "outputs": [
    {
     "name": "stdout",
     "output_type": "stream",
     "text": [
      "3\n"
     ]
    }
   ],
   "source": [
    "print(nRepeated_optimum([1,2,3,3]))"
   ]
  },
  {
   "cell_type": "code",
   "execution_count": 6,
   "metadata": {},
   "outputs": [],
   "source": [
    "def nRepeated_optimum(nums):\n",
    "    unique = set()\n",
    "    \n",
    "    for i in range(len(nums)):\n",
    "        if nums[i] in unique:\n",
    "            return nums[i]\n",
    "        \n",
    "        unique.add(nums[i])\n",
    "        \n",
    "    return None"
   ]
  },
  {
   "cell_type": "code",
   "execution_count": null,
   "metadata": {},
   "outputs": [],
   "source": []
  }
 ],
 "metadata": {
  "kernelspec": {
   "display_name": "Python 3",
   "language": "python",
   "name": "python3"
  },
  "language_info": {
   "codemirror_mode": {
    "name": "ipython",
    "version": 3
   },
   "file_extension": ".py",
   "mimetype": "text/x-python",
   "name": "python",
   "nbconvert_exporter": "python",
   "pygments_lexer": "ipython3",
   "version": "3.7.1"
  }
 },
 "nbformat": 4,
 "nbformat_minor": 2
}
