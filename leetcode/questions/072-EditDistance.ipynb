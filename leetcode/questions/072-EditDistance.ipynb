{
 "cells": [
  {
   "cell_type": "markdown",
   "metadata": {},
   "source": [
    "## 72. Edit Distance\n",
    "\n",
    "Given two words word1 and word2, find the minimum number of operations required to convert word1 to word2.\n",
    "\n",
    "You have the following 3 operations permitted on a word:\n",
    "\n",
    "Insert a character\n",
    "Delete a character\n",
    "Replace a character\n",
    "Example 1:\n",
    "```\n",
    "Input: word1 = \"horse\", word2 = \"ros\"\n",
    "Output: 3\n",
    "```\n",
    "Explanation: \n",
    "horse -> rorse (replace 'h' with 'r')\n",
    "rorse -> rose (remove 'r')\n",
    "rose -> ros (remove 'e')\n",
    "Example 2:\n",
    "```\n",
    "Input: word1 = \"intention\", word2 = \"execution\"\n",
    "Output: 5\n",
    "```\n",
    "Explanation: \n",
    "```\n",
    "intention -> inention (remove 't')\n",
    "inention -> enention (replace 'i' with 'e')\n",
    "enention -> exention (replace 'n' with 'x')\n",
    "exention -> exection (replace 'n' with 'c')\n",
    "exection -> execution (insert 'u')\n",
    "```"
   ]
  },
  {
   "cell_type": "code",
   "execution_count": 12,
   "metadata": {},
   "outputs": [],
   "source": [
    "def editDistance(word1, word2):\n",
    "    \n",
    "    def helper(w1, w2, maps):\n",
    "        if w1 == 0:\n",
    "            return w2\n",
    "        \n",
    "        if w2 == 0:\n",
    "            return w1\n",
    "        \n",
    "        combo = str(w1) + '|' + str(w2)\n",
    "        if combo not in maps:\n",
    "            \n",
    "            cost = 0            \n",
    "            if word1[w1-1] != word2[w2-1]:\n",
    "                cost = 1\n",
    "                \n",
    "            maps[combo] = min(min(helper(w1-1, w2, maps)+1, \\\n",
    "                                     helper(w1, w2-1, maps)+1),\\\n",
    "                                 helper(w1-1, w2-1, maps) + cost)\n",
    "            \n",
    "        return maps[combo]\n",
    "            \n",
    "    return helper(len(word1), len(word2), {})"
   ]
  },
  {
   "cell_type": "code",
   "execution_count": 13,
   "metadata": {},
   "outputs": [
    {
     "name": "stdout",
     "output_type": "stream",
     "text": [
      "3\n"
     ]
    }
   ],
   "source": [
    "print(editDistance('horse', 'ros'))"
   ]
  },
  {
   "cell_type": "code",
   "execution_count": 14,
   "metadata": {},
   "outputs": [
    {
     "name": "stdout",
     "output_type": "stream",
     "text": [
      "5\n"
     ]
    }
   ],
   "source": [
    "print(editDistance(\"intention\", \"execution\"))"
   ]
  }
 ],
 "metadata": {
  "kernelspec": {
   "display_name": "Python 3",
   "language": "python",
   "name": "python3"
  },
  "language_info": {
   "codemirror_mode": {
    "name": "ipython",
    "version": 3
   },
   "file_extension": ".py",
   "mimetype": "text/x-python",
   "name": "python",
   "nbconvert_exporter": "python",
   "pygments_lexer": "ipython3",
   "version": "3.7.6"
  }
 },
 "nbformat": 4,
 "nbformat_minor": 4
}
