{
 "cells": [
  {
   "cell_type": "markdown",
   "metadata": {},
   "source": [
    "## 426 BST to Circular double-LinkedList\n",
    "\n",
    "Convert a BST to a sorted circular doubly-linked list in-place. Think of the left and right pointers as synonymous to the previous and next pointers in a doubly-linked list.\n",
    "\n",
    "Let's take the following BST as an example, it may help you understand the problem better:\n",
    "\n",
    " \n",
    "![axisBT](img/426-01.png )\n",
    "\n",
    " \n",
    "We want to transform this BST into a circular doubly linked list. Each node in a doubly linked list has a predecessor and successor. For a circular doubly linked list, the predecessor of the first element is the last element, and the successor of the last element is the first element.\n",
    "\n",
    "The figure below shows the circular doubly linked list for the BST above. The \"head\" symbol means the node it points to is the smallest element of the linked list.\n",
    "\n",
    " \n",
    "![axisBT](img/426-02.png )\n",
    "\n",
    " \n",
    "Specifically, we want to do the transformation in place. After the transformation, the left pointer of the tree node should point to its predecessor, and the right pointer should point to its successor. We should return the pointer to the first element of the linked list.\n",
    "\n",
    "The figure below shows the transformed BST. The solid line indicates the successor relationship, while the dashed line means the predecessor relationship.\n",
    "\n",
    "![axisBT](img/426-03.png )"
   ]
  },
  {
   "cell_type": "code",
   "execution_count": null,
   "metadata": {},
   "outputs": [],
   "source": []
  }
 ],
 "metadata": {
  "kernelspec": {
   "display_name": "Python 3",
   "language": "python",
   "name": "python3"
  },
  "language_info": {
   "codemirror_mode": {
    "name": "ipython",
    "version": 3
   },
   "file_extension": ".py",
   "mimetype": "text/x-python",
   "name": "python",
   "nbconvert_exporter": "python",
   "pygments_lexer": "ipython3",
   "version": "3.7.4"
  }
 },
 "nbformat": 4,
 "nbformat_minor": 2
}
