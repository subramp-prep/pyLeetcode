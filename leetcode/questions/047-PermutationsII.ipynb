{
 "cells": [
  {
   "cell_type": "markdown",
   "metadata": {},
   "source": [
    "Given a collection of numbers that might contain duplicates, return all possible unique permutations.\n",
    "\n",
    "Example:\n",
    "\n",
    "Input: [1,1,2]\n",
    "Output:\n",
    "```\n",
    "[\n",
    "  [1,1,2],\n",
    "  [1,2,1],\n",
    "  [2,1,1]\n",
    "]\n",
    "```"
   ]
  },
  {
   "cell_type": "code",
   "execution_count": null,
   "metadata": {},
   "outputs": [],
   "source": [
    "def permuteUnique(nums):\n",
    "    \"\"\"\n",
    "    :type nums: List[int]\n",
    "    :rtype: List[List[int]]\n",
    "    \"\"\"\n",
    "    nums = sorted(nums)\n",
    "    used, output = [], []\n",
    "    for i in range(len(nums)):\n",
    "        used.append(False)\n",
    "\n",
    "    def helper(chosen, used):\n",
    "        if len(chosen) == len(nums):\n",
    "            output.append(chosen.copy())\n",
    "        else:\n",
    "            for i in range(len(nums)):\n",
    "                if used[i] or i > 0 and nums[i] == nums[i-1] and used[i-1] == False:\n",
    "                    continue\n",
    "\n",
    "                used[i] = True\n",
    "                chosen.append(nums[i])\n",
    "\n",
    "                helper(chosen, used)\n",
    "\n",
    "                chosen.pop()\n",
    "                used[i] = False\n",
    "\n",
    "    helper([], used)\n",
    "\n",
    "    return output"
   ]
  },
  {
   "cell_type": "code",
   "execution_count": null,
   "metadata": {},
   "outputs": [],
   "source": [
    "print(permuteUnique([1,2,1]))"
   ]
  }
 ],
 "metadata": {
  "kernelspec": {
   "display_name": "Python 3",
   "language": "python",
   "name": "python3"
  },
  "language_info": {
   "codemirror_mode": {
    "name": "ipython",
    "version": 3
   },
   "file_extension": ".py",
   "mimetype": "text/x-python",
   "name": "python",
   "nbconvert_exporter": "python",
   "pygments_lexer": "ipython3",
   "version": "3.7.0"
  }
 },
 "nbformat": 4,
 "nbformat_minor": 2
}
