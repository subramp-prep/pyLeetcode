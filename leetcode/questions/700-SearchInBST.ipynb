{
 "cells": [
  {
   "cell_type": "markdown",
   "metadata": {},
   "source": [
    "## 700 Search In BST\n",
    "\n",
    "Given the root node of a binary search tree (BST) and a value. You need to find the node in the BST that the node's value equals the given value. Return the subtree rooted with that node. If such node doesn't exist, you should return NULL.\n",
    "\n",
    "For example, \n",
    "\n",
    "Given the tree:\n",
    "```\n",
    "        4\n",
    "       / \\\n",
    "      2   7\n",
    "     / \\\n",
    "    1   3\n",
    "```\n",
    "And the value to search: 2\n",
    "You should return this subtree:\n",
    "```\n",
    "      2     \n",
    "     / \\   \n",
    "    1   3\n",
    "```\n",
    "In the example above, if we want to search the value 5, since there is no node with value 5, we should return NULL.\n",
    "\n",
    "Note that an empty tree is represented by NULL, therefore you would see the expected output (serialized tree format) as [], not null."
   ]
  },
  {
   "cell_type": "code",
   "execution_count": 2,
   "metadata": {},
   "outputs": [],
   "source": [
    "class TreeNode:\n",
    "    def __init__(self, val, left=None, right=None):\n",
    "        self.val = val\n",
    "        self.left = left\n",
    "        self.right = right\n",
    "\n",
    "def searchBST(root, val):\n",
    "    while root:\n",
    "        if root.val == val:\n",
    "            return root\n",
    "\n",
    "        if root.val < val:\n",
    "            root = root.right\n",
    "\n",
    "        else:\n",
    "            root = root.left\n",
    "\n",
    "    return None\n",
    "\n",
    "def treeLevelOrder(root):\n",
    "    output=[]\n",
    "    \n",
    "    def helper(head, level):\n",
    "        if head:\n",
    "            if level+1 > len(output):\n",
    "                output.append([])\n",
    "                \n",
    "            output[level].append(head.val)\n",
    "                \n",
    "            helper(head.left, level+1)\n",
    "            helper(head.right, level+1)\n",
    "            \n",
    "    helper(root, 0)\n",
    "    return output"
   ]
  },
  {
   "cell_type": "code",
   "execution_count": 3,
   "metadata": {},
   "outputs": [
    {
     "name": "stdout",
     "output_type": "stream",
     "text": [
      "[[2], [1, 3]]\n"
     ]
    }
   ],
   "source": [
    "root = TreeNode(4, TreeNode(2, TreeNode(1), TreeNode(3)), TreeNode(7))\n",
    "print(treeLevelOrder(searchBST(root, 2)))"
   ]
  }
 ],
 "metadata": {
  "kernelspec": {
   "display_name": "Python 3",
   "language": "python",
   "name": "python3"
  },
  "language_info": {
   "codemirror_mode": {
    "name": "ipython",
    "version": 3
   },
   "file_extension": ".py",
   "mimetype": "text/x-python",
   "name": "python",
   "nbconvert_exporter": "python",
   "pygments_lexer": "ipython3",
   "version": "3.7.6"
  }
 },
 "nbformat": 4,
 "nbformat_minor": 4
}
