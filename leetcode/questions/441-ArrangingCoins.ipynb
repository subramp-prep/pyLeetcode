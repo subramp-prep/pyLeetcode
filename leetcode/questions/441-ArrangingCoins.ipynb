{
 "cells": [
  {
   "cell_type": "markdown",
   "metadata": {},
   "source": [
    "## Q441. Arranging Coins\n",
    "\n",
    "You have a total of n coins that you want to form in a staircase shape, where every k-th row must have exactly k coins.\n",
    "\n",
    "Given n, find the total number of full staircase rows that can be formed.\n",
    "\n",
    "n is a non-negative integer and fits within the range of a 32-bit signed integer.\n",
    "\n",
    "Example 1:\n",
    "```\n",
    "n = 5\n",
    "\n",
    "The coins can form the following rows:\n",
    "¤\n",
    "¤ ¤\n",
    "¤ ¤\n",
    "```\n",
    "Because the 3rd row is incomplete, we return 2.\n",
    "Example 2:\n",
    "```\n",
    "n = 8\n",
    "\n",
    "The coins can form the following rows:\n",
    "¤\n",
    "¤ ¤\n",
    "¤ ¤ ¤\n",
    "¤ ¤\n",
    "```\n",
    "Because the 4th row is incomplete, we return 3."
   ]
  },
  {
   "cell_type": "code",
   "execution_count": 1,
   "metadata": {},
   "outputs": [],
   "source": [
    "def arrangeCoins(n):\n",
    "\n",
    "    total = 0\n",
    "\n",
    "    for i in range(1, n+1):\n",
    "        total += i\n",
    "\n",
    "        if total > n:\n",
    "            return i-1\n",
    "\n",
    "    return n"
   ]
  },
  {
   "cell_type": "code",
   "execution_count": 2,
   "metadata": {},
   "outputs": [
    {
     "name": "stdout",
     "output_type": "stream",
     "text": [
      "2\n"
     ]
    }
   ],
   "source": [
    "print(arrangeCoins(5))"
   ]
  },
  {
   "cell_type": "markdown",
   "metadata": {},
   "source": [
    "## Optimal"
   ]
  },
  {
   "cell_type": "code",
   "execution_count": 9,
   "metadata": {},
   "outputs": [],
   "source": [
    "def arrangeCoins_O(n):\n",
    "    \n",
    "    l, h = 0, n\n",
    "    \n",
    "    while l <= h:\n",
    "        m = (l + h)//2\n",
    "        num = m * (m+1)//2 #<== Cruicial logic\n",
    "        \n",
    "        if num == n:\n",
    "            return m\n",
    "        \n",
    "        elif num > n:\n",
    "            h = m - 1\n",
    "            \n",
    "        else:\n",
    "            l = m + 1\n",
    "            \n",
    "    return h"
   ]
  },
  {
   "cell_type": "code",
   "execution_count": 10,
   "metadata": {},
   "outputs": [
    {
     "name": "stdout",
     "output_type": "stream",
     "text": [
      "2\n"
     ]
    }
   ],
   "source": [
    "print(arrangeCoins_O(5))"
   ]
  }
 ],
 "metadata": {
  "kernelspec": {
   "display_name": "Python 3",
   "language": "python",
   "name": "python3"
  },
  "language_info": {
   "codemirror_mode": {
    "name": "ipython",
    "version": 3
   },
   "file_extension": ".py",
   "mimetype": "text/x-python",
   "name": "python",
   "nbconvert_exporter": "python",
   "pygments_lexer": "ipython3",
   "version": "3.7.6"
  }
 },
 "nbformat": 4,
 "nbformat_minor": 4
}
