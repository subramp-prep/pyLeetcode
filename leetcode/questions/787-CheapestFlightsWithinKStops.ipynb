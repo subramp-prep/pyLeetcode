{
 "cells": [
  {
   "cell_type": "markdown",
   "metadata": {},
   "source": [
    "## 787 Cheapest Flights Within K Stops\n",
    "\n",
    "There are n cities connected by m flights. Each flight starts from city u and arrives at v with a price w.\n",
    "\n",
    "Now given all the cities and flights, together with starting city src and the destination dst, your task is to find the cheapest price from src to dst with up to k stops. If there is no such route, output -1.\n",
    "\n",
    "Example 1:\n",
    "```\n",
    "Input: \n",
    "n = 3, edges = [[0,1,100],[1,2,100],[0,2,500]]\n",
    "src = 0, dst = 2, k = 1\n",
    "Output: 200\n",
    "```\n",
    "Explanation: \n",
    "The graph looks like this:\n",
    "\n",
    "![787-01](img/787-01.png )\n",
    "\n",
    "\n",
    "The cheapest price from city 0 to city 2 with at most 1 stop costs 200, as marked red in the picture.\n",
    "Example 2:\n",
    "```\n",
    "Input: \n",
    "n = 3, edges = [[0,1,100],[1,2,100],[0,2,500]]\n",
    "src = 0, dst = 2, k = 0\n",
    "```\n",
    "Output: 500\n",
    "Explanation: \n",
    "The graph looks like this:\n",
    "\n",
    "![787-02](img/787-02.png )\n",
    "\n",
    "The cheapest price from city 0 to city 2 with at most 0 stop costs 500, as marked blue in the picture.\n",
    " \n",
    "\n",
    "Constraints:\n",
    "\n",
    "The number of nodes n will be in range [1, 100], with nodes labeled from 0 to n - 1.\n",
    "The size of flights will be in range [0, n * (n - 1) / 2].\n",
    "The format of each flight will be (src, dst, price).\n",
    "The price of each flight will be in the range [1, 10000].\n",
    "k is in the range of [0, n - 1].\n",
    "There will not be any duplicated flights or self cycles."
   ]
  },
  {
   "cell_type": "code",
   "execution_count": 1,
   "metadata": {},
   "outputs": [],
   "source": [
    "import collections\n",
    "import heapq\n",
    "\n",
    "def findCheapestPrice(n,flights, src, dst, k):\n",
    "\n",
    "    cost = collections.defaultdict(dict)\n",
    "    for source, destination, p in flights:\n",
    "        cost[source][destination] = p\n",
    "\n",
    "    heap = [(0, src, k+1)]\n",
    "    while heap:\n",
    "        price, i, stop = heapq.heappop(heap)\n",
    "\n",
    "        if i == dst:\n",
    "            return price\n",
    "\n",
    "        if stop > 0:\n",
    "            for j in cost[i]:\n",
    "                heapq.heappush(heap, (price + cost[i][j], j, stop-1))\n",
    "\n",
    "    return -1"
   ]
  },
  {
   "cell_type": "code",
   "execution_count": 2,
   "metadata": {},
   "outputs": [
    {
     "name": "stdout",
     "output_type": "stream",
     "text": [
      "200\n"
     ]
    }
   ],
   "source": [
    "print(findCheapestPrice(3, [[0, 1, 100], [1, 2, 100], [0, 2, 500]], 0, 2, 1))"
   ]
  },
  {
   "cell_type": "code",
   "execution_count": 4,
   "metadata": {},
   "outputs": [
    {
     "name": "stdout",
     "output_type": "stream",
     "text": [
      "500\n"
     ]
    }
   ],
   "source": [
    "print(findCheapestPrice(3, [[0, 1, 100], [1, 2, 100], [0, 2, 500]], 0, 2, 0))"
   ]
  },
  {
   "cell_type": "markdown",
   "metadata": {},
   "source": [
    "https://leetcode.com/problems/cheapest-flights-within-k-stops/discuss/115541/JavaPython-Priority-Queue-Solution"
   ]
  }
 ],
 "metadata": {
  "kernelspec": {
   "display_name": "Python 3",
   "language": "python",
   "name": "python3"
  },
  "language_info": {
   "codemirror_mode": {
    "name": "ipython",
    "version": 3
   },
   "file_extension": ".py",
   "mimetype": "text/x-python",
   "name": "python",
   "nbconvert_exporter": "python",
   "pygments_lexer": "ipython3",
   "version": "3.7.6"
  }
 },
 "nbformat": 4,
 "nbformat_minor": 4
}
