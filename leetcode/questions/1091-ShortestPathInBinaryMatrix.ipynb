{
 "cells": [
  {
   "cell_type": "markdown",
   "metadata": {},
   "source": [
    "## 1091-Shortest Path in Binary Matrix\n",
    "\n",
    "In an N by N square grid, each cell is either empty (0) or blocked (1).\n",
    "\n",
    "A clear path from top-left to bottom-right has length k if and only if it is composed of cells C_1, C_2, ..., C_k such that:\n",
    "\n",
    "Adjacent cells C_i and C_{i+1} are connected 8-directionally (ie., they are different and share an edge or corner)\n",
    "C_1 is at location (0, 0) (ie. has value grid[0][0])\n",
    "C_k is at location (N-1, N-1) (ie. has value grid[N-1][N-1])\n",
    "If C_i is located at (r, c), then grid[r][c] is empty (ie. grid[r][c] == 0).\n",
    "Return the length of the shortest such clear path from top-left to bottom-right.  If such a path does not exist, return -1.\n",
    "\n",
    "Example 1:\n",
    "```\n",
    "Input: [[0,1],[1,0]]\n",
    "Output: 2\n",
    "```\n",
    "\n",
    "Example 2:\n",
    "```\n",
    "Input: [[0,0,0],[1,1,0],[1,1,0]]\n",
    "Output: 4\n",
    "```\n",
    " \n",
    "Note:\n",
    "```\n",
    "1 <= grid.length == grid[0].length <= 100\n",
    "grid[r][c] is 0 or 1\n",
    "```"
   ]
  },
  {
   "cell_type": "code",
   "execution_count": 1,
   "metadata": {},
   "outputs": [],
   "source": [
    "def shortestPathBinaryMatrix(grid):\n",
    "\n",
    "    n = len(grid)\n",
    "    if grid[0][0] or grid[n-1][n-1]:\n",
    "        return -1\n",
    "\n",
    "    directions = [\n",
    "        [0, 1],\n",
    "        [1, 0],\n",
    "        [0, -1],\n",
    "        [-1, 0],\n",
    "        [-1, -1],\n",
    "        [-1, 1],\n",
    "        [1, -1],\n",
    "        [1, 1]\n",
    "    ]\n",
    "\n",
    "    q = [(0, 0, 1)]\n",
    "    for i, j, d in q:\n",
    "        if i == n-1 and j == n-1:\n",
    "            return d\n",
    "\n",
    "        for x, y in directions:\n",
    "            r = i + x\n",
    "            c = j + y\n",
    "\n",
    "            if 0 <= r < n and 0 <= c < n and not grid[r][c]:\n",
    "                grid[r][c] = 1\n",
    "                q.append((r, c, d+1))\n",
    "    \n",
    "    return -1"
   ]
  },
  {
   "cell_type": "code",
   "execution_count": 2,
   "metadata": {},
   "outputs": [
    {
     "name": "stdout",
     "output_type": "stream",
     "text": [
      "2\n"
     ]
    }
   ],
   "source": [
    "print(shortestPathBinaryMatrix([[0,1],[1,0]]))"
   ]
  },
  {
   "cell_type": "code",
   "execution_count": 3,
   "metadata": {},
   "outputs": [
    {
     "name": "stdout",
     "output_type": "stream",
     "text": [
      "4\n"
     ]
    }
   ],
   "source": [
    "print(shortestPathBinaryMatrix([[0,0,0],[1,1,0],[1,1,0]]))"
   ]
  }
 ],
 "metadata": {
  "kernelspec": {
   "display_name": "Python 3",
   "language": "python",
   "name": "python3"
  },
  "language_info": {
   "codemirror_mode": {
    "name": "ipython",
    "version": 3
   },
   "file_extension": ".py",
   "mimetype": "text/x-python",
   "name": "python",
   "nbconvert_exporter": "python",
   "pygments_lexer": "ipython3",
   "version": "3.7.6"
  }
 },
 "nbformat": 4,
 "nbformat_minor": 4
}
