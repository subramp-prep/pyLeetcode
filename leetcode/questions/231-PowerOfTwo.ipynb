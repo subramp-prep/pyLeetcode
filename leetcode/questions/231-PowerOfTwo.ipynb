{
 "cells": [
  {
   "cell_type": "markdown",
   "metadata": {},
   "source": [
    "## Q231  Power of Two\n",
    "\n",
    "Given an integer, write a function to determine if it is a power of two.\n",
    "\n",
    "Example 1:\n",
    "```\n",
    "Input: 1\n",
    "Output: true \n",
    "```\n",
    "Explanation: 20 = 1\n",
    "Example 2:\n",
    "```\n",
    "Input: 16\n",
    "Output: true\n",
    "```\n",
    "Explanation: 24 = 16\n",
    "Example 3:\n",
    "```\n",
    "Input: 218\n",
    "Output: false\n",
    "```"
   ]
  },
  {
   "cell_type": "code",
   "execution_count": 4,
   "metadata": {},
   "outputs": [],
   "source": [
    "def isPowerOfTwo(n):\n",
    "    count = 0\n",
    "\n",
    "    while n and n > 0:\n",
    "        if n & 1:\n",
    "            count += 1\n",
    "            \n",
    "            if count > 1:\n",
    "                return False\n",
    "\n",
    "        n >>= 1\n",
    "\n",
    "    return count == 1"
   ]
  },
  {
   "cell_type": "code",
   "execution_count": 5,
   "metadata": {},
   "outputs": [
    {
     "name": "stdout",
     "output_type": "stream",
     "text": [
      "True\n"
     ]
    }
   ],
   "source": [
    "print(isPowerOfTwo(2))"
   ]
  },
  {
   "cell_type": "code",
   "execution_count": 6,
   "metadata": {},
   "outputs": [
    {
     "name": "stdout",
     "output_type": "stream",
     "text": [
      "False\n"
     ]
    }
   ],
   "source": [
    "print(isPowerOfTwo(220))"
   ]
  }
 ],
 "metadata": {
  "kernelspec": {
   "display_name": "Python 3",
   "language": "python",
   "name": "python3"
  },
  "language_info": {
   "codemirror_mode": {
    "name": "ipython",
    "version": 3
   },
   "file_extension": ".py",
   "mimetype": "text/x-python",
   "name": "python",
   "nbconvert_exporter": "python",
   "pygments_lexer": "ipython3",
   "version": "3.7.6"
  }
 },
 "nbformat": 4,
 "nbformat_minor": 4
}
