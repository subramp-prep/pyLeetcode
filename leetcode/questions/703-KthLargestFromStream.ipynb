{
 "cells": [
  {
   "cell_type": "markdown",
   "metadata": {},
   "source": [
    "Design a class to find the kth largest element in a stream. Note that it is the kth largest element in the sorted order, not the kth distinct element.\n",
    "\n",
    "Your KthLargest class will have a constructor which accepts an integer k and an integer array nums, which contains initial elements from the stream. For each call to the method KthLargest.add, return the element representing the kth largest element in the stream.\n",
    "\n",
    "Example:\n",
    "```\n",
    "int k = 3;\n",
    "int[] arr = [4,5,8,2];\n",
    "KthLargest kthLargest = new KthLargest(3, arr);\n",
    "kthLargest.add(3);   // returns 4\n",
    "kthLargest.add(5);   // returns 5\n",
    "kthLargest.add(10);  // returns 5\n",
    "kthLargest.add(9);   // returns 8\n",
    "kthLargest.add(4);   // returns 8\n",
    "```\n",
    "Note: \n",
    "You may assume that nums' length ≥ k-1 and k ≥ 1."
   ]
  },
  {
   "cell_type": "code",
   "execution_count": 3,
   "metadata": {},
   "outputs": [],
   "source": [
    "import heapq\n",
    "class KthLargest:\n",
    "\n",
    "    def __init__(self, k, nums):\n",
    "        \"\"\"\n",
    "        :type k: int\n",
    "        :type nums: List[int]\n",
    "        \"\"\"\n",
    "        heapq.heapify(nums)\n",
    "\n",
    "        while len(nums) > k:\n",
    "            heapq.heappop(nums)\n",
    "\n",
    "        self.heap = nums\n",
    "        self.k = k\n",
    "\n",
    "    def add(self, val):\n",
    "        \"\"\"\n",
    "        :type val: int\n",
    "        :rtype: int\n",
    "        \"\"\"\n",
    "        if len(self.heap) < self.k:\n",
    "            heapq.heappush(self.heap, val)\n",
    "        else:\n",
    "            heapq.heappushpop(self.heap, val)\n",
    "        #heapq.heappush(self.heap, val)\n",
    "\n",
    "        return self.heap[0]"
   ]
  },
  {
   "cell_type": "code",
   "execution_count": 4,
   "metadata": {},
   "outputs": [
    {
     "name": "stdout",
     "output_type": "stream",
     "text": [
      "4\n",
      "5\n",
      "5\n",
      "8\n",
      "8\n"
     ]
    }
   ],
   "source": [
    "obj = KthLargest(3, [4, 5, 8, 2])\n",
    "print(obj.add(3))\n",
    "print(obj.add(5))\n",
    "print(obj.add(10))\n",
    "print(obj.add(9))\n",
    "print(obj.add(4))"
   ]
  },
  {
   "cell_type": "code",
   "execution_count": null,
   "metadata": {},
   "outputs": [],
   "source": []
  }
 ],
 "metadata": {
  "kernelspec": {
   "display_name": "Python 3",
   "language": "python",
   "name": "python3"
  },
  "language_info": {
   "codemirror_mode": {
    "name": "ipython",
    "version": 3
   },
   "file_extension": ".py",
   "mimetype": "text/x-python",
   "name": "python",
   "nbconvert_exporter": "python",
   "pygments_lexer": "ipython3",
   "version": "3.7.1"
  }
 },
 "nbformat": 4,
 "nbformat_minor": 2
}
