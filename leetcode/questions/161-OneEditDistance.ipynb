{
 "cells": [
  {
   "cell_type": "markdown",
   "metadata": {},
   "source": [
    "## 161 One Edit Distance\n",
    "\n",
    "Given two strings s and t, determine if they are both one edit distance apart.\n",
    "\n",
    "Note: \n",
    "\n",
    "There are 3 possiblities to satisify one edit distance apart:\n",
    "\n",
    "Insert a character into s to get t\n",
    "Delete a character from s to get t\n",
    "Replace a character of s to get t\n",
    "Example 1:\n",
    "```\n",
    "Input: s = \"ab\", t = \"acb\"\n",
    "Output: true\n",
    "```\n",
    "Explanation: We can insert 'c' into s to get t.\n",
    "Example 2:\n",
    "```\n",
    "Input: s = \"cab\", t = \"ad\"\n",
    "Output: false\n",
    "```\n",
    "Explanation: We cannot get t from s by only one step.\n",
    "Example 3:\n",
    "```\n",
    "Input: s = \"1203\", t = \"1213\"\n",
    "Output: true\n",
    "```\n",
    "Explanation: We can replace '0' with '1' to get t."
   ]
  },
  {
   "cell_type": "code",
   "execution_count": 1,
   "metadata": {},
   "outputs": [],
   "source": [
    "def isOneEditDistance(s, t):\n",
    "    ls, lt = len(s), len(t)\n",
    "    \n",
    "    if ls > lt:\n",
    "        # swap the variables around for \n",
    "        # further processing\n",
    "        \n",
    "        return isOneEditDistance(t, s)\n",
    "    \n",
    "    for i in range(ls):\n",
    "        if s[i] != t[i]:\n",
    "            if ls == lt:\n",
    "                return s[i+1:] == t[i+1:]\n",
    "            else:\n",
    "                return s[i:] == t[i+1:]\n",
    "            \n",
    "    return ls+1 == lt"
   ]
  },
  {
   "cell_type": "code",
   "execution_count": 2,
   "metadata": {},
   "outputs": [
    {
     "name": "stdout",
     "output_type": "stream",
     "text": [
      "True\n"
     ]
    }
   ],
   "source": [
    "print(isOneEditDistance(\"1203\", \"1213\"))"
   ]
  },
  {
   "cell_type": "code",
   "execution_count": 3,
   "metadata": {},
   "outputs": [
    {
     "name": "stdout",
     "output_type": "stream",
     "text": [
      "False\n"
     ]
    }
   ],
   "source": [
    "print(isOneEditDistance(\"cab\", \"ad\"))"
   ]
  }
 ],
 "metadata": {
  "kernelspec": {
   "display_name": "Python 3",
   "language": "python",
   "name": "python3"
  },
  "language_info": {
   "codemirror_mode": {
    "name": "ipython",
    "version": 3
   },
   "file_extension": ".py",
   "mimetype": "text/x-python",
   "name": "python",
   "nbconvert_exporter": "python",
   "pygments_lexer": "ipython3",
   "version": "3.7.6"
  }
 },
 "nbformat": 4,
 "nbformat_minor": 4
}
