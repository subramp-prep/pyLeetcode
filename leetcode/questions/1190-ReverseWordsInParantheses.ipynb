{
 "cells": [
  {
   "cell_type": "markdown",
   "metadata": {},
   "source": [
    "## 1190 Reverse words in parantheses\n",
    "\n",
    "You are given a string s that consists of lower case English letters and brackets. \n",
    "\n",
    "Reverse the strings in each pair of matching parentheses, starting from the innermost one.\n",
    "\n",
    "Your result should not contain any brackets.\n",
    "\n",
    " \n",
    "\n",
    "Example 1:\n",
    "```\n",
    "Input: s = \"(abcd)\"\n",
    "Output: \"dcba\"\n",
    "```\n",
    "Example 2:\n",
    "```\n",
    "Input: s = \"(u(love)i)\"\n",
    "Output: \"iloveu\"\n",
    "Explanation: The substring \"love\" is reversed first, then the whole string is reversed.\n",
    "```\n",
    "Example 3:\n",
    "```\n",
    "Input: s = \"(ed(et(oc))el)\"\n",
    "Output: \"leetcode\"\n",
    "Explanation: First, we reverse the substring \"oc\", then \"etco\", and finally, the whole string.\n",
    "```\n",
    "Example 4:\n",
    "```\n",
    "Input: s = \"a(bcdefghijkl(mno)p)q\"\n",
    "Output: \"apmnolkjihgfedcbq\"\n",
    "```\n",
    "\n",
    "Constraints:\n",
    "```\n",
    "0 <= s.length <= 2000\n",
    "s only contains lower case English characters and parentheses.\n",
    "It's guaranteed that all parentheses are balanced.\n",
    "```"
   ]
  },
  {
   "cell_type": "code",
   "execution_count": 1,
   "metadata": {},
   "outputs": [],
   "source": [
    "def reverseParentheses(s):\n",
    "    \n",
    "    stack = []\n",
    "    index = 0\n",
    "    \n",
    "    while index < len(s):\n",
    "        \n",
    "        if s[index] != ')':\n",
    "            stack.append(s[index])\n",
    "            \n",
    "        else:\n",
    "\n",
    "            rev = ''\n",
    "            while stack[-1] != '(':\n",
    "                rev = rev + stack[-1] \n",
    "                stack.pop()\n",
    "\n",
    "            if len(stack) > 0:\n",
    "                stack.pop() #remove final '(' character\n",
    "            \n",
    "            for c in rev:\n",
    "                stack.append(c)\n",
    "                \n",
    "        index += 1\n",
    "\n",
    "    return ''.join(stack)"
   ]
  },
  {
   "cell_type": "code",
   "execution_count": 2,
   "metadata": {},
   "outputs": [
    {
     "name": "stdout",
     "output_type": "stream",
     "text": [
      "\n",
      "abcd\n",
      "dcba\n",
      "iloveu\n",
      "leetcode\n",
      "apmnolkjihgfedcbq\n"
     ]
    }
   ],
   "source": [
    "print(reverseParentheses(\"\"))\n",
    "print(reverseParentheses(\"abcd\"))\n",
    "print(reverseParentheses(\"(abcd)\"))\n",
    "print(reverseParentheses(\"(u(love)i)\"))\n",
    "print(reverseParentheses(\"(ed(et(oc))el)\"))\n",
    "print(reverseParentheses(\"a(bcdefghijkl(mno)p)q\"))"
   ]
  }
 ],
 "metadata": {
  "kernelspec": {
   "display_name": "Python 3",
   "language": "python",
   "name": "python3"
  },
  "language_info": {
   "codemirror_mode": {
    "name": "ipython",
    "version": 3
   },
   "file_extension": ".py",
   "mimetype": "text/x-python",
   "name": "python",
   "nbconvert_exporter": "python",
   "pygments_lexer": "ipython3",
   "version": "3.7.1"
  }
 },
 "nbformat": 4,
 "nbformat_minor": 2
}
