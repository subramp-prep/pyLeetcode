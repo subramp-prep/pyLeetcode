{
 "cells": [
  {
   "cell_type": "markdown",
   "metadata": {},
   "source": [
    "Given a collection of candidate numbers (candidates) and a target number (target), find all unique combinations in candidates where the candidate numbers sums to target.\n",
    "\n",
    "Each number in candidates may only be used once in the combination.\n",
    "\n",
    "Note:\n",
    "\n",
    "All numbers (including target) will be positive integers.\n",
    "The solution set must not contain duplicate combinations.\n",
    "**Example 1:**\n",
    "\n",
    "Input: candidates = [10,1,2,7,6,1,5], target = 8,\n",
    "A solution set is:\n",
    "```\n",
    "[\n",
    "  [1, 7],\n",
    "  [1, 2, 5],\n",
    "  [2, 6],\n",
    "  [1, 1, 6]\n",
    "]\n",
    "```\n",
    "**Example 2:**\n",
    "\n",
    "Input: candidates = [2,5,2,1,2], target = 5,\n",
    "A solution set is:\n",
    "```\n",
    "[\n",
    "  [1,2,2],\n",
    "  [5]\n",
    "]\n",
    "```"
   ]
  },
  {
   "cell_type": "code",
   "execution_count": 3,
   "metadata": {},
   "outputs": [],
   "source": [
    "def combinationSumII(nums, target):\n",
    "    output = []\n",
    "    nums = sorted(nums)\n",
    "    \n",
    "    def helper(chosen, remain, start):\n",
    "        if remain < 0:\n",
    "            return\n",
    "        elif remain == 0:\n",
    "            output.append(chosen.copy())\n",
    "        else:\n",
    "            for i in range(start, len(nums)):\n",
    "                if i > start and nums[i] == nums[i-1]:\n",
    "                    continue\n",
    "                \n",
    "                chosen.append(nums[i])\n",
    "                helper(chosen, remain - nums[i], i+1)\n",
    "                chosen.pop()\n",
    "    \n",
    "    helper([], target, 0)\n",
    "    return output"
   ]
  },
  {
   "cell_type": "code",
   "execution_count": 5,
   "metadata": {},
   "outputs": [
    {
     "name": "stdout",
     "output_type": "stream",
     "text": [
      "[[1, 1, 6], [1, 2, 5], [1, 7], [2, 6]]\n"
     ]
    }
   ],
   "source": [
    "print(combinationSumII([10, 1, 2, 7, 6, 1, 5], 8))"
   ]
  },
  {
   "cell_type": "markdown",
   "metadata": {},
   "source": [
    "### Too many duplicate combination in output"
   ]
  },
  {
   "cell_type": "markdown",
   "metadata": {},
   "source": [
    "def combinationSumII(nums, target):\n",
    "    output, used = [], []\n",
    "\n",
    "    for i in range(len(nums)):\n",
    "        used.append(False)\n",
    "\n",
    "    nums = sorted(nums)\n",
    "\n",
    "    def helper(chosen, remain, start):\n",
    "        if remain < 0:\n",
    "            return\n",
    "        elif remain == 0:\n",
    "            output.append(chosen.copy())\n",
    "        else:\n",
    "            for index in range(start, len(nums)):\n",
    "\n",
    "                if used[index] or index > 0 and nums[index] == nums[index - 1] and used[index-1] == False:\n",
    "                    continue\n",
    "                \n",
    "                chosen.append(nums[index])\n",
    "                used[index] = True\n",
    "\n",
    "                helper(chosen, remain - nums[index], start)\n",
    "\n",
    "                used[index] = False\n",
    "                chosen.pop()\n",
    "\n",
    "    helper([], target, 0)\n",
    "\n",
    "    return output"
   ]
  },
  {
   "cell_type": "code",
   "execution_count": 4,
   "metadata": {},
   "outputs": [
    {
     "name": "stdout",
     "output_type": "stream",
     "text": [
      "[[1, 1, 6], [1, 2, 5], [1, 7], [2, 6]]\n"
     ]
    }
   ],
   "source": []
  },
  {
   "cell_type": "code",
   "execution_count": null,
   "metadata": {},
   "outputs": [],
   "source": []
  }
 ],
 "metadata": {
  "kernelspec": {
   "display_name": "Python 3",
   "language": "python",
   "name": "python3"
  },
  "language_info": {
   "codemirror_mode": {
    "name": "ipython",
    "version": 3
   },
   "file_extension": ".py",
   "mimetype": "text/x-python",
   "name": "python",
   "nbconvert_exporter": "python",
   "pygments_lexer": "ipython3",
   "version": "3.7.0"
  }
 },
 "nbformat": 4,
 "nbformat_minor": 2
}
