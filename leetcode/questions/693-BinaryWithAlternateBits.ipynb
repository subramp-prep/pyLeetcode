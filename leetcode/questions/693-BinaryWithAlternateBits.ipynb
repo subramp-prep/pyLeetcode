{
 "cells": [
  {
   "cell_type": "markdown",
   "metadata": {},
   "source": [
    "## 693 - Binary number with Alternate bits\n",
    "\n",
    "Given a positive integer, check whether it has alternating bits: namely, if two adjacent bits will always have different values.\n",
    "\n",
    "Example 1:\n",
    "```\n",
    "Input: 5\n",
    "Output: True\n",
    "Explanation:\n",
    "The binary representation of 5 is: 101\n",
    "```\n",
    "Example 2:\n",
    "```\n",
    "Input: 7\n",
    "Output: False\n",
    "Explanation:\n",
    "The binary representation of 7 is: 111.\n",
    "```\n",
    "Example 3:\n",
    "```\n",
    "Input: 11\n",
    "Output: False\n",
    "Explanation:\n",
    "The binary representation of 11 is: 1011.\n",
    "```\n",
    "Example 4:\n",
    "```\n",
    "Input: 10\n",
    "Output: True\n",
    "Explanation:\n",
    "The binary representation of 10 is: 1010.\n",
    "```"
   ]
  },
  {
   "cell_type": "code",
   "execution_count": 1,
   "metadata": {},
   "outputs": [],
   "source": [
    "def hasAlternatingBits(n: int) -> bool:\n",
    "\n",
    "    def helper(x, prev):\n",
    "        if prev >=0 and x > 0:\n",
    "            if x&1 == prev:\n",
    "                return False\n",
    "\n",
    "        if x == 0:\n",
    "            return True\n",
    "\n",
    "        return helper(x>>1, x&1)\n",
    "\n",
    "    return helper(n, float('-inf'))"
   ]
  },
  {
   "cell_type": "code",
   "execution_count": 2,
   "metadata": {},
   "outputs": [
    {
     "name": "stdout",
     "output_type": "stream",
     "text": [
      "True\n"
     ]
    }
   ],
   "source": [
    "print(hasAlternatingBits(5))"
   ]
  },
  {
   "cell_type": "code",
   "execution_count": 3,
   "metadata": {},
   "outputs": [
    {
     "name": "stdout",
     "output_type": "stream",
     "text": [
      "False\n"
     ]
    }
   ],
   "source": [
    "print(hasAlternatingBits(7))"
   ]
  },
  {
   "cell_type": "code",
   "execution_count": 4,
   "metadata": {},
   "outputs": [
    {
     "name": "stdout",
     "output_type": "stream",
     "text": [
      "False\n"
     ]
    }
   ],
   "source": [
    "print(hasAlternatingBits(11))"
   ]
  },
  {
   "cell_type": "code",
   "execution_count": 5,
   "metadata": {},
   "outputs": [
    {
     "name": "stdout",
     "output_type": "stream",
     "text": [
      "True\n"
     ]
    }
   ],
   "source": [
    "print(hasAlternatingBits(10))"
   ]
  }
 ],
 "metadata": {
  "kernelspec": {
   "display_name": "Python 3",
   "language": "python",
   "name": "python3"
  },
  "language_info": {
   "codemirror_mode": {
    "name": "ipython",
    "version": 3
   },
   "file_extension": ".py",
   "mimetype": "text/x-python",
   "name": "python",
   "nbconvert_exporter": "python",
   "pygments_lexer": "ipython3",
   "version": "3.7.1"
  }
 },
 "nbformat": 4,
 "nbformat_minor": 2
}
