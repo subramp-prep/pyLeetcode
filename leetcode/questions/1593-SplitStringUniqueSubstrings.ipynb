{
 "cells": [
  {
   "cell_type": "markdown",
   "metadata": {},
   "source": [
    "## 1593 Split a String Into the Max Number of Unique Substrings\n",
    "\n",
    "Given a string s, return the maximum number of unique substrings that the given string can be split into.\n",
    "\n",
    "You can split string s into any list of non-empty substrings, where the concatenation of the substrings forms the original string. However, you must split the substrings such that all of them are unique.\n",
    "\n",
    "A substring is a contiguous sequence of characters within a string.\n",
    "\n",
    " \n",
    "\n",
    "Example 1:\n",
    "```\n",
    "Input: s = \"ababccc\"\n",
    "Output: 5\n",
    "```\n",
    "Explanation: One way to split maximally is ['a', 'b', 'ab', 'c', 'cc']. Splitting like ['a', 'b', 'a', 'b', 'c', 'cc'] is not valid as you have 'a' and 'b' multiple times.\n",
    "Example 2:\n",
    "```\n",
    "Input: s = \"aba\"\n",
    "Output: 2\n",
    "```\n",
    "Explanation: One way to split maximally is ['a', 'ba'].\n",
    "Example 3:\n",
    "```\n",
    "Input: s = \"aa\"\n",
    "Output: 1\n",
    "```\n",
    "Explanation: It is impossible to split the string any further.\n",
    " \n",
    "\n",
    "Constraints:\n",
    "```\n",
    "1 <= s.length <= 16\n",
    "\n",
    "s contains only lower case English letters.\n",
    "```"
   ]
  },
  {
   "cell_type": "code",
   "execution_count": 3,
   "metadata": {},
   "outputs": [],
   "source": [
    "def maxUniqueSplit(word):\n",
    "    unique = set()\n",
    "    \n",
    "    def helper(c):\n",
    "        result = 0\n",
    "        for i in range(1, len(c)+1):\n",
    "            curr = c[:i]\n",
    "            if curr not in unique:\n",
    "                unique.add(curr)\n",
    "                result = max(result, 1 + helper(c[i:]))\n",
    "                unique.remove(curr)\n",
    "                \n",
    "        return result\n",
    "    \n",
    "    return helper(word)"
   ]
  },
  {
   "cell_type": "code",
   "execution_count": 4,
   "metadata": {},
   "outputs": [
    {
     "name": "stdout",
     "output_type": "stream",
     "text": [
      "5\n"
     ]
    }
   ],
   "source": [
    "print(maxUniqueSplit('ababccc'))"
   ]
  },
  {
   "cell_type": "code",
   "execution_count": 5,
   "metadata": {},
   "outputs": [
    {
     "name": "stdout",
     "output_type": "stream",
     "text": [
      "1\n"
     ]
    }
   ],
   "source": [
    "print(maxUniqueSplit('aa'))"
   ]
  }
 ],
 "metadata": {
  "kernelspec": {
   "display_name": "Python 3",
   "language": "python",
   "name": "python3"
  },
  "language_info": {
   "codemirror_mode": {
    "name": "ipython",
    "version": 3
   },
   "file_extension": ".py",
   "mimetype": "text/x-python",
   "name": "python",
   "nbconvert_exporter": "python",
   "pygments_lexer": "ipython3",
   "version": "3.8.5"
  }
 },
 "nbformat": 4,
 "nbformat_minor": 4
}
