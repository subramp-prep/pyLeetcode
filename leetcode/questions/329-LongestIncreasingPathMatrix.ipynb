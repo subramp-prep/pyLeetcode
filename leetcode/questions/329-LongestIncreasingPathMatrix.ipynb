{
 "cells": [
  {
   "cell_type": "markdown",
   "metadata": {},
   "source": [
    "## Q329 Longest Increasing Path Matrix\n",
    "\n",
    "Given an integer matrix, find the length of the longest increasing path.\n",
    "\n",
    "From each cell, you can either move to four directions: left, right, up or down. You may NOT move diagonally or move outside of the boundary (i.e. wrap-around is not allowed).\n",
    "\n",
    "Example 1:\n",
    "```\n",
    "Input: nums = \n",
    "[\n",
    "  [9,9,4],\n",
    "  [6,6,8],\n",
    "  [2,1,1]\n",
    "] \n",
    "Output: 4 \n",
    "Explanation: The longest increasing path is [1, 2, 6, 9].\n",
    "```\n",
    "Example 2:\n",
    "```\n",
    "Input: nums = \n",
    "[\n",
    "  [3,4,5],\n",
    "  [3,2,6],\n",
    "  [2,2,1]\n",
    "] \n",
    "Output: 4 \n",
    "Explanation: The longest increasing path is [3, 4, 5, 6]. Moving diagonally is not allowed.\n",
    "```"
   ]
  },
  {
   "cell_type": "code",
   "execution_count": 4,
   "metadata": {},
   "outputs": [],
   "source": [
    "def longestIncreasingPath(nums):\n",
    "    rows = len(nums)\n",
    "    columns = 0 if rows == 0 else len(nums[0])\n",
    "    \n",
    "    def dfs(i, j):\n",
    "        val = nums[i][j]\n",
    "        if not dp[i][j]:\n",
    "            dp[i][j] = 1 + max(\n",
    "                dfs(i-1,j) if i and val > nums[i-1][j] else 0,\n",
    "                dfs(i+1,j) if i < rows-1 and val > nums[i+1][j] else 0,\n",
    "                dfs(i,j-1) if j and val > nums[i][j-1] else 0,\n",
    "                dfs(i,j+1) if j < columns-1 and val > nums[i][j+1] else 0\n",
    "            )\n",
    "        return dp[i][j]\n",
    "    \n",
    "    \n",
    "    output = 0\n",
    "    \n",
    "    dp = [[0 for i in range(columns)] for j in range(rows)]\n",
    "    \n",
    "    \n",
    "    for i in range(rows):\n",
    "        for j in range(columns):\n",
    "            result = dfs(i, j)\n",
    "            output = max(result, output)\n",
    "            \n",
    "    return output"
   ]
  },
  {
   "cell_type": "code",
   "execution_count": 5,
   "metadata": {},
   "outputs": [
    {
     "name": "stdout",
     "output_type": "stream",
     "text": [
      "4\n"
     ]
    }
   ],
   "source": [
    "nums = [\n",
    "    [7, 7, 5], \n",
    "    [2, 4, 6], \n",
    "    [8, 2, 0]\n",
    "]\n",
    "print(longestIncreasingPath(nums))"
   ]
  },
  {
   "cell_type": "code",
   "execution_count": 6,
   "metadata": {},
   "outputs": [
    {
     "name": "stdout",
     "output_type": "stream",
     "text": [
      "4\n"
     ]
    }
   ],
   "source": [
    "nums = [\n",
    "  [9,9,4],\n",
    "  [6,6,8],\n",
    "  [2,1,1]\n",
    "] \n",
    "print(longestIncreasingPath(nums))"
   ]
  }
 ],
 "metadata": {
  "kernelspec": {
   "display_name": "Python 3",
   "language": "python",
   "name": "python3"
  },
  "language_info": {
   "codemirror_mode": {
    "name": "ipython",
    "version": 3
   },
   "file_extension": ".py",
   "mimetype": "text/x-python",
   "name": "python",
   "nbconvert_exporter": "python",
   "pygments_lexer": "ipython3",
   "version": "3.7.6"
  }
 },
 "nbformat": 4,
 "nbformat_minor": 2
}
