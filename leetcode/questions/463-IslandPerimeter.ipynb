{
 "cells": [
  {
   "attachments": {
    "image.png": {
     "image/png": "[encoded data removed]"
    }
   },
   "cell_type": "markdown",
   "metadata": {},
   "source": [
    "You are given a map in form of a two-dimensional integer grid where 1 represents land and 0 represents water.\n",
    "\n",
    "Grid cells are connected horizontally/vertically (not diagonally). The grid is completely surrounded by water, and there is exactly one island (i.e., one or more connected land cells).\n",
    "\n",
    "The island doesn't have \"lakes\" (water inside that isn't connected to the water around the island). One cell is a square with side length 1. The grid is rectangular, width and height don't exceed 100. Determine the perimeter of the island.\n",
    "\n",
    " \n",
    "\n",
    "Example:\n",
    "\n",
    "Input:\n",
    "```\n",
    "[[0,1,0,0],\n",
    " [1,1,1,0],\n",
    " [0,1,0,0],\n",
    " [1,1,0,0]]\n",
    "```\n",
    "Output: 16\n",
    "\n",
    "Explanation: The perimeter is the 16 yellow stripes in the image below:\n",
    "\n",
    "![image.png](attachment:image.png)"
   ]
  },
  {
   "cell_type": "code",
   "execution_count": 18,
   "metadata": {},
   "outputs": [],
   "source": [
    "def islandPerimeter(island):\n",
    "    perimeter = 0\n",
    "    \n",
    "    if island == None or len(island) == 0 or len(island[0]) ==0:\n",
    "        return perimeter\n",
    "    \n",
    "    rows = len(island)\n",
    "    columns = len(island[0])\n",
    "    \n",
    "    for row in range(rows):\n",
    "        for column in range(columns):\n",
    "            if island[row][column] == 1:\n",
    "                perimeter += 1 if column - 1 < 0 or island[row][column-1] == 0 else 0\n",
    "                perimeter += 1 if row - 1 < 0 or island[row-1][column] == 0 else 0\n",
    "                perimeter += 1 if column + 1 >= columns or island[row][column+1] == 0 else 0\n",
    "                perimeter += 1 if row + 1 >= rows or island[row+1][column] == 0 else 0\n",
    "                \n",
    "    \n",
    "    return perimeter"
   ]
  },
  {
   "cell_type": "code",
   "execution_count": null,
   "metadata": {},
   "outputs": [],
   "source": [
    "print('[]', islandPerimeter([]))"
   ]
  },
  {
   "cell_type": "code",
   "execution_count": null,
   "metadata": {},
   "outputs": [],
   "source": [
    "island = [\n",
    "    [0,1,0],\n",
    "    [1,1,1]\n",
    "]\n",
    "\n",
    "print('island:', islandPerimeter(island))"
   ]
  },
  {
   "cell_type": "code",
   "execution_count": null,
   "metadata": {},
   "outputs": [],
   "source": [
    "island1 = [\n",
    "    [0,1,0,0],\n",
    "    [1,1,1,0],\n",
    "    [0,1,0,0],\n",
    "    [1,1,0,0]\n",
    "]\n",
    "print('island1:', islandPerimeter(island1))"
   ]
  }
 ],
 "metadata": {
  "kernelspec": {
   "display_name": "Python 3",
   "language": "python",
   "name": "python3"
  },
  "language_info": {
   "codemirror_mode": {
    "name": "ipython",
    "version": 3
   },
   "file_extension": ".py",
   "mimetype": "text/x-python",
   "name": "python",
   "nbconvert_exporter": "python",
   "pygments_lexer": "ipython3",
   "version": "3.7.1"
  }
 },
 "nbformat": 4,
 "nbformat_minor": 2
}
