{
 "cells": [
  {
   "cell_type": "markdown",
   "metadata": {},
   "source": [
    "Reverse bits of a given 32 bits unsigned integer.\n",
    "\n",
    "Example:\n",
    "```\n",
    "Input: 43261596\n",
    "Output: 964176192\n",
    "Explanation: 43261596 represented in binary as 00000010100101000001111010011100, \n",
    "             return 964176192 represented in binary as 00111001011110000010100101000000.\n",
    "```\n",
    "Follow up:\n",
    "If this function is called many times, how would you optimize it?"
   ]
  },
  {
   "cell_type": "code",
   "execution_count": 1,
   "metadata": {},
   "outputs": [],
   "source": [
    "# TODO need more work, didnt get the expected result\n",
    "\n",
    "def reverseBits(num):\n",
    "    if num <= 0: \n",
    "        return num\n",
    "\n",
    "    #if num == 1: \n",
    "    #    return num\n",
    "\n",
    "    result = 0\n",
    "    while num > 0:\n",
    "        value = num & 1\n",
    "        result = result << 1\n",
    "\n",
    "        if value == 1:\n",
    "            result = result ^ 1\n",
    "\n",
    "        num = num >> 1\n",
    "\n",
    "    return result"
   ]
  },
  {
   "cell_type": "code",
   "execution_count": 2,
   "metadata": {},
   "outputs": [
    {
     "name": "stdout",
     "output_type": "stream",
     "text": [
      "5\n"
     ]
    }
   ],
   "source": [
    "print(reverseBits(5))"
   ]
  },
  {
   "cell_type": "code",
   "execution_count": 3,
   "metadata": {},
   "outputs": [
    {
     "name": "stdout",
     "output_type": "stream",
     "text": [
      "1\n"
     ]
    }
   ],
   "source": [
    "print(reverseBits(2))"
   ]
  },
  {
   "cell_type": "code",
   "execution_count": 4,
   "metadata": {},
   "outputs": [
    {
     "name": "stdout",
     "output_type": "stream",
     "text": [
      "15065253\n"
     ]
    }
   ],
   "source": [
    "#TODO this is wrong\n",
    "print(reverseBits(43261596))"
   ]
  },
  {
   "cell_type": "code",
   "execution_count": null,
   "metadata": {},
   "outputs": [],
   "source": []
  }
 ],
 "metadata": {
  "kernelspec": {
   "display_name": "Python 3",
   "language": "python",
   "name": "python3"
  },
  "language_info": {
   "codemirror_mode": {
    "name": "ipython",
    "version": 3
   },
   "file_extension": ".py",
   "mimetype": "text/x-python",
   "name": "python",
   "nbconvert_exporter": "python",
   "pygments_lexer": "ipython3",
   "version": "3.7.1"
  }
 },
 "nbformat": 4,
 "nbformat_minor": 2
}
