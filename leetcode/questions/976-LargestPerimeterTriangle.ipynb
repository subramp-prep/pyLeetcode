{
 "cells": [
  {
   "cell_type": "markdown",
   "metadata": {},
   "source": [
    "## 976 Largest perimeter triangle\n",
    "\n",
    "Given an array A of positive lengths, return the largest perimeter of a triangle with non-zero area, formed from 3 of these lengths.\n",
    "\n",
    "If it is impossible to form any triangle of non-zero area, return 0.\n",
    "\n",
    " \n",
    "\n",
    "Example 1:\n",
    "```\n",
    "Input: [2,1,2]\n",
    "Output: 5\n",
    "```\n",
    "Example 2:\n",
    "```\n",
    "Input: [1,2,1]\n",
    "Output: 0\n",
    "```\n",
    "Example 3:\n",
    "```\n",
    "Input: [3,2,3,4]\n",
    "Output: 10\n",
    "```\n",
    "Example 4:\n",
    "```\n",
    "Input: [3,6,2,3]\n",
    "Output: 8\n",
    "``` \n",
    "\n",
    "Note:\n",
    "\n",
    "3 <= A.length <= 10000\n",
    "1 <= A[i] <= 10^6"
   ]
  },
  {
   "cell_type": "code",
   "execution_count": 9,
   "metadata": {},
   "outputs": [],
   "source": [
    "def largestPerimeter(nums):\n",
    "    \n",
    "    nums.sort()\n",
    "    \n",
    "    for i in range(len(nums)-1, 1, -1):\n",
    "        if nums[i] < nums[i-1] + nums[i-2]:\n",
    "            return nums[i] + nums[i-1] + nums[i-2]\n",
    "        \n",
    "    return 0"
   ]
  },
  {
   "cell_type": "code",
   "execution_count": 10,
   "metadata": {},
   "outputs": [
    {
     "name": "stdout",
     "output_type": "stream",
     "text": [
      "5\n",
      "5\n",
      "0\n",
      "10\n",
      "8\n"
     ]
    }
   ],
   "source": [
    "print(largestPerimeter([1, 2, 2, 4, 18, 8]))\n",
    "print(largestPerimeter([2, 1, 2]))\n",
    "print(largestPerimeter([1, 2, 1]))\n",
    "print(largestPerimeter([3, 2, 3, 4]))\n",
    "print(largestPerimeter([3, 6, 2, 3]))"
   ]
  }
 ],
 "metadata": {
  "kernelspec": {
   "display_name": "Python 3",
   "language": "python",
   "name": "python3"
  },
  "language_info": {
   "codemirror_mode": {
    "name": "ipython",
    "version": 3
   },
   "file_extension": ".py",
   "mimetype": "text/x-python",
   "name": "python",
   "nbconvert_exporter": "python",
   "pygments_lexer": "ipython3",
   "version": "3.7.1"
  }
 },
 "nbformat": 4,
 "nbformat_minor": 2
}
