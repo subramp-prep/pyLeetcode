{
 "cells": [
  {
   "cell_type": "markdown",
   "metadata": {},
   "source": [
    "## 1035 Uncrossing Lines\n",
    "\n",
    "We write the integers of A and B (in the order they are given) on two separate horizontal lines.\n",
    "\n",
    "Now, we may draw connecting lines: a straight line connecting two numbers A[i] and B[j] such that:\n",
    "\n",
    "A[i] == B[j];\n",
    "The line we draw does not intersect any other connecting (non-horizontal) line.\n",
    "Note that a connecting lines cannot intersect even at the endpoints: each number can only belong to one connecting line.\n",
    "\n",
    "Return the maximum number of connecting lines we can draw in this way.\n",
    "\n",
    " \n",
    "\n",
    "Example 1:\n",
    "```\n",
    "\n",
    "Input: A = [1,4,2], B = [1,2,4]\n",
    "Output: 2\n",
    "```\n",
    "Explanation: We can draw 2 uncrossed lines as in the diagram.\n",
    "We cannot draw 3 uncrossed lines, because the line from A[1]=4 to B[2]=4 will intersect the line from A[2]=2 to B[1]=2.\n",
    "Example 2:\n",
    "```\n",
    "Input: A = [2,5,1,2,5], B = [10,5,2,1,5,2]\n",
    "Output: 3\n",
    "```\n",
    "Example 3:\n",
    "```\n",
    "Input: A = [1,3,7,1,7,5], B = [1,9,2,5,1]\n",
    "Output: 2\n",
    "``` \n",
    "\n",
    "Note:\n",
    "\n",
    "1 <= A.length <= 500\n",
    "1 <= B.length <= 500\n",
    "1 <= A[i], B[i] <= 2000"
   ]
  },
  {
   "cell_type": "code",
   "execution_count": 3,
   "metadata": {},
   "outputs": [],
   "source": [
    "def maxUncrossedLines( A, B):\n",
    "    a, b = len(A), len(B)\n",
    "    dp = [[0 for _ in range(b+1)] for _ in range(a+1)]\n",
    "    \n",
    "    for i in range(1, a+1):\n",
    "        for j in range(1, b+1):\n",
    "            if A[i-1] == B[j-1]:\n",
    "                dp[i][j] = dp[i-1][j-1] + 1\n",
    "                \n",
    "            else:\n",
    "                dp[i][j] = max(dp[i-1][j], dp[i][j-1])\n",
    "                \n",
    "    return dp[a][b]"
   ]
  },
  {
   "cell_type": "code",
   "execution_count": 4,
   "metadata": {},
   "outputs": [
    {
     "name": "stdout",
     "output_type": "stream",
     "text": [
      "2\n"
     ]
    }
   ],
   "source": [
    "print(maxUncrossedLines([1,3,7,1,7,5], [1,9,2,5,1]))"
   ]
  },
  {
   "cell_type": "code",
   "execution_count": 5,
   "metadata": {},
   "outputs": [
    {
     "name": "stdout",
     "output_type": "stream",
     "text": [
      "3\n"
     ]
    }
   ],
   "source": [
    "print(maxUncrossedLines([2,5,1,2,5], [10,5,2,1,5,2]))"
   ]
  }
 ],
 "metadata": {
  "kernelspec": {
   "display_name": "Python 3",
   "language": "python",
   "name": "python3"
  },
  "language_info": {
   "codemirror_mode": {
    "name": "ipython",
    "version": 3
   },
   "file_extension": ".py",
   "mimetype": "text/x-python",
   "name": "python",
   "nbconvert_exporter": "python",
   "pygments_lexer": "ipython3",
   "version": "3.7.6"
  }
 },
 "nbformat": 4,
 "nbformat_minor": 4
}
