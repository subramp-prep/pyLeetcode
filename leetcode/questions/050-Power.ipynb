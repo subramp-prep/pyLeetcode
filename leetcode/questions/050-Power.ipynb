{
 "cells": [
  {
   "cell_type": "markdown",
   "metadata": {},
   "source": [
    "Implement pow(x, n), which calculates x raised to the power n (xn).\n",
    "\n",
    "Example 1:\n",
    "```\n",
    "Input: 2.00000, 10\n",
    "Output: 1024.00000\n",
    "```\n",
    "Example 2:\n",
    "```\n",
    "Input: 2.10000, 3\n",
    "Output: 9.26100\n",
    "```\n",
    "Example 3:\n",
    "```\n",
    "Input: 2.00000, -2\n",
    "Output: 0.25000\n",
    "Explanation: 2-2 = 1/22 = 1/4 = 0.25\n",
    "```\n",
    "Note:\n",
    "\n",
    "-100.0 < x < 100.0\n",
    "n is a 32-bit signed integer, within the range [−231, 231 − 1]"
   ]
  },
  {
   "cell_type": "code",
   "execution_count": 1,
   "metadata": {},
   "outputs": [],
   "source": [
    "def power(x, n):\n",
    "    result, power = 1, n\n",
    "    \n",
    "    if n < 1:\n",
    "        x = 1/x\n",
    "        power = -power\n",
    "        \n",
    "    while power > 0:\n",
    "        if power&1 == 1:\n",
    "            result *= x\n",
    "            \n",
    "        x *= x\n",
    "        power = power >> 1\n",
    "        \n",
    "    return result"
   ]
  },
  {
   "cell_type": "code",
   "execution_count": 2,
   "metadata": {},
   "outputs": [
    {
     "name": "stdout",
     "output_type": "stream",
     "text": [
      "16\n"
     ]
    }
   ],
   "source": [
    "print(power(2, 4))"
   ]
  },
  {
   "cell_type": "code",
   "execution_count": 3,
   "metadata": {},
   "outputs": [
    {
     "name": "stdout",
     "output_type": "stream",
     "text": [
      "1953125\n"
     ]
    }
   ],
   "source": [
    "print(power(5, 9))"
   ]
  }
 ],
 "metadata": {
  "kernelspec": {
   "display_name": "Python 3",
   "language": "python",
   "name": "python3"
  },
  "language_info": {
   "codemirror_mode": {
    "name": "ipython",
    "version": 3
   },
   "file_extension": ".py",
   "mimetype": "text/x-python",
   "name": "python",
   "nbconvert_exporter": "python",
   "pygments_lexer": "ipython3",
   "version": "3.7.1"
  }
 },
 "nbformat": 4,
 "nbformat_minor": 2
}
