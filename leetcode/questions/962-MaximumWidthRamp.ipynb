{
 "cells": [
  {
   "cell_type": "markdown",
   "metadata": {},
   "source": [
    "Given an array A of integers, a ramp is a tuple (i, j) for which i < j and A[i] <= A[j].  The width of such a ramp is j - i.\n",
    "\n",
    "Find the maximum width of a ramp in A.  If one doesn't exist, return 0.\n",
    "\n",
    " \n",
    "\n",
    "Example 1:\n",
    "```\n",
    "Input: [6,0,8,2,1,5]\n",
    "Output: 4\n",
    "\n",
    "Explanation: \n",
    "The maximum width ramp is achieved at (i, j) = (1, 5): A[1] = 0 and A[5] = 5.\n",
    "```\n",
    "Example 2:\n",
    "```\n",
    "Input: [9,8,1,0,1,9,4,0,4,1]\n",
    "Output: 7\n",
    "Explanation: \n",
    "The maximum width ramp is achieved at (i, j) = (2, 9): A[2] = 1 and A[9] = 1.\n",
    " ```\n",
    "\n",
    "Note:\n",
    "\n",
    "2 <= A.length <= 50000\n",
    "0 <= A[i] <= 50000"
   ]
  },
  {
   "cell_type": "markdown",
   "metadata": {},
   "source": [
    "## My Implementation"
   ]
  },
  {
   "cell_type": "code",
   "execution_count": 1,
   "metadata": {},
   "outputs": [],
   "source": [
    "def maxWidthRamp(nums):\n",
    "\n",
    "    maxwidth = 0\n",
    "    match = ()\n",
    "    for i in range(len(nums)):\n",
    "        for j in range(i+1, len(nums)):\n",
    "            if nums[i] <= nums[j]:\n",
    "                if j - i > maxwidth:\n",
    "                    match = i, j\n",
    "                maxwidth = max(maxwidth, j-i)\n",
    "\n",
    "    width = 0\n",
    "    if len(match) == 2:\n",
    "        i, j = match\n",
    "        width = j - i\n",
    "    return width"
   ]
  },
  {
   "cell_type": "markdown",
   "metadata": {},
   "source": [
    "## Most Optimal"
   ]
  },
  {
   "cell_type": "code",
   "execution_count": 4,
   "metadata": {},
   "outputs": [],
   "source": [
    "def maxWidthRamp_Optimum(nums):\n",
    "    sortIndicesByValue = sorted(range(len(nums)), key=nums.__getitem__)\n",
    "    ans = 0\n",
    "    minimum = float('inf')\n",
    "    \n",
    "    for i in sortIndicesByValue:\n",
    "        ans = max(ans, i-minimum)\n",
    "        minimum = min(minimum, i)\n",
    "        \n",
    "    return ans"
   ]
  },
  {
   "cell_type": "code",
   "execution_count": 5,
   "metadata": {},
   "outputs": [
    {
     "name": "stdout",
     "output_type": "stream",
     "text": [
      "4\n"
     ]
    }
   ],
   "source": [
    "print(maxWidthRamp_Optimum([6,0,8,2,1,5]))"
   ]
  },
  {
   "cell_type": "code",
   "execution_count": null,
   "metadata": {},
   "outputs": [],
   "source": []
  }
 ],
 "metadata": {
  "kernelspec": {
   "display_name": "Python 3",
   "language": "python",
   "name": "python3"
  },
  "language_info": {
   "codemirror_mode": {
    "name": "ipython",
    "version": 3
   },
   "file_extension": ".py",
   "mimetype": "text/x-python",
   "name": "python",
   "nbconvert_exporter": "python",
   "pygments_lexer": "ipython3",
   "version": "3.7.1"
  }
 },
 "nbformat": 4,
 "nbformat_minor": 2
}
