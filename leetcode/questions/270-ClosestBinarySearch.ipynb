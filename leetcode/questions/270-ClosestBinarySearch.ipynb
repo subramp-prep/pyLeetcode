{
 "cells": [
  {
   "cell_type": "markdown",
   "metadata": {},
   "source": [
    "## 270 Closest Binary Search\n",
    "\n",
    "Given a non-empty binary search tree and a target value, find the value in the BST that is closest to the target.\n",
    "\n",
    "Note:\n",
    "\n",
    "Given target value is a floating point.\n",
    "You are guaranteed to have only one unique value in the BST that is closest to the target.\n",
    "Example:\n",
    "\n",
    "Input: root = [4,2,5,1,3], target = 3.714286\n",
    "```\n",
    "    4\n",
    "   / \\\n",
    "  2   5\n",
    " / \\\n",
    "1   3\n",
    "```\n",
    "Output: 4"
   ]
  },
  {
   "cell_type": "code",
   "execution_count": 3,
   "metadata": {},
   "outputs": [],
   "source": [
    "class TreeNode:\n",
    "    def __init__(self, val, left=None, right=None):\n",
    "        self.val = val\n",
    "        self.left = left\n",
    "        self.right = right\n",
    "        \n",
    "def bstFromPreorder(root, target):\n",
    "    output = []\n",
    "    \n",
    "    def helper(head):\n",
    "        if head:\n",
    "            helper(head.left)\n",
    "            output.append(head.val)\n",
    "            helper(head.right)\n",
    "            \n",
    "            \n",
    "    helper(root)\n",
    "    return min(output, key=lambda x : abs(target-x))"
   ]
  },
  {
   "cell_type": "code",
   "execution_count": 4,
   "metadata": {},
   "outputs": [
    {
     "name": "stdout",
     "output_type": "stream",
     "text": [
      "4\n"
     ]
    }
   ],
   "source": [
    "root = TreeNode(4, TreeNode(2, TreeNode(1), TreeNode(3)), TreeNode(5))\n",
    "print(bstFromPreorder(root, 3.714286))"
   ]
  },
  {
   "cell_type": "markdown",
   "metadata": {},
   "source": [
    "## Optimized version"
   ]
  },
  {
   "cell_type": "code",
   "execution_count": 5,
   "metadata": {},
   "outputs": [],
   "source": [
    "def bstFromPreorderOptimal(root, target):\n",
    "    closest = root.val\n",
    "    while root:\n",
    "        closest = min(closest, root.val, key=lambda x: abs(target-x))\n",
    "        root = root.left if target > root.val else root.right\n",
    "        \n",
    "    return closest"
   ]
  },
  {
   "cell_type": "code",
   "execution_count": 6,
   "metadata": {},
   "outputs": [
    {
     "name": "stdout",
     "output_type": "stream",
     "text": [
      "4\n"
     ]
    }
   ],
   "source": [
    "root = TreeNode(4, TreeNode(2, TreeNode(1), TreeNode(3)), TreeNode(5))\n",
    "print(bstFromPreorderOptimal(root, 3.714286))"
   ]
  }
 ],
 "metadata": {
  "kernelspec": {
   "display_name": "Python 3",
   "language": "python",
   "name": "python3"
  },
  "language_info": {
   "codemirror_mode": {
    "name": "ipython",
    "version": 3
   },
   "file_extension": ".py",
   "mimetype": "text/x-python",
   "name": "python",
   "nbconvert_exporter": "python",
   "pygments_lexer": "ipython3",
   "version": "3.7.6"
  }
 },
 "nbformat": 4,
 "nbformat_minor": 4
}
