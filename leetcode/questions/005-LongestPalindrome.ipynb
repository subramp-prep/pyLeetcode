{
 "cells": [
  {
   "cell_type": "markdown",
   "metadata": {},
   "source": [
    "## 005 - Longest Palindrome\n",
    "\n",
    "Given a string s, find the longest palindromic substring in s. You may assume that the maximum length of s is 1000.\n",
    "\n",
    "Example 1:\n",
    "```\n",
    "Input: \"babad\"\n",
    "Output: \"bab\"\n",
    "Note: \"aba\" is also a valid answer.\n",
    "```\n",
    "Example 2:\n",
    "```\n",
    "Input: \"cbbd\"\n",
    "Output: \"bb\"\n",
    "```"
   ]
  },
  {
   "cell_type": "code",
   "execution_count": 1,
   "metadata": {},
   "outputs": [],
   "source": [
    "#TODO does not pass testcase with 'ac' where 'a' is a palindrome\n",
    "\n",
    "def longestPalindrome(s):\n",
    "\n",
    "    if len(s) == 1:\n",
    "        return s\n",
    "\n",
    "    palindromes = []\n",
    "    def helper(x, i, j, maps):\n",
    "        if i > j:\n",
    "            return 0\n",
    "\n",
    "        if i == j:\n",
    "            return 1\n",
    "\n",
    "        combo = str(i) + '|' + str(j)\n",
    "\n",
    "        if combo not in maps:\n",
    "\n",
    "            def isPalindrome(s, start, end):\n",
    "                while start <= end:\n",
    "                    if s[start] != s[end]:\n",
    "                        return False\n",
    "                    \n",
    "                    start += 1\n",
    "                    end -= 1\n",
    "                \n",
    "                return True\n",
    "\n",
    "            if x[i] == x[j]:\n",
    "                maps[combo] = helper(x, i+1, j-1, maps) + 2\n",
    "\n",
    "                if isPalindrome(x,i, j):\n",
    "                    palindromes.append(''.join(list(s[i:j+1])))\n",
    "            else:\n",
    "                maps[combo] = max(helper(x, i+1, j, maps), helper(x, i, j-1, maps))\n",
    "\n",
    "        return maps[combo]\n",
    "\n",
    "    helper(s, 0, len(s)-1, {})\n",
    "\n",
    "    if len(palindromes) > 0:\n",
    "        return sorted(palindromes, key=lambda x: len(x))[-1]\n",
    "\n",
    "    return None"
   ]
  },
  {
   "cell_type": "code",
   "execution_count": 2,
   "metadata": {},
   "outputs": [
    {
     "name": "stdout",
     "output_type": "stream",
     "text": [
      "a\n"
     ]
    }
   ],
   "source": [
    "print(longestPalindrome('a'))"
   ]
  },
  {
   "cell_type": "code",
   "execution_count": 3,
   "metadata": {},
   "outputs": [
    {
     "name": "stdout",
     "output_type": "stream",
     "text": [
      "malayalam\n"
     ]
    }
   ],
   "source": [
    "print(longestPalindrome('babadmalayalamhahaha'))"
   ]
  },
  {
   "cell_type": "code",
   "execution_count": 4,
   "metadata": {},
   "outputs": [
    {
     "name": "stdout",
     "output_type": "stream",
     "text": [
      "bb\n"
     ]
    }
   ],
   "source": [
    "print(longestPalindrome('cbbd'))"
   ]
  },
  {
   "cell_type": "code",
   "execution_count": 5,
   "metadata": {},
   "outputs": [
    {
     "name": "stdout",
     "output_type": "stream",
     "text": [
      "None\n"
     ]
    }
   ],
   "source": [
    "print(longestPalindrome('car'))"
   ]
  },
  {
   "cell_type": "markdown",
   "metadata": {},
   "source": [
    "### Note: failed for testcase 'ac' where output expected to be 'a'"
   ]
  }
 ],
 "metadata": {
  "kernelspec": {
   "display_name": "Python 3",
   "language": "python",
   "name": "python3"
  },
  "language_info": {
   "codemirror_mode": {
    "name": "ipython",
    "version": 3
   },
   "file_extension": ".py",
   "mimetype": "text/x-python",
   "name": "python",
   "nbconvert_exporter": "python",
   "pygments_lexer": "ipython3",
   "version": "3.7.1"
  }
 },
 "nbformat": 4,
 "nbformat_minor": 2
}
