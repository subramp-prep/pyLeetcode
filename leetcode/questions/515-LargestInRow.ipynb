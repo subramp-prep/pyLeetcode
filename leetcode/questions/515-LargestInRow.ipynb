{
 "cells": [
  {
   "cell_type": "markdown",
   "metadata": {},
   "source": [
    "## 515. Find Largest Value in Each Tree Row\n",
    "\n",
    "You need to find the largest value in each row of a binary tree.\n",
    "\n",
    "Example:\n",
    "Input: \n",
    "```\n",
    "          1\n",
    "         / \\\n",
    "        3   2\n",
    "       / \\   \\  \n",
    "      5   3   9 \n",
    "```\n",
    "Output: [1, 3, 9]"
   ]
  },
  {
   "cell_type": "code",
   "execution_count": 1,
   "metadata": {},
   "outputs": [],
   "source": [
    "class TreeNode:\n",
    "    def __init__(self, val, left=None, right=None):\n",
    "        self.val = val\n",
    "        self.left = left\n",
    "        self.right = right\n",
    "\n",
    "def findLargest(root):\n",
    "    output = []\n",
    "\n",
    "    def helper(head, level):\n",
    "        if head:\n",
    "\n",
    "            if level+1 > len(output):\n",
    "                output.append(head.val)\n",
    "\n",
    "            output[level] = max(output[level], head.val)\n",
    "\n",
    "            helper(head.left, level+1)\n",
    "            helper(head.right, level+1)\n",
    "\n",
    "    helper(root, 0)\n",
    "\n",
    "    return output"
   ]
  },
  {
   "cell_type": "code",
   "execution_count": 2,
   "metadata": {},
   "outputs": [
    {
     "name": "stdout",
     "output_type": "stream",
     "text": [
      "[1, 3, 9]\n"
     ]
    }
   ],
   "source": [
    "root = TreeNode(1, TreeNode(3, TreeNode(5), TreeNode(3)), TreeNode(2, None, TreeNode(9)))\n",
    "print(findLargest(root))"
   ]
  }
 ],
 "metadata": {
  "kernelspec": {
   "display_name": "Python 3",
   "language": "python",
   "name": "python3"
  },
  "language_info": {
   "codemirror_mode": {
    "name": "ipython",
    "version": 3
   },
   "file_extension": ".py",
   "mimetype": "text/x-python",
   "name": "python",
   "nbconvert_exporter": "python",
   "pygments_lexer": "ipython3",
   "version": "3.7.1"
  }
 },
 "nbformat": 4,
 "nbformat_minor": 2
}
