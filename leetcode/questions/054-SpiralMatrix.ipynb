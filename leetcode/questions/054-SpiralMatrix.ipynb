{
 "cells": [
  {
   "cell_type": "markdown",
   "metadata": {},
   "source": [
    "## 54 - Spiral Matrix\n",
    "\n",
    "Given a matrix of m x n elements (m rows, n columns), return all elements of the matrix in spiral order.\n",
    "\n",
    "Example 1:\n",
    "\n",
    "Input:\n",
    "```\n",
    "[\n",
    " [ 1, 2, 3 ],\n",
    " [ 4, 5, 6 ],\n",
    " [ 7, 8, 9 ]\n",
    "]\n",
    "```\n",
    "Output: [1,2,3,6,9,8,7,4,5]\n",
    "Example 2:\n",
    "\n",
    "Input:\n",
    "```\n",
    "[\n",
    "  [1, 2, 3, 4],\n",
    "  [5, 6, 7, 8],\n",
    "  [9,10,11,12]\n",
    "]\n",
    "```\n",
    "Output: [1,2,3,4,8,12,11,10,9,5,6,7]"
   ]
  },
  {
   "cell_type": "code",
   "execution_count": 3,
   "metadata": {},
   "outputs": [],
   "source": [
    "def spiralOrder(nums):\n",
    "    output = []\n",
    "\n",
    "    if len(nums) <= 0:\n",
    "        return output\n",
    "\n",
    "    r = c = di = 0\n",
    "    dr = [0, 1, 0, -1]\n",
    "    dc = [1, 0, -1, 0]\n",
    "    seen = [[False for _ in range(len(nums[0]))] for _ in range(len(nums))]\n",
    "\n",
    "    for _ in range(len(nums)*len(nums[0])):\n",
    "        output.append(nums[r][c])\n",
    "        seen[r][c] = True\n",
    "\n",
    "        cr, cc = r + dr[di], c + dc[di]\n",
    "        if 0 <= cr < len(nums) and 0 <= cc < len(nums[0]) and seen[cr][cc] == False:\n",
    "            r, c = cr, cc\n",
    "        else:\n",
    "            di = (di+1)%4\n",
    "            r , c = r + dr[di], c + dc[di]\n",
    "\n",
    "    return output"
   ]
  },
  {
   "cell_type": "code",
   "execution_count": 4,
   "metadata": {},
   "outputs": [
    {
     "name": "stdout",
     "output_type": "stream",
     "text": [
      "[1, 2, 3, 4, 8, 12, 11, 10, 9, 5, 6, 7]\n"
     ]
    }
   ],
   "source": [
    "print(spiralOrder([\n",
    "  [1, 2, 3, 4],\n",
    "  [5, 6, 7, 8],\n",
    "  [9,10,11,12]\n",
    "]))"
   ]
  }
 ],
 "metadata": {
  "kernelspec": {
   "display_name": "Python 3",
   "language": "python",
   "name": "python3"
  },
  "language_info": {
   "codemirror_mode": {
    "name": "ipython",
    "version": 3
   },
   "file_extension": ".py",
   "mimetype": "text/x-python",
   "name": "python",
   "nbconvert_exporter": "python",
   "pygments_lexer": "ipython3",
   "version": "3.7.1"
  }
 },
 "nbformat": 4,
 "nbformat_minor": 2
}
