{
 "cells": [
  {
   "cell_type": "markdown",
   "metadata": {},
   "source": [
    "## 991 Broken Calculator\n",
    "\n",
    "On a broken calculator that has a number showing on its display, we can perform two operations:\n",
    "\n",
    "Double: Multiply the number on the display by 2, or;\n",
    "Decrement: Subtract 1 from the number on the display.\n",
    "Initially, the calculator is displaying the number X.\n",
    "\n",
    "Return the minimum number of operations needed to display the number Y.\n",
    "\n",
    " \n",
    "\n",
    "Example 1:\n",
    "```\n",
    "Input: X = 2, Y = 3\n",
    "Output: 2\n",
    "Explanation: Use double operation and then decrement operation {2 -> 4 -> 3}.\n",
    "```\n",
    "Example 2:\n",
    "```\n",
    "Input: X = 5, Y = 8\n",
    "Output: 2\n",
    "Explanation: Use decrement and then double {5 -> 4 -> 8}.\n",
    "```\n",
    "Example 3:\n",
    "```\n",
    "Input: X = 3, Y = 10\n",
    "Output: 3\n",
    "Explanation:  Use double, decrement and double {3 -> 6 -> 5 -> 10}.\n",
    "```\n",
    "Example 4:\n",
    "```\n",
    "Input: X = 1024, Y = 1\n",
    "Output: 1023\n",
    "Explanation: Use decrement operations 1023 times.\n",
    "```\n",
    "\n",
    "Note:\n",
    "\n",
    "1 <= X <= 10^9\n",
    "1 <= Y <= 10^9"
   ]
  },
  {
   "cell_type": "code",
   "execution_count": 10,
   "metadata": {},
   "outputs": [],
   "source": [
    "def brokenCalc(X, Y):\n",
    "    count = 0\n",
    "    while X < Y:\n",
    "        count += 1\n",
    "        \n",
    "        if Y%2:\n",
    "            Y += 1\n",
    "        else:\n",
    "            Y /= 2\n",
    "            \n",
    "    return count + X-int(Y)"
   ]
  },
  {
   "cell_type": "code",
   "execution_count": 11,
   "metadata": {},
   "outputs": [
    {
     "name": "stdout",
     "output_type": "stream",
     "text": [
      "1023\n"
     ]
    }
   ],
   "source": [
    "print(brokenCalc(1024, 1))"
   ]
  },
  {
   "cell_type": "code",
   "execution_count": 12,
   "metadata": {},
   "outputs": [
    {
     "name": "stdout",
     "output_type": "stream",
     "text": [
      "2\n"
     ]
    }
   ],
   "source": [
    "print(brokenCalc(2, 3))"
   ]
  }
 ],
 "metadata": {
  "kernelspec": {
   "display_name": "Python 3",
   "language": "python",
   "name": "python3"
  },
  "language_info": {
   "codemirror_mode": {
    "name": "ipython",
    "version": 3
   },
   "file_extension": ".py",
   "mimetype": "text/x-python",
   "name": "python",
   "nbconvert_exporter": "python",
   "pygments_lexer": "ipython3",
   "version": "3.7.1"
  }
 },
 "nbformat": 4,
 "nbformat_minor": 2
}
