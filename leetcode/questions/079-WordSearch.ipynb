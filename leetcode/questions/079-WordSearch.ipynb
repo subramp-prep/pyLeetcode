{
 "cells": [
  {
   "cell_type": "markdown",
   "metadata": {},
   "source": [
    "## 079 Word Search\n",
    "\n",
    "Given a 2D board and a word, find if the word exists in the grid.\n",
    "\n",
    "The word can be constructed from letters of sequentially adjacent cell, where \"adjacent\" cells are those horizontally or vertically neighboring. The same letter cell may not be used more than once.\n",
    "\n",
    "Example:\n",
    "```\n",
    "board =\n",
    "[\n",
    "  ['A','B','C','E'],\n",
    "  ['S','F','C','S'],\n",
    "  ['A','D','E','E']\n",
    "]\n",
    "\n",
    "Given word = \"ABCCED\", return true.\n",
    "Given word = \"SEE\", return true.\n",
    "Given word = \"ABCB\", return false.\n",
    "``` \n",
    "\n",
    "Constraints:\n",
    "\n",
    "board and word consists only of lowercase and uppercase English letters.\n",
    "1 <= board.length <= 200\n",
    "1 <= board[i].length <= 200\n",
    "1 <= word.length <= 10^3"
   ]
  },
  {
   "cell_type": "code",
   "execution_count": 11,
   "metadata": {},
   "outputs": [],
   "source": [
    "def wordExist(board, word):\n",
    "    \n",
    "    rows = len(board)\n",
    "    columns = len(board[0])\n",
    "\n",
    "    dp = [[False for _ in range(columns)] for _ in range(rows)]\n",
    "\n",
    "    def dfs(x, y, text, visited):\n",
    "        if not text:\n",
    "            return True\n",
    "\n",
    "        if (x,y) in visited or x < 0 or y < 0 or x >= rows or y >= columns or board[x][y] != text[0]:\n",
    "            return False\n",
    "\n",
    "        return (dfs(x+1, y, text[1:], visited + [(x,y)]) or \n",
    "                dfs(x-1, y, text[1:], visited + [(x,y)]) or\n",
    "                dfs(x, y+1, text[1:], visited + [(x,y)]) or \n",
    "                dfs(x, y-1, text[1:], visited + [(x,y)]))\n",
    "\n",
    "    for i in range(rows):\n",
    "        for j in range(columns):\n",
    "            if board[i][j] == word[0]:\n",
    "                if dfs(i, j, word, []):\n",
    "                    return True\n",
    "\n",
    "    return False"
   ]
  },
  {
   "cell_type": "code",
   "execution_count": 12,
   "metadata": {},
   "outputs": [
    {
     "name": "stdout",
     "output_type": "stream",
     "text": [
      "SEE True\n",
      "ABCCED True\n",
      "ABCB False\n"
     ]
    }
   ],
   "source": [
    "board = [\n",
    "  ['A','B','C','E'],\n",
    "  ['S','F','C','S'],\n",
    "  ['A','D','E','E']\n",
    "]\n",
    "\n",
    "print(\"SEE\", wordExist(board, \"SEE\"))\n",
    "print(\"ABCCED\", wordExist(board, \"ABCCED\"))\n",
    "print(\"ABCB\", wordExist(board, \"ABCB\"))"
   ]
  }
 ],
 "metadata": {
  "kernelspec": {
   "display_name": "Python 3",
   "language": "python",
   "name": "python3"
  },
  "language_info": {
   "codemirror_mode": {
    "name": "ipython",
    "version": 3
   },
   "file_extension": ".py",
   "mimetype": "text/x-python",
   "name": "python",
   "nbconvert_exporter": "python",
   "pygments_lexer": "ipython3",
   "version": "3.7.6"
  }
 },
 "nbformat": 4,
 "nbformat_minor": 2
}
