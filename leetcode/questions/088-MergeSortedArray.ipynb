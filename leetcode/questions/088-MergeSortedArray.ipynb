{
 "cells": [
  {
   "cell_type": "markdown",
   "metadata": {},
   "source": [
    "## 88. Merge Sorted Array\n",
    "\n",
    "Given two sorted integer arrays nums1 and nums2, merge nums2 into nums1 as one sorted array.\n",
    "\n",
    "Note:\n",
    "\n",
    "The number of elements initialized in nums1 and nums2 are m and n respectively.\n",
    "You may assume that nums1 has enough space (size that is greater or equal to m + n) to hold additional elements from nums2.\n",
    "Example:\n",
    "\n",
    "Input:\n",
    "```\n",
    "nums1 = [1,2,3,0,0,0], m = 3\n",
    "nums2 = [2,5,6],       n = 3\n",
    "```\n",
    "Output: [1,2,2,3,5,6]"
   ]
  },
  {
   "cell_type": "code",
   "execution_count": 2,
   "metadata": {},
   "outputs": [],
   "source": [
    "def merge(nums1, m, nums2, n):\n",
    "        \n",
    "        i = m-1\n",
    "        j = n-1\n",
    "        index = m+n-1\n",
    "        \n",
    "        while i >= 0 and j >= 0:\n",
    "            if nums1[i] < nums2[j]:\n",
    "                nums1[index] = nums2[j]\n",
    "                j -= 1\n",
    "            else:\n",
    "                nums1[index] = nums1[i]\n",
    "                i -= 1\n",
    "            \n",
    "            index -= 1\n",
    "                \n",
    "        while i >= 0:\n",
    "            nums1[index] = nums1[i]\n",
    "            i -= 1\n",
    "            index -= 1\n",
    "            \n",
    "        while j >= 0:\n",
    "            nums1[index] = nums2[j]\n",
    "            j -= 1\n",
    "            index -= 1\n",
    "            \n",
    "        return nums1"
   ]
  },
  {
   "cell_type": "code",
   "execution_count": 3,
   "metadata": {},
   "outputs": [
    {
     "name": "stdout",
     "output_type": "stream",
     "text": [
      "[1, 2, 2, 3, 5, 6]\n"
     ]
    }
   ],
   "source": [
    "print(merge([1,2,3,0,0,0], 3, [2,5,6], 3))"
   ]
  },
  {
   "cell_type": "code",
   "execution_count": 5,
   "metadata": {},
   "outputs": [
    {
     "name": "stdout",
     "output_type": "stream",
     "text": [
      "[1]\n"
     ]
    }
   ],
   "source": [
    "print(merge([0], 0, [1], 1))"
   ]
  },
  {
   "cell_type": "code",
   "execution_count": null,
   "metadata": {},
   "outputs": [],
   "source": []
  }
 ],
 "metadata": {
  "kernelspec": {
   "display_name": "Python 3",
   "language": "python",
   "name": "python3"
  },
  "language_info": {
   "codemirror_mode": {
    "name": "ipython",
    "version": 3
   },
   "file_extension": ".py",
   "mimetype": "text/x-python",
   "name": "python",
   "nbconvert_exporter": "python",
   "pygments_lexer": "ipython3",
   "version": "3.7.6"
  }
 },
 "nbformat": 4,
 "nbformat_minor": 4
}
