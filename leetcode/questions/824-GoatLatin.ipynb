{
 "cells": [
  {
   "cell_type": "markdown",
   "metadata": {},
   "source": [
    "## 824. Goat Latin\n",
    "\n",
    "A sentence S is given, composed of words separated by spaces. Each word consists of lowercase and uppercase letters only.\n",
    "\n",
    "We would like to convert the sentence to \"Goat Latin\" (a made-up language similar to Pig Latin.)\n",
    "\n",
    "The rules of Goat Latin are as follows:\n",
    "\n",
    "If a word begins with a vowel (a, e, i, o, or u), append \"ma\" to the end of the word.\n",
    "For example, the word 'apple' becomes 'applema'.\n",
    " \n",
    "If a word begins with a consonant (i.e. not a vowel), remove the first letter and append it to the end, then add \"ma\".\n",
    "For example, the word \"goat\" becomes \"oatgma\".\n",
    " \n",
    "Add one letter 'a' to the end of each word per its word index in the sentence, starting with 1.\n",
    "For example, the first word gets \"a\" added to the end, the second word gets \"aa\" added to the end and so on.\n",
    "Return the final sentence representing the conversion from S to Goat Latin. \n",
    "\n",
    " \n",
    "\n",
    "Example 1:\n",
    "```\n",
    "Input: \"I speak Goat Latin\"\n",
    "Output: \"Imaa peaksmaaa oatGmaaaa atinLmaaaaa\"\n",
    "```\n",
    "Example 2:\n",
    "```\n",
    "Input: \"The quick brown fox jumped over the lazy dog\"\n",
    "Output: \"heTmaa uickqmaaa rownbmaaaa oxfmaaaaa umpedjmaaaaaa overmaaaaaaa hetmaaaaaaaa azylmaaaaaaaaa ogdmaaaaaaaaaa\"\n",
    "```\n",
    "\n",
    "Notes:\n",
    "```\n",
    "S contains only uppercase, lowercase and spaces. Exactly one space between each word.\n",
    "1 <= S.length <= 150.\n",
    "```"
   ]
  },
  {
   "cell_type": "code",
   "execution_count": 1,
   "metadata": {},
   "outputs": [],
   "source": [
    "def toGoatLatin(S):\n",
    "    S = S.split()\n",
    "    output = []\n",
    "\n",
    "    for i, s in enumerate(S):\n",
    "        if s[0].lower() in ['aeiou']:\n",
    "            output.append(s + 'ma' + 'a'*(i+1))\n",
    "        else:\n",
    "            output.append(s[1:] + s[0] + 'ma' + 'a'*(i+1))\n",
    "\n",
    "\n",
    "    return ' '.join(output)"
   ]
  },
  {
   "cell_type": "code",
   "execution_count": 2,
   "metadata": {},
   "outputs": [
    {
     "name": "stdout",
     "output_type": "stream",
     "text": [
      "Imaa peaksmaaa oatGmaaaa atinLmaaaaa\n"
     ]
    }
   ],
   "source": [
    "print(toGoatLatin(\"I speak Goat Latin\"))"
   ]
  }
 ],
 "metadata": {
  "kernelspec": {
   "display_name": "Python 3",
   "language": "python",
   "name": "python3"
  },
  "language_info": {
   "codemirror_mode": {
    "name": "ipython",
    "version": 3
   },
   "file_extension": ".py",
   "mimetype": "text/x-python",
   "name": "python",
   "nbconvert_exporter": "python",
   "pygments_lexer": "ipython3",
   "version": "3.7.6"
  }
 },
 "nbformat": 4,
 "nbformat_minor": 4
}
