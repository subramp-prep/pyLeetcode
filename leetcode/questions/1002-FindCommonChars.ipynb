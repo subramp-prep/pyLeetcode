{
 "cells": [
  {
   "cell_type": "markdown",
   "metadata": {},
   "source": [
    "## 1002-Find common chars\n",
    "\n",
    "Given an array A of strings made only from lowercase letters, return a list of all characters that show up in all strings within the list (including duplicates).  For example, if a character occurs 3 times in all strings but not 4 times, you need to include that character three times in the final answer.\n",
    "\n",
    "You may return the answer in any order.\n",
    "\n",
    "Example 1:\n",
    "```\n",
    "Input: [\"bella\",\"label\",\"roller\"]\n",
    "Output: [\"e\",\"l\",\"l\"]\n",
    "```\n",
    "Example 2:\n",
    "```\n",
    "Input: [\"cool\",\"lock\",\"cook\"]\n",
    "Output: [\"c\",\"o\"]\n",
    "```\n",
    "\n",
    "Note:\n",
    "\n",
    "1 <= A.length <= 100\n",
    "1 <= A[i].length <= 100\n",
    "A[i][j] is a lowercase letter"
   ]
  },
  {
   "cell_type": "code",
   "execution_count": 3,
   "metadata": {},
   "outputs": [],
   "source": [
    "import collections\n",
    "\n",
    "def commonChars(A):\n",
    "        res = collections.Counter(A[0])\n",
    "        for a in A:\n",
    "            res = res & collections.Counter(a)\n",
    "\n",
    "        \n",
    "        return list(res.elements())"
   ]
  },
  {
   "cell_type": "code",
   "execution_count": 4,
   "metadata": {},
   "outputs": [
    {
     "name": "stdout",
     "output_type": "stream",
     "text": [
      "['e', 'l', 'l']\n"
     ]
    }
   ],
   "source": [
    "print(commonChars([\"bella\", \"label\", \"roller\"]))"
   ]
  },
  {
   "cell_type": "code",
   "execution_count": 5,
   "metadata": {},
   "outputs": [
    {
     "name": "stdout",
     "output_type": "stream",
     "text": [
      "['c', 'o']\n"
     ]
    }
   ],
   "source": [
    "print(commonChars([\"cool\",\"lock\",\"cook\"]))"
   ]
  }
 ],
 "metadata": {
  "kernelspec": {
   "display_name": "Python 3",
   "language": "python",
   "name": "python3"
  },
  "language_info": {
   "codemirror_mode": {
    "name": "ipython",
    "version": 3
   },
   "file_extension": ".py",
   "mimetype": "text/x-python",
   "name": "python",
   "nbconvert_exporter": "python",
   "pygments_lexer": "ipython3",
   "version": "3.7.1"
  }
 },
 "nbformat": 4,
 "nbformat_minor": 2
}
