{
 "cells": [
  {
   "cell_type": "markdown",
   "metadata": {},
   "source": [
    "## 227. Basic Calculator II\n",
    "\n",
    "Implement a basic calculator to evaluate a simple expression string.\n",
    "\n",
    "The expression string contains only non-negative integers, +, -, *, / operators and empty spaces . The integer division should truncate toward zero.\n",
    "\n",
    "Example 1:\n",
    "```\n",
    "Input: \"3+2*2\"\n",
    "Output: 7\n",
    "```\n",
    "Example 2:\n",
    "```\n",
    "Input: \" 3/2 \"\n",
    "Output: 1\n",
    "```\n",
    "Example 3:\n",
    "```\n",
    "Input: \" 3+5 / 2 \"\n",
    "Output: 5\n",
    "```\n",
    "Note:\n",
    "```\n",
    "You may assume that the given expression is always valid.\n",
    "Do not use the eval built-in library function.\n",
    "```"
   ]
  },
  {
   "cell_type": "code",
   "execution_count": 1,
   "metadata": {},
   "outputs": [],
   "source": [
    "def calculate(s):\n",
    "\n",
    "    stack = []\n",
    "    sign = '+'\n",
    "    num = 0\n",
    "    for i in range(len(s)):\n",
    "        if s[i].isdigit():\n",
    "            num = num*10 + int(s[i])\n",
    "\n",
    "        if s[i] in \"+-*/\" or i == len(s)-1:\n",
    "            if sign == '+':\n",
    "                stack.append(num)\n",
    "            elif sign == '-':\n",
    "                stack.append(-num)\n",
    "            elif sign == '*':\n",
    "                stack.append(stack.pop()*num)\n",
    "            else:\n",
    "                stack.append(int(stack.pop()/num))\n",
    "\n",
    "            sign = s[i]\n",
    "            num = 0\n",
    "\n",
    "    return sum(stack)"
   ]
  },
  {
   "cell_type": "code",
   "execution_count": 2,
   "metadata": {},
   "outputs": [
    {
     "name": "stdout",
     "output_type": "stream",
     "text": [
      "5\n"
     ]
    }
   ],
   "source": [
    "print(calculate(\" 3+5 / 2 \"))"
   ]
  },
  {
   "cell_type": "code",
   "execution_count": 3,
   "metadata": {},
   "outputs": [
    {
     "name": "stdout",
     "output_type": "stream",
     "text": [
      "7\n"
     ]
    }
   ],
   "source": [
    "print(calculate(\"3+2*2\"))"
   ]
  },
  {
   "cell_type": "code",
   "execution_count": 4,
   "metadata": {},
   "outputs": [
    {
     "name": "stdout",
     "output_type": "stream",
     "text": [
      "1\n"
     ]
    }
   ],
   "source": [
    "print(calculate(\" 3/2 \"))"
   ]
  }
 ],
 "metadata": {
  "kernelspec": {
   "display_name": "Python 3",
   "language": "python",
   "name": "python3"
  },
  "language_info": {
   "codemirror_mode": {
    "name": "ipython",
    "version": 3
   },
   "file_extension": ".py",
   "mimetype": "text/x-python",
   "name": "python",
   "nbconvert_exporter": "python",
   "pygments_lexer": "ipython3",
   "version": "3.7.6"
  }
 },
 "nbformat": 4,
 "nbformat_minor": 4
}
