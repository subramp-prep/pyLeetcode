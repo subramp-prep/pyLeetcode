{
 "cells": [
  {
   "cell_type": "markdown",
   "metadata": {},
   "source": [
    "## 108 - Convert Sorted array to BST\n",
    "\n",
    "Given an array where elements are sorted in ascending order, convert it to a height balanced BST.\n",
    "\n",
    "For this problem, a height-balanced binary tree is defined as a binary tree in which the depth of the two subtrees of every node never differ by more than 1.\n",
    "\n",
    "Example:\n",
    "```\n",
    "Given the sorted array: [-10,-3,0,5,9],\n",
    "\n",
    "One possible answer is: [0,-3,9,-10,null,5], which represents the following height balanced BST:\n",
    "\n",
    "      0\n",
    "     / \\\n",
    "   -3   9\n",
    "   /   /\n",
    " -10  5\n",
    "```"
   ]
  },
  {
   "cell_type": "code",
   "execution_count": 1,
   "metadata": {},
   "outputs": [],
   "source": [
    "class TreeNode:\n",
    "    def __init__(self, val, left=None, right=None):\n",
    "        self.val= val\n",
    "        self.left = left\n",
    "        self.right = right\n",
    "\n",
    "def buildBST(nums):\n",
    "    if len(nums) == 0:\n",
    "        return None\n",
    "    elif len(nums) == 1:\n",
    "        return TreeNode(nums[0])\n",
    "    elif len(nums) == 2:\n",
    "        root = TreeNode(nums[1])\n",
    "        root.left =  TreeNode(nums[0])\n",
    "        return root\n",
    "    else:\n",
    "        mid = int(len(nums)/2)\n",
    "        root = TreeNode(nums[mid])\n",
    "        root.left = buildBST(nums[:mid])\n",
    "        root.right = buildBST(nums[mid+1:])\n",
    "        return root"
   ]
  },
  {
   "cell_type": "code",
   "execution_count": 2,
   "metadata": {},
   "outputs": [],
   "source": [
    "def buildBST(nums):\n",
    "    if len(nums) <= 0:\n",
    "        return None\n",
    "    \n",
    "    mid = (len(nums)-1)/2\n",
    "    root = TreeNode(nums[mid])\n",
    "    root.left = buildBST(nums[:mid])\n",
    "    root.right = buildBST(nums[mid+1:])\n",
    "    \n",
    "    return root"
   ]
  }
 ],
 "metadata": {
  "kernelspec": {
   "display_name": "Python 3",
   "language": "python",
   "name": "python3"
  },
  "language_info": {
   "codemirror_mode": {
    "name": "ipython",
    "version": 3
   },
   "file_extension": ".py",
   "mimetype": "text/x-python",
   "name": "python",
   "nbconvert_exporter": "python",
   "pygments_lexer": "ipython3",
   "version": "3.7.1"
  }
 },
 "nbformat": 4,
 "nbformat_minor": 2
}
