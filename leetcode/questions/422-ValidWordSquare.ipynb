{
 "cells": [
  {
   "cell_type": "markdown",
   "metadata": {},
   "source": [
    "## Q422 Valid Word Square\n",
    "\n",
    "Given a sequence of words, check whether it forms a valid word square.\n",
    "\n",
    "A sequence of words forms a valid word square if the kth row and column read the exact same string, where 0 ≤ k < max(numRows, numColumns).\n",
    "\n",
    "Note:\n",
    "The number of words given is at least 1 and does not exceed 500.\n",
    "Word length will be at least 1 and does not exceed 500.\n",
    "Each word contains only lowercase English alphabet a-z.\n",
    "Example 1:\n",
    "\n",
    "Input:\n",
    "[\n",
    "  \"abcd\",\n",
    "  \"bnrt\",\n",
    "  \"crmy\",\n",
    "  \"dtye\"\n",
    "]\n",
    "\n",
    "Output:\n",
    "true\n",
    "\n",
    "Explanation:\n",
    "The first row and first column both read \"abcd\".\n",
    "The second row and second column both read \"bnrt\".\n",
    "The third row and third column both read \"crmy\".\n",
    "The fourth row and fourth column both read \"dtye\".\n",
    "\n",
    "Therefore, it is a valid word square.\n",
    "Example 2:\n",
    "\n",
    "Input:\n",
    "```\n",
    "[\n",
    "  \"abcd\",\n",
    "  \"bnrt\",\n",
    "  \"crm\",\n",
    "  \"dt\"\n",
    "]\n",
    "```\n",
    "Output:\n",
    "```\n",
    "true\n",
    "```\n",
    "Explanation:\n",
    "```\n",
    "The first row and first column both read \"abcd\".\n",
    "The second row and second column both read \"bnrt\".\n",
    "The third row and third column both read \"crm\".\n",
    "The fourth row and fourth column both read \"dt\".\n",
    "```\n",
    "Therefore, it is a valid word square.\n",
    "Example 3:\n",
    "\n",
    "Input:\n",
    "```\n",
    "[\n",
    "  \"ball\",\n",
    "  \"area\",\n",
    "  \"read\",\n",
    "  \"lady\"\n",
    "]\n",
    "```\n",
    "Output:\n",
    "```\n",
    "false\n",
    "```\n",
    "Explanation:\n",
    "```\n",
    "The third row reads \"read\" while the third column reads \"lead\".\n",
    "\n",
    "Therefore, it is NOT a valid word square.\n",
    "```"
   ]
  },
  {
   "cell_type": "code",
   "execution_count": 1,
   "metadata": {},
   "outputs": [],
   "source": [
    "def validWordSquare(words):\n",
    "    try:\n",
    "        for i in range(len(words)):\n",
    "            for j in range(len(words[i])):\n",
    "                if words[i][j] != words[j][i]:\n",
    "                    return False\n",
    "\n",
    "        return True\n",
    "    except IndexError:\n",
    "        return False"
   ]
  },
  {
   "cell_type": "code",
   "execution_count": 3,
   "metadata": {},
   "outputs": [
    {
     "name": "stdout",
     "output_type": "stream",
     "text": [
      "True\n"
     ]
    }
   ],
   "source": [
    "print(validWordSquare([\n",
    "  \"abcd\",\n",
    "  \"bnrt\",\n",
    "  \"crm\",\n",
    "  \"dt\"\n",
    "]))"
   ]
  },
  {
   "cell_type": "code",
   "execution_count": 4,
   "metadata": {},
   "outputs": [
    {
     "name": "stdout",
     "output_type": "stream",
     "text": [
      "False\n"
     ]
    }
   ],
   "source": [
    "print(validWordSquare([\n",
    "  \"ball\",\n",
    "  \"area\",\n",
    "  \"read\",\n",
    "  \"lady\"\n",
    "]\n",
    "))"
   ]
  }
 ],
 "metadata": {
  "kernelspec": {
   "display_name": "Python 3",
   "language": "python",
   "name": "python3"
  },
  "language_info": {
   "codemirror_mode": {
    "name": "ipython",
    "version": 3
   },
   "file_extension": ".py",
   "mimetype": "text/x-python",
   "name": "python",
   "nbconvert_exporter": "python",
   "pygments_lexer": "ipython3",
   "version": "3.8.5"
  }
 },
 "nbformat": 4,
 "nbformat_minor": 4
}
