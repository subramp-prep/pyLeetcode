{
 "cells": [
  {
   "cell_type": "markdown",
   "metadata": {},
   "source": [
    "## Q286 Walls and Gates\n",
    "\n",
    "You are given a m x n 2D grid initialized with these three possible values.\n",
    "\n",
    "-1 - A wall or an obstacle.\n",
    "0 - A gate.\n",
    "INF - Infinity means an empty room. We use the value 231 - 1 = 2147483647 to represent INF as you may assume that the distance to a gate is less than 2147483647.\n",
    "Fill each empty room with the distance to its nearest gate. If it is impossible to reach a gate, it should be filled with INF.\n",
    "\n",
    "Example: \n",
    "\n",
    "Given the 2D grid:\n",
    "```\n",
    "INF  -1  0  INF\n",
    "INF INF INF  -1\n",
    "INF  -1 INF  -1\n",
    "  0  -1 INF INF\n",
    "```\n",
    "After running your function, the 2D grid should be:\n",
    "```\n",
    "  3  -1   0   1\n",
    "  2   2   1  -1\n",
    "  1  -1   2  -1\n",
    "  0  -1   3   4\n",
    "```"
   ]
  },
  {
   "cell_type": "code",
   "execution_count": 5,
   "metadata": {},
   "outputs": [],
   "source": [
    "from collections import deque\n",
    "\n",
    "def wallsAndGates(rooms):\n",
    "\n",
    "    gates = deque() # <= Important for sequencing\n",
    "\n",
    "    for i in range(len(rooms)):\n",
    "        for j in range(len(rooms[0])):\n",
    "            if rooms[i][j] == 0:\n",
    "                gates.append([i,j])\n",
    "\n",
    "    directions = [\n",
    "        [0,1],\n",
    "        [1,0],\n",
    "        [-1,0],\n",
    "        [0,-1]\n",
    "    ]\n",
    "    while len(gates) > 0:\n",
    "        row, column = gates.popleft()\n",
    "\n",
    "        for x, y in directions:\n",
    "            r = row + x\n",
    "            c = column + y\n",
    "\n",
    "            if 0 <= r < len(rooms) and 0 <= c < len(rooms[0]) and rooms[r][c] > 2**30:\n",
    "                rooms[r][c] = rooms[row][column] + 1\n",
    "                gates.append([r,c])\n",
    "\n",
    "    return rooms"
   ]
  },
  {
   "cell_type": "code",
   "execution_count": 6,
   "metadata": {},
   "outputs": [
    {
     "name": "stdout",
     "output_type": "stream",
     "text": [
      "[[3, -1, 0, 1], [2, 2, 1, -1], [1, -1, 2, -1], [0, -1, 3, 4]]\n"
     ]
    }
   ],
   "source": [
    "grid = [\n",
    "    [float(float('inf')), -1,  0,  float('inf')],\n",
    "    [float('inf'), float('inf'), float('inf'), -1],\n",
    "    [float('inf'), -1, float('inf'), -1],\n",
    "    [0, -1, float('inf'), float('inf')]\n",
    "]\n",
    "\n",
    "print(wallsAndGates(grid))"
   ]
  },
  {
   "cell_type": "code",
   "execution_count": 7,
   "metadata": {},
   "outputs": [
    {
     "name": "stdout",
     "output_type": "stream",
     "text": [
      "[]\n"
     ]
    }
   ],
   "source": [
    "print(wallsAndGates([]))"
   ]
  }
 ],
 "metadata": {
  "kernelspec": {
   "display_name": "Python 3",
   "language": "python",
   "name": "python3"
  },
  "language_info": {
   "codemirror_mode": {
    "name": "ipython",
    "version": 3
   },
   "file_extension": ".py",
   "mimetype": "text/x-python",
   "name": "python",
   "nbconvert_exporter": "python",
   "pygments_lexer": "ipython3",
   "version": "3.7.6"
  }
 },
 "nbformat": 4,
 "nbformat_minor": 4
}
