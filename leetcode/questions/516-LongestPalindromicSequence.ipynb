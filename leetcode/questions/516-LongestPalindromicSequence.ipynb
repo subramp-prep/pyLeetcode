{
 "cells": [
  {
   "cell_type": "markdown",
   "metadata": {},
   "source": [
    "## 516 - Longes Plaindromic Subsequence\n",
    "\n",
    "Given a string s, find the longest palindromic subsequence's length in s. You may assume that the maximum length of s is 1000.\n",
    "\n",
    "Example 1:\n",
    "Input:\n",
    "```\n",
    "\"bbbab\"\n",
    "Output:\n",
    "4\n",
    "```\n",
    "One possible longest palindromic subsequence is \"bbbb\".\n",
    "Example 2:\n",
    "```\n",
    "Input:\n",
    "\n",
    "\"cbbd\"\n",
    "Output:\n",
    "2\n",
    "```\n",
    "One possible longest palindromic subsequence is \"bb\"."
   ]
  },
  {
   "cell_type": "markdown",
   "metadata": {},
   "source": [
    "## Recursion"
   ]
  },
  {
   "cell_type": "code",
   "execution_count": 2,
   "metadata": {},
   "outputs": [],
   "source": [
    "def longestPalindrome_Recursion(s):\n",
    "    \n",
    "    def helper(X, i, j):\n",
    "        if i > j:\n",
    "            return 0\n",
    "        \n",
    "        if i == j:\n",
    "            return 1\n",
    "        \n",
    "        if X[i] == X[j]:\n",
    "            return helper(X, i+1, j-1) +2\n",
    "        \n",
    "        return max(helper(X, i+1, j), helper(X, i, j-1))\n",
    "    \n",
    "    return helper(s, 0, len(s)-1)"
   ]
  },
  {
   "cell_type": "code",
   "execution_count": 4,
   "metadata": {},
   "outputs": [
    {
     "name": "stdout",
     "output_type": "stream",
     "text": [
      "4\n"
     ]
    }
   ],
   "source": [
    "print(longestPalindrome_Recursion('bbbab'))"
   ]
  },
  {
   "cell_type": "code",
   "execution_count": 5,
   "metadata": {},
   "outputs": [
    {
     "name": "stdout",
     "output_type": "stream",
     "text": [
      "2\n"
     ]
    }
   ],
   "source": [
    "print(longestPalindrome_Recursion('cbbd'))"
   ]
  },
  {
   "cell_type": "markdown",
   "metadata": {},
   "source": [
    "## Dynamic Programming"
   ]
  },
  {
   "cell_type": "code",
   "execution_count": 2,
   "metadata": {},
   "outputs": [],
   "source": [
    "def longestPalindrome_DP(s):\n",
    "    \n",
    "    def helper(X, i, j, maps):\n",
    "        if i > j:\n",
    "            return 0\n",
    "        \n",
    "        if i == j:\n",
    "            return 1\n",
    "        \n",
    "        combo = str(i) + '|' + str(j)\n",
    "        \n",
    "        if combo not in maps:        \n",
    "            if X[i] == X[j]:\n",
    "                maps[combo] = helper(X, i+1, j-1, maps) +2\n",
    "            else:\n",
    "                maps[combo] = max(helper(X, i+1, j, maps), helper(X, i, j-1, maps))\n",
    "            \n",
    "        return maps[combo]\n",
    "    \n",
    "    return helper(s, 0, len(s)-1, {})"
   ]
  },
  {
   "cell_type": "code",
   "execution_count": 3,
   "metadata": {},
   "outputs": [
    {
     "name": "stdout",
     "output_type": "stream",
     "text": [
      "4\n"
     ]
    }
   ],
   "source": [
    "print(longestPalindrome_DP('bbbab'))"
   ]
  },
  {
   "cell_type": "code",
   "execution_count": 4,
   "metadata": {},
   "outputs": [
    {
     "name": "stdout",
     "output_type": "stream",
     "text": [
      "2\n"
     ]
    }
   ],
   "source": [
    "print(longestPalindrome_DP('cbbd'))"
   ]
  },
  {
   "cell_type": "code",
   "execution_count": 5,
   "metadata": {},
   "outputs": [
    {
     "name": "stdout",
     "output_type": "stream",
     "text": [
      "159\n"
     ]
    }
   ],
   "source": [
    "print(longestPalindrome_DP('euazbipzncptldueeuechubrcourfpftcebikrxhybkymimgvldiwqvkszfycvqyvtiwfckexmowcxztkfyzqovbtmzpxojfofbvwnncajvrvdbvjhcrameamcfmcoxryjukhpljwszknhiypvyskmsujkuggpztltpgoczafmfelahqwjbhxtjmebnymdyxoeodqmvkxittxjnlltmoobsgzdfhismogqfpfhvqnxeuosjqqalvwhsidgiavcatjjgeztrjuoixxxoznklcxolgpuktirmduxdywwlbikaqkqajzbsjvdgjcnbtfksqhquiwnwflkldgdrqrnwmshdpykicozfowmumzeuznolmgjlltypyufpzjpuvucmesnnrwppheizkapovoloneaxpfinaontwtdqsdvzmqlgkdxlbeguackbdkftzbnynmcejtwudocemcfnuzbttcoew'))"
   ]
  },
  {
   "cell_type": "markdown",
   "metadata": {},
   "source": [
    "## Dynamic programming Lookup table"
   ]
  },
  {
   "cell_type": "code",
   "execution_count": 6,
   "metadata": {},
   "outputs": [],
   "source": [
    "def longestPalindrome_DP1(s):\n",
    "\n",
    "    memo = [[0 for _ in range(len(s)+1)] for _ in range(len(s)+1)]\n",
    "\n",
    "    for i in range(len(s), -1, -1):\n",
    "        memo[i][i] = 1\n",
    "        for j in range(i+1, len(s)):\n",
    "            if s[i] == s[j]:\n",
    "                memo[i][j] = memo[i+1][j-1]+2\n",
    "            else:\n",
    "                memo[i][j] = max(memo[i+1][j], memo[i][j-1])\n",
    "    \n",
    "    return memo[0][len(s)-1]"
   ]
  },
  {
   "cell_type": "code",
   "execution_count": 9,
   "metadata": {},
   "outputs": [
    {
     "name": "stdout",
     "output_type": "stream",
     "text": [
      "2\n"
     ]
    }
   ],
   "source": [
    "print(longestPalindrome_DP1('cbbd'))"
   ]
  },
  {
   "cell_type": "code",
   "execution_count": 8,
   "metadata": {},
   "outputs": [
    {
     "name": "stdout",
     "output_type": "stream",
     "text": [
      "4\n"
     ]
    }
   ],
   "source": [
    "print(longestPalindrome_DP1('bbbab'))"
   ]
  }
 ],
 "metadata": {
  "kernelspec": {
   "display_name": "Python 3",
   "language": "python",
   "name": "python3"
  },
  "language_info": {
   "codemirror_mode": {
    "name": "ipython",
    "version": 3
   },
   "file_extension": ".py",
   "mimetype": "text/x-python",
   "name": "python",
   "nbconvert_exporter": "python",
   "pygments_lexer": "ipython3",
   "version": "3.7.1"
  }
 },
 "nbformat": 4,
 "nbformat_minor": 2
}
