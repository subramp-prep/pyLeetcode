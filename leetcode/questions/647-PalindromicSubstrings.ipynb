{
 "cells": [
  {
   "cell_type": "markdown",
   "metadata": {},
   "source": [
    "## 647 Palindromic substrings\n",
    "\n",
    "Given a string, your task is to count how many palindromic substrings in this string.\n",
    "\n",
    "The substrings with different start indexes or end indexes are counted as different substrings even they consist of same characters.\n",
    "\n",
    "Example 1:\n",
    "```\n",
    "Input: \"abc\"\n",
    "Output: 3\n",
    "```\n",
    "Explanation: Three palindromic strings: \"a\", \"b\", \"c\".\n",
    " \n",
    "\n",
    "Example 2:\n",
    "```\n",
    "Input: \"aaa\"\n",
    "Output: 6\n",
    "```\n",
    "Explanation: Six palindromic strings: \"a\", \"a\", \"a\", \"aa\", \"aa\", \"aaa\".\n",
    " \n",
    "\n",
    "Note:\n",
    "\n",
    "The input string length won't exceed 1000."
   ]
  },
  {
   "cell_type": "markdown",
   "metadata": {},
   "source": [
    "## My solution"
   ]
  },
  {
   "cell_type": "code",
   "execution_count": 14,
   "metadata": {},
   "outputs": [],
   "source": [
    "# does not work\n",
    "def countSubstrings_backtrack(s):\n",
    "    output = []\n",
    "\n",
    "    def helper(chosen, index):\n",
    "        print(chosen)\n",
    "\n",
    "        if len(chosen) > 0 and isPalindrome(''.join(chosen)):\n",
    "            output.append(chosen[::])\n",
    "            return\n",
    "\n",
    "        for i in range(index, len(s)):\n",
    "            helper(chosen + [s[i]], i + 1)\n",
    "\n",
    "    def isPalindrome(p):\n",
    "        l, h = 0, len(p)-1\n",
    "\n",
    "        while l <= h:\n",
    "            if p[l] != p[h]:\n",
    "                return False\n",
    "\n",
    "            l += 1\n",
    "            h -= 1\n",
    "\n",
    "        return True\n",
    "\n",
    "    helper([], 0)\n",
    "    print(output)\n",
    "    return len(output)"
   ]
  },
  {
   "cell_type": "markdown",
   "metadata": {},
   "source": [
    "## Working solution"
   ]
  },
  {
   "cell_type": "code",
   "execution_count": 18,
   "metadata": {},
   "outputs": [],
   "source": [
    "def countSubstrings(s):\n",
    "    N = len(s)\n",
    "    count = 0\n",
    "    \n",
    "    for i in range(2*N - 1):\n",
    "        l = i//2\n",
    "        r = l + i%2\n",
    "        \n",
    "        while l >= 0 and r < N and s[l] == s[r]:\n",
    "            count += 1\n",
    "            l -= 1\n",
    "            r += 1\n",
    "            \n",
    "    return count"
   ]
  },
  {
   "cell_type": "code",
   "execution_count": 19,
   "metadata": {},
   "outputs": [
    {
     "name": "stdout",
     "output_type": "stream",
     "text": [
      "6\n"
     ]
    }
   ],
   "source": [
    "print(countSubstrings('aaa'))"
   ]
  }
 ],
 "metadata": {
  "kernelspec": {
   "display_name": "Python 3",
   "language": "python",
   "name": "python3"
  },
  "language_info": {
   "codemirror_mode": {
    "name": "ipython",
    "version": 3
   },
   "file_extension": ".py",
   "mimetype": "text/x-python",
   "name": "python",
   "nbconvert_exporter": "python",
   "pygments_lexer": "ipython3",
   "version": "3.7.6"
  }
 },
 "nbformat": 4,
 "nbformat_minor": 2
}
