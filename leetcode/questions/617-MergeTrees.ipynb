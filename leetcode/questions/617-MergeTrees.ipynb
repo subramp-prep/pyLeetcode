{
 "cells": [
  {
   "cell_type": "markdown",
   "metadata": {},
   "source": [
    "## 617 Merge two Binary Trees\n",
    "\n",
    "Given two binary trees and imagine that when you put one of them to cover the other, some nodes of the two trees are overlapped while the others are not.\n",
    "\n",
    "You need to merge them into a new binary tree. The merge rule is that if two nodes overlap, then sum node values up as the new value of the merged node. Otherwise, the NOT null node will be used as the node of new tree.\n",
    "\n",
    "Example 1:\n",
    "\n",
    "Input:\n",
    "```\n",
    "\tTree 1                     Tree 2                  \n",
    "          1                         2                             \n",
    "         / \\                       / \\                            \n",
    "        3   2                     1   3                        \n",
    "       /                           \\   \\                      \n",
    "      5                             4   7 \n",
    "```\n",
    "Output: \n",
    "Merged tree:\n",
    "```\n",
    "\t     3\n",
    "\t    / \\\n",
    "\t   4   5\n",
    "\t  / \\   \\ \n",
    "\t 5   4   7\n",
    "```\n",
    "\n",
    "Note: The merging process must start from the root nodes of both trees."
   ]
  },
  {
   "cell_type": "code",
   "execution_count": 3,
   "metadata": {},
   "outputs": [],
   "source": [
    "class TreeNode:\n",
    "    def __init__(self, val, left=None, right=None):\n",
    "        self.val = val\n",
    "        self.left = left\n",
    "        self.right = right\n",
    "\n",
    "def levelTraversal(root):\n",
    "    output = []\n",
    "\n",
    "    def helper(head, level):\n",
    "        if head:\n",
    "\n",
    "            if level+1 > len(output):\n",
    "                output.append([])\n",
    "\n",
    "            output[level].append(head.val)\n",
    "            helper(head.left, level+1)\n",
    "            helper(head.right, level+1)\n",
    "\n",
    "    helper(root, 0)\n",
    "    return output\n",
    "\n",
    "def mergeTrees(r1, r2):\n",
    "\n",
    "    def helper(h1, h2, h):\n",
    "        if h1 or h2:\n",
    "\n",
    "            h = TreeNode((h1.val if h1 else 0) + (h2.val if h2 else 0))\n",
    "            h.left = helper((h1.left if h1 else None), \n",
    "                            (h2.left if h2 else None), h.left)\n",
    "            h.right = helper((h1.right if h1 else None),\n",
    "                             (h2.right if h2 else None), h.right)\n",
    "\n",
    "            return h\n",
    "\n",
    "        return None\n",
    "    \n",
    "    t = helper(r1, r2, None)\n",
    "\n",
    "    return t"
   ]
  },
  {
   "cell_type": "code",
   "execution_count": 4,
   "metadata": {},
   "outputs": [
    {
     "name": "stdout",
     "output_type": "stream",
     "text": [
      "[[3], [4, 5], [5, 4, 7]]\n"
     ]
    }
   ],
   "source": [
    "r1 = TreeNode(1, TreeNode(3, TreeNode(5)), TreeNode(2))\n",
    "r2 = TreeNode(2, TreeNode(1, None, TreeNode(4)), TreeNode(3, None, TreeNode(7)))\n",
    "\n",
    "mTree = mergeTrees(r1, r2)\n",
    "print(levelTraversal(mTree))"
   ]
  },
  {
   "cell_type": "markdown",
   "metadata": {},
   "source": [
    "## Optimized version"
   ]
  },
  {
   "cell_type": "code",
   "execution_count": 9,
   "metadata": {},
   "outputs": [],
   "source": [
    "def mergeTreesOpt(t1, t2):\n",
    "    if t1 is None:\n",
    "        return t2\n",
    "    \n",
    "    if t2 is None:\n",
    "        return t1\n",
    "    \n",
    "    t1.val = t1.val + t2.val\n",
    "    t1.right = mergeTreesOpt(t1.right,t2.right)\n",
    "    t1.left = mergeTreesOpt(t1.left, t2.left)\n",
    "    \n",
    "    return t1"
   ]
  },
  {
   "cell_type": "code",
   "execution_count": 10,
   "metadata": {},
   "outputs": [
    {
     "name": "stdout",
     "output_type": "stream",
     "text": [
      "[[3], [4, 5], [5, 4, 7]]\n"
     ]
    }
   ],
   "source": [
    "r1 = TreeNode(1, TreeNode(3, TreeNode(5)), TreeNode(2))\n",
    "r2 = TreeNode(2, TreeNode(1, None, TreeNode(4)), TreeNode(3, None, TreeNode(7)))\n",
    "\n",
    "mTree = mergeTreesOpt(r1, r2)\n",
    "print(levelTraversal(mTree))"
   ]
  },
  {
   "cell_type": "code",
   "execution_count": null,
   "metadata": {},
   "outputs": [],
   "source": []
  }
 ],
 "metadata": {
  "kernelspec": {
   "display_name": "Python 3",
   "language": "python",
   "name": "python3"
  },
  "language_info": {
   "codemirror_mode": {
    "name": "ipython",
    "version": 3
   },
   "file_extension": ".py",
   "mimetype": "text/x-python",
   "name": "python",
   "nbconvert_exporter": "python",
   "pygments_lexer": "ipython3",
   "version": "3.7.4"
  }
 },
 "nbformat": 4,
 "nbformat_minor": 2
}
