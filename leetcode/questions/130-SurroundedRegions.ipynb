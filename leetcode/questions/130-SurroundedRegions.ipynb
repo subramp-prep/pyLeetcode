{
 "cells": [
  {
   "cell_type": "markdown",
   "metadata": {},
   "source": [
    "## Q130 Surrounded regions\n",
    "\n",
    "Given a 2D board containing 'X' and 'O' (the letter O), capture all regions surrounded by 'X'.\n",
    "\n",
    "A region is captured by flipping all 'O's into 'X's in that surrounded region.\n",
    "\n",
    "Example:\n",
    "```\n",
    "X X X X\n",
    "X O O X\n",
    "X X O X\n",
    "X O X X\n",
    "```\n",
    "After running your function, the board should be:\n",
    "```\n",
    "X X X X\n",
    "X X X X\n",
    "X X X X\n",
    "X O X X\n",
    "```\n",
    "Explanation:\n",
    "\n",
    "Surrounded regions shouldn’t be on the border, which means that any 'O' on the border of the board are not flipped to 'X'. Any 'O' that is not on the border and it is not connected to an 'O' on the border will be flipped to 'X'. Two cells are connected if they are adjacent cells connected horizontally or vertically."
   ]
  },
  {
   "cell_type": "code",
   "execution_count": 1,
   "metadata": {},
   "outputs": [],
   "source": [
    "def solve(board):\n",
    "    if not any(board): return\n",
    "\n",
    "    m, n = len(board), len(board[0])\n",
    "    save = [ij for k in range(m+n) for ij in ((0, k), (m-1, k), (k, 0), (k, n-1))]\n",
    "    \n",
    "    while save:\n",
    "        i, j = save.pop()\n",
    "        if 0 <= i < m and 0 <= j < n and board[i][j] == 'O':\n",
    "            board[i][j] = 'S'\n",
    "            save += (i, j-1), (i, j+1), (i-1, j), (i+1, j)\n",
    "\n",
    "    board[:] = [['XO'[c == 'S'] for c in row] for row in board]"
   ]
  },
  {
   "cell_type": "code",
   "execution_count": 2,
   "metadata": {},
   "outputs": [
    {
     "name": "stdout",
     "output_type": "stream",
     "text": [
      "[['O', 'X', 'X', 'O', 'X'], ['X', 'X', 'X', 'X', 'O'], ['X', 'X', 'X', 'O', 'X'], ['O', 'X', 'O', 'O', 'O'], ['X', 'X', 'O', 'X', 'O']]\n"
     ]
    }
   ],
   "source": [
    "board = [\n",
    "    [\"O\", \"X\", \"X\", \"O\", \"X\"], \n",
    "    [\"X\", \"O\", \"O\", \"X\", \"O\"], \n",
    "    [\"X\", \"O\", \"X\", \"O\", \"X\"], \n",
    "    [\"O\", \"X\", \"O\", \"O\", \"O\"], \n",
    "    [\"X\", \"X\", \"O\", \"X\", \"O\"]\n",
    "]\n",
    "solve(board)\n",
    "print(board)"
   ]
  },
  {
   "cell_type": "markdown",
   "metadata": {},
   "source": [
    "Ref:\n",
    "https://leetcode.com/problems/surrounded-regions/discuss/41630/9-lines-Python-148-ms"
   ]
  },
  {
   "cell_type": "markdown",
   "metadata": {},
   "source": [
    "## My solution"
   ]
  },
  {
   "cell_type": "code",
   "execution_count": 1,
   "metadata": {},
   "outputs": [],
   "source": [
    "def solve_trial(board):\n",
    "    \"\"\"\n",
    "    Do not return anything, modify board in-place instead.\n",
    "    \"\"\"\n",
    "    zeroes = []\n",
    "\n",
    "    for i in range(len(board)-1):\n",
    "        for j in range(len(board[0])-1):\n",
    "            if board[i][j] == 'O':\n",
    "                zeroes.append((i, j))\n",
    "\n",
    "    print(zeroes)\n",
    "\n",
    "    directions = [\n",
    "        [1, 0], [0, 1], [0, -1], [-1, 0]\n",
    "    ]\n",
    "\n",
    "    while zeroes:\n",
    "        x, y = zeroes.pop()\n",
    "\n",
    "        connectedToBorder = False\n",
    "\n",
    "        for i, j in directions:\n",
    "            row = x+i\n",
    "            column = y+j\n",
    "\n",
    "            if (0 == row or column == 0 or row == len(board)-1 or column == len(board[0])-1) and board[row][column] == 'O':\n",
    "                connectedToBorder = True\n",
    "                print(row, column)\n",
    "\n",
    "        if not connectedToBorder:\n",
    "            board[x][y] = \"X\""
   ]
  }
 ],
 "metadata": {
  "kernelspec": {
   "display_name": "Python 3",
   "language": "python",
   "name": "python3"
  },
  "language_info": {
   "codemirror_mode": {
    "name": "ipython",
    "version": 3
   },
   "file_extension": ".py",
   "mimetype": "text/x-python",
   "name": "python",
   "nbconvert_exporter": "python",
   "pygments_lexer": "ipython3",
   "version": "3.7.6"
  }
 },
 "nbformat": 4,
 "nbformat_minor": 4
}
