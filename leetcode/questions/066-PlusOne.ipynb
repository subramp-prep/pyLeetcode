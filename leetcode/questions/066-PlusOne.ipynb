{
 "cells": [
  {
   "cell_type": "markdown",
   "metadata": {},
   "source": [
    "## 66. Plus One\n",
    "\n",
    "Given a non-empty array of digits representing a non-negative integer, plus one to the integer.\n",
    "\n",
    "The digits are stored such that the most significant digit is at the head of the list, and each element in the array contain a single digit.\n",
    "\n",
    "You may assume the integer does not contain any leading zero, except the number 0 itself.\n",
    "\n",
    "Example 1:\n",
    "```\n",
    "Input: [1,2,3]\n",
    "Output: [1,2,4]\n",
    "```\n",
    "Explanation: The array represents the integer 123.\n",
    "Example 2:\n",
    "```\n",
    "Input: [4,3,2,1]\n",
    "Output: [4,3,2,2]\n",
    "```\n",
    "Explanation: The array represents the integer 4321."
   ]
  },
  {
   "cell_type": "code",
   "execution_count": 1,
   "metadata": {},
   "outputs": [],
   "source": [
    "def plusOne(nums):\n",
    "\n",
    "    carry = 0\n",
    "    output = []\n",
    "\n",
    "    last= nums[-1] + 1\n",
    "\n",
    "    if last:\n",
    "        output.append(0)\n",
    "        output[0] = last%10\n",
    "        carry = last//10\n",
    "\n",
    "    index = 1\n",
    "    for i in range(len(nums)-2, -1, -1):\n",
    "        t = carry + nums[i]\n",
    "        output.append(0)\n",
    "        output[index] = t %10\n",
    "        carry = t//10\n",
    "        index += 1\n",
    "\n",
    "    if carry:\n",
    "        output.append(0)\n",
    "        output[index] = carry\n",
    "\n",
    "    return output[::-1]"
   ]
  },
  {
   "cell_type": "code",
   "execution_count": 2,
   "metadata": {},
   "outputs": [
    {
     "name": "stdout",
     "output_type": "stream",
     "text": [
      "[1, 0]\n"
     ]
    }
   ],
   "source": [
    "print(plusOne([9]))"
   ]
  },
  {
   "cell_type": "code",
   "execution_count": 3,
   "metadata": {},
   "outputs": [
    {
     "name": "stdout",
     "output_type": "stream",
     "text": [
      "[1, 2, 4]\n"
     ]
    }
   ],
   "source": [
    "print(plusOne([1,2,3]))"
   ]
  },
  {
   "cell_type": "code",
   "execution_count": 4,
   "metadata": {},
   "outputs": [
    {
     "name": "stdout",
     "output_type": "stream",
     "text": [
      "[1, 0, 0, 2]\n"
     ]
    }
   ],
   "source": [
    "print(plusOne([1,0,0,1]))"
   ]
  }
 ],
 "metadata": {
  "kernelspec": {
   "display_name": "Python 3",
   "language": "python",
   "name": "python3"
  },
  "language_info": {
   "codemirror_mode": {
    "name": "ipython",
    "version": 3
   },
   "file_extension": ".py",
   "mimetype": "text/x-python",
   "name": "python",
   "nbconvert_exporter": "python",
   "pygments_lexer": "ipython3",
   "version": "3.7.6"
  }
 },
 "nbformat": 4,
 "nbformat_minor": 4
}
