{
 "cells": [
  {
   "cell_type": "markdown",
   "metadata": {},
   "source": [
    "## 859. Buddy Strings\n",
    "\n",
    "Given two strings A and B of lowercase letters, return true if you can swap two letters in A so the result is equal to B, otherwise, return false.\n",
    "\n",
    "Swapping letters is defined as taking two indices i and j (0-indexed) such that i != j and swapping the characters at A[i] and A[j]. For example, swapping at indices 0 and 2 in \"abcd\" results in \"cbad\".\n",
    "\n",
    " \n",
    "\n",
    "Example 1:\n",
    "```\n",
    "Input: A = \"ab\", B = \"ba\"\n",
    "Output: true\n",
    "```\n",
    "Explanation: You can swap A[0] = 'a' and A[1] = 'b' to get \"ba\", which is equal to B.\n",
    "Example 2:\n",
    "```\n",
    "Input: A = \"ab\", B = \"ab\"\n",
    "Output: false\n",
    "```\n",
    "Explanation: The only letters you can swap are A[0] = 'a' and A[1] = 'b', which results in \"ba\" != B.\n",
    "Example 3:\n",
    "```\n",
    "Input: A = \"aa\", B = \"aa\"\n",
    "Output: true\n",
    "```\n",
    "Explanation: You can swap A[0] = 'a' and A[1] = 'a' to get \"aa\", which is equal to B.\n",
    "Example 4:\n",
    "```\n",
    "Input: A = \"aaaaaaabc\", B = \"aaaaaaacb\"\n",
    "Output: true\n",
    "```\n",
    "Example 5:\n",
    "```\n",
    "Input: A = \"\", B = \"aa\"\n",
    "Output: false\n",
    "```\n",
    "\n",
    "Constraints:\n",
    "```\n",
    "0 <= A.length <= 20000\n",
    "0 <= B.length <= 20000\n",
    "A and B consist of lowercase letters.\n",
    "```"
   ]
  },
  {
   "cell_type": "code",
   "execution_count": 1,
   "metadata": {},
   "outputs": [],
   "source": [
    "def buddyStrings(A, B):\n",
    "    if len(A) != len(B):\n",
    "        return False\n",
    "    \n",
    "    # handle case aa\n",
    "    if A == B and len(set(A)) < len(A):\n",
    "        return True\n",
    "    \n",
    "    dif = [(a,b) for a,b in zip(A, B) if a!=b]\n",
    "    \n",
    "    return len(dif) == 2 and dif[0] == dif[1][::-1]"
   ]
  },
  {
   "cell_type": "code",
   "execution_count": 2,
   "metadata": {},
   "outputs": [
    {
     "name": "stdout",
     "output_type": "stream",
     "text": [
      "True\n"
     ]
    }
   ],
   "source": [
    "print(buddyStrings('ab', 'ba'))"
   ]
  },
  {
   "cell_type": "code",
   "execution_count": null,
   "metadata": {},
   "outputs": [],
   "source": []
  }
 ],
 "metadata": {
  "kernelspec": {
   "display_name": "Python 3",
   "language": "python",
   "name": "python3"
  },
  "language_info": {
   "codemirror_mode": {
    "name": "ipython",
    "version": 3
   },
   "file_extension": ".py",
   "mimetype": "text/x-python",
   "name": "python",
   "nbconvert_exporter": "python",
   "pygments_lexer": "ipython3",
   "version": "3.8.5"
  }
 },
 "nbformat": 4,
 "nbformat_minor": 4
}
