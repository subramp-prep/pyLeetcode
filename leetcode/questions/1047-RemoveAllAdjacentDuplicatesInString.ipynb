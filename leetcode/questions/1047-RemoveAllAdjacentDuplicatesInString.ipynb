{
 "cells": [
  {
   "cell_type": "markdown",
   "metadata": {},
   "source": [
    "## 1047. Remove All Adjacent Duplicates In String\n",
    "\n",
    "Given a string S of lowercase letters, a duplicate removal consists of choosing two adjacent and equal letters, and removing them.\n",
    "\n",
    "We repeatedly make duplicate removals on S until we no longer can.\n",
    "\n",
    "Return the final string after all such duplicate removals have been made.  It is guaranteed the answer is unique.\n",
    "\n",
    " \n",
    "\n",
    "Example 1:\n",
    "```\n",
    "Input: \"abbaca\"\n",
    "Output: \"ca\"\n",
    "```\n",
    "Explanation: \n",
    "```\n",
    "For example, in \"abbaca\" we could remove \"bb\" since the letters are adjacent and equal, and this is the only possible move.  The result of this move is that the string is \"aaca\", of which only \"aa\" is possible, so the final string is \"ca\".\n",
    "```"
   ]
  },
  {
   "cell_type": "code",
   "execution_count": 1,
   "metadata": {},
   "outputs": [],
   "source": [
    "def removeAdjacentDups(S):\n",
    "    \n",
    "    output = []\n",
    "    for c in S:\n",
    "        if output and output[-1] == c:\n",
    "            output.pop()\n",
    "        else:\n",
    "            output.append(c)\n",
    "            \n",
    "    return ''.join(output)"
   ]
  },
  {
   "cell_type": "code",
   "execution_count": 2,
   "metadata": {},
   "outputs": [
    {
     "name": "stdout",
     "output_type": "stream",
     "text": [
      "ca\n"
     ]
    }
   ],
   "source": [
    "print(removeAdjacentDups('abbaca'))"
   ]
  }
 ],
 "metadata": {
  "kernelspec": {
   "display_name": "Python 3",
   "language": "python",
   "name": "python3"
  },
  "language_info": {
   "codemirror_mode": {
    "name": "ipython",
    "version": 3
   },
   "file_extension": ".py",
   "mimetype": "text/x-python",
   "name": "python",
   "nbconvert_exporter": "python",
   "pygments_lexer": "ipython3",
   "version": "3.7.6"
  }
 },
 "nbformat": 4,
 "nbformat_minor": 4
}
