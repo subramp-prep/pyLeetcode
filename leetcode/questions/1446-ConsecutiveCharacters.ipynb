{
 "cells": [
  {
   "cell_type": "markdown",
   "metadata": {},
   "source": [
    "## 1446. Consecutive Characters\n",
    "\n",
    "\n",
    "Given a string s, the power of the string is the maximum length of a non-empty substring that contains only one unique character.\n",
    "\n",
    "Return the power of the string.\n",
    "\n",
    "Example 1:\n",
    "```\n",
    "Input: s = \"leetcode\"\n",
    "Output: 2\n",
    "```\n",
    "Explanation: The substring \"ee\" is of length 2 with the character 'e' only.\n",
    "Example 2:\n",
    "```\n",
    "Input: s = \"abbcccddddeeeeedcba\"\n",
    "Output: 5\n",
    "```\n",
    "Explanation: The substring \"eeeee\" is of length 5 with the character 'e' only.\n",
    "Example 3:\n",
    "```\n",
    "Input: s = \"triplepillooooow\"\n",
    "Output: 5\n",
    "```\n",
    "Example 4:\n",
    "```\n",
    "Input: s = \"hooraaaaaaaaaaay\"\n",
    "Output: 11\n",
    "```\n",
    "Example 5:\n",
    "```\n",
    "Input: s = \"tourist\"\n",
    "Output: 1\n",
    "```\n",
    "\n",
    "Constraints:\n",
    "```\n",
    "1 <= s.length <= 500\n",
    "s contains only lowercase English letters.\n",
    "```"
   ]
  },
  {
   "cell_type": "code",
   "execution_count": 1,
   "metadata": {},
   "outputs": [],
   "source": [
    "def maxPower(s):\n",
    "    \n",
    "    temp = 1\n",
    "    maxresult = 1\n",
    "    \n",
    "    for i in range(1, len(s)):\n",
    "        if s[i-1] != s[i]:\n",
    "            temp = 1\n",
    "            continue\n",
    "            \n",
    "        else:\n",
    "            temp += 1\n",
    "            maxresult = max(maxresult, temp)\n",
    "            \n",
    "    return maxresult"
   ]
  },
  {
   "cell_type": "code",
   "execution_count": 2,
   "metadata": {},
   "outputs": [
    {
     "name": "stdout",
     "output_type": "stream",
     "text": [
      "2\n"
     ]
    }
   ],
   "source": [
    "print(maxPower(\"leetcode\"))"
   ]
  },
  {
   "cell_type": "code",
   "execution_count": 3,
   "metadata": {},
   "outputs": [
    {
     "name": "stdout",
     "output_type": "stream",
     "text": [
      "5\n"
     ]
    }
   ],
   "source": [
    "print(maxPower(\"abbcccddddeeeeedcba\"))"
   ]
  },
  {
   "cell_type": "code",
   "execution_count": 4,
   "metadata": {},
   "outputs": [
    {
     "name": "stdout",
     "output_type": "stream",
     "text": [
      "1\n"
     ]
    }
   ],
   "source": [
    "print(maxPower(\"tourist\"))"
   ]
  }
 ],
 "metadata": {
  "kernelspec": {
   "display_name": "Python 3",
   "language": "python",
   "name": "python3"
  },
  "language_info": {
   "codemirror_mode": {
    "name": "ipython",
    "version": 3
   },
   "file_extension": ".py",
   "mimetype": "text/x-python",
   "name": "python",
   "nbconvert_exporter": "python",
   "pygments_lexer": "ipython3",
   "version": "3.8.5"
  }
 },
 "nbformat": 4,
 "nbformat_minor": 4
}
