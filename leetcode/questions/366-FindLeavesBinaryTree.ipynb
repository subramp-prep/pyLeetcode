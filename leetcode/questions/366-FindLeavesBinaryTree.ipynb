{
 "cells": [
  {
   "cell_type": "markdown",
   "metadata": {},
   "source": [
    "## Q366 Find Leaves of Binary Tree\n",
    "\n",
    "Given a binary tree, collect a tree's nodes as if you were doing this: Collect and remove all leaves, repeat until the tree is empty.\n",
    "\n",
    " \n",
    "\n",
    "Example:\n",
    "```\n",
    "Input: [1,2,3,4,5]\n",
    "  \n",
    "          1\n",
    "         / \\\n",
    "        2   3\n",
    "       / \\     \n",
    "      4   5    \n",
    "\n",
    "Output: [[4,5,3],[2],[1]]\n",
    "```\n",
    "\n",
    "Explanation:\n",
    "```\n",
    "1. Removing the leaves [4,5,3] would result in this tree:\n",
    "\n",
    "          1\n",
    "         / \n",
    "        2          \n",
    " \n",
    "\n",
    "2. Now removing the leaf [2] would result in this tree:\n",
    "\n",
    "          1          \n",
    " \n",
    "\n",
    "3. Now removing the leaf [1] would result in the empty tree:\n",
    "\n",
    "          []    \n",
    "```"
   ]
  },
  {
   "cell_type": "code",
   "execution_count": 1,
   "metadata": {},
   "outputs": [],
   "source": [
    "class TreeNode:\n",
    "    def __init__(self, val, left=None, right=None):\n",
    "        self.val = val\n",
    "        self.left = left\n",
    "        self.right = right\n",
    "\n",
    "def findLeaves(root):\n",
    "\n",
    "    output = []\n",
    "\n",
    "    def helper(head):        \n",
    "        if head is None:\n",
    "            return 0\n",
    "\n",
    "        height = max(helper(head.left), helper(head.right)) + 1\n",
    "\n",
    "        if height > len(output):\n",
    "            output.append([])\n",
    "\n",
    "        output[height-1].append(head.val)\n",
    "        return height\n",
    "\n",
    "    helper(root)\n",
    "\n",
    "    return output"
   ]
  },
  {
   "cell_type": "code",
   "execution_count": 2,
   "metadata": {},
   "outputs": [
    {
     "name": "stdout",
     "output_type": "stream",
     "text": [
      "[[4, 5, 3], [2], [1]]\n"
     ]
    }
   ],
   "source": [
    "root = TreeNode(1, TreeNode(2, TreeNode(4), TreeNode(5)), TreeNode(3))\n",
    "print(findLeaves(root))"
   ]
  },
  {
   "cell_type": "code",
   "execution_count": null,
   "metadata": {},
   "outputs": [],
   "source": []
  }
 ],
 "metadata": {
  "kernelspec": {
   "display_name": "Python 3",
   "language": "python",
   "name": "python3"
  },
  "language_info": {
   "codemirror_mode": {
    "name": "ipython",
    "version": 3
   },
   "file_extension": ".py",
   "mimetype": "text/x-python",
   "name": "python",
   "nbconvert_exporter": "python",
   "pygments_lexer": "ipython3",
   "version": "3.7.4"
  }
 },
 "nbformat": 4,
 "nbformat_minor": 2
}
