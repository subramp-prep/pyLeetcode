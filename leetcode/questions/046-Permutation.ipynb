{
 "cells": [
  {
   "cell_type": "markdown",
   "metadata": {},
   "source": [
    "Given a collection of distinct integers, return all possible permutations.\n",
    "\n",
    "Example:\n",
    "\n",
    "Input: [1,2,3]\n",
    "Output:\n",
    "```\n",
    "[\n",
    "  [1,2,3],\n",
    "  [1,3,2],\n",
    "  [2,1,3],\n",
    "  [2,3,1],\n",
    "  [3,1,2],\n",
    "  [3,2,1]\n",
    "]\n",
    "```"
   ]
  },
  {
   "cell_type": "code",
   "execution_count": null,
   "metadata": {
    "tags": [
     "Bactracking"
    ]
   },
   "outputs": [],
   "source": [
    "def permute(nums):\n",
    "    output = []\n",
    "    \n",
    "    def helper(chosen):\n",
    "        if len(nums) == len(chosen):\n",
    "            output.append(chosen.copy())\n",
    "        else:\n",
    "            for i in range(len(nums)):\n",
    "                if nums[i] in chosen:\n",
    "                    continue\n",
    "                    \n",
    "                chosen.append(nums[i])\n",
    "                helper(chosen)\n",
    "                chosen.pop()\n",
    "        \n",
    "    helper([])\n",
    "    return output"
   ]
  },
  {
   "cell_type": "code",
   "execution_count": null,
   "metadata": {},
   "outputs": [],
   "source": [
    "print(permute([1,2,3]))"
   ]
  }
 ],
 "metadata": {
  "kernelspec": {
   "display_name": "Python 3",
   "language": "python",
   "name": "python3"
  },
  "language_info": {
   "codemirror_mode": {
    "name": "ipython",
    "version": 3
   },
   "file_extension": ".py",
   "mimetype": "text/x-python",
   "name": "python",
   "nbconvert_exporter": "python",
   "pygments_lexer": "ipython3",
   "version": "3.7.1"
  }
 },
 "nbformat": 4,
 "nbformat_minor": 2
}
