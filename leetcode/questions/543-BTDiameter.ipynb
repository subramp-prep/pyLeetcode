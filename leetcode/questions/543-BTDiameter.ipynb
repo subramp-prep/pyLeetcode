{
 "cells": [
  {
   "cell_type": "markdown",
   "metadata": {},
   "source": [
    "## 543 Binary Tree Diameter\n",
    "\n",
    "Given a binary tree, you need to compute the length of the diameter of the tree. The diameter of a binary tree is the length of the longest path between any two nodes in a tree. This path may or may not pass through the root.\n",
    "\n",
    "Example:\n",
    "Given a binary tree\n",
    "```\n",
    "          1\n",
    "         / \\\n",
    "        2   3\n",
    "       / \\     \n",
    "      4   5    \n",
    "```\n",
    "Return 3, which is the length of the path [4,2,1,3] or [5,2,1,3].\n",
    "\n",
    "Note: The length of path between two nodes is represented by the number of edges between them."
   ]
  },
  {
   "cell_type": "code",
   "execution_count": 18,
   "metadata": {},
   "outputs": [],
   "source": [
    "class TreeNode:\n",
    "    def __init__(self, val, left=None, right=None):\n",
    "        self.val = val\n",
    "        self.left = left\n",
    "        self.right = right\n",
    "\n",
    "class Solution:\n",
    "    def btDiameter(self, root):\n",
    "        self.diameter = 1\n",
    "        \n",
    "        def helper(head):\n",
    "            if not head:\n",
    "                return 0\n",
    "            \n",
    "            l = helper(head.left)\n",
    "            r = helper(head.right)\n",
    "            \n",
    "            self.diameter= max(self.diameter, l+r+1)\n",
    "            \n",
    "            return max(l,r) + 1\n",
    "        \n",
    "        helper(root)\n",
    "        return self.diameter"
   ]
  },
  {
   "cell_type": "code",
   "execution_count": 19,
   "metadata": {},
   "outputs": [
    {
     "name": "stdout",
     "output_type": "stream",
     "text": [
      "5\n"
     ]
    }
   ],
   "source": [
    "root = TreeNode(1, TreeNode(2, TreeNode(4, TreeNode(6)), TreeNode(5)), TreeNode(3))\n",
    "s=Solution()\n",
    "print(s.btDiameter(root))"
   ]
  }
 ],
 "metadata": {
  "kernelspec": {
   "display_name": "Python 3",
   "language": "python",
   "name": "python3"
  },
  "language_info": {
   "codemirror_mode": {
    "name": "ipython",
    "version": 3
   },
   "file_extension": ".py",
   "mimetype": "text/x-python",
   "name": "python",
   "nbconvert_exporter": "python",
   "pygments_lexer": "ipython3",
   "version": "3.7.4"
  }
 },
 "nbformat": 4,
 "nbformat_minor": 2
}
