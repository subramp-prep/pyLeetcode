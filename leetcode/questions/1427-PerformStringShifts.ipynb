{
 "cells": [
  {
   "cell_type": "markdown",
   "metadata": {},
   "source": [
    "## Q1427 Perfrom String Shifts\n",
    "\n",
    "You are given a string s containing lowercase English letters, and a matrix shift, where shift[i] = [direction, amount]:\n",
    "\n",
    "direction can be 0 (for left shift) or 1 (for right shift). \n",
    "amount is the amount by which string s is to be shifted.\n",
    "A left shift by 1 means remove the first character of s and append it to the end.\n",
    "Similarly, a right shift by 1 means remove the last character of s and add it to the beginning.\n",
    "Return the final string after all operations.\n",
    "\n",
    " \n",
    "\n",
    "Example 1:\n",
    "```\n",
    "Input: s = \"abc\", shift = [[0,1],[1,2]]\n",
    "Output: \"cab\"\n",
    "```\n",
    "Explanation: \n",
    "[0,1] means shift to left by 1. \"abc\" -> \"bca\"\n",
    "[1,2] means shift to right by 2. \"bca\" -> \"cab\"\n",
    "Example 2:\n",
    "```\n",
    "Input: s = \"abcdefg\", shift = [[1,1],[1,1],[0,2],[1,3]]\n",
    "Output: \"efgabcd\"\n",
    "```\n",
    "Explanation:  \n",
    "[1,1] means shift to right by 1. \"abcdefg\" -> \"gabcdef\"\n",
    "[1,1] means shift to right by 1. \"gabcdef\" -> \"fgabcde\"\n",
    "[0,2] means shift to left by 2. \"fgabcde\" -> \"abcdefg\"\n",
    "[1,3] means shift to right by 3. \"abcdefg\" -> \"efgabcd\"\n",
    " \n",
    "\n",
    "Constraints:\n",
    "```\n",
    "1 <= s.length <= 100\n",
    "s only contains lower case English letters.\n",
    "1 <= shift.length <= 100\n",
    "shift[i].length == 2\n",
    "0 <= shift[i][0] <= 1\n",
    "0 <= shift[i][1] <= 100\n",
    "```"
   ]
  },
  {
   "cell_type": "code",
   "execution_count": 1,
   "metadata": {},
   "outputs": [],
   "source": [
    "def stringShift(s, shift):\n",
    "    \n",
    "    total = 0\n",
    "    for d, p in shift:\n",
    "        if d == 0:\n",
    "            total += (-1)*p\n",
    "        else:\n",
    "            total += p\n",
    "\n",
    "    total = total%len(s)\n",
    "\n",
    "    return s[-total:]+s[:len(s)-total] if total >0 else s"
   ]
  },
  {
   "cell_type": "code",
   "execution_count": 2,
   "metadata": {},
   "outputs": [
    {
     "name": "stdout",
     "output_type": "stream",
     "text": [
      "efgabcd\n"
     ]
    }
   ],
   "source": [
    "print(stringShift(\"abcdefg\", [[1, 1], [1, 1], [0, 2], [1, 3]]))"
   ]
  }
 ],
 "metadata": {
  "kernelspec": {
   "display_name": "Python 3",
   "language": "python",
   "name": "python3"
  },
  "language_info": {
   "codemirror_mode": {
    "name": "ipython",
    "version": 3
   },
   "file_extension": ".py",
   "mimetype": "text/x-python",
   "name": "python",
   "nbconvert_exporter": "python",
   "pygments_lexer": "ipython3",
   "version": "3.7.6"
  }
 },
 "nbformat": 4,
 "nbformat_minor": 4
}
