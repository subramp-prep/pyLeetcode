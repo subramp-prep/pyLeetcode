{
 "cells": [
  {
   "cell_type": "markdown",
   "metadata": {},
   "source": [
    "## 215 - Kth Largest Element\n",
    "\n",
    "Find the kth largest element in an unsorted array. Note that it is the kth largest element in the sorted order, not the kth distinct element.\n",
    "\n",
    "Example 1:\n",
    "```\n",
    "Input: [3,2,1,5,6,4] and k = 2\n",
    "Output: 5\n",
    "```\n",
    "Example 2:\n",
    "```\n",
    "Input: [3,2,3,1,2,4,5,5,6] and k = 4\n",
    "Output: 4\n",
    "```\n",
    "Note: \n",
    "You may assume k is always valid, 1 ≤ k ≤ array's length."
   ]
  },
  {
   "cell_type": "code",
   "execution_count": 7,
   "metadata": {},
   "outputs": [],
   "source": [
    "import heapq\n",
    "\n",
    "def kLargestElement(nums, k):\n",
    "    h = []\n",
    "    \n",
    "    for num in nums:\n",
    "        heapq.heappush(h, num)\n",
    "        print('Push:', h)\n",
    "\n",
    "    for i in range(len(nums)-k):\n",
    "        heapq.heappop(h)\n",
    "        print('Pop:', h)\n",
    "\n",
    "    return heapq.heappop(h)"
   ]
  },
  {
   "cell_type": "code",
   "execution_count": 8,
   "metadata": {},
   "outputs": [
    {
     "name": "stdout",
     "output_type": "stream",
     "text": [
      "Push: [3]\n",
      "Push: [2, 3]\n",
      "Push: [1, 3, 2]\n",
      "Push: [1, 3, 2, 5]\n",
      "Push: [1, 3, 2, 5, 6]\n",
      "Push: [1, 3, 2, 5, 6, 4]\n",
      "Pop: [2, 3, 4, 5, 6]\n",
      "Pop: [3, 5, 4, 6]\n",
      "Pop: [4, 5, 6]\n",
      "Pop: [5, 6]\n",
      "5\n"
     ]
    }
   ],
   "source": [
    "print(kLargestElement([3, 2, 1, 5, 6, 4], 2)) "
   ]
  },
  {
   "cell_type": "code",
   "execution_count": 9,
   "metadata": {},
   "outputs": [
    {
     "name": "stdout",
     "output_type": "stream",
     "text": [
      "Push: [3]\n",
      "Push: [2, 3]\n",
      "Push: [2, 3, 3]\n",
      "Push: [1, 2, 3, 3]\n",
      "Push: [1, 2, 3, 3, 2]\n",
      "Push: [1, 2, 3, 3, 2, 4]\n",
      "Push: [1, 2, 3, 3, 2, 4, 5]\n",
      "Push: [1, 2, 3, 3, 2, 4, 5, 5]\n",
      "Push: [1, 2, 3, 3, 2, 4, 5, 5, 6]\n",
      "Pop: [2, 2, 3, 3, 6, 4, 5, 5]\n",
      "Pop: [2, 3, 3, 5, 6, 4, 5]\n",
      "Pop: [3, 3, 4, 5, 6, 5]\n",
      "Pop: [3, 5, 4, 5, 6]\n",
      "Pop: [4, 5, 6, 5]\n",
      "4\n"
     ]
    }
   ],
   "source": [
    "print(kLargestElement([3, 2, 3, 1, 2, 4, 5, 5, 6], 4))"
   ]
  },
  {
   "cell_type": "code",
   "execution_count": null,
   "metadata": {},
   "outputs": [],
   "source": []
  }
 ],
 "metadata": {
  "kernelspec": {
   "display_name": "Python 3",
   "language": "python",
   "name": "python3"
  },
  "language_info": {
   "codemirror_mode": {
    "name": "ipython",
    "version": 3
   },
   "file_extension": ".py",
   "mimetype": "text/x-python",
   "name": "python",
   "nbconvert_exporter": "python",
   "pygments_lexer": "ipython3",
   "version": "3.7.1"
  }
 },
 "nbformat": 4,
 "nbformat_minor": 2
}
