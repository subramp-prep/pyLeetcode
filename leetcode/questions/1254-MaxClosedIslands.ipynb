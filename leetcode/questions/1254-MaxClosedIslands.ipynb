{
 "cells": [
  {
   "attachments": {
    "1254-1.png": {
     "image/png": "[encoded data removed]"
    },
    "1254-2.png": {
     "image/png": "[encoded data removed]"
    }
   },
   "cell_type": "markdown",
   "metadata": {},
   "source": [
    "## 1254 - Maximum Closed Islands\n",
    "\n",
    "\n",
    "Given a 2D grid consists of 0s (land) and 1s (water).  An island is a maximal 4-directionally connected group of 0s and a closed island is an island totally (all left, top, right, bottom) surrounded by 1s.\n",
    "\n",
    "Return the number of closed islands.\n",
    "\n",
    " \n",
    "\n",
    "Example 1:\n",
    "\n",
    "![1254-1.png](attachment:1254-1.png)\n",
    "\n",
    "```\n",
    "Input: grid = [[1,1,1,1,1,1,1,0],[1,0,0,0,0,1,1,0],[1,0,1,0,1,1,1,0],[1,0,0,0,0,1,0,1],[1,1,1,1,1,1,1,0]]\n",
    "Output: 2\n",
    "Explanation: \n",
    "Islands in gray are closed because they are completely surrounded by water (group of 1s).\n",
    "```\n",
    "\n",
    "Example 2:\n",
    "\n",
    "![1254-2.png](attachment:1254-2.png)\n",
    "```\n",
    "Input: grid = [[0,0,1,0,0],[0,1,0,1,0],[0,1,1,1,0]]\n",
    "Output: 1\n",
    "```\n",
    "\n",
    "Example 3:\n",
    "```\n",
    "Input: grid = [[1,1,1,1,1,1,1],\n",
    "               [1,0,0,0,0,0,1],\n",
    "               [1,0,1,1,1,0,1],\n",
    "               [1,0,1,0,1,0,1],\n",
    "               [1,0,1,1,1,0,1],\n",
    "               [1,0,0,0,0,0,1],\n",
    "               [1,1,1,1,1,1,1]]\n",
    "Output: 2\n",
    "```\n",
    "Constraints:\n",
    "\n",
    "1 <= grid.length, grid[0].length <= 100\n",
    "0 <= grid[i][j] <=1"
   ]
  },
  {
   "cell_type": "code",
   "execution_count": 3,
   "metadata": {},
   "outputs": [],
   "source": [
    "def closedIsland(grid):\n",
    "    tRows = len(grid)\n",
    "    tColumns = len(grid[0])\n",
    "\n",
    "    def helper(r, c, tr, tc):\n",
    "        if r >= 0 and c >= 0 and r < tr and c < tc and grid[r][c] == 0:\n",
    "            grid[r][c] = 1\n",
    "\n",
    "            helper(r-1, c, tr, tc)\n",
    "            helper(r, c-1, tr, tc)\n",
    "            helper(r+1, c, tr, tc)\n",
    "            helper(r, c+1, tr, tc)\n",
    "\n",
    "    count = 0\n",
    "\n",
    "    for i in range(tRows):\n",
    "        for j in range(tColumns):\n",
    "            if (i == 0 or j == 0 or i == tRows-1 or j == tColumns-1) and grid[i][j] == 0:\n",
    "                helper(i, j, tRows, tColumns)\n",
    "\n",
    "    for i in range(tRows):\n",
    "        for j in range(tColumns):\n",
    "            if grid[i][j] == 0:\n",
    "                helper(i, j, tRows, tColumns)\n",
    "                count += 1\n",
    "\n",
    "    #print(grid)\n",
    "    return count\n",
    "\n"
   ]
  },
  {
   "cell_type": "code",
   "execution_count": 4,
   "metadata": {},
   "outputs": [
    {
     "name": "stdout",
     "output_type": "stream",
     "text": [
      "2\n"
     ]
    }
   ],
   "source": [
    "print(closedIsland([[1,1,1,1,1,1,1,0],[1,0,0,0,0,1,1,0],[1,0,1,0,1,1,1,0],[1,0,0,0,0,1,0,1],[1,1,1,1,1,1,1,0]]))"
   ]
  },
  {
   "cell_type": "code",
   "execution_count": 5,
   "metadata": {},
   "outputs": [
    {
     "name": "stdout",
     "output_type": "stream",
     "text": [
      "1\n"
     ]
    }
   ],
   "source": [
    "print(closedIsland([[0,0,1,0,0],[0,1,0,1,0],[0,1,1,1,0]]))"
   ]
  },
  {
   "cell_type": "code",
   "execution_count": 6,
   "metadata": {},
   "outputs": [
    {
     "name": "stdout",
     "output_type": "stream",
     "text": [
      "0\n"
     ]
    }
   ],
   "source": [
    "print(closedIsland([[0,0],[0,0]]))"
   ]
  }
 ],
 "metadata": {
  "kernelspec": {
   "display_name": "Python 3",
   "language": "python",
   "name": "python3"
  },
  "language_info": {
   "codemirror_mode": {
    "name": "ipython",
    "version": 3
   },
   "file_extension": ".py",
   "mimetype": "text/x-python",
   "name": "python",
   "nbconvert_exporter": "python",
   "pygments_lexer": "ipython3",
   "version": "3.7.4"
  }
 },
 "nbformat": 4,
 "nbformat_minor": 2
}
