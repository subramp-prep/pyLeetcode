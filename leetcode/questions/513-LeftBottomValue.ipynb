{
 "cells": [
  {
   "cell_type": "markdown",
   "metadata": {},
   "source": [
    "## 513 Left Bottom Value\n",
    "\n",
    "Given a binary tree, find the leftmost value in the last row of the tree.\n",
    "\n",
    "Example 1:\n",
    "Input:\n",
    "```\n",
    "    2\n",
    "   / \\\n",
    "  1   3\n",
    "```\n",
    "Output:\n",
    "1\n",
    "Example 2: \n",
    "Input:\n",
    "```\n",
    "        1\n",
    "       / \\\n",
    "      2   3\n",
    "     /   / \\\n",
    "    4   5   6\n",
    "       /\n",
    "      7\n",
    "```\n",
    "Output:\n",
    "7\n",
    "Note: You may assume the tree (i.e., the given root node) is not NULL."
   ]
  },
  {
   "cell_type": "code",
   "execution_count": 1,
   "metadata": {},
   "outputs": [],
   "source": [
    "class TreeNode:\n",
    "    def __init__(self, val, left=None, right=None):\n",
    "        self.val = val\n",
    "        self.left = left\n",
    "        self.right = right\n",
    "\n",
    "\n",
    "def findBottomLeftValue(root):\n",
    "    output = []\n",
    "\n",
    "    def helper(head, level):\n",
    "        if head:\n",
    "\n",
    "            if level + 1 > len(output):\n",
    "                output.append([])\n",
    "\n",
    "            output[level].append(head.val)\n",
    "            helper(head.left, level+1)\n",
    "            helper(head.right, level+1)\n",
    "\n",
    "    helper(root, 0)\n",
    "\n",
    "    return output[-1][0]"
   ]
  },
  {
   "cell_type": "code",
   "execution_count": 2,
   "metadata": {},
   "outputs": [
    {
     "name": "stdout",
     "output_type": "stream",
     "text": [
      "1\n"
     ]
    }
   ],
   "source": [
    "root = TreeNode(2, TreeNode(1), TreeNode(3))\n",
    "print(findBottomLeftValue(root))"
   ]
  },
  {
   "cell_type": "code",
   "execution_count": 3,
   "metadata": {},
   "outputs": [
    {
     "name": "stdout",
     "output_type": "stream",
     "text": [
      "4\n"
     ]
    }
   ],
   "source": [
    "root = TreeNode(1, TreeNode(2, TreeNode(4)), TreeNode(3, TreeNode(5), TreeNode(6)))\n",
    "print(findBottomLeftValue(root))"
   ]
  }
 ],
 "metadata": {
  "kernelspec": {
   "display_name": "Python 3",
   "language": "python",
   "name": "python3"
  },
  "language_info": {
   "codemirror_mode": {
    "name": "ipython",
    "version": 3
   },
   "file_extension": ".py",
   "mimetype": "text/x-python",
   "name": "python",
   "nbconvert_exporter": "python",
   "pygments_lexer": "ipython3",
   "version": "3.7.1"
  }
 },
 "nbformat": 4,
 "nbformat_minor": 2
}
