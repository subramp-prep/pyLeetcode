{
 "cells": [
  {
   "cell_type": "markdown",
   "metadata": {},
   "source": [
    "## Q1402 Reducing dishes\n",
    "\n",
    "A chef has collected data on the satisfaction level of his n dishes. Chef can cook any dish in 1 unit of time.\n",
    "\n",
    "Like-time coefficient of a dish is defined as the time taken to cook that dish including previous dishes multiplied by its satisfaction level  i.e.  time[i]*satisfaction[i]\n",
    "\n",
    "Return the maximum sum of Like-time coefficient that the chef can obtain after dishes preparation.\n",
    "\n",
    "Dishes can be prepared in any order and the chef can discard some dishes to get this maximum value.\n",
    "\n",
    " \n",
    "\n",
    "Example 1:\n",
    "```\n",
    "Input: satisfaction = [-1,-8,0,5,-9]\n",
    "Output: 14\n",
    "```\n",
    "Explanation: After Removing the second and last dish, the maximum total Like-time coefficient will be equal to (-1*1 + 0*2 + 5*3 = 14). Each dish is prepared in one unit of time.\n",
    "Example 2:\n",
    "```\n",
    "Input: satisfaction = [4,3,2]\n",
    "Output: 20\n",
    "```\n",
    "Explanation: Dishes can be prepared in any order, (2*1 + 3*2 + 4*3 = 20)\n",
    "Example 3:\n",
    "```\n",
    "Input: satisfaction = [-1,-4,-5]\n",
    "Output: 0\n",
    "```\n",
    "Explanation: People don't like the dishes. No dish is prepared.\n",
    "Example 4:\n",
    "```\n",
    "Input: satisfaction = [-2,5,-1,0,3,-3]\n",
    "Output: 35\n",
    "```\n",
    "Constraints:\n",
    "\n",
    "n == satisfaction.length\n",
    "1 <= n <= 500\n",
    "-10^3 <= satisfaction[i] <= 10^3"
   ]
  },
  {
   "cell_type": "markdown",
   "metadata": {},
   "source": [
    "Intuition\n",
    "\n",
    "If we cook some dishes,\n",
    "they must be the most satisfied among all choices.\n",
    "\n",
    "Another important observation is that,\n",
    "we will cook the dish with small satisfication,\n",
    "and leave the most satisfied dish in the end.\n",
    "\n",
    "Explanation\n",
    "\n",
    "We choose dishes from most satisfied.\n",
    "Everytime we add a new dish to the menu list,\n",
    "all dishes on the menu list will be cooked one time unit later,\n",
    "so the result += total satisfaction on the list.\n",
    "We'll keep doing this as long as A[i] + total > 0.\n",
    "\n",
    "\n",
    "Complexity\n",
    "Time O(NlogN)\n",
    "Space O(1)"
   ]
  },
  {
   "cell_type": "code",
   "execution_count": 1,
   "metadata": {},
   "outputs": [],
   "source": [
    "def reducingDishes(A):\n",
    "    A.sort()\n",
    "    total = res = 0\n",
    "    \n",
    "    while A and A[-1] + total > 0:\n",
    "        total += A.pop()\n",
    "        res += total\n",
    "        \n",
    "    return res"
   ]
  },
  {
   "cell_type": "code",
   "execution_count": 2,
   "metadata": {},
   "outputs": [
    {
     "name": "stdout",
     "output_type": "stream",
     "text": [
      "14\n"
     ]
    }
   ],
   "source": [
    "print(reducingDishes([-1,-8,0,5,-9]))"
   ]
  },
  {
   "cell_type": "code",
   "execution_count": 3,
   "metadata": {},
   "outputs": [
    {
     "name": "stdout",
     "output_type": "stream",
     "text": [
      "35\n"
     ]
    }
   ],
   "source": [
    "print(reducingDishes([-2,5,-1,0,3,-3]))"
   ]
  }
 ],
 "metadata": {
  "kernelspec": {
   "display_name": "Python 3",
   "language": "python",
   "name": "python3"
  },
  "language_info": {
   "codemirror_mode": {
    "name": "ipython",
    "version": 3
   },
   "file_extension": ".py",
   "mimetype": "text/x-python",
   "name": "python",
   "nbconvert_exporter": "python",
   "pygments_lexer": "ipython3",
   "version": "3.7.6"
  }
 },
 "nbformat": 4,
 "nbformat_minor": 4
}
