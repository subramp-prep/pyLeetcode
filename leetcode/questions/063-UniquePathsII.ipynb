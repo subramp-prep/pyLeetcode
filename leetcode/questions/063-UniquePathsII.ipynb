{
 "cells": [
  {
   "cell_type": "markdown",
   "metadata": {},
   "source": [
    "## 63. Unique Paths II\n",
    "\n",
    "A robot is located at the top-left corner of a m x n grid (marked 'Start' in the diagram below).\n",
    "\n",
    "The robot can only move either down or right at any point in time. The robot is trying to reach the bottom-right corner of the grid (marked 'Finish' in the diagram below).\n",
    "\n",
    "Now consider if some obstacles are added to the grids. How many unique paths would there be?\n",
    "\n",
    "![axisBT](img/63.png)\n",
    "\n",
    "An obstacle and empty space is marked as 1 and 0 respectively in the grid.\n",
    "\n",
    "Note: m and n will be at most 100.\n",
    "\n",
    "Example 1:\n",
    "```\n",
    "Input:\n",
    "[\n",
    "  [0,0,0],\n",
    "  [0,1,0],\n",
    "  [0,0,0]\n",
    "]\n",
    "```\n",
    "Output: 2\n",
    "Explanation:\n",
    "There is one obstacle in the middle of the 3x3 grid above.\n",
    "There are two ways to reach the bottom-right corner:\n",
    "1. Right -> Right -> Down -> Down\n",
    "2. Down -> Down -> Right -> Right"
   ]
  },
  {
   "cell_type": "markdown",
   "metadata": {},
   "source": [
    "## Did not work"
   ]
  },
  {
   "cell_type": "code",
   "execution_count": 1,
   "metadata": {},
   "outputs": [],
   "source": [
    "def uniquePathsWithObstacles_notworking(obstacleGrid):\n",
    "\n",
    "    if obstacleGrid[0][0] == 1:\n",
    "        return 0\n",
    "\n",
    "    r, c = len(obstacleGrid), len(obstacleGrid[0])\n",
    "\n",
    "    dp = [[1 for _ in range(c)] for _ in range(r)]\n",
    "\n",
    "\n",
    "    for i in range(1, r):\n",
    "        for j in range(1, c):\n",
    "            if obstacleGrid[i][j] == 0:\n",
    "                dp[i][j] = dp[i-1][j] + dp[i][j-1]\n",
    "            else:\n",
    "                dp[i][j] = 0\n",
    "\n",
    "    return dp[r-1][c-1]"
   ]
  },
  {
   "cell_type": "markdown",
   "metadata": {},
   "source": [
    "## Working"
   ]
  },
  {
   "cell_type": "code",
   "execution_count": 2,
   "metadata": {},
   "outputs": [],
   "source": [
    "def uniquePathsWithObstacles(obstacleGrid):\n",
    "\n",
    "    if obstacleGrid[0][0] == 1:\n",
    "        return 0\n",
    "\n",
    "    m = len(obstacleGrid)\n",
    "    n = len(obstacleGrid[0])\n",
    "\n",
    "    # set the starting coordinate\n",
    "    obstacleGrid[0][0] = 1\n",
    "    \n",
    "    for r in range(1,m):\n",
    "        obstacleGrid[r][0] = int(obstacleGrid[r][0] == 0 and obstacleGrid[r-1][0] == 1)\n",
    "\n",
    "    for c in range(1, n):\n",
    "        obstacleGrid[0][c] = int(obstacleGrid[0][c] == 0 and obstacleGrid[0][c-1] == 1)\n",
    "\n",
    "    for i in range(1, m):\n",
    "        for j in range(1, n):\n",
    "            if obstacleGrid[i][j] == 0:\n",
    "                obstacleGrid[i][j] = obstacleGrid[i-1][j] + obstacleGrid[i][j-1]\n",
    "            else:\n",
    "                obstacleGrid[i][j] = 0\n",
    "\n",
    "    return obstacleGrid[m-1][n-1]\n"
   ]
  },
  {
   "cell_type": "code",
   "execution_count": 3,
   "metadata": {},
   "outputs": [
    {
     "name": "stdout",
     "output_type": "stream",
     "text": [
      "2\n"
     ]
    }
   ],
   "source": [
    "print(uniquePathsWithObstacles([\n",
    "  [0,0,0],\n",
    "  [0,1,0],\n",
    "  [0,0,0]\n",
    "]))"
   ]
  },
  {
   "cell_type": "code",
   "execution_count": 5,
   "metadata": {},
   "outputs": [
    {
     "name": "stdout",
     "output_type": "stream",
     "text": [
      "0\n"
     ]
    }
   ],
   "source": [
    "print(uniquePathsWithObstacles([[0, 1]]))"
   ]
  }
 ],
 "metadata": {
  "kernelspec": {
   "display_name": "Python 3",
   "language": "python",
   "name": "python3"
  },
  "language_info": {
   "codemirror_mode": {
    "name": "ipython",
    "version": 3
   },
   "file_extension": ".py",
   "mimetype": "text/x-python",
   "name": "python",
   "nbconvert_exporter": "python",
   "pygments_lexer": "ipython3",
   "version": "3.7.6"
  }
 },
 "nbformat": 4,
 "nbformat_minor": 4
}
