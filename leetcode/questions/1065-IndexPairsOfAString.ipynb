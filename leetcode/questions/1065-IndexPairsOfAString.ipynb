{
 "cells": [
  {
   "cell_type": "markdown",
   "metadata": {},
   "source": [
    "## 1065. Index Pairs of a String\n",
    "\n",
    "Given a text string and words (a list of strings), return all index pairs [i, j] so that the substring text[i]...text[j] is in the list of words.\n",
    "\n",
    " \n",
    "\n",
    "Example 1:\n",
    "```\n",
    "Input: text = \"thestoryofleetcodeandme\", words = [\"story\",\"fleet\",\"leetcode\"]\n",
    "Output: [[3,7],[9,13],[10,17]]\n",
    "```\n",
    "Example 2:\n",
    "```\n",
    "Input: text = \"ababa\", words = [\"aba\",\"ab\"]\n",
    "Output: [[0,1],[0,2],[2,3],[2,4]]\n",
    "```\n",
    "Explanation: \n",
    "```\n",
    "Notice that matches can overlap, see \"aba\" is found in [0,2] and [2,4].\n",
    "```\n",
    "\n",
    "Note:\n",
    "```\n",
    "All strings contains only lowercase English letters.\n",
    "It's guaranteed that all strings in words are different.\n",
    "1 <= text.length <= 100\n",
    "1 <= words.length <= 20\n",
    "1 <= words[i].length <= 50\n",
    "Return the pairs [i,j] in sorted order (i.e. sort them by their first coordinate in case of ties sort them by their second coordinate).\n",
    "```"
   ]
  },
  {
   "cell_type": "code",
   "execution_count": 2,
   "metadata": {},
   "outputs": [],
   "source": [
    "def indexPairs(text, words):\n",
    "\n",
    "    output = []\n",
    "    for word in words:\n",
    "        index = text.find(word)\n",
    "        l = len(word)\n",
    "\n",
    "        while index != -1:\n",
    "            output.append((index, index+l-1))\n",
    "            index = text.find(word, index+1)\n",
    "\n",
    "    return sorted(output)"
   ]
  },
  {
   "cell_type": "code",
   "execution_count": 3,
   "metadata": {},
   "outputs": [
    {
     "name": "stdout",
     "output_type": "stream",
     "text": [
      "[(3, 7), (9, 13), (10, 17)]\n"
     ]
    }
   ],
   "source": [
    "print(indexPairs(\"thestoryofleetcodeandme\",[\"story\",\"fleet\",\"leetcode\"]))"
   ]
  },
  {
   "cell_type": "code",
   "execution_count": 4,
   "metadata": {},
   "outputs": [
    {
     "name": "stdout",
     "output_type": "stream",
     "text": [
      "[(0, 1), (0, 2), (2, 3), (2, 4)]\n"
     ]
    }
   ],
   "source": [
    "print(indexPairs(\"ababa\", [\"aba\",\"ab\"]))"
   ]
  }
 ],
 "metadata": {
  "kernelspec": {
   "display_name": "Python 3",
   "language": "python",
   "name": "python3"
  },
  "language_info": {
   "codemirror_mode": {
    "name": "ipython",
    "version": 3
   },
   "file_extension": ".py",
   "mimetype": "text/x-python",
   "name": "python",
   "nbconvert_exporter": "python",
   "pygments_lexer": "ipython3",
   "version": "3.8.5"
  }
 },
 "nbformat": 4,
 "nbformat_minor": 4
}
