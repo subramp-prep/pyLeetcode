{
 "cells": [
  {
   "cell_type": "markdown",
   "metadata": {},
   "source": [
    "## 1600 Throne inheritance\n",
    "\n",
    "A kingdom consists of a king, his children, his grandchildren, and so on. Every once in a while, someone in the family dies or a child is born.\n",
    "\n",
    "The kingdom has a well-defined order of inheritance that consists of the king as the first member. Let's define the recursive function Successor(x, curOrder), which given a person x and the inheritance order so far, returns who should be the next person after x in the order of inheritance.\n",
    "```\n",
    "Successor(x, curOrder):\n",
    "    if x has no children or all of x's children are in curOrder:\n",
    "        if x is the king return null\n",
    "        else return Successor(x's parent, curOrder)\n",
    "    else return x's oldest child who's not in curOrder\n",
    "```\n",
    "\n",
    "For example, assume we have a kingdom that consists of the king, his children Alice and Bob (Alice is older than Bob), and finally Alice's son Jack.\n",
    "```\n",
    "In the beginning, curOrder will be [\"king\"].\n",
    "Calling Successor(king, curOrder) will return Alice, so we append to curOrder to get [\"king\", \"Alice\"].\n",
    "Calling Successor(Alice, curOrder) will return Jack, so we append to curOrder to get [\"king\", \"Alice\", \"Jack\"].\n",
    "Calling Successor(Jack, curOrder) will return Bob, so we append to curOrder to get [\"king\", \"Alice\", \"Jack\", \"Bob\"].\n",
    "Calling Successor(Bob, curOrder) will return null. Thus the order of inheritance will be [\"king\", \"Alice\", \"Jack\", \"Bob\"].\n",
    "```\n",
    "Using the above function, we can always obtain a unique order of inheritance.\n",
    "\n",
    "Implement the ThroneInheritance class:\n",
    "\n",
    "ThroneInheritance(string kingName) Initializes an object of the ThroneInheritance class. The name of the king is given as part of the constructor.\n",
    "void birth(string parentName, string childName) Indicates that parentName gave birth to childName.\n",
    "void death(string name) Indicates the death of name. The death of the person doesn't affect the Successor function nor the current inheritance order. You can treat it as just marking the person as dead.\n",
    "string[] getInheritanceOrder() Returns a list representing the current order of inheritance excluding dead people.\n",
    " \n",
    "\n",
    "Example 1:\n",
    "\n",
    "Input\n",
    "```\n",
    "[\"ThroneInheritance\", \"birth\", \"birth\", \"birth\", \"birth\", \"birth\", \"birth\", \"getInheritanceOrder\", \"death\", \"getInheritanceOrder\"]\n",
    "[[\"king\"], [\"king\", \"andy\"], [\"king\", \"bob\"], [\"king\", \"catherine\"], [\"andy\", \"matthew\"], [\"bob\", \"alex\"], [\"bob\", \"asha\"], [null], [\"bob\"], [null]]\n",
    "Output\n",
    "[null, null, null, null, null, null, null, [\"king\", \"andy\", \"matthew\", \"bob\", \"alex\", \"asha\", \"catherine\"], null, [\"king\", \"andy\", \"matthew\", \"alex\", \"asha\", \"catherine\"]]\n",
    "```\n",
    "Explanation\n",
    "```\n",
    "ThroneInheritance t= new ThroneInheritance(\"king\"); // order: king\n",
    "t.birth(\"king\", \"andy\"); // order: king > andy\n",
    "t.birth(\"king\", \"bob\"); // order: king > andy > bob\n",
    "t.birth(\"king\", \"catherine\"); // order: king > andy > bob > catherine\n",
    "t.birth(\"andy\", \"matthew\"); // order: king > andy > matthew > bob > catherine\n",
    "t.birth(\"bob\", \"alex\"); // order: king > andy > matthew > bob > alex > catherine\n",
    "t.birth(\"bob\", \"asha\"); // order: king > andy > matthew > bob > alex > asha > catherine\n",
    "t.getInheritanceOrder(); // return [\"king\", \"andy\", \"matthew\", \"bob\", \"alex\", \"asha\", \"catherine\"]\n",
    "t.death(\"bob\"); // order: king > andy > matthew > bob > alex > asha > catherine\n",
    "t.getInheritanceOrder(); // return [\"king\", \"andy\", \"matthew\", \"alex\", \"asha\", \"catherine\"]\n",
    "```\n",
    "\n",
    "Constraints:\n",
    "```\n",
    "1 <= kingName.length, parentName.length, childName.length, name.length <= 15\n",
    "kingName, parentName, childName, and name consist of lowercase English letters only.\n",
    "All arguments childName and kingName are distinct.\n",
    "All name arguments of death will be passed to either the constructor or as childName to birth first.\n",
    "For each call to birth(parentName, childName), it is guaranteed that parentName is alive.\n",
    "At most 105 calls will be made to birth and death.\n",
    "At most 10 calls will be made to getInheritanceOrder.\n",
    "```"
   ]
  },
  {
   "cell_type": "code",
   "execution_count": 1,
   "metadata": {},
   "outputs": [],
   "source": [
    "class ThroneInheritance:\n",
    "\n",
    "    def __init__(self, kingName):\n",
    "        self.maps = {}\n",
    "        self.maps[kingName] = []\n",
    "        self.king = kingName\n",
    "        self.parent = {}\n",
    "        self.dead = set()\n",
    "        \n",
    "\n",
    "    def birth(self, parentName, childName):\n",
    "        self.maps[parentName] += [childName]\n",
    "        self.parent[childName] = parentName\n",
    "        self.maps[childName] = []        \n",
    "\n",
    "    def death(self, name):\n",
    "        self.dead.add(name)\n",
    "        \n",
    "    def getInheritanceOrder(self):\n",
    "        result = []\n",
    "\n",
    "        def dfs(s):\n",
    "            if s not in self.dead:\n",
    "                result.append(s)\n",
    "                \n",
    "            for i in self.maps[s]:\n",
    "                dfs(i)\n",
    "        \n",
    "        dfs(self.king)\n",
    "        return result"
   ]
  },
  {
   "cell_type": "code",
   "execution_count": 2,
   "metadata": {},
   "outputs": [
    {
     "name": "stdout",
     "output_type": "stream",
     "text": [
      "['king', 'andy', 'matthew', 'bob', 'alex', 'asha', 'catherine']\n",
      "['king', 'andy', 'matthew', 'alex', 'asha', 'catherine']\n"
     ]
    }
   ],
   "source": [
    "t = ThroneInheritance(\"king\") # order: king\n",
    "t.birth(\"king\", \"andy\") # order: king > andy\n",
    "t.birth(\"king\", \"bob\") # order: king > andy > bob\n",
    "t.birth(\"king\", \"catherine\") # order: king > andy > bob > catherine\n",
    "t.birth(\"andy\", \"matthew\") # order: king > andy > matthew > bob > catherine\n",
    "t.birth(\"bob\", \"alex\") # order: king > andy > matthew > bob > alex > catherine\n",
    "t.birth(\"bob\", \"asha\") # order: king > andy > matthew > bob > alex > asha > catherine\n",
    "print(t.getInheritanceOrder()) # return [\"king\", \"andy\", \"matthew\", \"bob\", \"alex\", \"asha\", \"catherine\"]\n",
    "t.death(\"bob\") # order: king > andy > matthew > bob > alex > asha > catherine\n",
    "print(t.getInheritanceOrder()) # return [\"king\", \"andy\", \"matthew\", \"alex\", \"asha\", \"catherine\"]"
   ]
  },
  {
   "cell_type": "code",
   "execution_count": null,
   "metadata": {},
   "outputs": [],
   "source": []
  }
 ],
 "metadata": {
  "kernelspec": {
   "display_name": "Python 3",
   "language": "python",
   "name": "python3"
  },
  "language_info": {
   "codemirror_mode": {
    "name": "ipython",
    "version": 3
   },
   "file_extension": ".py",
   "mimetype": "text/x-python",
   "name": "python",
   "nbconvert_exporter": "python",
   "pygments_lexer": "ipython3",
   "version": "3.8.5"
  }
 },
 "nbformat": 4,
 "nbformat_minor": 4
}
