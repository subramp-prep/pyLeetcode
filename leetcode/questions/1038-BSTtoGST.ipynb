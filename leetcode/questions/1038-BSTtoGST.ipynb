{
 "cells": [
  {
   "cell_type": "markdown",
   "metadata": {},
   "source": [
    "## 1038 - Binary tree to Greater BST\n",
    "\n",
    "Given the root of a binary search tree with distinct values, modify it so that every node has a new value equal to the sum of the values of the original tree that are greater than or equal to node.val.\n",
    "\n",
    "As a reminder, a binary search tree is a tree that satisfies these constraints:\n",
    "\n",
    "The left subtree of a node contains only nodes with keys less than the node's key.\n",
    "The right subtree of a node contains only nodes with keys greater than the node's key.\n",
    "Both the left and right subtrees must also be binary search trees.\n",
    "\n",
    "Example 1:\n",
    "\n",
    "![axisBT](img/1038.png )\n",
    "\n",
    "```\n",
    "Input: [4,1,6,0,2,5,7,null,null,null,3,null,null,null,8]\n",
    "Output: [30,36,21,36,35,26,15,null,null,null,33,null,null,null,8]\n",
    "``` \n",
    "\n",
    "Note:\n",
    "\n",
    "The number of nodes in the tree is between 1 and 100.\n",
    "Each node will have value between 0 and 100.\n",
    "The given tree is a binary search tree.\n"
   ]
  },
  {
   "cell_type": "code",
   "execution_count": 3,
   "metadata": {},
   "outputs": [],
   "source": [
    "class TreeNode:\n",
    "    def __init__(self, val, left=None, right=None):\n",
    "        self.val = val\n",
    "        self.left = left\n",
    "        self.right = right\n",
    "\n",
    "def buildTree(nums, index, root):\n",
    "    if index < len(nums) and nums[index] != None:\n",
    "        root = TreeNode(nums[index])\n",
    "        root.left = buildTree(nums, 2*index+1, root.left)\n",
    "        root.right = buildTree(nums, 2*index+2, root.right)\n",
    "\n",
    "    return root\n",
    "\n",
    "def bstToGst(root):\n",
    "\n",
    "    total = 0\n",
    "    stack = []\n",
    "    data = []\n",
    "    head = root\n",
    "\n",
    "    while len(stack) > 0 or root:\n",
    "        if root:\n",
    "            stack.append(root)\n",
    "            root = root.left\n",
    "        else:\n",
    "            root = stack.pop()\n",
    "            data.append((root.val, root))\n",
    "\n",
    "            root = root.right\n",
    "\n",
    "    while len(data) > 0:\n",
    "        value, node = data.pop()\n",
    "        total += value\n",
    "        node.val = total\n",
    "\n",
    "    return head"
   ]
  },
  {
   "cell_type": "code",
   "execution_count": 4,
   "metadata": {},
   "outputs": [
    {
     "name": "stdout",
     "output_type": "stream",
     "text": [
      "<__main__.TreeNode object at 0x105237278>\n"
     ]
    }
   ],
   "source": [
    "nums = [4, 1, 6, 0, 2, 5, 7, None, None, None, 3, None, None, None, 8]\n",
    "root = buildTree(nums, 0, None)\n",
    "\n",
    "print(bstToGst(root))"
   ]
  }
 ],
 "metadata": {
  "kernelspec": {
   "display_name": "Python 3",
   "language": "python",
   "name": "python3"
  },
  "language_info": {
   "codemirror_mode": {
    "name": "ipython",
    "version": 3
   },
   "file_extension": ".py",
   "mimetype": "text/x-python",
   "name": "python",
   "nbconvert_exporter": "python",
   "pygments_lexer": "ipython3",
   "version": "3.7.1"
  }
 },
 "nbformat": 4,
 "nbformat_minor": 2
}
