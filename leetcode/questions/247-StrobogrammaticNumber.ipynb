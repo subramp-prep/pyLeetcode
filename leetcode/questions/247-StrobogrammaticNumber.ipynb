{
 "cells": [
  {
   "cell_type": "markdown",
   "metadata": {},
   "source": [
    "## 247 Strobogrammatic Number II\n",
    "\n",
    "A strobogrammatic number is a number that looks the same when rotated 180 degrees (looked at upside down).\n",
    "\n",
    "Find all strobogrammatic numbers that are of length = n.\n",
    "\n",
    "Example:\n",
    "\n",
    "Input:  n = 2\n",
    "Output: [\"11\",\"69\",\"88\",\"96\"]"
   ]
  },
  {
   "cell_type": "code",
   "execution_count": 3,
   "metadata": {},
   "outputs": [],
   "source": [
    "def strobogrammaticList(n):\n",
    "\n",
    "    maps = {\n",
    "        '0' : '0',\n",
    "        '1' : '1',\n",
    "        '6' : '9',\n",
    "        '8' : '8',\n",
    "        '9' : '6'\n",
    "    }\n",
    "\n",
    "    output = []\n",
    "\n",
    "    def isStrobo(num):\n",
    "\n",
    "        strobo = ''\n",
    "        for c in num:\n",
    "            if c not in maps:\n",
    "                return False\n",
    "\n",
    "            strobo = maps[c] + strobo\n",
    "\n",
    "        return num == strobo\n",
    "\n",
    "    def helper(chosen):\n",
    "        if len(chosen) == n and isStrobo(chosen):\n",
    "            output.append(chosen)\n",
    "\n",
    "        elif len(chosen) > n:\n",
    "            return \n",
    "\n",
    "        else:\n",
    "            for c in maps:\n",
    "\n",
    "                helper(chosen + maps[c])\n",
    "\n",
    "    helper('')\n",
    "    return output"
   ]
  },
  {
   "cell_type": "code",
   "execution_count": 4,
   "metadata": {},
   "outputs": [
    {
     "name": "stdout",
     "output_type": "stream",
     "text": [
      "['0', '1', '8']\n"
     ]
    }
   ],
   "source": [
    "print(strobogrammaticList(1))"
   ]
  },
  {
   "cell_type": "code",
   "execution_count": 5,
   "metadata": {},
   "outputs": [
    {
     "name": "stdout",
     "output_type": "stream",
     "text": [
      "['00', '11', '96', '88', '69']\n"
     ]
    }
   ],
   "source": [
    "print(strobogrammaticList(2))"
   ]
  },
  {
   "cell_type": "code",
   "execution_count": 6,
   "metadata": {},
   "outputs": [
    {
     "name": "stdout",
     "output_type": "stream",
     "text": [
      "['000', '010', '080', '101', '111', '181', '906', '916', '986', '808', '818', '888', '609', '619', '689']\n"
     ]
    }
   ],
   "source": [
    "print(strobogrammaticList(3))"
   ]
  }
 ],
 "metadata": {
  "kernelspec": {
   "display_name": "Python 3",
   "language": "python",
   "name": "python3"
  },
  "language_info": {
   "codemirror_mode": {
    "name": "ipython",
    "version": 3
   },
   "file_extension": ".py",
   "mimetype": "text/x-python",
   "name": "python",
   "nbconvert_exporter": "python",
   "pygments_lexer": "ipython3",
   "version": "3.7.1"
  }
 },
 "nbformat": 4,
 "nbformat_minor": 2
}
