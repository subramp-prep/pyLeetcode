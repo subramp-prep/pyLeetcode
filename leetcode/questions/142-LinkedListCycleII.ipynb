{
 "cells": [
  {
   "cell_type": "markdown",
   "metadata": {},
   "source": [
    "Given a linked list, return the node where the cycle begins. If there is no cycle, return null.\n",
    "\n",
    "There is a cycle in a linked list if there is some node in the list that can be reached again by continuously following the next pointer. Internally, pos is used to denote the index of the node that tail's next pointer is connected to. Note that pos is not passed as a parameter.\n",
    "\n",
    "Notice that you should not modify the linked list.\n",
    "\n",
    "Follow up:\n",
    "\n",
    "Can you solve it using O(1) (i.e. constant) memory?\n",
    "\n",
    "Example 1:\n",
    "```\n",
    "Input: head = [3,2,0,-4], pos = 1\n",
    "Output: tail connects to node index 1\n",
    "```\n",
    "![axisBT](img/142-1.png)\n",
    "\n",
    "Explanation: There is a cycle in the linked list, where tail connects to the second node.\n",
    "Example 2:\n",
    "```\n",
    "Input: head = [1,2], pos = 0\n",
    "Output: tail connects to node index 0\n",
    "```\n",
    "![axisBT](img/142-1.png)\n",
    "\n",
    "Explanation: There is a cycle in the linked list, where tail connects to the first node.\n",
    "Example 3:\n",
    "```\n",
    "Input: head = [1], pos = -1\n",
    "Output: no cycle\n",
    "```\n",
    "![axisBT](img/142-3.png)\n",
    "Explanation: There is no cycle in the linked list.\n",
    " \n",
    "\n",
    "Constraints:\n",
    "```\n",
    "The number of the nodes in the list is in the range [0, 104].\n",
    "-105 <= Node.val <= 105\n",
    "pos is -1 or a valid index in the linked-list.\n",
    "```"
   ]
  },
  {
   "cell_type": "code",
   "execution_count": 1,
   "metadata": {},
   "outputs": [],
   "source": [
    "class ListNode:\n",
    "    def __init__(self, v, nextNode = None):\n",
    "        self.v = v\n",
    "        self.next = nextNode\n",
    "        \n",
    "def detectCycle(head):\n",
    "    s = set()\n",
    "    node = head\n",
    "\n",
    "    while head:\n",
    "        if head in s:\n",
    "            return head\n",
    "        else:\n",
    "            s.add(head)\n",
    "            head = head.next\n",
    "\n",
    "    return None"
   ]
  }
 ],
 "metadata": {
  "kernelspec": {
   "display_name": "Python 3",
   "language": "python",
   "name": "python3"
  },
  "language_info": {
   "codemirror_mode": {
    "name": "ipython",
    "version": 3
   },
   "file_extension": ".py",
   "mimetype": "text/x-python",
   "name": "python",
   "nbconvert_exporter": "python",
   "pygments_lexer": "ipython3",
   "version": "3.8.5"
  }
 },
 "nbformat": 4,
 "nbformat_minor": 4
}
