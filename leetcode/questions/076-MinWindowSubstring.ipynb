{
 "cells": [
  {
   "cell_type": "markdown",
   "metadata": {},
   "source": [
    "## 76 - Minimum Window Substring\n",
    "\n",
    "\n",
    "Given a string S and a string T, find the minimum window in S which will contain all the characters in T in complexity O(n).\n",
    "\n",
    "Example:\n",
    "```\n",
    "Input: S = \"ADOBECODEBANC\", T = \"ABC\"\n",
    "Output: \"BANC\"\n",
    "```\n",
    "Note:\n",
    "\n",
    "If there is no such window in S that covers all characters in T, return the empty string \"\".\n",
    "If there is such window, you are guaranteed that there will always be only one unique minimum window in S."
   ]
  },
  {
   "cell_type": "code",
   "execution_count": 3,
   "metadata": {},
   "outputs": [],
   "source": [
    "import collections\n",
    "\n",
    "def minWindowSubstring(s, t):\n",
    "    head = start = stop = 0\n",
    "    distance = float('inf')\n",
    "    maps = collections.Counter(t)\n",
    "    counter = len(maps.keys())\n",
    "\n",
    "    while stop < len(s):\n",
    "        c = s[stop]\n",
    "        if c in maps:\n",
    "            maps[c] -= 1\n",
    "            if maps[c] == 0:\n",
    "                counter -= 1\n",
    "\n",
    "        stop += 1\n",
    "\n",
    "        while counter == 0:\n",
    "            tc = s[start]\n",
    "\n",
    "            if distance > stop - start:\n",
    "                distance = stop - start\n",
    "                head = start\n",
    "\n",
    "            if tc in maps:\n",
    "                maps[tc] += 1\n",
    "                if maps[tc] > 0:\n",
    "                    counter += 1\n",
    "\n",
    "            start += 1\n",
    "\n",
    "    print(head, distance)\n",
    "\n",
    "    if distance != float('inf'):\n",
    "        return s[head:head+distance]\n",
    "\n",
    "    return \"\""
   ]
  },
  {
   "cell_type": "code",
   "execution_count": 4,
   "metadata": {},
   "outputs": [
    {
     "name": "stdout",
     "output_type": "stream",
     "text": [
      "9 4\n",
      "BANC\n"
     ]
    }
   ],
   "source": [
    "print(minWindowSubstring('ADOBECODEBANC', 'ABC'))"
   ]
  },
  {
   "cell_type": "code",
   "execution_count": 5,
   "metadata": {},
   "outputs": [
    {
     "name": "stdout",
     "output_type": "stream",
     "text": [
      "0 1\n",
      "a\n"
     ]
    }
   ],
   "source": [
    "print(minWindowSubstring('aa', 'a'))"
   ]
  },
  {
   "cell_type": "code",
   "execution_count": 6,
   "metadata": {},
   "outputs": [
    {
     "name": "stdout",
     "output_type": "stream",
     "text": [
      "0 1\n",
      "a\n"
     ]
    }
   ],
   "source": [
    "print(minWindowSubstring('ab', 'a'))"
   ]
  }
 ],
 "metadata": {
  "kernelspec": {
   "display_name": "Python 3",
   "language": "python",
   "name": "python3"
  },
  "language_info": {
   "codemirror_mode": {
    "name": "ipython",
    "version": 3
   },
   "file_extension": ".py",
   "mimetype": "text/x-python",
   "name": "python",
   "nbconvert_exporter": "python",
   "pygments_lexer": "ipython3",
   "version": "3.7.1"
  }
 },
 "nbformat": 4,
 "nbformat_minor": 2
}
