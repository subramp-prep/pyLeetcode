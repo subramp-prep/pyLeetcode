{
 "cells": [
  {
   "cell_type": "markdown",
   "metadata": {},
   "source": [
    "## Q116. Populating Next Right Pointers in Each Node\n",
    "\n",
    "You are given a perfect binary tree where all leaves are on the same level, and every parent has two children. The binary tree has the following definition:\n",
    "\n",
    "struct Node {\n",
    "  int val;\n",
    "  Node *left;\n",
    "  Node *right;\n",
    "  Node *next;\n",
    "}\n",
    "Populate each next pointer to point to its next right node. If there is no next right node, the next pointer should be set to NULL.\n",
    "\n",
    "Initially, all next pointers are set to NULL.\n",
    "\n",
    " \n",
    "\n",
    "Follow up:\n",
    "\n",
    "You may only use constant extra space.\n",
    "Recursive approach is fine, you may assume implicit stack space does not count as extra space for this problem.\n",
    " \n",
    "\n",
    "Example 1:\n",
    "\n",
    "![axisBT](img/116.png )\n",
    "```\n",
    "Input: root = [1,2,3,4,5,6,7]\n",
    "Output: [1,#,2,3,#,4,5,6,7,#]\n",
    "```\n",
    "Explanation: Given the above perfect binary tree (Figure A), your function should populate each next pointer to point to its next right node, just like in Figure B. The serialized output is in level order as connected by the next pointers, with '#' signifying the end of each level.\n",
    " \n",
    "\n",
    "Constraints:\n",
    "```\n",
    "The number of nodes in the given tree is less than 4096.\n",
    "-1000 <= node.val <= 1000\n",
    "```"
   ]
  },
  {
   "cell_type": "markdown",
   "metadata": {},
   "source": [
    "## My version"
   ]
  },
  {
   "cell_type": "code",
   "execution_count": 7,
   "metadata": {},
   "outputs": [],
   "source": [
    "class Node:\n",
    "    def __init__(self, val: int = 0, left: 'Node' = None, right: 'Node' = None, next: 'Node' = None):\n",
    "        self.val = val\n",
    "        self.left = left\n",
    "        self.right = right\n",
    "        self.next = next\n",
    "\n",
    "def connect(root):\n",
    "    output = []\n",
    "\n",
    "    def helper(head, level, axis):\n",
    "        if head:\n",
    "            if level+1 > len(output):\n",
    "                output.append([])\n",
    "\n",
    "            output[level].append((axis,head))\n",
    "\n",
    "            helper(head.left, level+1, 2*axis)\n",
    "            helper(head.right, level+1, 2*axis+1)\n",
    "\n",
    "    helper(root, 0, 0)\n",
    "\n",
    "    print([[(c[1].val, c[0]) for c in output[i]] for i in range(len(output))])\n",
    "\n",
    "    for i in range(len(output)):\n",
    "        s = sorted(output[i], key=lambda x: x[0])\n",
    "        nextp = None\n",
    "\n",
    "        for j in range(len(s)-1):\n",
    "            s[j][1].next = s[j+1][1]\n",
    "\n",
    "        s[len(s)-1][1].next = None\n",
    "\n",
    "    return root"
   ]
  },
  {
   "cell_type": "code",
   "execution_count": 10,
   "metadata": {},
   "outputs": [
    {
     "name": "stdout",
     "output_type": "stream",
     "text": [
      "[[(1, 0)], [(2, 0), (3, 1)], [(4, 0), (5, 1), (6, 2), (7, 3)]]\n"
     ]
    },
    {
     "data": {
      "text/plain": [
       "<__main__.Node at 0x10f576f10>"
      ]
     },
     "execution_count": 10,
     "metadata": {},
     "output_type": "execute_result"
    }
   ],
   "source": [
    "root = Node(1, Node(2, Node(4), Node(5)), Node(3, Node(6), Node(7)))\n",
    "connect(root)"
   ]
  },
  {
   "cell_type": "markdown",
   "metadata": {},
   "source": [
    "## Optimized version"
   ]
  },
  {
   "cell_type": "code",
   "execution_count": null,
   "metadata": {},
   "outputs": [],
   "source": [
    "def connect(root: 'Node') -> 'Node':\n",
    "    temp = root\n",
    "    \n",
    "    while root and root.left:\n",
    "        next = root.left\n",
    "        \n",
    "        while root:\n",
    "            root.left.next = root.right\n",
    "            root.right.next = root.next and root.next.left\n",
    "            root = root.next\n",
    "            \n",
    "        root = next\n",
    "\n",
    "    return temp"
   ]
  }
 ],
 "metadata": {
  "kernelspec": {
   "display_name": "Python 3",
   "language": "python",
   "name": "python3"
  },
  "language_info": {
   "codemirror_mode": {
    "name": "ipython",
    "version": 3
   },
   "file_extension": ".py",
   "mimetype": "text/x-python",
   "name": "python",
   "nbconvert_exporter": "python",
   "pygments_lexer": "ipython3",
   "version": "3.7.6"
  }
 },
 "nbformat": 4,
 "nbformat_minor": 4
}
