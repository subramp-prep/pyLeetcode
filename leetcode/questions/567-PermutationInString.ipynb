{
 "cells": [
  {
   "cell_type": "markdown",
   "metadata": {},
   "source": [
    "## 567-Permutations in String\n",
    "\n",
    "Given two strings s1 and s2, write a function to return true if s2 contains the permutation of s1. In other words, one of the first string's permutations is the substring of the second string.\n",
    "\n",
    " \n",
    "\n",
    "Example 1:\n",
    "```\n",
    "Input: s1 = \"ab\" s2 = \"eidbaooo\"\n",
    "Output: True\n",
    "Explanation: s2 contains one permutation of s1 (\"ba\").\n",
    "```\n",
    "Example 2:\n",
    "```\n",
    "Input:s1= \"ab\" s2 = \"eidboaoo\"\n",
    "Output: False\n",
    "``` \n",
    "\n",
    "Note:\n",
    "\n",
    "The input strings only contain lower case letters.\n",
    "The length of both given strings is in range [1, 10,000]."
   ]
  },
  {
   "cell_type": "code",
   "execution_count": 4,
   "metadata": {},
   "outputs": [],
   "source": [
    "import collections\n",
    "\n",
    "def checkInclusion(s1: str, s2: str) -> bool:\n",
    "    start = stop = 0\n",
    "    maps = collections.Counter(s1)\n",
    "    counter = len(maps.keys())\n",
    "\n",
    "    while stop < len(s2):\n",
    "        c = s2[stop]\n",
    "\n",
    "        if c in maps:\n",
    "            maps[c] -= 1\n",
    "            if maps[c] == 0:\n",
    "                counter -= 1\n",
    "\n",
    "        stop += 1\n",
    "\n",
    "        while counter == 0:\n",
    "\n",
    "            bc = s2[start]\n",
    "\n",
    "            if bc in maps:\n",
    "                maps[bc] += 1\n",
    "                if maps[bc] > 0:\n",
    "                    counter += 1\n",
    "\n",
    "            if stop-start == len(s1):\n",
    "                return True\n",
    "\n",
    "            start += 1\n",
    "\n",
    "    return False"
   ]
  },
  {
   "cell_type": "code",
   "execution_count": 5,
   "metadata": {},
   "outputs": [
    {
     "name": "stdout",
     "output_type": "stream",
     "text": [
      "True\n"
     ]
    }
   ],
   "source": [
    "print(checkInclusion('ab', 'eidbaooo'))"
   ]
  },
  {
   "cell_type": "code",
   "execution_count": 6,
   "metadata": {},
   "outputs": [
    {
     "name": "stdout",
     "output_type": "stream",
     "text": [
      "False\n"
     ]
    }
   ],
   "source": [
    "print(checkInclusion('ab', 'eidboaoo'))"
   ]
  }
 ],
 "metadata": {
  "kernelspec": {
   "display_name": "Python 3",
   "language": "python",
   "name": "python3"
  },
  "language_info": {
   "codemirror_mode": {
    "name": "ipython",
    "version": 3
   },
   "file_extension": ".py",
   "mimetype": "text/x-python",
   "name": "python",
   "nbconvert_exporter": "python",
   "pygments_lexer": "ipython3",
   "version": "3.7.1"
  }
 },
 "nbformat": 4,
 "nbformat_minor": 2
}
