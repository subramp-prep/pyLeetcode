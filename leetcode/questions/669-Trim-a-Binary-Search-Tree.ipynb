{
 "cells": [
  {
   "cell_type": "markdown",
   "metadata": {},
   "source": [
    "## 669. Trim a Binary Search Tree\n",
    "\n",
    "Given the root of a binary search tree and the lowest and highest boundaries as low and high, trim the tree so that all its elements lies in [low, high]. Trimming the tree should not change the relative structure of the elements that will remain in the tree (i.e., any node's descendant should remain a descendant). It can be proven that there is a unique answer.\n",
    "\n",
    "Return the root of the trimmed binary search tree. Note that the root may change depending on the given bounds.\n",
    "\n",
    " \n",
    "\n",
    "Example 1:\n",
    "\n",
    "![axisBT](img/669-1.jpg )\n",
    "```\n",
    "Input: root = [1,0,2], low = 1, high = 2\n",
    "Output: [1,null,2]\n",
    "```\n",
    "Example 2:\n",
    "\n",
    "![axisBT](img/669-2.jpg )\n",
    "```\n",
    "Input: root = [3,0,4,null,2,null,null,1], low = 1, high = 3\n",
    "Output: [3,2,null,1]\n",
    "```\n",
    "Example 3:\n",
    "```\n",
    "Input: root = [1], low = 1, high = 2\n",
    "Output: [1]\n",
    "```\n",
    "Example 4:\n",
    "```\n",
    "Input: root = [1,null,2], low = 1, high = 3\n",
    "Output: [1,null,2]\n",
    "```\n",
    "Example 5:\n",
    "```\n",
    "Input: root = [1,null,2], low = 2, high = 4\n",
    "Output: [2]\n",
    "```\n",
    "\n",
    "Constraints:\n",
    "```\n",
    "The number of nodes in the tree in the range [1, 104].\n",
    "0 <= Node.val <= 104\n",
    "The value of each node in the tree is unique.\n",
    "root is guaranteed to be a valid binary search tree.\n",
    "0 <= low <= high <= 104\n",
    "```"
   ]
  },
  {
   "cell_type": "markdown",
   "metadata": {},
   "source": [
    "## Intuition\n",
    "\n",
    "Visit all nodes and exclude the ones beyond the range. If lower than `low` return right, if higher than `high` return left and construct the tree towards the end."
   ]
  },
  {
   "cell_type": "code",
   "execution_count": 2,
   "metadata": {},
   "outputs": [],
   "source": [
    "class TreeNode:\n",
    "    def __init__(self, val, left=None, right=None):\n",
    "        self.val = val\n",
    "        self.left = left\n",
    "        self.right = right\n",
    "        \n",
    "        \n",
    "def trimBST(root, low, high):\n",
    "    if not root:\n",
    "        return None\n",
    "    \n",
    "    if root.val < low:\n",
    "        return trimBST(root.right, low, high)\n",
    "    elif root.val > high:\n",
    "        return trimBST(root.left, low, high)\n",
    "    \n",
    "    root.left, root.right = trimBST(root.left, low, high), trimBST(root.right, low, high)\n",
    "    \n",
    "    return root"
   ]
  },
  {
   "cell_type": "code",
   "execution_count": null,
   "metadata": {},
   "outputs": [],
   "source": []
  }
 ],
 "metadata": {
  "kernelspec": {
   "display_name": "Python 3",
   "language": "python",
   "name": "python3"
  },
  "language_info": {
   "codemirror_mode": {
    "name": "ipython",
    "version": 3
   },
   "file_extension": ".py",
   "mimetype": "text/x-python",
   "name": "python",
   "nbconvert_exporter": "python",
   "pygments_lexer": "ipython3",
   "version": "3.8.5"
  }
 },
 "nbformat": 4,
 "nbformat_minor": 4
}
