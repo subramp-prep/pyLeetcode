{
 "cells": [
  {
   "cell_type": "markdown",
   "metadata": {},
   "source": [
    "## 298. Binary Tree Longest Consecutive Sequence\n",
    "\n",
    "Given a binary tree, find the length of the longest consecutive sequence path.\n",
    "\n",
    "The path refers to any sequence of nodes from some starting node to any node in the tree along the parent-child connections. The longest consecutive path need to be from parent to child (cannot be the reverse).\n",
    "\n",
    "Example 1:\n",
    "\n",
    "Input:\n",
    "```\n",
    "   1\n",
    "    \\\n",
    "     3\n",
    "    / \\\n",
    "   2   4\n",
    "        \\\n",
    "         5\n",
    "```\n",
    "Output: 3\n",
    "\n",
    "Explanation: Longest consecutive sequence path is 3-4-5, so return 3.\n",
    "Example 2:\n",
    "\n",
    "Input:\n",
    "```\n",
    "   2\n",
    "    \\\n",
    "     3\n",
    "    / \n",
    "   2    \n",
    "  / \n",
    " 1\n",
    "```\n",
    "Output: 2 \n",
    "\n",
    "Explanation: Longest consecutive sequence path is 2-3, not 3-2-1, so return 2."
   ]
  },
  {
   "cell_type": "code",
   "execution_count": 1,
   "metadata": {},
   "outputs": [],
   "source": [
    "class TreeNode:\n",
    "    def __init__(self, val, left=None, right=None):\n",
    "        self.val = val\n",
    "        self.left = left\n",
    "        self.right = right"
   ]
  },
  {
   "cell_type": "markdown",
   "metadata": {},
   "source": [
    "## Brute force (did not work) :("
   ]
  },
  {
   "cell_type": "markdown",
   "metadata": {},
   "source": [
    "def longestConsecutive(self, root: TreeNode) -> int:\n",
    "    self.longestPath = 0\n",
    "        \n",
    "    def getLongCount(nums):\n",
    "        if len(nums) == 1:\n",
    "            return 1\n",
    "\n",
    "        maxLength = 0\n",
    "        count = 0\n",
    "        for i in range(1, len(nums)):\n",
    "            if nums[i-1] + 1 == nums[i]:\n",
    "                count +=1 \n",
    "                maxLength = max(maxLength, count+1)\n",
    "            else:                    \n",
    "                count = 0\n",
    "        #maxLength = max(maxLength, count)\n",
    "\n",
    "        print(nums, maxLength)\n",
    "        return maxLength\n",
    "\n",
    "\n",
    "    def helper(head, path):\n",
    "        if head:\n",
    "\n",
    "            if not head.left and not head.right:\n",
    "\n",
    "                self.longestPath = max(self.longestPath, getLongCount(path + [head.val]))\n",
    "                return\n",
    "\n",
    "            helper(head.left, path + [head.val])\n",
    "            helper(head.right, path + [head.val])\n",
    "\n",
    "    helper(root, [])\n",
    "\n",
    "    return self.longestPath"
   ]
  },
  {
   "cell_type": "code",
   "execution_count": 6,
   "metadata": {},
   "outputs": [],
   "source": [
    "def longestConsecutive(root):\n",
    "    longestConsecutive.maxlength = 0\n",
    "    \n",
    "    def helper(head, parent, length):\n",
    "        if head:\n",
    "            length = (length + 1) if (parent and head.val == parent.val+1) else  1\n",
    "            longestConsecutive.maxlength = max(longestConsecutive.maxlength, length)\n",
    "            helper(head.left, head, length)\n",
    "            helper(head.right, head, length)\n",
    "        \n",
    "    \n",
    "    helper(root, None, 0)\n",
    "    \n",
    "    return longestConsecutive.maxlength"
   ]
  },
  {
   "cell_type": "code",
   "execution_count": 7,
   "metadata": {},
   "outputs": [
    {
     "name": "stdout",
     "output_type": "stream",
     "text": [
      "3\n"
     ]
    }
   ],
   "source": [
    "root = TreeNode(1, None, TreeNode(3, TreeNode(2), TreeNode(4, TreeNode(5))))\n",
    "print(longestConsecutive(root))"
   ]
  }
 ],
 "metadata": {
  "kernelspec": {
   "display_name": "Python 3",
   "language": "python",
   "name": "python3"
  },
  "language_info": {
   "codemirror_mode": {
    "name": "ipython",
    "version": 3
   },
   "file_extension": ".py",
   "mimetype": "text/x-python",
   "name": "python",
   "nbconvert_exporter": "python",
   "pygments_lexer": "ipython3",
   "version": "3.8.5"
  }
 },
 "nbformat": 4,
 "nbformat_minor": 4
}
