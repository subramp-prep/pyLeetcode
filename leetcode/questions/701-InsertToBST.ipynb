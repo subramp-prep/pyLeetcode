{
 "cells": [
  {
   "cell_type": "markdown",
   "metadata": {},
   "source": [
    "## 701 Insert to BST\n",
    "\n",
    "Given the root node of a binary search tree (BST) and a value to be inserted into the tree, insert the value into the BST. Return the root node of the BST after the insertion. It is guaranteed that the new value does not exist in the original BST.\n",
    "\n",
    "Note that there may exist multiple valid ways for the insertion, as long as the tree remains a BST after insertion. You can return any of them.\n",
    "\n",
    "For example, \n",
    "\n",
    "Given the tree:\n",
    "```\n",
    "        4\n",
    "       / \\\n",
    "      2   7\n",
    "     / \\\n",
    "    1   3\n",
    "```\n",
    "And the value to insert: 5\n",
    "You can return this binary search tree:\n",
    "```\n",
    "\n",
    "         4\n",
    "       /   \\\n",
    "      2     7\n",
    "     / \\   /\n",
    "    1   3 5\n",
    "```\n",
    "This tree is also valid:\n",
    "```\n",
    "         5\n",
    "       /   \\\n",
    "      2     7\n",
    "     / \\   \n",
    "    1   3\n",
    "         \\\n",
    "          4\n",
    "``` \n",
    "\n",
    "Constraints:\n",
    "\n",
    "The number of nodes in the given tree will be between 0 and 10^4.\n",
    "Each node will have a unique integer value from 0 to -10^8, inclusive.\n",
    "-10^8 <= val <= 10^8\n",
    "It's guaranteed that val does not exist in the original BST."
   ]
  },
  {
   "cell_type": "code",
   "execution_count": 2,
   "metadata": {},
   "outputs": [],
   "source": [
    "class TreeNode:\n",
    "    def __init__(self, val, left=None, right=None):\n",
    "        self.val = val\n",
    "        self.left = left\n",
    "        self.right = right\n",
    "        \n",
    "def insertRecursive(root, val):\n",
    "    if not root:\n",
    "        return TreeNode(val)\n",
    "    \n",
    "    if root.val > val:\n",
    "        root.left = insertRecursive(root.left, val)\n",
    "\n",
    "    else:\n",
    "        root.right = insertRecursive(root.right, val)\n",
    "        \n",
    "    return root\n",
    "\n",
    "def insertIterative(root, val):\n",
    "    head = root\n",
    "    \n",
    "    while root:\n",
    "        if root.val < val:\n",
    "            if not root.right:\n",
    "                root.right = TreeNode(val)\n",
    "                return head\n",
    "            else:\n",
    "                root = root.right\n",
    "        else:\n",
    "            if not root.left:\n",
    "                root.left = TreeNode(val)\n",
    "                return head\n",
    "            else:\n",
    "                root = root.left\n",
    "                \n",
    "    return TreeNode(val)\n",
    "\n",
    "def levelOrder(root):\n",
    "    output = []\n",
    "    \n",
    "    def helper(head, index):\n",
    "        if head:\n",
    "            if index+1 > len(output):\n",
    "                output.append([])\n",
    "                \n",
    "            output[index].append(head.val)\n",
    "            helper(head.left, index+1)\n",
    "            helper(head.right, index+1)\n",
    "            \n",
    "    helper(root, 0)\n",
    "    return output"
   ]
  },
  {
   "cell_type": "code",
   "execution_count": 4,
   "metadata": {},
   "outputs": [
    {
     "name": "stdout",
     "output_type": "stream",
     "text": [
      "[[4], [2, 7], [1, 3, 5]]\n"
     ]
    }
   ],
   "source": [
    "root = TreeNode(4, TreeNode(2, TreeNode(1), TreeNode(3)), TreeNode(7))\n",
    "print(levelOrder(insertIterative(root,5)))"
   ]
  },
  {
   "cell_type": "code",
   "execution_count": 5,
   "metadata": {},
   "outputs": [
    {
     "name": "stdout",
     "output_type": "stream",
     "text": [
      "[[4], [2, 7], [1, 3, 5]]\n"
     ]
    }
   ],
   "source": [
    "root = TreeNode(4, TreeNode(2, TreeNode(1), TreeNode(3)), TreeNode(7))\n",
    "print(levelOrder(insertRecursive(root,5)))"
   ]
  },
  {
   "cell_type": "code",
   "execution_count": null,
   "metadata": {},
   "outputs": [],
   "source": []
  }
 ],
 "metadata": {
  "kernelspec": {
   "display_name": "Python 3",
   "language": "python",
   "name": "python3"
  },
  "language_info": {
   "codemirror_mode": {
    "name": "ipython",
    "version": 3
   },
   "file_extension": ".py",
   "mimetype": "text/x-python",
   "name": "python",
   "nbconvert_exporter": "python",
   "pygments_lexer": "ipython3",
   "version": "3.7.6"
  }
 },
 "nbformat": 4,
 "nbformat_minor": 4
}
