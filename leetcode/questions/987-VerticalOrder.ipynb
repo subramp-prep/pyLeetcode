{
 "cells": [
  {
   "cell_type": "markdown",
   "metadata": {},
   "source": [
    "## 987 Vertical Order traversal\n",
    "\n",
    "\n",
    "Given a binary tree, return the vertical order traversal of its nodes values.\n",
    "\n",
    "For each node at position (X, Y), its left and right children respectively will be at positions (X-1, Y-1) and (X+1, Y-1).\n",
    "\n",
    "Running a vertical line from X = -infinity to X = +infinity, whenever the vertical line touches some nodes, we report the values of the nodes in order from top to bottom (decreasing Y coordinates).\n",
    "\n",
    "If two nodes have the same position, then the value of the node that is reported first is the value that is smaller.\n",
    "\n",
    "Return an list of non-empty reports in order of X coordinate.  Every report will have a list of values of nodes.\n",
    "\n",
    " \n",
    "\n",
    "Example 1:\n",
    "![axisBT](img/987-01.png )\n",
    "\n",
    "```\n",
    "Input: [3,9,20,null,null,15,7]\n",
    "Output: [[9],[3,15],[20],[7]]\n",
    "Explanation: \n",
    "Without loss of generality, we can assume the root node is at position (0, 0):\n",
    "Then, the node with value 9 occurs at position (-1, -1);\n",
    "The nodes with values 3 and 15 occur at positions (0, 0) and (0, -2);\n",
    "The node with value 20 occurs at position (1, -1);\n",
    "The node with value 7 occurs at position (2, -2).\n",
    "```\n",
    "\n",
    "Example 2:\n",
    "![axisBT](img/987-02.png )\n",
    "\n",
    "```\n",
    "Input: [1,2,3,4,5,6,7]\n",
    "Output: [[4],[2],[1,5,6],[3],[7]]\n",
    "Explanation: \n",
    "The node with value 5 and the node with value 6 have the same position according to the given scheme.\n",
    "However, in the report \"[1,5,6]\", the node value of 5 comes first since 5 is smaller than 6.\n",
    "```\n",
    "\n",
    "Note:\n",
    "\n",
    "The tree will have between 1 and 1000 nodes.\n",
    "Each node's value will be between 0 and 1000."
   ]
  },
  {
   "cell_type": "code",
   "execution_count": 4,
   "metadata": {},
   "outputs": [],
   "source": [
    "class TreeNode:\n",
    "    def __init__(self, val, left=None, right=None):\n",
    "        self.val = val\n",
    "        self.left = left\n",
    "        self.right = right\n",
    "\n",
    "def verticalTraversal(root):\n",
    "    #output = defaultdict(list)\n",
    "    output = {}\n",
    "\n",
    "    def helper(head, axis):\n",
    "        if head:\n",
    "\n",
    "            #output.setdefault(axis, []).append(head.val)\n",
    "            if axis not in output:\n",
    "                output[axis] = []\n",
    "\n",
    "            output[axis].append(head.val)\n",
    "            helper(head.left, axis-1)\n",
    "            helper(head.right, axis+1)\n",
    "\n",
    "    helper(root, 0)\n",
    "    output = sorted(output.items(), key=lambda x:x[0])\n",
    "    return [x[1] for x in output]"
   ]
  },
  {
   "cell_type": "code",
   "execution_count": 5,
   "metadata": {},
   "outputs": [
    {
     "name": "stdout",
     "output_type": "stream",
     "text": [
      "[[9], [3, 15], [20], [7]]\n"
     ]
    }
   ],
   "source": [
    "root = TreeNode(3, TreeNode(9), TreeNode(20, TreeNode(15), TreeNode(7)))\n",
    "print(verticalTraversal(root))"
   ]
  },
  {
   "cell_type": "code",
   "execution_count": 6,
   "metadata": {},
   "outputs": [
    {
     "name": "stdout",
     "output_type": "stream",
     "text": [
      "[[4], [2], [1, 5, 6], [3], [7]]\n"
     ]
    }
   ],
   "source": [
    "root = TreeNode(1, TreeNode(2, TreeNode(4), TreeNode(5)), TreeNode(3, TreeNode(6), TreeNode(7)))\n",
    "print(verticalTraversal(root))"
   ]
  },
  {
   "cell_type": "code",
   "execution_count": null,
   "metadata": {},
   "outputs": [],
   "source": []
  }
 ],
 "metadata": {
  "kernelspec": {
   "display_name": "Python 3",
   "language": "python",
   "name": "python3"
  },
  "language_info": {
   "codemirror_mode": {
    "name": "ipython",
    "version": 3
   },
   "file_extension": ".py",
   "mimetype": "text/x-python",
   "name": "python",
   "nbconvert_exporter": "python",
   "pygments_lexer": "ipython3",
   "version": "3.7.1"
  }
 },
 "nbformat": 4,
 "nbformat_minor": 2
}
