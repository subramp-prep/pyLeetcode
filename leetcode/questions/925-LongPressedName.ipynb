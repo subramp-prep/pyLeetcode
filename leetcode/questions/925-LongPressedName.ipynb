{
 "cells": [
  {
   "cell_type": "markdown",
   "metadata": {},
   "source": [
    "## 925 -  Long Pressed Name\n",
    "\n",
    "Your friend is typing his name into a keyboard.  Sometimes, when typing a character c, the key might get long pressed, and the character will be typed 1 or more times.\n",
    "\n",
    "You examine the typed characters of the keyboard.  Return True if it is possible that it was your friends name, with some characters (possibly none) being long pressed.\n",
    "\n",
    " \n",
    "\n",
    "Example 1:\n",
    "```\n",
    "Input: name = \"alex\", typed = \"aaleex\"\n",
    "Output: true\n",
    "Explanation: 'a' and 'e' in 'alex' were long pressed.\n",
    "```\n",
    "Example 2:\n",
    "```\n",
    "Input: name = \"saeed\", typed = \"ssaaedd\"\n",
    "Output: false\n",
    "Explanation: 'e' must have been pressed twice, but it wasn't in the typed output.\n",
    "```\n",
    "Example 3:\n",
    "```\n",
    "Input: name = \"leelee\", typed = \"lleeelee\"\n",
    "Output: true\n",
    "```\n",
    "Example 4:\n",
    "```\n",
    "Input: name = \"laiden\", typed = \"laiden\"\n",
    "Output: true\n",
    "Explanation: It's not necessary to long press any character.\n",
    "``` \n",
    "\n",
    "Note:\n",
    "```\n",
    "name.length <= 1000\n",
    "typed.length <= 1000\n",
    "The characters of name and typed are lowercase letters.\n",
    "```"
   ]
  },
  {
   "cell_type": "code",
   "execution_count": 1,
   "metadata": {},
   "outputs": [],
   "source": [
    "def longPressedName(name, typed):\n",
    "    if len(name) > len(typed):\n",
    "        return False\n",
    "\n",
    "    if len(name) == 0 and len(typed) == 0:\n",
    "        return True\n",
    "    \n",
    "    if name[0] == typed[0]:\n",
    "        n = t = 0\n",
    "        nc = name[0]\n",
    "        while n < len(name) and nc == name[n]:\n",
    "            n += 1\n",
    "\n",
    "        nt = typed[0]\n",
    "        while t < len(typed) and nt == typed[t]:\n",
    "            t += 1\n",
    "\n",
    "        if n <= t:\n",
    "            return longPressedName(name[n:], typed[t:])\n",
    "\n",
    "    return False"
   ]
  },
  {
   "cell_type": "code",
   "execution_count": 2,
   "metadata": {},
   "outputs": [
    {
     "name": "stdout",
     "output_type": "stream",
     "text": [
      "True\n"
     ]
    }
   ],
   "source": [
    "print(longPressedName('leelee', 'lleeelee'))"
   ]
  },
  {
   "cell_type": "code",
   "execution_count": 3,
   "metadata": {},
   "outputs": [
    {
     "name": "stdout",
     "output_type": "stream",
     "text": [
      "False\n"
     ]
    }
   ],
   "source": [
    "print(longPressedName('saeed', 'ssaaedd'))"
   ]
  },
  {
   "cell_type": "code",
   "execution_count": 4,
   "metadata": {},
   "outputs": [
    {
     "name": "stdout",
     "output_type": "stream",
     "text": [
      "True\n"
     ]
    }
   ],
   "source": [
    "print(longPressedName('alex', 'aaleex'))"
   ]
  }
 ],
 "metadata": {
  "kernelspec": {
   "display_name": "Python 3",
   "language": "python",
   "name": "python3"
  },
  "language_info": {
   "codemirror_mode": {
    "name": "ipython",
    "version": 3
   },
   "file_extension": ".py",
   "mimetype": "text/x-python",
   "name": "python",
   "nbconvert_exporter": "python",
   "pygments_lexer": "ipython3",
   "version": "3.7.4"
  }
 },
 "nbformat": 4,
 "nbformat_minor": 2
}
