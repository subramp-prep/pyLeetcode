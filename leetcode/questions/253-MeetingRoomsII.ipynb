{
 "cells": [
  {
   "cell_type": "markdown",
   "metadata": {},
   "source": [
    "## Q253 Meeting Rooms II\n",
    "\n",
    "Given an array of meeting time intervals consisting of start and end times [[s1,e1],[s2,e2],...] (si < ei), find the minimum number of conference rooms required.\n",
    "\n",
    "Example 1:\n",
    "```\n",
    "Input: [[0, 30],[5, 10],[15, 20]]\n",
    "Output: 2\n",
    "```\n",
    "Example 2:\n",
    "```\n",
    "Input: [[7,10],[2,4]]\n",
    "Output: 1\n",
    "```\n",
    "NOTE: input types have been changed on April 15, 2019. Please reset to default code definition to get new method signature."
   ]
  },
  {
   "cell_type": "code",
   "execution_count": 1,
   "metadata": {},
   "outputs": [],
   "source": [
    "def minMeetingRooms(intervals):\n",
    "    rooms = []\n",
    "    \n",
    "    for s, e in intervals:\n",
    "        for i in [[s, 1], [e, -1]]:\n",
    "            rooms.append(i)\n",
    "            \n",
    "    rooms.sort()\n",
    "    \n",
    "    res = count = 0\n",
    "    \n",
    "    for i, v in rooms:\n",
    "        count += v\n",
    "        res = max(res, count)\n",
    "        \n",
    "    return res"
   ]
  },
  {
   "cell_type": "code",
   "execution_count": 2,
   "metadata": {},
   "outputs": [
    {
     "name": "stdout",
     "output_type": "stream",
     "text": [
      "2\n"
     ]
    }
   ],
   "source": [
    "print(minMeetingRooms([[0, 30],[5, 10],[15, 20]]))"
   ]
  },
  {
   "cell_type": "code",
   "execution_count": 3,
   "metadata": {},
   "outputs": [
    {
     "name": "stdout",
     "output_type": "stream",
     "text": [
      "1\n"
     ]
    }
   ],
   "source": [
    "print(minMeetingRooms([[7,10],[2,4]]))"
   ]
  }
 ],
 "metadata": {
  "kernelspec": {
   "display_name": "Python 3",
   "language": "python",
   "name": "python3"
  },
  "language_info": {
   "codemirror_mode": {
    "name": "ipython",
    "version": 3
   },
   "file_extension": ".py",
   "mimetype": "text/x-python",
   "name": "python",
   "nbconvert_exporter": "python",
   "pygments_lexer": "ipython3",
   "version": "3.7.6"
  }
 },
 "nbformat": 4,
 "nbformat_minor": 4
}
