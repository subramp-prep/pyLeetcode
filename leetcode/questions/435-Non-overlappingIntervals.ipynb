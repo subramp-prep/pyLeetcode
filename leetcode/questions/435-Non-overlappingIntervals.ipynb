{
 "cells": [
  {
   "cell_type": "markdown",
   "metadata": {},
   "source": [
    "## 435. Non-overlapping Intervals\n",
    "\n",
    "Given a collection of intervals, find the minimum number of intervals you need to remove to make the rest of the intervals non-overlapping.\n",
    "\n",
    " \n",
    "\n",
    "Example 1:\n",
    "```\n",
    "Input: [[1,2],[2,3],[3,4],[1,3]]\n",
    "Output: 1\n",
    "```\n",
    "Explanation: [1,3] can be removed and the rest of intervals are non-overlapping.\n",
    "Example 2:\n",
    "```\n",
    "Input: [[1,2],[1,2],[1,2]]\n",
    "Output: 2\n",
    "```\n",
    "Explanation: You need to remove two [1,2] to make the rest of intervals non-overlapping.\n",
    "Example 3:\n",
    "```\n",
    "Input: [[1,2],[2,3]]\n",
    "Output: 0\n",
    "```\n",
    "Explanation: You don't need to remove any of the intervals since they're already non-overlapping.\n",
    " \n",
    "\n",
    "Note:\n",
    "```\n",
    "You may assume the interval's end point is always bigger than its start point.\n",
    "Intervals like [1,2] and [2,3] have borders \"touching\" but they don't overlap each other.\n",
    "```"
   ]
  },
  {
   "cell_type": "code",
   "execution_count": 3,
   "metadata": {},
   "outputs": [],
   "source": [
    "def eraseOverlapIntervals(intervals):\n",
    "    intervals = sorted(intervals, key = lambda x: x[1])\n",
    "    end = float('-inf')\n",
    "    erase = 0\n",
    "    \n",
    "    for s, e in intervals:\n",
    "        if s >= end:\n",
    "            end = e\n",
    "        else:\n",
    "            erase += 1\n",
    "            \n",
    "    return erase"
   ]
  },
  {
   "cell_type": "code",
   "execution_count": 4,
   "metadata": {},
   "outputs": [
    {
     "name": "stdout",
     "output_type": "stream",
     "text": [
      "1\n"
     ]
    }
   ],
   "source": [
    "print(eraseOverlapIntervals([[1,2],[2,3],[3,4],[1,3]]))"
   ]
  },
  {
   "cell_type": "code",
   "execution_count": 5,
   "metadata": {},
   "outputs": [
    {
     "name": "stdout",
     "output_type": "stream",
     "text": [
      "2\n"
     ]
    }
   ],
   "source": [
    "print(eraseOverlapIntervals([[1,2],[1,2],[1,2]]))"
   ]
  },
  {
   "cell_type": "code",
   "execution_count": 6,
   "metadata": {},
   "outputs": [
    {
     "name": "stdout",
     "output_type": "stream",
     "text": [
      "0\n"
     ]
    }
   ],
   "source": [
    "print(eraseOverlapIntervals([[1,2],[2,3]]))"
   ]
  }
 ],
 "metadata": {
  "kernelspec": {
   "display_name": "Python 3",
   "language": "python",
   "name": "python3"
  },
  "language_info": {
   "codemirror_mode": {
    "name": "ipython",
    "version": 3
   },
   "file_extension": ".py",
   "mimetype": "text/x-python",
   "name": "python",
   "nbconvert_exporter": "python",
   "pygments_lexer": "ipython3",
   "version": "3.7.6"
  }
 },
 "nbformat": 4,
 "nbformat_minor": 4
}
