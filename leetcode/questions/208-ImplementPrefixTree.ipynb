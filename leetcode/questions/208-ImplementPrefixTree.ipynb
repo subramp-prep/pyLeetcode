{
 "cells": [
  {
   "cell_type": "markdown",
   "metadata": {},
   "source": [
    "## 208 Implement Prefix tree\n",
    "\n",
    "Implement a trie with insert, search, and startsWith methods.\n",
    "\n",
    "```\n",
    "Example:\n",
    "\n",
    "Trie trie = new Trie();\n",
    "\n",
    "trie.insert(\"apple\");\n",
    "trie.search(\"apple\");   // returns true\n",
    "trie.search(\"app\");     // returns false\n",
    "trie.startsWith(\"app\"); // returns true\n",
    "trie.insert(\"app\");   \n",
    "trie.search(\"app\");     // returns true\n",
    "```\n",
    "\n",
    "Note:\n",
    "\n",
    "You may assume that all inputs are consist of lowercase letters a-z.\n",
    "All inputs are guaranteed to be non-empty strings."
   ]
  },
  {
   "cell_type": "code",
   "execution_count": 1,
   "metadata": {},
   "outputs": [],
   "source": [
    "class Trie:\n",
    "\n",
    "    def __init__(self):\n",
    "        \"\"\"\n",
    "        Initialize your data structure here.\n",
    "        \"\"\"\n",
    "        self.val = ''\n",
    "        self.children = {}\n",
    "        self.root = None\n",
    "\n",
    "    def insert(self, word: str) -> None:\n",
    "        \"\"\"\n",
    "        Inserts a word into the trie.\n",
    "        \"\"\"\n",
    "        if self.root is None:\n",
    "            self.root = Trie()\n",
    "\n",
    "        temp = self.root\n",
    "        index = 0\n",
    "\n",
    "        for c in word:\n",
    "            if c in temp.children:\n",
    "                temp = temp.children[c]\n",
    "                index += 1\n",
    "\n",
    "            else:\n",
    "                break\n",
    "\n",
    "        for i in range(index, len(word)):\n",
    "            temp.children[word[i]] = Trie()\n",
    "            temp = temp.children[word[i]]\n",
    "\n",
    "        temp.val = word\n",
    "\n",
    "    def search(self, word: str) -> bool:\n",
    "        \"\"\"\n",
    "        Returns if the word is in the trie.\n",
    "        \"\"\"\n",
    "        temp = self.root\n",
    "\n",
    "        for c in word:\n",
    "            if c in temp.children:\n",
    "                temp = temp.children[c]\n",
    "\n",
    "            else:\n",
    "                return False\n",
    "\n",
    "        if temp.val == word:\n",
    "            return True\n",
    "\n",
    "        return False\n",
    "\n",
    "    def startsWith(self, prefix: str) -> bool:\n",
    "        \"\"\"\n",
    "        Returns if there is any word in the trie that starts with the given prefix.\n",
    "        \"\"\"\n",
    "        temp = self.root\n",
    "\n",
    "        for c in prefix:\n",
    "            if c in temp.children:\n",
    "                temp = temp.children[c]\n",
    "\n",
    "            else:\n",
    "                return False\n",
    "\n",
    "        return True"
   ]
  },
  {
   "cell_type": "code",
   "execution_count": 4,
   "metadata": {},
   "outputs": [
    {
     "name": "stdout",
     "output_type": "stream",
     "text": [
      "True\n",
      "False\n",
      "True\n",
      "True\n"
     ]
    }
   ],
   "source": [
    "trie =  Trie()\n",
    "\n",
    "trie.insert(\"apple\")\n",
    "print(trie.search(\"apple\"))    #returns true\n",
    "print(trie.search(\"app\"))      #returns false\n",
    "print(trie.startsWith(\"app\"))  # returns true\n",
    "trie.insert(\"app\")\n",
    "print(trie.search(\"app\"))  # returns true"
   ]
  },
  {
   "cell_type": "code",
   "execution_count": null,
   "metadata": {},
   "outputs": [],
   "source": []
  }
 ],
 "metadata": {
  "kernelspec": {
   "display_name": "Python 3",
   "language": "python",
   "name": "python3"
  },
  "language_info": {
   "codemirror_mode": {
    "name": "ipython",
    "version": 3
   },
   "file_extension": ".py",
   "mimetype": "text/x-python",
   "name": "python",
   "nbconvert_exporter": "python",
   "pygments_lexer": "ipython3",
   "version": "3.7.1"
  }
 },
 "nbformat": 4,
 "nbformat_minor": 2
}
