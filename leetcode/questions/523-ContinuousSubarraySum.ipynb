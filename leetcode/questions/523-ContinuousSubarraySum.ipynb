{
 "cells": [
  {
   "cell_type": "markdown",
   "metadata": {},
   "source": [
    "## Q523 Continuous Subarray Sum\n",
    "\n",
    "Given a list of non-negative numbers and a target integer k, write a function to check if the array has a continuous subarray of size at least 2 that sums up to a multiple of k, that is, sums up to n*k where n is also an integer.\n",
    "\n",
    " \n",
    "\n",
    "Example 1:\n",
    "```\n",
    "Input: [23, 2, 4, 6, 7],  k=6\n",
    "Output: True\n",
    "```\n",
    "Explanation: Because [2, 4] is a continuous subarray of size 2 and sums up to 6.\n",
    "Example 2:\n",
    "```\n",
    "Input: [23, 2, 6, 4, 7],  k=6\n",
    "Output: True\n",
    "```\n",
    "Explanation: Because [23, 2, 6, 4, 7] is an continuous subarray of size 5 and sums up to 42.\n",
    " \n",
    "\n",
    "Constraints:\n",
    "\n",
    "The length of the array won't exceed 10,000.\n",
    "You may assume the sum of all the numbers is in the range of a signed 32-bit integer."
   ]
  },
  {
   "cell_type": "code",
   "execution_count": 2,
   "metadata": {},
   "outputs": [],
   "source": [
    "def checkSubarraySum(nums, k):\n",
    "    maps = {0:-1}\n",
    "    total = 0\n",
    "\n",
    "    for i in range(len(nums)):\n",
    "        total += nums[i]\n",
    "\n",
    "        if k != 0:\n",
    "            total %= k\n",
    "\n",
    "        if total in maps:\n",
    "            if (i- maps[total]) > 1:\n",
    "                return True\n",
    "        else:                \n",
    "            maps[total] = i\n",
    "\n",
    "    return False"
   ]
  },
  {
   "cell_type": "code",
   "execution_count": 3,
   "metadata": {},
   "outputs": [
    {
     "name": "stdout",
     "output_type": "stream",
     "text": [
      "True\n"
     ]
    }
   ],
   "source": [
    "print(checkSubarraySum([23,2,4,6,7], 6))"
   ]
  },
  {
   "cell_type": "code",
   "execution_count": null,
   "metadata": {},
   "outputs": [],
   "source": []
  }
 ],
 "metadata": {
  "kernelspec": {
   "display_name": "Python 3",
   "language": "python",
   "name": "python3"
  },
  "language_info": {
   "codemirror_mode": {
    "name": "ipython",
    "version": 3
   },
   "file_extension": ".py",
   "mimetype": "text/x-python",
   "name": "python",
   "nbconvert_exporter": "python",
   "pygments_lexer": "ipython3",
   "version": "3.7.6"
  }
 },
 "nbformat": 4,
 "nbformat_minor": 4
}
