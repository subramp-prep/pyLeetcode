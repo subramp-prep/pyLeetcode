{
 "cells": [
  {
   "cell_type": "markdown",
   "metadata": {},
   "source": [
    "Given an array A of 0s and 1s, consider N_i: the i-th subarray from A[0] to A[i] interpreted as a binary number (from most-significant-bit to least-significant-bit.)\n",
    "\n",
    "Return a list of booleans answer, where answer[i] is true if and only if N_i is divisible by 5.\n",
    "\n",
    "Example 1:\n",
    "```\n",
    "Input: [0,1,1]\n",
    "Output: [true,false,false]\n",
    "Explanation: \n",
    "The input numbers in binary are 0, 01, 011; which are 0, 1, and 3 in base-10.  Only the first number is divisible by 5, so answer[0] is true.\n",
    "```\n",
    "Example 2:\n",
    "```\n",
    "Input: [1,1,1]\n",
    "Output: [false,false,false]\n",
    "```\n",
    "Example 3:\n",
    "```\n",
    "Input: [0,1,1,1,1,1]\n",
    "Output: [true,false,false,false,true,false]\n",
    "```\n",
    "Example 4:\n",
    "```\n",
    "Input: [1,1,1,0,1]\n",
    "Output: [false,false,false,false,false]\n",
    "```\n",
    "\n",
    "Note:\n",
    "\n",
    "1 <= A.length <= 30000\n",
    "A[i] is 0 or 1"
   ]
  },
  {
   "cell_type": "code",
   "execution_count": 8,
   "metadata": {},
   "outputs": [],
   "source": [
    " def prefixesDivBy5(A):\n",
    "        for i in range(1, len(A)):\n",
    "            A[i] += A[i-1]*2\n",
    "            \n",
    "        return [a%5 == 0 for a in A]"
   ]
  },
  {
   "cell_type": "code",
   "execution_count": 9,
   "metadata": {},
   "outputs": [
    {
     "data": {
      "text/plain": [
       "[True, False, False]"
      ]
     },
     "execution_count": 9,
     "metadata": {},
     "output_type": "execute_result"
    }
   ],
   "source": [
    "prefixesDivBy5([0,1,1])"
   ]
  },
  {
   "cell_type": "code",
   "execution_count": 10,
   "metadata": {},
   "outputs": [
    {
     "data": {
      "text/plain": [
       "[False, False, False]"
      ]
     },
     "execution_count": 10,
     "metadata": {},
     "output_type": "execute_result"
    }
   ],
   "source": [
    "prefixesDivBy5([1,1,1])"
   ]
  },
  {
   "cell_type": "code",
   "execution_count": 11,
   "metadata": {},
   "outputs": [
    {
     "data": {
      "text/plain": [
       "[True, False, False, False, True, False]"
      ]
     },
     "execution_count": 11,
     "metadata": {},
     "output_type": "execute_result"
    }
   ],
   "source": [
    "prefixesDivBy5([0,1,1,1,1,1])"
   ]
  }
 ],
 "metadata": {
  "kernelspec": {
   "display_name": "Python 3",
   "language": "python",
   "name": "python3"
  },
  "language_info": {
   "codemirror_mode": {
    "name": "ipython",
    "version": 3
   },
   "file_extension": ".py",
   "mimetype": "text/x-python",
   "name": "python",
   "nbconvert_exporter": "python",
   "pygments_lexer": "ipython3",
   "version": "3.7.1"
  }
 },
 "nbformat": 4,
 "nbformat_minor": 2
}
