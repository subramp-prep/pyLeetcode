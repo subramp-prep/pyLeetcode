{
 "cells": [
  {
   "cell_type": "markdown",
   "metadata": {},
   "source": [
    "## 589 - N-ary Tree Preorder Traversal \n",
    "\n",
    "Given an n-ary tree, return the preorder traversal of its nodes' values.\n",
    "\n",
    "For example, given a 3-ary tree:\n",
    "\n",
    "![nAry](img/narytreeexample.png)\n",
    "\n",
    "Return its preorder traversal as: [1,3,5,6,2,4]."
   ]
  },
  {
   "cell_type": "code",
   "execution_count": 3,
   "metadata": {},
   "outputs": [],
   "source": [
    "class NAry:\n",
    "    def __init__(self, val, children=None):\n",
    "        self.val = val\n",
    "        self.children = children"
   ]
  },
  {
   "cell_type": "code",
   "execution_count": 4,
   "metadata": {},
   "outputs": [],
   "source": [
    "def nAryPreorder_Recursive(root):\n",
    "    \n",
    "    result = []\n",
    "    def helper(head):\n",
    "        if head:\n",
    "            result.append(head.val)\n",
    "            \n",
    "            if head.children:\n",
    "                for c in head.children:\n",
    "                    helper(c)\n",
    "    \n",
    "    helper(root)\n",
    "    return result"
   ]
  },
  {
   "cell_type": "code",
   "execution_count": 8,
   "metadata": {},
   "outputs": [],
   "source": [
    "def nAryPreorder_Iterative(root):\n",
    "    \n",
    "    result = []\n",
    "    stack=[root]\n",
    "    \n",
    "    while len(stack) > 0:\n",
    "        recent = stack.pop(0) # note: pop of 0\n",
    "        \n",
    "        result.append(recent.val)\n",
    "        \n",
    "        if recent.children:\n",
    "            stack = recent.children + stack\n",
    "            \n",
    "    return result"
   ]
  },
  {
   "cell_type": "code",
   "execution_count": 9,
   "metadata": {},
   "outputs": [
    {
     "name": "stdout",
     "output_type": "stream",
     "text": [
      "[1, 3, 5, 6, 2, 4]\n"
     ]
    }
   ],
   "source": [
    "root = NAry(1, [NAry(3, [NAry(5), NAry(6)]),NAry(2),NAry(4)])\n",
    "print(nAryPreorder_Recursive(root))"
   ]
  },
  {
   "cell_type": "code",
   "execution_count": 10,
   "metadata": {},
   "outputs": [
    {
     "name": "stdout",
     "output_type": "stream",
     "text": [
      "[1, 3, 5, 6, 2, 4]\n"
     ]
    }
   ],
   "source": [
    "print(nAryPreorder_Iterative(root))"
   ]
  },
  {
   "cell_type": "code",
   "execution_count": null,
   "metadata": {},
   "outputs": [],
   "source": []
  }
 ],
 "metadata": {
  "kernelspec": {
   "display_name": "Python 3",
   "language": "python",
   "name": "python3"
  },
  "language_info": {
   "codemirror_mode": {
    "name": "ipython",
    "version": 3
   },
   "file_extension": ".py",
   "mimetype": "text/x-python",
   "name": "python",
   "nbconvert_exporter": "python",
   "pygments_lexer": "ipython3",
   "version": "3.7.1"
  }
 },
 "nbformat": 4,
 "nbformat_minor": 2
}
