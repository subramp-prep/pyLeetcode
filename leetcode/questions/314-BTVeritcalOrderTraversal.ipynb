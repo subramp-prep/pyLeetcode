{
 "cells": [
  {
   "cell_type": "markdown",
   "metadata": {},
   "source": [
    "## 314 Binary Tree Vertical Order Traversal\n",
    "\n",
    "Given a binary tree, return the vertical order traversal of its nodes' values. (ie, from top to bottom, column by column).\n",
    "\n",
    "If two nodes are in the same row and column, the order should be from left to right.\n",
    "\n",
    "Examples 1:\n",
    "````\n",
    "Input: [3,9,20,null,null,15,7]\n",
    "\n",
    "   3\n",
    "  /\\\n",
    " /  \\\n",
    " 9  20\n",
    "    /\\\n",
    "   /  \\\n",
    "  15   7 \n",
    "\n",
    "Output:\n",
    "\n",
    "[\n",
    "  [9],\n",
    "  [3,15],\n",
    "  [20],\n",
    "  [7]\n",
    "]\n",
    "```\n",
    "Examples 2:\n",
    "```\n",
    "Input: [3,9,8,4,0,1,7]\n",
    "\n",
    "     3\n",
    "    /\\\n",
    "   /  \\\n",
    "   9   8\n",
    "  /\\  /\\\n",
    " /  \\/  \\\n",
    " 4  01   7 \n",
    "\n",
    "Output:\n",
    "\n",
    "[\n",
    "  [4],\n",
    "  [9],\n",
    "  [3,0,1],\n",
    "  [8],\n",
    "  [7]\n",
    "]\n",
    "```\n",
    "Examples 3:\n",
    "```\n",
    "Input: [3,9,8,4,0,1,7,null,null,null,2,5] (0's right child is 2 and 1's left child is 5)\n",
    "\n",
    "     3\n",
    "    /\\\n",
    "   /  \\\n",
    "   9   8\n",
    "  /\\  /\\\n",
    " /  \\/  \\\n",
    " 4  01   7\n",
    "    /\\\n",
    "   /  \\\n",
    "   5   2\n",
    "\n",
    "Output:\n",
    "\n",
    "[\n",
    "  [4],\n",
    "  [9,5],\n",
    "  [3,0,1],\n",
    "  [8,2],\n",
    "  [7]\n",
    "]\n",
    "```"
   ]
  },
  {
   "cell_type": "code",
   "execution_count": 1,
   "metadata": {},
   "outputs": [],
   "source": [
    "class TreeNode:\n",
    "    def __init__(self, val, left=None, right=None):\n",
    "        self.val = val\n",
    "        self.left = left\n",
    "        self.right = right"
   ]
  },
  {
   "cell_type": "markdown",
   "metadata": {},
   "source": [
    "## Did not work due to ordering issues"
   ]
  },
  {
   "cell_type": "code",
   "execution_count": 6,
   "metadata": {},
   "outputs": [],
   "source": [
    "def verticalOrder_Incorrect(root):\n",
    "    maps = {}\n",
    "\n",
    "    def helper(head, axis):\n",
    "        if head:\n",
    "\n",
    "            maps[axis] = maps.setdefault(axis, []) + [(head.val)]\n",
    "            helper(head.left, axis-1)\n",
    "            helper(head.right, axis+1)\n",
    "\n",
    "    helper(root, 0)\n",
    "    print(maps)\n",
    "    maps = sorted(maps.items(), key=lambda x: x[0])\n",
    "\n",
    "    return [c[1] for c in maps]"
   ]
  },
  {
   "cell_type": "markdown",
   "metadata": {},
   "source": [
    "## Correct solution"
   ]
  },
  {
   "cell_type": "code",
   "execution_count": 11,
   "metadata": {},
   "outputs": [],
   "source": [
    "from collections import deque, defaultdict\n",
    "\n",
    "def verticalOrder(root):\n",
    "    maps = defaultdict(list)\n",
    "    queue = deque([(root,0)])\n",
    "\n",
    "    while queue:\n",
    "        node, axis = queue.popleft()\n",
    "\n",
    "        if node:\n",
    "            maps[axis].append(node.val)\n",
    "\n",
    "            queue.append((node.left, axis-1))\n",
    "            queue.append((node.right, axis+1))\n",
    "\n",
    "    return [maps[x] for x in sorted(maps.keys())]"
   ]
  },
  {
   "cell_type": "code",
   "execution_count": 12,
   "metadata": {},
   "outputs": [
    {
     "name": "stdout",
     "output_type": "stream",
     "text": [
      "[[9], [3, 15], [20], [7]]\n"
     ]
    }
   ],
   "source": [
    "#3,9,20,null,null,15,7\n",
    "root = TreeNode(3, TreeNode(9), TreeNode(20, TreeNode(15), TreeNode(7)))\n",
    "print(verticalOrder(root))"
   ]
  },
  {
   "cell_type": "code",
   "execution_count": null,
   "metadata": {},
   "outputs": [],
   "source": []
  }
 ],
 "metadata": {
  "kernelspec": {
   "display_name": "Python 3",
   "language": "python",
   "name": "python3"
  },
  "language_info": {
   "codemirror_mode": {
    "name": "ipython",
    "version": 3
   },
   "file_extension": ".py",
   "mimetype": "text/x-python",
   "name": "python",
   "nbconvert_exporter": "python",
   "pygments_lexer": "ipython3",
   "version": "3.7.6"
  }
 },
 "nbformat": 4,
 "nbformat_minor": 4
}
