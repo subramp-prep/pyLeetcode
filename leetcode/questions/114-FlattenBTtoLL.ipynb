{
 "cells": [
  {
   "cell_type": "markdown",
   "metadata": {},
   "source": [
    "## Q114. Flatten Binary Tree to Linked List\n",
    "\n",
    "Given a binary tree, flatten it to a linked list in-place.\n",
    "\n",
    "For example, given the following tree:\n",
    "\n",
    "```\n",
    "    1\n",
    "   / \\\n",
    "  2   5\n",
    " / \\   \\\n",
    "3   4   6\n",
    "```\n",
    "The flattened tree should look like:\n",
    "```\n",
    "1\n",
    " \\\n",
    "  2\n",
    "   \\\n",
    "    3\n",
    "     \\\n",
    "      4\n",
    "       \\\n",
    "        5\n",
    "         \\\n",
    "          6\n",
    "```"
   ]
  },
  {
   "cell_type": "code",
   "execution_count": 3,
   "metadata": {},
   "outputs": [],
   "source": [
    "class TreeNode:\n",
    "    def __init__(self, val, left=None, right=None):\n",
    "        self.val = val\n",
    "        self.left = left\n",
    "        self.right = right\n",
    "\n",
    "class Solution:\n",
    "    \n",
    "    def flattenTree(self, node):\n",
    "        \n",
    "        # Handle the null scenario\n",
    "        if not node:\n",
    "            return None\n",
    "        \n",
    "        # For a leaf node, we simply return the node as is.\n",
    "        if not node.left and not node.right:\n",
    "            return node\n",
    "        \n",
    "        # Recursively flatten the left subtree\n",
    "        leftTail = self.flattenTree(node.left)\n",
    "        \n",
    "        # Recursively flatten the right subtree\n",
    "        rightTail = self.flattenTree(node.right)\n",
    "        \n",
    "        # If there was a left subtree, we shuffle the connections\n",
    "        # around so that there is nothing on the left side\n",
    "        # anymore.\n",
    "        if leftTail:\n",
    "            leftTail.right = node.right\n",
    "            node.right = node.left\n",
    "            node.left = None\n",
    "        \n",
    "        # We need to return the \"rightmost\" node after we are\n",
    "        # done wiring the new connections. \n",
    "        return rightTail if rightTail else leftTail\n",
    "    \n",
    "    def flatten(self, root: TreeNode) -> None:\n",
    "        \"\"\"\n",
    "        Do not return anything, modify root in-place instead.\n",
    "        \"\"\"\n",
    "        \n",
    "        self.flattenTree(root)"
   ]
  },
  {
   "cell_type": "code",
   "execution_count": 4,
   "metadata": {},
   "outputs": [],
   "source": [
    "root = TreeNode(1, TreeNode(2, TreeNode(3), TreeNode(4)), TreeNode(5, None, TreeNode(6)))\n"
   ]
  },
  {
   "cell_type": "markdown",
   "metadata": {},
   "source": [
    "From \n",
    "\n",
    "https://leetcode.com/problems/flatten-binary-tree-to-linked-list/solution/"
   ]
  }
 ],
 "metadata": {
  "kernelspec": {
   "display_name": "Python 3",
   "language": "python",
   "name": "python3"
  },
  "language_info": {
   "codemirror_mode": {
    "name": "ipython",
    "version": 3
   },
   "file_extension": ".py",
   "mimetype": "text/x-python",
   "name": "python",
   "nbconvert_exporter": "python",
   "pygments_lexer": "ipython3",
   "version": "3.7.6"
  }
 },
 "nbformat": 4,
 "nbformat_minor": 4
}
