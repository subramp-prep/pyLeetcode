{
 "cells": [
  {
   "cell_type": "markdown",
   "metadata": {},
   "source": [
    "## 110-Balanced Binary Tree\n",
    "\n",
    "Given a binary tree, determine if it is height-balanced.\n",
    "\n",
    "For this problem, a height-balanced binary tree is defined as:\n",
    "\n",
    "a binary tree in which the depth of the two subtrees of every node never differ by more than 1.\n",
    "\n",
    "Example 1:\n",
    "\n",
    "Given the following tree [3,9,20,null,null,15,7]:\n",
    "```\n",
    "    3\n",
    "   / \\\n",
    "  9  20\n",
    "    /  \\\n",
    "   15   7\n",
    "```\n",
    "Return true.\n",
    "\n",
    "Example 2:\n",
    "\n",
    "Given the following tree [1,2,2,3,3,null,null,4,4]:\n",
    "```\n",
    "\n",
    "       1\n",
    "      / \\\n",
    "     2   2\n",
    "    / \\\n",
    "   3   3\n",
    "  / \\\n",
    " 4   4\n",
    "```\n",
    "Return false."
   ]
  },
  {
   "cell_type": "code",
   "execution_count": 1,
   "metadata": {},
   "outputs": [],
   "source": [
    "class TreeNode:\n",
    "    def __init__(self, val, left=None, right=None):\n",
    "        self.val = val\n",
    "        self.left = left\n",
    "        self.right = right\n",
    "\n",
    "def isBalanced(root: TreeNode) -> bool:\n",
    "\n",
    "    def helper(head):\n",
    "        if not head:\n",
    "            return True, 0\n",
    "\n",
    "        l_b, l_h = helper(head.left)\n",
    "        if not l_b:\n",
    "            return False, 0\n",
    "\n",
    "        r_b, r_h = helper(head.right)\n",
    "        if not r_b:\n",
    "            return False, 0\n",
    "\n",
    "        if abs(l_h-r_h) > 1:\n",
    "            return False, 0\n",
    "\n",
    "        return True, max(l_h, r_h) + 1\n",
    "\n",
    "    return helper(root)[0]"
   ]
  },
  {
   "cell_type": "code",
   "execution_count": 2,
   "metadata": {},
   "outputs": [
    {
     "name": "stdout",
     "output_type": "stream",
     "text": [
      "True\n"
     ]
    }
   ],
   "source": [
    "correct = TreeNode(1, TreeNode(2, None, TreeNode(4)), TreeNode(3, TreeNode(5, TreeNode(7), TreeNode(8)), TreeNode(6)))\n",
    "print(isBalanced(correct))"
   ]
  },
  {
   "cell_type": "code",
   "execution_count": 3,
   "metadata": {},
   "outputs": [
    {
     "name": "stdout",
     "output_type": "stream",
     "text": [
      "False\n"
     ]
    }
   ],
   "source": [
    "wrong = TreeNode(1, TreeNode(2), TreeNode(3, TreeNode(4, TreeNode(6), TreeNode(7)), TreeNode(5)))\n",
    "print(isBalanced(wrong))"
   ]
  }
 ],
 "metadata": {
  "kernelspec": {
   "display_name": "Python 3",
   "language": "python",
   "name": "python3"
  },
  "language_info": {
   "codemirror_mode": {
    "name": "ipython",
    "version": 3
   },
   "file_extension": ".py",
   "mimetype": "text/x-python",
   "name": "python",
   "nbconvert_exporter": "python",
   "pygments_lexer": "ipython3",
   "version": "3.7.1"
  }
 },
 "nbformat": 4,
 "nbformat_minor": 2
}
