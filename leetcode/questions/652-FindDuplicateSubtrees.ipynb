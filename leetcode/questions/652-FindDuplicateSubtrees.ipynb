{
 "cells": [
  {
   "cell_type": "markdown",
   "metadata": {},
   "source": [
    "Given a binary tree, return all duplicate subtrees. For each kind of duplicate subtrees, you only need to return the root node of any one of them.\n",
    "\n",
    "Two trees are duplicate if they have the same structure with same node values.\n",
    "\n",
    "```\n",
    "Example 1:\n",
    "\n",
    "        1\n",
    "       / \\\n",
    "      2   3\n",
    "     /   / \\\n",
    "    4   2   4\n",
    "       /\n",
    "      4\n",
    "The following are two duplicate subtrees:\n",
    "\n",
    "      2\n",
    "     /\n",
    "    4\n",
    "and\n",
    "\n",
    "    4\n",
    "```\n",
    "Therefore, you need to return above trees' root in the form of a list."
   ]
  },
  {
   "cell_type": "code",
   "execution_count": null,
   "metadata": {},
   "outputs": [],
   "source": [
    "class TreeNode:\n",
    "    def __init__(self, val):\n",
    "        self.val = val\n",
    "        self.left = None\n",
    "        self.right = None\n",
    "        \n",
    "def buildTree(nums, index, root):\n",
    "    if index < len(nums) and nums[index]:\n",
    "        root = TreeNode(nums[index])\n",
    "        root.left = buildTree(nums, 2*index + 1, root.left)\n",
    "        root.right = buildTree(nums, 2*index + 2, root.right)\n",
    "    \n",
    "    return root\n",
    "        \n",
    "def findDuplicateSubtrees(root):\n",
    "        output = []\n",
    "        dictionary = {}\n",
    "        findHelper(root, output, dictionary)\n",
    "        \n",
    "        return output\n",
    "        \n",
    "def findHelper(root, output, dictionary):\n",
    "    if root is None:\n",
    "        return '#'\n",
    "\n",
    "    combination = \"{},{},{}\".format( root.val, \\\n",
    "                    findHelper(root.left, output, dictionary), \\\n",
    "                    findHelper(root.right, output, dictionary))\n",
    "\n",
    "    dictionary[combination] = dictionary.get(combination, 0) + 1\n",
    "\n",
    "    if dictionary[combination] == 2:\n",
    "        output.append(root)\n",
    "\n",
    "    return combination\n",
    "\n",
    "def printTreeNodes(root):\n",
    "    if root is None:\n",
    "        return\n",
    "    \n",
    "    print(root.val, end= ',')\n",
    "    printTreeNodes(root.left)\n",
    "    printTreeNodes(root.right)"
   ]
  },
  {
   "cell_type": "code",
   "execution_count": null,
   "metadata": {},
   "outputs": [],
   "source": [
    "nums = [1,2,3,4,None, 2, 4, None, None, None, None, 4]\n",
    "root = buildTree(nums, 0, None)\n",
    "foundSubTrees = findDuplicateSubtrees(root)\n",
    "\n",
    "for foundSubTree in foundSubTrees:\n",
    "    printTreeNodes(foundSubTree)\n",
    "    print('')"
   ]
  }
 ],
 "metadata": {
  "kernelspec": {
   "display_name": "Python 3",
   "language": "python",
   "name": "python3"
  },
  "language_info": {
   "codemirror_mode": {
    "name": "ipython",
    "version": 3
   },
   "file_extension": ".py",
   "mimetype": "text/x-python",
   "name": "python",
   "nbconvert_exporter": "python",
   "pygments_lexer": "ipython3",
   "version": "3.7.1"
  }
 },
 "nbformat": 4,
 "nbformat_minor": 2
}
