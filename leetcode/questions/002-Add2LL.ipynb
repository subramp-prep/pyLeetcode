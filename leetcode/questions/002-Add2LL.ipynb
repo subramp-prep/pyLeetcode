{
 "cells": [
  {
   "cell_type": "markdown",
   "metadata": {},
   "source": [
    "## 2 Add two Linked list\n",
    "\n",
    "You are given two non-empty linked lists representing two non-negative integers. The digits are stored in reverse order and each of their nodes contain a single digit. Add the two numbers and return it as a linked list.\n",
    "\n",
    "You may assume the two numbers do not contain any leading zero, except the number 0 itself.\n",
    "\n",
    "Example:\n",
    "```\n",
    "Input: (2 -> 4 -> 3) + (5 -> 6 -> 4)\n",
    "Output: 7 -> 0 -> 8\n",
    "Explanation: 342 + 465 = 807.\n",
    "```"
   ]
  },
  {
   "cell_type": "code",
   "execution_count": 2,
   "metadata": {},
   "outputs": [],
   "source": [
    "class LLNode:\n",
    "    def __init__(self, val, next=None):\n",
    "        self.val = val\n",
    "        self.next = next\n",
    "\n",
    "def recurseLL(ll1, ll2):\n",
    "\n",
    "    def helper(l1, l2, carry, result):\n",
    "\n",
    "        if not l1 and not l2 and carry == 0:\n",
    "            return\n",
    "\n",
    "        total = (l1.val if ll1 else 0) + (l2.val if l2 else 0) + carry\n",
    "        result.next = LLNode(total%10)\n",
    "\n",
    "        if l1 and l2:\n",
    "            helper(l1.next, l2.next, total//10, result.next)\n",
    "        \n",
    "        elif l1 is None and l2:\n",
    "            helper(None, l2.next, total//10, result.next)\n",
    "\n",
    "        elif l1 and l2 is None:\n",
    "            helper(l1.next, None, total//10, result.next)\n",
    "\n",
    "    temp = head = LLNode(0)\n",
    "    helper(ll1, ll2, 0, temp)\n",
    "\n",
    "    return head.next\n",
    "\n",
    "def parseLL(head):\n",
    "    \n",
    "    while head:\n",
    "        print(head.val, end='->')\n",
    "        head = head.next"
   ]
  },
  {
   "cell_type": "code",
   "execution_count": 3,
   "metadata": {},
   "outputs": [
    {
     "name": "stdout",
     "output_type": "stream",
     "text": [
      "7->0->8->"
     ]
    }
   ],
   "source": [
    "ll1 = LLNode(2, LLNode(4, LLNode(3)))\n",
    "ll2 = LLNode(5, LLNode(6, LLNode(4)))\n",
    "resultLL = recurseLL(ll1, ll2)\n",
    "parseLL(resultLL)"
   ]
  }
 ],
 "metadata": {
  "kernelspec": {
   "display_name": "Python 3",
   "language": "python",
   "name": "python3"
  },
  "language_info": {
   "codemirror_mode": {
    "name": "ipython",
    "version": 3
   },
   "file_extension": ".py",
   "mimetype": "text/x-python",
   "name": "python",
   "nbconvert_exporter": "python",
   "pygments_lexer": "ipython3",
   "version": "3.7.4"
  }
 },
 "nbformat": 4,
 "nbformat_minor": 2
}
