{
 "cells": [
  {
   "cell_type": "markdown",
   "metadata": {},
   "source": [
    "## 243 Shortest Word Distance\n",
    "\n",
    "Given a list of words and two words word1 and word2, return the shortest distance between these two words in the list.\n",
    "\n",
    "Example:\n",
    "Assume that words = [\"practice\", \"makes\", \"perfect\", \"coding\", \"makes\"].\n",
    "\n",
    "```\n",
    "Input: word1 = “coding”, word2 = “practice”\n",
    "Output: 3\n",
    "```\n",
    "\n",
    "```\n",
    "Input: word1 = \"makes\", word2 = \"coding\"\n",
    "Output: 1\n",
    "```\n",
    "\n",
    "Note:\n",
    "You may assume that word1 does not equal to word2, and word1 and word2 are both in the list."
   ]
  },
  {
   "cell_type": "code",
   "execution_count": 3,
   "metadata": {},
   "outputs": [],
   "source": [
    "def wordDistance(words, w1, w2):\n",
    "    i1 = float('-inf')\n",
    "    i2 = float('-inf')\n",
    "    minDistance = len(words)\n",
    "\n",
    "    for i, v in enumerate(words):\n",
    "        if v == w1:\n",
    "            i1 = i\n",
    "        elif v == w2:\n",
    "            i2 = i\n",
    "            \n",
    "        if i1 != -1 and i2 != -1:\n",
    "            minDistance = min(minDistance, abs(i1-i2))\n",
    "\n",
    "    return minDistance"
   ]
  },
  {
   "cell_type": "code",
   "execution_count": 4,
   "metadata": {},
   "outputs": [
    {
     "name": "stdout",
     "output_type": "stream",
     "text": [
      "3\n",
      "1\n"
     ]
    }
   ],
   "source": [
    "print(wordDistance([\"practice\", \"makes\", \"perfect\", \n",
    "                    \"coding\", \"makes\"], 'coding', 'practice'))\n",
    "print(wordDistance([\"practice\", \"makes\", \"perfect\",\n",
    "                    \"coding\", \"makes\"], 'coding', 'makes'))"
   ]
  },
  {
   "cell_type": "code",
   "execution_count": null,
   "metadata": {},
   "outputs": [],
   "source": []
  }
 ],
 "metadata": {
  "kernelspec": {
   "display_name": "Python 3",
   "language": "python",
   "name": "python3"
  },
  "language_info": {
   "codemirror_mode": {
    "name": "ipython",
    "version": 3
   },
   "file_extension": ".py",
   "mimetype": "text/x-python",
   "name": "python",
   "nbconvert_exporter": "python",
   "pygments_lexer": "ipython3",
   "version": "3.7.1"
  }
 },
 "nbformat": 4,
 "nbformat_minor": 2
}
