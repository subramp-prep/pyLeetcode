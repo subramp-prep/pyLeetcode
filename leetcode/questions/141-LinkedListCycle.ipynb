{
 "cells": [
  {
   "cell_type": "markdown",
   "metadata": {},
   "source": [
    "Given a linked list, determine if it has a cycle in it.\n",
    "\n",
    "To represent a cycle in the given linked list, we use an integer pos which represents the position (0-indexed) in the linked list where tail connects to. If pos is -1, then there is no cycle in the linked list.\n",
    "\n",
    " \n",
    "\n",
    "Example 1:\n",
    "```\n",
    "Input: head = [3,2,0,-4], pos = 1\n",
    "Output: true\n",
    "```\n",
    "Explanation: There is a cycle in the linked list, where tail connects to the second node.\n",
    "\n",
    "\n",
    "Example 2:\n",
    "```\n",
    "Input: head = [1,2], pos = 0\n",
    "Output: true\n",
    "```\n",
    "Explanation: There is a cycle in the linked list, where tail connects to the first node.\n",
    "\n",
    "\n",
    "Example 3:\n",
    "```\n",
    "Input: head = [1], pos = -1\n",
    "Output: false\n",
    "```\n",
    "Explanation: There is no cycle in the linked list.\n",
    "\n",
    "Follow up:\n",
    "\n",
    "Can you solve it using O(1) (i.e. constant) memory?"
   ]
  },
  {
   "cell_type": "markdown",
   "metadata": {},
   "source": [
    "## My solution"
   ]
  },
  {
   "cell_type": "code",
   "execution_count": 1,
   "metadata": {},
   "outputs": [],
   "source": [
    "class LLNode:\n",
    "    def __init__(self, val, next=None):\n",
    "        self.val = val\n",
    "        self.next = next\n",
    "\n",
    "def isLLCycle(head):\n",
    "    x = head\n",
    "    y = head.next if head and head.next else None\n",
    "\n",
    "    while x and y:\n",
    "        x = x.next\n",
    "        y = y.next.next if y.next and y.next.next else None\n",
    "\n",
    "        if x and y and x.val == y.val:\n",
    "            return True\n",
    "\n",
    "    return False"
   ]
  },
  {
   "cell_type": "code",
   "execution_count": 5,
   "metadata": {},
   "outputs": [
    {
     "name": "stdout",
     "output_type": "stream",
     "text": [
      "False\n"
     ]
    }
   ],
   "source": [
    "l5 = LLNode(5)\n",
    "l4 = LLNode(4, l5)\n",
    "l3 = LLNode(3, l4)\n",
    "l2 = LLNode(2, l3)\n",
    "l1 = LLNode(1, l2)\n",
    "l5.next = l3\n",
    "\n",
    "print(isLLCycle_optimal(l1))"
   ]
  },
  {
   "cell_type": "markdown",
   "metadata": {},
   "source": [
    "## Optimal Solution"
   ]
  },
  {
   "cell_type": "code",
   "execution_count": 3,
   "metadata": {},
   "outputs": [],
   "source": [
    "def isLLCycle_optimal(head):\n",
    "    try:\n",
    "        x = head\n",
    "        y = head.next\n",
    "        \n",
    "        while x.val is not y.val:\n",
    "            x = x.next\n",
    "            y = y.next.next\n",
    "        \n",
    "        return True\n",
    "    except:\n",
    "        return False"
   ]
  },
  {
   "cell_type": "code",
   "execution_count": null,
   "metadata": {},
   "outputs": [],
   "source": []
  }
 ],
 "metadata": {
  "kernelspec": {
   "display_name": "Python 3",
   "language": "python",
   "name": "python3"
  },
  "language_info": {
   "codemirror_mode": {
    "name": "ipython",
    "version": 3
   },
   "file_extension": ".py",
   "mimetype": "text/x-python",
   "name": "python",
   "nbconvert_exporter": "python",
   "pygments_lexer": "ipython3",
   "version": "3.7.1"
  }
 },
 "nbformat": 4,
 "nbformat_minor": 2
}
