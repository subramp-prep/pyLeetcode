{
 "cells": [
  {
   "cell_type": "markdown",
   "metadata": {},
   "source": [
    "## 103 Binary Tree Zigzag Level Order Traversal\n",
    "\n",
    "Given a binary tree, return the zigzag level order traversal of its nodes' values. (ie, from left to right, then right to left for the next level and alternate between).\n",
    "\n",
    "For example:\n",
    "Given binary tree [3,9,20,null,null,15,7],\n",
    "\n",
    "```\n",
    "    3\n",
    "   / \\\n",
    "  9  20\n",
    "    /  \\\n",
    "   15   7\n",
    "return its zigzag level order traversal as:\n",
    "[\n",
    "  [3],\n",
    "  [20,9],\n",
    "  [15,7]\n",
    "]\n",
    "```"
   ]
  },
  {
   "cell_type": "code",
   "execution_count": 1,
   "metadata": {},
   "outputs": [],
   "source": [
    "class TreeNode:\n",
    "    def __init__(self, value, left=None, right=None):\n",
    "        self.val = value\n",
    "        self.left = left\n",
    "        self.right = right\n",
    "\n",
    "def buildTree(nums, index, root):\n",
    "    if index < len(nums):\n",
    "        if nums[index]:\n",
    "            root = TreeNode(nums[index])\n",
    "            root.left = buildTree(nums, 2*index+1, root.left)\n",
    "            root.right = buildTree(nums, 2*index+2, root.right)\n",
    "\n",
    "    return root\n",
    "\n",
    "def zigzagLevelOrder(root):\n",
    "\n",
    "    output = []\n",
    "\n",
    "    def helper(head, level):\n",
    "        if not head:\n",
    "            return\n",
    "\n",
    "        if level+1 > len(output):\n",
    "            output.append([])\n",
    "\n",
    "        if level % 2 == 1:\n",
    "            output[level].insert(0, head.val)\n",
    "        else:\n",
    "            output[level].append(head.val)\n",
    "\n",
    "        helper(head.left, level+1)\n",
    "        helper(head.right, level+1)\n",
    "\n",
    "    helper(root, 0)\n",
    "    return output"
   ]
  },
  {
   "cell_type": "code",
   "execution_count": 2,
   "metadata": {},
   "outputs": [
    {
     "name": "stdout",
     "output_type": "stream",
     "text": [
      "[[3], [20, 9], [15, 7]]\n"
     ]
    }
   ],
   "source": [
    "root = buildTree([3, 9, 20, None, None, 15, 7], 0, None)\n",
    "print(zigzagLevelOrder(root))"
   ]
  }
 ],
 "metadata": {
  "kernelspec": {
   "display_name": "Python 3",
   "language": "python",
   "name": "python3"
  },
  "language_info": {
   "codemirror_mode": {
    "name": "ipython",
    "version": 3
   },
   "file_extension": ".py",
   "mimetype": "text/x-python",
   "name": "python",
   "nbconvert_exporter": "python",
   "pygments_lexer": "ipython3",
   "version": "3.7.1"
  }
 },
 "nbformat": 4,
 "nbformat_minor": 2
}
