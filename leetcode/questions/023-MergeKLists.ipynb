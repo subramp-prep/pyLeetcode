{
 "cells": [
  {
   "cell_type": "markdown",
   "metadata": {},
   "source": [
    "Merge k sorted linked lists and return it as one sorted list. Analyze and describe its complexity.\n",
    "\n",
    "Example:\n",
    "\n",
    "Input:\n",
    "```\n",
    "[\n",
    "  1->4->5,\n",
    "  1->3->4,\n",
    "  2->6\n",
    "]\n",
    "```\n",
    "Output: 1->1->2->3->4->4->5->6"
   ]
  },
  {
   "cell_type": "code",
   "execution_count": 7,
   "metadata": {},
   "outputs": [],
   "source": [
    "import heapq\n",
    "\n",
    "def mergeKLists( lists):\n",
    "    \"\"\"\n",
    "    :type lists: List[ListNode]\n",
    "    :rtype: ListNode\n",
    "    \"\"\"\n",
    "    heap = [(v[0], i, 0) for i, v in enumerate(lists) if v]\n",
    "    heapq.heapify(heap)\n",
    "    mergedList = []\n",
    "\n",
    "    while heap:\n",
    "        val, list_index, val_index = heapq.heappop(heap)\n",
    "        mergedList.append(val)\n",
    "\n",
    "        if val_index + 1 < len(lists[list_index]):\n",
    "            next_tuple = lists[list_index][val_index+1], list_index, val_index+1\n",
    "            heapq.heappush(heap, next_tuple)\n",
    "\n",
    "    return mergedList"
   ]
  },
  {
   "cell_type": "code",
   "execution_count": 8,
   "metadata": {},
   "outputs": [
    {
     "name": "stdout",
     "output_type": "stream",
     "text": [
      "[1, 1, 2, 3, 4, 4, 5, 6]\n"
     ]
    }
   ],
   "source": [
    "nums = [\n",
    "    [1,4,5],\n",
    "    [1,3,4],\n",
    "    [2,6]\n",
    "]\n",
    "\n",
    "print(mergeKLists(nums))"
   ]
  },
  {
   "cell_type": "code",
   "execution_count": 9,
   "metadata": {},
   "outputs": [
    {
     "name": "stdout",
     "output_type": "stream",
     "text": [
      "[10, 12, 15, 15, 17, 20, 20, 30, 32]\n"
     ]
    }
   ],
   "source": [
    "nums_1 = [\n",
    "    [12, 15, 20],\n",
    "    [10, 15, 30],\n",
    "    [17, 20, 32]\n",
    "]\n",
    "\n",
    "print(mergeKLists(nums_1))"
   ]
  },
  {
   "cell_type": "code",
   "execution_count": null,
   "metadata": {},
   "outputs": [],
   "source": []
  }
 ],
 "metadata": {
  "kernelspec": {
   "display_name": "Python 3",
   "language": "python",
   "name": "python3"
  },
  "language_info": {
   "codemirror_mode": {
    "name": "ipython",
    "version": 3
   },
   "file_extension": ".py",
   "mimetype": "text/x-python",
   "name": "python",
   "nbconvert_exporter": "python",
   "pygments_lexer": "ipython3",
   "version": "3.7.1"
  }
 },
 "nbformat": 4,
 "nbformat_minor": 2
}
