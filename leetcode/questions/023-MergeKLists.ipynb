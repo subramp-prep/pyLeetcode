{
 "cells": [
  {
   "cell_type": "markdown",
   "metadata": {},
   "source": [
    "Merge k sorted linked lists and return it as one sorted list. Analyze and describe its complexity.\n",
    "\n",
    "Example:\n",
    "\n",
    "Input:\n",
    "```\n",
    "[\n",
    "  1->4->5,\n",
    "  1->3->4,\n",
    "  2->6\n",
    "]\n",
    "```\n",
    "Output: 1->1->2->3->4->4->5->6"
   ]
  },
  {
   "cell_type": "code",
   "execution_count": 4,
   "metadata": {},
   "outputs": [],
   "source": [
    "import heapq\n",
    "\n",
    "class ListNode:\n",
    "    def __init__(self, val, next = None):\n",
    "        self.val = val\n",
    "        self.next = next\n",
    "        \n",
    "def printList(root):\n",
    "    while root:\n",
    "        print(root.val, end=',')\n",
    "        root = root.next\n",
    "        \n",
    "\n",
    "def mergeKLists( lists):\n",
    "    \"\"\"\n",
    "    :type lists: List[ListNode]\n",
    "    :rtype: ListNode\n",
    "    \"\"\"\n",
    "    heap = []\n",
    "    result = head = ListNode(0)\n",
    "\n",
    "    heap = [(l.val, i, 0) for i, l in enumerate(lists) if l]\n",
    "    heapq.heapify(heap)\n",
    "\n",
    "    while heap:\n",
    "        val, list_index, val_index = heapq.heappop(heap)\n",
    "\n",
    "        # very important to set the next node from the list\n",
    "        lists[list_index] = lists[list_index].next\n",
    "\n",
    "        head.next = ListNode(val)\n",
    "        head = head.next\n",
    "\n",
    "        if lists[list_index]:\n",
    "            next_tuple = (lists[list_index].val, list_index, val_index+1)\n",
    "            heapq.heappush(heap, next_tuple)\n",
    "\n",
    "    return result.next"
   ]
  },
  {
   "cell_type": "code",
   "execution_count": 6,
   "metadata": {},
   "outputs": [
    {
     "name": "stdout",
     "output_type": "stream",
     "text": [
      "1,1,2,3,4,4,5,6,"
     ]
    }
   ],
   "source": [
    "nums = [\n",
    "    ListNode(1, ListNode(4, ListNode(5))),\n",
    "    ListNode(1, ListNode(3, ListNode(4))),\n",
    "    ListNode(2, ListNode(6))\n",
    "]\n",
    "\n",
    "printList(mergeKLists(nums))"
   ]
  },
  {
   "cell_type": "code",
   "execution_count": 10,
   "metadata": {},
   "outputs": [
    {
     "name": "stdout",
     "output_type": "stream",
     "text": [
      "10,12,15,15,17,20,20,30,32,"
     ]
    }
   ],
   "source": [
    "nums_1 = [\n",
    "    ListNode(12, ListNode(15, ListNode(20))),\n",
    "    ListNode(10, ListNode(15, ListNode(30))),\n",
    "    ListNode(17, ListNode(20, ListNode(32)))\n",
    "]\n",
    "\n",
    "printList(mergeKLists(nums_1))"
   ]
  },
  {
   "cell_type": "code",
   "execution_count": null,
   "metadata": {},
   "outputs": [],
   "source": []
  }
 ],
 "metadata": {
  "kernelspec": {
   "display_name": "Python 3",
   "language": "python",
   "name": "python3"
  },
  "language_info": {
   "codemirror_mode": {
    "name": "ipython",
    "version": 3
   },
   "file_extension": ".py",
   "mimetype": "text/x-python",
   "name": "python",
   "nbconvert_exporter": "python",
   "pygments_lexer": "ipython3",
   "version": "3.7.1"
  }
 },
 "nbformat": 4,
 "nbformat_minor": 2
}
