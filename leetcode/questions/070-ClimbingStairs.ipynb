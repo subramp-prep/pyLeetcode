{
 "cells": [
  {
   "cell_type": "markdown",
   "metadata": {},
   "source": [
    "## 070 - Climbing Stairs\n",
    "\n",
    "You are climbing a stair case. It takes n steps to reach to the top.\n",
    "\n",
    "Each time you can either climb 1 or 2 steps. In how many distinct ways can you climb to the top?\n",
    "\n",
    "Note: Given n will be a positive integer.\n",
    "\n",
    "Example 1:\n",
    "\n",
    "```\n",
    "Input: 2\n",
    "Output: 2\n",
    "Explanation: There are two ways to climb to the top.\n",
    "1. 1 step + 1 step\n",
    "2. 2 steps\n",
    "```\n",
    "Example 2:\n",
    "```\n",
    "Input: 3\n",
    "Output: 3\n",
    "Explanation: There are three ways to climb to the top.\n",
    "1. 1 step + 1 step + 1 step\n",
    "2. 1 step + 2 steps\n",
    "3. 2 steps + 1 step\n",
    "```"
   ]
  },
  {
   "cell_type": "markdown",
   "metadata": {},
   "source": [
    "## Brute Force"
   ]
  },
  {
   "cell_type": "code",
   "execution_count": 11,
   "metadata": {},
   "outputs": [],
   "source": [
    "def climbSteps(n):\n",
    "    def climb(i, n):\n",
    "        if i > n:\n",
    "            return 0\n",
    "        \n",
    "        if i == n:\n",
    "            return 1\n",
    "        \n",
    "        return climb(i+1, n) + climb(i+2, n)\n",
    "    return climb(0, n)"
   ]
  },
  {
   "cell_type": "code",
   "execution_count": 5,
   "metadata": {},
   "outputs": [
    {
     "name": "stdout",
     "output_type": "stream",
     "text": [
      "2\n"
     ]
    }
   ],
   "source": [
    "print(climbSteps(2))"
   ]
  },
  {
   "cell_type": "code",
   "execution_count": 6,
   "metadata": {},
   "outputs": [
    {
     "name": "stdout",
     "output_type": "stream",
     "text": [
      "3\n"
     ]
    }
   ],
   "source": [
    "print(climbSteps(3))"
   ]
  },
  {
   "cell_type": "markdown",
   "metadata": {},
   "source": [
    "## Recursion"
   ]
  },
  {
   "cell_type": "code",
   "execution_count": 4,
   "metadata": {},
   "outputs": [],
   "source": [
    "def climbSteps_Recursion(nStairs, mSteps):\n",
    "    if nStairs < 0:\n",
    "        return 0\n",
    "    \n",
    "    if nStairs == 0:\n",
    "        return 1\n",
    "    \n",
    "    count = 0\n",
    "    \n",
    "    # very important to Add 1 to mSteps\n",
    "    # to reach condition of equal steps\n",
    "    for n in range(1, mSteps+1):\n",
    "        count += climbSteps_Recursion(nStairs-n, mSteps)\n",
    "        \n",
    "    return count"
   ]
  },
  {
   "cell_type": "code",
   "execution_count": 2,
   "metadata": {},
   "outputs": [
    {
     "name": "stdout",
     "output_type": "stream",
     "text": [
      "3\n"
     ]
    }
   ],
   "source": [
    "print(climbSteps_Recursion(3, 2))"
   ]
  },
  {
   "cell_type": "code",
   "execution_count": 3,
   "metadata": {},
   "outputs": [
    {
     "name": "stdout",
     "output_type": "stream",
     "text": [
      "7\n"
     ]
    }
   ],
   "source": [
    "print(climbSteps_Recursion(4,3))"
   ]
  },
  {
   "cell_type": "markdown",
   "metadata": {},
   "source": [
    "## Dynamic Programming"
   ]
  },
  {
   "cell_type": "code",
   "execution_count": 2,
   "metadata": {},
   "outputs": [],
   "source": [
    "def climbSteps_DP(n):\n",
    "    def climb(i, n, combo):\n",
    "        if i > n:\n",
    "            return 0\n",
    "\n",
    "        if i == n:\n",
    "            return 1\n",
    "\n",
    "        combo.append(0)\n",
    "\n",
    "        if combo[i] > 0:\n",
    "            return combo[i]\n",
    "\n",
    "        combo[i] = climb(i+1, n, combo) + climb(i+2, n, combo)\n",
    "\n",
    "        return combo[i]\n",
    "    return climb(0, n, [])"
   ]
  },
  {
   "cell_type": "code",
   "execution_count": 3,
   "metadata": {},
   "outputs": [
    {
     "name": "stdout",
     "output_type": "stream",
     "text": [
      "2\n"
     ]
    }
   ],
   "source": [
    "print(climbSteps_DP(2))"
   ]
  },
  {
   "cell_type": "code",
   "execution_count": 4,
   "metadata": {},
   "outputs": [
    {
     "name": "stdout",
     "output_type": "stream",
     "text": [
      "3\n"
     ]
    }
   ],
   "source": [
    "print(climbSteps_DP(3))"
   ]
  },
  {
   "cell_type": "code",
   "execution_count": 5,
   "metadata": {},
   "outputs": [
    {
     "name": "stdout",
     "output_type": "stream",
     "text": [
      "5\n"
     ]
    }
   ],
   "source": [
    "print(climbSteps_DP(4))"
   ]
  },
  {
   "cell_type": "markdown",
   "metadata": {},
   "source": [
    " ## Dynamic Programming Top Down"
   ]
  },
  {
   "cell_type": "code",
   "execution_count": 8,
   "metadata": {},
   "outputs": [],
   "source": [
    "def climbStairs_TopDown(nStairs, mSteps, memoize):\n",
    "    if nStairs < 0:\n",
    "        return 0\n",
    "    \n",
    "    if nStairs == 0:\n",
    "        return 1\n",
    "    \n",
    "    if memoize[nStairs] == 0:\n",
    "        \n",
    "        for n in range(1, mSteps+1):\n",
    "            memoize[nStairs] += climbStairs_TopDown(nStairs-n, mSteps, memoize)\n",
    "            \n",
    "    return memoize[nStairs]"
   ]
  },
  {
   "cell_type": "code",
   "execution_count": 10,
   "metadata": {},
   "outputs": [
    {
     "data": {
      "text/plain": [
       "3"
      ]
     },
     "execution_count": 10,
     "metadata": {},
     "output_type": "execute_result"
    }
   ],
   "source": [
    "climbStairs_TopDown(3, 2, 4 *[0])"
   ]
  },
  {
   "cell_type": "markdown",
   "metadata": {},
   "source": [
    "## Dynamic Programming Bottom Up"
   ]
  },
  {
   "cell_type": "markdown",
   "metadata": {},
   "source": [
    "Pending implementation\n",
    "\n",
    "```\n",
    "def climbStairs_bottomUp(nSteps, mStairs):\n",
    "    \n",
    "    memo = (nSteps+1) * 0\n",
    "    memo[0] = 1\n",
    "    memo[1] = 1\n",
    "    memo[2] = 2\n",
    "    \n",
    "    for n in range(3, mStairs+1):\n",
    "        memo[n] = 0\n",
    "        \n",
    "        for i in range(1, mStair+1):\n",
    "```"
   ]
  },
  {
   "cell_type": "code",
   "execution_count": null,
   "metadata": {},
   "outputs": [],
   "source": []
  }
 ],
 "metadata": {
  "kernelspec": {
   "display_name": "Python 3",
   "language": "python",
   "name": "python3"
  },
  "language_info": {
   "codemirror_mode": {
    "name": "ipython",
    "version": 3
   },
   "file_extension": ".py",
   "mimetype": "text/x-python",
   "name": "python",
   "nbconvert_exporter": "python",
   "pygments_lexer": "ipython3",
   "version": "3.7.6"
  }
 },
 "nbformat": 4,
 "nbformat_minor": 2
}
