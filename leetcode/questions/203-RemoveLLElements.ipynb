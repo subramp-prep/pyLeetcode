{
 "cells": [
  {
   "cell_type": "markdown",
   "metadata": {},
   "source": [
    "## 203 Remove linked list elements\n",
    "\n",
    "Remove all elements from a linked list of integers that have value val.\n",
    "\n",
    "Example:\n",
    "```\n",
    "Input:  1->2->6->3->4->5->6, val = 6\n",
    "Output: 1->2->3->4->5\n",
    "```"
   ]
  },
  {
   "cell_type": "code",
   "execution_count": 2,
   "metadata": {},
   "outputs": [],
   "source": [
    "class ListNode:\n",
    "    def __init__(self, val, next=None):\n",
    "        self.val = val\n",
    "        self.next = next\n",
    "        \n",
    "def removeElements(head, val):\n",
    "    temp = result = ListNode(-1)\n",
    "\n",
    "    try:\n",
    "        while head:\n",
    "\n",
    "            while head and head.val == val:\n",
    "                head = head.next\n",
    "\n",
    "            temp.next = head\n",
    "            temp = temp.next\n",
    "            head = head.next\n",
    "    except:\n",
    "        print('reached end')\n",
    "\n",
    "    return result.next\n",
    "\n",
    "def printNode(head):\n",
    "    while head:\n",
    "        print(head.val, end=' ')\n",
    "        head = head.next"
   ]
  },
  {
   "cell_type": "code",
   "execution_count": 4,
   "metadata": {},
   "outputs": [
    {
     "name": "stdout",
     "output_type": "stream",
     "text": [
      "1 2 4 5 "
     ]
    }
   ],
   "source": [
    "llNode = ListNode(3, ListNode(1, ListNode(2, ListNode(3, ListNode(4, ListNode(5))))))\n",
    "printNode(removeElements(llNode, 3))"
   ]
  },
  {
   "cell_type": "code",
   "execution_count": null,
   "metadata": {},
   "outputs": [],
   "source": []
  }
 ],
 "metadata": {
  "kernelspec": {
   "display_name": "Python 3",
   "language": "python",
   "name": "python3"
  },
  "language_info": {
   "codemirror_mode": {
    "name": "ipython",
    "version": 3
   },
   "file_extension": ".py",
   "mimetype": "text/x-python",
   "name": "python",
   "nbconvert_exporter": "python",
   "pygments_lexer": "ipython3",
   "version": "3.7.1"
  }
 },
 "nbformat": 4,
 "nbformat_minor": 2
}
