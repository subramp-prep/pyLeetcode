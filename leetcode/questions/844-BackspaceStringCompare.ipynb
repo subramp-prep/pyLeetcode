{
 "cells": [
  {
   "cell_type": "markdown",
   "metadata": {},
   "source": [
    "## 844. Backspace String Compare\n",
    "\n",
    "Given two strings S and T, return if they are equal when both are typed into empty text editors. # means a backspace character.\n",
    "\n",
    "Note that after backspacing an empty text, the text will continue empty.\n",
    "\n",
    "Example 1:\n",
    "```\n",
    "Input: S = \"ab#c\", T = \"ad#c\"\n",
    "Output: true\n",
    "```\n",
    "Explanation: Both S and T become \"ac\".\n",
    "Example 2:\n",
    "```\n",
    "Input: S = \"ab##\", T = \"c#d#\"\n",
    "Output: true\n",
    "```\n",
    "Explanation: Both S and T become \"\".\n",
    "Example 3:\n",
    "```\n",
    "Input: S = \"a##c\", T = \"#a#c\"\n",
    "Output: true\n",
    "```\n",
    "Explanation: Both S and T become \"c\".\n",
    "Example 4:\n",
    "```\n",
    "Input: S = \"a#c\", T = \"b\"\n",
    "Output: false\n",
    "```\n",
    "Explanation: S becomes \"c\" while T becomes \"b\".\n",
    "Note:\n",
    "```\n",
    "1 <= S.length <= 200\n",
    "1 <= T.length <= 200\n",
    "S and T only contain lowercase letters and '#' characters.\n",
    "```\n",
    "Follow up:\n",
    "\n",
    "Can you solve it in O(N) time and O(1) space?"
   ]
  },
  {
   "cell_type": "code",
   "execution_count": 1,
   "metadata": {},
   "outputs": [],
   "source": [
    "def backspaceCompare(S, T):\n",
    "    sStack = []\n",
    "    tStack = []\n",
    "\n",
    "    for c in S:\n",
    "        if c == '#':\n",
    "            if sStack:\n",
    "                sStack.pop()\n",
    "        else:\n",
    "            sStack.append(c)\n",
    "\n",
    "    for c in T:\n",
    "        if c == '#': \n",
    "            if tStack:\n",
    "                tStack.pop()\n",
    "        else:\n",
    "            tStack.append(c)\n",
    "\n",
    "    return sStack == tStack"
   ]
  },
  {
   "cell_type": "code",
   "execution_count": 2,
   "metadata": {},
   "outputs": [
    {
     "name": "stdout",
     "output_type": "stream",
     "text": [
      "True\n"
     ]
    }
   ],
   "source": [
    "print(backspaceCompare(\"ab#c\",\"ad#c\"))"
   ]
  },
  {
   "cell_type": "code",
   "execution_count": 5,
   "metadata": {},
   "outputs": [
    {
     "name": "stdout",
     "output_type": "stream",
     "text": [
      "True\n"
     ]
    }
   ],
   "source": [
    "print(backspaceCompare(\"ab##\", \"c#d#\"))"
   ]
  },
  {
   "cell_type": "code",
   "execution_count": 6,
   "metadata": {},
   "outputs": [
    {
     "name": "stdout",
     "output_type": "stream",
     "text": [
      "True\n"
     ]
    }
   ],
   "source": [
    "print(backspaceCompare(\"a##c\", \"#a#c\"))"
   ]
  },
  {
   "cell_type": "code",
   "execution_count": 7,
   "metadata": {},
   "outputs": [
    {
     "name": "stdout",
     "output_type": "stream",
     "text": [
      "False\n"
     ]
    }
   ],
   "source": [
    "print(backspaceCompare(\"a#c\", \"b\"))"
   ]
  },
  {
   "cell_type": "code",
   "execution_count": null,
   "metadata": {},
   "outputs": [],
   "source": []
  }
 ],
 "metadata": {
  "kernelspec": {
   "display_name": "Python 3",
   "language": "python",
   "name": "python3"
  },
  "language_info": {
   "codemirror_mode": {
    "name": "ipython",
    "version": 3
   },
   "file_extension": ".py",
   "mimetype": "text/x-python",
   "name": "python",
   "nbconvert_exporter": "python",
   "pygments_lexer": "ipython3",
   "version": "3.8.5"
  }
 },
 "nbformat": 4,
 "nbformat_minor": 4
}
