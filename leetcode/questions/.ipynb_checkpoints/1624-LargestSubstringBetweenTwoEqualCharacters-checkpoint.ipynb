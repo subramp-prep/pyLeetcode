{
 "cells": [
  {
   "cell_type": "markdown",
   "metadata": {},
   "source": [
    "## 1624. Largest Substring Between Two Equal Characters\n",
    "\n",
    "Given a string s, return the length of the longest substring between two equal characters, excluding the two characters. If there is no such substring return -1.\n",
    "\n",
    "A substring is a contiguous sequence of characters within a string.\n",
    "\n",
    " \n",
    "\n",
    "Example 1:\n",
    "```\n",
    "Input: s = \"aa\"\n",
    "Output: 0\n",
    "```\n",
    "Explanation: The optimal substring here is an empty substring between the two 'a's.\n",
    "Example 2:\n",
    "```\n",
    "Input: s = \"abca\"\n",
    "Output: 2\n",
    "```\n",
    "Explanation: The optimal substring here is \"bc\".\n",
    "Example 3:\n",
    "```\n",
    "Input: s = \"cbzxy\"\n",
    "Output: -1\n",
    "```\n",
    "Explanation: There are no characters that appear twice in s.\n",
    "Example 4:\n",
    "```\n",
    "Input: s = \"cabbac\"\n",
    "Output: 4\n",
    "```\n",
    "Explanation: The optimal substring here is \"abba\". Other non-optimal substrings include \"bb\" and \"\".\n",
    " \n",
    "\n",
    "Constraints:\n",
    "```\n",
    "1 <= s.length <= 300\n",
    "s contains only lowercase English letters.\n",
    "```"
   ]
  },
  {
   "cell_type": "code",
   "execution_count": 1,
   "metadata": {},
   "outputs": [],
   "source": [
    "def maxLengthBetweenEqualCharacters(s):\n",
    "    if len(s) == len(set(s)):\n",
    "        return -1\n",
    "\n",
    "    maxLength = 0\n",
    "    maps = {}\n",
    "    for i, v in enumerate(s):\n",
    "        index = i+1\n",
    "\n",
    "        if v not in maps:\n",
    "            maps[v] = i\n",
    "        else:\n",
    "            maxLength = max(maxLength, i-maps[v]-1)\n",
    "\n",
    "    return maxLength"
   ]
  },
  {
   "cell_type": "code",
   "execution_count": 2,
   "metadata": {},
   "outputs": [
    {
     "name": "stdout",
     "output_type": "stream",
     "text": [
      "4\n"
     ]
    }
   ],
   "source": [
    "print(maxLengthBetweenEqualCharacters(\"cabbac\"))"
   ]
  },
  {
   "cell_type": "code",
   "execution_count": 3,
   "metadata": {},
   "outputs": [
    {
     "name": "stdout",
     "output_type": "stream",
     "text": [
      "-1\n"
     ]
    }
   ],
   "source": [
    "print(maxLengthBetweenEqualCharacters(\"cbzxy\"))"
   ]
  },
  {
   "cell_type": "code",
   "execution_count": null,
   "metadata": {},
   "outputs": [],
   "source": []
  }
 ],
 "metadata": {
  "kernelspec": {
   "display_name": "Python 3",
   "language": "python",
   "name": "python3"
  },
  "language_info": {
   "codemirror_mode": {
    "name": "ipython",
    "version": 3
   },
   "file_extension": ".py",
   "mimetype": "text/x-python",
   "name": "python",
   "nbconvert_exporter": "python",
   "pygments_lexer": "ipython3",
   "version": "3.8.5"
  }
 },
 "nbformat": 4,
 "nbformat_minor": 4
}
