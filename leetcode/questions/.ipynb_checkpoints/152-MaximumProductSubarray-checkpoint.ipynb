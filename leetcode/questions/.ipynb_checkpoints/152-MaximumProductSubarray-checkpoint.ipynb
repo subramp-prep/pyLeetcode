{
 "cells": [
  {
   "cell_type": "markdown",
   "metadata": {},
   "source": [
    "## 152. Maximum Product Subarray\n",
    "\n",
    "Given an integer array nums, find the contiguous subarray within an array (containing at least one number) which has the largest product.\n",
    "\n",
    "Example 1:\n",
    "```\n",
    "Input: [2,3,-2,4]\n",
    "Output: 6\n",
    "```\n",
    "Explanation: [2,3] has the largest product 6.\n",
    "Example 2:\n",
    "```\n",
    "Input: [-2,0,-1]\n",
    "Output: 0\n",
    "```\n",
    "Explanation: The result cannot be 2, because [-2,-1] is not a subarray."
   ]
  },
  {
   "cell_type": "code",
   "execution_count": 1,
   "metadata": {},
   "outputs": [],
   "source": [
    "def maxProductArry(A):\n",
    "    \n",
    "    B = A[::-1]\n",
    "    \n",
    "    for i in range(1, len(A)):\n",
    "        A[i] *= A[i-1] or 1\n",
    "        B[i] *= B[i-1] or 1\n",
    "        \n",
    "    return max(A + B)"
   ]
  },
  {
   "cell_type": "code",
   "execution_count": 2,
   "metadata": {},
   "outputs": [
    {
     "name": "stdout",
     "output_type": "stream",
     "text": [
      "6\n"
     ]
    }
   ],
   "source": [
    "print(maxProductArry([2,3,-2,4]))"
   ]
  },
  {
   "cell_type": "code",
   "execution_count": 3,
   "metadata": {},
   "outputs": [
    {
     "name": "stdout",
     "output_type": "stream",
     "text": [
      "0\n"
     ]
    }
   ],
   "source": [
    "print(maxProductArry([-2,0,-1]))"
   ]
  }
 ],
 "metadata": {
  "kernelspec": {
   "display_name": "Python 3",
   "language": "python",
   "name": "python3"
  },
  "language_info": {
   "codemirror_mode": {
    "name": "ipython",
    "version": 3
   },
   "file_extension": ".py",
   "mimetype": "text/x-python",
   "name": "python",
   "nbconvert_exporter": "python",
   "pygments_lexer": "ipython3",
   "version": "3.8.5"
  }
 },
 "nbformat": 4,
 "nbformat_minor": 4
}
