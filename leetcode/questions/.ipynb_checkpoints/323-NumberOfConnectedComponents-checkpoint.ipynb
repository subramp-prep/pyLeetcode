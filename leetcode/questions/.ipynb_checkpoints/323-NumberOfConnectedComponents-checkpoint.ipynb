{
 "cells": [
  {
   "cell_type": "markdown",
   "metadata": {},
   "source": [
    "## 323. Number of Connected Components in an Undirected Graph\n",
    "\n",
    "Given n nodes labeled from 0 to n - 1 and a list of undirected edges (each edge is a pair of nodes), write a function to find the number of connected components in an undirected graph.\n",
    "\n",
    "Example 1:\n",
    "\n",
    "Input: n = 5 and edges = [[0, 1], [1, 2], [3, 4]]\n",
    "```\n",
    "     0          3\n",
    "     |          |\n",
    "     1 --- 2    4 \n",
    "```\n",
    "Output: 2\n",
    "Example 2:\n",
    "\n",
    "Input: n = 5 and edges = [[0, 1], [1, 2], [2, 3], [3, 4]]\n",
    "```\n",
    "     0           4\n",
    "     |           |\n",
    "     1 --- 2 --- 3\n",
    "```\n",
    "Output:  1\n",
    "Note:\n",
    "```\n",
    "You can assume that no duplicate edges will appear in edges. Since all edges are undirected, [0, 1] is the same as [1, 0] and thus will not appear together in edges.\n",
    "```"
   ]
  },
  {
   "cell_type": "code",
   "execution_count": 2,
   "metadata": {},
   "outputs": [],
   "source": [
    "import collections\n",
    "def countComponents(n,edges):\n",
    "    graph = collections.defaultdict(set)\n",
    "    visited = set()\n",
    "\n",
    "    def dfs(node):\n",
    "        if node in visited:\n",
    "            return\n",
    "\n",
    "        visited.add(node)\n",
    "\n",
    "        for n in graph[node]:\n",
    "            dfs(n)\n",
    "\n",
    "    for e in edges:\n",
    "        graph[e[0]].add(e[1])\n",
    "        graph[e[1]].add(e[0])\n",
    "\n",
    "    print(graph)\n",
    "\n",
    "    count = 0\n",
    "    for i in range(n):\n",
    "        if i not in visited:\n",
    "            dfs(i)\n",
    "            count += 1\n",
    "\n",
    "    return count"
   ]
  },
  {
   "cell_type": "code",
   "execution_count": 3,
   "metadata": {},
   "outputs": [
    {
     "name": "stdout",
     "output_type": "stream",
     "text": [
      "defaultdict(<class 'set'>, {0: {1}, 1: {0, 2}, 2: {1}, 3: {4}, 4: {3}})\n",
      "2\n"
     ]
    }
   ],
   "source": [
    "print(countComponents(5, [[0, 1], [1, 2], [3, 4]]))"
   ]
  },
  {
   "cell_type": "code",
   "execution_count": 4,
   "metadata": {},
   "outputs": [
    {
     "name": "stdout",
     "output_type": "stream",
     "text": [
      "defaultdict(<class 'set'>, {0: {1}, 1: {0, 2}, 2: {1, 3}, 3: {2, 4}, 4: {3}})\n",
      "1\n"
     ]
    }
   ],
   "source": [
    "print(countComponents(5, [[0, 1], [1, 2], [2, 3], [3, 4]]))"
   ]
  }
 ],
 "metadata": {
  "kernelspec": {
   "display_name": "Python 3",
   "language": "python",
   "name": "python3"
  },
  "language_info": {
   "codemirror_mode": {
    "name": "ipython",
    "version": 3
   },
   "file_extension": ".py",
   "mimetype": "text/x-python",
   "name": "python",
   "nbconvert_exporter": "python",
   "pygments_lexer": "ipython3",
   "version": "3.8.5"
  }
 },
 "nbformat": 4,
 "nbformat_minor": 4
}
