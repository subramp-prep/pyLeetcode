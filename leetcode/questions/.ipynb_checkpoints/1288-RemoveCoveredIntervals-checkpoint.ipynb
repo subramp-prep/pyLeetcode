{
 "cells": [
  {
   "cell_type": "markdown",
   "metadata": {},
   "source": [
    "## 1288. Remove Covered Intervals\n",
    "\n",
    "Given a list of intervals, remove all intervals that are covered by another interval in the list.\n",
    "\n",
    "Interval [a,b) is covered by interval [c,d) if and only if c <= a and b <= d.\n",
    "\n",
    "After doing so, return the number of remaining intervals.\n",
    "\n",
    " \n",
    "\n",
    "Example 1:\n",
    "```\n",
    "Input: intervals = [[1,4],[3,6],[2,8]]\n",
    "Output: 2\n",
    "```\n",
    "Explanation: Interval [3,6] is covered by [2,8], therefore it is removed.\n",
    "Example 2:\n",
    "```\n",
    "Input: intervals = [[1,4],[2,3]]\n",
    "Output: 1\n",
    "```\n",
    "Example 3:\n",
    "```\n",
    "Input: intervals = [[0,10],[5,12]]\n",
    "Output: 2\n",
    "```\n",
    "Example 4:\n",
    "```\n",
    "Input: intervals = [[3,10],[4,10],[5,11]]\n",
    "Output: 2\n",
    "```\n",
    "Example 5:\n",
    "```\n",
    "Input: intervals = [[1,2],[1,4],[3,4]]\n",
    "Output: 1\n",
    "```\n",
    "\n",
    "Constraints:\n",
    "```\n",
    "1 <= intervals.length <= 1000\n",
    "intervals[i].length == 2\n",
    "0 <= intervals[i][0] < intervals[i][1] <= 10^5\n",
    "All the intervals are unique.\n",
    "```"
   ]
  },
  {
   "cell_type": "code",
   "execution_count": 1,
   "metadata": {},
   "outputs": [],
   "source": [
    "def removeCoveredIntervals(intervals):\n",
    "    intervals = sorted(intervals, key=lambda x : (x[0], -x[1])) # sort intervals with longest similar end times being\n",
    "    count = 0\n",
    "    prevEnd = 0\n",
    "    for _, end in intervals:\n",
    "        if prevEnd < end:\n",
    "            count += 1\n",
    "            prevEnd = end\n",
    "            \n",
    "    return count"
   ]
  },
  {
   "cell_type": "code",
   "execution_count": 2,
   "metadata": {},
   "outputs": [
    {
     "name": "stdout",
     "output_type": "stream",
     "text": [
      "1\n"
     ]
    }
   ],
   "source": [
    "print(removeCoveredIntervals([[1,2],[1,4],[3,4]]))"
   ]
  },
  {
   "cell_type": "code",
   "execution_count": 3,
   "metadata": {},
   "outputs": [
    {
     "name": "stdout",
     "output_type": "stream",
     "text": [
      "2\n"
     ]
    }
   ],
   "source": [
    "print(removeCoveredIntervals([[3,10],[4,10],[5,11]]))"
   ]
  },
  {
   "cell_type": "code",
   "execution_count": 4,
   "metadata": {},
   "outputs": [
    {
     "name": "stdout",
     "output_type": "stream",
     "text": [
      "2\n"
     ]
    }
   ],
   "source": [
    "print(removeCoveredIntervals([[1,4],[3,6],[2,8]]))"
   ]
  }
 ],
 "metadata": {
  "kernelspec": {
   "display_name": "Python 3",
   "language": "python",
   "name": "python3"
  },
  "language_info": {
   "codemirror_mode": {
    "name": "ipython",
    "version": 3
   },
   "file_extension": ".py",
   "mimetype": "text/x-python",
   "name": "python",
   "nbconvert_exporter": "python",
   "pygments_lexer": "ipython3",
   "version": "3.8.5"
  }
 },
 "nbformat": 4,
 "nbformat_minor": 4
}
