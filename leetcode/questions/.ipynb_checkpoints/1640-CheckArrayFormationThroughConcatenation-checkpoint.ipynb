{
 "cells": [
  {
   "cell_type": "markdown",
   "metadata": {},
   "source": [
    "## 1640. Check Array Formation Through Concatenation\n",
    "\n",
    "You are given an array of distinct integers arr and an array of integer arrays pieces, where the integers in pieces are distinct. Your goal is to form arr by concatenating the arrays in pieces in any order. However, you are not allowed to reorder the integers in each array pieces[i].\n",
    "\n",
    "Return true if it is possible to form the array arr from pieces. Otherwise, return false.\n",
    "\n",
    " \n",
    "\n",
    "Example 1:\n",
    "```\n",
    "Input: arr = [85], pieces = [[85]]\n",
    "Output: true\n",
    "```\n",
    "Example 2:\n",
    "```\n",
    "Input: arr = [15,88], pieces = [[88],[15]]\n",
    "Output: true\n",
    "```\n",
    "Explanation: Concatenate [15] then [88]\n",
    "Example 3:\n",
    "```\n",
    "Input: arr = [49,18,16], pieces = [[16,18,49]]\n",
    "Output: false\n",
    "```\n",
    "Explanation: Even though the numbers match, we cannot reorder pieces[0].\n",
    "Example 4:\n",
    "```\n",
    "Input: arr = [91,4,64,78], pieces = [[78],[4,64],[91]]\n",
    "Output: true\n",
    "```\n",
    "Explanation: Concatenate [91] then [4,64] then [78]\n",
    "Example 5:\n",
    "```\n",
    "Input: arr = [1,3,5,7], pieces = [[2,4,6,8]]\n",
    "Output: false\n",
    "```\n",
    "\n",
    "Constraints:\n",
    "```\n",
    "1 <= pieces.length <= arr.length <= 100\n",
    "sum(pieces[i].length) == arr.length\n",
    "1 <= pieces[i].length <= arr.length\n",
    "1 <= arr[i], pieces[i][j] <= 100\n",
    "The integers in arr are distinct.\n",
    "The integers in pieces are distinct (i.e., If we flatten pieces in a 1D array, all the integers in this array are distinct).\n",
    "```"
   ]
  },
  {
   "cell_type": "code",
   "execution_count": 4,
   "metadata": {},
   "outputs": [],
   "source": [
    "def canFormArray(arr, pieces):\n",
    "    maps = {piece[0]: piece for piece in pieces}\n",
    "\n",
    "    index = 0\n",
    "    l = len(arr)\n",
    "\n",
    "    while index < l:\n",
    "        if arr[index] not in maps:\n",
    "            return False\n",
    "        else:\n",
    "            value = maps[arr[index]]\n",
    "            lv = 0\n",
    "\n",
    "            while lv < len(value):\n",
    "                if value[lv] == arr[index]:\n",
    "                    lv += 1\n",
    "                    index += 1\n",
    "                else:\n",
    "                    break\n",
    "\n",
    "    return True"
   ]
  },
  {
   "cell_type": "code",
   "execution_count": 5,
   "metadata": {},
   "outputs": [
    {
     "name": "stdout",
     "output_type": "stream",
     "text": [
      "True\n"
     ]
    }
   ],
   "source": [
    "print(canFormArray([85], [[85]]))"
   ]
  },
  {
   "cell_type": "code",
   "execution_count": 6,
   "metadata": {},
   "outputs": [
    {
     "name": "stdout",
     "output_type": "stream",
     "text": [
      "True\n"
     ]
    }
   ],
   "source": [
    "print(canFormArray([15,88], [[88],[15]]))"
   ]
  },
  {
   "cell_type": "code",
   "execution_count": 7,
   "metadata": {},
   "outputs": [
    {
     "name": "stdout",
     "output_type": "stream",
     "text": [
      "False\n"
     ]
    }
   ],
   "source": [
    "print(canFormArray([49,18,16], [[16,18,49]]))"
   ]
  },
  {
   "cell_type": "code",
   "execution_count": 8,
   "metadata": {},
   "outputs": [
    {
     "name": "stdout",
     "output_type": "stream",
     "text": [
      "True\n"
     ]
    }
   ],
   "source": [
    "print(canFormArray([91,4,64,78], [[78],[4,64],[91]]))"
   ]
  },
  {
   "cell_type": "code",
   "execution_count": 9,
   "metadata": {},
   "outputs": [
    {
     "name": "stdout",
     "output_type": "stream",
     "text": [
      "False\n"
     ]
    }
   ],
   "source": [
    "print(canFormArray([1,3,5,7], [[2,4,6,8]]))"
   ]
  },
  {
   "cell_type": "code",
   "execution_count": null,
   "metadata": {},
   "outputs": [],
   "source": []
  }
 ],
 "metadata": {
  "kernelspec": {
   "display_name": "Python 3",
   "language": "python",
   "name": "python3"
  },
  "language_info": {
   "codemirror_mode": {
    "name": "ipython",
    "version": 3
   },
   "file_extension": ".py",
   "mimetype": "text/x-python",
   "name": "python",
   "nbconvert_exporter": "python",
   "pygments_lexer": "ipython3",
   "version": "3.8.5"
  }
 },
 "nbformat": 4,
 "nbformat_minor": 4
}
