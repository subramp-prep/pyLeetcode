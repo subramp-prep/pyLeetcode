{
 "cells": [
  {
   "cell_type": "markdown",
   "metadata": {},
   "source": [
    "## 946. Validate Stack Sequences\n",
    "\n",
    "Given two sequences pushed and popped with distinct values, return true if and only if this could have been the result of a sequence of push and pop operations on an initially empty stack.\n",
    " \n",
    "\n",
    "Example 1:\n",
    "```\n",
    "Input: pushed = [1,2,3,4,5], popped = [4,5,3,2,1]\n",
    "Output: true\n",
    "```\n",
    "Explanation: We might do the following sequence:\n",
    "push(1), push(2), push(3), push(4), pop() -> 4,\n",
    "push(5), pop() -> 5, pop() -> 3, pop() -> 2, pop() -> 1\n",
    "Example 2:\n",
    "```\n",
    "Input: pushed = [1,2,3,4,5], popped = [4,3,5,1,2]\n",
    "Output: false\n",
    "```\n",
    "Explanation: 1 cannot be popped before 2.\n",
    " \n",
    "\n",
    "Constraints:\n",
    "```\n",
    "0 <= pushed.length == popped.length <= 1000\n",
    "0 <= pushed[i], popped[i] < 1000\n",
    "pushed is a permutation of popped.\n",
    "pushed and popped have distinct values.\n",
    "```"
   ]
  },
  {
   "cell_type": "code",
   "execution_count": 1,
   "metadata": {},
   "outputs": [],
   "source": [
    "# Simulation based\n",
    "def validateStackSequence(pushed, popped):\n",
    "    stack, i = [], 0\n",
    "    \n",
    "    for p in pushed:\n",
    "        stack.append(p)\n",
    "        \n",
    "        while stack and stack[-1] == popped[i]:\n",
    "            i += 1\n",
    "            stack.pop()\n",
    "            \n",
    "    return len(stack) == 0"
   ]
  },
  {
   "cell_type": "code",
   "execution_count": 2,
   "metadata": {},
   "outputs": [
    {
     "name": "stdout",
     "output_type": "stream",
     "text": [
      "True\n"
     ]
    }
   ],
   "source": [
    "print(validateStackSequence([1,2,3,4,5], [4,5,3,2,1]))"
   ]
  },
  {
   "cell_type": "code",
   "execution_count": 3,
   "metadata": {},
   "outputs": [
    {
     "name": "stdout",
     "output_type": "stream",
     "text": [
      "False\n"
     ]
    }
   ],
   "source": [
    "print(validateStackSequence([1,2,3,4,5], [4,3,5,1,2]))"
   ]
  }
 ],
 "metadata": {
  "kernelspec": {
   "display_name": "Python 3",
   "language": "python",
   "name": "python3"
  },
  "language_info": {
   "codemirror_mode": {
    "name": "ipython",
    "version": 3
   },
   "file_extension": ".py",
   "mimetype": "text/x-python",
   "name": "python",
   "nbconvert_exporter": "python",
   "pygments_lexer": "ipython3",
   "version": "3.8.5"
  }
 },
 "nbformat": 4,
 "nbformat_minor": 4
}
