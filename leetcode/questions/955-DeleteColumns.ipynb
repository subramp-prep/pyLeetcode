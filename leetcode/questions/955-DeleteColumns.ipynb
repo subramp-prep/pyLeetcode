{
 "cells": [
  {
   "cell_type": "markdown",
   "metadata": {},
   "source": [
    "We are given an array A of N lowercase letter strings, all of the same length.\n",
    "\n",
    "Now, we may choose any set of deletion indices, and for each string, we delete all the characters in those indices.\n",
    "\n",
    "For example, if we have an array A = [\"abcdef\",\"uvwxyz\"] and deletion indices {0, 2, 3}, then the final array after deletions is [\"bef\",\"vyz\"].\n",
    "\n",
    "Suppose we chose a set of deletion indices D such that after deletions, the final array has its elements in lexicographic order (A[0] <= A[1] <= A[2] ... <= A[A.length - 1]).\n",
    "\n",
    "Return the minimum possible value of D.length.\n",
    "\n",
    " \n",
    "\n",
    "**Example 1:**\n",
    "```\n",
    "Input: [\"ca\",\"bb\",\"ac\"]\n",
    "Output: 1\n",
    "Explanation: \n",
    "After deleting the first column, A = [\"a\", \"b\", \"c\"].\n",
    "Now A is in lexicographic order (ie. A[0] <= A[1] <= A[2]).\n",
    "We require at least 1 deletion since initially A was not in lexicographic order, so the answer is 1.\n",
    "```\n",
    "**Example 2:**\n",
    "```\n",
    "Input: [\"xc\",\"yb\",\"za\"]\n",
    "Output: 0\n",
    "Explanation: \n",
    "A is already in lexicographic order, so we don't need to delete anything.\n",
    "Note that the rows of A are not necessarily in lexicographic order:\n",
    "ie. it is NOT necessarily true that (A[0][0] <= A[0][1] <= ...)\n",
    "```\n",
    "**Example 3:**\n",
    "```\n",
    "Input: [\"zyx\",\"wvu\",\"tsr\"]\n",
    "Output: 3\n",
    "Explanation: \n",
    "We have to delete every column.\n",
    "```\n",
    "\n",
    "Note:\n",
    "\n",
    "1 <= A.length <= 100\n",
    "1 <= A[i].length <= 100"
   ]
  },
  {
   "cell_type": "code",
   "execution_count": 11,
   "metadata": {},
   "outputs": [],
   "source": [
    "def minDeletionSize(A):\n",
    "    cuts = [False]*(len(A)-1)\n",
    "    ans = 0\n",
    "    \n",
    "    for column in zip(*A):\n",
    "        if all(cuts[i] or column[i] <= column[i+1] for i in range(len(column)-1)):\n",
    "            for i in range(len(column)-1):\n",
    "                if column[i] < column[i+1]:\n",
    "                    cuts[i] = True\n",
    "        else:\n",
    "            ans += 1\n",
    "    \n",
    "    return ans\n",
    "               "
   ]
  },
  {
   "cell_type": "code",
   "execution_count": 12,
   "metadata": {},
   "outputs": [
    {
     "name": "stdout",
     "output_type": "stream",
     "text": [
      "3\n"
     ]
    }
   ],
   "source": [
    "print(minDeletionSize([\"zyx\",\"wvu\",\"tsr\"]))"
   ]
  },
  {
   "cell_type": "code",
   "execution_count": 13,
   "metadata": {},
   "outputs": [
    {
     "name": "stdout",
     "output_type": "stream",
     "text": [
      "0\n"
     ]
    }
   ],
   "source": [
    "print(minDeletionSize([\"xc\",\"yb\",\"za\"]))"
   ]
  },
  {
   "cell_type": "code",
   "execution_count": 14,
   "metadata": {},
   "outputs": [
    {
     "name": "stdout",
     "output_type": "stream",
     "text": [
      "1\n"
     ]
    }
   ],
   "source": [
    "print(minDeletionSize([\"ca\",\"bb\",\"ac\"]))"
   ]
  }
 ],
 "metadata": {
  "kernelspec": {
   "display_name": "Python 3",
   "language": "python",
   "name": "python3"
  },
  "language_info": {
   "codemirror_mode": {
    "name": "ipython",
    "version": 3
   },
   "file_extension": ".py",
   "mimetype": "text/x-python",
   "name": "python",
   "nbconvert_exporter": "python",
   "pygments_lexer": "ipython3",
   "version": "3.7.1"
  }
 },
 "nbformat": 4,
 "nbformat_minor": 2
}
