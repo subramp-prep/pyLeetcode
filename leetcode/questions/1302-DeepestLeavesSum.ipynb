{
 "cells": [
  {
   "cell_type": "markdown",
   "metadata": {},
   "source": [
    "## 1302. Deepest Leaves Sum\n",
    "\n",
    "Given a binary tree, return the sum of values of its deepest leaves.\n",
    " \n",
    "\n",
    "Example 1:\n",
    "\n",
    "![1302](img/1302.png )\n",
    "\n",
    "Input: root = [1,2,3,4,5,null,6,7,null,null,null,null,8]\n",
    "Output: 15\n",
    " \n",
    "\n",
    "Constraints:\n",
    "\n",
    "The number of nodes in the tree is between 1 and 10^4.\n",
    "The value of nodes is between 1 and 100."
   ]
  },
  {
   "cell_type": "code",
   "execution_count": 6,
   "metadata": {},
   "outputs": [],
   "source": [
    "class TreeNode:\n",
    "    def __init__(self, val, left=None, right=None):\n",
    "        self.val = val\n",
    "        self.left = left\n",
    "        self.right =right\n",
    "\n",
    "def deepestLeavesSum(root):\n",
    "\n",
    "    output = []\n",
    "\n",
    "    def helper(head, level):\n",
    "        if head:\n",
    "\n",
    "            if level+1 > len(output):\n",
    "                output.append(0)\n",
    "\n",
    "            output[level] = output[level] + head.val\n",
    "            helper(head.left, level+1)\n",
    "            helper(head.right, level+1)\n",
    "\n",
    "    helper(root, 0)\n",
    "    \n",
    "    return output[-1]"
   ]
  },
  {
   "cell_type": "code",
   "execution_count": 7,
   "metadata": {},
   "outputs": [
    {
     "name": "stdout",
     "output_type": "stream",
     "text": [
      "15\n"
     ]
    }
   ],
   "source": [
    "root = TreeNode(1, TreeNode(2, TreeNode(4, TreeNode(7)), TreeNode(5)), TreeNode(3, None, TreeNode(6, None, TreeNode(8))))\n",
    "print(deepestLeavesSum(root))"
   ]
  }
 ],
 "metadata": {
  "kernelspec": {
   "display_name": "Python 3",
   "language": "python",
   "name": "python3"
  },
  "language_info": {
   "codemirror_mode": {
    "name": "ipython",
    "version": 3
   },
   "file_extension": ".py",
   "mimetype": "text/x-python",
   "name": "python",
   "nbconvert_exporter": "python",
   "pygments_lexer": "ipython3",
   "version": "3.7.6"
  }
 },
 "nbformat": 4,
 "nbformat_minor": 4
}
