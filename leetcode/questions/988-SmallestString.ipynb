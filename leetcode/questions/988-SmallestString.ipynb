{
 "cells": [
  {
   "cell_type": "markdown",
   "metadata": {},
   "source": [
    "## 988 Smallest String Starting From Leaf \n",
    "\n",
    "Given the root of a binary tree, each node has a value from 0 to 25 representing the letters 'a' to 'z': a value of 0 represents 'a', a value of 1 represents 'b', and so on.\n",
    "\n",
    "Find the lexicographically smallest string that starts at a leaf of this tree and ends at the root.\n",
    "\n",
    "(As a reminder, any shorter prefix of a string is lexicographically smaller: for example, \"ab\" is lexicographically smaller than \"aba\".  A leaf of a node is a node that has no children.)\n",
    "\n",
    " \n",
    "\n",
    "Example 1:\n",
    "\n",
    "![axisBT](img/988-01.png )\n",
    "\n",
    "```\n",
    "Input: [0,1,2,3,4,3,4]\n",
    "Output: \"dba\"\n",
    "```\n",
    "\n",
    "Example 2:\n",
    "\n",
    "![axisBT](img/988-02.png )\n",
    "\n",
    "```\n",
    "Input: [25,1,3,1,3,0,2]\n",
    "Output: \"adz\"\n",
    "```\n",
    "\n",
    "Example 3:\n",
    "\n",
    "![axisBT](img/988-03.png )\n",
    "```\n",
    "Input: [2,2,1,null,1,0,null,0]\n",
    "Output: \"abc\"\n",
    "```\n",
    "\n",
    "Note:\n",
    "\n",
    "The number of nodes in the given tree will be between 1 and 1000.\n",
    "Each node in the tree will have a value between 0 and 25."
   ]
  },
  {
   "cell_type": "code",
   "execution_count": 3,
   "metadata": {},
   "outputs": [],
   "source": [
    "class TreeNode:\n",
    "    def __init__(self, val, left=None, right=None):\n",
    "        self.val = val\n",
    "        self.left = left\n",
    "        self.right = right\n",
    "\n",
    "def smallestFromLeaf(root):\n",
    "    output = []\n",
    "\n",
    "    def helper(head, path):\n",
    "        if head:\n",
    "\n",
    "            if head.left is None and head.right is None:\n",
    "                #reached end\n",
    "                path.append(chr(ord('a') + head.val))\n",
    "                #translate from reverse\n",
    "                output.append(''.join(path[::-1]))                \n",
    "                path.pop()\n",
    "                return\n",
    "\n",
    "            path.append(chr(ord('a') + head.val))\n",
    "            helper(head.left, path)\n",
    "            path.pop()\n",
    "\n",
    "            path.append(chr(ord('a') + head.val))\n",
    "            helper(head.right, path)\n",
    "            path.pop()\n",
    "\n",
    "    helper(root, [])\n",
    "\n",
    "    output = sorted(output)\n",
    "    return output[0]\n"
   ]
  },
  {
   "cell_type": "code",
   "execution_count": 4,
   "metadata": {},
   "outputs": [
    {
     "name": "stdout",
     "output_type": "stream",
     "text": [
      "dba\n"
     ]
    }
   ],
   "source": [
    "root = TreeNode(0, TreeNode(1, TreeNode(3), TreeNode(4)), TreeNode(2, TreeNode(3), TreeNode(4)))\n",
    "print(smallestFromLeaf(root))"
   ]
  }
 ],
 "metadata": {
  "kernelspec": {
   "display_name": "Python 3",
   "language": "python",
   "name": "python3"
  },
  "language_info": {
   "codemirror_mode": {
    "name": "ipython",
    "version": 3
   },
   "file_extension": ".py",
   "mimetype": "text/x-python",
   "name": "python",
   "nbconvert_exporter": "python",
   "pygments_lexer": "ipython3",
   "version": "3.7.1"
  }
 },
 "nbformat": 4,
 "nbformat_minor": 2
}
