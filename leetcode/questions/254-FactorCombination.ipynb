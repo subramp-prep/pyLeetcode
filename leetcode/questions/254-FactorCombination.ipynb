{
 "cells": [
  {
   "cell_type": "markdown",
   "metadata": {},
   "source": [
    "## 254 Factor combinations\n",
    "\n",
    "Numbers can be regarded as product of its factors. For example,\n",
    "```\n",
    "8 = 2 x 2 x 2;\n",
    "  = 2 x 4.\n",
    "```\n",
    "Write a function that takes an integer n and return all possible combinations of its factors.\n",
    "\n",
    "Note:\n",
    "\n",
    "You may assume that n is always positive.\n",
    "Factors should be greater than 1 and less than n.\n",
    "Example 1:\n",
    "```\n",
    "Input: 1\n",
    "Output: []\n",
    "```\n",
    "Example 2:\n",
    "```\n",
    "Input: 37\n",
    "Output:[]\n",
    "```\n",
    "Example 3:\n",
    "```\n",
    "Input: 12\n",
    "Output:\n",
    "[\n",
    "  [2, 6],\n",
    "  [2, 2, 3],\n",
    "  [3, 4]\n",
    "]\n",
    "```\n",
    "Example 4:\n",
    "```\n",
    "Input: 32\n",
    "Output:\n",
    "[\n",
    "  [2, 16],\n",
    "  [2, 2, 8],\n",
    "  [2, 2, 2, 4],\n",
    "  [2, 2, 2, 2, 2],\n",
    "  [2, 4, 4],\n",
    "  [4, 8]\n",
    "]\n",
    "```"
   ]
  },
  {
   "cell_type": "code",
   "execution_count": 3,
   "metadata": {},
   "outputs": [],
   "source": [
    "import math\n",
    "\n",
    "def getFactors(n):\n",
    "    output = []\n",
    "    \n",
    "    def helper(chosen, remain, index):\n",
    "        if len(chosen) > 0:\n",
    "            output.append(chosen + [remain])\n",
    "            \n",
    "        for i in range(index, int(math.sqrt(remain))+1):\n",
    "            if remain%i == 0:\n",
    "                helper(chosen+[i], remain//i, i)\n",
    "                \n",
    "    helper([], n, 2)\n",
    "    return output"
   ]
  },
  {
   "cell_type": "code",
   "execution_count": 4,
   "metadata": {},
   "outputs": [
    {
     "name": "stdout",
     "output_type": "stream",
     "text": [
      "[[2, 16], [2, 2, 8], [2, 2, 2, 4], [2, 2, 2, 2, 2], [2, 4, 4], [4, 8]]\n"
     ]
    }
   ],
   "source": [
    "print(getFactors(32))"
   ]
  },
  {
   "cell_type": "code",
   "execution_count": 5,
   "metadata": {},
   "outputs": [
    {
     "name": "stdout",
     "output_type": "stream",
     "text": [
      "[]\n"
     ]
    }
   ],
   "source": [
    "print(getFactors(37))"
   ]
  }
 ],
 "metadata": {
  "kernelspec": {
   "display_name": "Python 3",
   "language": "python",
   "name": "python3"
  },
  "language_info": {
   "codemirror_mode": {
    "name": "ipython",
    "version": 3
   },
   "file_extension": ".py",
   "mimetype": "text/x-python",
   "name": "python",
   "nbconvert_exporter": "python",
   "pygments_lexer": "ipython3",
   "version": "3.8.5"
  }
 },
 "nbformat": 4,
 "nbformat_minor": 4
}
