{
 "cells": [
  {
   "cell_type": "markdown",
   "metadata": {},
   "source": [
    "## 174. Dungeon Game\n",
    "\n",
    "The demons had captured the princess (P) and imprisoned her in the bottom-right corner of a dungeon. The dungeon consists of M x N rooms laid out in a 2D grid. Our valiant knight (K) was initially positioned in the top-left room and must fight his way through the dungeon to rescue the princess.\n",
    "\n",
    "The knight has an initial health point represented by a positive integer. If at any point his health point drops to 0 or below, he dies immediately.\n",
    "\n",
    "Some of the rooms are guarded by demons, so the knight loses health (negative integers) upon entering these rooms; other rooms are either empty (0's) or contain magic orbs that increase the knight's health (positive integers).\n",
    "\n",
    "In order to reach the princess as quickly as possible, the knight decides to move only rightward or downward in each step.\n",
    "\n",
    "![axisBT](img/174.png )\n",
    " \n",
    "\n",
    "Write a function to determine the knight's minimum initial health so that he is able to rescue the princess.\n",
    "\n",
    "For example, given the dungeon below, the initial health of the knight must be at least 7 if he follows the optimal path RIGHT-> RIGHT -> DOWN -> DOWN.\n",
    "\n",
    "-2 (K)\t-3\t3\n",
    "-5\t-10\t1\n",
    "10\t30\t-5 (P)\n",
    " \n",
    "\n",
    "Note:\n",
    "```\n",
    "The knight's health has no upper bound.\n",
    "Any room can contain threats or power-ups, even the first room the knight enters and the bottom-right room where the princess is imprisoned.\n",
    "```"
   ]
  },
  {
   "cell_type": "code",
   "execution_count": 14,
   "metadata": {},
   "outputs": [],
   "source": [
    "def dungeonGame(dungeon):\n",
    "    \n",
    "    dp = [[float('inf') for _ in range(len(dungeon[0])+1)] for _ in range(len(dungeon)+1)]\n",
    "    r, c = len(dungeon), len(dungeon[0])\n",
    "    \n",
    "    dp[r-1][c], dp[r][c-1] = 1,1 #<== Important step\n",
    "    \n",
    "    for i in range(r-1, -1, -1):\n",
    "        for j in range(c-1, -1, -1):\n",
    "            dp[i][j] = max(\n",
    "                    min(dp[i+1][j], dp[i][j+1]) - dungeon[i][j], \n",
    "                    1)\n",
    "            \n",
    "    return dp[0][0]\n",
    "    "
   ]
  },
  {
   "cell_type": "code",
   "execution_count": 15,
   "metadata": {},
   "outputs": [
    {
     "name": "stdout",
     "output_type": "stream",
     "text": [
      "7\n"
     ]
    }
   ],
   "source": [
    "dungeon = [\n",
    "    [-2,-3,3],\n",
    "    [-5,-10,1],\n",
    "    [10,30,-5]\n",
    "]\n",
    "\n",
    "print(dungeonGame(dungeon))"
   ]
  },
  {
   "cell_type": "code",
   "execution_count": null,
   "metadata": {},
   "outputs": [],
   "source": []
  }
 ],
 "metadata": {
  "kernelspec": {
   "display_name": "Python 3",
   "language": "python",
   "name": "python3"
  },
  "language_info": {
   "codemirror_mode": {
    "name": "ipython",
    "version": 3
   },
   "file_extension": ".py",
   "mimetype": "text/x-python",
   "name": "python",
   "nbconvert_exporter": "python",
   "pygments_lexer": "ipython3",
   "version": "3.7.6"
  }
 },
 "nbformat": 4,
 "nbformat_minor": 4
}
