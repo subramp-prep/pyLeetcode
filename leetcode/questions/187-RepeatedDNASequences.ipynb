{
 "cells": [
  {
   "cell_type": "markdown",
   "metadata": {},
   "source": [
    "## 187. Repeated DNA Sequences\n",
    "\n",
    "All DNA is composed of a series of nucleotides abbreviated as 'A', 'C', 'G', and 'T', for example: \"ACGAATTCCG\". When studying DNA, it is sometimes useful to identify repeated sequences within the DNA.\n",
    "\n",
    "Write a function to find all the 10-letter-long sequences (substrings) that occur more than once in a DNA molecule.\n",
    "\n",
    " \n",
    "\n",
    "Example 1:\n",
    "```\n",
    "Input: s = \"AAAAACCCCCAAAAACCCCCCAAAAAGGGTTT\"\n",
    "Output: [\"AAAAACCCCC\",\"CCCCCAAAAA\"]\n",
    "```\n",
    "Example 2:\n",
    "```\n",
    "Input: s = \"AAAAAAAAAAAAA\"\n",
    "Output: [\"AAAAAAAAAA\"]\n",
    "```\n",
    "\n",
    "Constraints:\n",
    "```\n",
    "0 <= s.length <= 105\n",
    "s[i] is 'A', 'C', 'G', or 'T'.\n",
    "```"
   ]
  },
  {
   "cell_type": "code",
   "execution_count": 1,
   "metadata": {},
   "outputs": [],
   "source": [
    "def findRepeatedDnaSequences(s):\n",
    "\n",
    "    output = set()\n",
    "    window = set()\n",
    "\n",
    "    for i in range(len(s)-9):\n",
    "        t = s[i:i+10]\n",
    "        present = False\n",
    "        if t not in window:\n",
    "            window.add(t)\n",
    "        else:\n",
    "            present = True\n",
    "\n",
    "        if present:\n",
    "            output.add(t)\n",
    "\n",
    "    return output"
   ]
  },
  {
   "cell_type": "code",
   "execution_count": 2,
   "metadata": {},
   "outputs": [
    {
     "name": "stdout",
     "output_type": "stream",
     "text": [
      "{'AAAAACCCCC', 'CCCCCAAAAA'}\n"
     ]
    }
   ],
   "source": [
    "print(findRepeatedDnaSequences('AAAAACCCCCAAAAACCCCCCAAAAAGGGTTT'))"
   ]
  },
  {
   "cell_type": "code",
   "execution_count": 3,
   "metadata": {},
   "outputs": [
    {
     "name": "stdout",
     "output_type": "stream",
     "text": [
      "{'AAAAAAAAAA'}\n"
     ]
    }
   ],
   "source": [
    "print(findRepeatedDnaSequences('AAAAAAAAAAAAA'))"
   ]
  }
 ],
 "metadata": {
  "kernelspec": {
   "display_name": "Python 3",
   "language": "python",
   "name": "python3"
  },
  "language_info": {
   "codemirror_mode": {
    "name": "ipython",
    "version": 3
   },
   "file_extension": ".py",
   "mimetype": "text/x-python",
   "name": "python",
   "nbconvert_exporter": "python",
   "pygments_lexer": "ipython3",
   "version": "3.8.5"
  }
 },
 "nbformat": 4,
 "nbformat_minor": 4
}
