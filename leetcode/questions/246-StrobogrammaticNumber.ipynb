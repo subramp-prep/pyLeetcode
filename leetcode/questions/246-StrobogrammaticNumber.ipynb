{
 "cells": [
  {
   "cell_type": "markdown",
   "metadata": {},
   "source": [
    "## 246 Strobogrammatic Number\n",
    "\n",
    "A strobogrammatic number is a number that looks the same when rotated 180 degrees (looked at upside down).\n",
    "\n",
    "Write a function to determine if a number is strobogrammatic. The number is represented as a string.\n",
    "\n",
    "```\n",
    "For example, the numbers \"69\", \"88\", and \"818\" are all strobogrammatic.\n",
    "```\n",
    "\n",
    "https://en.wikipedia.org/wiki/Strobogrammatic_number"
   ]
  },
  {
   "cell_type": "code",
   "execution_count": 6,
   "metadata": {},
   "outputs": [],
   "source": [
    "def isStrobogrammatic(num):\n",
    "    unStrobo = [2,3,4,5,7]\n",
    "    maps = {\n",
    "        1 : 1,\n",
    "        6 : 9,\n",
    "        8 : 8,\n",
    "        9 : 6, \n",
    "        0 : 0\n",
    "    }\n",
    "    \n",
    "    temp = num\n",
    "    newNum = 0\n",
    "    \n",
    "    while temp > 0:\n",
    "        if temp%10 in unStrobo:\n",
    "            return False\n",
    "        \n",
    "        newNum = newNum*10 + maps[temp%10]\n",
    "        temp = temp//10\n",
    "        \n",
    "    return num == newNum"
   ]
  },
  {
   "cell_type": "code",
   "execution_count": 7,
   "metadata": {},
   "outputs": [
    {
     "name": "stdout",
     "output_type": "stream",
     "text": [
      "True\n"
     ]
    }
   ],
   "source": [
    "print(isStrobogrammatic(69))"
   ]
  },
  {
   "cell_type": "code",
   "execution_count": 8,
   "metadata": {},
   "outputs": [
    {
     "name": "stdout",
     "output_type": "stream",
     "text": [
      "False\n"
     ]
    }
   ],
   "source": [
    "print(isStrobogrammatic(70))"
   ]
  },
  {
   "cell_type": "code",
   "execution_count": 10,
   "metadata": {},
   "outputs": [
    {
     "name": "stdout",
     "output_type": "stream",
     "text": [
      "True\n"
     ]
    }
   ],
   "source": [
    "print(isStrobogrammatic(818))"
   ]
  },
  {
   "cell_type": "code",
   "execution_count": 12,
   "metadata": {},
   "outputs": [
    {
     "name": "stdout",
     "output_type": "stream",
     "text": [
      "False\n"
     ]
    }
   ],
   "source": [
    "print(isStrobogrammatic(169))"
   ]
  }
 ],
 "metadata": {
  "kernelspec": {
   "display_name": "Python 3",
   "language": "python",
   "name": "python3"
  },
  "language_info": {
   "codemirror_mode": {
    "name": "ipython",
    "version": 3
   },
   "file_extension": ".py",
   "mimetype": "text/x-python",
   "name": "python",
   "nbconvert_exporter": "python",
   "pygments_lexer": "ipython3",
   "version": "3.7.1"
  }
 },
 "nbformat": 4,
 "nbformat_minor": 2
}
