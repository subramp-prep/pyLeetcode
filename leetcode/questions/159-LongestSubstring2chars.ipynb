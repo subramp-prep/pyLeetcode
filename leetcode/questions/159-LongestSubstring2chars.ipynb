{
 "cells": [
  {
   "cell_type": "markdown",
   "metadata": {},
   "source": [
    "## 159. Longest Substring with At Most Two Distinct Characters\n",
    "\n",
    "Given a string s , find the length of the longest substring t  that contains at most 2 distinct characters.\n",
    "\n",
    "Example 1:\n",
    "```\n",
    "Input: \"eceba\"\n",
    "Output: 3\n",
    "```\n",
    "Explanation: t is \"ece\" which its length is 3.\n",
    "Example 2:\n",
    "```\n",
    "Input: \"ccaabbb\"\n",
    "Output: 5\n",
    "```\n",
    "Explanation: t is \"aabbb\" which its length is 5."
   ]
  },
  {
   "cell_type": "markdown",
   "metadata": {},
   "source": [
    "## Bruteforce"
   ]
  },
  {
   "cell_type": "code",
   "execution_count": 1,
   "metadata": {},
   "outputs": [],
   "source": [
    "def lengthOfLongestSubstringTwoDistinct(s):\n",
    "    maxlen = 0\n",
    "\n",
    "    for i, v in enumerate(s):\n",
    "        keep = {}\n",
    "        keep[v] = i\n",
    "        for j in range(i, len(s)):\n",
    "            if s[j] not in keep:\n",
    "                keep[s[j]] =  j\n",
    "                if len(keep) > 2:\n",
    "                    break\n",
    "\n",
    "            maxlen = max(maxlen, j-i+1)\n",
    "\n",
    "    return maxlen"
   ]
  },
  {
   "cell_type": "markdown",
   "metadata": {},
   "source": [
    "## Optimal"
   ]
  },
  {
   "cell_type": "code",
   "execution_count": 3,
   "metadata": {},
   "outputs": [],
   "source": [
    "def lengthOfLongestSubstringTwoDistinct(s):\n",
    "    counter = start = stop = 0\n",
    "    maps = {}\n",
    "    l = len(s)\n",
    "    maxlen =0 \n",
    "\n",
    "    while stop < l:\n",
    "        if s[stop] not in maps:\n",
    "            maps[s[stop]] = 1\n",
    "            counter += 1\n",
    "        else:\n",
    "            maps[s[stop]] += 1\n",
    "\n",
    "        stop += 1\n",
    "\n",
    "        while counter > 2:\n",
    "            if maps[s[start]] == 1:\n",
    "                counter -= 1\n",
    "\n",
    "            maps[s[start]] -= 1\n",
    "            \n",
    "            # important to remove the item from dictionary\n",
    "            if maps[s[start]] == 0:\n",
    "                maps.pop(s[start], None)\n",
    "                \n",
    "            start += 1\n",
    "\n",
    "        maxlen = max(maxlen, stop - start)\n",
    "\n",
    "    return maxlen"
   ]
  },
  {
   "cell_type": "code",
   "execution_count": 4,
   "metadata": {},
   "outputs": [
    {
     "name": "stdout",
     "output_type": "stream",
     "text": [
      "2\n"
     ]
    }
   ],
   "source": [
    "print(lengthOfLongestSubstringTwoDistinct('abcabcabc'))"
   ]
  },
  {
   "cell_type": "code",
   "execution_count": 5,
   "metadata": {},
   "outputs": [
    {
     "name": "stdout",
     "output_type": "stream",
     "text": [
      "3\n"
     ]
    }
   ],
   "source": [
    "print(lengthOfLongestSubstringTwoDistinct('eceba'))"
   ]
  }
 ],
 "metadata": {
  "kernelspec": {
   "display_name": "Python 3",
   "language": "python",
   "name": "python3"
  },
  "language_info": {
   "codemirror_mode": {
    "name": "ipython",
    "version": 3
   },
   "file_extension": ".py",
   "mimetype": "text/x-python",
   "name": "python",
   "nbconvert_exporter": "python",
   "pygments_lexer": "ipython3",
   "version": "3.8.5"
  }
 },
 "nbformat": 4,
 "nbformat_minor": 4
}
