{
 "cells": [
  {
   "cell_type": "markdown",
   "metadata": {},
   "source": [
    "## 935. Knight Dialer\n",
    "\n",
    "The chess knight has a unique movement, it may move two squares vertically and one square horizontally, or two squares horizontally and one square vertically (with both forming the shape of an L). The possible movements of chess knight are shown in this diagaram:\n",
    "\n",
    "A chess knight can move as indicated in the chess diagram below:\n",
    "\n",
    "![axisBT](img/935-01.jpg )\n",
    "\n",
    "We have a chess knight and a phone pad as shown below, the knight can only stand on a numeric cell (i.e. blue cell).\n",
    "\n",
    "![axisBT1](img/935-02.jpg )\n",
    "\n",
    "Given an integer n, return how many distinct phone numbers of length n we can dial.\n",
    "\n",
    "You are allowed to place the knight on any numeric cell initially and then you should perform n - 1 jumps to dial a number of length n. All jumps should be valid knight jumps.\n",
    "\n",
    "As the answer may be very large, return the answer modulo 109 + 7.\n",
    "\n",
    " \n",
    "\n",
    "Example 1:\n",
    "```\n",
    "Input: n = 1\n",
    "Output: 10\n",
    "```\n",
    "Explanation: We need to dial a number of length 1, so placing the knight over any numeric cell of the 10 cells is sufficient.\n",
    "Example 2:\n",
    "```\n",
    "Input: n = 2\n",
    "Output: 20\n",
    "```\n",
    "Explanation: All the valid number we can dial are [04, 06, 16, 18, 27, 29, 34, 38, 40, 43, 49, 60, 61, 67, 72, 76, 81, 83, 92, 94]\n",
    "Example 3:\n",
    "```\n",
    "Input: n = 3\n",
    "Output: 46\n",
    "```\n",
    "Example 4:\n",
    "```\n",
    "Input: n = 4\n",
    "Output: 104\n",
    "```\n",
    "Example 5:\n",
    "```\n",
    "Input: n = 3131\n",
    "Output: 136006598\n",
    "```\n",
    "Explanation: Please take care of the mod.\n",
    " \n",
    "\n",
    "Constraints:\n",
    "```\n",
    "1 <= n <= 5000\n",
    "```"
   ]
  },
  {
   "cell_type": "code",
   "execution_count": 1,
   "metadata": {},
   "outputs": [],
   "source": [
    "def knightDialer(N):\n",
    "    x1 = x2 = x3 = x4 = x5 = x6 = x7 = x8 = x9 = x0 = 1\n",
    "    for i in range(N - 1):\n",
    "        x1, x2, x3, x4, x5, x6, x7, x8, x9, x0 = \\\n",
    "            x6 + x8, x7 + x9, x4 + x8, \\\n",
    "            x3 + x9 + x0, 0, x1 + x7 + x0, \\\n",
    "            x2 + x6, x1 + x3, x2 + x4, \\\n",
    "            x4 + x6\n",
    "    return (x1 + x2 + x3 + x4 + x5 + x6 + x7 + x8 + x9 + x0) % (10**9 + 7)\n",
    "        "
   ]
  },
  {
   "cell_type": "code",
   "execution_count": 2,
   "metadata": {},
   "outputs": [
    {
     "name": "stdout",
     "output_type": "stream",
     "text": [
      "104\n"
     ]
    }
   ],
   "source": [
    "print(knightDialer(4))"
   ]
  },
  {
   "cell_type": "code",
   "execution_count": 3,
   "metadata": {},
   "outputs": [
    {
     "name": "stdout",
     "output_type": "stream",
     "text": [
      "46\n"
     ]
    }
   ],
   "source": [
    "print(knightDialer(3))"
   ]
  },
  {
   "cell_type": "code",
   "execution_count": 4,
   "metadata": {},
   "outputs": [
    {
     "name": "stdout",
     "output_type": "stream",
     "text": [
      "20\n"
     ]
    }
   ],
   "source": [
    "print(knightDialer(2))"
   ]
  },
  {
   "cell_type": "code",
   "execution_count": 5,
   "metadata": {},
   "outputs": [
    {
     "name": "stdout",
     "output_type": "stream",
     "text": [
      "10\n"
     ]
    }
   ],
   "source": [
    "print(knightDialer(1))"
   ]
  }
 ],
 "metadata": {
  "kernelspec": {
   "display_name": "Python 3",
   "language": "python",
   "name": "python3"
  },
  "language_info": {
   "codemirror_mode": {
    "name": "ipython",
    "version": 3
   },
   "file_extension": ".py",
   "mimetype": "text/x-python",
   "name": "python",
   "nbconvert_exporter": "python",
   "pygments_lexer": "ipython3",
   "version": "3.8.5"
  }
 },
 "nbformat": 4,
 "nbformat_minor": 4
}
