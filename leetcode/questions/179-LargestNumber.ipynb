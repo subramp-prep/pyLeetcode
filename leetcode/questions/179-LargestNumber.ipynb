{
 "cells": [
  {
   "cell_type": "markdown",
   "metadata": {},
   "source": [
    "## 179 Largest Number\n",
    "\n",
    "Given a list of non negative integers, arrange them such that they form the largest number.\n",
    "\n",
    "Example 1:\n",
    "```\n",
    "Input: [10,2]\n",
    "Output: \"210\"\n",
    "```\n",
    "Example 2:\n",
    "```\n",
    "Input: [3,30,34,5,9]\n",
    "Output: \"9534330\"\n",
    "```\n",
    "Note: The result may be very large, so you need to return a string instead of an integer."
   ]
  },
  {
   "cell_type": "code",
   "execution_count": 9,
   "metadata": {},
   "outputs": [],
   "source": [
    "class LargestNum(str):\n",
    "    def __lt__(x, y):\n",
    "        return x+y > y+x\n",
    "    \n",
    "def findLargestNum(nums):\n",
    "    largest_num = ''.join(sorted(map(str, nums), key=LargestNum))\n",
    "    return '0' if largest_num[0] == '0' else largest_num"
   ]
  },
  {
   "cell_type": "code",
   "execution_count": 10,
   "metadata": {},
   "outputs": [
    {
     "name": "stdout",
     "output_type": "stream",
     "text": [
      "210\n"
     ]
    }
   ],
   "source": [
    "print(findLargestNum([10,2]))"
   ]
  }
 ],
 "metadata": {
  "kernelspec": {
   "display_name": "Python 3",
   "language": "python",
   "name": "python3"
  },
  "language_info": {
   "codemirror_mode": {
    "name": "ipython",
    "version": 3
   },
   "file_extension": ".py",
   "mimetype": "text/x-python",
   "name": "python",
   "nbconvert_exporter": "python",
   "pygments_lexer": "ipython3",
   "version": "3.7.1"
  }
 },
 "nbformat": 4,
 "nbformat_minor": 2
}
