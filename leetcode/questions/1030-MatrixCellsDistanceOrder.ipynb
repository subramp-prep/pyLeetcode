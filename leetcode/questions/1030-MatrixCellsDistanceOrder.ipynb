{
 "cells": [
  {
   "cell_type": "markdown",
   "metadata": {},
   "source": [
    "## 1030 Matrix cells in distance order\n",
    "\n",
    "We are given a matrix with R rows and C columns has cells with integer coordinates (r, c), where 0 <= r < R and 0 <= c < C.\n",
    "\n",
    "Additionally, we are given a cell in that matrix with coordinates (r0, c0).\n",
    "\n",
    "Return the coordinates of all cells in the matrix, sorted by their distance from (r0, c0) from smallest distance to largest distance.  Here, the distance between two cells (r1, c1) and (r2, c2) is the Manhattan distance, |r1 - r2| + |c1 - c2|.  (You may return the answer in any order that satisfies this condition.)\n",
    "\n",
    " \n",
    "\n",
    "Example 1:\n",
    "```\n",
    "Input: R = 1, C = 2, r0 = 0, c0 = 0\n",
    "Output: [[0,0],[0,1]]\n",
    "Explanation: The distances from (r0, c0) to other cells are: [0,1]\n",
    "```\n",
    "Example 2:\n",
    "```\n",
    "Input: R = 2, C = 2, r0 = 0, c0 = 1\n",
    "Output: [[0,1],[0,0],[1,1],[1,0]]\n",
    "Explanation: The distances from (r0, c0) to other cells are: [0,1,1,2]\n",
    "The answer [[0,1],[1,1],[0,0],[1,0]] would also be accepted as correct.\n",
    "```\n",
    "Example 3:\n",
    "```\n",
    "Input: R = 2, C = 3, r0 = 1, c0 = 2\n",
    "Output: [[1,2],[0,2],[1,1],[0,1],[1,0],[0,0]]\n",
    "Explanation: The distances from (r0, c0) to other cells are: [0,1,1,2,2,3]\n",
    "There are other answers that would also be accepted as correct, such as [[1,2],[1,1],[0,2],[1,0],[0,1],[0,0]].\n",
    "``` \n",
    "\n",
    "Note:\n",
    "\n",
    "1 <= R <= 100\n",
    "1 <= C <= 100\n",
    "0 <= r0 < R\n",
    "0 <= c0 < C"
   ]
  },
  {
   "cell_type": "code",
   "execution_count": 1,
   "metadata": {},
   "outputs": [],
   "source": [
    "def allCellsDistOrder(R, C, r0, c0):\n",
    "    output = []\n",
    "\n",
    "    def dfs(matrix, row, column, r, c):\n",
    "        if r >= 0 and r < row  and c >=0 and c < column and matrix[r][c] == 1:\n",
    "            output.append([r,c])           \n",
    "            matrix[r][c] = 0\n",
    "\n",
    "            dfs(matrix, row, column, r, c-1)\n",
    "            dfs(matrix, row, column, r-1, c)\n",
    "            dfs(matrix, row, column, r, c+1)\n",
    "            dfs(matrix, row, column, r+1, c)            \n",
    "\n",
    "    matrix = [[1 for _ in range(C)] for _ in range(R)]\n",
    "\n",
    "    dfs(matrix, R, C, r0, c0)\n",
    "    \n",
    "    return sorted(output, key=lambda x: abs(x[0]-r0)+abs(x[1]-c0))"
   ]
  },
  {
   "cell_type": "code",
   "execution_count": 2,
   "metadata": {},
   "outputs": [
    {
     "name": "stdout",
     "output_type": "stream",
     "text": [
      "[[1, 2], [1, 1], [0, 2], [1, 0], [0, 1], [0, 0]]\n"
     ]
    }
   ],
   "source": [
    "print(allCellsDistOrder(2, 3, 1, 2))"
   ]
  },
  {
   "cell_type": "code",
   "execution_count": 3,
   "metadata": {},
   "outputs": [
    {
     "name": "stdout",
     "output_type": "stream",
     "text": [
      "[[0, 1], [0, 0], [1, 1], [1, 0]]\n"
     ]
    }
   ],
   "source": [
    "print(allCellsDistOrder(2, 2, 0, 1))"
   ]
  },
  {
   "cell_type": "code",
   "execution_count": 4,
   "metadata": {},
   "outputs": [
    {
     "name": "stdout",
     "output_type": "stream",
     "text": [
      "[[0, 0], [0, 1]]\n"
     ]
    }
   ],
   "source": [
    "print(allCellsDistOrder(1, 2, 0, 0))"
   ]
  }
 ],
 "metadata": {
  "kernelspec": {
   "display_name": "Python 3",
   "language": "python",
   "name": "python3"
  },
  "language_info": {
   "codemirror_mode": {
    "name": "ipython",
    "version": 3
   },
   "file_extension": ".py",
   "mimetype": "text/x-python",
   "name": "python",
   "nbconvert_exporter": "python",
   "pygments_lexer": "ipython3",
   "version": "3.7.1"
  }
 },
 "nbformat": 4,
 "nbformat_minor": 2
}
