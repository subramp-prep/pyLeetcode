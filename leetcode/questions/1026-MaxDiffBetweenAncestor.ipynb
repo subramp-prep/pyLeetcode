{
 "cells": [
  {
   "cell_type": "markdown",
   "metadata": {},
   "source": [
    "Given the root of a binary tree, find the maximum value V for which there exists different nodes A and B where V = |A.val - B.val| and A is an ancestor of B.\n",
    "\n",
    "(A node A is an ancestor of B if either: any child of A is equal to B, or any child of A is an ancestor of B.)\n",
    "\n",
    "Example 1:\n",
    "\n",
    "![axisBT](img/1026.jpg )\n",
    "\n",
    "```\n",
    "Input: [8,3,10,1,6,null,14,null,null,4,7,13]\n",
    "Output: 7\n",
    "Explanation: \n",
    "We have various ancestor-node differences, some of which are given below :\n",
    "|8 - 3| = 5\n",
    "|3 - 7| = 4\n",
    "|8 - 1| = 7\n",
    "|10 - 13| = 3\n",
    "Among all possible differences, the maximum value of 7 is obtained by |8 - 1| = 7.\n",
    "```\n",
    "\n",
    "Note:\n",
    "\n",
    "The number of nodes in the tree is between 2 and 5000.\n",
    "Each node will have value between 0 and 100000."
   ]
  },
  {
   "cell_type": "code",
   "execution_count": 5,
   "metadata": {},
   "outputs": [],
   "source": [
    "class TreeNode:\n",
    "    def __init__(self, val, left=None, right=None):\n",
    "        self.val = val\n",
    "        self.left = left\n",
    "        self.right = right\n",
    "        \n",
    "        \n",
    "def buildTree(nums, index, root):\n",
    "    if index < len(nums) and nums[index]:\n",
    "        root = TreeNode(nums[index])\n",
    "        root.left = buildTree(nums, 2*index+1, root.left)\n",
    "        root.right = buildTree(nums, 2*index+2, root.right)\n",
    "    \n",
    "    return root\n",
    "\n",
    "def ancestorDiff(root):\n",
    "    \n",
    "    def helper(head, mn, mx):\n",
    "        if head == None:\n",
    "            return mx - mn\n",
    "        \n",
    "        mx = max(head.val, mx)\n",
    "        mn = min(head.val, mn)\n",
    "        \n",
    "        return max(helper(head.left, mn, mx), helper(head.right, mn, mx))\n",
    "    \n",
    "    return helper(root, root.val, root.val)"
   ]
  },
  {
   "cell_type": "code",
   "execution_count": 6,
   "metadata": {},
   "outputs": [
    {
     "name": "stdout",
     "output_type": "stream",
     "text": [
      "7\n"
     ]
    }
   ],
   "source": [
    "root = buildTree([8,3,10,1,6,None,14,None,None,4,7,13], 0, None)\n",
    "\n",
    "print(ancestorDiff(root))"
   ]
  },
  {
   "cell_type": "code",
   "execution_count": null,
   "metadata": {},
   "outputs": [],
   "source": []
  }
 ],
 "metadata": {
  "kernelspec": {
   "display_name": "Python 3",
   "language": "python",
   "name": "python3"
  },
  "language_info": {
   "codemirror_mode": {
    "name": "ipython",
    "version": 3
   },
   "file_extension": ".py",
   "mimetype": "text/x-python",
   "name": "python",
   "nbconvert_exporter": "python",
   "pygments_lexer": "ipython3",
   "version": "3.7.6"
  }
 },
 "nbformat": 4,
 "nbformat_minor": 2
}
