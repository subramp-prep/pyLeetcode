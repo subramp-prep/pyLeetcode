{
 "cells": [
  {
   "cell_type": "markdown",
   "metadata": {},
   "source": [
    "## 1062. Longest Repeating Substring\n",
    "\n",
    "Given a string S, find out the length of the longest repeating substring(s). Return 0 if no repeating substring exists. \n",
    "\n",
    "Example 1:\n",
    "```\n",
    "Input: S = \"abcd\"\n",
    "Output: 0\n",
    "```\n",
    "Explanation: There is no repeating substring.\n",
    "Example 2:\n",
    "```\n",
    "Input: S = \"abbaba\"\n",
    "Output: 2\n",
    "```\n",
    "Explanation: The longest repeating substrings are \"ab\" and \"ba\", each of which occurs twice.\n",
    "Example 3:\n",
    "```\n",
    "Input: S = \"aabcaabdaab\"\n",
    "Output: 3\n",
    "```\n",
    "Explanation: The longest repeating substring is \"aab\", which occurs 3 times.\n",
    "Example 4:\n",
    "```\n",
    "Input: S = \"aaaaa\"\n",
    "Output: 4\n",
    "```\n",
    "Explanation: The longest repeating substring is \"aaaa\", which occurs twice.\n",
    "\n",
    "Constraints:\n",
    "```\n",
    "The string S consists of only lowercase English letters from 'a' - 'z'.\n",
    "1 <= S.length <= 1500\n",
    "```"
   ]
  },
  {
   "cell_type": "code",
   "execution_count": 1,
   "metadata": {},
   "outputs": [],
   "source": [
    "def longestRepeatingSubstring(S):\n",
    "    \n",
    "    def search(L, n):\n",
    "        seen = set()\n",
    "        \n",
    "        for i in range(n-L+1):\n",
    "            temp = S[i:i+L]\n",
    "            print(temp)\n",
    "            h = hash(temp)\n",
    "            if h in seen:\n",
    "                return i\n",
    "            \n",
    "            seen.add(h)\n",
    "            \n",
    "        return -1\n",
    "    \n",
    "    \n",
    "    n = len(S)\n",
    "    l,h = 1, n#len(S)-1\n",
    "    \n",
    "    while l <= h:\n",
    "        m = l + (h-l)//2\n",
    "        \n",
    "        if search(m, n) != -1:\n",
    "            l = m+1\n",
    "        \n",
    "        else:\n",
    "            h = m-1\n",
    "            \n",
    "            \n",
    "    return l-1"
   ]
  },
  {
   "cell_type": "code",
   "execution_count": 2,
   "metadata": {},
   "outputs": [
    {
     "name": "stdout",
     "output_type": "stream",
     "text": [
      "abb\n",
      "bba\n",
      "bab\n",
      "aba\n",
      "a\n",
      "b\n",
      "b\n",
      "ab\n",
      "bb\n",
      "ba\n",
      "ab\n",
      "2\n"
     ]
    }
   ],
   "source": [
    "print(longestRepeatingSubstring(\"abbaba\"))"
   ]
  },
  {
   "cell_type": "code",
   "execution_count": 3,
   "metadata": {},
   "outputs": [
    {
     "name": "stdout",
     "output_type": "stream",
     "text": [
      "aabcaa\n",
      "abcaab\n",
      "bcaabd\n",
      "caabda\n",
      "aabdaa\n",
      "abdaab\n",
      "aab\n",
      "abc\n",
      "bca\n",
      "caa\n",
      "aab\n",
      "aabc\n",
      "abca\n",
      "bcaa\n",
      "caab\n",
      "aabd\n",
      "abda\n",
      "bdaa\n",
      "daab\n",
      "3\n"
     ]
    }
   ],
   "source": [
    "print(longestRepeatingSubstring(\"aabcaabdaab\"))"
   ]
  },
  {
   "cell_type": "code",
   "execution_count": null,
   "metadata": {},
   "outputs": [],
   "source": []
  }
 ],
 "metadata": {
  "kernelspec": {
   "display_name": "Python 3",
   "language": "python",
   "name": "python3"
  },
  "language_info": {
   "codemirror_mode": {
    "name": "ipython",
    "version": 3
   },
   "file_extension": ".py",
   "mimetype": "text/x-python",
   "name": "python",
   "nbconvert_exporter": "python",
   "pygments_lexer": "ipython3",
   "version": "3.8.5"
  }
 },
 "nbformat": 4,
 "nbformat_minor": 4
}
