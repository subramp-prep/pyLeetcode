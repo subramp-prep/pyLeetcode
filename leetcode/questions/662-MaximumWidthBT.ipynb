{
 "cells": [
  {
   "cell_type": "markdown",
   "metadata": {},
   "source": [
    "## Q662 Maximum Width of Binary Tree\n",
    "\n",
    "Given a binary tree, write a function to get the maximum width of the given tree. The width of a tree is the maximum width among all levels. The binary tree has the same structure as a full binary tree, but some nodes are null.\n",
    "\n",
    "The width of one level is defined as the length between the end-nodes (the leftmost and right most non-null nodes in the level, where the null nodes between the end-nodes are also counted into the length calculation.\n",
    "\n",
    "Example 1:\n",
    "\n",
    "Input: \n",
    "```\n",
    "           1\n",
    "         /   \\\n",
    "        3     2\n",
    "       / \\     \\  \n",
    "      5   3     9 \n",
    "```\n",
    "Output: 4\n",
    "Explanation: The maximum width existing in the third level with the length 4 (5,3,null,9).\n",
    "Example 2:\n",
    "\n",
    "Input: \n",
    "```\n",
    "          1\n",
    "         /  \n",
    "        3    \n",
    "       / \\       \n",
    "      5   3     \n",
    "```\n",
    "Output: 2\n",
    "Explanation: The maximum width existing in the third level with the length 2 (5,3).\n",
    "Example 3:\n",
    "\n",
    "Input: \n",
    "```\n",
    "          1\n",
    "         / \\\n",
    "        3   2 \n",
    "       /        \n",
    "      5      \n",
    "```\n",
    "Output: 2\n",
    "Explanation: The maximum width existing in the second level with the length 2 (3,2).\n",
    "Example 4:\n",
    "\n",
    "Input: \n",
    "```\n",
    "          1\n",
    "         / \\\n",
    "        3   2\n",
    "       /     \\  \n",
    "      5       9 \n",
    "     /         \\\n",
    "    6           7\n",
    "```\n",
    "Output: 8\n",
    "Explanation:The maximum width existing in the fourth level with the length 8 (6,null,null,null,null,null,null,7).\n",
    "\n",
    "\n",
    "Note: Answer will in the range of 32-bit signed integer."
   ]
  },
  {
   "cell_type": "code",
   "execution_count": 1,
   "metadata": {},
   "outputs": [],
   "source": [
    "class TreeNode:\n",
    "    def __init__(self, val, left=None, right=None):\n",
    "        self.val = val\n",
    "        self.left = left\n",
    "        self.right = right\n",
    "\n",
    "def widthOfBinaryTree(root):\n",
    "\n",
    "    maps = {}\n",
    "\n",
    "    def helper(head, level, axis):\n",
    "        if head:\n",
    "            maps[level] = maps.setdefault(level, []) + [axis]\n",
    "            \n",
    "            helper(head.left, level+1, axis*2) # KEY to the width\n",
    "            helper(head.right, level+1, axis*2+1)\n",
    "\n",
    "    helper(root, 0, 0)\n",
    "    maxwidth = float('-inf')\n",
    "    result = 0\n",
    "    for k, v in maps.items():\n",
    "        l = min(v)\n",
    "        r = max(v)\n",
    "        result = max(result, r-l+1) #calculation to the width\n",
    "\n",
    "    return result"
   ]
  },
  {
   "cell_type": "code",
   "execution_count": 2,
   "metadata": {},
   "outputs": [
    {
     "name": "stdout",
     "output_type": "stream",
     "text": [
      "8\n"
     ]
    }
   ],
   "source": [
    "root = TreeNode(1, TreeNode(3, TreeNode(5, TreeNode(6))), TreeNode(2, None, TreeNode(9, None, TreeNode(7))))\n",
    "print(widthOfBinaryTree(root))"
   ]
  }
 ],
 "metadata": {
  "kernelspec": {
   "display_name": "Python 3",
   "language": "python",
   "name": "python3"
  },
  "language_info": {
   "codemirror_mode": {
    "name": "ipython",
    "version": 3
   },
   "file_extension": ".py",
   "mimetype": "text/x-python",
   "name": "python",
   "nbconvert_exporter": "python",
   "pygments_lexer": "ipython3",
   "version": "3.7.6"
  }
 },
 "nbformat": 4,
 "nbformat_minor": 4
}
