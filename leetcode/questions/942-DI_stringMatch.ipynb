{
 "cells": [
  {
   "cell_type": "markdown",
   "metadata": {},
   "source": [
    "Given a string S that only contains \"I\" (increase) or \"D\" (decrease), let N = S.length.\n",
    "\n",
    "Return any permutation A of [0, 1, ..., N] such that for all i = 0, ..., N-1:\n",
    "\n",
    "If S[i] == \"I\", then A[i] < A[i+1]\n",
    "If S[i] == \"D\", then A[i] > A[i+1]\n",
    " \n",
    "\n",
    "Example 1:\n",
    "```\n",
    "Input: \"IDID\"\n",
    "Output: [0,4,1,3,2]\n",
    "```\n",
    "Example 2:\n",
    "```\n",
    "Input: \"III\"\n",
    "Output: [0,1,2,3]\n",
    "```\n",
    "Example 3:\n",
    "```\n",
    "Input: \"DDI\"\n",
    "Output: [3,2,0,1]\n",
    "```\n",
    "Note:\n",
    "\n",
    "1 <= S.length <= 10000\n",
    "S only contains characters \"I\" or \"D\"."
   ]
  },
  {
   "cell_type": "code",
   "execution_count": 1,
   "metadata": {},
   "outputs": [],
   "source": [
    "def diStringMatch(S):\n",
    "    N = len(S)\n",
    "    i, left, right = 0, 0, N\n",
    "    output = []\n",
    "    \n",
    "    while i < N:\n",
    "        if S[i] == 'I':\n",
    "            output.append(left)\n",
    "            left += 1\n",
    "            \n",
    "        elif S[i] == 'D':\n",
    "            output.append(right)\n",
    "            right -= 1\n",
    "            \n",
    "        i += 1\n",
    "        \n",
    "    output.append(left)\n",
    "        \n",
    "    return output"
   ]
  },
  {
   "cell_type": "code",
   "execution_count": 2,
   "metadata": {},
   "outputs": [
    {
     "name": "stdout",
     "output_type": "stream",
     "text": [
      "[3, 2, 0, 1]\n"
     ]
    }
   ],
   "source": [
    "print(diStringMatch('DDI'))"
   ]
  },
  {
   "cell_type": "code",
   "execution_count": 3,
   "metadata": {},
   "outputs": [
    {
     "name": "stdout",
     "output_type": "stream",
     "text": [
      "[0, 4, 1, 3, 2]\n"
     ]
    }
   ],
   "source": [
    "print(diStringMatch('IDID'))"
   ]
  }
 ],
 "metadata": {
  "kernelspec": {
   "display_name": "Python 3",
   "language": "python",
   "name": "python3"
  },
  "language_info": {
   "codemirror_mode": {
    "name": "ipython",
    "version": 3
   },
   "file_extension": ".py",
   "mimetype": "text/x-python",
   "name": "python",
   "nbconvert_exporter": "python",
   "pygments_lexer": "ipython3",
   "version": "3.7.1"
  }
 },
 "nbformat": 4,
 "nbformat_minor": 2
}
