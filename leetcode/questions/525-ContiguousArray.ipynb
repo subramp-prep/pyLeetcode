{
 "cells": [
  {
   "cell_type": "markdown",
   "metadata": {},
   "source": [
    "## 525 Contiguous Array\n",
    "\n",
    "Given a binary array, find the maximum length of a contiguous subarray with equal number of 0 and 1.\n",
    "\n",
    "Example 1:\n",
    "```\n",
    "Input: [0,1]\n",
    "Output: 2\n",
    "```\n",
    "Explanation: [0, 1] is the longest contiguous subarray with equal number of 0 and 1.\n",
    "\n",
    "Example 2:\n",
    "```\n",
    "Input: [0,1,0]\n",
    "Output: 2\n",
    "```\n",
    "Explanation: [0, 1] (or [1, 0]) is a longest contiguous subarray with equal number of 0 and 1.\n",
    "Note: The length of the given binary array will not exceed 50,000."
   ]
  },
  {
   "cell_type": "code",
   "execution_count": 7,
   "metadata": {},
   "outputs": [],
   "source": [
    "def contiguousArray(nums):\n",
    "    maxlen = ones = zeroes = 0\n",
    "    maps = {}\n",
    "    maps[0] = -1\n",
    "    \n",
    "    for i in range(len(nums)):\n",
    "        if nums[i] == 0:\n",
    "            zeroes += 1\n",
    "            \n",
    "        else:\n",
    "            ones += 1\n",
    "            \n",
    "        diff = zeroes - ones\n",
    "        if diff in maps:\n",
    "            maxlen = max(maxlen, i - maps[diff])\n",
    "        else:\n",
    "            maps[diff] = i\n",
    "            \n",
    "    return maxlen"
   ]
  },
  {
   "cell_type": "code",
   "execution_count": 8,
   "metadata": {},
   "outputs": [
    {
     "name": "stdout",
     "output_type": "stream",
     "text": [
      "2\n"
     ]
    }
   ],
   "source": [
    "print(contiguousArray([0,1]))"
   ]
  },
  {
   "cell_type": "code",
   "execution_count": 9,
   "metadata": {},
   "outputs": [
    {
     "name": "stdout",
     "output_type": "stream",
     "text": [
      "2\n"
     ]
    }
   ],
   "source": [
    "print(contiguousArray([0,1,0]))"
   ]
  },
  {
   "cell_type": "code",
   "execution_count": null,
   "metadata": {},
   "outputs": [],
   "source": []
  }
 ],
 "metadata": {
  "kernelspec": {
   "display_name": "Python 3",
   "language": "python",
   "name": "python3"
  },
  "language_info": {
   "codemirror_mode": {
    "name": "ipython",
    "version": 3
   },
   "file_extension": ".py",
   "mimetype": "text/x-python",
   "name": "python",
   "nbconvert_exporter": "python",
   "pygments_lexer": "ipython3",
   "version": "3.7.6"
  }
 },
 "nbformat": 4,
 "nbformat_minor": 4
}
