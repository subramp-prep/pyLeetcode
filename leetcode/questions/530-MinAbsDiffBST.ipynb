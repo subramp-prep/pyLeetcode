{
 "cells": [
  {
   "cell_type": "markdown",
   "metadata": {},
   "source": [
    "## 530 - Minimum Absolute Difference in BST\n",
    "\n",
    "Given a binary search tree with non-negative values, find the minimum absolute difference between values of any two nodes.\n",
    "\n",
    "Example:\n",
    "\n",
    "Input:\n",
    "```\n",
    "   1\n",
    "    \\\n",
    "     3\n",
    "    /\n",
    "   2\n",
    "```\n",
    "Output:\n",
    "1\n",
    "\n",
    "Explanation:\n",
    "The minimum absolute difference is 1, which is the difference between 2 and 1 (or between 2 and 3).\n",
    " \n",
    "\n",
    "Note: There are at least two nodes in this BST."
   ]
  },
  {
   "cell_type": "code",
   "execution_count": 11,
   "metadata": {},
   "outputs": [],
   "source": [
    "class TreeNode:\n",
    "    def __init__(self, val, left=None, right=None):\n",
    "        self.val = val\n",
    "        self.left = left\n",
    "        self.right = right\n",
    "\n",
    "def buildTree(nums, index, root):\n",
    "    if index < len(nums) and nums[index]:\n",
    "        root = TreeNode(nums[index])\n",
    "        root.left = buildTree(nums, 2*index+1, root.left)\n",
    "        root.right = buildTree(nums, 2*index+2, root.right)\n",
    "    \n",
    "    return root\n",
    "\n",
    "res = float('inf')\n",
    "prev = float('-inf')\n",
    "\n",
    "def getMinimumDifference(root):\n",
    "    if root is None:\n",
    "        return 0\n",
    "    \n",
    "    getMinimumDifference(root.left)\n",
    "    \n",
    "    global res\n",
    "    global prev\n",
    "    \n",
    "    res = min(res, root.val-prev)\n",
    "    prev = root.val\n",
    "    \n",
    "    getMinimumDifference(root.right)\n",
    "    \n",
    "    return res"
   ]
  },
  {
   "cell_type": "code",
   "execution_count": 12,
   "metadata": {},
   "outputs": [
    {
     "name": "stdout",
     "output_type": "stream",
     "text": [
      "1\n"
     ]
    }
   ],
   "source": [
    "print(getMinimumDifference(buildTree([1, None, 3, None, None, 2], 0, None)))"
   ]
  }
 ],
 "metadata": {
  "kernelspec": {
   "display_name": "Python 3",
   "language": "python",
   "name": "python3"
  },
  "language_info": {
   "codemirror_mode": {
    "name": "ipython",
    "version": 3
   },
   "file_extension": ".py",
   "mimetype": "text/x-python",
   "name": "python",
   "nbconvert_exporter": "python",
   "pygments_lexer": "ipython3",
   "version": "3.7.1"
  }
 },
 "nbformat": 4,
 "nbformat_minor": 2
}
