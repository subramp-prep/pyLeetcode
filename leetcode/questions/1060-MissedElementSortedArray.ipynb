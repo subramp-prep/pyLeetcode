{
 "cells": [
  {
   "cell_type": "markdown",
   "metadata": {},
   "source": [
    "## 1060. Missing Element in Sorted Array\n",
    "\n",
    "Given a sorted array A of unique numbers, find the K-th missing number starting from the leftmost number of the array.\n",
    "\n",
    " \n",
    "\n",
    "Example 1:\n",
    "```\n",
    "Input: A = [4,7,9,10], K = 1\n",
    "Output: 5\n",
    "```\n",
    "Explanation: \n",
    "The first missing number is 5.\n",
    "Example 2:\n",
    "```\n",
    "Input: A = [4,7,9,10], K = 3\n",
    "Output: 8\n",
    "```\n",
    "Explanation: \n",
    "The missing numbers are [5,6,8,...], hence the third missing number is 8.\n",
    "Example 3:\n",
    "```\n",
    "Input: A = [1,2,4], K = 3\n",
    "Output: 6\n",
    "```\n",
    "Explanation: \n",
    "The missing numbers are [3,5,6,7,...], hence the third missing number is 6.\n",
    " \n",
    "\n",
    "Note:\n",
    "```\n",
    "1 <= A.length <= 50000\n",
    "1 <= A[i] <= 1e7\n",
    "1 <= K <= 1e8\n",
    "```"
   ]
  },
  {
   "cell_type": "code",
   "execution_count": 12,
   "metadata": {},
   "outputs": [],
   "source": [
    "def missingElement(nums, k):\n",
    "    \n",
    "    def missedElementCount(index):\n",
    "        # Example [4,7,9,10] index = 2 missed elements\n",
    "        # 5,6,8\n",
    "        return nums[index] - nums[0] - index \n",
    "    \n",
    "    N = len(nums)\n",
    "    \n",
    "    if k > missedElementCount(N-1):\n",
    "        return nums[-1] + k - missedElementCount(N-1)\n",
    "    \n",
    "    l, h = 0, N-1\n",
    "    while l < h:\n",
    "        pivot = l + (h-l)//2\n",
    "        \n",
    "        p = missedElementCount(pivot)\n",
    "        if p < k:\n",
    "            l = pivot +1\n",
    "        else:\n",
    "            h = pivot\n",
    "            \n",
    "    return nums[l-1] + k - missedElementCount(l-1)"
   ]
  },
  {
   "cell_type": "code",
   "execution_count": 13,
   "metadata": {},
   "outputs": [
    {
     "name": "stdout",
     "output_type": "stream",
     "text": [
      "5\n"
     ]
    }
   ],
   "source": [
    "print(missingElement([4,7,9,10], 1))"
   ]
  },
  {
   "cell_type": "code",
   "execution_count": 14,
   "metadata": {},
   "outputs": [
    {
     "name": "stdout",
     "output_type": "stream",
     "text": [
      "21\n"
     ]
    }
   ],
   "source": [
    "print(missingElement([4,7,9,100], 15))"
   ]
  },
  {
   "cell_type": "code",
   "execution_count": null,
   "metadata": {},
   "outputs": [],
   "source": []
  }
 ],
 "metadata": {
  "kernelspec": {
   "display_name": "Python 3",
   "language": "python",
   "name": "python3"
  },
  "language_info": {
   "codemirror_mode": {
    "name": "ipython",
    "version": 3
   },
   "file_extension": ".py",
   "mimetype": "text/x-python",
   "name": "python",
   "nbconvert_exporter": "python",
   "pygments_lexer": "ipython3",
   "version": "3.7.6"
  }
 },
 "nbformat": 4,
 "nbformat_minor": 4
}
