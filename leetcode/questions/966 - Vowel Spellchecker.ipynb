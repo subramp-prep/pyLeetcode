{
 "cells": [
  {
   "cell_type": "markdown",
   "metadata": {},
   "source": [
    "## 966 - Vowel Spellchecker\n",
    "\n",
    "Given a wordlist, we want to implement a spellchecker that converts a query word into a correct word.\n",
    "\n",
    "For a given query word, the spell checker handles two categories of spelling mistakes:\n",
    "\n",
    "Capitalization: If the query matches a word in the wordlist (case-insensitive), then the query word is returned with the same case as the case in the wordlist.\n",
    "Example: wordlist = [\"yellow\"], query = \"YellOw\": correct = \"yellow\"\n",
    "Example: wordlist = [\"Yellow\"], query = \"yellow\": correct = \"Yellow\"\n",
    "Example: wordlist = [\"yellow\"], query = \"yellow\": correct = \"yellow\"\n",
    "Vowel Errors: If after replacing the vowels ('a', 'e', 'i', 'o', 'u') of the query word with any vowel individually, it matches a word in the wordlist (case-insensitive), then the query word is returned with the same case as the match in the wordlist.\n",
    "Example: \n",
    "```\n",
    "wordlist = [\"YellOw\"], query = \"yollow\": correct = \"YellOw\"\n",
    "```\n",
    "Example: \n",
    "```\n",
    "wordlist = [\"YellOw\"], query = \"yeellow\": correct = \"\" (no match)\n",
    "```\n",
    "Example: \n",
    "```\n",
    "wordlist = [\"YellOw\"], query = \"yllw\": correct = \"\" (no match)\n",
    "```\n",
    "In addition, the spell checker operates under the following precedence rules:\n",
    "\n",
    "When the query exactly matches a word in the wordlist (case-sensitive), you should return the same word back.\n",
    "When the query matches a word up to capitlization, you should return the first such match in the wordlist.\n",
    "When the query matches a word up to vowel errors, you should return the first such match in the wordlist.\n",
    "If the query has no matches in the wordlist, you should return the empty string.\n",
    "Given some queries, return a list of words answer, where answer[i] is the correct word for query = queries[i].\n",
    "\n",
    " \n",
    "\n",
    "Example 1:\n",
    "```\n",
    "Input: wordlist = [\"KiTe\",\"kite\",\"hare\",\"Hare\"], queries = [\"kite\",\"Kite\",\"KiTe\",\"Hare\",\"HARE\",\"Hear\",\"hear\",\"keti\",\"keet\",\"keto\"]\n",
    "Output: [\"kite\",\"KiTe\",\"KiTe\",\"Hare\",\"hare\",\"\",\"\",\"KiTe\",\"\",\"KiTe\"]\n",
    "``` \n",
    "\n",
    "Note:\n",
    "\n",
    "1 <= wordlist.length <= 5000\n",
    "1 <= queries.length <= 5000\n",
    "1 <= wordlist[i].length <= 7\n",
    "1 <= queries[i].length <= 7\n",
    "All strings in wordlist and queries consist only of english letters."
   ]
  },
  {
   "cell_type": "code",
   "execution_count": 9,
   "metadata": {},
   "outputs": [],
   "source": [
    "def spellChecker(wordlist, queries):\n",
    "    \n",
    "    def removeVowel(word):\n",
    "        return ''.join('*' if c in 'aeiou' else c for c in word)\n",
    "    \n",
    "    ## set the stage up\n",
    "    words_perfect = set(wordlist) # as is\n",
    "    words_lower = {} # convert word to lower\n",
    "    words_vowelRemoved = {} # replace vowels and store in hashmap\n",
    "    \n",
    "    for word in wordlist:\n",
    "        wordLower = word.lower()\n",
    "        words_lower.setdefault(wordLower, word)\n",
    "        words_vowelRemoved.setdefault(removeVowel(wordLower), word)\n",
    "        \n",
    "    output = []\n",
    "    \n",
    "    for query in queries:\n",
    "        qLower = query.lower()\n",
    "        rmLower = removeVowel(qLower)\n",
    "        \n",
    "        # check for exact mactch\n",
    "        if query in words_perfect:\n",
    "            output.append(query)           \n",
    "        \n",
    "        # check for lower-case occurence\n",
    "        elif qLower in words_lower:\n",
    "            output.append(words_lower[qLower])\n",
    "        \n",
    "        # check for devowel occurence\n",
    "        elif rmLower in words_vowelRemoved:\n",
    "            output.append(words_vowelRemoved[rmLower])\n",
    "        else:\n",
    "            output.append('')\n",
    "        \n",
    "    return output\n",
    "                        "
   ]
  },
  {
   "cell_type": "code",
   "execution_count": 10,
   "metadata": {},
   "outputs": [
    {
     "name": "stdout",
     "output_type": "stream",
     "text": [
      "['YellOw']\n"
     ]
    }
   ],
   "source": [
    "print(spellChecker([\"YellOw\"], [\"yollow\"]))"
   ]
  },
  {
   "cell_type": "code",
   "execution_count": 11,
   "metadata": {},
   "outputs": [
    {
     "name": "stdout",
     "output_type": "stream",
     "text": [
      "['kite', 'KiTe', 'KiTe', 'Hare', 'hare', '', '', 'KiTe', '', 'KiTe']\n"
     ]
    }
   ],
   "source": [
    "print(spellChecker([\"KiTe\",\"kite\",\"hare\",\"Hare\"], [\"kite\",\"Kite\",\"KiTe\",\"Hare\",\"HARE\",\"Hear\",\"hear\",\"keti\",\"keet\",\"keto\"]))"
   ]
  },
  {
   "cell_type": "code",
   "execution_count": null,
   "metadata": {},
   "outputs": [],
   "source": []
  }
 ],
 "metadata": {
  "kernelspec": {
   "display_name": "Python 3",
   "language": "python",
   "name": "python3"
  },
  "language_info": {
   "codemirror_mode": {
    "name": "ipython",
    "version": 3
   },
   "file_extension": ".py",
   "mimetype": "text/x-python",
   "name": "python",
   "nbconvert_exporter": "python",
   "pygments_lexer": "ipython3",
   "version": "3.7.1"
  }
 },
 "nbformat": 4,
 "nbformat_minor": 2
}
