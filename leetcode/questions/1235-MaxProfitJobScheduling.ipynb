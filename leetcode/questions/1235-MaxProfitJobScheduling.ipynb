{
 "cells": [
  {
   "cell_type": "markdown",
   "metadata": {},
   "source": [
    "## Q1235 Maximum Profit in Job Scheduling\n",
    "\n",
    "We have n jobs, where every job is scheduled to be done from startTime[i] to endTime[i], obtaining a profit of profit[i].\n",
    "\n",
    "You're given the startTime , endTime and profit arrays, you need to output the maximum profit you can take such that there are no 2 jobs in the subset with overlapping time range.\n",
    "\n",
    "If you choose a job that ends at time X you will be able to start another job that starts at time X.\n",
    "\n",
    " \n",
    "\n",
    "Example 1:\n",
    "```\n",
    "Input: startTime = [1,2,3,3], endTime = [3,4,5,6], profit = [50,10,40,70]\n",
    "Output: 120\n",
    "```\n",
    "Explanation: The subset chosen is the first and fourth job. \n",
    "Time range [1-3]+[3-6] , we get profit of 120 = 50 + 70.\n",
    "Example 2:\n",
    "```\n",
    "Input: startTime = [1,2,3,4,6], endTime = [3,5,10,6,9], profit = [20,20,100,70,60]\n",
    "Output: 150\n",
    "```\n",
    "Explanation: The subset chosen is the first, fourth and fifth job. \n",
    "Profit obtained 150 = 20 + 70 + 60.\n",
    "Example 3:\n",
    "```\n",
    "Input: startTime = [1,1,1], endTime = [2,3,4], profit = [5,6,4]\n",
    "Output: 6\n",
    "```\n",
    "Constraints:\n",
    "\n",
    "1 <= startTime.length == endTime.length == profit.length <= 5 * 10^4\n",
    "1 <= startTime[i] < endTime[i] <= 10^9\n",
    "1 <= profit[i] <= 10^4"
   ]
  },
  {
   "cell_type": "code",
   "execution_count": 14,
   "metadata": {},
   "outputs": [],
   "source": [
    "import bisect\n",
    "\n",
    "def jobScheduling(startTime, endTime, profit):\n",
    "    # sort by endtime\n",
    "    jobs = sorted(zip(startTime, endTime, profit), key=lambda x: x[1])\n",
    "    dp = [[0,0]]\n",
    "    \n",
    "    for start, end, profit in jobs:\n",
    "        index = bisect.bisect(dp, [start+1]) - 1\n",
    "        \n",
    "        if dp[index][1] + profit > dp[-1][1]:\n",
    "            dp.append([end, dp[index][1] +profit])\n",
    "            \n",
    "    return dp[-1][1]\n",
    "    "
   ]
  },
  {
   "cell_type": "code",
   "execution_count": 15,
   "metadata": {},
   "outputs": [
    {
     "name": "stdout",
     "output_type": "stream",
     "text": [
      "120\n"
     ]
    }
   ],
   "source": [
    "startTime = [1,2,3,3]\n",
    "endTime = [3,4,5,6]\n",
    "profit = [50,10,40,70]\n",
    "\n",
    "print(jobScheduling(startTime, endTime, profit))"
   ]
  },
  {
   "cell_type": "markdown",
   "metadata": {},
   "source": [
    "Learned a few concepts\n",
    "\n",
    "https://leetcode.com/problems/maximum-profit-in-job-scheduling/discuss/409009/JavaC%2B%2BPython-DP-Solution"
   ]
  }
 ],
 "metadata": {
  "kernelspec": {
   "display_name": "Python 3",
   "language": "python",
   "name": "python3"
  },
  "language_info": {
   "codemirror_mode": {
    "name": "ipython",
    "version": 3
   },
   "file_extension": ".py",
   "mimetype": "text/x-python",
   "name": "python",
   "nbconvert_exporter": "python",
   "pygments_lexer": "ipython3",
   "version": "3.7.6"
  }
 },
 "nbformat": 4,
 "nbformat_minor": 4
}
