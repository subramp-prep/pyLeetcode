{
 "cells": [
  {
   "cell_type": "markdown",
   "metadata": {},
   "source": [
    "## 572-SubtreeOfAnotherTree\n",
    "\n",
    "Given two non-empty binary trees s and t, check whether tree t has exactly the same structure and node values with a subtree of s. A subtree of s is a tree consists of a node in s and all of this node's descendants. The tree s could also be considered as a subtree of itself.\n",
    "\n",
    "Example 1:\n",
    "Given tree s:\n",
    "```\n",
    "\n",
    "     3\n",
    "    / \\\n",
    "   4   5\n",
    "  / \\\n",
    " 1   2\n",
    "```\n",
    "\n",
    "Given tree t:\n",
    "```\n",
    "   4 \n",
    "  / \\\n",
    " 1   2\n",
    "```\n",
    "Return true, because t has the same structure and node values with a subtree of s.\n",
    "Example 2:\n",
    "Given tree s:\n",
    "```\n",
    "     3\n",
    "    / \\\n",
    "   4   5\n",
    "  / \\\n",
    " 1   2\n",
    "    /\n",
    "   0\n",
    "```\n",
    "Given tree t:\n",
    "```\n",
    "   4\n",
    "  / \\\n",
    " 1   2\n",
    "```\n",
    "Return false."
   ]
  },
  {
   "cell_type": "code",
   "execution_count": 8,
   "metadata": {},
   "outputs": [],
   "source": [
    "class TreeNode:\n",
    "    def __init__(self, val, left=None, right=None):\n",
    "        self.val = val\n",
    "        self.left = left\n",
    "        self.right = right\n",
    "\n",
    "def isSubTree(s, t):\n",
    "\n",
    "    def checkSubTreeMatch(s1, t1):\n",
    "\n",
    "        if not s1 and not t1:\n",
    "            return True\n",
    "\n",
    "        return (s1 != None and t1 != None) and \\\n",
    "            (s1.val == t1.val) and  \\\n",
    "            checkSubTreeMatch(s1.left, t1.left) and \\\n",
    "            checkSubTreeMatch(s1.right, t1.right)\n",
    "    \n",
    "    if checkSubTreeMatch(s, t):\n",
    "        return True\n",
    "\n",
    "    if not s:\n",
    "        return False\n",
    "\n",
    "    return isSubTree(s.left, t) or isSubTree(s.right, t)"
   ]
  },
  {
   "cell_type": "code",
   "execution_count": 9,
   "metadata": {},
   "outputs": [
    {
     "name": "stdout",
     "output_type": "stream",
     "text": [
      "True\n"
     ]
    }
   ],
   "source": [
    "s = TreeNode(3, TreeNode(4, TreeNode(1), TreeNode(2)), TreeNode(5))\n",
    "t = TreeNode(4, TreeNode(1), TreeNode(2))\n",
    "\n",
    "print(isSubTree(s,t))"
   ]
  },
  {
   "cell_type": "code",
   "execution_count": 10,
   "metadata": {},
   "outputs": [
    {
     "name": "stdout",
     "output_type": "stream",
     "text": [
      "False\n"
     ]
    }
   ],
   "source": [
    "s = TreeNode(3, TreeNode(4, TreeNode(1), TreeNode(2, TreeNode(0))), TreeNode(5))\n",
    "t = TreeNode(4, TreeNode(1), TreeNode(2))\n",
    "\n",
    "print(isSubTree(s,t))"
   ]
  },
  {
   "cell_type": "code",
   "execution_count": null,
   "metadata": {},
   "outputs": [],
   "source": []
  }
 ],
 "metadata": {
  "kernelspec": {
   "display_name": "Python 3",
   "language": "python",
   "name": "python3"
  },
  "language_info": {
   "codemirror_mode": {
    "name": "ipython",
    "version": 3
   },
   "file_extension": ".py",
   "mimetype": "text/x-python",
   "name": "python",
   "nbconvert_exporter": "python",
   "pygments_lexer": "ipython3",
   "version": "3.7.6"
  }
 },
 "nbformat": 4,
 "nbformat_minor": 2
}
