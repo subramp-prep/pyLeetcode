{
 "cells": [
  {
   "cell_type": "markdown",
   "metadata": {},
   "source": [
    "## 852 Peak index in a mountain\n",
    "\n",
    "Let's call an array A a mountain if the following properties hold:\n",
    "\n",
    "A.length >= 3\n",
    "There exists some 0 < i < A.length - 1 such that A[0] < A[1] < ... A[i-1] < A[i] > A[i+1] > ... > A[A.length - 1]\n",
    "Given an array that is definitely a mountain, return any i such that A[0] < A[1] < ... A[i-1] < A[i] > A[i+1] > ... > A[A.length - 1].\n",
    "\n",
    "Example 1:\n",
    "```\n",
    "Input: [0,1,0]\n",
    "Output: 1\n",
    "```\n",
    "Example 2:\n",
    "```\n",
    "Input: [0,2,1,0]\n",
    "Output: 1\n",
    "```\n",
    "Note:\n",
    "\n",
    "3 <= A.length <= 10000\n",
    "0 <= A[i] <= 10^6\n",
    "A is a mountain, as defined above."
   ]
  },
  {
   "cell_type": "markdown",
   "metadata": {},
   "source": [
    "## Brilliantly optimized"
   ]
  },
  {
   "cell_type": "code",
   "execution_count": 1,
   "metadata": {},
   "outputs": [],
   "source": [
    "def peakIndexInMountainArray(nums):\n",
    "\n",
    "    for i in range(1, len(nums)-1):\n",
    "        if nums[i-1] < nums[i] > nums[i+1]:\n",
    "            return i\n",
    "\n",
    "    return -1"
   ]
  },
  {
   "cell_type": "code",
   "execution_count": 2,
   "metadata": {},
   "outputs": [
    {
     "name": "stdout",
     "output_type": "stream",
     "text": [
      "1\n"
     ]
    }
   ],
   "source": [
    "print(peakIndexInMountainArray([0,1,0]))"
   ]
  },
  {
   "cell_type": "code",
   "execution_count": 3,
   "metadata": {},
   "outputs": [
    {
     "name": "stdout",
     "output_type": "stream",
     "text": [
      "1\n"
     ]
    }
   ],
   "source": [
    "print(peakIndexInMountainArray([0,2,1,0]))"
   ]
  },
  {
   "cell_type": "markdown",
   "metadata": {},
   "source": [
    "## Not so optimized"
   ]
  },
  {
   "cell_type": "code",
   "execution_count": null,
   "metadata": {},
   "outputs": [],
   "source": [
    "   def peakIndexInMountainArray(self, nums: List[int]) -> int:\n",
    "        \n",
    "        if len(nums) < 3:\n",
    "            return -1\n",
    "        \n",
    "        lr = 0\n",
    "        lrm = [0] * len(nums)\n",
    "        \n",
    "        for i in range(len(nums)):\n",
    "            lr = max(lr, nums[i])    \n",
    "            lrm[i] = lr\n",
    "        \n",
    "        rl = 0\n",
    "        rlm = [0] * len(nums)\n",
    "        \n",
    "        for i in range(len(nums)-1, -1, -1):\n",
    "            rl = max(rl, nums[i])\n",
    "            rlm[i] = rl\n",
    "            \n",
    "        for i in range(len(nums)):\n",
    "            if lrm[i] == rlm:\n",
    "                return i\n",
    "            \n",
    "        return -1"
   ]
  }
 ],
 "metadata": {
  "kernelspec": {
   "display_name": "Python 3",
   "language": "python",
   "name": "python3"
  },
  "language_info": {
   "codemirror_mode": {
    "name": "ipython",
    "version": 3
   },
   "file_extension": ".py",
   "mimetype": "text/x-python",
   "name": "python",
   "nbconvert_exporter": "python",
   "pygments_lexer": "ipython3",
   "version": "3.7.6"
  }
 },
 "nbformat": 4,
 "nbformat_minor": 4
}
