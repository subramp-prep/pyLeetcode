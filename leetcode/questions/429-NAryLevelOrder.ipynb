{
 "cells": [
  {
   "cell_type": "markdown",
   "metadata": {},
   "source": [
    "Given an n-ary tree, return the level order traversal of its nodes' values. (ie, from left to right, level by level).\n",
    "\n",
    "For example, given a 3-ary tree:\n",
    "\n",
    "![nAry](img/narytreeexample.png)\n",
    "\n",
    "We should return its level order traversal:\n",
    "\n",
    "```\n",
    "[\n",
    "     [1],\n",
    "     [3,2,4],\n",
    "     [5,6]\n",
    "]\n",
    "```\n",
    "\n",
    "Note:\n",
    "\n",
    "The depth of the tree is at most 1000.\n",
    "The total number of nodes is at most 5000."
   ]
  },
  {
   "cell_type": "code",
   "execution_count": 1,
   "metadata": {},
   "outputs": [],
   "source": [
    "class NAry:\n",
    "    def __init__(self, val, children=None):\n",
    "        self.val = val\n",
    "        self.children = children\n",
    "        \n",
    "def levelOrder(root):\n",
    "    \n",
    "    levels = []\n",
    "    \n",
    "    def helper(head, depth):\n",
    "        if head:\n",
    "            \n",
    "            if depth+1 > len(levels):\n",
    "                levels.append([])\n",
    "                \n",
    "            levels[depth].append(head.val)\n",
    "            \n",
    "            if head.children:\n",
    "                for c in head.children:\n",
    "                    helper(c, depth+1)\n",
    "                    \n",
    "    helper(root, 0)\n",
    "    return levels                "
   ]
  },
  {
   "cell_type": "code",
   "execution_count": 3,
   "metadata": {},
   "outputs": [
    {
     "data": {
      "text/plain": [
       "[[1], [3, 2, 4], [5, 6]]"
      ]
     },
     "execution_count": 3,
     "metadata": {},
     "output_type": "execute_result"
    }
   ],
   "source": [
    "root = NAry(1, [NAry(3, [NAry(5), NAry(6)]), NAry(2), NAry(4)])\n",
    "levelOrder(root)"
   ]
  }
 ],
 "metadata": {
  "kernelspec": {
   "display_name": "Python 3",
   "language": "python",
   "name": "python3"
  },
  "language_info": {
   "codemirror_mode": {
    "name": "ipython",
    "version": 3
   },
   "file_extension": ".py",
   "mimetype": "text/x-python",
   "name": "python",
   "nbconvert_exporter": "python",
   "pygments_lexer": "ipython3",
   "version": "3.7.1"
  }
 },
 "nbformat": 4,
 "nbformat_minor": 2
}
