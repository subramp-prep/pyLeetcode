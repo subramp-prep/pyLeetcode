{
 "cells": [
  {
   "cell_type": "markdown",
   "metadata": {},
   "source": [
    "Given a set of candidate numbers (candidates) (without duplicates) and a target number (target), find all unique combinations in candidates where the candidate numbers sums to target.\n",
    "\n",
    "The same repeated number may be chosen from candidates unlimited number of times.\n",
    "\n",
    "Note:\n",
    "\n",
    "All numbers (including target) will be positive integers.\n",
    "The solution set must not contain duplicate combinations.\n",
    "\n",
    "**Example 1:**\n",
    "\n",
    "Input: candidates = [2,3,6,7], target = 7,\n",
    "A solution set is:\n",
    "```\n",
    "[\n",
    "  [7],\n",
    "  [2,2,3]\n",
    "]\n",
    "```\n",
    "\n",
    "**Example 2:**\n",
    "\n",
    "Input: candidates = [2,3,5], target = 8,\n",
    "A solution set is:\n",
    "```\n",
    "[\n",
    "  [2,2,2,2],\n",
    "  [2,3,3],\n",
    "  [3,5]\n",
    "]\n",
    "```"
   ]
  },
  {
   "cell_type": "code",
   "execution_count": null,
   "metadata": {},
   "outputs": [],
   "source": [
    "def combinationSum(candidates, target):\n",
    "    \n",
    "    def helper(candidates, output, chosen, remain, startIndex):\n",
    "        if remain < 0:\n",
    "            return\n",
    "        elif remain == 0:\n",
    "            output.append(chosen.copy())\n",
    "        else:\n",
    "            for index in range(startIndex, len(candidates)):\n",
    "                chosen.append(candidates[index])\n",
    "                helper(candidates, output, chosen, remain - candidates[index], index )\n",
    "                chosen.pop()\n",
    "                \n",
    "    output, chosen = [], []\n",
    "    candidates = sorted(candidates)    \n",
    "    helper(candidates, output, chosen, target, 0)\n",
    "    \n",
    "    return output"
   ]
  },
  {
   "cell_type": "code",
   "execution_count": null,
   "metadata": {},
   "outputs": [],
   "source": [
    "print(combinationSum([2,3,6,7], 7))"
   ]
  },
  {
   "cell_type": "code",
   "execution_count": null,
   "metadata": {},
   "outputs": [],
   "source": [
    "print(combinationSum([2,3,5], 8))"
   ]
  },
  {
   "cell_type": "code",
   "execution_count": null,
   "metadata": {},
   "outputs": [],
   "source": []
  }
 ],
 "metadata": {
  "kernelspec": {
   "display_name": "Python 3",
   "language": "python",
   "name": "python3"
  },
  "language_info": {
   "codemirror_mode": {
    "name": "ipython",
    "version": 3
   },
   "file_extension": ".py",
   "mimetype": "text/x-python",
   "name": "python",
   "nbconvert_exporter": "python",
   "pygments_lexer": "ipython3",
   "version": "3.7.1"
  }
 },
 "nbformat": 4,
 "nbformat_minor": 2
}
