{
 "cells": [
  {
   "cell_type": "markdown",
   "metadata": {},
   "source": [
    "Merge two sorted linked lists and return it as a new list. The new list should be made by splicing together the nodes of the first two lists.\n",
    "\n",
    "Example:\n",
    "```\n",
    "Input: 1->2->4, 1->3->4\n",
    "Output: 1->1->2->3->4->4\n",
    "```"
   ]
  },
  {
   "cell_type": "code",
   "execution_count": 3,
   "metadata": {},
   "outputs": [],
   "source": [
    "class ListNode:\n",
    "    def __init__(self, val, next=None):\n",
    "        self.val = val\n",
    "        self.next = next\n",
    "\n",
    "def mergeSortedLists(l1, l2):\n",
    "    result = head = ListNode(0)\n",
    "\n",
    "    while l1 and l2:\n",
    "        if l1.val <= l2.val:\n",
    "            head.next = ListNode(l1.val)\n",
    "            l1 = l1.next\n",
    "        else:\n",
    "            head.next = ListNode(l2.val)\n",
    "            l2 = l2.next\n",
    "\n",
    "        head = head.next\n",
    "\n",
    "    while l1:\n",
    "        head.next = ListNode(l1.val)\n",
    "        head = head.next\n",
    "        l1 = l1.next\n",
    "\n",
    "    while l2:\n",
    "        head.next = ListNode(l2.val)\n",
    "        head = head.next\n",
    "        l2 = l2.next\n",
    "\n",
    "    return result.next\n",
    "\n",
    "def printList(root):\n",
    "    while root:\n",
    "        print(root.val, end=',')\n",
    "        root = root.next"
   ]
  },
  {
   "cell_type": "code",
   "execution_count": 4,
   "metadata": {},
   "outputs": [
    {
     "name": "stdout",
     "output_type": "stream",
     "text": [
      "1,1,2,3,4,4,9,"
     ]
    }
   ],
   "source": [
    "printList(mergeSortedLists(\n",
    "    ListNode(1, ListNode(2, ListNode(4))),\n",
    "    ListNode(1, ListNode(3, ListNode(4, ListNode(9)))),\n",
    "))"
   ]
  },
  {
   "cell_type": "markdown",
   "metadata": {},
   "source": [
    "## Very optimal solution"
   ]
  },
  {
   "cell_type": "code",
   "execution_count": 7,
   "metadata": {},
   "outputs": [],
   "source": [
    "def mergeSortedLists_Recur(l1, l2):\n",
    "    if l1 and l2:\n",
    "        if l1.val <= l2.val:\n",
    "            l1.next = mergeSortedLists_Recur(l1.next, l2)\n",
    "            return l1\n",
    "        else:\n",
    "            l2.next = mergeSortedLists_Recur(l1, l2.next)\n",
    "            return l2\n",
    "    elif l1:\n",
    "        return l1\n",
    "    else:\n",
    "        return l2"
   ]
  },
  {
   "cell_type": "code",
   "execution_count": 8,
   "metadata": {},
   "outputs": [
    {
     "name": "stdout",
     "output_type": "stream",
     "text": [
      "1,1,2,3,4,4,9,"
     ]
    }
   ],
   "source": [
    "printList(mergeSortedLists_Recur(\n",
    "    ListNode(1, ListNode(2, ListNode(4))),\n",
    "    ListNode(1, ListNode(3, ListNode(4, ListNode(9)))),\n",
    "))"
   ]
  },
  {
   "cell_type": "code",
   "execution_count": null,
   "metadata": {},
   "outputs": [],
   "source": []
  }
 ],
 "metadata": {
  "kernelspec": {
   "display_name": "Python 3",
   "language": "python",
   "name": "python3"
  },
  "language_info": {
   "codemirror_mode": {
    "name": "ipython",
    "version": 3
   },
   "file_extension": ".py",
   "mimetype": "text/x-python",
   "name": "python",
   "nbconvert_exporter": "python",
   "pygments_lexer": "ipython3",
   "version": "3.7.1"
  }
 },
 "nbformat": 4,
 "nbformat_minor": 2
}
