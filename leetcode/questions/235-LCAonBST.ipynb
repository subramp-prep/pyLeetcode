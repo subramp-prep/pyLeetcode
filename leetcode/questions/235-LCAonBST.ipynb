{
 "cells": [
  {
   "cell_type": "markdown",
   "metadata": {},
   "source": [
    "## 235 - LCA on BST\n",
    "\n",
    "Given a binary search tree (BST), find the lowest common ancestor (LCA) of two given nodes in the BST.\n",
    "\n",
    "According to the definition of LCA on Wikipedia: “The lowest common ancestor is defined between two nodes p and q as the lowest node in T that has both p and q as descendants (where we allow a node to be a descendant of itself).”\n",
    "\n",
    "Given binary search tree:  root = [6,2,8,0,4,7,9,null,null,3,5]\n",
    "```\n",
    "        _______6______\n",
    "       /              \\\n",
    "    ___2__          ___8__\n",
    "   /      \\        /      \\\n",
    "   0      _4_      7       9\n",
    "         /   \\\n",
    "        3     5\n",
    "```\n",
    "         \n",
    "Example 1:\n",
    "```\n",
    "Input: root = [6,2,8,0,4,7,9,null,null,3,5], p = 2, q = 8\n",
    "Output: 6\n",
    "Explanation: The LCA of nodes 2 and 8 is 6.\n",
    "```\n",
    "Example 2:\n",
    "```\n",
    "Input: root = [6,2,8,0,4,7,9,null,null,3,5], p = 2, q = 4\n",
    "Output: 2\n",
    "Explanation: The LCA of nodes 2 and 4 is 2, since a node can be a descendant of itself \n",
    "             according to the LCA definition.\n",
    "```\n",
    "Note:\n",
    "\n",
    "All of the nodes' values will be unique.\n",
    "p and q are different and both values will exist in the BST."
   ]
  },
  {
   "cell_type": "code",
   "execution_count": 4,
   "metadata": {},
   "outputs": [],
   "source": [
    "class TreeNode:\n",
    "    def __init__(self, val):\n",
    "        self.val = val\n",
    "        self.left = None\n",
    "        self.right = None\n",
    "        \n",
    "def buildTree(nums, index, root):\n",
    "    if index < len(nums) and nums[index]:\n",
    "        root = TreeNode(nums[index])\n",
    "        root.left = buildTree(nums, 2*index+1, root.left)\n",
    "        root.right = buildTree(nums, 2*index+2, root.right)\n",
    "        \n",
    "    return root\n",
    "\n"
   ]
  },
  {
   "cell_type": "markdown",
   "metadata": {},
   "source": [
    "## Iterative approach"
   ]
  },
  {
   "cell_type": "code",
   "execution_count": 5,
   "metadata": {},
   "outputs": [],
   "source": [
    "def lcaBST(root, p, q):\n",
    "    while root:\n",
    "        if root.val > p and root.val > q:\n",
    "            root = root.left\n",
    "        elif root.val < p and root.val < q:\n",
    "            root = root.right\n",
    "        else:\n",
    "            return root.val\n",
    "        \n",
    "    return None"
   ]
  },
  {
   "cell_type": "markdown",
   "metadata": {},
   "source": [
    "## Recursive approach"
   ]
  },
  {
   "cell_type": "code",
   "execution_count": 6,
   "metadata": {},
   "outputs": [],
   "source": [
    "def lcaBST_recursive(root, p, q):\n",
    "    if root:\n",
    "        if root.val > p and root.val > q:\n",
    "            return lcaBST(root.left, p, q)\n",
    "        elif root.val < p and root.val < q:\n",
    "            return lcaBST(root.right, p, q)\n",
    "        else:\n",
    "            return root.val"
   ]
  },
  {
   "cell_type": "code",
   "execution_count": 7,
   "metadata": {},
   "outputs": [
    {
     "name": "stdout",
     "output_type": "stream",
     "text": [
      "8\n"
     ]
    }
   ],
   "source": [
    "root = buildTree([20, 8, 22, 4, 12, None, None, None, None, 10, 14], 0, None)\n",
    "print(lcaBST(root, 4, 14))"
   ]
  },
  {
   "cell_type": "code",
   "execution_count": 8,
   "metadata": {},
   "outputs": [
    {
     "name": "stdout",
     "output_type": "stream",
     "text": [
      "6\n"
     ]
    }
   ],
   "source": [
    "root = buildTree([6,2,8,0,4,7,9,None,None,3,5], 0, None)\n",
    "print(lcaBST(root, 2, 8))"
   ]
  }
 ],
 "metadata": {
  "kernelspec": {
   "display_name": "Python 3",
   "language": "python",
   "name": "python3"
  },
  "language_info": {
   "codemirror_mode": {
    "name": "ipython",
    "version": 3
   },
   "file_extension": ".py",
   "mimetype": "text/x-python",
   "name": "python",
   "nbconvert_exporter": "python",
   "pygments_lexer": "ipython3",
   "version": "3.7.1"
  }
 },
 "nbformat": 4,
 "nbformat_minor": 2
}
