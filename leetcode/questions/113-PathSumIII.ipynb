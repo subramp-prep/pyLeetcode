{
 "cells": [
  {
   "cell_type": "markdown",
   "metadata": {},
   "source": [
    "## 113 Path sum for BT\n",
    "\n",
    "Given a binary tree and a sum, find all root-to-leaf paths where each path's sum equals the given sum.\n",
    "\n",
    "Note: A leaf is a node with no children.\n",
    "\n",
    "Example:\n",
    "\n",
    "Given the below binary tree and sum = 22,\n",
    "```\n",
    "      5\n",
    "     / \\\n",
    "    4   8\n",
    "   /   / \\\n",
    "  11  13  4\n",
    " /  \\    / \\\n",
    "7    2  5   1\n",
    "```\n",
    "Return:\n",
    "\n",
    "[\n",
    "   [5,4,11,2],\n",
    "   [5,8,4,5]\n",
    "]"
   ]
  },
  {
   "cell_type": "code",
   "execution_count": 5,
   "metadata": {},
   "outputs": [],
   "source": [
    "class TreeNode:\n",
    "    def __init__(self, val):\n",
    "        self.val = val\n",
    "        self.left = None\n",
    "        self.right = None\n",
    "    \n",
    "def buildTree(nums, index, root):\n",
    "    if index < len(nums) and nums[index]:\n",
    "        root = TreeNode(nums[index])\n",
    "        root.left = buildTree(nums, 2*index+1, root.left)\n",
    "        root.right = buildTree(nums, 2*index+2, root.right)\n",
    "        \n",
    "    return root\n",
    "\n",
    "def identifySumPath(root, sumNum):\n",
    "    output = []\n",
    "    \n",
    "    def helper(head, path):\n",
    "        if head is None:\n",
    "            return\n",
    "        \n",
    "        #print(sum(path))\n",
    "        if head.left is None and head.right is None:\n",
    "            #sumSoFar += head.val\n",
    "            path.append(head.val)\n",
    "            \n",
    "            if sum(path) == sumNum:\n",
    "                output.append([c for c in path])\n",
    "            \n",
    "            path.pop()\n",
    "                \n",
    "        \n",
    "        if head.left:\n",
    "            path.append(head.val)\n",
    "            helper(head.left, path)\n",
    "            path.pop()\n",
    "            \n",
    "        if head.right:\n",
    "            path.append(head.val)\n",
    "            helper(head.right, path)\n",
    "            path.pop()\n",
    "            \n",
    "    helper(root, [])\n",
    "    return output"
   ]
  },
  {
   "cell_type": "code",
   "execution_count": 6,
   "metadata": {},
   "outputs": [
    {
     "name": "stdout",
     "output_type": "stream",
     "text": [
      "[[5, 4, 11, 2], [5, 8, 4, 5]]\n"
     ]
    }
   ],
   "source": [
    "nums = [5,4,8,11,None,13,4,7,2,None, None, None,None,5,1]\n",
    "root = buildTree(nums, 0, None)\n",
    "print(identifySumPath(root, 22))"
   ]
  },
  {
   "cell_type": "markdown",
   "metadata": {},
   "source": [
    "## Optimized version"
   ]
  },
  {
   "cell_type": "code",
   "execution_count": 1,
   "metadata": {},
   "outputs": [],
   "source": [
    "def identifyPathSum(root, target):\n",
    "    output = []\n",
    "\n",
    "    def helper(head, path, k):\n",
    "        if head:\n",
    "            if not head.left and not head.right:\n",
    "                if k - head.val == 0:\n",
    "                    path.append(head.val)\n",
    "                    output.append(path[::])\n",
    "                    return\n",
    "            \n",
    "            helper(head.left, path + [head.val], k - head.val)\n",
    "            helper(head.right, path + [head.val], k - head.val)\n",
    "\n",
    "    helper(root, [], target)\n",
    "    return output"
   ]
  }
 ],
 "metadata": {
  "kernelspec": {
   "display_name": "Python 3",
   "language": "python",
   "name": "python3"
  },
  "language_info": {
   "codemirror_mode": {
    "name": "ipython",
    "version": 3
   },
   "file_extension": ".py",
   "mimetype": "text/x-python",
   "name": "python",
   "nbconvert_exporter": "python",
   "pygments_lexer": "ipython3",
   "version": "3.7.6"
  }
 },
 "nbformat": 4,
 "nbformat_minor": 2
}
