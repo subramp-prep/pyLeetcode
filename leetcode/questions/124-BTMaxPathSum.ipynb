{
 "cells": [
  {
   "cell_type": "markdown",
   "metadata": {},
   "source": [
    "## 124 BT Max Path Sum\n",
    "\n",
    "Given a non-empty binary tree, find the maximum path sum.\n",
    "\n",
    "For this problem, a path is defined as any sequence of nodes from some starting node to any node in the tree along the parent-child connections. The path must contain at least one node and does not need to go through the root.\n",
    "\n",
    "Example 1:\n",
    "\n",
    "Input: [1,2,3]\n",
    "```\n",
    "       1\n",
    "      / \\\n",
    "     2   3\n",
    "```\n",
    "Output: 6\n",
    "Example 2:\n",
    "\n",
    "Input: [-10,9,20,null,null,15,7]\n",
    "```\n",
    "   -10\n",
    "   / \\\n",
    "  9  20\n",
    "    /  \\\n",
    "   15   7\n",
    "```\n",
    "Output: 42"
   ]
  },
  {
   "cell_type": "code",
   "execution_count": 9,
   "metadata": {},
   "outputs": [],
   "source": [
    "class TreeNode:\n",
    "    def __init__(self, val, left=None, right=None):\n",
    "        self.val = val\n",
    "        self.left = left\n",
    "        self.right = right\n",
    "        \n",
    "    def maxPathSum(self, root):\n",
    "        self.maxsum = float('-inf')\n",
    "\n",
    "        def helper(head):\n",
    "            if not head:\n",
    "                return 0\n",
    "\n",
    "            l = helper(head.left)\n",
    "            r = helper(head.right)\n",
    "\n",
    "            max_subTree = max(max(l,r)+ head.val, head.val)\n",
    "            max_sum = max(max_subTree, l+r+head.val)\n",
    "\n",
    "            self.maxsum = max(max_sum, self.maxsum)\n",
    "\n",
    "            return max_subTree\n",
    "\n",
    "        helper(root)\n",
    "        return self.maxsum\n",
    "    \n",
    "def constructTreeFromArray(nums, index, root):\n",
    "    if index < len(nums) and nums[index]:\n",
    "        root = TreeNode(nums[index])\n",
    "        root.left = constructTreeFromArray(nums, 2*index+1, root.left)\n",
    "        root.right = constructTreeFromArray(nums, 2*index+2, root.right)\n",
    "\n",
    "    return root"
   ]
  },
  {
   "cell_type": "code",
   "execution_count": 8,
   "metadata": {},
   "outputs": [
    {
     "name": "stdout",
     "output_type": "stream",
     "text": [
      "42\n"
     ]
    }
   ],
   "source": [
    "numsForMaxTreeSum = [-10, 9, 20, None, None, 15, 7]\n",
    "rootForMax = constructTreeFromArray(numsForMaxTreeSum, 0, None)\n",
    "#r = TreeNode()\n",
    "\n",
    "print(rootForMax.maxPathSum(rootForMax))"
   ]
  }
 ],
 "metadata": {
  "kernelspec": {
   "display_name": "Python 3",
   "language": "python",
   "name": "python3"
  },
  "language_info": {
   "codemirror_mode": {
    "name": "ipython",
    "version": 3
   },
   "file_extension": ".py",
   "mimetype": "text/x-python",
   "name": "python",
   "nbconvert_exporter": "python",
   "pygments_lexer": "ipython3",
   "version": "3.7.1"
  }
 },
 "nbformat": 4,
 "nbformat_minor": 2
}
