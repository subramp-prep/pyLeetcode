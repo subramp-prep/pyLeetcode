{
 "cells": [
  {
   "cell_type": "markdown",
   "metadata": {},
   "source": [
    "Given n, how many structurally unique BST's (binary search trees) that store values 1 ... n?\n",
    "\n",
    "Example:\n",
    "```\n",
    "Input: 3\n",
    "Output: 5\n",
    "```\n",
    "Explanation:\n",
    "Given n = 3, there are a total of 5 unique BST's:\n",
    "```\n",
    "\n",
    "   1         3     3      2      1\n",
    "    \\       /     /      / \\      \\\n",
    "     3     2     1      1   3      2\n",
    "    /     /       \\                 \\\n",
    "   2     1         2                 3\n",
    "```"
   ]
  },
  {
   "cell_type": "markdown",
   "metadata": {},
   "source": [
    "## Recursive"
   ]
  },
  {
   "cell_type": "code",
   "execution_count": 1,
   "metadata": {},
   "outputs": [],
   "source": [
    "def catalanNumbers_recursive(n):\n",
    "    if n <= 1:\n",
    "        return 1\n",
    "\n",
    "    total = 0\n",
    "    for i in range(n):\n",
    "        total += catalanNumbers_recursive(i) * catalanNumbers_recursive(n-i-1)\n",
    "\n",
    "    return total"
   ]
  },
  {
   "cell_type": "code",
   "execution_count": 2,
   "metadata": {},
   "outputs": [
    {
     "name": "stdout",
     "output_type": "stream",
     "text": [
      "42\n"
     ]
    }
   ],
   "source": [
    "print(catalanNumbers_recursive(5))"
   ]
  },
  {
   "cell_type": "markdown",
   "metadata": {},
   "source": [
    "## Dynamic programming"
   ]
  },
  {
   "cell_type": "code",
   "execution_count": 3,
   "metadata": {},
   "outputs": [],
   "source": [
    "def catalanNumbers(n):\n",
    "    output = (n+1)*[0]\n",
    "    output[0] = output[1] = 1\n",
    "\n",
    "    for i in range(2, n+1):\n",
    "        for j in range(1, i+1):\n",
    "            output[i] += output[j-1] * output[i-j]\n",
    "\n",
    "    return output[n]"
   ]
  },
  {
   "cell_type": "code",
   "execution_count": 5,
   "metadata": {},
   "outputs": [
    {
     "name": "stdout",
     "output_type": "stream",
     "text": [
      "1767263190\n"
     ]
    }
   ],
   "source": [
    "print(catalanNumbers(19))"
   ]
  },
  {
   "cell_type": "code",
   "execution_count": 6,
   "metadata": {},
   "outputs": [],
   "source": [
    "def catalanNumber_fromBook(n):\n",
    "    output = [1,1]+n*[0]\n",
    "\n",
    "    for i in range(2, n+1):\n",
    "        for j in range(n):\n",
    "            output[i] += output[j] * output[i-j-1]\n",
    "\n",
    "    return output[n]"
   ]
  },
  {
   "cell_type": "code",
   "execution_count": 7,
   "metadata": {},
   "outputs": [
    {
     "name": "stdout",
     "output_type": "stream",
     "text": [
      "1767263190\n"
     ]
    }
   ],
   "source": [
    "print(catalanNumber_fromBook(19))"
   ]
  }
 ],
 "metadata": {
  "kernelspec": {
   "display_name": "Python 3",
   "language": "python",
   "name": "python3"
  },
  "language_info": {
   "codemirror_mode": {
    "name": "ipython",
    "version": 3
   },
   "file_extension": ".py",
   "mimetype": "text/x-python",
   "name": "python",
   "nbconvert_exporter": "python",
   "pygments_lexer": "ipython3",
   "version": "3.7.1"
  }
 },
 "nbformat": 4,
 "nbformat_minor": 2
}
