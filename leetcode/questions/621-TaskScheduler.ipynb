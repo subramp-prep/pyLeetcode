{
 "cells": [
  {
   "cell_type": "markdown",
   "metadata": {},
   "source": [
    "## 621 Task Scheduler\n",
    "\n",
    "Given a char array representing tasks CPU need to do. It contains capital letters A to Z where different letters represent different tasks. Tasks could be done without original order. Each task could be done in one interval. For each interval, CPU could finish one task or just be idle.\n",
    "\n",
    "However, there is a non-negative cooling interval n that means between two same tasks, there must be at least n intervals that CPU are doing different tasks or just be idle.\n",
    "\n",
    "You need to return the least number of intervals the CPU will take to finish all the given tasks.\n",
    "\n",
    " \n",
    "\n",
    "Example:\n",
    "```\n",
    "Input: tasks = [\"A\",\"A\",\"A\",\"B\",\"B\",\"B\"], n = 2\n",
    "Output: 8\n",
    "```\n",
    "Explanation: A -> B -> idle -> A -> B -> idle -> A -> B.\n",
    " \n",
    "\n",
    "Constraints:\n",
    "\n",
    "The number of tasks is in the range [1, 10000].\n",
    "The integer n is in the range [0, 100]."
   ]
  },
  {
   "cell_type": "code",
   "execution_count": 2,
   "metadata": {},
   "outputs": [],
   "source": [
    "import collections\n",
    "\n",
    "def leastInterval(tasks, n):\n",
    "    task_count = list(collections.Counter(tasks).values())\n",
    "    max_count = max(task_count)\n",
    "    n_max_count = task_count.count(max_count)\n",
    "    \n",
    "    return max(len(tasks), (max_count-1)*(n+1) + n_max_count)"
   ]
  },
  {
   "cell_type": "code",
   "execution_count": 3,
   "metadata": {},
   "outputs": [
    {
     "name": "stdout",
     "output_type": "stream",
     "text": [
      "8\n"
     ]
    }
   ],
   "source": [
    "print(leastInterval([\"A\",\"A\",\"A\",\"B\",\"B\",\"B\"], 2))"
   ]
  },
  {
   "cell_type": "markdown",
   "metadata": {},
   "source": [
    "Learned from\n",
    "\n",
    "https://leetcode.com/problems/task-scheduler/discuss/104507/Python-Straightforward-with-Explanation"
   ]
  }
 ],
 "metadata": {
  "kernelspec": {
   "display_name": "Python 3",
   "language": "python",
   "name": "python3"
  },
  "language_info": {
   "codemirror_mode": {
    "name": "ipython",
    "version": 3
   },
   "file_extension": ".py",
   "mimetype": "text/x-python",
   "name": "python",
   "nbconvert_exporter": "python",
   "pygments_lexer": "ipython3",
   "version": "3.7.6"
  }
 },
 "nbformat": 4,
 "nbformat_minor": 4
}
