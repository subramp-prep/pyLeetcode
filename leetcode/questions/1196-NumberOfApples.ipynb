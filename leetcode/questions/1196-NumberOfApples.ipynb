{
 "cells": [
  {
   "cell_type": "markdown",
   "metadata": {},
   "source": [
    "## 1196 Number of apples\n",
    "\n",
    "You have some apples, where arr[i] is the weight of the i-th apple.  You also have a basket that can carry up to 5000 units of weight.\n",
    "\n",
    "Return the maximum number of apples you can put in the basket.\n",
    "\n",
    " \n",
    "\n",
    "Example 1:\n",
    "```\n",
    "Input: arr = [100,200,150,1000]\n",
    "Output: 4\n",
    "Explanation: All 4 apples can be carried by the basket since their sum of weights is 1450.\n",
    "```\n",
    "Example 2:\n",
    "```\n",
    "Input: arr = [900,950,800,1000,700,800]\n",
    "Output: 5\n",
    "Explanation: The sum of weights of the 6 apples exceeds 5000 so we choose any 5 of them.\n",
    "```\n",
    "\n",
    "Constraints:\n",
    "\n",
    "1 <= arr.length <= 10^3\n",
    "1 <= arr[i] <= 10^3"
   ]
  },
  {
   "cell_type": "code",
   "execution_count": 1,
   "metadata": {},
   "outputs": [],
   "source": [
    "def maxNumberOfApples(nums):\n",
    "    nums.sort()\n",
    "    total = count = 0\n",
    "    \n",
    "    for num in nums:\n",
    "        if num + total < 5000:\n",
    "            total += num\n",
    "            count += 1\n",
    "            \n",
    "    return count"
   ]
  },
  {
   "cell_type": "code",
   "execution_count": 2,
   "metadata": {},
   "outputs": [
    {
     "name": "stdout",
     "output_type": "stream",
     "text": [
      "5\n"
     ]
    }
   ],
   "source": [
    "print(maxNumberOfApples([900,950,800,1000,700,800]))"
   ]
  },
  {
   "cell_type": "code",
   "execution_count": 3,
   "metadata": {},
   "outputs": [
    {
     "name": "stdout",
     "output_type": "stream",
     "text": [
      "4\n"
     ]
    }
   ],
   "source": [
    "print(maxNumberOfApples([100,200,150,1000]))"
   ]
  }
 ],
 "metadata": {
  "kernelspec": {
   "display_name": "Python 3",
   "language": "python",
   "name": "python3"
  },
  "language_info": {
   "codemirror_mode": {
    "name": "ipython",
    "version": 3
   },
   "file_extension": ".py",
   "mimetype": "text/x-python",
   "name": "python",
   "nbconvert_exporter": "python",
   "pygments_lexer": "ipython3",
   "version": "3.7.4"
  }
 },
 "nbformat": 4,
 "nbformat_minor": 2
}
