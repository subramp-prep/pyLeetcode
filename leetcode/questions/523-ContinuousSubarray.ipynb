{
 "cells": [
  {
   "cell_type": "markdown",
   "metadata": {},
   "source": [
    "Given a list of non-negative numbers and a target integer k, write a function to check if the array has a continuous subarray of size at least 2 that sums up to the multiple of k, that is, sums up to n*k where n is also an integer.\n",
    "\n",
    "```\n",
    "Example 1:\n",
    "Input: [23, 2, 4, 6, 7],  k=6\n",
    "Output: True\n",
    "Explanation: Because [2, 4] is a continuous subarray of size 2 and sums up to 6.\n",
    "```\n",
    "\n",
    "```\n",
    "Example 2:\n",
    "Input: [23, 2, 6, 4, 7],  k=6\n",
    "Output: True\n",
    "Explanation: Because [23, 2, 6, 4, 7] is an continuous subarray of size 5 and sums up to 42.\n",
    "```\n",
    "\n",
    "### Note:\n",
    "The length of the array won't exceed 10,000.\n",
    "You may assume the sum of all the numbers is in the range of a signed 32-bit integer."
   ]
  },
  {
   "cell_type": "code",
   "execution_count": null,
   "metadata": {},
   "outputs": [],
   "source": [
    "def Subarray(nums, k):\n",
    "    d = dict()\n",
    "    calcsum = 0\n",
    "    \n",
    "    for i, num in nums:\n",
    "        calcsum += num\n",
    "        \n",
    "        if k != 0:\n",
    "            calcsum = calcsum % 6\n",
    "            \n",
    "# TODO"
   ]
  }
 ],
 "metadata": {
  "kernelspec": {
   "display_name": "Python 3",
   "language": "python",
   "name": "python3"
  },
  "language_info": {
   "codemirror_mode": {
    "name": "ipython",
    "version": 3
   },
   "file_extension": ".py",
   "mimetype": "text/x-python",
   "name": "python",
   "nbconvert_exporter": "python",
   "pygments_lexer": "ipython3",
   "version": "3.7.1"
  }
 },
 "nbformat": 4,
 "nbformat_minor": 2
}
