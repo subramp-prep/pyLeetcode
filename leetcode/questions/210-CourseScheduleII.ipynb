{
 "cells": [
  {
   "cell_type": "markdown",
   "metadata": {},
   "source": [
    "## 210. Course Schedule II\n",
    "\n",
    "There are a total of n courses you have to take, labeled from 0 to n-1.\n",
    "\n",
    "Some courses may have prerequisites, for example to take course 0 you have to first take course 1, which is expressed as a pair: [0,1]\n",
    "\n",
    "Given the total number of courses and a list of prerequisite pairs, return the ordering of courses you should take to finish all courses.\n",
    "\n",
    "There may be multiple correct orders, you just need to return one of them. If it is impossible to finish all courses, return an empty array.\n",
    "\n",
    "Example 1:\n",
    "```\n",
    "Input: 2, [[1,0]] \n",
    "Output: [0,1]\n",
    "```\n",
    "Explanation: There are a total of 2 courses to take. To take course 1 you should have finished   \n",
    "             course 0. So the correct course order is [0,1] .\n",
    "Example 2:\n",
    "```\n",
    "Input: 4, [[1,0],[2,0],[3,1],[3,2]]\n",
    "Output: [0,1,2,3] or [0,2,1,3]\n",
    "```\n",
    "Explanation: There are a total of 4 courses to take. To take course 3 you should have finished both     \n",
    "             courses 1 and 2. Both courses 1 and 2 should be taken after you finished course 0. \n",
    "             So one correct course order is [0,1,2,3]. Another correct ordering is [0,2,1,3] .\n",
    "Note:\n",
    "```\n",
    "The input prerequisites is a graph represented by a list of edges, not adjacency matrices. Read more about how a graph is represented.\n",
    "You may assume that there are no duplicate edges in the input prerequisites.\n",
    "```"
   ]
  },
  {
   "cell_type": "code",
   "execution_count": 7,
   "metadata": {},
   "outputs": [],
   "source": [
    "import collections\n",
    "\n",
    "def findOrder(numCourses, prerequisites):\n",
    "    incomingEdges = {c: 0 for c in range(numCourses)}\n",
    "    maps = collections.defaultdict(set)\n",
    "\n",
    "    for x, y in prerequisites:\n",
    "        incomingEdges[x] += 1\n",
    "        if x not in maps[y]:\n",
    "            maps[y].add(x)\n",
    "\n",
    "    output = []\n",
    "    queue = [c for c in incomingEdges if incomingEdges[c] == 0]\n",
    "    while queue:\n",
    "        r = queue.pop()\n",
    "        output.append(r)\n",
    "\n",
    "        for n in maps[r]:\n",
    "            incomingEdges[n] -= 1\n",
    "            if incomingEdges[n] == 0:\n",
    "                queue.append(n)\n",
    "\n",
    "    return output if len(output) == numCourses else []"
   ]
  },
  {
   "cell_type": "code",
   "execution_count": 8,
   "metadata": {},
   "outputs": [
    {
     "name": "stdout",
     "output_type": "stream",
     "text": [
      "[0, 1]\n"
     ]
    }
   ],
   "source": [
    "print(findOrder(2, [[1,0]] ))"
   ]
  },
  {
   "cell_type": "code",
   "execution_count": 9,
   "metadata": {},
   "outputs": [
    {
     "name": "stdout",
     "output_type": "stream",
     "text": [
      "[0, 2, 1, 3]\n"
     ]
    }
   ],
   "source": [
    "print(findOrder(4, [[1,0],[2,0],[3,1],[3,2]]))"
   ]
  }
 ],
 "metadata": {
  "kernelspec": {
   "display_name": "Python 3",
   "language": "python",
   "name": "python3"
  },
  "language_info": {
   "codemirror_mode": {
    "name": "ipython",
    "version": 3
   },
   "file_extension": ".py",
   "mimetype": "text/x-python",
   "name": "python",
   "nbconvert_exporter": "python",
   "pygments_lexer": "ipython3",
   "version": "3.7.6"
  }
 },
 "nbformat": 4,
 "nbformat_minor": 4
}
