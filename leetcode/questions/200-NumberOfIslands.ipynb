{
 "cells": [
  {
   "cell_type": "markdown",
   "metadata": {},
   "source": [
    "## 200 - Number of Islands\n",
    "\n",
    "Given a 2d grid map of '1's (land) and '0's (water), count the number of islands. An island is surrounded by water and is formed by connecting adjacent lands horizontally or vertically. You may assume all four edges of the grid are all surrounded by water.\n",
    "\n",
    "Example 1:\n",
    "\n",
    "Input:\n",
    "```\n",
    "11110\n",
    "11010\n",
    "11000\n",
    "00000\n",
    "```\n",
    "Output: **1**\n",
    "\n",
    "Example 2:\n",
    "\n",
    "Input:\n",
    "```\n",
    "11000\n",
    "11000\n",
    "00100\n",
    "00011\n",
    "```\n",
    "Output: **3**"
   ]
  },
  {
   "cell_type": "code",
   "execution_count": 12,
   "metadata": {},
   "outputs": [],
   "source": [
    "def numIslands(grid):\n",
    "    count = 0\n",
    "\n",
    "    if (grid == None or len(grid) == 0 or len(grid[0]) == 0):\n",
    "        return count\n",
    "\n",
    "    rows = len(grid)\n",
    "    columns = len(grid[0])\n",
    "\n",
    "    for i in range(rows):\n",
    "        for j in range(columns):\n",
    "            if grid[i][j] == 1:\n",
    "                traverseIsland(grid, rows, columns, i, j)\n",
    "                count += 1\n",
    "\n",
    "    return count\n",
    "\n",
    "def traverseIsland(grid, maxRows, maxColumns, curRow, curColumn):\n",
    "    if curRow >= maxRows or curColumn >= maxColumns:\n",
    "        return\n",
    "\n",
    "    if curRow < 0 or curColumn < 0:\n",
    "        return\n",
    "\n",
    "    if grid[curRow][curColumn] == 0:\n",
    "        return\n",
    "\n",
    "    grid[curRow][curColumn] = 0\n",
    "\n",
    "    traverseIsland(grid, maxRows, maxColumns, curRow+1, curColumn)\n",
    "    traverseIsland(grid, maxRows, maxColumns, curRow, curColumn+1)\n",
    "    traverseIsland(grid, maxRows, maxColumns, curRow-1, curColumn)\n",
    "    traverseIsland(grid, maxRows, maxColumns, curRow, curColumn-1)"
   ]
  },
  {
   "cell_type": "code",
   "execution_count": 13,
   "metadata": {},
   "outputs": [
    {
     "name": "stdout",
     "output_type": "stream",
     "text": [
      "Island Count: 1\n"
     ]
    }
   ],
   "source": [
    "grid1 = [\n",
    "    [1,1,1,1,0],\n",
    "    [1,1,0,1,0],\n",
    "    [1,1,0,0,0],\n",
    "    [0,0,0,0,0]\n",
    "]\n",
    "\n",
    "print(\"Island Count:\", numIslands(grid1))"
   ]
  },
  {
   "cell_type": "code",
   "execution_count": 14,
   "metadata": {},
   "outputs": [
    {
     "name": "stdout",
     "output_type": "stream",
     "text": [
      "Island Count: 3\n"
     ]
    }
   ],
   "source": [
    "grid2= [\n",
    "    [1,1,0,0,0],\n",
    "    [1,1,0,0,0],\n",
    "    [0,0,1,0,0],\n",
    "    [0,0,0,1,1]\n",
    "]\n",
    "\n",
    "print(\"Island Count:\", numIslands(grid2))"
   ]
  },
  {
   "cell_type": "code",
   "execution_count": 15,
   "metadata": {},
   "outputs": [
    {
     "name": "stdout",
     "output_type": "stream",
     "text": [
      "Island Count: 0\n"
     ]
    }
   ],
   "source": [
    "grid3=[]\n",
    "\n",
    "print(\"Island Count:\", numIslands(grid3))"
   ]
  }
 ],
 "metadata": {
  "kernelspec": {
   "display_name": "Python 3",
   "language": "python",
   "name": "python3"
  },
  "language_info": {
   "codemirror_mode": {
    "name": "ipython",
    "version": 3
   },
   "file_extension": ".py",
   "mimetype": "text/x-python",
   "name": "python",
   "nbconvert_exporter": "python",
   "pygments_lexer": "ipython3",
   "version": "3.7.1"
  }
 },
 "nbformat": 4,
 "nbformat_minor": 2
}
