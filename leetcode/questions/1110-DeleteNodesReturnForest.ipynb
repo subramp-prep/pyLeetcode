{
 "cells": [
  {
   "cell_type": "markdown",
   "metadata": {},
   "source": [
    "## 1110. Delete Nodes And Return Forest\n",
    "\n",
    "Given the root of a binary tree, each node in the tree has a distinct value.\n",
    "\n",
    "After deleting all nodes with a value in to_delete, we are left with a forest (a disjoint union of trees).\n",
    "\n",
    "Return the roots of the trees in the remaining forest.  You may return the result in any order.\n",
    "\n",
    " \n",
    "\n",
    "Example 1:\n",
    "\n",
    "![1110](img/1110.png)\n",
    "\n",
    "```\n",
    "Input: root = [1,2,3,4,5,6,7], to_delete = [3,5]\n",
    "Output: [[1,2,null,4],[6],[7]]\n",
    "```\n",
    "\n",
    "Constraints:\n",
    "```\n",
    "The number of nodes in the given tree is at most 1000.\n",
    "Each node has a distinct value between 1 and 1000.\n",
    "to_delete.length <= 1000\n",
    "to_delete contains distinct values between 1 and 1000.\n",
    "```"
   ]
  },
  {
   "cell_type": "code",
   "execution_count": 8,
   "metadata": {},
   "outputs": [],
   "source": [
    "class TreeNode:\n",
    "    def __init__(self, val, left=None, right=None):\n",
    "        self.val = val\n",
    "        self.left = left\n",
    "        self.right = right\n",
    "\n",
    "def delNodes(root, to_delete):\n",
    "    \n",
    "    output = []\n",
    "    \n",
    "    def helper(head, isRoot):\n",
    "        if head:\n",
    "            \n",
    "            deleted_node = head.val in to_delete\n",
    "            \n",
    "            #Core to the functionality\n",
    "            if not deleted_node and isRoot:\n",
    "                output.append(head)\n",
    "                \n",
    "            head.left = helper(head.left, deleted_node)\n",
    "            head.right = helper(head.right, deleted_node)\n",
    "            \n",
    "            return None if deleted_node else head\n",
    "        \n",
    "    helper(root, True)\n",
    "    return output\n",
    "\n",
    "def printTrees(tree):    \n",
    "    output = []\n",
    "    \n",
    "    def helper(root, level):\n",
    "        if root:\n",
    "            if level+1 > len(output):\n",
    "                output.append([])\n",
    "                \n",
    "            output[level].append(root.val)\n",
    "            \n",
    "            helper(root.left, level+1)\n",
    "            helper(root.right, level+1)\n",
    "            \n",
    "    helper(tree, 0)\n",
    "    return output"
   ]
  },
  {
   "cell_type": "code",
   "execution_count": 10,
   "metadata": {},
   "outputs": [
    {
     "name": "stdout",
     "output_type": "stream",
     "text": [
      "[[[1], [2], [4]], [[6]], [[7]]]\n"
     ]
    }
   ],
   "source": [
    "root = TreeNode(1, TreeNode(2, TreeNode(4), TreeNode(5)), TreeNode(3, TreeNode(6), TreeNode(7)))\n",
    "trees = map(printTrees, delNodes(root, [3,5]))\n",
    "print(list(trees))"
   ]
  },
  {
   "cell_type": "code",
   "execution_count": null,
   "metadata": {},
   "outputs": [],
   "source": []
  },
  {
   "cell_type": "code",
   "execution_count": null,
   "metadata": {},
   "outputs": [],
   "source": []
  }
 ],
 "metadata": {
  "kernelspec": {
   "display_name": "Python 3",
   "language": "python",
   "name": "python3"
  },
  "language_info": {
   "codemirror_mode": {
    "name": "ipython",
    "version": 3
   },
   "file_extension": ".py",
   "mimetype": "text/x-python",
   "name": "python",
   "nbconvert_exporter": "python",
   "pygments_lexer": "ipython3",
   "version": "3.7.6"
  }
 },
 "nbformat": 4,
 "nbformat_minor": 4
}
