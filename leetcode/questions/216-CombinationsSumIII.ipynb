{
 "cells": [
  {
   "cell_type": "markdown",
   "metadata": {},
   "source": [
    "Find all possible combinations of k numbers that add up to a number n, given that only numbers from 1 to 9 can be used and each combination should be a unique set of numbers.\n",
    "\n",
    "Note:\n",
    "\n",
    "All numbers will be positive integers.\n",
    "The solution set must not contain duplicate combinations.\n",
    "Example 1:\n",
    "```\n",
    "Input: k = 3, n = 7\n",
    "Output: [[1,2,4]]\n",
    "```\n",
    "Example 2:\n",
    "```\n",
    "Input: k = 3, n = 9\n",
    "Output: [[1,2,6], [1,3,5], [2,3,4]]\n",
    "```"
   ]
  },
  {
   "cell_type": "code",
   "execution_count": 6,
   "metadata": {},
   "outputs": [],
   "source": [
    "def combinationSum3(k, n):\n",
    "    \n",
    "    result = []\n",
    "    \n",
    "    def helper(chosen, index):\n",
    "        if len(chosen) == k and sum(chosen) == n:\n",
    "            result.append(chosen[::])\n",
    "        else:\n",
    "            for i in range(index, 10):\n",
    "                chosen.append(i)\n",
    "                helper(chosen, i+1)\n",
    "                chosen.pop()\n",
    "                \n",
    "    helper([], 1)\n",
    "    return result"
   ]
  },
  {
   "cell_type": "code",
   "execution_count": 7,
   "metadata": {},
   "outputs": [
    {
     "name": "stdout",
     "output_type": "stream",
     "text": [
      "[[1, 2, 4]]\n"
     ]
    }
   ],
   "source": [
    "print(combinationSum3(3, 7))"
   ]
  },
  {
   "cell_type": "code",
   "execution_count": 9,
   "metadata": {},
   "outputs": [
    {
     "name": "stdout",
     "output_type": "stream",
     "text": [
      "[[1, 2, 6], [1, 3, 5], [2, 3, 4]]\n"
     ]
    }
   ],
   "source": [
    "print(combinationSum3(3, 9))"
   ]
  },
  {
   "cell_type": "markdown",
   "metadata": {},
   "source": [
    "### Optimized\n",
    "\n",
    "Dont have to build the initial array"
   ]
  },
  {
   "cell_type": "code",
   "execution_count": 21,
   "metadata": {},
   "outputs": [],
   "source": [
    "def combinationSum3_old(k, n):\n",
    "\n",
    "    nums = [x for x in range(1, 10)]\n",
    "    result = []\n",
    "\n",
    "    def helper(chosen, index):\n",
    "        if len(chosen) == k and sum(chosen) == n:\n",
    "            result.append([x for x in chosen])\n",
    "        elif len(chosen) > k:\n",
    "            return\n",
    "        else:\n",
    "            for i in range(index, len(nums)):\n",
    "                \n",
    "                chosen.append(nums[i])\n",
    "                helper(chosen, i + 1)\n",
    "                chosen.pop()\n",
    "\n",
    "\n",
    "    helper([], 0)\n",
    "    return result"
   ]
  },
  {
   "cell_type": "code",
   "execution_count": 22,
   "metadata": {},
   "outputs": [
    {
     "name": "stdout",
     "output_type": "stream",
     "text": [
      "[[1, 2, 4]]\n"
     ]
    }
   ],
   "source": [
    "print(combinationSum3_old(3, 7))"
   ]
  },
  {
   "cell_type": "code",
   "execution_count": 23,
   "metadata": {},
   "outputs": [
    {
     "name": "stdout",
     "output_type": "stream",
     "text": [
      "[[1, 2, 6], [1, 3, 5], [2, 3, 4]]\n"
     ]
    }
   ],
   "source": [
    "print(combinationSum3_old(3, 9))"
   ]
  },
  {
   "cell_type": "code",
   "execution_count": null,
   "metadata": {},
   "outputs": [],
   "source": []
  }
 ],
 "metadata": {
  "kernelspec": {
   "display_name": "Python 3",
   "language": "python",
   "name": "python3"
  },
  "language_info": {
   "codemirror_mode": {
    "name": "ipython",
    "version": 3
   },
   "file_extension": ".py",
   "mimetype": "text/x-python",
   "name": "python",
   "nbconvert_exporter": "python",
   "pygments_lexer": "ipython3",
   "version": "3.7.1"
  }
 },
 "nbformat": 4,
 "nbformat_minor": 2
}
