{
 "cells": [
  {
   "cell_type": "markdown",
   "metadata": {},
   "source": [
    "## 974-Subarray Sums Divisible by K\n",
    "\n",
    "Given an array A of integers, return the number of (contiguous, non-empty) subarrays that have a sum divisible by K.\n",
    "\n",
    " \n",
    "\n",
    "Example 1:\n",
    "```\n",
    "Input: A = [4,5,0,-2,-3,1], K = 5\n",
    "Output: 7\n",
    "Explanation: There are 7 subarrays with a sum divisible by K = 5:\n",
    "[4, 5, 0, -2, -3, 1], [5], [5, 0], [5, 0, -2, -3], [0], [0, -2, -3], [-2, -3]\n",
    "```\n",
    "\n",
    "Note:\n",
    "\n",
    "1 <= A.length <= 30000\n",
    "-10000 <= A[i] <= 10000\n",
    "2 <= K <= 10000"
   ]
  },
  {
   "cell_type": "code",
   "execution_count": 7,
   "metadata": {},
   "outputs": [],
   "source": [
    "import collections\n",
    "\n",
    "def subArraySum(nums, k):\n",
    "    maps= collections.defaultdict(int) # important since we need dictionary with default values if none is present\n",
    "    maps[0] = 1\n",
    "    \n",
    "    count = total = 0    \n",
    "    for num in nums:\n",
    "        total += num\n",
    "        rem = total%k\n",
    "        count += maps[rem]\n",
    "        maps[rem] += 1\n",
    "        \n",
    "    return count"
   ]
  },
  {
   "cell_type": "code",
   "execution_count": 8,
   "metadata": {},
   "outputs": [
    {
     "name": "stdout",
     "output_type": "stream",
     "text": [
      "7\n"
     ]
    }
   ],
   "source": [
    "print(subArraySum([4,5,0,-2,-3,1], 5))"
   ]
  }
 ],
 "metadata": {
  "kernelspec": {
   "display_name": "Python 3",
   "language": "python",
   "name": "python3"
  },
  "language_info": {
   "codemirror_mode": {
    "name": "ipython",
    "version": 3
   },
   "file_extension": ".py",
   "mimetype": "text/x-python",
   "name": "python",
   "nbconvert_exporter": "python",
   "pygments_lexer": "ipython3",
   "version": "3.7.1"
  }
 },
 "nbformat": 4,
 "nbformat_minor": 2
}
