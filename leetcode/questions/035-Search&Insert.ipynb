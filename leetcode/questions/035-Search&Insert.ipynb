{
 "cells": [
  {
   "cell_type": "markdown",
   "metadata": {},
   "source": [
    "## 035 Search and Insert\n",
    "\n",
    "Given a sorted array and a target value, return the index if the target is found. If not, return the index where it would be if it were inserted in order.\n",
    "\n",
    "You may assume no duplicates in the array.\n",
    "\n",
    "\n",
    "**Example 1:**\n",
    "```\n",
    "Input: [1,3,5,6], 5\n",
    "Output: 2\n",
    "```\n",
    "\n",
    "**Example 2:**\n",
    "```\n",
    "Input: [1,3,5,6], 2\n",
    "Output: 1\n",
    "```\n",
    "\n",
    "**Example 3:**\n",
    "```\n",
    "Input: [1,3,5,6], 7\n",
    "Output: 4\n",
    "```\n",
    "\n",
    "**Example 4:**\n",
    "```\n",
    "Input: [1,3,5,6], 0\n",
    "Output: 0\n",
    "```"
   ]
  },
  {
   "cell_type": "code",
   "execution_count": 15,
   "metadata": {},
   "outputs": [],
   "source": [
    "def searchInsert(nums, target):\n",
    "        \"\"\"\n",
    "        :type nums: List[int]\n",
    "        :type target: int\n",
    "        :rtype: int\n",
    "        \"\"\"\n",
    "        print(\"Nums: \",nums, \"Target:\", target)\n",
    "\n",
    "        l, h, m = 0, len(nums), -1\n",
    "        pos = -1 #most important parameter\n",
    "\n",
    "        print('Start l:', l, 'h:', h, 'm:', m, 'pos:', pos)\n",
    "        if nums[h -1] < target:\n",
    "            return h\n",
    "\n",
    "        while l <= h:\n",
    "            m = int((l + h) /2)\n",
    "\n",
    "            if nums[m] == target:\n",
    "                return m\n",
    "            \n",
    "            elif nums[m] > target:\n",
    "                h = m - 1\n",
    "                pos = m\n",
    "                \n",
    "            else:\n",
    "                l = m + 1\n",
    "                pos = m + 1\n",
    "            \n",
    "            print('l:', l, 'h:', h, 'm:', m, 'pos:', pos, 'nums[m]:', nums[m])\n",
    "\n",
    "        return pos"
   ]
  },
  {
   "cell_type": "code",
   "execution_count": 16,
   "metadata": {},
   "outputs": [
    {
     "name": "stdout",
     "output_type": "stream",
     "text": [
      "Nums:  [3, 5, 7, 9, 10] Target: 8\n",
      "Start l: 0 h: 5 m: -1 pos: -1\n",
      "l: 3 h: 5 m: 2 pos: 3 nums[m]: 7\n",
      "l: 3 h: 3 m: 4 pos: 4 nums[m]: 10\n",
      "l: 3 h: 2 m: 3 pos: 3 nums[m]: 9\n",
      "3\n"
     ]
    }
   ],
   "source": [
    "print(searchInsert([3, 5, 7, 9, 10], 8))"
   ]
  },
  {
   "cell_type": "code",
   "execution_count": 10,
   "metadata": {},
   "outputs": [
    {
     "name": "stdout",
     "output_type": "stream",
     "text": [
      "Nums:  [1, 3, 5] Target: 4\n",
      "Start l: 0 h: 3 m: -1 pos: -1\n",
      "l: 2 h: 3 m: 1 pos: 2\n",
      "l: 2 h: 1 m: 2 pos: 2\n",
      "2\n"
     ]
    }
   ],
   "source": [
    "print(searchInsert([1, 3, 5], 4))"
   ]
  },
  {
   "cell_type": "code",
   "execution_count": 11,
   "metadata": {},
   "outputs": [
    {
     "name": "stdout",
     "output_type": "stream",
     "text": [
      "Nums:  [1, 3, 5, 6] Target: 5\n",
      "Start l: 0 h: 4 m: -1 pos: -1\n",
      "2\n"
     ]
    }
   ],
   "source": [
    "print(searchInsert([1, 3, 5, 6], 5))"
   ]
  },
  {
   "cell_type": "code",
   "execution_count": 12,
   "metadata": {},
   "outputs": [
    {
     "name": "stdout",
     "output_type": "stream",
     "text": [
      "Nums:  [1, 3, 5, 6] Target: 2\n",
      "Start l: 0 h: 4 m: -1 pos: -1\n",
      "l: 0 h: 1 m: 2 pos: 2\n",
      "l: 1 h: 1 m: 0 pos: 1\n",
      "l: 1 h: 0 m: 1 pos: 1\n",
      "1\n"
     ]
    }
   ],
   "source": [
    "print(searchInsert([1, 3, 5, 6], 2))"
   ]
  },
  {
   "cell_type": "code",
   "execution_count": 13,
   "metadata": {},
   "outputs": [
    {
     "name": "stdout",
     "output_type": "stream",
     "text": [
      "Nums:  [1, 3, 5, 6] Target: 7\n",
      "Start l: 0 h: 4 m: -1 pos: -1\n",
      "4\n"
     ]
    }
   ],
   "source": [
    "print(searchInsert([1, 3, 5, 6], 7))"
   ]
  },
  {
   "cell_type": "code",
   "execution_count": 14,
   "metadata": {},
   "outputs": [
    {
     "name": "stdout",
     "output_type": "stream",
     "text": [
      "Nums:  [1, 3, 5, 6] Target: 0\n",
      "Start l: 0 h: 4 m: -1 pos: -1\n",
      "l: 0 h: 1 m: 2 pos: 2\n",
      "l: 0 h: -1 m: 0 pos: 0\n",
      "0\n"
     ]
    }
   ],
   "source": [
    "print(searchInsert([1, 3, 5, 6], 0))"
   ]
  },
  {
   "cell_type": "markdown",
   "metadata": {},
   "source": [
    "## Optimized version"
   ]
  },
  {
   "cell_type": "code",
   "execution_count": 1,
   "metadata": {},
   "outputs": [],
   "source": [
    "def searchInsert( nums, target):\n",
    "\n",
    "    l = 0\n",
    "    h = len(nums)-1\n",
    "\n",
    "    while l <= h:\n",
    "        m = l + (h-l)//2\n",
    "\n",
    "        if nums[m] == target:\n",
    "            return m\n",
    "\n",
    "        elif nums[m] > target:\n",
    "            h = m-1\n",
    "        else:\n",
    "            l = m+1\n",
    "\n",
    "    return l"
   ]
  }
 ],
 "metadata": {
  "kernelspec": {
   "display_name": "Python 3",
   "language": "python",
   "name": "python3"
  },
  "language_info": {
   "codemirror_mode": {
    "name": "ipython",
    "version": 3
   },
   "file_extension": ".py",
   "mimetype": "text/x-python",
   "name": "python",
   "nbconvert_exporter": "python",
   "pygments_lexer": "ipython3",
   "version": "3.7.6"
  }
 },
 "nbformat": 4,
 "nbformat_minor": 2
}
