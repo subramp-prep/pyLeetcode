{
 "cells": [
  {
   "cell_type": "markdown",
   "metadata": {},
   "source": [
    "## 489 Robot Room cleaner\n",
    "\n",
    "Given a robot cleaner in a room modeled as a grid.\n",
    "\n",
    "Each cell in the grid can be empty or blocked.\n",
    "\n",
    "The robot cleaner with 4 given APIs can move forward, turn left or turn right. Each turn it made is 90 degrees.\n",
    "\n",
    "When it tries to move into a blocked cell, its bumper sensor detects the obstacle and it stays on the current cell.\n",
    "\n",
    "Design an algorithm to clean the entire room using only the 4 given APIs shown below.\n",
    "```\n",
    "interface Robot {\n",
    "  // returns true if next cell is open and robot moves into the cell.\n",
    "  // returns false if next cell is obstacle and robot stays on the current cell.\n",
    "  boolean move();\n",
    "\n",
    "  // Robot will stay on the same cell after calling turnLeft/turnRight.\n",
    "  // Each turn will be 90 degrees.\n",
    "  void turnLeft();\n",
    "  void turnRight();\n",
    "\n",
    "  // Clean the current cell.\n",
    "  void clean();\n",
    "}\n",
    "```\n",
    "\n",
    "Example:\n",
    "```\n",
    "Input:\n",
    "room = [\n",
    "  [1,1,1,1,1,0,1,1],\n",
    "  [1,1,1,1,1,0,1,1],\n",
    "  [1,0,1,1,1,1,1,1],\n",
    "  [0,0,0,1,0,0,0,0],\n",
    "  [1,1,1,1,1,1,1,1]\n",
    "],\n",
    "row = 1,\n",
    "col = 3\n",
    "```\n",
    "Explanation:\n",
    "```\n",
    "All grids in the room are marked by either 0 or 1.\n",
    "0 means the cell is blocked, while 1 means the cell is accessible.\n",
    "The robot initially starts at the position of row=1, col=3.\n",
    "From the top left corner, its position is one row below and three columns right.\n",
    "```\n",
    "Notes:\n",
    "\n",
    "The input is only given to initialize the room and the robot's position internally. You must solve this problem \"blindfolded\". In other words, you must control the robot using only the mentioned 4 APIs, without knowing the room layout and the initial robot's position.\n",
    "The robot's initial position will always be in an accessible cell.\n",
    "The initial direction of the robot will be facing up.\n",
    "All accessible cells are connected, which means the all cells marked as 1 will be accessible by the robot.\n",
    "Assume all four edges of the grid are all surrounded by wall."
   ]
  },
  {
   "cell_type": "code",
   "execution_count": null,
   "metadata": {},
   "outputs": [],
   "source": []
  }
 ],
 "metadata": {
  "kernelspec": {
   "display_name": "Python 3",
   "language": "python",
   "name": "python3"
  },
  "language_info": {
   "codemirror_mode": {
    "name": "ipython",
    "version": 3
   },
   "file_extension": ".py",
   "mimetype": "text/x-python",
   "name": "python",
   "nbconvert_exporter": "python",
   "pygments_lexer": "ipython3",
   "version": "3.7.4"
  }
 },
 "nbformat": 4,
 "nbformat_minor": 2
}
