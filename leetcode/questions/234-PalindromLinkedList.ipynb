{
 "cells": [
  {
   "cell_type": "markdown",
   "metadata": {},
   "source": [
    "## 234 Plaindrome Linked List\n",
    "\n",
    "Given a singly linked list, determine if it is a palindrome.\n",
    "\n",
    "Example 1:\n",
    "```\n",
    "Input: 1->2\n",
    "Output: false\n",
    "```\n",
    "Example 2:\n",
    "```\n",
    "Input: 1->2->2->1\n",
    "Output: true\n",
    "```\n",
    "Follow up:\n",
    "Could you do it in O(n) time and O(1) space?"
   ]
  },
  {
   "cell_type": "code",
   "execution_count": 3,
   "metadata": {},
   "outputs": [],
   "source": [
    "class ListNode:\n",
    "    def __init__(self, val, nextNode=None):\n",
    "        self.value = val\n",
    "        self.next= nextNode\n",
    "        \n",
    "        \n",
    "def findMiddle(head):\n",
    "    slow = fast = head\n",
    "    odd = False\n",
    "    prev = None\n",
    "\n",
    "    while fast and fast.next:\n",
    "        prev = slow\n",
    "        slow = slow.next\n",
    "        fast = fast.next.next\n",
    "\n",
    "    if fast:\n",
    "        odd = True\n",
    "\n",
    "    prev.next = None\n",
    "\n",
    "    return (odd, slow)\n",
    "\n",
    "def reverse(head):\n",
    "    result = None\n",
    "\n",
    "    while head:\n",
    "        nextNode = head.next\n",
    "        head.next = result\n",
    "        result = head\n",
    "        head = nextNode\n",
    "\n",
    "    return result\n",
    "\n",
    "def compareLL(x, y):\n",
    "    if x is None and y is None:\n",
    "        return True\n",
    "\n",
    "    return x.value == y.value and compareLL(x.next, y.next)\n",
    "\n",
    "def checkLLPalindrome(head):\n",
    "    odd, middle = findMiddle(head)\n",
    "\n",
    "    if odd:\n",
    "        middle = middle.next\n",
    "\n",
    "    middle = reverse(middle)    \n",
    "\n",
    "    return compareLL(head, middle)"
   ]
  },
  {
   "cell_type": "code",
   "execution_count": 4,
   "metadata": {},
   "outputs": [
    {
     "name": "stdout",
     "output_type": "stream",
     "text": [
      "True\n"
     ]
    }
   ],
   "source": [
    "ll = ListNode(0, ListNode(1, ListNode(0)))\n",
    "print(checkLLPalindrome(ll))"
   ]
  },
  {
   "cell_type": "code",
   "execution_count": 5,
   "metadata": {},
   "outputs": [
    {
     "name": "stdout",
     "output_type": "stream",
     "text": [
      "True\n"
     ]
    }
   ],
   "source": [
    "ll = ListNode(1, ListNode(2, ListNode(2, ListNode(1))))\n",
    "print(checkLLPalindrome(ll))"
   ]
  },
  {
   "cell_type": "code",
   "execution_count": 6,
   "metadata": {},
   "outputs": [
    {
     "name": "stdout",
     "output_type": "stream",
     "text": [
      "False\n"
     ]
    }
   ],
   "source": [
    "ll = ListNode(1, ListNode(2, ListNode(2, ListNode(3))))\n",
    "print(checkLLPalindrome(ll))"
   ]
  },
  {
   "cell_type": "code",
   "execution_count": null,
   "metadata": {},
   "outputs": [],
   "source": []
  }
 ],
 "metadata": {
  "kernelspec": {
   "display_name": "Python 3",
   "language": "python",
   "name": "python3"
  },
  "language_info": {
   "codemirror_mode": {
    "name": "ipython",
    "version": 3
   },
   "file_extension": ".py",
   "mimetype": "text/x-python",
   "name": "python",
   "nbconvert_exporter": "python",
   "pygments_lexer": "ipython3",
   "version": "3.7.1"
  }
 },
 "nbformat": 4,
 "nbformat_minor": 2
}
