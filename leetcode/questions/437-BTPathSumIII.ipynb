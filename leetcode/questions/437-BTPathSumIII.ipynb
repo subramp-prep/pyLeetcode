{
 "cells": [
  {
   "cell_type": "markdown",
   "metadata": {},
   "source": [
    "You are given a binary tree in which each node contains an integer value.\n",
    "\n",
    "Find the number of paths that sum to a given value.\n",
    "\n",
    "The path does not need to start or end at the root or a leaf, but it must go downwards (traveling only from parent nodes to child nodes).\n",
    "\n",
    "The tree has no more than 1,000 nodes and the values are in the range -1,000,000 to 1,000,000.\n",
    "\n",
    "Example:\n",
    "\n",
    "```\n",
    "root = [10,5,-3,3,2,null,11,3,-2,null,1], sum = 8\n",
    "\n",
    "      10\n",
    "     /  \\\n",
    "    5   -3\n",
    "   / \\    \\\n",
    "  3   2   11\n",
    " / \\   \\\n",
    "3  -2   1\n",
    "```\n",
    "Return 3. The paths that sum to 8 are:\n",
    "\n",
    "1.  5 -> 3\n",
    "2.  5 -> 2 -> 1\n",
    "3. -3 -> 11"
   ]
  },
  {
   "cell_type": "code",
   "execution_count": 1,
   "metadata": {},
   "outputs": [],
   "source": [
    "class TreeNode:\n",
    "    def __init__(self, val):\n",
    "        self.val = val\n",
    "        self.left = None\n",
    "        self.right = None\n",
    "\n",
    "def buildTree(nums, index, root):\n",
    "    if index < len(nums) and nums[index]:\n",
    "        root = TreeNode(nums[index])\n",
    "        root.left = buildTree(nums, 2*index +1, root.left)\n",
    "        root.right = buildTree(nums, 2*index +2, root.right)\n",
    "\n",
    "    return root\n",
    "\n",
    "def sumNodes(root, sumNum):    \n",
    "    sumDict = {0:1}\n",
    "    \n",
    "    def helper(head, currSum, target, sumDict):\n",
    "        if head is None:\n",
    "            return 0\n",
    "\n",
    "        currSum += head.val\n",
    "        count = sumDict.get(currSum-target, 0)\n",
    "        sumDict[currSum] = sumDict.get(currSum, 0) + 1\n",
    "\n",
    "        # most critical path\n",
    "        count = count + \\\n",
    "            helper(head.left, currSum, target, sumDict) + \\\n",
    "            helper(head.right, currSum, target, sumDict)\n",
    "\n",
    "        sumDict[currSum] = sumDict.get(currSum, 0) - 1\n",
    "\n",
    "        return count\n",
    "    \n",
    "    return helper(root,0, sumNum, sumDict)"
   ]
  },
  {
   "cell_type": "code",
   "execution_count": 5,
   "metadata": {},
   "outputs": [
    {
     "name": "stdout",
     "output_type": "stream",
     "text": [
      "3\n"
     ]
    }
   ],
   "source": [
    "nums = [10, 5, -3, 3, 2, None, 11, 3, -2, None, 1]\n",
    "root = buildTree(nums, 0, None)\n",
    "\n",
    "print(sumNodes(root, 8))"
   ]
  },
  {
   "cell_type": "code",
   "execution_count": 4,
   "metadata": {},
   "outputs": [
    {
     "name": "stdout",
     "output_type": "stream",
     "text": [
      "0\n"
     ]
    }
   ],
   "source": [
    "nums1 = [1]\n",
    "root1 = buildTree(nums1, 0, None)\n",
    "\n",
    "print(sumNodes(root1, 0))"
   ]
  }
 ],
 "metadata": {
  "kernelspec": {
   "display_name": "Python 3",
   "language": "python",
   "name": "python3"
  },
  "language_info": {
   "codemirror_mode": {
    "name": "ipython",
    "version": 3
   },
   "file_extension": ".py",
   "mimetype": "text/x-python",
   "name": "python",
   "nbconvert_exporter": "python",
   "pygments_lexer": "ipython3",
   "version": "3.7.6"
  }
 },
 "nbformat": 4,
 "nbformat_minor": 2
}
