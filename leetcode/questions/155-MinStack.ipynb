{
 "cells": [
  {
   "cell_type": "markdown",
   "metadata": {},
   "source": [
    "## 155 - Min stack\n",
    "\n",
    "Design a stack that supports push, pop, top, and retrieving the minimum element in constant time.\n",
    "\n",
    "* push(x) -- Push element x onto stack.\n",
    "* pop() -- Removes the element on top of the stack.\n",
    "* top() -- Get the top element.\n",
    "* getMin() -- Retrieve the minimum element in the stack.\n",
    "\n",
    "Example:\n",
    "\n",
    "```\n",
    "MinStack minStack = new MinStack();\n",
    "minStack.push(-2);\n",
    "minStack.push(0);\n",
    "minStack.push(-3);\n",
    "minStack.getMin();   --> Returns -3.\n",
    "minStack.pop();\n",
    "minStack.top();      --> Returns 0.\n",
    "minStack.getMin();   --> Returns -2.\n",
    "```"
   ]
  },
  {
   "cell_type": "code",
   "execution_count": 1,
   "metadata": {},
   "outputs": [],
   "source": [
    "class MinStack:\n",
    "    def __init__(self):\n",
    "        self.stack = []\n",
    "        self.min = float('inf')\n",
    "        \n",
    "    def push(self, X):\n",
    "        if X <= self.min:\n",
    "            self.stack.append(self.min)\n",
    "            self.min = X\n",
    "        \n",
    "        self.stack.append(X)\n",
    "    \n",
    "    def pop(self):\n",
    "        X = self.stack.pop()\n",
    "        if X == self.min:\n",
    "            self.stack.pop()\n",
    "    \n",
    "    def top(self):\n",
    "        return self.stack[-1]\n",
    "    \n",
    "    def getMin(self):\n",
    "        return self.min"
   ]
  },
  {
   "cell_type": "code",
   "execution_count": 3,
   "metadata": {},
   "outputs": [
    {
     "name": "stdout",
     "output_type": "stream",
     "text": [
      "None\n",
      "None\n",
      "None\n",
      "-3\n",
      "None\n",
      "0\n",
      "-3\n"
     ]
    }
   ],
   "source": [
    "minStack = MinStack()\n",
    "print(minStack.push(-2))\n",
    "print(minStack.push(0))\n",
    "print(minStack.push(-3))\n",
    "print(minStack.getMin())   #--> Returns -3.\n",
    "print(minStack.pop())\n",
    "print(minStack.top())      #--> Returns 0.\n",
    "print(minStack.getMin())   #--> Returns -2."
   ]
  },
  {
   "cell_type": "code",
   "execution_count": null,
   "metadata": {},
   "outputs": [],
   "source": []
  }
 ],
 "metadata": {
  "kernelspec": {
   "display_name": "Python 3",
   "language": "python",
   "name": "python3"
  },
  "language_info": {
   "codemirror_mode": {
    "name": "ipython",
    "version": 3
   },
   "file_extension": ".py",
   "mimetype": "text/x-python",
   "name": "python",
   "nbconvert_exporter": "python",
   "pygments_lexer": "ipython3",
   "version": "3.7.1"
  }
 },
 "nbformat": 4,
 "nbformat_minor": 2
}
