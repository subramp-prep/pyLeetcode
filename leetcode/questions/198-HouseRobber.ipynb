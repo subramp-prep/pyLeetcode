{
 "cells": [
  {
   "cell_type": "markdown",
   "metadata": {},
   "source": [
    "## 198 House Robber\n",
    "\n",
    "You are a professional robber planning to rob houses along a street. Each house has a certain amount of money stashed, the only constraint stopping you from robbing each of them is that adjacent houses have security system connected and it will automatically contact the police if two adjacent houses were broken into on the same night.\n",
    "\n",
    "Given a list of non-negative integers representing the amount of money of each house, determine the maximum amount of money you can rob tonight without alerting the police.\n",
    "\n",
    " \n",
    "\n",
    "Example 1:\n",
    "```\n",
    "Input: nums = [1,2,3,1]\n",
    "Output: 4\n",
    "```\n",
    "Explanation: Rob house 1 (money = 1) and then rob house 3 (money = 3).\n",
    "             Total amount you can rob = 1 + 3 = 4.\n",
    "Example 2:\n",
    "```\n",
    "Input: nums = [2,7,9,3,1]\n",
    "Output: 12\n",
    "```\n",
    "Explanation: Rob house 1 (money = 2), rob house 3 (money = 9) and rob house 5 (money = 1).\n",
    "             Total amount you can rob = 2 + 9 + 1 = 12.\n",
    " \n",
    "\n",
    "Constraints:\n",
    "```\n",
    "0 <= nums.length <= 100\n",
    "0 <= nums[i] <= 400\n",
    "```"
   ]
  },
  {
   "cell_type": "code",
   "execution_count": 7,
   "metadata": {},
   "outputs": [],
   "source": [
    "def houseRobber(nums):\n",
    "    \n",
    "    output = [-1]*len(nums)\n",
    "    \n",
    "    def helper(n):\n",
    "        if n < 0:\n",
    "            return 0\n",
    "        \n",
    "        if output[n] >= 0:\n",
    "            return output[n]\n",
    "        \n",
    "        output[n] = max(helper(n-2)+nums[n], helper(n-1))\n",
    "        \n",
    "        return output[n]\n",
    "    \n",
    "    return helper(len(nums)-1)"
   ]
  },
  {
   "cell_type": "code",
   "execution_count": 8,
   "metadata": {},
   "outputs": [
    {
     "name": "stdout",
     "output_type": "stream",
     "text": [
      "12\n"
     ]
    }
   ],
   "source": [
    "print(houseRobber([2,7,9,3,1]))"
   ]
  },
  {
   "cell_type": "code",
   "execution_count": 10,
   "metadata": {},
   "outputs": [
    {
     "name": "stdout",
     "output_type": "stream",
     "text": [
      "4\n"
     ]
    }
   ],
   "source": [
    "print(houseRobber([1,2,3,1]))"
   ]
  },
  {
   "cell_type": "markdown",
   "metadata": {},
   "source": [
    "Ref:\n",
    "https://leetcode.com/problems/house-robber/discuss/156523/From-good-to-great.-How-to-approach-most-of-DP-problems."
   ]
  }
 ],
 "metadata": {
  "kernelspec": {
   "display_name": "Python 3",
   "language": "python",
   "name": "python3"
  },
  "language_info": {
   "codemirror_mode": {
    "name": "ipython",
    "version": 3
   },
   "file_extension": ".py",
   "mimetype": "text/x-python",
   "name": "python",
   "nbconvert_exporter": "python",
   "pygments_lexer": "ipython3",
   "version": "3.7.6"
  }
 },
 "nbformat": 4,
 "nbformat_minor": 4
}
