{
 "cells": [
  {
   "cell_type": "markdown",
   "metadata": {},
   "source": [
    "## 733 Flood Fill\n",
    "\n",
    "An image is represented by a 2-D array of integers, each integer representing the pixel value of the image (from 0 to 65535).\n",
    "\n",
    "Given a coordinate (sr, sc) representing the starting pixel (row and column) of the flood fill, and a pixel value newColor, \"flood fill\" the image.\n",
    "\n",
    "To perform a \"flood fill\", consider the starting pixel, plus any pixels connected 4-directionally to the starting pixel of the same color as the starting pixel, plus any pixels connected 4-directionally to those pixels (also with the same color as the starting pixel), and so on. Replace the color of all of the aforementioned pixels with the newColor.\n",
    "\n",
    "At the end, return the modified image.\n",
    "\n",
    "Example 1:\n",
    "```\n",
    "Input: \n",
    "image = [[1,1,1],[1,1,0],[1,0,1]]\n",
    "sr = 1, sc = 1, newColor = 2\n",
    "Output: [[2,2,2],[2,2,0],[2,0,1]]\n",
    "```\n",
    "Explanation: \n",
    "From the center of the image (with position (sr, sc) = (1, 1)), all pixels connected \n",
    "by a path of the same color as the starting pixel are colored with the new color.\n",
    "Note the bottom corner is not colored 2, because it is not 4-directionally connected\n",
    "to the starting pixel.\n",
    "Note:\n",
    "\n",
    "The length of image and image[0] will be in the range [1, 50].\n",
    "The given starting pixel will satisfy 0 <= sr < image.length and 0 <= sc < image[0].length.\n",
    "The value of each color in image[i][j] and newColor will be an integer in [0, 65535]."
   ]
  },
  {
   "cell_type": "code",
   "execution_count": 2,
   "metadata": {},
   "outputs": [],
   "source": [
    "def floodFill(matrix, sr, sc, newColor):\n",
    "\n",
    "    def helper(row, column, tr, tc, oldColor):\n",
    "        if tr >= 0 and tc >= 0 and tr < row and tc < column and matrix[tr][tc] == oldColor:\n",
    "\n",
    "            matrix[tr][tc] = newColor\n",
    "\n",
    "            helper(row, column, tr+1, tc, oldColor)\n",
    "            helper(row, column, tr, tc+1, oldColor)\n",
    "            helper(row, column, tr-1, tc, oldColor)\n",
    "            helper(row, column, tr, tc-1, oldColor)\n",
    "            \n",
    "    if matrix[sr][sc] != newColor:\n",
    "        helper(len(matrix), len(matrix[0]), sr, sc, matrix[sr][sc])\n",
    "\n",
    "    return matrix"
   ]
  },
  {
   "cell_type": "code",
   "execution_count": 3,
   "metadata": {},
   "outputs": [
    {
     "name": "stdout",
     "output_type": "stream",
     "text": [
      "[[2, 2, 2], [2, 2, 0], [2, 0, 1]]\n"
     ]
    }
   ],
   "source": [
    "image = [\n",
    "    [1, 1, 1], \n",
    "    [1, 1, 0], \n",
    "    [1, 0, 1]\n",
    "]\n",
    "\n",
    "print(floodFill(image, 1, 1, 2))"
   ]
  },
  {
   "cell_type": "code",
   "execution_count": 4,
   "metadata": {},
   "outputs": [
    {
     "name": "stdout",
     "output_type": "stream",
     "text": [
      "[[0, 0], [1, 1]]\n"
     ]
    }
   ],
   "source": [
    "image = [\n",
    "    [0, 0],\n",
    "    [1, 1]\n",
    "]\n",
    "\n",
    "print(floodFill(image, 1, 1, 1))"
   ]
  }
 ],
 "metadata": {
  "kernelspec": {
   "display_name": "Python 3",
   "language": "python",
   "name": "python3"
  },
  "language_info": {
   "codemirror_mode": {
    "name": "ipython",
    "version": 3
   },
   "file_extension": ".py",
   "mimetype": "text/x-python",
   "name": "python",
   "nbconvert_exporter": "python",
   "pygments_lexer": "ipython3",
   "version": "3.7.1"
  }
 },
 "nbformat": 4,
 "nbformat_minor": 2
}
