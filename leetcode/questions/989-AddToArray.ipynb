{
 "cells": [
  {
   "cell_type": "markdown",
   "metadata": {},
   "source": [
    "For a non-negative integer X, the array-form of X is an array of its digits in left to right order.  For example, if X = 1231, then the array form is [1,2,3,1].\n",
    "\n",
    "Given the array-form A of a non-negative integer X, return the array-form of the integer X+K.\n",
    "\n",
    " \n",
    "\n",
    "Example 1:\n",
    "```\n",
    "Input: A = [1,2,0,0], K = 34\n",
    "Output: [1,2,3,4]\n",
    "Explanation: 1200 + 34 = 1234\n",
    "```\n",
    "Example 2:\n",
    "```\n",
    "Input: A = [2,7,4], K = 181\n",
    "Output: [4,5,5]\n",
    "Explanation: 274 + 181 = 455\n",
    "```\n",
    "Example 3:\n",
    "```\n",
    "Input: A = [2,1,5], K = 806\n",
    "Output: [1,0,2,1]\n",
    "Explanation: 215 + 806 = 1021\n",
    "```\n",
    "Example 4:\n",
    "```\n",
    "Input: A = [9,9,9,9,9,9,9,9,9,9], K = 1\n",
    "Output: [1,0,0,0,0,0,0,0,0,0,0]\n",
    "Explanation: 9999999999 + 1 = 10000000000\n",
    "```\n",
    "\n",
    "**Note：**\n",
    "\n",
    "1 <= A.length <= 10000\n",
    "0 <= A[i] <= 9\n",
    "0 <= K <= 10000\n",
    "If A.length > 1, then A[0] != 0"
   ]
  },
  {
   "cell_type": "code",
   "execution_count": 1,
   "metadata": {},
   "outputs": [],
   "source": [
    "def addToArrayForm(A, K):\n",
    "    a = 1\n",
    "    num = 0\n",
    "    for i in A:\n",
    "        num = num * 10 + i\n",
    "\n",
    "    num += K\n",
    "    output = str(num)\n",
    "    return [int(x) for x in output]"
   ]
  },
  {
   "cell_type": "code",
   "execution_count": 2,
   "metadata": {},
   "outputs": [
    {
     "name": "stdout",
     "output_type": "stream",
     "text": [
      "[1, 2, 3, 4]\n"
     ]
    }
   ],
   "source": [
    "print(addToArrayForm([1, 2, 0, 0], 34))"
   ]
  },
  {
   "cell_type": "code",
   "execution_count": 3,
   "metadata": {},
   "outputs": [
    {
     "name": "stdout",
     "output_type": "stream",
     "text": [
      "[4, 5, 5]\n"
     ]
    }
   ],
   "source": [
    "print(addToArrayForm([2,7,4], 181))"
   ]
  },
  {
   "cell_type": "code",
   "execution_count": 4,
   "metadata": {},
   "outputs": [
    {
     "name": "stdout",
     "output_type": "stream",
     "text": [
      "[1, 0, 2, 1]\n"
     ]
    }
   ],
   "source": [
    "print(addToArrayForm([2,1,5], 806))"
   ]
  },
  {
   "cell_type": "code",
   "execution_count": 5,
   "metadata": {},
   "outputs": [
    {
     "name": "stdout",
     "output_type": "stream",
     "text": [
      "[1, 0, 0, 0, 0, 0, 0, 0, 0, 0, 0]\n"
     ]
    }
   ],
   "source": [
    "print(addToArrayForm([9,9,9,9,9,9,9,9,9,9],1))"
   ]
  }
 ],
 "metadata": {
  "kernelspec": {
   "display_name": "Python 3",
   "language": "python",
   "name": "python3"
  },
  "language_info": {
   "codemirror_mode": {
    "name": "ipython",
    "version": 3
   },
   "file_extension": ".py",
   "mimetype": "text/x-python",
   "name": "python",
   "nbconvert_exporter": "python",
   "pygments_lexer": "ipython3",
   "version": "3.7.1"
  }
 },
 "nbformat": 4,
 "nbformat_minor": 2
}
