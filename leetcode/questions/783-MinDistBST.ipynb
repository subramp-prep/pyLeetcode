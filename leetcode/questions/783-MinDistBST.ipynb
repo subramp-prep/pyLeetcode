{
 "cells": [
  {
   "cell_type": "markdown",
   "metadata": {},
   "source": [
    "Given a Binary Search Tree (BST) with the root node root, return the minimum difference between the values of any two different nodes in the tree.\n",
    "\n",
    "Example :\n",
    "```\n",
    "Input: root = [4,2,6,1,3,null,null]\n",
    "Output: 1\n",
    "```\n",
    "Explanation:\n",
    "Note that root is a TreeNode object, not an array.\n",
    "\n",
    "The given tree [4,2,6,1,3,null,null] is represented by the following diagram:\n",
    "```\n",
    "          4\n",
    "        /   \\\n",
    "      2      6\n",
    "     / \\    \n",
    "    1   3  \n",
    "```\n",
    "while the minimum difference in this tree is 1, it occurs between node 1 and node 2, also between node 3 and node 2.\n",
    "Note:\n",
    "\n",
    "The size of the BST will be between 2 and 100.\n",
    "The BST is always valid, each node's value is an integer, and each node's value is different."
   ]
  },
  {
   "cell_type": "code",
   "execution_count": 1,
   "metadata": {},
   "outputs": [],
   "source": [
    "class TreeNode:\n",
    "    def __init__(self, val, left=None, right=None):\n",
    "        self.val = val\n",
    "        self.left = left\n",
    "        self.right = right\n",
    "\n",
    "def buildTree(nums, index, root):\n",
    "    if index < len(nums) and nums[index]:\n",
    "        root = TreeNode(nums[index])\n",
    "        root.left = buildTree(nums, 2*index+1, root.left)\n",
    "        root.right = buildTree(nums, 2*index+2, root.right)\n",
    "\n",
    "    return root\n",
    "\n",
    "prev = float('-inf')\n",
    "res = float('inf')\n",
    "\n",
    "def minDiffBST(root):\n",
    "    if root is None:\n",
    "        return 0\n",
    "\n",
    "    global prev\n",
    "    global res\n",
    "\n",
    "    minDiffBST(root.left)\n",
    "\n",
    "    res = min(res, root.val-prev)\n",
    "    prev = root.val\n",
    "\n",
    "    minDiffBST(root.right)\n",
    "\n",
    "    return res"
   ]
  },
  {
   "cell_type": "code",
   "execution_count": 2,
   "metadata": {},
   "outputs": [
    {
     "name": "stdout",
     "output_type": "stream",
     "text": [
      "1\n"
     ]
    }
   ],
   "source": [
    "print(minDiffBST(buildTree([1, None, 3, None, None, 2], 0, None)))"
   ]
  },
  {
   "cell_type": "code",
   "execution_count": 3,
   "metadata": {},
   "outputs": [
    {
     "name": "stdout",
     "output_type": "stream",
     "text": [
      "1\n"
     ]
    }
   ],
   "source": [
    "print(minDiffBST(buildTree([90,69,None,49,89,None,None,None,52], 0, None)))"
   ]
  },
  {
   "cell_type": "code",
   "execution_count": null,
   "metadata": {},
   "outputs": [],
   "source": []
  }
 ],
 "metadata": {
  "kernelspec": {
   "display_name": "Python 3",
   "language": "python",
   "name": "python3"
  },
  "language_info": {
   "codemirror_mode": {
    "name": "ipython",
    "version": 3
   },
   "file_extension": ".py",
   "mimetype": "text/x-python",
   "name": "python",
   "nbconvert_exporter": "python",
   "pygments_lexer": "ipython3",
   "version": "3.7.1"
  }
 },
 "nbformat": 4,
 "nbformat_minor": 2
}
