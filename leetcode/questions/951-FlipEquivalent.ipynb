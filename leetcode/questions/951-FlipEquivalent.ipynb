{
 "cells": [
  {
   "attachments": {},
   "cell_type": "markdown",
   "metadata": {},
   "source": [
    "For a binary tree T, we can define a flip operation as follows: choose any node, and swap the left and right child subtrees.\n",
    "\n",
    "A binary tree X is flip equivalent to a binary tree Y if and only if we can make X equal to Y after some number of flip operations.\n",
    "\n",
    "Write a function that determines whether two binary trees are flip equivalent.  The trees are given by root nodes root1 and root2.\n",
    "\n",
    " \n",
    "\n",
    "Example 1:\n",
    "\n",
    "Input: root1 = [1,2,3,4,5,6,null,null,null,7,8], root2 = [1,3,2,null,6,4,5,null,null,null,null,8,7]\n",
    "Output: true\n",
    "Explanation: We flipped at nodes with values 1, 3, and 5.\n",
    "Flipped Trees Diagram\n",
    "\n",
    "https://assets.leetcode.com/uploads/2018/11/29/tree_ex.png![image.png](attachment:image.png)\n",
    "\n",
    "Note:\n",
    "\n",
    "Each tree will have at most 100 nodes.\n",
    "Each value in each tree will be a unique integer in the range [0, 99]."
   ]
  },
  {
   "cell_type": "code",
   "execution_count": 8,
   "metadata": {},
   "outputs": [],
   "source": [
    "class Treenode:\n",
    "    def __init__(self, val):\n",
    "        self.val = val\n",
    "        self.left = None\n",
    "        self.right = None\n",
    "        \n",
    "def buildTree(nums, index, root):\n",
    "    if index < len(nums) and nums[index]:\n",
    "        root = Treenode(nums[index])\n",
    "        root.left = buildTree(nums, 2*index+1, root.left)\n",
    "        root.right = buildTree(nums, 2*index+2, root.right)\n",
    "        \n",
    "    return root\n",
    "\n",
    "\n",
    "def flipEquivalent(root1, root2):\n",
    "    if root1 == None and root2 == None:\n",
    "        return True\n",
    "    \n",
    "    if not root1 or not root2 or root1.val != root2.val:\n",
    "        return False\n",
    "    \n",
    "    return (flipEquivalent(root1.left, root2.left) and\n",
    "           flipEquivalent(root1.right, root2.right) or\n",
    "           flipEquivalent(root1.left, root2.right) and\n",
    "           flipEquivalent(root1.right, root2.left))"
   ]
  },
  {
   "cell_type": "code",
   "execution_count": 10,
   "metadata": {},
   "outputs": [
    {
     "name": "stdout",
     "output_type": "stream",
     "text": [
      "True\n"
     ]
    }
   ],
   "source": [
    "nums1 = [1,2,3,4,5,6,None,None,None,7,8]\n",
    "root1 = buildTree(nums1, 0, None)\n",
    "\n",
    "nums2 = [1,3,2,None,6,4,5,None,None,None,None,None,None,8,7]\n",
    "root2 = buildTree(nums2, 0, None)\n",
    "\n",
    "print(flipEquivalent(root1, root2))"
   ]
  }
 ],
 "metadata": {
  "kernelspec": {
   "display_name": "Python 3",
   "language": "python",
   "name": "python3"
  },
  "language_info": {
   "codemirror_mode": {
    "name": "ipython",
    "version": 3
   },
   "file_extension": ".py",
   "mimetype": "text/x-python",
   "name": "python",
   "nbconvert_exporter": "python",
   "pygments_lexer": "ipython3",
   "version": "3.7.1"
  }
 },
 "nbformat": 4,
 "nbformat_minor": 2
}
