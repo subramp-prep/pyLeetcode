{
 "cells": [
  {
   "cell_type": "markdown",
   "metadata": {},
   "source": [
    "## 226 - Invert Tree\n",
    "\n",
    "Invert a binary tree.\n",
    "\n",
    "Example:\n",
    "\n",
    "Input:\n",
    "\n",
    "```\n",
    "     4\n",
    "   /   \\\n",
    "  2     7\n",
    " / \\   / \\\n",
    "1   3 6   9\n",
    "```\n",
    "\n",
    "Output:\n",
    "\n",
    "```\n",
    "     4\n",
    "   /   \\\n",
    "  7     2\n",
    " / \\   / \\\n",
    "9   6 3   1\n",
    "```"
   ]
  },
  {
   "cell_type": "code",
   "execution_count": 1,
   "metadata": {},
   "outputs": [],
   "source": [
    "class TreeNode:    \n",
    "    def __init__(self, x):\n",
    "        self.val = x\n",
    "        self.left = None\n",
    "        self.right = None\n",
    "        \n",
    "def buildTree(nums, index, root):\n",
    "    if index < len(nums) and nums[index]:\n",
    "        root = TreeNode(nums[index])\n",
    "        root.left = buildTree(nums, 2*index+1, root.left)\n",
    "        root.right = buildTree(nums, 2*index+2, root.right)\n",
    "    \n",
    "    return root\n",
    "\n",
    "def printLevelOrder(root, level, output):\n",
    "    if not root:\n",
    "        return None\n",
    "    \n",
    "    if len(output) < level+1:\n",
    "        output.append([])\n",
    "        \n",
    "    output[level].append(root.val)\n",
    "    \n",
    "    printLevelOrder(root.left, level+1, output)\n",
    "    printLevelOrder(root.right, level+1, output)\n",
    "    \n",
    "    return output\n",
    "\n",
    "def invertTree(root):\n",
    "    if not root:\n",
    "        return None\n",
    "    \n",
    "    root.left, root.right = invertTree(root.right), invertTree(root.left)\n",
    "    \n",
    "    return root"
   ]
  },
  {
   "cell_type": "code",
   "execution_count": 2,
   "metadata": {},
   "outputs": [
    {
     "name": "stdout",
     "output_type": "stream",
     "text": [
      "[4]\n",
      "[7, 2]\n",
      "[9, 6, 3, 1]\n"
     ]
    }
   ],
   "source": [
    "nums = [4,2,7,1,3,6,9]\n",
    "root = buildTree(nums, 0, None)\n",
    "inverted = invertTree(root)\n",
    "\n",
    "for level in printLevelOrder(inverted, 0, []):\n",
    "    print(level)"
   ]
  },
  {
   "cell_type": "code",
   "execution_count": null,
   "metadata": {},
   "outputs": [],
   "source": []
  }
 ],
 "metadata": {
  "kernelspec": {
   "display_name": "Python 3",
   "language": "python",
   "name": "python3"
  },
  "language_info": {
   "codemirror_mode": {
    "name": "ipython",
    "version": 3
   },
   "file_extension": ".py",
   "mimetype": "text/x-python",
   "name": "python",
   "nbconvert_exporter": "python",
   "pygments_lexer": "ipython3",
   "version": "3.7.1"
  }
 },
 "nbformat": 4,
 "nbformat_minor": 2
}
