{
 "cells": [
  {
   "cell_type": "markdown",
   "metadata": {},
   "source": [
    "## 228 Summary Ranges\n",
    "\n",
    "Given a sorted integer array without duplicates, return the summary of its ranges.\n",
    "\n",
    "Example 1:\n",
    "```\n",
    "Input:  [0,1,2,4,5,7]\n",
    "Output: [\"0->2\",\"4->5\",\"7\"]\n",
    "```\n",
    "Explanation: 0,1,2 form a continuous range; 4,5 form a continuous range.\n",
    "Example 2:\n",
    "```\n",
    "Input:  [0,2,3,4,6,8,9]\n",
    "Output: [\"0\",\"2->4\",\"6\",\"8->9\"]\n",
    "```\n",
    "Explanation: 2,3,4 form a continuous range; 8,9 form a continuous range."
   ]
  },
  {
   "cell_type": "code",
   "execution_count": 5,
   "metadata": {},
   "outputs": [],
   "source": [
    "def summaryRange(nums):\n",
    "    prev = start = None\n",
    "    output = []\n",
    "    \n",
    "    if len(nums) <= 0:\n",
    "        return output\n",
    "    \n",
    "    def helper(start, end):\n",
    "        if end - start == 0:\n",
    "            output.append(str(end))\n",
    "        else:\n",
    "            output.append(str(start) + '->' + str(end))\n",
    "    \n",
    "\n",
    "    for num in nums:\n",
    "        if prev == None:\n",
    "            start = prev = num\n",
    "        elif num - prev == 1:\n",
    "            prev = num\n",
    "        else:\n",
    "            helper(start, prev)\n",
    "\n",
    "            prev = start = num\n",
    "\n",
    "    helper(start, prev)\n",
    "\n",
    "    return output"
   ]
  },
  {
   "cell_type": "code",
   "execution_count": 6,
   "metadata": {},
   "outputs": [
    {
     "name": "stdout",
     "output_type": "stream",
     "text": [
      "['0->2', '4->5', '7']\n"
     ]
    }
   ],
   "source": [
    "print(summaryRange([0,1,2,4,5,7]))"
   ]
  },
  {
   "cell_type": "code",
   "execution_count": 7,
   "metadata": {},
   "outputs": [
    {
     "name": "stdout",
     "output_type": "stream",
     "text": [
      "['0', '2->4', '6', '8->9']\n"
     ]
    }
   ],
   "source": [
    "print(summaryRange([0,2,3,4,6,8,9]))"
   ]
  },
  {
   "cell_type": "code",
   "execution_count": 8,
   "metadata": {},
   "outputs": [
    {
     "name": "stdout",
     "output_type": "stream",
     "text": [
      "[]\n"
     ]
    }
   ],
   "source": [
    "print(summaryRange([]))"
   ]
  }
 ],
 "metadata": {
  "kernelspec": {
   "display_name": "Python 3",
   "language": "python",
   "name": "python3"
  },
  "language_info": {
   "codemirror_mode": {
    "name": "ipython",
    "version": 3
   },
   "file_extension": ".py",
   "mimetype": "text/x-python",
   "name": "python",
   "nbconvert_exporter": "python",
   "pygments_lexer": "ipython3",
   "version": "3.7.1"
  }
 },
 "nbformat": 4,
 "nbformat_minor": 2
}
