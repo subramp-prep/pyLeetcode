{
 "cells": [
  {
   "cell_type": "markdown",
   "metadata": {},
   "source": [
    "## 540 Unique element in sorted array with duplicates\n",
    "\n",
    "You are given a sorted array consisting of only integers where every element appears exactly twice, except for one element which appears exactly once. Find this single element that appears only once.\n",
    "\n",
    " \n",
    "\n",
    "Example 1:\n",
    "```\n",
    "Input: [1,1,2,3,3,4,4,8,8]\n",
    "Output: 2\n",
    "```\n",
    "Example 2:\n",
    "```\n",
    "Input: [3,3,7,7,10,11,11]\n",
    "Output: 10\n",
    "```\n",
    "\n",
    "Note: Your solution should run in O(log n) time and O(1) space."
   ]
  },
  {
   "cell_type": "code",
   "execution_count": 3,
   "metadata": {},
   "outputs": [],
   "source": [
    "def uniqueElemInSortedArray(nums):\n",
    "    l, r = 0, len(nums)-1\n",
    "    \n",
    "    while l < r:\n",
    "        \n",
    "        m = (l+r)//2\n",
    "        \n",
    "        if m%2 == 0:\n",
    "            if nums[m] != nums[m+1]:\n",
    "                r = m\n",
    "            else:\n",
    "                l = m+1\n",
    "        \n",
    "        else:\n",
    "            if nums[m] != nums[m-1]:\n",
    "                r = m\n",
    "            else:\n",
    "                l = m+1\n",
    "                \n",
    "    return nums[l]"
   ]
  },
  {
   "cell_type": "code",
   "execution_count": 4,
   "metadata": {},
   "outputs": [
    {
     "name": "stdout",
     "output_type": "stream",
     "text": [
      "2\n"
     ]
    }
   ],
   "source": [
    "print(uniqueElemInSortedArray([1,1,2,3,3,4,4,8,8]))"
   ]
  }
 ],
 "metadata": {
  "kernelspec": {
   "display_name": "Python 3",
   "language": "python",
   "name": "python3"
  },
  "language_info": {
   "codemirror_mode": {
    "name": "ipython",
    "version": 3
   },
   "file_extension": ".py",
   "mimetype": "text/x-python",
   "name": "python",
   "nbconvert_exporter": "python",
   "pygments_lexer": "ipython3",
   "version": "3.7.1"
  }
 },
 "nbformat": 4,
 "nbformat_minor": 2
}
