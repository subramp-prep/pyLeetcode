{
 "cells": [
  {
   "cell_type": "markdown",
   "metadata": {},
   "source": [
    "## Q56 Merge Intervals\n",
    "\n",
    "Given a collection of intervals, merge all overlapping intervals.\n",
    "\n",
    "Example 1:\n",
    "```\n",
    "Input: [[1,3],[2,6],[8,10],[15,18]]\n",
    "Output: [[1,6],[8,10],[15,18]]\n",
    "```\n",
    "Explanation: Since intervals [1,3] and [2,6] overlaps, merge them into [1,6].\n",
    "Example 2:\n",
    "```\n",
    "Input: [[1,4],[4,5]]\n",
    "Output: [[1,5]]\n",
    "```\n",
    "Explanation: Intervals [1,4] and [4,5] are considered overlapping.\n",
    "NOTE: input types have been changed on April 15, 2019. Please reset to default code definition to get new method signature."
   ]
  },
  {
   "cell_type": "code",
   "execution_count": 1,
   "metadata": {},
   "outputs": [],
   "source": [
    "def mergeIntervals(intervals):\n",
    "    intervals = sorted(intervals, key=lambda x: x[0])\n",
    "    result = []\n",
    "    \n",
    "    for i in intervals:\n",
    "        if result and result[-1][1] >= i[0]:\n",
    "            result[-1][1] = max(result[-1][1], i[1])\n",
    "        else:\n",
    "            result.append(i)\n",
    "            \n",
    "    return result"
   ]
  },
  {
   "cell_type": "code",
   "execution_count": 2,
   "metadata": {},
   "outputs": [
    {
     "name": "stdout",
     "output_type": "stream",
     "text": [
      "[[1, 4], [5, 6]]\n"
     ]
    }
   ],
   "source": [
    "print(mergeIntervals([[1, 4], [5, 6]]))"
   ]
  },
  {
   "cell_type": "code",
   "execution_count": 3,
   "metadata": {},
   "outputs": [
    {
     "name": "stdout",
     "output_type": "stream",
     "text": [
      "[[1, 6], [8, 10], [15, 18]]\n"
     ]
    }
   ],
   "source": [
    "print(mergeIntervals([[1, 3], [2, 6], [8, 10], [15, 18]]))"
   ]
  }
 ],
 "metadata": {
  "kernelspec": {
   "display_name": "Python 3",
   "language": "python",
   "name": "python3"
  },
  "language_info": {
   "codemirror_mode": {
    "name": "ipython",
    "version": 3
   },
   "file_extension": ".py",
   "mimetype": "text/x-python",
   "name": "python",
   "nbconvert_exporter": "python",
   "pygments_lexer": "ipython3",
   "version": "3.7.6"
  }
 },
 "nbformat": 4,
 "nbformat_minor": 4
}
