{
 "cells": [
  {
   "cell_type": "markdown",
   "metadata": {},
   "source": [
    "## 101 Tree Symmetric\n",
    "\n",
    "Given a binary tree, check whether it is a mirror of itself (ie, symmetric around its center).\n",
    "\n",
    "For example, this binary tree [1,2,2,3,4,4,3] is symmetric:\n",
    "```\n",
    "    1\n",
    "   / \\\n",
    "  2   2\n",
    " / \\ / \\\n",
    "3  4 4  3\n",
    "```\n",
    "\n",
    "But the following [1,2,2,null,3,null,3] is not:\n",
    "```\n",
    "    1\n",
    "   / \\\n",
    "  2   2\n",
    "   \\   \\\n",
    "   3    3\n",
    "``` \n",
    "\n",
    "Note:\n",
    "Bonus points if you could solve it both recursively and iteratively."
   ]
  },
  {
   "cell_type": "code",
   "execution_count": 1,
   "metadata": {},
   "outputs": [],
   "source": [
    "class TreeNode:\n",
    "    def __init__(self, val, left=None, right=None):\n",
    "        self.val = val\n",
    "        self.left = left\n",
    "        self.right = right\n",
    "        \n",
    "def isTreeSymmetric(root):\n",
    "    \n",
    "    def helper(left, right):\n",
    "        if left is None and right is None:\n",
    "            return True\n",
    "        \n",
    "        return (left is not None and right is not None) and\\\n",
    "               (left.val == right.val) and\\\n",
    "               helper(left.right, right.left) and\\\n",
    "               helper(left.left, right.right)\n",
    "    \n",
    "    if root:\n",
    "        return helper(root.left, root.right)\n",
    "    \n",
    "    return True"
   ]
  },
  {
   "cell_type": "code",
   "execution_count": 2,
   "metadata": {},
   "outputs": [
    {
     "name": "stdout",
     "output_type": "stream",
     "text": [
      "True\n"
     ]
    }
   ],
   "source": [
    "root = TreeNode(1, TreeNode(2, TreeNode(3), TreeNode(4)), TreeNode(2, TreeNode(4), TreeNode(3)))\n",
    "print(isTreeSymmetric(root))"
   ]
  }
 ],
 "metadata": {
  "kernelspec": {
   "display_name": "Python 3",
   "language": "python",
   "name": "python3"
  },
  "language_info": {
   "codemirror_mode": {
    "name": "ipython",
    "version": 3
   },
   "file_extension": ".py",
   "mimetype": "text/x-python",
   "name": "python",
   "nbconvert_exporter": "python",
   "pygments_lexer": "ipython3",
   "version": "3.7.1"
  }
 },
 "nbformat": 4,
 "nbformat_minor": 2
}
