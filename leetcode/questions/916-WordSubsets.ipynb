{
 "cells": [
  {
   "cell_type": "markdown",
   "metadata": {},
   "source": [
    "## 916 - Word Subsets\n",
    "\n",
    "We are given two arrays A and B of words.  Each word is a string of lowercase letters.\n",
    "\n",
    "Now, say that word b is a subset of word a if every letter in b occurs in a, including multiplicity.  For example, \"wrr\" is a subset of \"warrior\", but is not a subset of \"world\".\n",
    "\n",
    "Now say a word a from A is universal if for every b in B, b is a subset of a. \n",
    "\n",
    "Return a list of all universal words in A.  You can return the words in any order.\n",
    "\n",
    " \n",
    "\n",
    "Example 1:\n",
    "```\n",
    "Input: A = [\"amazon\",\"apple\",\"facebook\",\"google\",\"leetcode\"], B = [\"e\",\"o\"]\n",
    "Output: [\"facebook\",\"google\",\"leetcode\"]\n",
    "```\n",
    "Example 2:\n",
    "```\n",
    "Input: A = [\"amazon\",\"apple\",\"facebook\",\"google\",\"leetcode\"], B = [\"l\",\"e\"]\n",
    "Output: [\"apple\",\"google\",\"leetcode\"]\n",
    "```\n",
    "Example 3:\n",
    "```\n",
    "Input: A = [\"amazon\",\"apple\",\"facebook\",\"google\",\"leetcode\"], B = [\"e\",\"oo\"]\n",
    "Output: [\"facebook\",\"google\"]\n",
    "```\n",
    "Example 4:\n",
    "```\n",
    "Input: A = [\"amazon\",\"apple\",\"facebook\",\"google\",\"leetcode\"], B = [\"lo\",\"eo\"]\n",
    "Output: [\"google\",\"leetcode\"]\n",
    "```\n",
    "Example 5:\n",
    "```\n",
    "Input: A = [\"amazon\",\"apple\",\"facebook\",\"google\",\"leetcode\"], B = [\"ec\",\"oc\",\"ceo\"]\n",
    "Output: [\"facebook\",\"leetcode\"]\n",
    "``` \n",
    "\n",
    "Note:\n",
    "\n",
    "1 <= A.length, B.length <= 10000\n",
    "1 <= A[i].length, B[i].length <= 10\n",
    "A[i] and B[i] consist only of lowercase letters.\n",
    "All words in A[i] are unique: there isn't i != j with A[i] == A[j]."
   ]
  },
  {
   "cell_type": "code",
   "execution_count": 1,
   "metadata": {},
   "outputs": [],
   "source": [
    "import collections\n",
    "\n",
    "def wordSubsets(A, B):\n",
    "\n",
    "    matchSet = []\n",
    "    for b in B:\n",
    "        matchSet.append(collections.Counter(b))\n",
    "\n",
    "    output = []\n",
    "\n",
    "    for a in A:\n",
    "        t = collections.Counter(a)\n",
    "        \n",
    "        add = True\n",
    "        for m in matchSet:\n",
    "            for b in m:\n",
    "                if b not in t or t[b] < m[b]:\n",
    "                    #print(b, t)\n",
    "                    add = False\n",
    "                    break\n",
    "        \n",
    "        if add: output.append(a)\n",
    "\n",
    "    return output"
   ]
  },
  {
   "cell_type": "markdown",
   "metadata": {},
   "source": [
    "## Optimal solution\n",
    "\n",
    "Build an array of 26 elements equivalent to 26 alphabets and store the maximum occurrences of **B** in the array. Compare the array B with characters in A"
   ]
  },
  {
   "cell_type": "code",
   "execution_count": 3,
   "metadata": {},
   "outputs": [],
   "source": [
    "def wordSubsets_opt(A, B):\n",
    "    def count(word):\n",
    "        ans = [0] * 26\n",
    "        for letter in word:\n",
    "            ans[ord(letter) - ord('a')] += 1\n",
    "        return ans\n",
    "\n",
    "    bmax = [0] * 26\n",
    "    for b in B:\n",
    "        for i, c in enumerate(count(b)):\n",
    "            bmax[i] = max(bmax[i], c)\n",
    "\n",
    "    ans = []\n",
    "    for a in A:\n",
    "        if all(x >= y for x, y in zip(count(a), bmax)):\n",
    "            ans.append(a)\n",
    "    return ans"
   ]
  },
  {
   "cell_type": "code",
   "execution_count": 4,
   "metadata": {},
   "outputs": [
    {
     "name": "stdout",
     "output_type": "stream",
     "text": [
      "['warrior']\n"
     ]
    }
   ],
   "source": [
    "print(wordSubsets(['warrior'], ['wrr']))"
   ]
  },
  {
   "cell_type": "code",
   "execution_count": 5,
   "metadata": {},
   "outputs": [
    {
     "name": "stdout",
     "output_type": "stream",
     "text": [
      "['facebook', 'google', 'leetcode']\n"
     ]
    }
   ],
   "source": [
    "print(wordSubsets(\n",
    "    [\"amazon\", \"apple\", \"facebook\", \"google\", \"leetcode\"], [\"e\", \"o\"]))"
   ]
  },
  {
   "cell_type": "code",
   "execution_count": 15,
   "metadata": {},
   "outputs": [
    {
     "name": "stdout",
     "output_type": "stream",
     "text": [
      "count: Counter({'l': 1, 'e': 1})\n",
      "['apple', 'google', 'leetcode']\n"
     ]
    }
   ],
   "source": [
    "print(wordSubsets(\n",
    "    [\"amazon\", \"apple\", \"facebook\", \"google\", \"leetcode\"], [\"l\", \"e\"]))"
   ]
  },
  {
   "cell_type": "code",
   "execution_count": 14,
   "metadata": {},
   "outputs": [
    {
     "name": "stdout",
     "output_type": "stream",
     "text": [
      "count: Counter({'l': 1, 'o': 1, 'e': 1})\n",
      "['google', 'leetcode']\n"
     ]
    }
   ],
   "source": [
    "print(wordSubsets(\n",
    "    [\"amazon\", \"apple\", \"facebook\", \"google\", \"leetcode\"], [\"lo\", \"eo\"]))"
   ]
  },
  {
   "cell_type": "code",
   "execution_count": 13,
   "metadata": {},
   "outputs": [
    {
     "name": "stdout",
     "output_type": "stream",
     "text": [
      "count: Counter({'o': 2, 'e': 1})\n",
      "['facebook', 'google']\n"
     ]
    }
   ],
   "source": [
    "print(wordSubsets(\n",
    "    [\"amazon\", \"apple\", \"facebook\", \"google\", \"leetcode\"], [\"e\", \"oo\"]))"
   ]
  },
  {
   "cell_type": "code",
   "execution_count": 12,
   "metadata": {},
   "outputs": [
    {
     "name": "stdout",
     "output_type": "stream",
     "text": [
      "count: Counter({'e': 1, 'c': 1, 'o': 1})\n",
      "['facebook', 'leetcode']\n"
     ]
    }
   ],
   "source": [
    "print(wordSubsets(\n",
    "    [\"amazon\", \"apple\", \"facebook\", \"google\", \"leetcode\"], [\"ec\", \"oc\", \"ceo\"]\n",
    "))"
   ]
  },
  {
   "cell_type": "markdown",
   "metadata": {},
   "source": [
    "## Most Optimal solution"
   ]
  },
  {
   "cell_type": "code",
   "execution_count": 11,
   "metadata": {},
   "outputs": [],
   "source": [
    "import collections\n",
    "\n",
    "def wordSubsets(A, B):\n",
    "    count = collections.Counter()\n",
    "    for b in B:\n",
    "        count = count | collections.Counter(b)\n",
    "        \n",
    "    print('count:', count)\n",
    "    return [a for a in A if collections.Counter(a) & count == count]"
   ]
  },
  {
   "cell_type": "code",
   "execution_count": null,
   "metadata": {},
   "outputs": [],
   "source": []
  }
 ],
 "metadata": {
  "kernelspec": {
   "display_name": "Python 3",
   "language": "python",
   "name": "python3"
  },
  "language_info": {
   "codemirror_mode": {
    "name": "ipython",
    "version": 3
   },
   "file_extension": ".py",
   "mimetype": "text/x-python",
   "name": "python",
   "nbconvert_exporter": "python",
   "pygments_lexer": "ipython3",
   "version": "3.7.6"
  }
 },
 "nbformat": 4,
 "nbformat_minor": 2
}
