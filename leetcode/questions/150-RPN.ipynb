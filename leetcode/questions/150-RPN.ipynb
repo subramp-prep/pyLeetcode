{
 "cells": [
  {
   "cell_type": "markdown",
   "metadata": {},
   "source": [
    "## 150 - Reverse Polish Notation\n",
    "\n",
    "Evaluate the value of an arithmetic expression in Reverse Polish Notation.\n",
    "\n",
    "Valid operators are +, -, *, /. Each operand may be an integer or another expression.\n",
    "\n",
    "Note:\n",
    "\n",
    "Division between two integers should truncate toward zero.\n",
    "The given RPN expression is always valid. That means the expression would always evaluate to a result and there won't be any divide by zero operation.\n",
    "Example 1:\n",
    "```\n",
    "Input: [\"2\", \"1\", \"+\", \"3\", \"*\"]\n",
    "Output: 9\n",
    "Explanation: ((2 + 1) * 3) = 9\n",
    "```\n",
    "Example 2:\n",
    "```\n",
    "Input: [\"4\", \"13\", \"5\", \"/\", \"+\"]\n",
    "Output: 6\n",
    "Explanation: (4 + (13 / 5)) = 6\n",
    "```\n",
    "Example 3:\n",
    "```\n",
    "Input: [\"10\", \"6\", \"9\", \"3\", \"+\", \"-11\", \"*\", \"/\", \"*\", \"17\", \"+\", \"5\", \"+\"]\n",
    "Output: 22\n",
    "Explanation: \n",
    "  ((10 * (6 / ((9 + 3) * -11))) + 17) + 5\n",
    "= ((10 * (6 / (12 * -11))) + 17) + 5\n",
    "= ((10 * (6 / -132)) + 17) + 5\n",
    "= ((10 * 0) + 17) + 5\n",
    "= (0 + 17) + 5\n",
    "= 17 + 5\n",
    "= 22\n",
    "```"
   ]
  },
  {
   "cell_type": "code",
   "execution_count": 1,
   "metadata": {},
   "outputs": [],
   "source": [
    "def evaluatePrefix(exp):\n",
    "    stack = []\n",
    "\n",
    "    for i in range(len(exp)):\n",
    "\n",
    "        if exp[i] not in '+-*/':\n",
    "            stack.append(int(exp[i]))\n",
    "        else:\n",
    "            s1 = stack.pop()\n",
    "            s2 = stack.pop()\n",
    "\n",
    "            if exp[i] == '+':\n",
    "                stack.append(s1 + s2)\n",
    "            elif exp[i] == '-':\n",
    "                stack.append(s2 - s1)\n",
    "            elif exp[i] == '*':\n",
    "                stack.append(s1 * s2)\n",
    "            else:\n",
    "                stack.append(int(float(s2) / float(s1)))\n",
    "\n",
    "    return stack.pop()"
   ]
  },
  {
   "cell_type": "code",
   "execution_count": 2,
   "metadata": {},
   "outputs": [
    {
     "name": "stdout",
     "output_type": "stream",
     "text": [
      "9\n"
     ]
    }
   ],
   "source": [
    "print(evaluatePrefix([\"2\", \"1\", \"+\", \"3\", \"*\"]))"
   ]
  },
  {
   "cell_type": "code",
   "execution_count": 3,
   "metadata": {},
   "outputs": [
    {
     "name": "stdout",
     "output_type": "stream",
     "text": [
      "6\n"
     ]
    }
   ],
   "source": [
    "print(evaluatePrefix([\"4\", \"13\", \"5\", \"/\", \"+\"]))"
   ]
  },
  {
   "cell_type": "code",
   "execution_count": 4,
   "metadata": {},
   "outputs": [
    {
     "name": "stdout",
     "output_type": "stream",
     "text": [
      "22\n"
     ]
    }
   ],
   "source": [
    "print(evaluatePrefix([\"10\", \"6\", \"9\", \"3\", \"+\", \"-11\", \"*\", \"/\", \"*\", \"17\", \"+\", \"5\", \"+\"]))"
   ]
  }
 ],
 "metadata": {
  "kernelspec": {
   "display_name": "Python 3",
   "language": "python",
   "name": "python3"
  },
  "language_info": {
   "codemirror_mode": {
    "name": "ipython",
    "version": 3
   },
   "file_extension": ".py",
   "mimetype": "text/x-python",
   "name": "python",
   "nbconvert_exporter": "python",
   "pygments_lexer": "ipython3",
   "version": "3.7.1"
  }
 },
 "nbformat": 4,
 "nbformat_minor": 2
}
