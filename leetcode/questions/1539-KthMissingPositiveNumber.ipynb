{
 "cells": [
  {
   "cell_type": "markdown",
   "metadata": {},
   "source": [
    "## 1539. Kth Missing Positive Number\n",
    "\n",
    "\n",
    "Given an array arr of positive integers sorted in a strictly increasing order, and an integer k.\n",
    "\n",
    "Find the kth positive integer that is missing from this array.\n",
    "\n",
    " \n",
    "\n",
    "Example 1:\n",
    "```\n",
    "Input: arr = [2,3,4,7,11], k = 5\n",
    "Output: 9\n",
    "```\n",
    "Explanation: The missing positive integers are [1,5,6,8,9,10,12,13,...]. The 5th missing positive integer is 9.\n",
    "Example 2:\n",
    "```\n",
    "Input: arr = [1,2,3,4], k = 2\n",
    "Output: 6\n",
    "```\n",
    "Explanation: The missing positive integers are [5,6,7,...]. The 2nd missing positive integer is 6.\n",
    " \n",
    "\n",
    "Constraints:\n",
    "```\n",
    "1 <= arr.length <= 1000\n",
    "1 <= arr[i] <= 1000\n",
    "1 <= k <= 1000\n",
    "arr[i] < arr[j] for 1 <= i < j <= arr.length\n",
    "```"
   ]
  },
  {
   "cell_type": "code",
   "execution_count": 5,
   "metadata": {},
   "outputs": [],
   "source": [
    "def findKthPositive(arr, k):\n",
    "    l, r = 0, len(arr)\n",
    "    while l < r:\n",
    "        m = (l+r)//2\n",
    "        \n",
    "        if arr[m]-m-1 < k:\n",
    "            l = m+1\n",
    "        else:\n",
    "            r = m\n",
    "            \n",
    "    return l+k"
   ]
  },
  {
   "cell_type": "code",
   "execution_count": 6,
   "metadata": {},
   "outputs": [
    {
     "name": "stdout",
     "output_type": "stream",
     "text": [
      "9\n"
     ]
    }
   ],
   "source": [
    "print(findKthPositive([2,3,4,7,11], 5))"
   ]
  },
  {
   "cell_type": "code",
   "execution_count": 7,
   "metadata": {},
   "outputs": [
    {
     "name": "stdout",
     "output_type": "stream",
     "text": [
      "6\n"
     ]
    }
   ],
   "source": [
    "print(findKthPositive([1,2,3,4], 2))"
   ]
  }
 ],
 "metadata": {
  "kernelspec": {
   "display_name": "Python 3",
   "language": "python",
   "name": "python3"
  },
  "language_info": {
   "codemirror_mode": {
    "name": "ipython",
    "version": 3
   },
   "file_extension": ".py",
   "mimetype": "text/x-python",
   "name": "python",
   "nbconvert_exporter": "python",
   "pygments_lexer": "ipython3",
   "version": "3.7.6"
  }
 },
 "nbformat": 4,
 "nbformat_minor": 4
}
