{
 "cells": [
  {
   "cell_type": "markdown",
   "metadata": {},
   "source": [
    "## 168 Excel Sheet Column\n",
    "\n",
    "Given a positive integer, return its corresponding column title as appear in an Excel sheet.\n",
    "\n",
    "For example:\n",
    "\n",
    "    1 -> A\n",
    "    2 -> B\n",
    "    3 -> C\n",
    "    ...\n",
    "    26 -> Z\n",
    "    27 -> AA\n",
    "    28 -> AB \n",
    "    ...\n",
    "Example 1:\n",
    "```\n",
    "Input: 1\n",
    "Output: \"A\"\n",
    "```\n",
    "Example 2:\n",
    "```\n",
    "Input: 28\n",
    "Output: \"AB\"\n",
    "```\n",
    "Example 3:\n",
    "```\n",
    "Input: 701\n",
    "Output: \"ZY\"\n",
    "```"
   ]
  },
  {
   "cell_type": "code",
   "execution_count": 3,
   "metadata": {},
   "outputs": [],
   "source": [
    "import string\n",
    "\n",
    "def convertToTitle(num):\n",
    "    alphabets = string.ascii_uppercase\n",
    "    output = []\n",
    "    \n",
    "    while num > 0:\n",
    "        output.append(alphabets[num%26-1])\n",
    "        num = (num-1)//26\n",
    "        \n",
    "    output.reverse()\n",
    "    return ''.join(output)"
   ]
  },
  {
   "cell_type": "code",
   "execution_count": 4,
   "metadata": {},
   "outputs": [
    {
     "name": "stdout",
     "output_type": "stream",
     "text": [
      "ZY\n"
     ]
    }
   ],
   "source": [
    "print(convertToTitle(701))"
   ]
  },
  {
   "cell_type": "code",
   "execution_count": 5,
   "metadata": {},
   "outputs": [
    {
     "name": "stdout",
     "output_type": "stream",
     "text": [
      "AB\n"
     ]
    }
   ],
   "source": [
    "print(convertToTitle(28))"
   ]
  },
  {
   "cell_type": "code",
   "execution_count": 6,
   "metadata": {},
   "outputs": [
    {
     "name": "stdout",
     "output_type": "stream",
     "text": [
      "A\n"
     ]
    }
   ],
   "source": [
    "print(convertToTitle(1))"
   ]
  },
  {
   "cell_type": "code",
   "execution_count": 7,
   "metadata": {},
   "outputs": [
    {
     "name": "stdout",
     "output_type": "stream",
     "text": [
      "ADW\n"
     ]
    }
   ],
   "source": [
    "print(convertToTitle(803))"
   ]
  }
 ],
 "metadata": {
  "kernelspec": {
   "display_name": "Python 3",
   "language": "python",
   "name": "python3"
  },
  "language_info": {
   "codemirror_mode": {
    "name": "ipython",
    "version": 3
   },
   "file_extension": ".py",
   "mimetype": "text/x-python",
   "name": "python",
   "nbconvert_exporter": "python",
   "pygments_lexer": "ipython3",
   "version": "3.7.1"
  }
 },
 "nbformat": 4,
 "nbformat_minor": 2
}
