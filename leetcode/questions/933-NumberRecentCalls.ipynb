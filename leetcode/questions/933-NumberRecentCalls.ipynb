{
 "cells": [
  {
   "cell_type": "markdown",
   "metadata": {},
   "source": [
    "# Number of Recent Calls\n",
    "\n",
    "Write a class RecentCounter to count recent requests.\n",
    "\n",
    "It has only one method: ping(int t), where t represents some time in milliseconds.\n",
    "\n",
    "Return the number of pings that have been made from 3000 milliseconds ago until now.\n",
    "\n",
    "Any ping with time in [t - 3000, t] will count, including the current ping.\n",
    "\n",
    "It is guaranteed that every call to ping uses a strictly larger value of t than before.\n",
    "\n",
    " \n",
    "```\n",
    "Example 1:\n",
    "\n",
    "Input: inputs = [\"RecentCounter\",\"ping\",\"ping\",\"ping\",\"ping\"], inputs = [[],[1],[100],[3001],[3002]]\n",
    "Output: [null,1,2,3,3]\n",
    "```\n",
    "\n",
    "### Note:\n",
    "\n",
    "Each test case will have at most 10000 calls to ping.\n",
    "Each test case will call ping with strictly increasing values of t.\n",
    "Each call to ping will have 1 <= t <= 10^9."
   ]
  },
  {
   "cell_type": "code",
   "execution_count": null,
   "metadata": {},
   "outputs": [],
   "source": [
    "from collections import deque\n",
    "\n",
    "class RecentCounter:\n",
    "\n",
    "    def __init__(self):\n",
    "        self.q = deque()\n",
    "\n",
    "    def ping(self, t):\n",
    "        \"\"\"\n",
    "        :type t: int\n",
    "        :rtype: int\n",
    "        \"\"\"\n",
    "        self.q.append(t)\n",
    "        \n",
    "        while self.q[0] < t-3000:\n",
    "            self.q.popleft()\n",
    "        \n",
    "        return len(self.q)"
   ]
  },
  {
   "cell_type": "code",
   "execution_count": null,
   "metadata": {},
   "outputs": [],
   "source": [
    "obj = RecentCounter()\n",
    "print(obj.ping(1))\n",
    "print(obj.ping(100))\n",
    "print(obj.ping(3001))\n",
    "print(obj.ping(3002))"
   ]
  }
 ],
 "metadata": {
  "kernelspec": {
   "display_name": "Python 3",
   "language": "python",
   "name": "python3"
  },
  "language_info": {
   "codemirror_mode": {
    "name": "ipython",
    "version": 3
   },
   "file_extension": ".py",
   "mimetype": "text/x-python",
   "name": "python",
   "nbconvert_exporter": "python",
   "pygments_lexer": "ipython3",
   "version": "3.7.0"
  }
 },
 "nbformat": 4,
 "nbformat_minor": 2
}
