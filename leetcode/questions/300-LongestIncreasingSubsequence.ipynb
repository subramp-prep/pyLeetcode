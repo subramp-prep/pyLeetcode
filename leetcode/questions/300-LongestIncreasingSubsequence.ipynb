{
 "cells": [
  {
   "cell_type": "markdown",
   "metadata": {},
   "source": [
    "## 300 Longest Increasing Subsequence\n",
    "\n",
    "Given an unsorted array of integers, find the length of longest increasing subsequence.\n",
    "\n",
    "Example:\n",
    "```\n",
    "Input: [10,9,2,5,3,7,101,18]\n",
    "Output: 4 \n",
    "```\n",
    "Explanation: The longest increasing subsequence is [2,3,7,101], therefore the length is 4. \n",
    "Note:\n",
    "\n",
    "There may be more than one LIS combination, it is only necessary for you to return the length.\n",
    "Your algorithm should run in O(n2) complexity.\n",
    "Follow up: Could you improve it to O(n log n) time complexity?"
   ]
  },
  {
   "cell_type": "markdown",
   "metadata": {},
   "source": [
    "### Recursion"
   ]
  },
  {
   "cell_type": "code",
   "execution_count": 5,
   "metadata": {},
   "outputs": [],
   "source": [
    "def lis_recursion(nums):\n",
    "    \n",
    "    def helper(index, length, prev):\n",
    "        if index == length:\n",
    "            return 0\n",
    "        \n",
    "        exc = helper(index+1, length, prev)\n",
    "        \n",
    "        inc = 0\n",
    "        if prev < nums[index]:\n",
    "            inc = 1+ helper(index+1, length, nums[index])\n",
    "            \n",
    "        return max(exc, inc)\n",
    "    \n",
    "    #return helper(0, len(nums), 0) <-- previous value should be lesser than 0\n",
    "    return helper(0, len(nums), float('-inf'))"
   ]
  },
  {
   "cell_type": "code",
   "execution_count": 1,
   "metadata": {},
   "outputs": [
    {
     "ename": "NameError",
     "evalue": "name 'lis_recursion' is not defined",
     "output_type": "error",
     "traceback": [
      "\u001b[0;31m---------------------------------------------------------------------------\u001b[0m",
      "\u001b[0;31mNameError\u001b[0m                                 Traceback (most recent call last)",
      "\u001b[0;32m<ipython-input-1-c0fd520a44d4>\u001b[0m in \u001b[0;36m<module>\u001b[0;34m()\u001b[0m\n\u001b[0;32m----> 1\u001b[0;31m \u001b[0mprint\u001b[0m\u001b[0;34m(\u001b[0m\u001b[0mlis_recursion\u001b[0m\u001b[0;34m(\u001b[0m\u001b[0;34m[\u001b[0m\u001b[0;36m10\u001b[0m\u001b[0;34m,\u001b[0m \u001b[0;36m9\u001b[0m\u001b[0;34m,\u001b[0m \u001b[0;36m2\u001b[0m\u001b[0;34m,\u001b[0m \u001b[0;36m5\u001b[0m\u001b[0;34m,\u001b[0m \u001b[0;36m3\u001b[0m\u001b[0;34m,\u001b[0m \u001b[0;36m7\u001b[0m\u001b[0;34m,\u001b[0m \u001b[0;36m101\u001b[0m\u001b[0;34m,\u001b[0m \u001b[0;36m18\u001b[0m\u001b[0;34m]\u001b[0m\u001b[0;34m)\u001b[0m\u001b[0;34m)\u001b[0m\u001b[0;34m\u001b[0m\u001b[0;34m\u001b[0m\u001b[0m\n\u001b[0m",
      "\u001b[0;31mNameError\u001b[0m: name 'lis_recursion' is not defined"
     ]
    }
   ],
   "source": [
    "print(lis_recursion([10, 9, 2, 5, 3, 7, 101, 18]))"
   ]
  },
  {
   "cell_type": "markdown",
   "metadata": {},
   "source": [
    "## Optimized"
   ]
  },
  {
   "cell_type": "code",
   "execution_count": 2,
   "metadata": {},
   "outputs": [],
   "source": [
    "def lis_DP(nums):\n",
    "    \n",
    "    tails = [0]*len(nums)\n",
    "    size = 0\n",
    "    \n",
    "    for num in nums:\n",
    "        i, j = 0, size\n",
    "        \n",
    "        while i != j:\n",
    "            m = (i+j)//2\n",
    "            \n",
    "            if tails[m] < num:\n",
    "                i = m+1\n",
    "            else:\n",
    "                j = m\n",
    "                \n",
    "        size = max(i+1, size)\n",
    "        tails[i] = num\n",
    "        \n",
    "    return size"
   ]
  },
  {
   "cell_type": "code",
   "execution_count": 9,
   "metadata": {},
   "outputs": [
    {
     "name": "stdout",
     "output_type": "stream",
     "text": [
      "4\n"
     ]
    }
   ],
   "source": [
    "print(lis_DP([10, 9, 2, 5, 3, 7, 101, 18]))"
   ]
  },
  {
   "cell_type": "markdown",
   "metadata": {},
   "source": [
    "## Brilliantly optimized"
   ]
  },
  {
   "cell_type": "code",
   "execution_count": 3,
   "metadata": {},
   "outputs": [],
   "source": [
    "import bisect\n",
    "\n",
    "def longestIncreasingSubsequenceOptimal(nums):\n",
    "    sorted_array = []\n",
    "    \n",
    "    for n in nums:\n",
    "        index = bisect.bisect_left(sorted_array, n)\n",
    "        \n",
    "        if index == len(sorted_array):\n",
    "            sorted_array.append(n)\n",
    "            \n",
    "        else:\n",
    "            sorted_array[index] = n\n",
    "            \n",
    "    return sorted_array"
   ]
  },
  {
   "cell_type": "code",
   "execution_count": 4,
   "metadata": {},
   "outputs": [
    {
     "name": "stdout",
     "output_type": "stream",
     "text": [
      "[2, 3, 7, 18]\n"
     ]
    }
   ],
   "source": [
    "print(longestIncreasingSubsequenceOptimal([10, 9, 2, 5, 3, 7, 101, 18]))"
   ]
  }
 ],
 "metadata": {
  "kernelspec": {
   "display_name": "Python 3",
   "language": "python",
   "name": "python3"
  },
  "language_info": {
   "codemirror_mode": {
    "name": "ipython",
    "version": 3
   },
   "file_extension": ".py",
   "mimetype": "text/x-python",
   "name": "python",
   "nbconvert_exporter": "python",
   "pygments_lexer": "ipython3",
   "version": "3.7.1"
  }
 },
 "nbformat": 4,
 "nbformat_minor": 2
}
