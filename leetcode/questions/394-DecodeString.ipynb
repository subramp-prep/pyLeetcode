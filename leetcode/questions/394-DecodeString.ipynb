{
 "cells": [
  {
   "cell_type": "markdown",
   "metadata": {},
   "source": [
    "## 394 Decode string\n",
    "\n",
    "Given an encoded string, return it's decoded string.\n",
    "\n",
    "The encoding rule is: k[encoded_string], where the encoded_string inside the square brackets is being repeated exactly k times. Note that k is guaranteed to be a positive integer.\n",
    "\n",
    "You may assume that the input string is always valid; No extra white spaces, square brackets are well-formed, etc.\n",
    "\n",
    "Furthermore, you may assume that the original data does not contain any digits and that digits are only for those repeat numbers, k. For example, there won't be input like 3a or 2[4].\n",
    "\n",
    "Examples:\n",
    "```\n",
    "s = \"3[a]2[bc]\", return \"aaabcbc\".\n",
    "s = \"3[a2[c]]\", return \"accaccacc\".\n",
    "s = \"2[abc]3[cd]ef\", return \"abcabccdcdcdef\".\n",
    "```"
   ]
  },
  {
   "cell_type": "code",
   "execution_count": 1,
   "metadata": {},
   "outputs": [],
   "source": [
    "def decodeString(s):\n",
    "    output = ''\n",
    "    num = 0\n",
    "    stack = []\n",
    "    \n",
    "    for c in s:\n",
    "        if c == '[':\n",
    "            stack.append(output)\n",
    "            stack.append(num)\n",
    "            num = 0\n",
    "            output = ''\n",
    "            \n",
    "        elif c == ']':\n",
    "            currNum = stack.pop()\n",
    "            currString = stack.pop()\n",
    "            output = currString + currNum*output\n",
    "            \n",
    "        elif c.isdigit():\n",
    "            num = num*10 + int(c)\n",
    "        else:\n",
    "            output += c\n",
    "        \n",
    "    return output"
   ]
  },
  {
   "cell_type": "code",
   "execution_count": 2,
   "metadata": {},
   "outputs": [
    {
     "name": "stdout",
     "output_type": "stream",
     "text": [
      "aaa\n"
     ]
    }
   ],
   "source": [
    "print(decodeString('3[a]'))"
   ]
  },
  {
   "cell_type": "code",
   "execution_count": 3,
   "metadata": {},
   "outputs": [
    {
     "name": "stdout",
     "output_type": "stream",
     "text": [
      "aaabcbc\n"
     ]
    }
   ],
   "source": [
    "print(decodeString('3[a]2[bc]'))"
   ]
  },
  {
   "cell_type": "code",
   "execution_count": 4,
   "metadata": {},
   "outputs": [
    {
     "name": "stdout",
     "output_type": "stream",
     "text": [
      "abcabccdcdcdef\n"
     ]
    }
   ],
   "source": [
    "print(decodeString('2[abc]3[cd]ef'))"
   ]
  },
  {
   "cell_type": "markdown",
   "metadata": {},
   "source": [
    "### Trial\n",
    "\n",
    "```\n",
    "def decode_multipledigits(s):\n",
    "\n",
    "    temp = output = ''\n",
    "\n",
    "    #for i in range(len(s)-1, -1, -1):\n",
    "    i = len(s) - 1\n",
    "    while i >= 0:\n",
    "        if s[i] == '[':\n",
    "            pass\n",
    "\n",
    "        elif s[i] == ']':\n",
    "            output += temp\n",
    "            temp = ''\n",
    "\n",
    "        elif s[i].isnumeric():\n",
    "            num = ''\n",
    "\n",
    "            while s[i].isnumeric():\n",
    "                num = s[i] + num\n",
    "                i -= 1\n",
    "\n",
    "            i += 1\n",
    "            num = int(num)\n",
    "            temp = num*temp\n",
    "\n",
    "        else:\n",
    "            temp = s[i] + temp\n",
    "\n",
    "        i -= 1\n",
    "\n",
    "    output = temp + output\n",
    "\n",
    "    return output\n",
    "```"
   ]
  },
  {
   "cell_type": "code",
   "execution_count": null,
   "metadata": {},
   "outputs": [],
   "source": []
  }
 ],
 "metadata": {
  "kernelspec": {
   "display_name": "Python 3",
   "language": "python",
   "name": "python3"
  },
  "language_info": {
   "codemirror_mode": {
    "name": "ipython",
    "version": 3
   },
   "file_extension": ".py",
   "mimetype": "text/x-python",
   "name": "python",
   "nbconvert_exporter": "python",
   "pygments_lexer": "ipython3",
   "version": "3.7.1"
  }
 },
 "nbformat": 4,
 "nbformat_minor": 2
}
