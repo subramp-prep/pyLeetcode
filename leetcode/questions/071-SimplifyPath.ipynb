{
 "cells": [
  {
   "cell_type": "markdown",
   "metadata": {},
   "source": [
    "## 71 Simplify Path\n",
    "\n",
    "Given an absolute path for a file (Unix-style), simplify it. Or in other words, convert it to the canonical path.\n",
    "\n",
    "In a UNIX-style file system, a period . refers to the current directory. Furthermore, a double period .. moves the directory up a level. For more information, see: Absolute path vs relative path in Linux/Unix\n",
    "\n",
    "Note that the returned canonical path must always begin with a slash /, and there must be only a single slash / between two directory names. The last directory name (if it exists) must not end with a trailing /. Also, the canonical path must be the shortest string representing the absolute path.\n",
    "\n",
    " \n",
    "\n",
    "Example 1:\n",
    "```\n",
    "Input: \"/home/\"\n",
    "Output: \"/home\"\n",
    "Explanation: Note that there is no trailing slash after the last directory name.\n",
    "```\n",
    "Example 2:\n",
    "```\n",
    "Input: \"/../\"\n",
    "Output: \"/\"\n",
    "Explanation: Going one level up from the root directory is a no-op, as the root level is the highest level you can go.\n",
    "```\n",
    "Example 3:\n",
    "```\n",
    "Input: \"/home//foo/\"\n",
    "Output: \"/home/foo\"\n",
    "Explanation: In the canonical path, multiple consecutive slashes are replaced by a single one.\n",
    "```\n",
    "Example 4:\n",
    "```\n",
    "Input: \"/a/./b/../../c/\"\n",
    "Output: \"/c\"\n",
    "```\n",
    "Example 5:\n",
    "```\n",
    "Input: \"/a/../../b/../c//.//\"\n",
    "Output: \"/c\"\n",
    "```\n",
    "Example 6:\n",
    "```\n",
    "Input: \"/a//b////c/d//././/..\"\n",
    "Output: \"/a/b/c\"\n",
    "```"
   ]
  },
  {
   "cell_type": "code",
   "execution_count": 1,
   "metadata": {},
   "outputs": [],
   "source": [
    "def simplifyPath(path):\n",
    "    stack = []\n",
    "    \n",
    "    for p in path.split('/'):\n",
    "        if p == '..':\n",
    "            if stack:\n",
    "                stack.pop()\n",
    "                \n",
    "        elif p and p != '.':\n",
    "            stack.append(p)\n",
    "            \n",
    "    return '/' + '/'.join(stack)"
   ]
  },
  {
   "cell_type": "code",
   "execution_count": 2,
   "metadata": {},
   "outputs": [
    {
     "name": "stdout",
     "output_type": "stream",
     "text": [
      "/a/b/c\n"
     ]
    }
   ],
   "source": [
    "print(simplifyPath('/a//b////c/d//././/..'))"
   ]
  },
  {
   "cell_type": "code",
   "execution_count": 3,
   "metadata": {},
   "outputs": [
    {
     "name": "stdout",
     "output_type": "stream",
     "text": [
      "/c\n"
     ]
    }
   ],
   "source": [
    "print(simplifyPath('/a/./b/../../c/'))"
   ]
  },
  {
   "cell_type": "code",
   "execution_count": 4,
   "metadata": {},
   "outputs": [
    {
     "name": "stdout",
     "output_type": "stream",
     "text": [
      "/home/foo\n"
     ]
    }
   ],
   "source": [
    "print(simplifyPath('/home//foo/'))"
   ]
  }
 ],
 "metadata": {
  "kernelspec": {
   "display_name": "Python 3",
   "language": "python",
   "name": "python3"
  },
  "language_info": {
   "codemirror_mode": {
    "name": "ipython",
    "version": 3
   },
   "file_extension": ".py",
   "mimetype": "text/x-python",
   "name": "python",
   "nbconvert_exporter": "python",
   "pygments_lexer": "ipython3",
   "version": "3.7.1"
  }
 },
 "nbformat": 4,
 "nbformat_minor": 2
}
