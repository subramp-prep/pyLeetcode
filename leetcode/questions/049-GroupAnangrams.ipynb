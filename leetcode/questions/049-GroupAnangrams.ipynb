{
 "cells": [
  {
   "cell_type": "markdown",
   "metadata": {},
   "source": [
    "Given an array of strings, group anagrams together.\n",
    "\n",
    "```\n",
    "Example:\n",
    "\n",
    "Input: [\"eat\", \"tea\", \"tan\", \"ate\", \"nat\", \"bat\"],\n",
    "Output:\n",
    "[\n",
    "  [\"ate\",\"eat\",\"tea\"],\n",
    "  [\"nat\",\"tan\"],\n",
    "  [\"bat\"]\n",
    "]\n",
    "```\n",
    "\n",
    "Note:\n",
    "\n",
    "All inputs will be in lowercase.\n",
    "The order of your output does not matter."
   ]
  },
  {
   "cell_type": "code",
   "execution_count": 5,
   "metadata": {},
   "outputs": [],
   "source": [
    "def groupAnagrams(words):\n",
    "    output = {}\n",
    "    \n",
    "    for word in words:        \n",
    "        value = []\n",
    "        key = ''.join(sorted(word))\n",
    "        \n",
    "        if key in output:                  \n",
    "            output[key].append(word)\n",
    "        else:\n",
    "            value.append(word)\n",
    "            output[key] = value\n",
    "    \n",
    "    response = []\n",
    "    \n",
    "    for i in output.values():\n",
    "        response.append(i)\n",
    "    \n",
    "    return response"
   ]
  },
  {
   "cell_type": "code",
   "execution_count": 6,
   "metadata": {},
   "outputs": [
    {
     "name": "stdout",
     "output_type": "stream",
     "text": [
      "[['eat', 'tea', 'ate'], ['tan', 'nat'], ['bat']]\n"
     ]
    }
   ],
   "source": [
    "words = [\"eat\", \"tea\", \"tan\", \"ate\", \"nat\", \"bat\"]\n",
    "print(groupAnagrams(words))"
   ]
  },
  {
   "cell_type": "markdown",
   "metadata": {},
   "source": [
    "## Optimized version"
   ]
  },
  {
   "cell_type": "code",
   "execution_count": 4,
   "metadata": {},
   "outputs": [
    {
     "name": "stdout",
     "output_type": "stream",
     "text": [
      "[['eat', 'tea', 'ate'], ['tan', 'nat'], ['bat']]\n"
     ]
    }
   ],
   "source": [
    "def groupAnangramsA(words):\n",
    "    d1 = {}    \n",
    "    for word in words:\n",
    "        sortedword = \"\".join(sorted(word))\n",
    "        d1[sortedword] = d1.get(sortedword, []) + [word]    \n",
    "        \n",
    "    o = []\n",
    "    for v in d1.values():\n",
    "        o.append(v)\n",
    "\n",
    "    return o\n",
    "\n",
    "words = [\"eat\", \"tea\", \"tan\", \"ate\", \"nat\", \"bat\"]\n",
    "print(groupAnangramsA(words))"
   ]
  },
  {
   "cell_type": "code",
   "execution_count": null,
   "metadata": {},
   "outputs": [],
   "source": []
  }
 ],
 "metadata": {
  "kernelspec": {
   "display_name": "Python 3",
   "language": "python",
   "name": "python3"
  },
  "language_info": {
   "codemirror_mode": {
    "name": "ipython",
    "version": 3
   },
   "file_extension": ".py",
   "mimetype": "text/x-python",
   "name": "python",
   "nbconvert_exporter": "python",
   "pygments_lexer": "ipython3",
   "version": "3.7.0"
  }
 },
 "nbformat": 4,
 "nbformat_minor": 2
}
