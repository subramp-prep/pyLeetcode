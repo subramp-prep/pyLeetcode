{
 "cells": [
  {
   "cell_type": "markdown",
   "metadata": {},
   "source": [
    "## Q1428 Leftmost Column with at Least a One\n",
    "\n",
    "A binary matrix means that all elements are 0 or 1. For each individual row of the matrix, this row is sorted in non-decreasing order.\n",
    "\n",
    "Given a row-sorted binary matrix binaryMatrix, return leftmost column index(0-indexed) with at least a 1 in it. If such index doesn't exist, return -1.\n",
    "\n",
    "You can't access the Binary Matrix directly.  You may only access the matrix using a BinaryMatrix interface:\n",
    "\n",
    "BinaryMatrix.get(row, col) returns the element of the matrix at index (row, col) (0-indexed).\n",
    "BinaryMatrix.dimensions() returns a list of 2 elements [rows, cols], which means the matrix is rows * cols.\n",
    "Submissions making more than 1000 calls to BinaryMatrix.get will be judged Wrong Answer.  Also, any solutions that attempt to circumvent the judge will result in disqualification.\n",
    "\n",
    "For custom testing purposes you're given the binary matrix mat as input in the following four examples. You will not have access the binary matrix directly.\n",
    "\n",
    " \n",
    "\n",
    " \n",
    "\n",
    " \n",
    "\n",
    "Example 1:\n",
    "\n",
    "\n",
    "```\n",
    "Input: mat = [[0,0],[1,1]]\n",
    "Output: 0\n",
    "```\n",
    "Example 2:\n",
    "\n",
    "\n",
    "```\n",
    "Input: mat = [[0,0],[0,1]]\n",
    "Output: 1\n",
    "```\n",
    "Example 3:\n",
    "\n",
    "\n",
    "```\n",
    "Input: mat = [[0,0],[0,0]]\n",
    "Output: -1\n",
    "```\n",
    "Example 4:\n",
    "\n",
    "\n",
    "```\n",
    "Input: mat = [[0,0,0,1],[0,0,1,1],[0,1,1,1]]\n",
    "Output: 1\n",
    "```\n",
    "\n",
    "Constraints:\n",
    "\n",
    "rows == mat.length\n",
    "cols == mat[i].length\n",
    "1 <= rows, cols <= 100\n",
    "mat[i][j] is either 0 or 1.\n",
    "mat[i] is sorted in a non-decreasing way."
   ]
  },
  {
   "cell_type": "code",
   "execution_count": 1,
   "metadata": {},
   "outputs": [],
   "source": [
    "def leftMostColumnWithOne(binaryMatrix):\n",
    "    row, column = len(binaryMatrix), len(binaryMatrix[0])\n",
    "\n",
    "    c = column-1\n",
    "    r = 0\n",
    "\n",
    "    while r < row and c >= 0:\n",
    "        if binaryMatrix[r][c] == 0:\n",
    "            r += 1\n",
    "\n",
    "        else:\n",
    "            c -= 1\n",
    "\n",
    "    return c+1 if c != column-1 else -1"
   ]
  },
  {
   "cell_type": "code",
   "execution_count": 2,
   "metadata": {},
   "outputs": [
    {
     "name": "stdout",
     "output_type": "stream",
     "text": [
      "1\n"
     ]
    }
   ],
   "source": [
    "print(leftMostColumnWithOne([\n",
    "    [0, 0, 0, 1], \n",
    "    [0, 0, 1, 1], \n",
    "    [0, 1, 1, 1]\n",
    "    ])\n",
    ")\n"
   ]
  },
  {
   "cell_type": "code",
   "execution_count": 3,
   "metadata": {},
   "outputs": [
    {
     "name": "stdout",
     "output_type": "stream",
     "text": [
      "-1\n"
     ]
    }
   ],
   "source": [
    "print(leftMostColumnWithOne([[0,0],[0,0]]))"
   ]
  }
 ],
 "metadata": {
  "kernelspec": {
   "display_name": "Python 3",
   "language": "python",
   "name": "python3"
  },
  "language_info": {
   "codemirror_mode": {
    "name": "ipython",
    "version": 3
   },
   "file_extension": ".py",
   "mimetype": "text/x-python",
   "name": "python",
   "nbconvert_exporter": "python",
   "pygments_lexer": "ipython3",
   "version": "3.7.6"
  }
 },
 "nbformat": 4,
 "nbformat_minor": 4
}
