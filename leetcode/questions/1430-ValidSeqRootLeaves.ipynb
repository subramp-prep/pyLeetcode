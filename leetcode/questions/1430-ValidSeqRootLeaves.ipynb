{
 "cells": [
  {
   "cell_type": "markdown",
   "metadata": {},
   "source": [
    "## Q1430 Check If a String Is a Valid Sequence from Root to Leaves Path in a Binary Tree\n",
    "\n",
    "Given a binary tree where each path going from the root to any leaf form a valid sequence, check if a given string is a valid sequence in such binary tree. \n",
    "\n",
    "We get the given string from the concatenation of an array of integers arr and the concatenation of all values of the nodes along a path results in a sequence in the given binary tree.\n",
    "\n",
    " \n",
    "\n",
    "Example 1:\n",
    "\n",
    "![axisBT](img/1430-1.png )\n",
    "```\n",
    "Input: root = [0,1,0,0,1,0,null,null,1,0,0], arr = [0,1,0,1]\n",
    "Output: true\n",
    "```\n",
    "Explanation: \n",
    "The path 0 -> 1 -> 0 -> 1 is a valid sequence (green color in the figure). \n",
    "Other valid sequences are: \n",
    "0 -> 1 -> 1 -> 0 \n",
    "0 -> 0 -> 0\n",
    "Example 2:\n",
    "\n",
    "![axisBT](img/1430-2.png )\n",
    "```\n",
    "Input: root = [0,1,0,0,1,0,null,null,1,0,0], arr = [0,0,1]\n",
    "Output: false \n",
    "```\n",
    "Explanation: The path 0 -> 0 -> 1 does not exist, therefore it is not even a sequence.\n",
    "Example 3:\n",
    "\n",
    "![axisBT](img/1430-3.png )\n",
    "```\n",
    "Input: root = [0,1,0,0,1,0,null,null,1,0,0], arr = [0,1,1]\n",
    "Output: false\n",
    "```\n",
    "Explanation: The path 0 -> 1 -> 1 is a sequence, but it is not a valid sequence.\n",
    " \n",
    "\n",
    "Constraints:\n",
    "```\n",
    "1 <= arr.length <= 5000\n",
    "0 <= arr[i] <= 9\n",
    "Each node's value is between [0 - 9].\n",
    "```"
   ]
  },
  {
   "cell_type": "code",
   "execution_count": 1,
   "metadata": {},
   "outputs": [],
   "source": [
    "class TreeNode:\n",
    "    def __init__(self, val, left=None, right=None):\n",
    "        self.val = val\n",
    "        self.left = left\n",
    "        self.right = right\n",
    "        \n",
    "def isValidSequence(root, arr):\n",
    "    def helper(head, level):\n",
    "        if head and level < len(arr) and head.val == arr[level]:\n",
    "\n",
    "            if not head.left and not head.right:\n",
    "                return level+1 == len(arr)\n",
    "\n",
    "            return helper(head.left, level+1) or helper(head.right, level+1)\n",
    "\n",
    "        return False\n",
    "\n",
    "    return helper(root, 0)"
   ]
  },
  {
   "cell_type": "code",
   "execution_count": 2,
   "metadata": {},
   "outputs": [
    {
     "name": "stdout",
     "output_type": "stream",
     "text": [
      "True\n"
     ]
    }
   ],
   "source": [
    "root = TreeNode(0, TreeNode(1, TreeNode(0, None, TreeNode(1)), TreeNode(1, TreeNode(0), TreeNode(0))), TreeNode(0, TreeNode(0)))\n",
    "\n",
    "print(isValidSequence(root, [0,1,0,1]))"
   ]
  },
  {
   "cell_type": "code",
   "execution_count": null,
   "metadata": {},
   "outputs": [],
   "source": []
  }
 ],
 "metadata": {
  "kernelspec": {
   "display_name": "Python 3",
   "language": "python",
   "name": "python3"
  },
  "language_info": {
   "codemirror_mode": {
    "name": "ipython",
    "version": 3
   },
   "file_extension": ".py",
   "mimetype": "text/x-python",
   "name": "python",
   "nbconvert_exporter": "python",
   "pygments_lexer": "ipython3",
   "version": "3.7.6"
  }
 },
 "nbformat": 4,
 "nbformat_minor": 4
}
