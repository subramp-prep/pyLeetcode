{
 "cells": [
  {
   "cell_type": "markdown",
   "metadata": {},
   "source": [
    "Given a binary tree, return all root-to-leaf paths.\n",
    "\n",
    "Note: A leaf is a node with no children.\n",
    "\n",
    "Example:\n",
    "\n",
    "Input:\n",
    "```\n",
    "   1\n",
    " /   \\\n",
    "2     3\n",
    " \\\n",
    "  5\n",
    "```\n",
    "Output: [\"1->2->5\", \"1->3\"]\n",
    "\n",
    "Explanation: All root-to-leaf paths are: 1->2->5, 1->3"
   ]
  },
  {
   "cell_type": "code",
   "execution_count": null,
   "metadata": {},
   "outputs": [],
   "source": [
    "class Treenode:\n",
    "    def __init__(self, val):\n",
    "        self.val = val\n",
    "        self.left = None\n",
    "        self.right = None\n",
    "\n",
    "\n",
    "def buildTree(nums, index, root):\n",
    "    if index < len(nums) and nums[index]:\n",
    "        root = Treenode(nums[index])\n",
    "        root.left = buildTree(nums, 2*index+1, root.left)\n",
    "        root.right = buildTree(nums, 2*index+2, root.right)\n",
    "\n",
    "    return root\n",
    "\n",
    "\n",
    "def printPath(root):\n",
    "    output = []\n",
    "    helper(root, '', output)\n",
    "    return output\n",
    "\n",
    "\n",
    "def helper(root, path, output):\n",
    "    if root is None:\n",
    "        return\n",
    "\n",
    "    if root.left is None and root.right is None:\n",
    "        path = '{}->{}'.format(path, root.val)\n",
    "        path = path.lstrip('-').lstrip('>')\n",
    "        output.append(path)\n",
    "\n",
    "    if root.left:\n",
    "        helper(root.left, '{}->{}'.format(path, root.val), output)\n",
    "\n",
    "    if root.right:\n",
    "        helper(root.right, '{}->{}'.format(path, root.val), output)"
   ]
  },
  {
   "cell_type": "code",
   "execution_count": null,
   "metadata": {},
   "outputs": [],
   "source": [
    "nums = [1,2,3, None, 5]\n",
    "root = buildTree(nums, 0, None)\n",
    "print(printPath(root))"
   ]
  },
  {
   "cell_type": "code",
   "execution_count": null,
   "metadata": {},
   "outputs": [],
   "source": []
  }
 ],
 "metadata": {
  "kernelspec": {
   "display_name": "Python 3",
   "language": "python",
   "name": "python3"
  },
  "language_info": {
   "codemirror_mode": {
    "name": "ipython",
    "version": 3
   },
   "file_extension": ".py",
   "mimetype": "text/x-python",
   "name": "python",
   "nbconvert_exporter": "python",
   "pygments_lexer": "ipython3",
   "version": "3.7.1"
  }
 },
 "nbformat": 4,
 "nbformat_minor": 2
}
