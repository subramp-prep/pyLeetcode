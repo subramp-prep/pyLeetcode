{
 "cells": [
  {
   "cell_type": "markdown",
   "metadata": {},
   "source": [
    "## 74 Search a 2D Matrix\n",
    "\n",
    "Write an efficient algorithm that searches for a value in an m x n matrix. This matrix has the following properties:\n",
    "\n",
    "Integers in each row are sorted from left to right.\n",
    "The first integer of each row is greater than the last integer of the previous row.\n",
    "Example 1:\n",
    "\n",
    "Input:\n",
    "```\n",
    "matrix = [\n",
    "  [1,   3,  5,  7],\n",
    "  [10, 11, 16, 20],\n",
    "  [23, 30, 34, 50]\n",
    "]\n",
    "target = 3\n",
    "Output: true\n",
    "```\n",
    "Example 2:\n",
    "```\n",
    "Input:\n",
    "matrix = [\n",
    "  [1,   3,  5,  7],\n",
    "  [10, 11, 16, 20],\n",
    "  [23, 30, 34, 50]\n",
    "]\n",
    "target = 13\n",
    "Output: false\n",
    "```"
   ]
  },
  {
   "cell_type": "code",
   "execution_count": 1,
   "metadata": {},
   "outputs": [],
   "source": [
    "def searchMatrix(matrix, target):\n",
    "\n",
    "    for i in range(len(matrix)):\n",
    "        h = len(matrix[i]) - 1\n",
    "\n",
    "        if h >= 0 and matrix[i][0] <= target <= matrix[i][h]:\n",
    "            l = 0\n",
    "            while l <= h:\n",
    "                m = (l+h)//2\n",
    "\n",
    "                if matrix[i][m] == target:\n",
    "                    return True\n",
    "\n",
    "                elif matrix[i][m] > target:\n",
    "                    h = m - 1\n",
    "\n",
    "                else:\n",
    "                    l = m + 1\n",
    "\n",
    "            return False\n",
    "\n",
    "    return False"
   ]
  },
  {
   "cell_type": "code",
   "execution_count": 3,
   "metadata": {},
   "outputs": [
    {
     "name": "stdout",
     "output_type": "stream",
     "text": [
      "True\n"
     ]
    }
   ],
   "source": [
    "matrix = [\n",
    "    [1,   3,  5,  7],\n",
    "    [10, 11, 16, 20],\n",
    "    [23, 30, 34, 50]\n",
    "]\n",
    "\n",
    "print(searchMatrix(matrix, 3))"
   ]
  },
  {
   "cell_type": "code",
   "execution_count": 4,
   "metadata": {},
   "outputs": [
    {
     "name": "stdout",
     "output_type": "stream",
     "text": [
      "False\n"
     ]
    }
   ],
   "source": [
    "print(searchMatrix(matrix, 13))"
   ]
  },
  {
   "cell_type": "code",
   "execution_count": 5,
   "metadata": {},
   "outputs": [
    {
     "name": "stdout",
     "output_type": "stream",
     "text": [
      "False\n"
     ]
    }
   ],
   "source": [
    "print(searchMatrix([[]], 1))"
   ]
  },
  {
   "cell_type": "code",
   "execution_count": 6,
   "metadata": {},
   "outputs": [
    {
     "name": "stdout",
     "output_type": "stream",
     "text": [
      "True\n"
     ]
    }
   ],
   "source": [
    "print(searchMatrix([[1]], 1))"
   ]
  },
  {
   "cell_type": "markdown",
   "metadata": {},
   "source": [
    "## Optimized solution"
   ]
  },
  {
   "cell_type": "code",
   "execution_count": 5,
   "metadata": {},
   "outputs": [],
   "source": [
    "def searchMatrixOptimal(matrix, target):\n",
    "    column = len(matrix[0])\n",
    "    row = len(matrix)\n",
    "    l, h = 0, row*column\n",
    "    \n",
    "    while l < h:\n",
    "        m = (l+h)//2\n",
    "        val = matrix[m//column][m%column]\n",
    "        \n",
    "        if val < target:\n",
    "            l = m+1\n",
    "        elif val > target:\n",
    "            h = m\n",
    "        else:\n",
    "            return True\n",
    "        \n",
    "    return False            "
   ]
  },
  {
   "cell_type": "code",
   "execution_count": 6,
   "metadata": {},
   "outputs": [
    {
     "name": "stdout",
     "output_type": "stream",
     "text": [
      "True\n"
     ]
    }
   ],
   "source": [
    "matrix = [\n",
    "    [1,   3,  5,  7],\n",
    "    [10, 11, 16, 20],\n",
    "    [23, 30, 34, 50]\n",
    "]\n",
    "\n",
    "print(searchMatrixOptimal(matrix, 3))"
   ]
  },
  {
   "cell_type": "code",
   "execution_count": 8,
   "metadata": {},
   "outputs": [
    {
     "name": "stdout",
     "output_type": "stream",
     "text": [
      "False\n"
     ]
    }
   ],
   "source": [
    "matrix = [[1]]\n",
    "\n",
    "print(searchMatrixOptimal(matrix, 3))"
   ]
  },
  {
   "cell_type": "code",
   "execution_count": null,
   "metadata": {},
   "outputs": [],
   "source": []
  }
 ],
 "metadata": {
  "kernelspec": {
   "display_name": "Python 3",
   "language": "python",
   "name": "python3"
  },
  "language_info": {
   "codemirror_mode": {
    "name": "ipython",
    "version": 3
   },
   "file_extension": ".py",
   "mimetype": "text/x-python",
   "name": "python",
   "nbconvert_exporter": "python",
   "pygments_lexer": "ipython3",
   "version": "3.7.6"
  }
 },
 "nbformat": 4,
 "nbformat_minor": 2
}
