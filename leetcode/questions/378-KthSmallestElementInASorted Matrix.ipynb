{
 "cells": [
  {
   "cell_type": "markdown",
   "metadata": {},
   "source": [
    "## 378 Kth Smallest Element in a Sorted Matrix\n",
    "\n",
    "Given a n x n matrix where each of the rows and columns are sorted in ascending order, find the kth smallest element in the matrix.\n",
    "\n",
    "Note that it is the kth smallest element in the sorted order, not the kth distinct element.\n",
    "\n",
    "Example:\n",
    "```\n",
    "matrix = [\n",
    "   [ 1,  5,  9],\n",
    "   [10, 11, 13],\n",
    "   [12, 13, 15]\n",
    "],\n",
    "k = 8,\n",
    "\n",
    "return 13.\n",
    "```\n",
    "Note:\n",
    "You may assume k is always valid, 1 ≤ k ≤ n2."
   ]
  },
  {
   "cell_type": "code",
   "execution_count": 5,
   "metadata": {},
   "outputs": [],
   "source": [
    "import heapq\n",
    "\n",
    "def kthSmallest( matrix, k):\n",
    "    \n",
    "    heap = []\n",
    "    for r in range(min(len(matrix), k)):\n",
    "        heapq.heappush(heap, (matrix[r][0], r, 0))\n",
    "        \n",
    "    result = 0\n",
    "    \n",
    "    while k:\n",
    "        element, row, column = heapq.heappop(heap)\n",
    "               \n",
    "        if column < len(matrix)-1:\n",
    "            heapq.heappush(heap, (matrix[row][column+1], row, column+1))\n",
    "            \n",
    "        k -= 1\n",
    "        \n",
    "    return element"
   ]
  },
  {
   "cell_type": "code",
   "execution_count": 6,
   "metadata": {},
   "outputs": [
    {
     "name": "stdout",
     "output_type": "stream",
     "text": [
      "13\n"
     ]
    }
   ],
   "source": [
    "matrix = [\n",
    "   [ 1,  5,  9],\n",
    "   [10, 11, 13],\n",
    "   [12, 13, 15]\n",
    "]\n",
    "print(kthSmallest(matrix, 8))"
   ]
  }
 ],
 "metadata": {
  "kernelspec": {
   "display_name": "Python 3",
   "language": "python",
   "name": "python3"
  },
  "language_info": {
   "codemirror_mode": {
    "name": "ipython",
    "version": 3
   },
   "file_extension": ".py",
   "mimetype": "text/x-python",
   "name": "python",
   "nbconvert_exporter": "python",
   "pygments_lexer": "ipython3",
   "version": "3.7.6"
  }
 },
 "nbformat": 4,
 "nbformat_minor": 4
}
