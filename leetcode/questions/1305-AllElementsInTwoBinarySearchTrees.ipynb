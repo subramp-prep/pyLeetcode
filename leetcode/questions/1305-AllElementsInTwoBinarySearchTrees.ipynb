{
 "cells": [
  {
   "cell_type": "markdown",
   "metadata": {},
   "source": [
    "##  Q1305-All Elements in Two Binary Search Trees\n",
    "\n",
    "Given two binary search trees root1 and root2.\n",
    "\n",
    "Return a list containing all the integers from both trees sorted in ascending order.\n",
    "\n",
    "![BST](img/1305.png)\n",
    "\n",
    "Example 1:\n",
    "```\n",
    "Input: root1 = [2,1,4], root2 = [1,0,3]\n",
    "Output: [0,1,1,2,3,4]\n",
    "```\n",
    "Example 2:\n",
    "```\n",
    "Input: root1 = [0,-10,10], root2 = [5,1,7,0,2]\n",
    "Output: [-10,0,0,1,2,5,7,10]\n",
    "```\n",
    "Example 3:\n",
    "```\n",
    "Input: root1 = [], root2 = [5,1,7,0,2]\n",
    "Output: [0,1,2,5,7]\n",
    "```\n",
    "Example 4:\n",
    "```\n",
    "Input: root1 = [0,-10,10], root2 = []\n",
    "Output: [-10,0,10]\n",
    "```\n",
    "Example 5:\n",
    "```\n",
    "Input: root1 = [1,null,8], root2 = [8,1]\n",
    "Output: [1,1,8,8]\n",
    "```\n",
    "\n",
    "Constraints:\n",
    "```\n",
    "Each tree has at most 5000 nodes.\n",
    "Each node's value is between [-10^5, 10^5].\n",
    "```"
   ]
  },
  {
   "cell_type": "code",
   "execution_count": 4,
   "metadata": {},
   "outputs": [],
   "source": [
    "class TreeNode:\n",
    "    def __init__(self, val, left=None, right=None):\n",
    "        self.val = val\n",
    "        self.left = left\n",
    "        self.right = right\n",
    "\n",
    "def getAllElements(root1, root2):\n",
    "    output = []\n",
    "    nums1 = []\n",
    "    nums2 = []\n",
    "\n",
    "    def helper(head, nums):\n",
    "        if head:\n",
    "\n",
    "            helper(head.left, nums)\n",
    "            nums.append(head.val)\n",
    "            helper(head.right, nums)\n",
    "\n",
    "    helper(root1, nums1)\n",
    "    helper(root2, nums2)\n",
    "\n",
    "    #print(nums1, nums2)\n",
    "\n",
    "    i1 = i2 = 0\n",
    "\n",
    "    while i1 < len(nums1) and i2 < len(nums2):\n",
    "        if nums1[i1] < nums2[i2]:\n",
    "            output.append(nums1[i1])\n",
    "            i1 += 1\n",
    "        else:\n",
    "            output.append(nums2[i2])\n",
    "            i2 += 1\n",
    "\n",
    "    while i1 < len(nums1):\n",
    "        output.append(nums1[i1])\n",
    "        i1 += 1\n",
    "\n",
    "    while i2 < len(nums2):\n",
    "        output.append(nums2[i2])\n",
    "        i2 += 1\n",
    "\n",
    "    return output"
   ]
  },
  {
   "cell_type": "code",
   "execution_count": 3,
   "metadata": {},
   "outputs": [
    {
     "name": "stdout",
     "output_type": "stream",
     "text": [
      "[1, 2, 4] [0, 1, 3]\n",
      "[0, 1, 1, 2, 3, 4]\n"
     ]
    }
   ],
   "source": [
    "r1 = TreeNode(2, TreeNode(1), TreeNode(4))\n",
    "r2 = TreeNode(1, TreeNode(0), TreeNode(3))\n",
    "print(getAllElements(r1, r2))"
   ]
  },
  {
   "cell_type": "code",
   "execution_count": null,
   "metadata": {},
   "outputs": [],
   "source": []
  }
 ],
 "metadata": {
  "kernelspec": {
   "display_name": "Python 3",
   "language": "python",
   "name": "python3"
  },
  "language_info": {
   "codemirror_mode": {
    "name": "ipython",
    "version": 3
   },
   "file_extension": ".py",
   "mimetype": "text/x-python",
   "name": "python",
   "nbconvert_exporter": "python",
   "pygments_lexer": "ipython3",
   "version": "3.7.6"
  }
 },
 "nbformat": 4,
 "nbformat_minor": 4
}
