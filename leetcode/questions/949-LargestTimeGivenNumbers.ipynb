{
 "cells": [
  {
   "cell_type": "markdown",
   "metadata": {},
   "source": [
    "Given an array of 4 digits, return the largest 24 hour time that can be made.\n",
    "\n",
    "The smallest 24 hour time is 00:00, and the largest is 23:59.  Starting from 00:00, a time is larger if more time has elapsed since midnight.\n",
    "\n",
    "Return the answer as a string of length 5.  If no valid time can be made, return an empty string.\n",
    "\n",
    " \n",
    "\n",
    "Example 1:\n",
    "```\n",
    "Input: [1,2,3,4]\n",
    "Output: \"23:41\"\n",
    "```\n",
    "Example 2:\n",
    "```\n",
    "Input: [5,5,5,5]\n",
    "Output: \"\"\n",
    "```\n",
    "\n",
    "Note:\n",
    "\n",
    "A.length == 4\n",
    "0 <= A[i] <= 9"
   ]
  },
  {
   "cell_type": "code",
   "execution_count": 5,
   "metadata": {},
   "outputs": [],
   "source": [
    "import itertools # new stuff\n",
    "\n",
    "def largestTime(nums):\n",
    "    totalTimeInDay = 24 * 60\n",
    "    totalMaxTime = maxHour = maxMinute = 0\n",
    "    output = ''\n",
    "\n",
    "    for h1, h2, m1, m2 in itertools.permutations(nums):\n",
    "        hours = 10 * h1 + h2\n",
    "        minutes = 10 * m1 + m2\n",
    "        totalTimeInMinutes = 60 * hours + minutes\n",
    "\n",
    "        if hours < 24 and minutes < 60 and totalTimeInMinutes < totalTimeInDay:\n",
    "            totalMaxTime = max(totalMaxTime, totalTimeInMinutes)\n",
    "            if totalMaxTime == totalTimeInMinutes:\n",
    "                maxHour = hours\n",
    "                maxMinute = minutes\n",
    "                output = '{:02}:{:02}'.format(maxHour, maxMinute)\n",
    "\n",
    "    return output"
   ]
  },
  {
   "cell_type": "code",
   "execution_count": 6,
   "metadata": {},
   "outputs": [
    {
     "name": "stdout",
     "output_type": "stream",
     "text": [
      "23:41\n"
     ]
    }
   ],
   "source": [
    "print(largestTime([1,2,3,4]))"
   ]
  },
  {
   "cell_type": "code",
   "execution_count": 7,
   "metadata": {},
   "outputs": [
    {
     "name": "stdout",
     "output_type": "stream",
     "text": [
      "\n"
     ]
    }
   ],
   "source": [
    "print(largestTime([5,5,5,5]))"
   ]
  },
  {
   "cell_type": "code",
   "execution_count": 8,
   "metadata": {},
   "outputs": [
    {
     "name": "stdout",
     "output_type": "stream",
     "text": [
      "00:00\n"
     ]
    }
   ],
   "source": [
    "print(largestTime([0,0,0,0]))"
   ]
  },
  {
   "cell_type": "code",
   "execution_count": null,
   "metadata": {},
   "outputs": [],
   "source": []
  }
 ],
 "metadata": {
  "kernelspec": {
   "display_name": "Python 3",
   "language": "python",
   "name": "python3"
  },
  "language_info": {
   "codemirror_mode": {
    "name": "ipython",
    "version": 3
   },
   "file_extension": ".py",
   "mimetype": "text/x-python",
   "name": "python",
   "nbconvert_exporter": "python",
   "pygments_lexer": "ipython3",
   "version": "3.7.1"
  }
 },
 "nbformat": 4,
 "nbformat_minor": 2
}
