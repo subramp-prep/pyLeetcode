{
 "cells": [
  {
   "cell_type": "markdown",
   "metadata": {},
   "source": [
    "## Q684 Redundant Connection\n",
    "\n",
    "In this problem, a tree is an undirected graph that is connected and has no cycles.\n",
    "\n",
    "The given input is a graph that started as a tree with N nodes (with distinct values 1, 2, ..., N), with one additional edge added. The added edge has two different vertices chosen from 1 to N, and was not an edge that already existed.\n",
    "\n",
    "The resulting graph is given as a 2D-array of edges. Each element of edges is a pair [u, v] with u < v, that represents an undirected edge connecting nodes u and v.\n",
    "\n",
    "Return an edge that can be removed so that the resulting graph is a tree of N nodes. If there are multiple answers, return the answer that occurs last in the given 2D-array. The answer edge [u, v] should be in the same format, with u < v.\n",
    "\n",
    "Example 1:\n",
    "```\n",
    "Input: [[1,2], [1,3], [2,3]]\n",
    "Output: [2,3]\n",
    "```\n",
    "Explanation: The given undirected graph will be like this:\n",
    "```\n",
    "  1\n",
    " / \\\n",
    "2 - 3\n",
    "```\n",
    "Example 2:\n",
    "```\n",
    "Input: [[1,2], [2,3], [3,4], [1,4], [1,5]]\n",
    "Output: [1,4]\n",
    "```\n",
    "Explanation: The given undirected graph will be like this:\n",
    "```\n",
    "5 - 1 - 2\n",
    "    |   |\n",
    "    4 - 3\n",
    "```\n",
    "Note:\n",
    "The size of the input 2D-array will be between 3 and 1000.\n",
    "Every integer represented in the 2D-array will be between 1 and N, where N is the size of the input array."
   ]
  },
  {
   "cell_type": "code",
   "execution_count": 12,
   "metadata": {},
   "outputs": [],
   "source": [
    "import collections\n",
    "\n",
    "def redundantConnection(edges):\n",
    "    graph = collections.defaultdict(set)\n",
    "    \n",
    "    def dfs(source, destination):\n",
    "        if source not in seen:\n",
    "            seen.add(source)\n",
    "            \n",
    "            if source == destination:\n",
    "                return True\n",
    "            \n",
    "            for neighbor in graph[source]:\n",
    "                if dfs(neighbor, destination):\n",
    "                    return True\n",
    "                \n",
    "        return False\n",
    "    \n",
    "    for u,v in edges:\n",
    "        seen = set()\n",
    "        \n",
    "        if u in graph and v in graph and dfs(u, v):\n",
    "            return u, v\n",
    "        \n",
    "        graph[u].add(v)\n",
    "        graph[v].add(u)"
   ]
  },
  {
   "cell_type": "code",
   "execution_count": 13,
   "metadata": {},
   "outputs": [
    {
     "name": "stdout",
     "output_type": "stream",
     "text": [
      "(2, 3)\n"
     ]
    }
   ],
   "source": [
    "print(redundantConnection(\n",
    "    [[1,3],\n",
    "    [1, 2],\n",
    "    [2, 3]])\n",
    " )"
   ]
  },
  {
   "cell_type": "code",
   "execution_count": null,
   "metadata": {},
   "outputs": [],
   "source": []
  }
 ],
 "metadata": {
  "kernelspec": {
   "display_name": "Python 3",
   "language": "python",
   "name": "python3"
  },
  "language_info": {
   "codemirror_mode": {
    "name": "ipython",
    "version": 3
   },
   "file_extension": ".py",
   "mimetype": "text/x-python",
   "name": "python",
   "nbconvert_exporter": "python",
   "pygments_lexer": "ipython3",
   "version": "3.7.6"
  }
 },
 "nbformat": 4,
 "nbformat_minor": 4
}
