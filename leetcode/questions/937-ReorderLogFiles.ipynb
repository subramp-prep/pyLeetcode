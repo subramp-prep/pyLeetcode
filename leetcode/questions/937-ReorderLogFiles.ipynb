{
 "cells": [
  {
   "cell_type": "markdown",
   "metadata": {},
   "source": [
    "You have an array of logs.  Each log is a space delimited string of words.\n",
    "\n",
    "For each log, the first word in each log is an alphanumeric identifier.  Then, either:\n",
    "\n",
    "Each word after the identifier will consist only of lowercase letters, or;\n",
    "Each word after the identifier will consist only of digits.\n",
    "We will call these two varieties of logs letter-logs and digit-logs.  It is guaranteed that each log has at least one word after its identifier.\n",
    "\n",
    "Reorder the logs so that all of the letter-logs come before any digit-log.  The letter-logs are ordered lexicographically ignoring identifier, with the identifier used in case of ties.  The digit-logs should be put in their original order.\n",
    "\n",
    "Return the final order of the logs.\n",
    "\n",
    " \n",
    "\n",
    "Example 1:\n",
    "```\n",
    "Input: [\"a1 9 2 3 1\",\"g1 act car\",\"zo4 4 7\",\"ab1 off key dog\",\"a8 act zoo\"]\n",
    "Output: [\"g1 act car\",\"a8 act zoo\",\"ab1 off key dog\",\"a1 9 2 3 1\",\"zo4 4 7\"]\n",
    "```\n",
    "\n",
    "Note:\n",
    "\n",
    "0 <= logs.length <= 100\n",
    "3 <= logs[i].length <= 100\n",
    "logs[i] is guaranteed to have an identifier, and a word after the identifier."
   ]
  },
  {
   "cell_type": "code",
   "execution_count": null,
   "metadata": {},
   "outputs": [],
   "source": [
    "def reorderLogFiles(logs):\n",
    "    digitLog, letterLog = [], []\n",
    "\n",
    "    for log in logs:\n",
    "        split = log.split()\n",
    "        if split[1].isdigit():\n",
    "            digitLog.append(log)\n",
    "        else:\n",
    "            letterLog.append([log, split[0], split[1:]])\n",
    "\n",
    "    letterLog.sort(key=lambda x: x[1])\n",
    "    letterLog.sort(key=lambda x: x[2])\n",
    "\n",
    "    ansLog = []\n",
    "    \n",
    "    for l in letterLog:\n",
    "        ansLog.append(l[0])\n",
    "\n",
    "    for d in digitLog:\n",
    "        ansLog.append(d)\n",
    "\n",
    "    return ansLog"
   ]
  },
  {
   "cell_type": "code",
   "execution_count": null,
   "metadata": {},
   "outputs": [],
   "source": [
    "logs1 = [\"j mo\", \"5 m w\", \"g 07\", \"o 2 0\", \"t q h\"]\n",
    "print(reorderLogFiles(logs1))"
   ]
  },
  {
   "cell_type": "code",
   "execution_count": null,
   "metadata": {},
   "outputs": [],
   "source": [
    "logs = [\"a1 9 2 3 1\", \"g1 act car\",\n",
    "         \"zo4 4 7\", \"ab1 off key dog\", \"a8 act zoo\"]\n",
    "\n",
    "print(reorderLogFiles(logs))"
   ]
  }
 ],
 "metadata": {
  "kernelspec": {
   "display_name": "Python 3",
   "language": "python",
   "name": "python3"
  },
  "language_info": {
   "codemirror_mode": {
    "name": "ipython",
    "version": 3
   },
   "file_extension": ".py",
   "mimetype": "text/x-python",
   "name": "python",
   "nbconvert_exporter": "python",
   "pygments_lexer": "ipython3",
   "version": "3.7.1"
  }
 },
 "nbformat": 4,
 "nbformat_minor": 2
}
