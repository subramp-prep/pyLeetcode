{
 "cells": [
  {
   "cell_type": "markdown",
   "metadata": {},
   "source": [
    "## 77 - Combinations\n",
    "\n",
    "Given two integers n and k, return all possible combinations of k numbers out of 1 ... n.\n",
    "\n",
    "Example:\n",
    "\n",
    "Input: n = 4, k = 2\n",
    "Output:\n",
    "```\n",
    "[\n",
    "  [2,4],\n",
    "  [3,4],\n",
    "  [2,3],\n",
    "  [1,2],\n",
    "  [1,3],\n",
    "  [1,4],\n",
    "]\n",
    "```"
   ]
  },
  {
   "cell_type": "code",
   "execution_count": 5,
   "metadata": {},
   "outputs": [],
   "source": [
    "def combinations(n, k):\n",
    "    output = []\n",
    "    \n",
    "    def helper(chosen, index):\n",
    "        if len(chosen) == k:\n",
    "            output.append(chosen[::])\n",
    "        else:\n",
    "            for i in range(index, n+1):   \n",
    "                if i in chosen:\n",
    "                    continue\n",
    "                    \n",
    "                chosen.append(i)\n",
    "                helper(chosen, index+1)\n",
    "                chosen.pop()    \n",
    "                \n",
    "    helper([], 1)\n",
    "    return output"
   ]
  },
  {
   "cell_type": "code",
   "execution_count": 6,
   "metadata": {},
   "outputs": [
    {
     "name": "stdout",
     "output_type": "stream",
     "text": [
      "[[1, 2], [1, 3], [1, 4], [2, 3], [2, 4], [3, 2], [3, 4], [4, 2], [4, 3]]\n"
     ]
    }
   ],
   "source": [
    "print(combinations(4, 2))"
   ]
  }
 ],
 "metadata": {
  "kernelspec": {
   "display_name": "Python 3",
   "language": "python",
   "name": "python3"
  },
  "language_info": {
   "codemirror_mode": {
    "name": "ipython",
    "version": 3
   },
   "file_extension": ".py",
   "mimetype": "text/x-python",
   "name": "python",
   "nbconvert_exporter": "python",
   "pygments_lexer": "ipython3",
   "version": "3.7.1"
  }
 },
 "nbformat": 4,
 "nbformat_minor": 2
}
