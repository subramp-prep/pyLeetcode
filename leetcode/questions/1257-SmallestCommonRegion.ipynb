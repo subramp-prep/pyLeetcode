{
 "cells": [
  {
   "cell_type": "markdown",
   "metadata": {},
   "source": [
    "## 1257 Smallest Common Region\n",
    "\n",
    "You are given some lists of regions where the first region of each list includes all other regions in that list.\n",
    "\n",
    "Naturally, if a region X contains another region Y then X is bigger than Y. Also by definition a region X contains itself.\n",
    "\n",
    "Given two regions region1, region2, find out the smallest region that contains both of them.\n",
    "\n",
    "If you are given regions r1, r2 and r3 such that r1 includes r3, it is guaranteed there is no r2 such that r2 includes r3.\n",
    "\n",
    "It's guaranteed the smallest region exists.\n",
    "\n",
    " \n",
    "\n",
    "Example 1:\n",
    "\n",
    "```\n",
    "Input:\n",
    "regions = [[\"Earth\",\"North America\",\"South America\"],\n",
    "[\"North America\",\"United States\",\"Canada\"],\n",
    "[\"United States\",\"New York\",\"Boston\"],\n",
    "[\"Canada\",\"Ontario\",\"Quebec\"],\n",
    "[\"South America\",\"Brazil\"]],\n",
    "region1 = \"Quebec\",\n",
    "region2 = \"New York\"\n",
    "Output: \"North America\"\n",
    "```\n",
    "\n",
    "Constraints:\n",
    "\n",
    "2 <= regions.length <= 10^4\n",
    "region1 != region2\n",
    "All strings consist of English letters and spaces with at most 20 letters."
   ]
  },
  {
   "cell_type": "code",
   "execution_count": 1,
   "metadata": {},
   "outputs": [],
   "source": [
    "def findSmallestRegion(regions, r1, r2):\n",
    "    parents = {region[i]: region[0] for region in regions for i in range(1, len(region))}\n",
    "\n",
    "    ancestory = {r1}\n",
    "    while r1 in parents:\n",
    "        r1 = parents[r1]\n",
    "        ancestory.add(r1)\n",
    "\n",
    "    while r2 not in ancestory:\n",
    "        r2 = parents[r2]\n",
    "\n",
    "    return r2"
   ]
  },
  {
   "cell_type": "code",
   "execution_count": 2,
   "metadata": {},
   "outputs": [
    {
     "data": {
      "text/plain": [
       "'North America'"
      ]
     },
     "execution_count": 2,
     "metadata": {},
     "output_type": "execute_result"
    }
   ],
   "source": [
    "regions = [\n",
    "    [\"Earth\", \"North America\", \"South America\"],\n",
    "    [\"North America\", \"United States\", \"Canada\"],\n",
    "    [\"United States\", \"New York\", \"Boston\"],\n",
    "    [\"Canada\", \"Ontario\", \"Quebec\"],\n",
    "    [\"South America\", \"Brazil\"]\n",
    "]\n",
    "region1 = \"Quebec\"\n",
    "region2 = \"New York\"\n",
    "\n",
    "findSmallestRegion(regions, region1, region2)"
   ]
  }
 ],
 "metadata": {
  "kernelspec": {
   "display_name": "Python 3",
   "language": "python",
   "name": "python3"
  },
  "language_info": {
   "codemirror_mode": {
    "name": "ipython",
    "version": 3
   },
   "file_extension": ".py",
   "mimetype": "text/x-python",
   "name": "python",
   "nbconvert_exporter": "python",
   "pygments_lexer": "ipython3",
   "version": "3.7.6"
  }
 },
 "nbformat": 4,
 "nbformat_minor": 4
}
