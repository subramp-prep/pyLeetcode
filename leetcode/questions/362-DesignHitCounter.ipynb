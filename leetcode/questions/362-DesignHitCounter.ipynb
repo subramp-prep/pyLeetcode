{
 "cells": [
  {
   "cell_type": "markdown",
   "metadata": {},
   "source": [
    "## 362 Design Hit Counter\n",
    "\n",
    "Design a hit counter which counts the number of hits received in the past 5 minutes.\n",
    "\n",
    "Each function accepts a timestamp parameter (in seconds granularity) and you may assume that calls are being made to the system in chronological order (ie, the timestamp is monotonically increasing). You may assume that the earliest timestamp starts at 1.\n",
    "\n",
    "It is possible that several hits arrive roughly at the same time.\n",
    "\n",
    "Example:\n",
    "```\n",
    "HitCounter counter = new HitCounter();\n",
    "\n",
    "// hit at timestamp 1.\n",
    "counter.hit(1);\n",
    "\n",
    "// hit at timestamp 2.\n",
    "counter.hit(2);\n",
    "\n",
    "// hit at timestamp 3.\n",
    "counter.hit(3);\n",
    "\n",
    "// get hits at timestamp 4, should return 3.\n",
    "counter.getHits(4);\n",
    "\n",
    "// hit at timestamp 300.\n",
    "counter.hit(300);\n",
    "\n",
    "// get hits at timestamp 300, should return 4.\n",
    "counter.getHits(300);\n",
    "\n",
    "// get hits at timestamp 301, should return 3.\n",
    "counter.getHits(301); \n",
    "```\n",
    "Follow up:\n",
    "What if the number of hits per second could be very large? Does your design scale?"
   ]
  },
  {
   "cell_type": "code",
   "execution_count": 4,
   "metadata": {},
   "outputs": [],
   "source": [
    "class HitCounter:\n",
    "\n",
    "    def __init__(self):\n",
    "        \"\"\"\n",
    "        Initialize your data structure here.\n",
    "        \"\"\"\n",
    "        self.times = [0]*300\n",
    "        self.hits = [0]*300\n",
    "\n",
    "    def hit(self, timestamp: int) -> None:\n",
    "        \"\"\"\n",
    "        Record a hit.\n",
    "        @param timestamp - The current timestamp (in seconds granularity).\n",
    "        \"\"\"\n",
    "        idx = timestamp%300\n",
    "        if self.times[idx] != timestamp:\n",
    "            self.hits[idx] = 1\n",
    "            self.times[idx] = timestamp\n",
    "\n",
    "        else:\n",
    "            self.hits[idx] += 1\n",
    "\n",
    "\n",
    "    def getHits(self, timestamp: int) -> int:\n",
    "        \"\"\"\n",
    "        Return the number of hits in the past 5 minutes.\n",
    "        @param timestamp - The current timestamp (in seconds granularity).\n",
    "        \"\"\"\n",
    "        total = 0\n",
    "        for i in range(len(self.hits)):\n",
    "            if timestamp - self.times[i] < 300:\n",
    "                total += self.hits[i]\n",
    "\n",
    "        return total"
   ]
  },
  {
   "cell_type": "code",
   "execution_count": 7,
   "metadata": {},
   "outputs": [
    {
     "name": "stdout",
     "output_type": "stream",
     "text": [
      "None\n",
      "None\n",
      "None\n",
      "3\n",
      "None\n",
      "4\n",
      "3\n"
     ]
    }
   ],
   "source": [
    "counter = HitCounter()\n",
    "\n",
    "#hit at timestamp 1.\n",
    "print(counter.hit(1))\n",
    "\n",
    "#hit at timestamp 2.\n",
    "print(counter.hit(2))\n",
    "\n",
    "#hit at timestamp 3.\n",
    "print(counter.hit(3))\n",
    "\n",
    "#get hits at timestamp 4, should return 3.\n",
    "print(counter.getHits(4))\n",
    "\n",
    "#hit at timestamp 300.\n",
    "print(counter.hit(300))\n",
    "\n",
    "# get hits at timestamp 300, should return 4.\n",
    "print(counter.getHits(300))\n",
    "\n",
    "#get hits at timestamp 301, should return 3.\n",
    "print(counter.getHits(301)) "
   ]
  }
 ],
 "metadata": {
  "kernelspec": {
   "display_name": "Python 3",
   "language": "python",
   "name": "python3"
  },
  "language_info": {
   "codemirror_mode": {
    "name": "ipython",
    "version": 3
   },
   "file_extension": ".py",
   "mimetype": "text/x-python",
   "name": "python",
   "nbconvert_exporter": "python",
   "pygments_lexer": "ipython3",
   "version": "3.7.1"
  }
 },
 "nbformat": 4,
 "nbformat_minor": 2
}
