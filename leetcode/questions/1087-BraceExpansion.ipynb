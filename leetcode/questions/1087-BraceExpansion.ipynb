{
 "cells": [
  {
   "cell_type": "markdown",
   "metadata": {},
   "source": [
    "## 1087. Brace Expansion\n",
    "\n",
    "A string S represents a list of words.\n",
    "\n",
    "Each letter in the word has 1 or more options.  If there is one option, the letter is represented as is.  If there is more than one option, then curly braces delimit the options.  For example, \"{a,b,c}\" represents options [\"a\", \"b\", \"c\"].\n",
    "\n",
    "For example, \"{a,b,c}d{e,f}\" represents the list [\"ade\", \"adf\", \"bde\", \"bdf\", \"cde\", \"cdf\"].\n",
    "\n",
    "Return all words that can be formed in this manner, in lexicographical order.\n",
    "\n",
    " \n",
    "\n",
    "Example 1:\n",
    "```\n",
    "Input: \"{a,b}c{d,e}f\"\n",
    "Output: [\"acdf\",\"acef\",\"bcdf\",\"bcef\"]\n",
    "```\n",
    "Example 2:\n",
    "```\n",
    "Input: \"abcd\"\n",
    "Output: [\"abcd\"]\n",
    "```\n",
    "\n",
    "Note:\n",
    "```\n",
    "1 <= S.length <= 50\n",
    "There are no nested curly brackets.\n",
    "All characters inside a pair of consecutive opening and ending curly brackets are different.\n",
    "```"
   ]
  },
  {
   "cell_type": "code",
   "execution_count": 7,
   "metadata": {},
   "outputs": [],
   "source": [
    "def expand(S):\n",
    "    tokens = []\n",
    "    index = 0\n",
    "    output = []\n",
    "\n",
    "    while index < len(S):\n",
    "        if S[index] == '{':\n",
    "            start = index\n",
    "            while index < len(S) and S[index] != '}':\n",
    "                index += 1\n",
    "            tokens.append(S[start+1: index])\n",
    "        else:\n",
    "            tokens.append(S[index])\n",
    "\n",
    "        index += 1\n",
    "\n",
    "    # build the lookup table\n",
    "    print(\"tokens:\",tokens)\n",
    "\n",
    "    def helper(chosen, index):\n",
    "        if len(chosen) == len(tokens):\n",
    "            output.append(''.join(chosen))\n",
    "        else:\n",
    "            token = tokens[index]\n",
    "            token = token.split(',') # we don't need commas\n",
    "            for i in range(len(token)):\n",
    "                helper(chosen + token[i], index+1)\n",
    "\n",
    "    helper('', 0)\n",
    "\n",
    "    return sorted(output)"
   ]
  },
  {
   "cell_type": "code",
   "execution_count": 6,
   "metadata": {},
   "outputs": [
    {
     "name": "stdout",
     "output_type": "stream",
     "text": [
      "tokens: ['a,b', 'c', 'd,e', 'f']\n",
      "['acdf', 'acef', 'bcdf', 'bcef']\n"
     ]
    }
   ],
   "source": [
    "print(expand(\"{a,b}c{d,e}f\"))"
   ]
  },
  {
   "cell_type": "code",
   "execution_count": 8,
   "metadata": {},
   "outputs": [
    {
     "name": "stdout",
     "output_type": "stream",
     "text": [
      "tokens: ['a', 'b', 'c', 'd']\n",
      "['abcd']\n"
     ]
    }
   ],
   "source": [
    "print(expand(\"abcd\"))"
   ]
  }
 ],
 "metadata": {
  "kernelspec": {
   "display_name": "Python 3",
   "language": "python",
   "name": "python3"
  },
  "language_info": {
   "codemirror_mode": {
    "name": "ipython",
    "version": 3
   },
   "file_extension": ".py",
   "mimetype": "text/x-python",
   "name": "python",
   "nbconvert_exporter": "python",
   "pygments_lexer": "ipython3",
   "version": "3.8.5"
  }
 },
 "nbformat": 4,
 "nbformat_minor": 4
}
