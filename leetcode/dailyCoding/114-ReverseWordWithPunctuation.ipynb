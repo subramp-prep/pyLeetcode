{
 "cells": [
  {
   "cell_type": "markdown",
   "metadata": {},
   "source": [
    "Given a string and a set of delimiters, reverse the words in the string while maintaining the relative order of the delimiters. For example, given \"hello/world:here\", return \"here/world:hello\"\n",
    "\n",
    "Follow-up: Does your solution work for the following cases: \"hello/world:here/\", \"hello//world:here\""
   ]
  },
  {
   "cell_type": "code",
   "execution_count": 5,
   "metadata": {},
   "outputs": [],
   "source": [
    "import string\n",
    "\n",
    "def reverseWordWithPunctuation(s):\n",
    "    elements = []\n",
    "    i = 0\n",
    "\n",
    "    while i < len(s):\n",
    "        if s[i] is ' ' or s[i] in string.punctuation:\n",
    "            elements.append((s[i],True))\n",
    "            i += 1\n",
    "        else:\n",
    "            j = i\n",
    "            word = ''\n",
    "            while j < len(s) and s[j] != ' ' and s[j] not in string.punctuation:\n",
    "                word += s[j]\n",
    "                j += 1\n",
    "\n",
    "            elements.append((s[i:j], False))\n",
    "            i = j\n",
    "\n",
    "    i, j = 0, len(elements)-1\n",
    "\n",
    "    while i < j:\n",
    "        while i < j and elements[i][1] == True: i += 1\n",
    "        while i < j and elements[j][1] == True: j -= 1\n",
    "\n",
    "        elements[i], elements[j] = elements[j], elements[i]\n",
    "        i += 1\n",
    "        j -= 1\n",
    "\n",
    "    output = ''.join([i[0] for i in elements])\n",
    "    return output"
   ]
  },
  {
   "cell_type": "code",
   "execution_count": 6,
   "metadata": {},
   "outputs": [
    {
     "name": "stdout",
     "output_type": "stream",
     "text": [
      "here/world:hello\n"
     ]
    }
   ],
   "source": [
    "print(reverseWordWithPunctuation('hello/world:here'))"
   ]
  },
  {
   "cell_type": "code",
   "execution_count": 7,
   "metadata": {},
   "outputs": [
    {
     "name": "stdout",
     "output_type": "stream",
     "text": [
      "here//world:hello\n"
     ]
    }
   ],
   "source": [
    "print(reverseWordWithPunctuation('hello//world:here'))"
   ]
  },
  {
   "cell_type": "code",
   "execution_count": 8,
   "metadata": {},
   "outputs": [
    {
     "name": "stdout",
     "output_type": "stream",
     "text": [
      "here// world: hello\n"
     ]
    }
   ],
   "source": [
    "print(reverseWordWithPunctuation('hello// world: here'))"
   ]
  }
 ],
 "metadata": {
  "kernelspec": {
   "display_name": "Python 3",
   "language": "python",
   "name": "python3"
  },
  "language_info": {
   "codemirror_mode": {
    "name": "ipython",
    "version": 3
   },
   "file_extension": ".py",
   "mimetype": "text/x-python",
   "name": "python",
   "nbconvert_exporter": "python",
   "pygments_lexer": "ipython3",
   "version": "3.7.1"
  }
 },
 "nbformat": 4,
 "nbformat_minor": 2
}
