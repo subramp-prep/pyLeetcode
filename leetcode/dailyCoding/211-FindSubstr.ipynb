{
 "cells": [
  {
   "cell_type": "markdown",
   "metadata": {},
   "source": [
    "Given a string and a pattern, find the starting indices of all occurrences of the pattern in the string. For example, given the string \"abracadabra\" and the pattern \"abr\", you should return [0, 7]."
   ]
  },
  {
   "cell_type": "code",
   "execution_count": 1,
   "metadata": {},
   "outputs": [],
   "source": [
    "def substring(s, ss, index):\n",
    "    l1, l2 = len(s), len(ss)\n",
    "\n",
    "    if l1 < l2:\n",
    "        return\n",
    "\n",
    "    if l1 > l2 and s[:l2] == ss:\n",
    "        print('Found at Index:', index)\n",
    "        return substring(s[l2:], ss, index+l2)\n",
    "\n",
    "    return substring(s[1:], ss, index+1)"
   ]
  },
  {
   "cell_type": "code",
   "execution_count": 2,
   "metadata": {},
   "outputs": [
    {
     "name": "stdout",
     "output_type": "stream",
     "text": [
      "Found at Index: 0\n",
      "Found at Index: 7\n"
     ]
    }
   ],
   "source": [
    "substring('abracadabra', 'abr', 0)"
   ]
  },
  {
   "cell_type": "code",
   "execution_count": null,
   "metadata": {},
   "outputs": [],
   "source": []
  }
 ],
 "metadata": {
  "kernelspec": {
   "display_name": "Python 3",
   "language": "python",
   "name": "python3"
  },
  "language_info": {
   "codemirror_mode": {
    "name": "ipython",
    "version": 3
   },
   "file_extension": ".py",
   "mimetype": "text/x-python",
   "name": "python",
   "nbconvert_exporter": "python",
   "pygments_lexer": "ipython3",
   "version": "3.7.1"
  }
 },
 "nbformat": 4,
 "nbformat_minor": 2
}
