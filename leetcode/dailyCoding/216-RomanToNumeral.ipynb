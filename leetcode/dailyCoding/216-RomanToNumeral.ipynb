{
 "cells": [
  {
   "cell_type": "markdown",
   "metadata": {},
   "source": [
    "Given a number in Roman numeral format, convert it to decimal.\n",
    "\n",
    "The values of Roman numerals are as follows:\n",
    "```\n",
    "{\n",
    "    'M': 1000,\n",
    "    'D': 500,\n",
    "    'C': 100,\n",
    "    'L': 50,\n",
    "    'X': 10,\n",
    "    'V': 5,\n",
    "    'I': 1\n",
    "}\n",
    "```\n",
    "In addition, note that the Roman numeral system uses subtractive notation for numbers such as IV and XL.\n",
    "\n",
    "For the input XIV, for instance, you should return 14."
   ]
  },
  {
   "cell_type": "code",
   "execution_count": 2,
   "metadata": {},
   "outputs": [],
   "source": [
    "lookup = {\n",
    "    'M': 1000,\n",
    "    'D': 500,\n",
    "    'C': 100,\n",
    "    'L': 50,\n",
    "    'X': 10,\n",
    "    'V': 5,\n",
    "    'I': 1\n",
    "}\n",
    "\n",
    "def convertRomanToNumeral(roman, lookup):\n",
    "    \n",
    "    num, l = 0, len(roman)-1\n",
    "    for c in range(l, -1, -1):\n",
    "        compNext = -1\n",
    "        if c + 1 <= l:\n",
    "            compNext = c + 1\n",
    "\n",
    "        if compNext > -1 and lookup[roman[compNext]] > lookup[roman[c]]:\n",
    "            num -= lookup[roman[c]]\n",
    "        else:\n",
    "            num += lookup[roman[c]]\n",
    "\n",
    "    return num"
   ]
  },
  {
   "cell_type": "code",
   "execution_count": 3,
   "metadata": {},
   "outputs": [
    {
     "name": "stdout",
     "output_type": "stream",
     "text": [
      "14\n"
     ]
    }
   ],
   "source": [
    "print(convertRomanToNumeral('XIV', lookup))"
   ]
  },
  {
   "cell_type": "code",
   "execution_count": 4,
   "metadata": {},
   "outputs": [
    {
     "name": "stdout",
     "output_type": "stream",
     "text": [
      "24\n"
     ]
    }
   ],
   "source": [
    "print(convertRomanToNumeral('XXIV', lookup))"
   ]
  },
  {
   "cell_type": "code",
   "execution_count": 5,
   "metadata": {},
   "outputs": [
    {
     "name": "stdout",
     "output_type": "stream",
     "text": [
      "4\n"
     ]
    }
   ],
   "source": [
    "print(convertRomanToNumeral('IV', lookup))"
   ]
  },
  {
   "cell_type": "code",
   "execution_count": null,
   "metadata": {},
   "outputs": [],
   "source": []
  }
 ],
 "metadata": {
  "kernelspec": {
   "display_name": "Python 3",
   "language": "python",
   "name": "python3"
  },
  "language_info": {
   "codemirror_mode": {
    "name": "ipython",
    "version": 3
   },
   "file_extension": ".py",
   "mimetype": "text/x-python",
   "name": "python",
   "nbconvert_exporter": "python",
   "pygments_lexer": "ipython3",
   "version": "3.7.1"
  }
 },
 "nbformat": 4,
 "nbformat_minor": 2
}
