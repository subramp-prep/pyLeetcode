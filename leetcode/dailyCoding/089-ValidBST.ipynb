{
 "cells": [
  {
   "cell_type": "markdown",
   "metadata": {},
   "source": [
    "Determine whether a tree is a valid binary search tree.\n",
    "\n",
    "A binary search tree is a tree with two children, left and right, and satisfies the constraint that the key in the left child must be less than or equal to the root and the key in the right child must be greater than or equal to the root.\n",
    "```\n",
    "        5\n",
    "       / \\\n",
    "      2   18\n",
    "     / \\\n",
    "   -4   3\n",
    "```"
   ]
  },
  {
   "cell_type": "code",
   "execution_count": 1,
   "metadata": {},
   "outputs": [],
   "source": [
    "class TreeNode:\n",
    "    def __init__(self, value):\n",
    "        self.val = value\n",
    "        self.left = None\n",
    "        self.right = None\n",
    "        \n",
    "def buildTree(nums, index, root):\n",
    "    if index < len(nums) and nums[index]:\n",
    "        root = TreeNode(nums[index])\n",
    "        root.left = buildTree(nums, 2*index+1, root.left)\n",
    "        root.right = buildTree(nums, 2*index+2, root.right)\n",
    "        \n",
    "    return root\n",
    "\n"
   ]
  },
  {
   "cell_type": "markdown",
   "metadata": {},
   "source": [
    "## Incorrect impl, since we miss checking not-immediate nodes\n",
    "\n",
    "```\n",
    "def isValidBST(root):\n",
    "    if not root:\n",
    "        return True\n",
    "    \n",
    "    if root.left and root.left.val > root.val or root.right and root.right.val < root.val:\n",
    "        return False\n",
    "    \n",
    "    return isValidBST(root.left) and isValidBST(root.right)\n",
    "```"
   ]
  },
  {
   "cell_type": "markdown",
   "metadata": {},
   "source": [
    "## Correct Implementation"
   ]
  },
  {
   "cell_type": "code",
   "execution_count": 6,
   "metadata": {},
   "outputs": [],
   "source": [
    "import sys\n",
    "\n",
    "def isValidBST(root):\n",
    "    \n",
    "    def helper(root, minVal= sys.maxsize, maxVal=-sys.maxsize):\n",
    "        if not root:\n",
    "            return True\n",
    "        \n",
    "        if root.val <= maxVal or root.val >= minVal:\n",
    "            return False\n",
    "        \n",
    "        return helper(root.left, min(root.val, minVal), maxVal) and \\\n",
    "            helper(root.right, minVal, max(root.val, maxVal))\n",
    "        \n",
    "    return helper(root)"
   ]
  },
  {
   "cell_type": "code",
   "execution_count": 7,
   "metadata": {},
   "outputs": [
    {
     "name": "stdout",
     "output_type": "stream",
     "text": [
      "True\n"
     ]
    }
   ],
   "source": [
    "nums = [5,2,18,-4,3]\n",
    "root = buildTree(nums, 0, None)\n",
    "\n",
    "print(isValidBST(root))"
   ]
  },
  {
   "cell_type": "code",
   "execution_count": 8,
   "metadata": {},
   "outputs": [
    {
     "name": "stdout",
     "output_type": "stream",
     "text": [
      "False\n"
     ]
    }
   ],
   "source": [
    "nums = [3,4,5]\n",
    "root = buildTree(nums, 0, None)\n",
    "\n",
    "print(isValidBST(root))"
   ]
  },
  {
   "cell_type": "code",
   "execution_count": 9,
   "metadata": {},
   "outputs": [
    {
     "name": "stdout",
     "output_type": "stream",
     "text": [
      "True\n"
     ]
    }
   ],
   "source": [
    "nums = [3,2,4]\n",
    "root = buildTree(nums, 0, None)\n",
    "\n",
    "print(isValidBST(root))"
   ]
  }
 ],
 "metadata": {
  "kernelspec": {
   "display_name": "Python 3",
   "language": "python",
   "name": "python3"
  },
  "language_info": {
   "codemirror_mode": {
    "name": "ipython",
    "version": 3
   },
   "file_extension": ".py",
   "mimetype": "text/x-python",
   "name": "python",
   "nbconvert_exporter": "python",
   "pygments_lexer": "ipython3",
   "version": "3.7.1"
  }
 },
 "nbformat": 4,
 "nbformat_minor": 2
}
