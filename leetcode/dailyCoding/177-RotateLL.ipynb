{
 "cells": [
  {
   "cell_type": "markdown",
   "metadata": {},
   "source": [
    "Given a linked list and a positive integer k, rotate the list to the right by k places.\n",
    "\n",
    "For example, given the linked list 7 -> 7 -> 3 -> 5 and k = 2, it should become 3 -> 5 -> 7 -> 7.\n",
    "\n",
    "Given the linked list 1 -> 2 -> 3 -> 4 -> 5 and k = 3, it should become 3 -> 4 -> 5 -> 1 -> 2."
   ]
  },
  {
   "cell_type": "code",
   "execution_count": 3,
   "metadata": {},
   "outputs": [],
   "source": [
    "class LLNode:\n",
    "    def __init__(self, val, next=None):\n",
    "        self.val = val\n",
    "        self.next = next\n",
    "\n",
    "def RotateLL(head, k):\n",
    "    slow = fast = head\n",
    "    i = 0\n",
    "    while i < k  and fast: \n",
    "        slow = fast       \n",
    "        fast = fast.next\n",
    "        i += 1\n",
    "\n",
    "    slow.next = None\n",
    "    newhead = temp = fast\n",
    "\n",
    "    while fast:\n",
    "        temp = fast\n",
    "        fast = fast.next\n",
    "\n",
    "    temp.next = head\n",
    "\n",
    "    return newhead\n",
    "\n",
    "def PrintLL(head):\n",
    "    while head:\n",
    "        print(head.val, end= '->')\n",
    "        head = head.next"
   ]
  },
  {
   "cell_type": "code",
   "execution_count": 4,
   "metadata": {},
   "outputs": [
    {
     "name": "stdout",
     "output_type": "stream",
     "text": [
      "3->5->7->7->"
     ]
    }
   ],
   "source": [
    "head = LLNode(7, LLNode(7, LLNode(3, LLNode(5))))\n",
    "newHead = RotateLL(head, 2)\n",
    "PrintLL(newHead)"
   ]
  },
  {
   "cell_type": "markdown",
   "metadata": {},
   "source": [
    "# Optimized version"
   ]
  },
  {
   "cell_type": "code",
   "execution_count": 6,
   "metadata": {},
   "outputs": [],
   "source": [
    "def rotate(head, k):\n",
    "    fast, slow = head, head\n",
    "\n",
    "    for _ in range(k):\n",
    "        fast = fast.next\n",
    "\n",
    "    while fast.next is not None:\n",
    "        slow = slow.next\n",
    "        fast = fast.next\n",
    "\n",
    "    new_head = slow.next\n",
    "    fast.next = head\n",
    "    slow.next = None\n",
    "\n",
    "    return new_head"
   ]
  },
  {
   "cell_type": "markdown",
   "metadata": {},
   "source": [
    "**Intuition**\n",
    "\n",
    "The basic idea is this. First, advance the fast pointer k steps ahead. Then move the fast and slow pointers together until the fast one hits the end first.\n",
    "\n",
    "However, to handle the case where k is larger than the length of the linked list itself, we first get the length of the linked list first n, and check k % n first."
   ]
  }
 ],
 "metadata": {
  "kernelspec": {
   "display_name": "Python 3",
   "language": "python",
   "name": "python3"
  },
  "language_info": {
   "codemirror_mode": {
    "name": "ipython",
    "version": 3
   },
   "file_extension": ".py",
   "mimetype": "text/x-python",
   "name": "python",
   "nbconvert_exporter": "python",
   "pygments_lexer": "ipython3",
   "version": "3.7.1"
  }
 },
 "nbformat": 4,
 "nbformat_minor": 2
}
