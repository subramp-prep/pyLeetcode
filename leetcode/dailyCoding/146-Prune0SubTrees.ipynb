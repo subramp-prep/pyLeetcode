{
 "cells": [
  {
   "cell_type": "markdown",
   "metadata": {},
   "source": [
    "Given a binary tree where all nodes are either 0 or 1, prune the tree so that subtrees containing all 0s are removed.\n",
    "\n",
    "For example, given the following tree:\n",
    "```\n",
    "   0\n",
    "  / \\\n",
    " 1   0\n",
    "    / \\\n",
    "   1   0\n",
    "  / \\\n",
    " 0   0\n",
    "```\n",
    "should be pruned to:\n",
    "\n",
    "```\n",
    "   0\n",
    "  / \\\n",
    " 1   0\n",
    "    /\n",
    "   1\n",
    "```"
   ]
  },
  {
   "cell_type": "code",
   "execution_count": 5,
   "metadata": {},
   "outputs": [
    {
     "name": "stdout",
     "output_type": "stream",
     "text": [
      "[[0], [1, 0], [1]]\n"
     ]
    }
   ],
   "source": [
    "class TreeNode:\n",
    "    def __init__(self, val, left=None, right=None):\n",
    "        self.val = val\n",
    "        self.left = left\n",
    "        self.right = right\n",
    "        \n",
    "\n",
    "def Prune_old(root):\n",
    "    if root:\n",
    "        root.left = Prune(root.left)\n",
    "        root.right = Prune(root.right)\n",
    "        \n",
    "        if root.left is None and root.right is None and root.val == 0:\n",
    "            return None\n",
    "        \n",
    "        return root\n",
    "    \n",
    "def Prune(root):\n",
    "    if root is None:\n",
    "        return root\n",
    "    \n",
    "    root.left = Prune(root.left)\n",
    "    root.right = Prune(root.right)\n",
    "\n",
    "    if root.left is None and root.right is None and root.val == 0: #key to the solution\n",
    "        return None\n",
    "\n",
    "    return root\n",
    "    \n",
    "def levelOrder(root):\n",
    "    output = []\n",
    "    \n",
    "    def helper(head, depth):\n",
    "        if head:\n",
    "            if depth + 1  > len(output):\n",
    "                output.append([])\n",
    "            \n",
    "            output[depth].append(head.val)\n",
    "            \n",
    "            helper(head.left, depth + 1)\n",
    "            helper(head.right, depth + 1)\n",
    "            \n",
    "    helper(root, 0)\n",
    "    \n",
    "    return output\n",
    "    \n",
    "root = TreeNode(0, TreeNode(1), TreeNode(0, TreeNode(1, TreeNode(0), TreeNode(0)), TreeNode(0)))\n",
    "pruned = Prune(root)\n",
    "\n",
    "print(levelOrder(pruned))"
   ]
  },
  {
   "cell_type": "code",
   "execution_count": null,
   "metadata": {},
   "outputs": [],
   "source": []
  }
 ],
 "metadata": {
  "kernelspec": {
   "display_name": "Python 3",
   "language": "python",
   "name": "python3"
  },
  "language_info": {
   "codemirror_mode": {
    "name": "ipython",
    "version": 3
   },
   "file_extension": ".py",
   "mimetype": "text/x-python",
   "name": "python",
   "nbconvert_exporter": "python",
   "pygments_lexer": "ipython3",
   "version": "3.7.1"
  }
 },
 "nbformat": 4,
 "nbformat_minor": 2
}
