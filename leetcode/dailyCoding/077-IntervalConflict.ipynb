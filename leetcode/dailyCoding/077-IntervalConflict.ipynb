{
 "cells": [
  {
   "cell_type": "markdown",
   "metadata": {},
   "source": [
    "Given a list of possibly overlapping intervals, return a new list of intervals where all overlapping intervals have been merged.\n",
    "\n",
    "The input list is not necessarily ordered in any way.\n",
    "\n",
    "For example, given [(1, 3), (5, 8), (4, 10), (20, 25)], you should return [(1, 3), (4, 10), (20, 25)]."
   ]
  },
  {
   "cell_type": "code",
   "execution_count": null,
   "metadata": {},
   "outputs": [],
   "source": [
    "def findMerge(intervals):\n",
    "    output = []\n",
    "    \n",
    "    intervals = sorted(intervals, key=lambda x: x[0])\n",
    "    print(intervals)\n",
    "    \n",
    "    output.append(intervals[0])\n",
    "    \n",
    "    index = 1\n",
    "    while index < len(intervals):\n",
    "        \n",
    "        if intervals[index-1][1] < intervals[index][0]:\n",
    "            output.append(intervals[index])\n",
    "        index += 1\n",
    "        \n",
    "    return output"
   ]
  },
  {
   "cell_type": "code",
   "execution_count": null,
   "metadata": {},
   "outputs": [],
   "source": [
    "print(findMerge([(1, 3), (5, 8), (4, 10), (20, 25)]))"
   ]
  },
  {
   "cell_type": "markdown",
   "metadata": {},
   "source": [
    "## Another way of solving"
   ]
  },
  {
   "cell_type": "code",
   "execution_count": 12,
   "metadata": {},
   "outputs": [],
   "source": [
    "def mergeIntervals(intervals):\n",
    "    result = []\n",
    "    for start, end in sorted(intervals, key=lambda x: x[0]):\n",
    "        if result and start <= result[-1][1]:\n",
    "            prev_start, prev_end = result[-1] #tuple unpacking\n",
    "            if start > prev_end:\n",
    "                result.append((start,end))\n",
    "        else:\n",
    "            result.append((start,end)) # add default interval\n",
    "    \n",
    "    return result"
   ]
  },
  {
   "cell_type": "code",
   "execution_count": 13,
   "metadata": {},
   "outputs": [
    {
     "name": "stdout",
     "output_type": "stream",
     "text": [
      "[(1, 3), (4, 10), (20, 25)]\n"
     ]
    }
   ],
   "source": [
    "print(mergeIntervals([(1, 3), (5, 8), (4, 10), (20, 25)]))"
   ]
  }
 ],
 "metadata": {
  "kernelspec": {
   "display_name": "Python 3",
   "language": "python",
   "name": "python3"
  },
  "language_info": {
   "codemirror_mode": {
    "name": "ipython",
    "version": 3
   },
   "file_extension": ".py",
   "mimetype": "text/x-python",
   "name": "python",
   "nbconvert_exporter": "python",
   "pygments_lexer": "ipython3",
   "version": "3.7.0"
  }
 },
 "nbformat": 4,
 "nbformat_minor": 2
}
