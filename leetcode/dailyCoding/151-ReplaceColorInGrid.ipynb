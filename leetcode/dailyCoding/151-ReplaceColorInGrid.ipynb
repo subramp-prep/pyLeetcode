{
 "cells": [
  {
   "cell_type": "markdown",
   "metadata": {},
   "source": [
    "This is your coding interview problem for today.\n",
    "\n",
    "Given a 2-D matrix representing an image, a location of a pixel in the screen and a color C, replace the color of the given pixel and all adjacent same colored pixels with C.\n",
    "\n",
    "For example, given the following matrix, and location pixel of (2, 2), and 'G' for green:\n",
    "```\n",
    "B B W\n",
    "W W W\n",
    "W W W\n",
    "B B B\n",
    "```\n",
    "Becomes\n",
    "```\n",
    "B B G\n",
    "G G G\n",
    "G G G\n",
    "B B B\n",
    "```"
   ]
  },
  {
   "cell_type": "code",
   "execution_count": 1,
   "metadata": {},
   "outputs": [],
   "source": [
    "def replaceColor(matrix, pixel, newColor):\n",
    "    \n",
    "    oldColor = matrix[pixel[0]][pixel[1]]\n",
    "    rowL = len(matrix)\n",
    "    columL = len(matrix[0])\n",
    "\n",
    "    def dfs(row, column):\n",
    "        if (row >= 0 and column >= 0) and (row < rowL and column < columL) and matrix[row][column] == oldColor:\n",
    "            \n",
    "            matrix[row][column] = newColor\n",
    "\n",
    "            dfs(row+1, column)\n",
    "            dfs(row, column+1)\n",
    "            dfs(row-1, column)\n",
    "            dfs(row, column-1)\n",
    "\n",
    "    for r in range(rowL):\n",
    "        for c in range(columL):\n",
    "            dfs(r,c)\n",
    "            \n",
    "    return matrix"
   ]
  },
  {
   "cell_type": "code",
   "execution_count": 2,
   "metadata": {},
   "outputs": [
    {
     "name": "stdout",
     "output_type": "stream",
     "text": [
      "[['B', 'B', 'G'], ['G', 'G', 'G'], ['G', 'G', 'G'], ['B', 'B', 'B']]\n"
     ]
    }
   ],
   "source": [
    "matrix = [\n",
    "    ['B', 'B', 'W'],\n",
    "    ['W', 'W', 'W'],\n",
    "    ['W', 'W', 'W'],\n",
    "    ['B', 'B', 'B']\n",
    "]\n",
    "\n",
    "print(replaceColor(matrix, (2,2), 'G'))"
   ]
  }
 ],
 "metadata": {
  "kernelspec": {
   "display_name": "Python 3",
   "language": "python",
   "name": "python3"
  },
  "language_info": {
   "codemirror_mode": {
    "name": "ipython",
    "version": 3
   },
   "file_extension": ".py",
   "mimetype": "text/x-python",
   "name": "python",
   "nbconvert_exporter": "python",
   "pygments_lexer": "ipython3",
   "version": "3.7.1"
  }
 },
 "nbformat": 4,
 "nbformat_minor": 2
}
