{
 "cells": [
  {
   "cell_type": "markdown",
   "metadata": {},
   "source": [
    "Given a sorted array, find the smallest positive integer that is not the sum of a subset of the array.\n",
    "\n",
    "For example, for the input [1, 2, 3, 10], you should return 7.\n",
    "\n",
    "Do this in O(N) time."
   ]
  },
  {
   "cell_type": "code",
   "execution_count": 1,
   "metadata": {},
   "outputs": [],
   "source": [
    "def smallest_impossible_sum(nums):\n",
    "    impossible_sum = 1\n",
    "    \n",
    "    for num in nums:\n",
    "        print(impossible_sum)\n",
    "        if num <= impossible_sum:\n",
    "            impossible_sum += num\n",
    "        else:\n",
    "            break\n",
    "            \n",
    "    return impossible_sum            "
   ]
  },
  {
   "cell_type": "code",
   "execution_count": 3,
   "metadata": {},
   "outputs": [
    {
     "name": "stdout",
     "output_type": "stream",
     "text": [
      "1\n",
      "2\n",
      "4\n",
      "7\n",
      "Result: 7\n"
     ]
    }
   ],
   "source": [
    "print('Result:', smallest_impossible_sum([1,2,3,10]))"
   ]
  }
 ],
 "metadata": {
  "kernelspec": {
   "display_name": "Python 3",
   "language": "python",
   "name": "python3"
  },
  "language_info": {
   "codemirror_mode": {
    "name": "ipython",
    "version": 3
   },
   "file_extension": ".py",
   "mimetype": "text/x-python",
   "name": "python",
   "nbconvert_exporter": "python",
   "pygments_lexer": "ipython3",
   "version": "3.7.1"
  }
 },
 "nbformat": 4,
 "nbformat_minor": 2
}
