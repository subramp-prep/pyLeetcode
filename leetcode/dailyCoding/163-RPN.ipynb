{
 "cells": [
  {
   "cell_type": "markdown",
   "metadata": {},
   "source": [
    "## Reverse Polish Notation\n",
    "\n",
    "Given an arithmetic expression in Reverse Polish Notation, write a program to evaluate it.\n",
    "\n",
    "The expression is given as a list of numbers and operands. For example: [5, 3, '+'] should return 5 + 3 = 8.\n",
    "\n",
    "For example, \n",
    "```\n",
    "[15, 7, 1, 1, '+', '-', '/', 3, '*', 2, 1, 1, '+', '+', '-'] \n",
    "```\n",
    "should return 5, since it is equivalent to \n",
    "```\n",
    "((15 / (7 - (1 + 1))) * 3) - (2 + (1 + 1)) = 5\n",
    "```"
   ]
  },
  {
   "cell_type": "code",
   "execution_count": 1,
   "metadata": {},
   "outputs": [],
   "source": [
    "def RPNCalc(expression):\n",
    "    \n",
    "    evaluate = []\n",
    "    operators = ['+', '-', '/', '*']\n",
    "\n",
    "    for e in expression:\n",
    "        if e in operators:\n",
    "            o1 = evaluate.pop()\n",
    "            o2 = evaluate.pop()\n",
    "            result = 0\n",
    "\n",
    "            if e == '+':\n",
    "                result = o1 + o2\n",
    "            elif e == '-':\n",
    "                result = o2 - o1\n",
    "            elif e == '*':\n",
    "                result = o1 * o2\n",
    "            elif e == '/':\n",
    "                result = int(o2 / o1)\n",
    "\n",
    "            evaluate.append(result)\n",
    "        else:\n",
    "            evaluate.append(e)\n",
    "\n",
    "    return evaluate.pop()"
   ]
  },
  {
   "cell_type": "code",
   "execution_count": 2,
   "metadata": {},
   "outputs": [
    {
     "name": "stdout",
     "output_type": "stream",
     "text": [
      "5\n"
     ]
    }
   ],
   "source": [
    "print(RPNCalc([15, 7, 1, 1, '+', '-', '/', 3, '*', 2, 1, 1, '+', '+', '-']))"
   ]
  },
  {
   "cell_type": "code",
   "execution_count": null,
   "metadata": {},
   "outputs": [],
   "source": []
  }
 ],
 "metadata": {
  "kernelspec": {
   "display_name": "Python 3",
   "language": "python",
   "name": "python3"
  },
  "language_info": {
   "codemirror_mode": {
    "name": "ipython",
    "version": 3
   },
   "file_extension": ".py",
   "mimetype": "text/x-python",
   "name": "python",
   "nbconvert_exporter": "python",
   "pygments_lexer": "ipython3",
   "version": "3.7.1"
  }
 },
 "nbformat": 4,
 "nbformat_minor": 2
}
