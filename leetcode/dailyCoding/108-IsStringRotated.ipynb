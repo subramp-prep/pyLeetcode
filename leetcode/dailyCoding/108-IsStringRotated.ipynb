{
 "cells": [
  {
   "cell_type": "markdown",
   "metadata": {},
   "source": [
    "Given two strings A and B, return whether or not A can be shifted some number of times to get B.\n",
    "\n",
    "For example, if A is abcde and B is cdeab, return true. If A is abc and B is acb, return false."
   ]
  },
  {
   "cell_type": "code",
   "execution_count": 1,
   "metadata": {},
   "outputs": [],
   "source": [
    "def isStringRotated(a, b):\n",
    "    if len(a) != len(b):\n",
    "        return False\n",
    "\n",
    "    for _ in range(len(a)):\n",
    "        c, a = a[0], a[1:]        \n",
    "        a = a + c\n",
    "\n",
    "        if a == b:\n",
    "            return True\n",
    "\n",
    "    return False"
   ]
  },
  {
   "cell_type": "code",
   "execution_count": 3,
   "metadata": {},
   "outputs": [
    {
     "name": "stdout",
     "output_type": "stream",
     "text": [
      "True\n"
     ]
    }
   ],
   "source": [
    "print(isStringRotated_Easy('abcde', 'cdeab'))"
   ]
  },
  {
   "cell_type": "code",
   "execution_count": 4,
   "metadata": {},
   "outputs": [
    {
     "name": "stdout",
     "output_type": "stream",
     "text": [
      "False\n"
     ]
    }
   ],
   "source": [
    "print(isStringRotated_Easy('abc', 'acb'))"
   ]
  },
  {
   "cell_type": "code",
   "execution_count": 2,
   "metadata": {},
   "outputs": [],
   "source": [
    "def isStringRotated_Easy(a, b):\n",
    "    if len(a) != len(b):\n",
    "        return False\n",
    "    \n",
    "    return b in a+a"
   ]
  },
  {
   "cell_type": "code",
   "execution_count": null,
   "metadata": {},
   "outputs": [],
   "source": []
  }
 ],
 "metadata": {
  "kernelspec": {
   "display_name": "Python 3",
   "language": "python",
   "name": "python3"
  },
  "language_info": {
   "codemirror_mode": {
    "name": "ipython",
    "version": 3
   },
   "file_extension": ".py",
   "mimetype": "text/x-python",
   "name": "python",
   "nbconvert_exporter": "python",
   "pygments_lexer": "ipython3",
   "version": "3.7.1"
  }
 },
 "nbformat": 4,
 "nbformat_minor": 2
}
