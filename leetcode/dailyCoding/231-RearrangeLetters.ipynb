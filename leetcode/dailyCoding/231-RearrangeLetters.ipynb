{
 "cells": [
  {
   "cell_type": "markdown",
   "metadata": {},
   "source": [
    "Given a string with repeated characters, rearrange the string so that no two adjacent characters are the same. If this is not possible, return None.\n",
    "\n",
    "For example, given \"aaabbc\", you could return \"ababac\". Given \"aaab\", return None."
   ]
  },
  {
   "cell_type": "code",
   "execution_count": 1,
   "metadata": {},
   "outputs": [],
   "source": [
    "import collections\n",
    "\n",
    "def rearrageLetters(s):\n",
    "    letterMap = collections.Counter(s)\n",
    "    print(letterMap)\n",
    "    output = ''\n",
    "\n",
    "    while len(letterMap) > 0:\n",
    "\n",
    "        lettersToRemove = []\n",
    "\n",
    "        for k in letterMap:\n",
    "            output += k\n",
    "            letterMap[k] -= 1\n",
    "\n",
    "            if letterMap[k] == 0:\n",
    "                lettersToRemove.append(k)\n",
    "\n",
    "        while len(lettersToRemove) > 0:\n",
    "            letterMap.pop(lettersToRemove[-1])\n",
    "            lettersToRemove.pop()\n",
    "\n",
    "    for i in range(1, len(output)):\n",
    "        if output[i-1] == output[i]:\n",
    "            return False\n",
    "\n",
    "    return True"
   ]
  },
  {
   "cell_type": "code",
   "execution_count": 2,
   "metadata": {},
   "outputs": [
    {
     "name": "stdout",
     "output_type": "stream",
     "text": [
      "Counter({'a': 3, 'b': 2, 'c': 1})\n",
      "True\n"
     ]
    }
   ],
   "source": [
    "print(rearrageLetters('aaabbc'))"
   ]
  },
  {
   "cell_type": "code",
   "execution_count": 3,
   "metadata": {},
   "outputs": [
    {
     "name": "stdout",
     "output_type": "stream",
     "text": [
      "Counter({'a': 3, 'b': 1})\n",
      "False\n"
     ]
    }
   ],
   "source": [
    "print(rearrageLetters('aaab'))"
   ]
  },
  {
   "cell_type": "code",
   "execution_count": null,
   "metadata": {},
   "outputs": [],
   "source": []
  }
 ],
 "metadata": {
  "kernelspec": {
   "display_name": "Python 3",
   "language": "python",
   "name": "python3"
  },
  "language_info": {
   "codemirror_mode": {
    "name": "ipython",
    "version": 3
   },
   "file_extension": ".py",
   "mimetype": "text/x-python",
   "name": "python",
   "nbconvert_exporter": "python",
   "pygments_lexer": "ipython3",
   "version": "3.7.1"
  }
 },
 "nbformat": 4,
 "nbformat_minor": 2
}
