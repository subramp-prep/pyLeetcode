{
 "cells": [
  {
   "cell_type": "markdown",
   "metadata": {},
   "source": [
    "Given the root of a binary tree, return a deepest node. For example, in the following tree, return d.\n",
    "\n",
    "```\n",
    "    a\n",
    "   / \\\n",
    "  b   c\n",
    " /\n",
    "d\n",
    "```"
   ]
  },
  {
   "cell_type": "code",
   "execution_count": null,
   "metadata": {},
   "outputs": [],
   "source": [
    "class TreeNode:\n",
    "    def __init__(self, val):\n",
    "        self.val = val\n",
    "        self.left = None\n",
    "        self.right = None\n",
    "        \n",
    "def buildTree(nums, index, node):\n",
    "    if index < len(nums):\n",
    "        node = TreeNode(nums[index])\n",
    "        node.left = buildTree(nums, 2*index + 1, node.left)\n",
    "        node.right = buildTree(nums, 2*index + 2, node.right)\n",
    "        \n",
    "    return node\n",
    "\n",
    "def getDeepNode(root):\n",
    "    output = []\n",
    "\n",
    "    def helper(current, level):\n",
    "        if current is None:\n",
    "            return\n",
    "        \n",
    "        if len(output) < (level + 1):\n",
    "            nodes = []\n",
    "            nodes.append(current.val)\n",
    "            output.append(nodes)\n",
    "        else:\n",
    "            nodes = output[level]\n",
    "            nodes.append(current.val)\n",
    "\n",
    "        helper(current.left, level + 1)\n",
    "        helper(current.right, level + 1)\n",
    "    \n",
    "    helper(root, 0)\n",
    "    return output"
   ]
  },
  {
   "cell_type": "code",
   "execution_count": null,
   "metadata": {},
   "outputs": [],
   "source": [
    "root = buildTree(['a', 'b', 'c', 'd'], 0, None)\n",
    "levelNodes = getDeepNode(root)\n",
    "\n",
    "deep = len(levelNodes) - 1\n",
    "\n",
    "for n in levelNodes[deep]:\n",
    "    print(n)"
   ]
  }
 ],
 "metadata": {
  "kernelspec": {
   "display_name": "Python 3",
   "language": "python",
   "name": "python3"
  },
  "language_info": {
   "codemirror_mode": {
    "name": "ipython",
    "version": 3
   },
   "file_extension": ".py",
   "mimetype": "text/x-python",
   "name": "python",
   "nbconvert_exporter": "python",
   "pygments_lexer": "ipython3",
   "version": "3.7.1"
  }
 },
 "nbformat": 4,
 "nbformat_minor": 2
}
