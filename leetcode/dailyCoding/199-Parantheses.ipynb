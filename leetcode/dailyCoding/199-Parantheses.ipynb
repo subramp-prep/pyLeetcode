{
 "cells": [
  {
   "cell_type": "markdown",
   "metadata": {},
   "source": [
    "## 199 - Parantheses correction\n",
    "\n",
    "Given a string of parentheses, find the balanced string that can be produced from it using the minimum number of insertions and deletions. If there are multiple solutions, return any of them.\n",
    "\n",
    "For example, given \"(()\", you could return \"(())\". Given \"))()(\", you could return \"()()()()\"."
   ]
  },
  {
   "cell_type": "code",
   "execution_count": 5,
   "metadata": {},
   "outputs": [],
   "source": [
    "def paranthese(s):\n",
    "    closest = []\n",
    "    open = 0\n",
    "    \n",
    "    for c in s:\n",
    "        if c == '(':\n",
    "            open += 1\n",
    "        else:\n",
    "            if not open:\n",
    "                closest.append('(')\n",
    "            else:\n",
    "                open -= 1\n",
    "                \n",
    "        closest.append(c)\n",
    "        \n",
    "    while open > 0:\n",
    "        closest.append(')')\n",
    "        open -= 1\n",
    "        \n",
    "    return ''.join(closest)"
   ]
  },
  {
   "cell_type": "code",
   "execution_count": 6,
   "metadata": {},
   "outputs": [
    {
     "name": "stdout",
     "output_type": "stream",
     "text": [
      "(())\n"
     ]
    }
   ],
   "source": [
    "print(paranthese('(()'))"
   ]
  },
  {
   "cell_type": "code",
   "execution_count": 7,
   "metadata": {},
   "outputs": [
    {
     "name": "stdout",
     "output_type": "stream",
     "text": [
      "()()()()\n"
     ]
    }
   ],
   "source": [
    "print(paranthese('))()('))"
   ]
  }
 ],
 "metadata": {
  "kernelspec": {
   "display_name": "Python 3",
   "language": "python",
   "name": "python3"
  },
  "language_info": {
   "codemirror_mode": {
    "name": "ipython",
    "version": 3
   },
   "file_extension": ".py",
   "mimetype": "text/x-python",
   "name": "python",
   "nbconvert_exporter": "python",
   "pygments_lexer": "ipython3",
   "version": "3.7.1"
  }
 },
 "nbformat": 4,
 "nbformat_minor": 2
}
