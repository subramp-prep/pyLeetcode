{
 "cells": [
  {
   "cell_type": "markdown",
   "metadata": {},
   "source": [
    "Given a mapping of digits to letters (as in a phone number), and a digit string, return all possible letters the number could represent. You can assume each valid number in the mapping is a single digit.\n",
    "\n",
    "For example if \n",
    "```\n",
    "{“2”: [“a”, “b”, “c”], 3: [“d”, “e”, “f”], …}\n",
    "```\n",
    "then “23” should return \n",
    "```\n",
    "[“ad”, “ae”, “af”, “bd”, “be”, “bf”, “cd”, “ce”, “cf\"]\n",
    "```"
   ]
  },
  {
   "cell_type": "code",
   "execution_count": null,
   "metadata": {},
   "outputs": [],
   "source": [
    "_lookup = {\n",
    "    \"2\" : ['a','b', 'c'],\n",
    "    \"3\" : ['d','e', 'f'],\n",
    "    \"4\" : ['g','h', 'i'],\n",
    "    \"5\" : ['j','k', 'l'],\n",
    "    \"6\" : ['m','n', 'o'],\n",
    "    \"7\" : ['p','q', 'r', 's'],\n",
    "    \"8\" : ['t','u', 'v'],\n",
    "    \"9\" : ['w','x', 'y', 'z'],\n",
    "}\n",
    "\n",
    "def numberCombo(num):\n",
    "    output = []\n",
    "    \n",
    "    def helper(chosen, scanIndex):\n",
    "        if len(chosen) == len(num):\n",
    "            output.append(''.join(chosen))\n",
    "        else:\n",
    "            letters = _lookup[num[scanIndex]]\n",
    "            #print(num[scanIndex], letters)\n",
    "            for index in range(len(letters)):\n",
    "                \n",
    "                chosen.append(letters[index])                \n",
    "                helper(chosen, scanIndex + 1)\n",
    "                chosen.pop()\n",
    "    \n",
    "    if len(num) > 0:\n",
    "        helper([], 0)\n",
    "    return output"
   ]
  },
  {
   "cell_type": "code",
   "execution_count": null,
   "metadata": {},
   "outputs": [],
   "source": [
    "numberCombo('23')"
   ]
  },
  {
   "cell_type": "code",
   "execution_count": null,
   "metadata": {},
   "outputs": [],
   "source": [
    "numberCombo('')"
   ]
  }
 ],
 "metadata": {
  "kernelspec": {
   "display_name": "Python 3",
   "language": "python",
   "name": "python3"
  },
  "language_info": {
   "codemirror_mode": {
    "name": "ipython",
    "version": 3
   },
   "file_extension": ".py",
   "mimetype": "text/x-python",
   "name": "python",
   "nbconvert_exporter": "python",
   "pygments_lexer": "ipython3",
   "version": "3.7.1"
  }
 },
 "nbformat": 4,
 "nbformat_minor": 2
}
