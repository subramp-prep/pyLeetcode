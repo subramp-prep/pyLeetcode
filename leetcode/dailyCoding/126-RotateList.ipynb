{
 "cells": [
  {
   "cell_type": "markdown",
   "metadata": {},
   "source": [
    "Write a function that rotates a list by k elements. For example, [1, 2, 3, 4, 5, 6] rotated by two becomes [3, 4, 5, 6, 1, 2]. Try solving this without creating a copy of the list. How many swap or move operations do you need?"
   ]
  },
  {
   "cell_type": "code",
   "execution_count": 7,
   "metadata": {},
   "outputs": [],
   "source": [
    "def rotateArray(nums, k):\n",
    "    l = len(nums)\n",
    "\n",
    "    k = k%l\n",
    "\n",
    "    nums = nums[::-1]\n",
    "    nums[:l-k] = nums[l-k-1::-1] # list splicing\n",
    "    nums[l-k:] = nums[:-k-1:-1]\n",
    "    #rearrangeElements(nums, 0, l-k-1)\n",
    "    #rearrangeElements(nums, l-k, l-1)\n",
    "\n",
    "    return nums\n",
    "\n",
    "\n",
    "def rearrangeElements(nums, l, h):\n",
    "    while l < h:\n",
    "        nums[l], nums[h] = nums[h], nums[l]\n",
    "        l += 1\n",
    "        h -= 1"
   ]
  },
  {
   "cell_type": "code",
   "execution_count": 8,
   "metadata": {},
   "outputs": [
    {
     "name": "stdout",
     "output_type": "stream",
     "text": [
      "[3, 4, 5, 6, 1, 2]\n"
     ]
    }
   ],
   "source": [
    "print(rotateArray([1,2,3,4,5,6], 2))"
   ]
  },
  {
   "cell_type": "code",
   "execution_count": 9,
   "metadata": {},
   "outputs": [
    {
     "name": "stdout",
     "output_type": "stream",
     "text": [
      "[5, 6, 1, 2, 3, 4]\n"
     ]
    }
   ],
   "source": [
    "print(rotateArray([1,2,3,4,5,6], -2))"
   ]
  }
 ],
 "metadata": {
  "kernelspec": {
   "display_name": "Python 3",
   "language": "python",
   "name": "python3"
  },
  "language_info": {
   "codemirror_mode": {
    "name": "ipython",
    "version": 3
   },
   "file_extension": ".py",
   "mimetype": "text/x-python",
   "name": "python",
   "nbconvert_exporter": "python",
   "pygments_lexer": "ipython3",
   "version": "3.7.1"
  }
 },
 "nbformat": 4,
 "nbformat_minor": 2
}
