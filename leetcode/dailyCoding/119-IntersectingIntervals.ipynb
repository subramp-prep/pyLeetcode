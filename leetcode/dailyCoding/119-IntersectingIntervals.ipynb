{
 "cells": [
  {
   "cell_type": "markdown",
   "metadata": {},
   "source": [
    "Given a set of closed intervals, find the smallest set of numbers that covers all the intervals. If there are multiple smallest sets, return any of them.\n",
    "\n",
    "For example, given the intervals [0, 3], [2, 6], [3, 4], [6, 9], one set of numbers that covers all these intervals is {3, 6}."
   ]
  },
  {
   "cell_type": "code",
   "execution_count": 1,
   "metadata": {},
   "outputs": [],
   "source": [
    "def intersectingIntervals(intervals):\n",
    "    intervals.sort(key=lambda x:x[0])\n",
    "\n",
    "    result, i = [], 0\n",
    "\n",
    "    while i < len(intervals):\n",
    "\n",
    "        interval = intervals[i]\n",
    "\n",
    "        while i < len(intervals) and doesIntersect(interval, intervals[i]):\n",
    "            interval = (max(interval[0], intervals[i][0]),\n",
    "                        min(interval[1], intervals[i][1]))\n",
    "\n",
    "            i += 1\n",
    "\n",
    "        result.append(interval)\n",
    "\n",
    "    return result\n",
    "\n",
    "def doesIntersect(x, y):\n",
    "    return not (x[0] > y[1] or y[0] > x[1])"
   ]
  },
  {
   "cell_type": "code",
   "execution_count": 4,
   "metadata": {},
   "outputs": [
    {
     "name": "stdout",
     "output_type": "stream",
     "text": [
      "[(3, 3), (6, 9)]\n"
     ]
    }
   ],
   "source": [
    "# TODO really not intersecting\n",
    "\n",
    "print(intersectingIntervals(\n",
    "    [[0, 3], [2, 6], [3, 4], [6, 9]]\n",
    "))"
   ]
  },
  {
   "cell_type": "code",
   "execution_count": 5,
   "metadata": {},
   "outputs": [
    {
     "name": "stdout",
     "output_type": "stream",
     "text": [
      "[(3, 6), (10, 12)]\n"
     ]
    }
   ],
   "source": [
    "print(intersectingIntervals(\n",
    "    [[10, 20], [1, 6], [3, 8], [7, 12]]\n",
    "))"
   ]
  },
  {
   "cell_type": "code",
   "execution_count": null,
   "metadata": {},
   "outputs": [],
   "source": []
  }
 ],
 "metadata": {
  "kernelspec": {
   "display_name": "Python 3",
   "language": "python",
   "name": "python3"
  },
  "language_info": {
   "codemirror_mode": {
    "name": "ipython",
    "version": 3
   },
   "file_extension": ".py",
   "mimetype": "text/x-python",
   "name": "python",
   "nbconvert_exporter": "python",
   "pygments_lexer": "ipython3",
   "version": "3.7.1"
  }
 },
 "nbformat": 4,
 "nbformat_minor": 2
}
