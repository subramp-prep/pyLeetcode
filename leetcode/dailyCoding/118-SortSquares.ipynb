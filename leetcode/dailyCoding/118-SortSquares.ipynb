{
 "cells": [
  {
   "cell_type": "markdown",
   "metadata": {},
   "source": [
    "Given a sorted list of integers, square the elements and give the output in sorted order.\n",
    "\n",
    "For example, given [-9, -2, 0, 2, 3], return [0, 4, 4, 9, 81]."
   ]
  },
  {
   "cell_type": "markdown",
   "metadata": {},
   "source": [
    "### Note: Solve in O(n) time"
   ]
  },
  {
   "cell_type": "code",
   "execution_count": 2,
   "metadata": {},
   "outputs": [],
   "source": [
    "def sortSquares(nums):\n",
    "    negatives = [x**2 for x in nums if x < 0]\n",
    "    positives = [x**2 for x in nums if x >= 0]\n",
    "\n",
    "    i, j = len(negatives)-1, 0\n",
    "\n",
    "    result = []\n",
    "\n",
    "    while i >=0  and j < len(positives):\n",
    "        if negatives[i] < positives[j]:\n",
    "            result.append(negatives[i])\n",
    "            i -= 1\n",
    "        else:\n",
    "            result.append(positives[j])\n",
    "            j += 1\n",
    "\n",
    "    while i >= 0:\n",
    "        result.append(negatives[i])\n",
    "        i -= 1\n",
    "\n",
    "    while j < len(positives):\n",
    "        result.append(positives[j])\n",
    "        j += 1\n",
    "\n",
    "    return result"
   ]
  },
  {
   "cell_type": "code",
   "execution_count": 3,
   "metadata": {},
   "outputs": [
    {
     "name": "stdout",
     "output_type": "stream",
     "text": [
      "[0, 4, 4, 9, 81]\n"
     ]
    }
   ],
   "source": [
    "print(sortSquares([-9, -2, 0, 2, 3]))"
   ]
  }
 ],
 "metadata": {
  "kernelspec": {
   "display_name": "Python 3",
   "language": "python",
   "name": "python3"
  },
  "language_info": {
   "codemirror_mode": {
    "name": "ipython",
    "version": 3
   },
   "file_extension": ".py",
   "mimetype": "text/x-python",
   "name": "python",
   "nbconvert_exporter": "python",
   "pygments_lexer": "ipython3",
   "version": "3.7.1"
  }
 },
 "nbformat": 4,
 "nbformat_minor": 2
}
