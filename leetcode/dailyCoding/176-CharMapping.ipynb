{
 "cells": [
  {
   "cell_type": "markdown",
   "metadata": {},
   "source": [
    "Determine whether there exists a one-to-one character mapping from one string s1 to another s2.\n",
    "\n",
    "For example, given s1 = abc and s2 = bcd, return true since we can map a to b, b to c, and c to d.\n",
    "\n",
    "Given s1 = foo and s2 = bar, return false since the o cannot map to two characters."
   ]
  },
  {
   "cell_type": "code",
   "execution_count": 9,
   "metadata": {},
   "outputs": [],
   "source": [
    "def charMap(x, y):\n",
    "    d_x, d_y = {}, {}\n",
    "\n",
    "    for i, v in enumerate(x):\n",
    "        d_x[v] = d_x.get(v, []) + [i]\n",
    "        \n",
    "    print('d_x:', d_x)\n",
    "    \n",
    "    for i, v in enumerate(y):\n",
    "        d_y[v] = d_y.get(v, []) + [i]\n",
    "        \n",
    "    print('d_y:', d_y)\n",
    "\n",
    "    return sorted(d_x.values()) == sorted(d_y.values())"
   ]
  },
  {
   "cell_type": "code",
   "execution_count": 10,
   "metadata": {},
   "outputs": [
    {
     "name": "stdout",
     "output_type": "stream",
     "text": [
      "d_x: {'a': [0], 'b': [1], 'c': [2]}\n",
      "d_y: {'b': [0], 'c': [1], 'd': [2]}\n",
      "True\n"
     ]
    }
   ],
   "source": [
    "print(charMap('abc', 'bcd'))"
   ]
  },
  {
   "cell_type": "code",
   "execution_count": 11,
   "metadata": {},
   "outputs": [
    {
     "name": "stdout",
     "output_type": "stream",
     "text": [
      "d_x: {'e': [0], 'g': [1, 2]}\n",
      "d_y: {'a': [0], 'd': [1, 2]}\n",
      "True\n"
     ]
    }
   ],
   "source": [
    "print(charMap('egg', 'add'))"
   ]
  },
  {
   "cell_type": "code",
   "execution_count": 12,
   "metadata": {},
   "outputs": [
    {
     "name": "stdout",
     "output_type": "stream",
     "text": [
      "d_x: {'a': [0], 'b': [1], 'c': [2]}\n",
      "d_y: {'d': [0], 'e': [1, 2]}\n",
      "False\n"
     ]
    }
   ],
   "source": [
    "print(charMap('abc', 'dee'))"
   ]
  },
  {
   "cell_type": "markdown",
   "metadata": {},
   "source": [
    "**Intution**\n",
    "\n",
    "Add string characters to hashmap with their indices\n",
    "Check if the sorted values are the same for both hashmaps"
   ]
  }
 ],
 "metadata": {
  "kernelspec": {
   "display_name": "Python 3",
   "language": "python",
   "name": "python3"
  },
  "language_info": {
   "codemirror_mode": {
    "name": "ipython",
    "version": 3
   },
   "file_extension": ".py",
   "mimetype": "text/x-python",
   "name": "python",
   "nbconvert_exporter": "python",
   "pygments_lexer": "ipython3",
   "version": "3.7.1"
  }
 },
 "nbformat": 4,
 "nbformat_minor": 2
}
