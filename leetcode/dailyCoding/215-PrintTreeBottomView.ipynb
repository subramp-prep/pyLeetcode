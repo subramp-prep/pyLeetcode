{
 "cells": [
  {
   "cell_type": "markdown",
   "metadata": {},
   "source": [
    "The horizontal distance of a binary tree node describes how far left or right the node will be when the tree is printed out.\n",
    "\n",
    "More rigorously, we can define it as follows:\n",
    "\n",
    "The horizontal distance of the root is 0.\n",
    "The horizontal distance of a left child is hd(parent) - 1.\n",
    "The horizontal distance of a right child is hd(parent) + 1.\n",
    "For example, for the following tree, hd(1) = -2, and hd(6) = 0.\n",
    "```\n",
    "             5\n",
    "          /     \\\n",
    "        3         7\n",
    "      /  \\      /   \\\n",
    "    1     4    6     9\n",
    "   /                /\n",
    "  0                8\n",
    "```\n",
    "The bottom view of a tree, then, consists of the lowest node at each horizontal distance. If there are two nodes at the same depth and horizontal distance, either is acceptable.\n",
    "\n",
    "For this tree, for example, the bottom view could be [0, 1, 3, 6, 8, 9].\n",
    "\n",
    "Given the root to a binary tree, return its bottom view."
   ]
  },
  {
   "cell_type": "code",
   "execution_count": 14,
   "metadata": {},
   "outputs": [],
   "source": [
    "class TreeNode:\n",
    "    def __init__(self, val, left=None, right=None):\n",
    "        self.val = val\n",
    "        self.left = left\n",
    "        self.right = right\n",
    "        \n",
    "def printBottomView(root):\n",
    "    \n",
    "    vertical = {}\n",
    "    \n",
    "    def helper(head, axis, depth):\n",
    "        if head:\n",
    "            vertical[axis] = (head.val, depth)\n",
    "            \n",
    "            helper(head.left , axis-1, depth+1)\n",
    "            helper(head.right, axis+1, depth+1)\n",
    "            \n",
    "    helper(root, 0, 0)\n",
    "    vertical = sorted(vertical.items(), key=lambda x:x[0])\n",
    "    vertical = [v[0] for u, v in vertical ]\n",
    "    print(vertical)\n",
    "    "
   ]
  },
  {
   "cell_type": "code",
   "execution_count": 15,
   "metadata": {},
   "outputs": [
    {
     "name": "stdout",
     "output_type": "stream",
     "text": [
      "[0, 1, 3, 6, 8, 9]\n"
     ]
    }
   ],
   "source": [
    "root = TreeNode(5, TreeNode(3, TreeNode(1, TreeNode(0)), TreeNode(4)), TreeNode(7, TreeNode(6), TreeNode(9, TreeNode(8))))\n",
    "\n",
    "printBottomView(root)"
   ]
  }
 ],
 "metadata": {
  "kernelspec": {
   "display_name": "Python 3",
   "language": "python",
   "name": "python3"
  },
  "language_info": {
   "codemirror_mode": {
    "name": "ipython",
    "version": 3
   },
   "file_extension": ".py",
   "mimetype": "text/x-python",
   "name": "python",
   "nbconvert_exporter": "python",
   "pygments_lexer": "ipython3",
   "version": "3.7.1"
  }
 },
 "nbformat": 4,
 "nbformat_minor": 2
}
