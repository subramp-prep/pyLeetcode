{
 "cells": [
  {
   "cell_type": "markdown",
   "metadata": {},
   "source": [
    "You are given an N by M matrix of 0s and 1s. Starting from the top left corner, how many ways are there to reach the bottom right corner?\n",
    "\n",
    "You can only move right and down. 0 represents an empty space while 1 represents a wall you cannot walk through.\n",
    "\n",
    "For example, given the following matrix:\n",
    "```\n",
    "[[0, 0, 1],\n",
    " [0, 0, 1],\n",
    " [1, 0, 0]]\n",
    "```\n",
    "Return two, as there are only two ways to get to the bottom right:\n",
    "\n",
    "```\n",
    "Right, down, down, right\n",
    "Down, right, down, right\n",
    "```\n",
    "\n",
    "The top left corner and bottom right corner will always be 0."
   ]
  },
  {
   "cell_type": "code",
   "execution_count": 1,
   "metadata": {},
   "outputs": [],
   "source": [
    "def countPaths(matrix):\n",
    "    \n",
    "    def dfs(r,c):\n",
    "        if matrix[r][c] == 1: # important to return if we encounter a wall\n",
    "            return\n",
    "\n",
    "        if matrix[r][c] == 0:\n",
    "            dp[r][c] += 1\n",
    "\n",
    "        if r+1 < rows:\n",
    "            dfs(r+1, c)\n",
    "        \n",
    "        if c+1 < columns:\n",
    "            dfs(r, c+1)\n",
    "\n",
    "    rows = len(matrix)\n",
    "    columns = len(matrix[0])\n",
    "\n",
    "    dp = [[0 for _ in range(columns)] for _ in range(rows)]\n",
    "\n",
    "    dfs(0, 0)\n",
    "    return dp[rows-1][columns-1]"
   ]
  },
  {
   "cell_type": "code",
   "execution_count": 2,
   "metadata": {},
   "outputs": [
    {
     "name": "stdout",
     "output_type": "stream",
     "text": [
      "2\n"
     ]
    }
   ],
   "source": [
    "matrix = [\n",
    "    [0, 0, 1],\n",
    "    [0, 0, 1],\n",
    "    [1, 0, 0]\n",
    "]\n",
    "\n",
    "print(countPaths(matrix))"
   ]
  },
  {
   "cell_type": "code",
   "execution_count": null,
   "metadata": {},
   "outputs": [],
   "source": []
  }
 ],
 "metadata": {
  "kernelspec": {
   "display_name": "Python 3",
   "language": "python",
   "name": "python3"
  },
  "language_info": {
   "codemirror_mode": {
    "name": "ipython",
    "version": 3
   },
   "file_extension": ".py",
   "mimetype": "text/x-python",
   "name": "python",
   "nbconvert_exporter": "python",
   "pygments_lexer": "ipython3",
   "version": "3.7.1"
  }
 },
 "nbformat": 4,
 "nbformat_minor": 2
}
