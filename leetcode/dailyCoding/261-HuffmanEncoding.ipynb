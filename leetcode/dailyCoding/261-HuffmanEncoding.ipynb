{
 "cells": [
  {
   "cell_type": "markdown",
   "metadata": {},
   "source": [
    "## 261 Huffman Encoding\n",
    "\n",
    "Huffman coding is a method of encoding characters based on their frequency. Each letter is assigned a variable-length binary string, such as 0101 or 111110, where shorter lengths correspond to more common letters. To accomplish this, a binary tree is built such that the path from the root to any leaf uniquely maps to a character. When traversing the path, descending to a left child corresponds to a 0 in the prefix, while descending right corresponds to 1.\n",
    "\n",
    "Here is an example tree (note that only the leaf nodes have letters):\n",
    "```\n",
    "        *\n",
    "      /   \\\n",
    "    *       *\n",
    "   / \\     / \\\n",
    "  *   a   t   *\n",
    " /             \\\n",
    "c               s\n",
    "```\n",
    "With this encoding, cats would be represented as 0000110111.\n",
    "\n",
    "Given a dictionary of character frequencies, build a Huffman tree, and use it to determine a mapping between characters and their encoded binary strings."
   ]
  },
  {
   "cell_type": "code",
   "execution_count": 5,
   "metadata": {},
   "outputs": [],
   "source": [
    "import heapq\n",
    "\n",
    "class TreeNode:\n",
    "    def __init__(self, val, left=None, right=None):\n",
    "        self.val = val\n",
    "        self.left = left\n",
    "        self.right = right\n",
    "\n",
    "def huffmanEncoding(maps):\n",
    "    heap = []\n",
    "\n",
    "    for k, v in maps.items():\n",
    "        heapq.heappush(heap, (v, TreeNode(k)))\n",
    "\n",
    "    #tree = []\n",
    "    while len(heap) > 1:\n",
    "        nv1, nk1 = heapq.heappop(heap)\n",
    "        nv2, nk2 = heapq.heappop(heap)\n",
    "\n",
    "        #node = TreeNode('*', TreeNode((nk1, nv1)), TreeNode((nk2, nv2)))\n",
    "        #node = TreeNode('*', TreeNode(nk1), TreeNode(nk2))\n",
    "        node = TreeNode('*', nk1, nk2)\n",
    "        heapq.heappush(heap, (nv1+nv2, node))\n",
    "\n",
    "    def helper(root, encode='', maps={}):\n",
    "        if not root:\n",
    "            return\n",
    "\n",
    "        if not root.left and not root.right: # and isinstance(root.val, str):\n",
    "            maps[root.val] = encode\n",
    "\n",
    "        #print(root.val)\n",
    "\n",
    "        helper(root.left, encode + '0', maps)\n",
    "        helper(root.right, encode + '1', maps)\n",
    "\n",
    "        return maps\n",
    "\n",
    "    return helper(heap[0][1])"
   ]
  },
  {
   "cell_type": "code",
   "execution_count": 6,
   "metadata": {},
   "outputs": [
    {
     "name": "stdout",
     "output_type": "stream",
     "text": [
      "{'b': '0000', 'c': '0001', 'a': '001', 'd': '010', 'e': '011', 'f': '1'}\n"
     ]
    }
   ],
   "source": [
    "maps = {\n",
    "    'a':12,\n",
    "    'b':2,\n",
    "    'c':7,\n",
    "    'd':13,\n",
    "    'e':14,\n",
    "    'f':85\n",
    "}\n",
    "print(huffmanEncoding(maps))"
   ]
  }
 ],
 "metadata": {
  "kernelspec": {
   "display_name": "Python 3",
   "language": "python",
   "name": "python3"
  },
  "language_info": {
   "codemirror_mode": {
    "name": "ipython",
    "version": 3
   },
   "file_extension": ".py",
   "mimetype": "text/x-python",
   "name": "python",
   "nbconvert_exporter": "python",
   "pygments_lexer": "ipython3",
   "version": "3.7.1"
  }
 },
 "nbformat": 4,
 "nbformat_minor": 2
}
