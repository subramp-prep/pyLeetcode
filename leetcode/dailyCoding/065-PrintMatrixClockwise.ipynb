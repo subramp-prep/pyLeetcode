{
 "cells": [
  {
   "cell_type": "markdown",
   "metadata": {},
   "source": [
    "Given a N by M matrix of numbers, print out the matrix in a clockwise spiral.\n",
    "\n",
    "For example, given the following matrix:\n",
    "\n",
    "```\n",
    "[[1,  2,  3,  4,  5],\n",
    " [6,  7,  8,  9,  10],\n",
    " [11, 12, 13, 14, 15],\n",
    " [16, 17, 18, 19, 20]]\n",
    "```\n",
    "\n",
    "You should print out the following:\n",
    "\n",
    "1\n",
    "2\n",
    "3\n",
    "4\n",
    "5\n",
    "10\n",
    "15\n",
    "20\n",
    "19\n",
    "18\n",
    "17\n",
    "16\n",
    "11\n",
    "6\n",
    "7\n",
    "8\n",
    "9\n",
    "14\n",
    "13\n",
    "12"
   ]
  },
  {
   "cell_type": "code",
   "execution_count": null,
   "metadata": {},
   "outputs": [],
   "source": [
    "from collections import deque\n",
    "\n",
    "\n",
    "def traverse(nums):\n",
    "    max_rows = len(nums)\n",
    "    max_columns = len(nums[0])\n",
    "    total = max_rows * max_columns\n",
    "\n",
    "    directions = [\n",
    "        [0,1],\n",
    "        [1,0],\n",
    "        [0, -1],\n",
    "        [-1,0]\n",
    "    ]\n",
    "    \n",
    "    d = deque(directions)\n",
    "\n",
    "    r , c, loop = 0, 0, 0\n",
    "    while total > 0 :\n",
    "\n",
    "        # the parameters below resets the perimeter of the\n",
    "        # matrix, to avoid revisiting and ending in an\n",
    "        # infinite loop\n",
    "        if len(d) <= 0:\n",
    "            loop = loop +1\n",
    "            max_rows, max_columns = max_rows - 1, max_columns - 1 \n",
    "            r, c = r+loop, c+loop\n",
    "            d = deque(directions)\n",
    "\n",
    "        curDir = d.popleft()\n",
    "        \n",
    "        while r >= loop and r < max_rows and c >= loop and c < max_columns:\n",
    "            if nums[r][c]:\n",
    "                print(nums[r][c])\n",
    "                nums[r][c] = None\n",
    "                total = total-1\n",
    "            \n",
    "            r = r + curDir[0]\n",
    "            c = c + curDir[1]            \n",
    "        \n",
    "        if c >= max_columns: c = max_columns - 1\n",
    "        elif c <= loop: c = loop\n",
    "\n",
    "        if r >= max_rows: r = max_rows - 1\n",
    "        elif r <= loop: r = loop"
   ]
  },
  {
   "cell_type": "code",
   "execution_count": null,
   "metadata": {},
   "outputs": [],
   "source": [
    "nums = [[1,  2,  3,  4,  5],\n",
    "        [6,  7,  8,  9,  10],\n",
    "        [11, 12, 13, 14, 15],\n",
    "        [16, 17, 18, 19, 20]]\n",
    "traverse(nums)"
   ]
  },
  {
   "cell_type": "markdown",
   "metadata": {},
   "source": [
    "## Optimized solution"
   ]
  },
  {
   "cell_type": "code",
   "execution_count": 7,
   "metadata": {},
   "outputs": [],
   "source": [
    "def spiralMatrix(nums):\n",
    "    rows, columns = len(nums), len(nums[0])\n",
    "    dr = [0, 1, 0, -1]\n",
    "    dc = [1, 0, -1, 0]\n",
    "    index = r = c = di = 0\n",
    "    \n",
    "    while index < rows*columns:\n",
    "        print(nums[r][c], end=' ')\n",
    "        nums[r][c] = None\n",
    "        \n",
    "        index += 1\n",
    "        cr, cc = r + dr[di], c + dc[di]\n",
    "        \n",
    "        if cr < rows and cc < columns and nums[cr][cc]:\n",
    "            r, c = cr, cc\n",
    "            \n",
    "        else:\n",
    "            di = (di + 1)%4\n",
    "            r, c = r + dr[di], c + dc[di]"
   ]
  },
  {
   "cell_type": "code",
   "execution_count": 8,
   "metadata": {},
   "outputs": [
    {
     "name": "stdout",
     "output_type": "stream",
     "text": [
      "1 2 3 4 5 10 15 20 19 18 17 16 11 6 7 8 9 14 13 12 "
     ]
    }
   ],
   "source": [
    "nums = [[1,  2,  3,  4,  5],\n",
    "        [6,  7,  8,  9,  10],\n",
    "        [11, 12, 13, 14, 15],\n",
    "        [16, 17, 18, 19, 20]]\n",
    "spiralMatrix(nums)"
   ]
  }
 ],
 "metadata": {
  "kernelspec": {
   "display_name": "Python 3",
   "language": "python",
   "name": "python3"
  },
  "language_info": {
   "codemirror_mode": {
    "name": "ipython",
    "version": 3
   },
   "file_extension": ".py",
   "mimetype": "text/x-python",
   "name": "python",
   "nbconvert_exporter": "python",
   "pygments_lexer": "ipython3",
   "version": "3.7.1"
  }
 },
 "nbformat": 4,
 "nbformat_minor": 2
}
