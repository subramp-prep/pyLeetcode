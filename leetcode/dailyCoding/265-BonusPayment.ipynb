{
 "cells": [
  {
   "cell_type": "markdown",
   "metadata": {},
   "source": [
    "## 265-Bonus\n",
    "\n",
    "MegaCorp wants to give bonuses to its employees based on how many lines of codes they have written. They would like to give the smallest positive amount to each worker consistent with the constraint that if a developer has written more lines of code than their neighbor, they should receive more money.\n",
    "\n",
    "Given an array representing a line of seats of employees at MegaCorp, determine how much each one should get paid.\n",
    "\n",
    "For example, given [10, 40, 200, 1000, 60, 30], you should return [1, 2, 3, 4, 2, 1]."
   ]
  },
  {
   "cell_type": "code",
   "execution_count": 5,
   "metadata": {},
   "outputs": [],
   "source": [
    "def bonuses(nums):\n",
    "    bonus = [1]*len(nums)\n",
    "    \n",
    "    for i in range(1, len(nums)):\n",
    "        if nums[i] > nums[i-1]:\n",
    "            bonus[i] = bonus[i-1] + 1\n",
    "            \n",
    "    for i in range(len(nums)-2, -1, -1):\n",
    "        if nums[i] > nums[i+1]:\n",
    "            bonus[i] = max(bonus[i], bonus[i+1]+1)\n",
    "            \n",
    "    return bonus"
   ]
  },
  {
   "cell_type": "code",
   "execution_count": 6,
   "metadata": {},
   "outputs": [
    {
     "name": "stdout",
     "output_type": "stream",
     "text": [
      "[1, 2, 3, 4, 2, 1]\n"
     ]
    }
   ],
   "source": [
    "print(bonuses( [10, 40, 200, 1000, 60, 30]))"
   ]
  }
 ],
 "metadata": {
  "kernelspec": {
   "display_name": "Python 3",
   "language": "python",
   "name": "python3"
  },
  "language_info": {
   "codemirror_mode": {
    "name": "ipython",
    "version": 3
   },
   "file_extension": ".py",
   "mimetype": "text/x-python",
   "name": "python",
   "nbconvert_exporter": "python",
   "pygments_lexer": "ipython3",
   "version": "3.7.1"
  }
 },
 "nbformat": 4,
 "nbformat_minor": 2
}
