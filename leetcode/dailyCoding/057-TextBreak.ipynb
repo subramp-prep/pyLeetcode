{
 "cells": [
  {
   "cell_type": "markdown",
   "metadata": {},
   "source": [
    "Given a string s and an integer k, break up the string into multiple texts such that each text has a length of k or less. You must break it up so that words don't break across lines. If there's no way to break the text up, then return null.\n",
    "\n",
    "You can assume that there are no spaces at the ends of the string and that there is exactly one space between each word.\n",
    "\n",
    "For example, \n",
    "\n",
    "```\n",
    "Input:\"the quick brown fox jumps over the lazy dog\" and k = 10, \n",
    "Output: [\"the quick\", \"brown fox\", \"jumps over\", \"the lazy\", \"dog\"]. \n",
    "```\n",
    "No string in the list has a length of more than 10."
   ]
  },
  {
   "cell_type": "code",
   "execution_count": null,
   "metadata": {},
   "outputs": [],
   "source": [
    "def textBreak(text, k):\n",
    "    output = []\n",
    "    \n",
    "    if text is None or text is '':\n",
    "        return output\n",
    "    \n",
    "    loop = 1\n",
    "    s = ''    \n",
    "    \n",
    "    for i, t in enumerate(text):\n",
    "        #s += t\n",
    "        if i < loop*k :\n",
    "            s = s+t            \n",
    "        else:\n",
    "            output.append(s.strip())\n",
    "            s = t\n",
    "            loop += 1            \n",
    "            \n",
    "    output.append(s.strip())\n",
    "    return output"
   ]
  },
  {
   "cell_type": "code",
   "execution_count": null,
   "metadata": {},
   "outputs": [],
   "source": [
    "print(textBreak(\"the quick brown fox jumps over the lazy dog\", 10))"
   ]
  },
  {
   "cell_type": "code",
   "execution_count": null,
   "metadata": {},
   "outputs": [],
   "source": [
    "print(textBreak(\"\", 10))"
   ]
  }
 ],
 "metadata": {
  "kernelspec": {
   "display_name": "Python 3",
   "language": "python",
   "name": "python3"
  },
  "language_info": {
   "codemirror_mode": {
    "name": "ipython",
    "version": 3
   },
   "file_extension": ".py",
   "mimetype": "text/x-python",
   "name": "python",
   "nbconvert_exporter": "python",
   "pygments_lexer": "ipython3",
   "version": "3.7.0"
  }
 },
 "nbformat": 4,
 "nbformat_minor": 2
}
