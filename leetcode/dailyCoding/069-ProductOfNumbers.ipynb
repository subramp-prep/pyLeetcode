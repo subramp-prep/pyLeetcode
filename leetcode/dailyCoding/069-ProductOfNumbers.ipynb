{
 "cells": [
  {
   "cell_type": "markdown",
   "metadata": {},
   "source": [
    "Given a list of integers, return the largest product that can be made by multiplying any three integers.\n",
    "\n",
    "For example, if the list is [-10, -10, 5, 2], we should return 500, since that's -10 * -10 * 5.\n",
    "\n",
    "You can assume the list has at least three integers."
   ]
  },
  {
   "cell_type": "code",
   "execution_count": 7,
   "metadata": {},
   "outputs": [],
   "source": [
    "def largestProduct(nums):\n",
    "    nums = sorted(nums)\n",
    "    \n",
    "    large1, large2, large3, small1, small2 = nums[-1], nums[-2], nums[-3], nums[0], nums[1] \n",
    "    \n",
    "    return max(large1* large2 * large3, large1 * small1 * small2)"
   ]
  },
  {
   "cell_type": "code",
   "execution_count": 8,
   "metadata": {},
   "outputs": [
    {
     "name": "stdout",
     "output_type": "stream",
     "text": [
      "500\n"
     ]
    }
   ],
   "source": [
    "print(largestProduct( [-10, -10, 5, 2]))"
   ]
  },
  {
   "cell_type": "markdown",
   "metadata": {},
   "source": [
    "# Optimized"
   ]
  },
  {
   "cell_type": "code",
   "execution_count": 10,
   "metadata": {},
   "outputs": [],
   "source": [
    "from math import inf\n",
    "\n",
    "def largestOptimum(nums):\n",
    "    large1, large2, large3, small1, small2 = -inf, -inf, -inf, inf, inf\n",
    "    \n",
    "    for x in nums:\n",
    "        if x > large1:\n",
    "            large3 = large2\n",
    "            large2 = large1\n",
    "            large1 = x\n",
    "        elif x > large2:\n",
    "            large3 = large2\n",
    "            large2 = x\n",
    "        elif x > large3:\n",
    "            large3 = x\n",
    "            \n",
    "        if x < small1:\n",
    "            small2 = small1\n",
    "            small1 = x\n",
    "        elif x < small2:\n",
    "            small2 = x\n",
    "    \n",
    "    return max(large1 * large2 * large3, large1 * small1 * small2)"
   ]
  },
  {
   "cell_type": "code",
   "execution_count": 11,
   "metadata": {},
   "outputs": [
    {
     "name": "stdout",
     "output_type": "stream",
     "text": [
      "500\n"
     ]
    }
   ],
   "source": [
    "print(largestOptimum( [-10, -10, 5, 2]))"
   ]
  }
 ],
 "metadata": {
  "kernelspec": {
   "display_name": "Python 3",
   "language": "python",
   "name": "python3"
  },
  "language_info": {
   "codemirror_mode": {
    "name": "ipython",
    "version": 3
   },
   "file_extension": ".py",
   "mimetype": "text/x-python",
   "name": "python",
   "nbconvert_exporter": "python",
   "pygments_lexer": "ipython3",
   "version": "3.7.0"
  }
 },
 "nbformat": 4,
 "nbformat_minor": 2
}
