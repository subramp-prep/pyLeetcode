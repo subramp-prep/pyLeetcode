{
 "cells": [
  {
   "cell_type": "markdown",
   "metadata": {},
   "source": [
    "Given the root of a binary search tree, and a target K, return two nodes in the tree whose sum equals K.\n",
    "\n",
    "For example, given the following tree and K of 20\n",
    "\n",
    "```\n",
    "    10\n",
    "   /   \\\n",
    " 5      15\n",
    "       /  \\\n",
    "     11    15\n",
    "```\n",
    "\n",
    "Return the nodes 5 and 15."
   ]
  },
  {
   "cell_type": "code",
   "execution_count": 29,
   "metadata": {},
   "outputs": [],
   "source": [
    "class TreeNode:\n",
    "    def __init__(self, val, left = None, right = None):\n",
    "        self.val = val\n",
    "        self.left = left\n",
    "        self.right = right\n",
    "\n",
    "\n",
    "def bstSum(root, k):\n",
    "\n",
    "    hashSet = set()\n",
    "    result = []\n",
    "\n",
    "    def helper(head):\n",
    "        if head:\n",
    "            if k - head.val in hashSet:\n",
    "                result.append((k-head.val, head.val))\n",
    "                return\n",
    "            else:\n",
    "                hashSet.add(head.val)\n",
    "\n",
    "                if head.left:\n",
    "                    helper(head.left)\n",
    "                \n",
    "                if head.right:\n",
    "                    helper(head.right)\n",
    "\n",
    "    helper(root)\n",
    "    return result"
   ]
  },
  {
   "cell_type": "code",
   "execution_count": 30,
   "metadata": {},
   "outputs": [
    {
     "name": "stdout",
     "output_type": "stream",
     "text": [
      "[(5, 15)]\n"
     ]
    }
   ],
   "source": [
    "root = TreeNode(10, TreeNode(5), TreeNode(15, TreeNode(11), TreeNode(15)))\n",
    "\n",
    "print(bstSum(root, 20))"
   ]
  },
  {
   "cell_type": "markdown",
   "metadata": {},
   "source": [
    "### Following properties of BST\n",
    "\n",
    "If we need to have a time-complexity of O(log N), we need to follow the properties of a BST and have a driver function to\n",
    "\n",
    "- iterate node\n",
    "- search through nodes"
   ]
  },
  {
   "cell_type": "code",
   "execution_count": 31,
   "metadata": {},
   "outputs": [],
   "source": [
    "def twoSum(root, target):\n",
    "    for node_1 in iter_root(root):\n",
    "        node_2 = search_node(root, target - node_1.val)\n",
    "        \n",
    "        if node_2:\n",
    "            return (node_1.val, node_2.val)\n",
    "        \n",
    "    return None\n",
    "        \n",
    "# In-order traversal generator function\n",
    "def iter_root(root):\n",
    "    if root:\n",
    "        for left in iter_root(root.left):\n",
    "            yield left\n",
    "            \n",
    "        yield root\n",
    "        \n",
    "        for right in iter_root(root.right):\n",
    "            yield right\n",
    "            \n",
    "def search_node(root, val):\n",
    "    if root:\n",
    "        if root.val == val:\n",
    "            return root\n",
    "        elif root.val > val:\n",
    "            return search_node(root.left, val)\n",
    "        else:\n",
    "            return search_node(root.right, val)"
   ]
  },
  {
   "cell_type": "code",
   "execution_count": 32,
   "metadata": {},
   "outputs": [
    {
     "name": "stdout",
     "output_type": "stream",
     "text": [
      "(5, 15)\n"
     ]
    }
   ],
   "source": [
    "root = TreeNode(10, TreeNode(5), TreeNode(15, TreeNode(11), TreeNode(15)))\n",
    "print(twoSum(root, 20))"
   ]
  },
  {
   "cell_type": "code",
   "execution_count": 33,
   "metadata": {},
   "outputs": [
    {
     "name": "stdout",
     "output_type": "stream",
     "text": [
      "(10, 11)\n"
     ]
    }
   ],
   "source": [
    "print(twoSum(root, 21))"
   ]
  },
  {
   "cell_type": "code",
   "execution_count": 34,
   "metadata": {},
   "outputs": [
    {
     "name": "stdout",
     "output_type": "stream",
     "text": [
      "(11, 11)\n"
     ]
    }
   ],
   "source": [
    "print(twoSum(root, 22))"
   ]
  },
  {
   "cell_type": "code",
   "execution_count": 35,
   "metadata": {},
   "outputs": [
    {
     "name": "stdout",
     "output_type": "stream",
     "text": [
      "(5, 11)\n"
     ]
    }
   ],
   "source": [
    "print(twoSum(root, 16))"
   ]
  },
  {
   "cell_type": "code",
   "execution_count": 36,
   "metadata": {},
   "outputs": [
    {
     "name": "stdout",
     "output_type": "stream",
     "text": [
      "None\n"
     ]
    }
   ],
   "source": [
    "print(twoSum(root, 17))"
   ]
  }
 ],
 "metadata": {
  "kernelspec": {
   "display_name": "Python 3",
   "language": "python",
   "name": "python3"
  },
  "language_info": {
   "codemirror_mode": {
    "name": "ipython",
    "version": 3
   },
   "file_extension": ".py",
   "mimetype": "text/x-python",
   "name": "python",
   "nbconvert_exporter": "python",
   "pygments_lexer": "ipython3",
   "version": "3.7.1"
  }
 },
 "nbformat": 4,
 "nbformat_minor": 2
}
