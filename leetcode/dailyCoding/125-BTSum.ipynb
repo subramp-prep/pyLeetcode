{
 "cells": [
  {
   "cell_type": "markdown",
   "metadata": {},
   "source": [
    "Given the root of a binary search tree, and a target K, return two nodes in the tree whose sum equals K.\n",
    "\n",
    "For example, given the following tree and K of 20\n",
    "\n",
    "```\n",
    "    10\n",
    "   /   \\\n",
    " 5      15\n",
    "       /  \\\n",
    "     11    15\n",
    "```\n",
    "\n",
    "Return the nodes 5 and 15."
   ]
  },
  {
   "cell_type": "code",
   "execution_count": 1,
   "metadata": {},
   "outputs": [],
   "source": [
    "class TreeNode:\n",
    "    def __init__(self, val, left = None, right = None):\n",
    "        self.val = val\n",
    "        self.left = left\n",
    "        self.right = right\n",
    "\n",
    "\n",
    "def bstSum(root, k):\n",
    "\n",
    "    hashSet = set()\n",
    "    result = []\n",
    "\n",
    "    def helper(head):\n",
    "        if head:\n",
    "            if k - head.val in hashSet:\n",
    "                result.append((k-head.val, head.val))\n",
    "                return\n",
    "            else:\n",
    "                hashSet.add(head.val)\n",
    "\n",
    "                if head.left:\n",
    "                    helper(head.left)\n",
    "                \n",
    "                if head.right:\n",
    "                    helper(head.right)\n",
    "\n",
    "    helper(root)\n",
    "    return result"
   ]
  },
  {
   "cell_type": "code",
   "execution_count": 2,
   "metadata": {},
   "outputs": [
    {
     "name": "stdout",
     "output_type": "stream",
     "text": [
      "[(5, 15)]\n"
     ]
    }
   ],
   "source": [
    "root = TreeNode(10, TreeNode(5), TreeNode(15, TreeNode(11), TreeNode(15)))\n",
    "\n",
    "print(bstSum(root, 20))"
   ]
  },
  {
   "cell_type": "code",
   "execution_count": null,
   "metadata": {},
   "outputs": [],
   "source": []
  }
 ],
 "metadata": {
  "kernelspec": {
   "display_name": "Python 3",
   "language": "python",
   "name": "python3"
  },
  "language_info": {
   "codemirror_mode": {
    "name": "ipython",
    "version": 3
   },
   "file_extension": ".py",
   "mimetype": "text/x-python",
   "name": "python",
   "nbconvert_exporter": "python",
   "pygments_lexer": "ipython3",
   "version": "3.7.1"
  }
 },
 "nbformat": 4,
 "nbformat_minor": 2
}
