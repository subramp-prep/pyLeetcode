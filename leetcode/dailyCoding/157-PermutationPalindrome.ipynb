{
 "cells": [
  {
   "cell_type": "markdown",
   "metadata": {},
   "source": [
    "Given a string, determine whether any permutation of it is a palindrome.\n",
    "\n",
    "For example, **carrace** should return true, since it can be rearranged to form **racecar**, which is a palindrome. **daily** should return false, since there's no rearrangement that can form a palindrome."
   ]
  },
  {
   "cell_type": "code",
   "execution_count": 1,
   "metadata": {},
   "outputs": [],
   "source": [
    "def DoesPermutationPalindromeExist(s):\n",
    "\n",
    "    isOdd = False\n",
    "    if len(s)%2 > 0:\n",
    "        isOdd = True\n",
    "\n",
    "    #s = sorted(s)\n",
    "    checkSet = set()\n",
    "\n",
    "    for i in range(len(s)):\n",
    "        if s[i] in checkSet:\n",
    "            checkSet.remove(s[i])\n",
    "        else:\n",
    "            checkSet.add(s[i])\n",
    "\n",
    "    return True if (len(checkSet) == 1 and isOdd) or len(checkSet) == 0 else False"
   ]
  },
  {
   "cell_type": "code",
   "execution_count": 2,
   "metadata": {},
   "outputs": [
    {
     "name": "stdout",
     "output_type": "stream",
     "text": [
      "True\n"
     ]
    }
   ],
   "source": [
    "print(DoesPermutationPalindromeExist('carrace'))"
   ]
  },
  {
   "cell_type": "code",
   "execution_count": 3,
   "metadata": {},
   "outputs": [
    {
     "name": "stdout",
     "output_type": "stream",
     "text": [
      "False\n"
     ]
    }
   ],
   "source": [
    "print(DoesPermutationPalindromeExist('daily'))"
   ]
  },
  {
   "cell_type": "code",
   "execution_count": null,
   "metadata": {},
   "outputs": [],
   "source": []
  }
 ],
 "metadata": {
  "kernelspec": {
   "display_name": "Python 3",
   "language": "python",
   "name": "python3"
  },
  "language_info": {
   "codemirror_mode": {
    "name": "ipython",
    "version": 3
   },
   "file_extension": ".py",
   "mimetype": "text/x-python",
   "name": "python",
   "nbconvert_exporter": "python",
   "pygments_lexer": "ipython3",
   "version": "3.7.1"
  }
 },
 "nbformat": 4,
 "nbformat_minor": 2
}
