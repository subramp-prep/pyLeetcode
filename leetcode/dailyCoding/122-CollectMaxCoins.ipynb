{
 "cells": [
  {
   "cell_type": "markdown",
   "metadata": {},
   "source": [
    "You are given a 2-d matrix where each cell represents number of coins in that cell. Assuming we start at matrix[0][0], and can only move right or down, find the maximum number of coins you can collect by the bottom right corner.\n",
    "\n",
    "For example, in this matrix\n",
    "```\n",
    "0 3 1 1\n",
    "2 0 0 4\n",
    "1 5 3 1\n",
    "```\n",
    "The most we can collect is 0 + 2 + 1 + 5 + 3 + 1 = 12 coins."
   ]
  },
  {
   "cell_type": "code",
   "execution_count": 10,
   "metadata": {},
   "outputs": [],
   "source": [
    "def maxCoins(matrix):\n",
    "\n",
    "    def dfs(x, y):\n",
    "        if not dp[x][y]:\n",
    "            dp[x][y] = matrix[x][y] + max(\n",
    "                dfs(x+1, y) if x+1 < rows else 0,\n",
    "                dfs(x, y+1) if y+1 < columns else 0\n",
    "            )\n",
    "        return dp[x][y]\n",
    "\n",
    "    rows, columns = len(matrix), len(matrix[0])\n",
    "    dp = [[0 for _ in range(columns)] for _ in range(rows)]\n",
    "    \n",
    "    result = dfs(0,0)\n",
    "    printMatrix(dp)\n",
    "    \n",
    "    '''\n",
    "    for x in range(rows):\n",
    "        for y in range(columns):\n",
    "            if dp[x][y] == 0:\n",
    "                result = dfs(x,y)\n",
    "                print(result)\n",
    "    '''\n",
    "    return result\n",
    "\n",
    "def printMatrix(matrix):\n",
    "    for i in range(len(matrix)):\n",
    "        print(matrix[i])"
   ]
  },
  {
   "cell_type": "code",
   "execution_count": 11,
   "metadata": {},
   "outputs": [
    {
     "name": "stdout",
     "output_type": "stream",
     "text": [
      "[12, 12, 7, 6]\n",
      "[12, 9, 5, 5]\n",
      "[10, 9, 4, 1]\n",
      "12\n"
     ]
    }
   ],
   "source": [
    "matrix = [\n",
    "    [0,3,1,1],\n",
    "    [2,0,0,4],\n",
    "    [1,5,3,1]\n",
    "]\n",
    "print(maxCoins(matrix))"
   ]
  },
  {
   "cell_type": "code",
   "execution_count": 12,
   "metadata": {},
   "outputs": [
    {
     "name": "stdout",
     "output_type": "stream",
     "text": [
      "[30, 27, 25, 21]\n",
      "[25, 25, 21, 14]\n",
      "[21, 16, 15, 6]\n",
      "30\n"
     ]
    }
   ],
   "source": [
    "matrix = [\n",
    "    [3,2,4,7],\n",
    "    [0,4,6,8],\n",
    "    [5,1,9,6]\n",
    "]\n",
    "print(maxCoins(matrix))"
   ]
  }
 ],
 "metadata": {
  "kernelspec": {
   "display_name": "Python 3",
   "language": "python",
   "name": "python3"
  },
  "language_info": {
   "codemirror_mode": {
    "name": "ipython",
    "version": 3
   },
   "file_extension": ".py",
   "mimetype": "text/x-python",
   "name": "python",
   "nbconvert_exporter": "python",
   "pygments_lexer": "ipython3",
   "version": "3.7.1"
  }
 },
 "nbformat": 4,
 "nbformat_minor": 2
}
