{
 "cells": [
  {
   "cell_type": "markdown",
   "metadata": {},
   "source": [
    "Given the root of a binary tree, find the most frequent subtree sum. The subtree sum of a node is the sum of all values under a node, including the node itself.\n",
    "\n",
    "For example, given the following tree:\n",
    "```\n",
    "  5\n",
    " / \\\n",
    "2  -5\n",
    "```\n",
    "Return 2 as it occurs twice: once as the left leaf, and once as the sum of 2 + 5 - 5."
   ]
  },
  {
   "cell_type": "code",
   "execution_count": 5,
   "metadata": {},
   "outputs": [],
   "source": [
    "class TreeNode:\n",
    "    def __init__(self, val, left = None, right = None):\n",
    "        self.val = val\n",
    "        self.left = left\n",
    "        self.right = right"
   ]
  },
  {
   "cell_type": "code",
   "execution_count": 6,
   "metadata": {},
   "outputs": [],
   "source": [
    "root = TreeNode(5, TreeNode(2), TreeNode(-5))"
   ]
  },
  {
   "cell_type": "code",
   "execution_count": 2,
   "metadata": {},
   "outputs": [],
   "source": [
    "def subTreeSum(root):\n",
    "    output = {}\n",
    "\n",
    "    def helper(head):\n",
    "        if head:\n",
    "\n",
    "            total = 0\n",
    "            if head.left is None and head.right is None:\n",
    "                total = head.val\n",
    "            elif head.left is None and head.right is not None:\n",
    "                total = head.val + head.right.val                \n",
    "            elif head.left is not None and head.right is None:\n",
    "                total = head.val + head.left.val                \n",
    "            else:\n",
    "                total = head.val + head.left.val + head.right.val\n",
    "                \n",
    "            output[total] = output.get(total, 0) + 1\n",
    "\n",
    "            helper(head.left)\n",
    "            helper(head.right)\n",
    "\n",
    "    helper(root)\n",
    "\n",
    "    output = sorted(output.items(), key=lambda x: -x[1])\n",
    "    return output[0][1]"
   ]
  },
  {
   "cell_type": "code",
   "execution_count": 8,
   "metadata": {},
   "outputs": [
    {
     "name": "stdout",
     "output_type": "stream",
     "text": [
      "2\n"
     ]
    }
   ],
   "source": [
    "print(subTreeSum(root))"
   ]
  },
  {
   "cell_type": "code",
   "execution_count": 3,
   "metadata": {},
   "outputs": [],
   "source": [
    "def subTreeSumOptimal(root):\n",
    "\n",
    "    output = {}\n",
    "    def helper(head):\n",
    "        if head is None:\n",
    "            return 0\n",
    "\n",
    "        s = head.val + helper(head.left) + helper(head.right)\n",
    "        output[s] = output.get(s, 0) + 1\n",
    "\n",
    "        return s\n",
    "\n",
    "    helper(root)\n",
    "\n",
    "    output = sorted(output.items(), key=lambda x: -x[1])\n",
    "    return output[0][1]"
   ]
  },
  {
   "cell_type": "code",
   "execution_count": 7,
   "metadata": {},
   "outputs": [
    {
     "name": "stdout",
     "output_type": "stream",
     "text": [
      "2\n"
     ]
    }
   ],
   "source": [
    "print(subTreeSumOptimal(root))"
   ]
  }
 ],
 "metadata": {
  "kernelspec": {
   "display_name": "Python 3",
   "language": "python",
   "name": "python3"
  },
  "language_info": {
   "codemirror_mode": {
    "name": "ipython",
    "version": 3
   },
   "file_extension": ".py",
   "mimetype": "text/x-python",
   "name": "python",
   "nbconvert_exporter": "python",
   "pygments_lexer": "ipython3",
   "version": "3.7.1"
  }
 },
 "nbformat": 4,
 "nbformat_minor": 2
}
