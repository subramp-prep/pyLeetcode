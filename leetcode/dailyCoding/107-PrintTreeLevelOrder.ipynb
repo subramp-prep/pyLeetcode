{
 "cells": [
  {
   "cell_type": "markdown",
   "metadata": {},
   "source": [
    "Print the nodes in a binary tree level-wise. For example, the following should print 1, 2, 3, 4, 5.\n",
    "\n",
    "```\n",
    "  1\n",
    " / \\\n",
    "2   3\n",
    "   / \\\n",
    "  4   5\n",
    "```"
   ]
  },
  {
   "cell_type": "code",
   "execution_count": 1,
   "metadata": {},
   "outputs": [],
   "source": [
    "from queue import Queue\n",
    "\n",
    "class TreeNode:\n",
    "    def __init__(self, val, left=None, right=None):\n",
    "        self.val = val\n",
    "        self.left = left\n",
    "        self.right = right\n",
    "        \n",
    "def buildTree(nums, index, root):\n",
    "    if index < len(nums):\n",
    "        root = TreeNode(nums[index])\n",
    "        root.left = buildTree(nums, 2*index+1, root.left)\n",
    "        root.right = buildTree(nums, 2*index+2, root.right)\n",
    "        \n",
    "    return root\n",
    "        \n",
    "        \n",
    "def printLevelOrder(root):\n",
    "    queue = Queue()\n",
    "    queue.put(root)\n",
    "    \n",
    "    while not queue.empty():\n",
    "        recent = queue.get()\n",
    "        \n",
    "        if recent.left:\n",
    "            queue.put(recent.left)\n",
    "            \n",
    "        if recent.right:\n",
    "            queue.put(recent.right)\n",
    "            \n",
    "        print(recent.val)"
   ]
  },
  {
   "cell_type": "code",
   "execution_count": 2,
   "metadata": {},
   "outputs": [
    {
     "name": "stdout",
     "output_type": "stream",
     "text": [
      "1\n",
      "2\n",
      "3\n",
      "4\n",
      "5\n"
     ]
    }
   ],
   "source": [
    "root = TreeNode(1, TreeNode(2), TreeNode(3, TreeNode(4), TreeNode(5)))\n",
    "printLevelOrder(root)"
   ]
  },
  {
   "cell_type": "code",
   "execution_count": null,
   "metadata": {},
   "outputs": [],
   "source": []
  }
 ],
 "metadata": {
  "kernelspec": {
   "display_name": "Python 3",
   "language": "python",
   "name": "python3"
  },
  "language_info": {
   "codemirror_mode": {
    "name": "ipython",
    "version": 3
   },
   "file_extension": ".py",
   "mimetype": "text/x-python",
   "name": "python",
   "nbconvert_exporter": "python",
   "pygments_lexer": "ipython3",
   "version": "3.7.1"
  }
 },
 "nbformat": 4,
 "nbformat_minor": 2
}
