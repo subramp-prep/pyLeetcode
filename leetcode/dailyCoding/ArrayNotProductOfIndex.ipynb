{
 "cells": [
  {
   "cell_type": "markdown",
   "metadata": {},
   "source": [
    "Given an array of integers, return a new array such that each element at index i of the new array is the product of all the numbers in the original array except the one at i.\n",
    "\n",
    "For example, if our input was [1, 2, 3, 4, 5], the expected output would be [120, 60, 40, 30, 24]. If our input was [3, 2, 1], the expected output would be [2, 3, 6].\n",
    "\n",
    "Follow-up: what if you can't use division?"
   ]
  },
  {
   "cell_type": "code",
   "execution_count": 20,
   "metadata": {},
   "outputs": [
    {
     "name": "stdout",
     "output_type": "stream",
     "text": [
      "Input\n",
      "[1, 2, 3, 4, 5]\n",
      "Prefix:\n",
      "[1, 2, 6, 24, 120]\n",
      "Suffix\n",
      "[5, 20, 60, 120, 120]\n",
      "Suffix reverse\n",
      "[120, 120, 60, 20, 5]\n",
      "i: 0 result: 120\n",
      "i: 1 result: 60\n",
      "i: 2 result: 40\n",
      "i: 3 result: 30\n",
      "i: 4 result: 24\n",
      "Result\n",
      "[120, 60, 40, 30, 24]\n"
     ]
    }
   ],
   "source": [
    "def products(nums):\n",
    "    prefix_products = []\n",
    "    for num in nums:\n",
    "        if prefix_products:\n",
    "            prefix_products.append(prefix_products[-1] * num)\n",
    "        else:\n",
    "            prefix_products.append(num)\n",
    "    \n",
    "    print(\"Prefix:\")\n",
    "    print(prefix_products)\n",
    "    \n",
    "    suffix_products = []\n",
    "    for num in reversed(nums):\n",
    "        if suffix_products:\n",
    "            suffix_products.append(suffix_products[-1] * num)\n",
    "        else:\n",
    "            suffix_products.append(num)\n",
    "            \n",
    "    print(\"Suffix\")\n",
    "    print(suffix_products)\n",
    "    \n",
    "    suffix_products = list(reversed(suffix_products))\n",
    "    print(\"Suffix reverse\")\n",
    "    print(suffix_products)\n",
    "    \n",
    "    result = []\n",
    "    \n",
    "    for i in range(len(nums)):\n",
    "        if i == 0:\n",
    "            result.append(suffix_products[i+1])\n",
    "        elif i == len(nums) - 1:\n",
    "            result.append(prefix_products[i-1])\n",
    "        else:\n",
    "            result.append(prefix_products[i-1] * suffix_products[i+1])\n",
    "        print(\"i:\", i, \"result:\", result[i])\n",
    "    \n",
    "    print(\"Result\")\n",
    "    print(result)\n",
    "    \n",
    "    \n",
    "nums = [1,2,3,4,5]\n",
    "print(\"Input\")\n",
    "print(nums)\n",
    "products(nums)"
   ]
  },
  {
   "cell_type": "code",
   "execution_count": 13,
   "metadata": {},
   "outputs": [],
   "source": [
    "name = \"prasad\"\n",
    "name?"
   ]
  },
  {
   "cell_type": "code",
   "execution_count": 15,
   "metadata": {},
   "outputs": [
    {
     "data": {
      "text/plain": [
       "5"
      ]
     },
     "execution_count": 15,
     "metadata": {},
     "output_type": "execute_result"
    }
   ],
   "source": [
    "len(nums)"
   ]
  },
  {
   "cell_type": "code",
   "execution_count": null,
   "metadata": {},
   "outputs": [],
   "source": []
  }
 ],
 "metadata": {
  "kernelspec": {
   "display_name": "Python 3",
   "language": "python",
   "name": "python3"
  },
  "language_info": {
   "codemirror_mode": {
    "name": "ipython",
    "version": 3
   },
   "file_extension": ".py",
   "mimetype": "text/x-python",
   "name": "python",
   "nbconvert_exporter": "python",
   "pygments_lexer": "ipython3",
   "version": "3.7.0"
  }
 },
 "nbformat": 4,
 "nbformat_minor": 2
}
