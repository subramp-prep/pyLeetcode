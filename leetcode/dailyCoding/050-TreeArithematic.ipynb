{
 "cells": [
  {
   "cell_type": "markdown",
   "metadata": {},
   "source": [
    "Suppose an arithmetic expression is given as a binary tree. Each leaf is an integer and each internal node is one of '+', '−', '∗', or '/'.\n",
    "\n",
    "Given the root to such a tree, write a function to evaluate it.\n",
    "\n",
    "For example, given the following tree:\n",
    "\n",
    "```\n",
    "    *\n",
    "   / \\\n",
    "  +    +\n",
    " / \\  / \\\n",
    "3  2  4  5\n",
    "```\n",
    "\n",
    "You should return 45, as it is (3 + 2) * (4 + 5)."
   ]
  },
  {
   "cell_type": "code",
   "execution_count": 14,
   "metadata": {},
   "outputs": [
    {
     "name": "stdout",
     "output_type": "stream",
     "text": [
      "45\n"
     ]
    }
   ],
   "source": [
    "class Tree:\n",
    "    def __init__(self, val):\n",
    "        self.val = val\n",
    "        self.left = None\n",
    "        self.right = None\n",
    "\n",
    "def buildTree(nums, index, root):\n",
    "    if index < len(nums):        \n",
    "        root = Tree(nums[index])\n",
    "        root.left = buildTree(nums, 2*index+1, root.left)\n",
    "        root.right = buildTree(nums, 2*index+2, root.right)\n",
    "    return root\n",
    "\n",
    "PLUS = \"+\"\n",
    "MINUS = \"-\"\n",
    "TIMES = \"*\"\n",
    "DIVIDE = \"/\"\n",
    "\n",
    "def evaluate(root):    \n",
    "    if root is None:\n",
    "        return 0   \n",
    "    \n",
    "    if root.left is None and root.right is None:\n",
    "        return int(root.val)\n",
    "    \n",
    "    left = evaluate(root.left)\n",
    "    right = evaluate(root.right)\n",
    "    \n",
    "    if root.val == PLUS:        \n",
    "        return left + right\n",
    "    elif root.val == MINUS:\n",
    "        return left - right\n",
    "    elif root.val == TIMES:\n",
    "        return left * right\n",
    "    elif root.val == DIVIDE:\n",
    "        return left / right   \n",
    "\n",
    "    \n",
    "expression = ['*', '+', '+', '3', '2', '4', '5']\n",
    "\n",
    "root = buildTree(expression, 0, None)\n",
    "print(evaluate(root))"
   ]
  }
 ],
 "metadata": {
  "kernelspec": {
   "display_name": "Python 3",
   "language": "python",
   "name": "python3"
  },
  "language_info": {
   "codemirror_mode": {
    "name": "ipython",
    "version": 3
   },
   "file_extension": ".py",
   "mimetype": "text/x-python",
   "name": "python",
   "nbconvert_exporter": "python",
   "pygments_lexer": "ipython3",
   "version": "3.7.0"
  }
 },
 "nbformat": 4,
 "nbformat_minor": 2
}
