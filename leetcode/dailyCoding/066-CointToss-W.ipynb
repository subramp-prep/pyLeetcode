{
 "cells": [
  {
   "cell_type": "markdown",
   "metadata": {},
   "source": [
    "Assume you have access to a function toss_biased() which returns 0 or 1 with a probability that's not 50-50 (but also not 0-100 or 100-0). You do not know the bias of the coin.\n",
    "\n",
    "Write a function to simulate an unbiased coin toss."
   ]
  },
  {
   "cell_type": "code",
   "execution_count": null,
   "metadata": {},
   "outputs": [],
   "source": [
    "from collections import defaultdict\n",
    "from random import random\n",
    "\n",
    "\n",
    "BIAS = 0.66\n",
    "\n",
    "\n",
    "def toss_biased():\n",
    "    return random() > BIAS\n",
    "\n",
    "\n",
    "def toss_fair():\n",
    "    t1, t2 = toss_biased(), toss_biased()\n",
    "    if t1 and not t2:\n",
    "        return True\n",
    "    elif not t1 and t2:\n",
    "        return False\n",
    "    else:\n",
    "        return toss_fair()\n",
    "\n",
    "\n",
    "c = defaultdict(int)\n",
    "for i in range(1000000):\n",
    "    c[toss_fair()] += 1\n",
    "print(c)\n"
   ]
  }
 ],
 "metadata": {
  "kernelspec": {
   "display_name": "Python 3",
   "language": "python",
   "name": "python3"
  },
  "language_info": {
   "codemirror_mode": {
    "name": "ipython",
    "version": 3
   },
   "file_extension": ".py",
   "mimetype": "text/x-python",
   "name": "python",
   "nbconvert_exporter": "python",
   "pygments_lexer": "ipython3",
   "version": "3.7.0"
  }
 },
 "nbformat": 4,
 "nbformat_minor": 2
}
