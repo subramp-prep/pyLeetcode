{
 "cells": [
  {
   "cell_type": "markdown",
   "metadata": {},
   "source": [
    "Spreadsheets often use this alphabetical encoding for its columns: \"A\", \"B\", \"C\", ..., \"AA\", \"AB\", ..., \"ZZ\", \"AAA\", \"AAB\", ....\n",
    "\n",
    "Given a column number, return its alphabetical column id. For example, given 1, return \"A\". Given 27, return \"AA\"."
   ]
  },
  {
   "cell_type": "code",
   "execution_count": 1,
   "metadata": {},
   "outputs": [],
   "source": [
    "def spreadSheetColumn(num):\n",
    "    letters = 'ABCDEFGHIJKLMNOPQRSTUVWXYZ'\n",
    "    num -= 1\n",
    "    \n",
    "    final = ''\n",
    "    while num > len(letters)-1:\n",
    "        final = letters[num % 26] + final\n",
    "        num = num//26 - 1           \n",
    "\n",
    "    final = letters[num] + final\n",
    "\n",
    "    return final"
   ]
  },
  {
   "cell_type": "code",
   "execution_count": 2,
   "metadata": {},
   "outputs": [
    {
     "name": "stdout",
     "output_type": "stream",
     "text": [
      "Z\n"
     ]
    }
   ],
   "source": [
    "print(spreadSheetColumn(26))"
   ]
  },
  {
   "cell_type": "code",
   "execution_count": 3,
   "metadata": {},
   "outputs": [
    {
     "name": "stdout",
     "output_type": "stream",
     "text": [
      "AZ\n"
     ]
    }
   ],
   "source": [
    "print(spreadSheetColumn(52))"
   ]
  },
  {
   "cell_type": "code",
   "execution_count": 4,
   "metadata": {},
   "outputs": [
    {
     "name": "stdout",
     "output_type": "stream",
     "text": [
      "GQ\n"
     ]
    }
   ],
   "source": [
    "print(spreadSheetColumn(199))"
   ]
  }
 ],
 "metadata": {
  "kernelspec": {
   "display_name": "Python 3",
   "language": "python",
   "name": "python3"
  },
  "language_info": {
   "codemirror_mode": {
    "name": "ipython",
    "version": 3
   },
   "file_extension": ".py",
   "mimetype": "text/x-python",
   "name": "python",
   "nbconvert_exporter": "python",
   "pygments_lexer": "ipython3",
   "version": "3.7.1"
  }
 },
 "nbformat": 4,
 "nbformat_minor": 2
}
