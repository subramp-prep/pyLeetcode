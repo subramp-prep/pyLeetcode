{
 "cells": [
  {
   "cell_type": "markdown",
   "metadata": {},
   "source": [
    "Given a string which we can delete at most k, return whether you can make a palindrome.\n",
    "\n",
    "For example, given 'waterrfetawx' and a k of 2, you could delete f and x to get 'waterretaw'."
   ]
  },
  {
   "cell_type": "code",
   "execution_count": 5,
   "metadata": {},
   "outputs": [],
   "source": [
    "def k_Palindrome(s, k):\n",
    "    if len(s) <= 1:\n",
    "        return True\n",
    "    \n",
    "    # check for first and last character\n",
    "    while s[0] == s[-1]:\n",
    "        s = s[1:-1]\n",
    "        if len(s) <= 1:\n",
    "            return True\n",
    "        \n",
    "    if k == 0:\n",
    "        return False\n",
    "    \n",
    "    return k_Palindrome(s[1:], k-1) or k_Palindrome(s[:-1], k-1)"
   ]
  },
  {
   "cell_type": "code",
   "execution_count": 4,
   "metadata": {},
   "outputs": [
    {
     "name": "stdout",
     "output_type": "stream",
     "text": [
      "True\n"
     ]
    }
   ],
   "source": [
    "print(k_Palindrome('waterrfetawx', 2))"
   ]
  },
  {
   "cell_type": "code",
   "execution_count": 6,
   "metadata": {},
   "outputs": [
    {
     "name": "stdout",
     "output_type": "stream",
     "text": [
      "True\n"
     ]
    }
   ],
   "source": [
    "print(k_Palindrome('waterrfetawxi', 3))"
   ]
  },
  {
   "cell_type": "markdown",
   "metadata": {},
   "source": [
    "## Unoptimal\n",
    "\n",
    "```\n",
    "from collections import deque\n",
    "\n",
    "def makePalindrome(s, k):\n",
    "    i, j = 0, len(s)-1\n",
    "    d = deque()\n",
    "    delta = 0\n",
    "\n",
    "    while i < j:\n",
    "\n",
    "        while i < j and s[i] != s[j]:\n",
    "            j -= 1\n",
    "            delta += 1\n",
    "\n",
    "        while i < j and s[i] == s[j]:\n",
    "            d.appendleft(s[i])\n",
    "            d.append(s[j])\n",
    "            i += 1\n",
    "            j -= 1\n",
    "\n",
    "    if len(d) > 0 and delta == k:\n",
    "        return True\n",
    "\n",
    "    return False\n",
    "```"
   ]
  },
  {
   "cell_type": "code",
   "execution_count": null,
   "metadata": {},
   "outputs": [],
   "source": []
  }
 ],
 "metadata": {
  "kernelspec": {
   "display_name": "Python 3",
   "language": "python",
   "name": "python3"
  },
  "language_info": {
   "codemirror_mode": {
    "name": "ipython",
    "version": 3
   },
   "file_extension": ".py",
   "mimetype": "text/x-python",
   "name": "python",
   "nbconvert_exporter": "python",
   "pygments_lexer": "ipython3",
   "version": "3.7.1"
  }
 },
 "nbformat": 4,
 "nbformat_minor": 2
}
