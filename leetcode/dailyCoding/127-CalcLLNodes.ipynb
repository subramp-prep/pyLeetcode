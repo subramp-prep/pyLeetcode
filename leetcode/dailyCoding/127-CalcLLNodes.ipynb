{
 "cells": [
  {
   "cell_type": "markdown",
   "metadata": {},
   "source": [
    "Let's represent an integer in a linked list format by having each node represent a digit in the number. The nodes make up the number in reversed order.\n",
    "\n",
    "For example, the following linked list:\n",
    "\n",
    "1 -> 2 -> 3 -> 4 -> 5\n",
    "is the number 54321.\n",
    "\n",
    "Given two linked lists in this format, return their sum in the same linked list format.\n",
    "\n",
    "For example, given\n",
    "\n",
    "9 -> 9\n",
    "5 -> 2\n",
    "return 124 (99 + 25) as:\n",
    "\n",
    "4 -> 2 -> 1"
   ]
  },
  {
   "cell_type": "code",
   "execution_count": 1,
   "metadata": {},
   "outputs": [],
   "source": [
    "class LLNode:\n",
    "    def __init__(self, val, next=None):\n",
    "        self.val = val\n",
    "        self.next = next\n",
    "\n",
    "def calcLL(l1, l2):\n",
    "\n",
    "    reminder = carry = 0\n",
    "    temp = result = LLNode(0)\n",
    "\n",
    "    while l1 or l2 or carry > 0:\n",
    "        total = 0\n",
    "\n",
    "        if l1:\n",
    "            total += l1.val\n",
    "            l1 = l1.next\n",
    "\n",
    "        if l2:\n",
    "            total += l2.val\n",
    "            l2 = l2.next\n",
    "\n",
    "        total += carry\n",
    "        carry = total // 10\n",
    "        reminder = total % 10\n",
    "\n",
    "        temp.next = LLNode(reminder)\n",
    "        temp = temp.next\n",
    "\n",
    "    return result.next\n",
    "\n",
    "def printLLNodes(l):\n",
    "    while l:\n",
    "        print(l.val, end='')\n",
    "        l = l.next"
   ]
  },
  {
   "cell_type": "code",
   "execution_count": 2,
   "metadata": {},
   "outputs": [
    {
     "name": "stdout",
     "output_type": "stream",
     "text": [
      "421"
     ]
    }
   ],
   "source": [
    "l1 = LLNode(9, LLNode(9))\n",
    "l2 = LLNode(5, LLNode(2))\n",
    "\n",
    "printLLNodes(calcLL(l1, l2))"
   ]
  }
 ],
 "metadata": {
  "kernelspec": {
   "display_name": "Python 3",
   "language": "python",
   "name": "python3"
  },
  "language_info": {
   "codemirror_mode": {
    "name": "ipython",
    "version": 3
   },
   "file_extension": ".py",
   "mimetype": "text/x-python",
   "name": "python",
   "nbconvert_exporter": "python",
   "pygments_lexer": "ipython3",
   "version": "3.7.1"
  }
 },
 "nbformat": 4,
 "nbformat_minor": 2
}
