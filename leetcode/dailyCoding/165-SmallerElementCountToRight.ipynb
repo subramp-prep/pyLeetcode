{
 "cells": [
  {
   "cell_type": "markdown",
   "metadata": {},
   "source": [
    "Given an array of integers, return a new array where each element in the new array is the number of smaller elements to the right of that element in the original input array.\n",
    "\n",
    "For example, given the array [3, 4, 9, 6, 1], return [1, 1, 2, 1, 0], since:\n",
    "\n",
    "```\n",
    "There is 1 smaller element to the right of 3\n",
    "There is 1 smaller element to the right of 4\n",
    "There are 2 smaller elements to the right of 9\n",
    "There is 1 smaller element to the right of 6\n",
    "There are no smaller elements to the right of 1\n",
    "```"
   ]
  },
  {
   "cell_type": "code",
   "execution_count": 1,
   "metadata": {},
   "outputs": [],
   "source": [
    "def smallElementsToRight(nums):\n",
    "\n",
    "    for i, v in enumerate(nums):\n",
    "        nums[i] = 0\n",
    "        for j in range(i+1, len(nums)):\n",
    "\n",
    "            if v > nums[j]:\n",
    "                nums[i] += 1\n",
    "\n",
    "    return nums"
   ]
  },
  {
   "cell_type": "code",
   "execution_count": 2,
   "metadata": {},
   "outputs": [
    {
     "name": "stdout",
     "output_type": "stream",
     "text": [
      "[1, 1, 2, 1, 0]\n"
     ]
    }
   ],
   "source": [
    "print(smallElementsToRight([3, 4, 9, 6, 1]))"
   ]
  },
  {
   "cell_type": "code",
   "execution_count": null,
   "metadata": {},
   "outputs": [],
   "source": []
  }
 ],
 "metadata": {
  "kernelspec": {
   "display_name": "Python 3",
   "language": "python",
   "name": "python3"
  },
  "language_info": {
   "codemirror_mode": {
    "name": "ipython",
    "version": 3
   },
   "file_extension": ".py",
   "mimetype": "text/x-python",
   "name": "python",
   "nbconvert_exporter": "python",
   "pygments_lexer": "ipython3",
   "version": "3.7.1"
  }
 },
 "nbformat": 4,
 "nbformat_minor": 2
}
