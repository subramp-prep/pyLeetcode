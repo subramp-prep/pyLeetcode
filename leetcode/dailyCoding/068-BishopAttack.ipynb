{
 "cells": [
  {
   "cell_type": "markdown",
   "metadata": {},
   "source": [
    "On our special chessboard, two bishops attack each other if they share the same diagonal. This includes bishops that have another bishop located between them, i.e. bishops can attack through pieces.\n",
    "\n",
    "You are given N bishops, represented as (row, column) tuples on a M by M chessboard. Write a function to count the number of pairs of bishops that attack each other. The ordering of the pair doesn't matter: (1, 2) is considered the same as (2, 1).\n",
    "\n",
    "For example, given M = 5 and the list of bishops:\n",
    "\n",
    "(0, 0)\n",
    "(1, 2)\n",
    "(2, 2)\n",
    "(4, 0)\n",
    "\n",
    "The board would look like this:\n",
    "\n",
    "```\n",
    "[b 0 0 0 0]\n",
    "[0 0 b 0 0]\n",
    "[0 0 b 0 0]\n",
    "[0 0 0 0 0]\n",
    "[b 0 0 0 0]\n",
    "```\n",
    "\n",
    "You should return 2, since bishops 1 and 3 attack each other, as well as bishops 3 and 4."
   ]
  },
  {
   "cell_type": "code",
   "execution_count": 2,
   "metadata": {},
   "outputs": [
    {
     "name": "stdout",
     "output_type": "stream",
     "text": [
      "0 2\n",
      "0 3\n",
      "2 3\n",
      "Total: 3\n"
     ]
    }
   ],
   "source": [
    "from collections import deque\n",
    "\n",
    "def bishopTraverse(start, m):\n",
    "    moves = []\n",
    "    directions = [\n",
    "        [-1, -1],\n",
    "        [1, 1],\n",
    "        [1, -1],\n",
    "        [-1, 1]\n",
    "    ]\n",
    "\n",
    "    d = deque(directions)\n",
    "    while len(d) > 0:\n",
    "        direction = d.popleft()\n",
    "        x, y = start\n",
    "\n",
    "        while True:\n",
    "            x = x + direction[0]\n",
    "            y = y + direction[1]\n",
    "\n",
    "            if x >= 0 and x < m and y >= 0 and y < m:\n",
    "                moves.append((x, y))\n",
    "            else:\n",
    "                break\n",
    "    return moves\n",
    "\n",
    "\n",
    "def intersection(b1, b2):\n",
    "    b3 = [value for value in b1 if value in b2]\n",
    "    return len(b3) > 0\n",
    "\n",
    "bishops = [\n",
    "    (0, 0),\n",
    "    (1, 2),\n",
    "    (2, 2),\n",
    "    (4, 0)\n",
    "]\n",
    "\n",
    "bishopMoves = {}\n",
    "for i, bishop in enumerate(bishops):\n",
    "    moves = bishopTraverse(bishop, 5)\n",
    "    bishopMoves[i] = sorted(moves)\n",
    "\n",
    "index, count = 0, 0\n",
    "for i, bishop in enumerate(bishopMoves):\n",
    "    nextBishop = i + 1\n",
    "    while nextBishop < len(bishops):\n",
    "        if intersection(bishopMoves[i], bishopMoves[nextBishop]):\n",
    "            count += 1\n",
    "            print('{} {}'.format(i, nextBishop))\n",
    "        nextBishop += 1\n",
    "\n",
    "print('Total:', count)"
   ]
  },
  {
   "cell_type": "code",
   "execution_count": null,
   "metadata": {},
   "outputs": [],
   "source": []
  }
 ],
 "metadata": {
  "kernelspec": {
   "display_name": "Python 3",
   "language": "python",
   "name": "python3"
  },
  "language_info": {
   "codemirror_mode": {
    "name": "ipython",
    "version": 3
   },
   "file_extension": ".py",
   "mimetype": "text/x-python",
   "name": "python",
   "nbconvert_exporter": "python",
   "pygments_lexer": "ipython3",
   "version": "3.7.0"
  }
 },
 "nbformat": 4,
 "nbformat_minor": 2
}
