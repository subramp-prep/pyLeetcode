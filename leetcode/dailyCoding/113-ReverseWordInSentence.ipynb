{
 "cells": [
  {
   "cell_type": "markdown",
   "metadata": {},
   "source": [
    "Given a string of words delimited by spaces, reverse the words in string. For example, given \"hello world here\", return \"here world hello\"\n",
    "\n",
    "Follow-up: given a mutable string representation, can you perform this operation in-place?"
   ]
  },
  {
   "cell_type": "code",
   "execution_count": 1,
   "metadata": {},
   "outputs": [],
   "source": [
    "def reverseWords(s):\n",
    "    s = list(s)[::-1] # reverse letters as a list\n",
    "    i = 0\n",
    "    while i < len(s):\n",
    "        j = i\n",
    "        \n",
    "        # traverse letters until we see a space\n",
    "        while i < len(s) and s[i] is not ' ': i +=1\n",
    "\n",
    "        k = i-1\n",
    "        while j < k:\n",
    "            s[j], s[k] = s[k], s[j]\n",
    "            j += 1\n",
    "            k -= 1\n",
    "\n",
    "        i += 1\n",
    "\n",
    "    s = ''.join(s)\n",
    "    return s"
   ]
  },
  {
   "cell_type": "code",
   "execution_count": 2,
   "metadata": {},
   "outputs": [
    {
     "name": "stdout",
     "output_type": "stream",
     "text": [
      "there world hello\n"
     ]
    }
   ],
   "source": [
    "print(reverseWords('hello world there'))"
   ]
  }
 ],
 "metadata": {
  "kernelspec": {
   "display_name": "Python 3",
   "language": "python",
   "name": "python3"
  },
  "language_info": {
   "codemirror_mode": {
    "name": "ipython",
    "version": 3
   },
   "file_extension": ".py",
   "mimetype": "text/x-python",
   "name": "python",
   "nbconvert_exporter": "python",
   "pygments_lexer": "ipython3",
   "version": "3.7.1"
  }
 },
 "nbformat": 4,
 "nbformat_minor": 2
}
