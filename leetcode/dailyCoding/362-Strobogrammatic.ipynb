{
 "cells": [
  {
   "cell_type": "markdown",
   "metadata": {},
   "source": [
    "A strobogrammatic number is a positive number that appears the same after being rotated 180 degrees. For example, 16891 is strobogrammatic.\n",
    "\n",
    "Create a program that finds all strobogrammatic numbers with N digits."
   ]
  },
  {
   "cell_type": "code",
   "execution_count": 28,
   "metadata": {},
   "outputs": [],
   "source": [
    "def findStrobos(k):\n",
    "    output = []\n",
    "    maps = {\n",
    "        \"0\" : \"0\",\n",
    "        \"1\" : \"1\",\n",
    "        \"6\" : \"9\",\n",
    "        \"8\" : \"8\",\n",
    "        \"9\" : \"6\"\n",
    "    }\n",
    "    \n",
    "    def isStrobogrammatic(num):\n",
    "        strobo = ''\n",
    "\n",
    "        for c in num:\n",
    "\n",
    "            if c not in maps:\n",
    "                return False\n",
    "\n",
    "            strobo = maps[c] + strobo\n",
    "\n",
    "        return num == strobo\n",
    "    \n",
    "    def helper(chosen):\n",
    "        if len(chosen) == k and isStrobogrammatic(chosen):\n",
    "            output.append(chosen)\n",
    "            \n",
    "        elif len(chosen) >= k:\n",
    "            return\n",
    "        \n",
    "        else:\n",
    "            for m in maps:\n",
    "                \n",
    "                helper(chosen + maps[m])\n",
    "                \n",
    "    helper('')\n",
    "    \n",
    "    return output"
   ]
  },
  {
   "cell_type": "code",
   "execution_count": 29,
   "metadata": {},
   "outputs": [
    {
     "name": "stdout",
     "output_type": "stream",
     "text": [
      "['00', '11', '96', '88', '69']\n"
     ]
    }
   ],
   "source": [
    "print(findStrobos(2))"
   ]
  },
  {
   "cell_type": "code",
   "execution_count": 30,
   "metadata": {},
   "outputs": [
    {
     "name": "stdout",
     "output_type": "stream",
     "text": [
      "['000', '010', '080', '101', '111', '181', '906', '916', '986', '808', '818', '888', '609', '619', '689']\n"
     ]
    }
   ],
   "source": [
    "print(findStrobos(3))"
   ]
  },
  {
   "cell_type": "code",
   "execution_count": 31,
   "metadata": {},
   "outputs": [
    {
     "name": "stdout",
     "output_type": "stream",
     "text": [
      "['0000', '0110', '0960', '0880', '0690', '1001', '1111', '1961', '1881', '1691', '9006', '9116', '9966', '9886', '9696', '8008', '8118', '8968', '8888', '8698', '6009', '6119', '6969', '6889', '6699']\n"
     ]
    }
   ],
   "source": [
    "print(findStrobos(4))"
   ]
  }
 ],
 "metadata": {
  "kernelspec": {
   "display_name": "Python 3",
   "language": "python",
   "name": "python3"
  },
  "language_info": {
   "codemirror_mode": {
    "name": "ipython",
    "version": 3
   },
   "file_extension": ".py",
   "mimetype": "text/x-python",
   "name": "python",
   "nbconvert_exporter": "python",
   "pygments_lexer": "ipython3",
   "version": "3.7.1"
  }
 },
 "nbformat": 4,
 "nbformat_minor": 2
}
