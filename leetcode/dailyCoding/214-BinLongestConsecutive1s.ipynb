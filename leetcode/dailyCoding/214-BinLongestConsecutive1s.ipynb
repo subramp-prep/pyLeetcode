{
 "cells": [
  {
   "cell_type": "markdown",
   "metadata": {},
   "source": [
    "Given an integer n, return the length of the longest consecutive run of 1s in its binary representation.\n",
    "\n",
    "For example, given 156, you should return 3."
   ]
  },
  {
   "cell_type": "code",
   "execution_count": 22,
   "metadata": {},
   "outputs": [],
   "source": [
    "def longestOnes(num):\n",
    "    \n",
    "    def helper(n):\n",
    "        if n <= 0:\n",
    "            return '0'\n",
    "        \n",
    "        return helper(n >> 1) + str(n&1)\n",
    "    \n",
    "    binrep = helper(num)\n",
    "    print(num, ':', binrep)\n",
    "    \n",
    "    maxcount = count = 0\n",
    "    \n",
    "    for c in binrep:\n",
    "        if c == '1':\n",
    "            count += 1\n",
    "            maxcount = max(maxcount, count)\n",
    "        else:\n",
    "            count = 0\n",
    "            \n",
    "    return maxcount"
   ]
  },
  {
   "cell_type": "code",
   "execution_count": 23,
   "metadata": {},
   "outputs": [
    {
     "name": "stdout",
     "output_type": "stream",
     "text": [
      "156 : 010011100\n",
      "3\n"
     ]
    }
   ],
   "source": [
    "print(longestOnes(156))"
   ]
  },
  {
   "cell_type": "markdown",
   "metadata": {},
   "source": [
    "## Optimized version"
   ]
  },
  {
   "cell_type": "code",
   "execution_count": 28,
   "metadata": {},
   "outputs": [],
   "source": [
    "def findlength(num):\n",
    "    max_length = 0\n",
    "    \n",
    "    while num > 0:\n",
    "        print(num, end=' ')\n",
    "        max_length += 1\n",
    "        num = num & (num << 1)\n",
    "        \n",
    "    print('')\n",
    "    return max_length"
   ]
  },
  {
   "cell_type": "code",
   "execution_count": 29,
   "metadata": {},
   "outputs": [
    {
     "name": "stdout",
     "output_type": "stream",
     "text": [
      "156 24 16 \n",
      "3\n"
     ]
    }
   ],
   "source": [
    "print(findlength(156))"
   ]
  }
 ],
 "metadata": {
  "kernelspec": {
   "display_name": "Python 3",
   "language": "python",
   "name": "python3"
  },
  "language_info": {
   "codemirror_mode": {
    "name": "ipython",
    "version": 3
   },
   "file_extension": ".py",
   "mimetype": "text/x-python",
   "name": "python",
   "nbconvert_exporter": "python",
   "pygments_lexer": "ipython3",
   "version": "3.7.1"
  }
 },
 "nbformat": 4,
 "nbformat_minor": 2
}
