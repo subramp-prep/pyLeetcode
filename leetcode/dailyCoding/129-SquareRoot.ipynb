{
 "cells": [
  {
   "cell_type": "markdown",
   "metadata": {},
   "source": [
    "Given a real number n, find the square root of n. For example, given n = 9, return 3."
   ]
  },
  {
   "cell_type": "code",
   "execution_count": 1,
   "metadata": {},
   "outputs": [],
   "source": [
    "def sqrt(num):\n",
    "    \n",
    "    def helper(l ,h, count): \n",
    "        if l <= h:\n",
    "            \n",
    "            print(num, ':', count)\n",
    "            count += 1          \n",
    "\n",
    "            mid = (l+h)//2\n",
    "            sq = mid ** 2\n",
    "\n",
    "            if sq == num:\n",
    "                return mid\n",
    "            elif sq > num:\n",
    "                return helper(l, mid-1, count)\n",
    "            else:\n",
    "                return helper(mid+1, h, count)\n",
    "\n",
    "    return helper(0, num, 0)"
   ]
  },
  {
   "cell_type": "code",
   "execution_count": 2,
   "metadata": {},
   "outputs": [
    {
     "name": "stdout",
     "output_type": "stream",
     "text": [
      "9 : 0\n",
      "9 : 1\n",
      "9 : 2\n",
      "9 : 3\n",
      "3\n"
     ]
    }
   ],
   "source": [
    "print(sqrt(9))"
   ]
  },
  {
   "cell_type": "code",
   "execution_count": 3,
   "metadata": {},
   "outputs": [
    {
     "name": "stdout",
     "output_type": "stream",
     "text": [
      "25 : 0\n",
      "25 : 1\n",
      "5\n"
     ]
    }
   ],
   "source": [
    "print(sqrt(25))"
   ]
  },
  {
   "cell_type": "code",
   "execution_count": 4,
   "metadata": {},
   "outputs": [
    {
     "name": "stdout",
     "output_type": "stream",
     "text": [
      "9801 : 0\n",
      "9801 : 1\n",
      "9801 : 2\n",
      "9801 : 3\n",
      "9801 : 4\n",
      "9801 : 5\n",
      "9801 : 6\n",
      "9801 : 7\n",
      "9801 : 8\n",
      "9801 : 9\n",
      "9801 : 10\n",
      "9801 : 11\n",
      "9801 : 12\n",
      "99\n"
     ]
    }
   ],
   "source": [
    "print(sqrt(9801))"
   ]
  },
  {
   "cell_type": "code",
   "execution_count": 5,
   "metadata": {},
   "outputs": [
    {
     "name": "stdout",
     "output_type": "stream",
     "text": [
      "6561 : 0\n",
      "6561 : 1\n",
      "6561 : 2\n",
      "6561 : 3\n",
      "6561 : 4\n",
      "6561 : 5\n",
      "6561 : 6\n",
      "6561 : 7\n",
      "6561 : 8\n",
      "6561 : 9\n",
      "81\n"
     ]
    }
   ],
   "source": [
    "print(sqrt(6561))"
   ]
  },
  {
   "cell_type": "code",
   "execution_count": 6,
   "metadata": {},
   "outputs": [
    {
     "name": "stdout",
     "output_type": "stream",
     "text": [
      "4096 : 0\n",
      "4096 : 1\n",
      "4096 : 2\n",
      "4096 : 3\n",
      "4096 : 4\n",
      "4096 : 5\n",
      "4096 : 6\n",
      "4096 : 7\n",
      "4096 : 8\n",
      "4096 : 9\n",
      "4096 : 10\n",
      "4096 : 11\n",
      "64\n"
     ]
    }
   ],
   "source": [
    "print(sqrt(4096))"
   ]
  }
 ],
 "metadata": {
  "kernelspec": {
   "display_name": "Python 3",
   "language": "python",
   "name": "python3"
  },
  "language_info": {
   "codemirror_mode": {
    "name": "ipython",
    "version": 3
   },
   "file_extension": ".py",
   "mimetype": "text/x-python",
   "name": "python",
   "nbconvert_exporter": "python",
   "pygments_lexer": "ipython3",
   "version": "3.7.1"
  }
 },
 "nbformat": 4,
 "nbformat_minor": 2
}
