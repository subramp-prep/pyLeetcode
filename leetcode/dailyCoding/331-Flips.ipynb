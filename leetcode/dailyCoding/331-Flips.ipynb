{
 "cells": [
  {
   "cell_type": "markdown",
   "metadata": {},
   "source": [
    "## Flip nums\n",
    "\n",
    "You are given a string consisting of the letters x and y, such as xyxxxyxyy. In addition, you have an operation called flip, which changes a single x to y or vice versa.\n",
    "\n",
    "Determine how many times you would need to apply this operation to ensure that all x's come before all y's. In the preceding example, it suffices to flip the second and sixth characters, so you should return 2."
   ]
  },
  {
   "cell_type": "code",
   "execution_count": 12,
   "metadata": {},
   "outputs": [],
   "source": [
    "def flips(s):\n",
    "    x_right = [0]*len(s) \n",
    "    y_left  = [0]*len(s)\n",
    "    \n",
    "    l = r = 0\n",
    "    for i in range(len(s)):\n",
    "        x_right[i] = r \n",
    "        if s[i] == 'x':\n",
    "            r += 1\n",
    "            \n",
    "    for i in range(len(s)-1,-1,-1):\n",
    "        y_left[i] = l\n",
    "        if s[i] == 'y':\n",
    "            l += 1\n",
    "    \n",
    "    totals = []\n",
    "    for pair in zip(x_right, y_left):\n",
    "        totals.append(sum(pair))\n",
    "        \n",
    "    return min(totals)"
   ]
  },
  {
   "cell_type": "code",
   "execution_count": 13,
   "metadata": {},
   "outputs": [
    {
     "name": "stdout",
     "output_type": "stream",
     "text": [
      "4\n"
     ]
    }
   ],
   "source": [
    "print(flips('xyxxxyxyy'))"
   ]
  },
  {
   "cell_type": "code",
   "execution_count": null,
   "metadata": {},
   "outputs": [],
   "source": []
  }
 ],
 "metadata": {
  "kernelspec": {
   "display_name": "Python 3",
   "language": "python",
   "name": "python3"
  },
  "language_info": {
   "codemirror_mode": {
    "name": "ipython",
    "version": 3
   },
   "file_extension": ".py",
   "mimetype": "text/x-python",
   "name": "python",
   "nbconvert_exporter": "python",
   "pygments_lexer": "ipython3",
   "version": "3.7.1"
  }
 },
 "nbformat": 4,
 "nbformat_minor": 2
}
