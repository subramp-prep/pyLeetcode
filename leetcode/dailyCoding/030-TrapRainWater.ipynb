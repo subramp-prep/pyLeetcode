{
 "cells": [
  {
   "cell_type": "markdown",
   "metadata": {},
   "source": [
    "You are given an array of non-negative integers that represents a two-dimensional elevation map where each element is unit-width wall and the integer is the height. Suppose it will rain and all spots between two walls get filled up.\n",
    "\n",
    "Compute how many units of water remain trapped on the map in O(N) time and O(1) space. \n",
    "\n",
    "```\n",
    "Example 1:\n",
    "given the input [2, 1, 2], we can hold 1 unit of water in the middle.\n",
    "```\n",
    "\n",
    "```\n",
    "Example 2:\n",
    "Given the input [3, 0, 1, 3, 0, 5], we can hold 3 units in the first index, 2 in the second, and 3 in the fourth index (we cannot hold 5 since it would run off to the left), so we can trap 8 units of water.\n",
    "```"
   ]
  },
  {
   "cell_type": "markdown",
   "metadata": {},
   "source": [
    "## Naive"
   ]
  },
  {
   "cell_type": "code",
   "execution_count": 1,
   "metadata": {},
   "outputs": [],
   "source": [
    "def trapRainWater(nums):\n",
    "    left_maxes = [0 for _ in range(len(nums))]\n",
    "    current_left_max = 0\n",
    "    for i in range(len(nums)):\n",
    "        current_left_max = max(current_left_max, nums[i])\n",
    "        left_maxes[i] = current_left_max\n",
    "\n",
    "    right_maxes = [0 for _ in range(len(nums))]\n",
    "    current_right_max = 0\n",
    "    for i in range(len(nums)-1, -1, -1):\n",
    "        current_right_max = max(current_right_max, nums[i])\n",
    "        right_maxes[i] = current_right_max\n",
    "\n",
    "    total=0\n",
    "    for i in range(len(nums)):\n",
    "        total += min(left_maxes[i], right_maxes[i]) - nums[i]\n",
    "\n",
    "    return total"
   ]
  },
  {
   "cell_type": "code",
   "execution_count": 2,
   "metadata": {},
   "outputs": [
    {
     "name": "stdout",
     "output_type": "stream",
     "text": [
      "1\n"
     ]
    }
   ],
   "source": [
    "print(trapRainWater([2,1,2]))"
   ]
  },
  {
   "cell_type": "code",
   "execution_count": 3,
   "metadata": {},
   "outputs": [
    {
     "name": "stdout",
     "output_type": "stream",
     "text": [
      "5\n"
     ]
    }
   ],
   "source": [
    "print(trapRainWater([2,0,1,0,2]))"
   ]
  },
  {
   "cell_type": "code",
   "execution_count": null,
   "metadata": {},
   "outputs": [],
   "source": []
  }
 ],
 "metadata": {
  "kernelspec": {
   "display_name": "Python 3",
   "language": "python",
   "name": "python3"
  },
  "language_info": {
   "codemirror_mode": {
    "name": "ipython",
    "version": 3
   },
   "file_extension": ".py",
   "mimetype": "text/x-python",
   "name": "python",
   "nbconvert_exporter": "python",
   "pygments_lexer": "ipython3",
   "version": "3.7.1"
  }
 },
 "nbformat": 4,
 "nbformat_minor": 2
}
