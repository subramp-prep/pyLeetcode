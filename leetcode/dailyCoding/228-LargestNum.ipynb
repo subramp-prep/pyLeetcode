{
 "cells": [
  {
   "cell_type": "markdown",
   "metadata": {},
   "source": [
    "Given a list of numbers, create an algorithm that arranges them in order to form the largest possible integer. For example, given [10, 7, 76, 415], you should return 77641510."
   ]
  },
  {
   "cell_type": "code",
   "execution_count": 1,
   "metadata": {},
   "outputs": [],
   "source": [
    "def findLargest(nums):\n",
    "\n",
    "    output = []\n",
    "\n",
    "    def helper(chosen):\n",
    "        if len(chosen) == len(nums):\n",
    "            output.append(int(''.join(str(i) for i in chosen)))\n",
    "        else:\n",
    "\n",
    "            for num in nums:\n",
    "                if num in chosen:\n",
    "                    continue\n",
    "\n",
    "                chosen.append(num)\n",
    "                helper(chosen)\n",
    "\n",
    "                chosen.pop()\n",
    "\n",
    "    \n",
    "    helper([])\n",
    "\n",
    "    return max(output)"
   ]
  },
  {
   "cell_type": "code",
   "execution_count": 2,
   "metadata": {},
   "outputs": [
    {
     "name": "stdout",
     "output_type": "stream",
     "text": [
      "77641510\n"
     ]
    }
   ],
   "source": [
    "print(findLargest([10, 7, 76, 415]))"
   ]
  }
 ],
 "metadata": {
  "kernelspec": {
   "display_name": "Python 3",
   "language": "python",
   "name": "python3"
  },
  "language_info": {
   "codemirror_mode": {
    "name": "ipython",
    "version": 3
   },
   "file_extension": ".py",
   "mimetype": "text/x-python",
   "name": "python",
   "nbconvert_exporter": "python",
   "pygments_lexer": "ipython3",
   "version": "3.7.1"
  }
 },
 "nbformat": 4,
 "nbformat_minor": 2
}
