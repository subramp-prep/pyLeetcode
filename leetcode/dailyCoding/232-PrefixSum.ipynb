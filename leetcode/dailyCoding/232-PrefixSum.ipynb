{
 "cells": [
  {
   "cell_type": "markdown",
   "metadata": {},
   "source": [
    "Implement a PrefixMapSum class with the following methods:\n",
    "\n",
    "insert(key: str, value: int): Set a given key's value in the map. If the key already exists, overwrite the value.\n",
    "sum(prefix: str): Return the sum of all values of keys that begin with a given prefix.\n",
    "For example, you should be able to run the following code:\n",
    "\n",
    "```\n",
    "mapsum.insert(\"columnar\", 3)\n",
    "assert mapsum.sum(\"col\") == 3\n",
    "\n",
    "mapsum.insert(\"column\", 2)\n",
    "assert mapsum.sum(\"col\") == 5\n",
    "```"
   ]
  },
  {
   "cell_type": "code",
   "execution_count": 3,
   "metadata": {},
   "outputs": [],
   "source": [
    "class Trie:\n",
    "    def __init__(self):\n",
    "        self.val = None\n",
    "        self.weight = 0\n",
    "        self.childNode = {}\n",
    "\n",
    "def insert(root, key, value):\n",
    "    node = root\n",
    "    index = 0\n",
    "    for i,c in enumerate(list(key)):\n",
    "        if c not in node.childNode:\n",
    "            break\n",
    "        else:\n",
    "            index = i\n",
    "            node.weight += value\n",
    "            node = node.childNode[c]\n",
    "\n",
    "    if index > 0:\n",
    "        index += 1\n",
    "\n",
    "    for c in range(index, len(key)):\n",
    "        node.childNode[key[c]] = Trie()\n",
    "        node.weight += value\n",
    "        node = node.childNode[key[c]]\n",
    "\n",
    "    node.val = key\n",
    "    node.weight = value\n",
    "    return root\n",
    "\n",
    "def total(root, s):\n",
    "    node = root\n",
    "    \n",
    "    for c in s:\n",
    "        node = node.childNode[c]\n",
    "        \n",
    "    return node.weight"
   ]
  },
  {
   "cell_type": "code",
   "execution_count": 4,
   "metadata": {},
   "outputs": [
    {
     "name": "stdout",
     "output_type": "stream",
     "text": [
      "5\n"
     ]
    }
   ],
   "source": [
    "root = Trie()\n",
    "\n",
    "insert(root, 'column', 3)\n",
    "insert(root, 'columnar', 2)\n",
    "\n",
    "print(total(root, 'col'))"
   ]
  }
 ],
 "metadata": {
  "kernelspec": {
   "display_name": "Python 3",
   "language": "python",
   "name": "python3"
  },
  "language_info": {
   "codemirror_mode": {
    "name": "ipython",
    "version": 3
   },
   "file_extension": ".py",
   "mimetype": "text/x-python",
   "name": "python",
   "nbconvert_exporter": "python",
   "pygments_lexer": "ipython3",
   "version": "3.7.1"
  }
 },
 "nbformat": 4,
 "nbformat_minor": 2
}
