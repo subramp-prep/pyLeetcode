{
 "cells": [
  {
   "cell_type": "markdown",
   "metadata": {},
   "source": [
    "Given an array of integers, print all sub-arrays\n",
    "\n",
    "```\n",
    "{4,2,3,-3,1,0,4}\n",
    "\n",
    "{-3,-1,0,4}\n",
    "```\n",
    "\n",
    "```\n",
    "{3,4,-7,3,1,3,1,-4,-2,-2}\n",
    "\n",
    "{3,4,-7}\n",
    "{4.-7.3}\n",
    "{-7,3,1,3}\n",
    "{3,13,1,-4,2,2}\n",
    "```"
   ]
  },
  {
   "cell_type": "code",
   "execution_count": 23,
   "metadata": {},
   "outputs": [
    {
     "name": "stdout",
     "output_type": "stream",
     "text": [
      "found {0: 1, 4: 0, 6: 1, 9: 2}\n",
      "found {0: 1, 4: 0, 6: 1, 9: 2, 7: 4}\n"
     ]
    }
   ],
   "source": [
    "def printarray(nums, k):\n",
    "    maps = {0:1}\n",
    "    s = 0\n",
    "    result = 0\n",
    "    \n",
    "    for i,num in enumerate(nums):\n",
    "        s += nums[i]\n",
    "        \n",
    "        if s - k in maps:\n",
    "            result += maps[s-k]\n",
    "            print(\"found\", maps)\n",
    "            \n",
    "        if s not in maps:\n",
    "            maps[s] = i\n",
    "            \n",
    "nums = [4,2,3,-3,1,0,4]\n",
    "printarray(nums, 0)"
   ]
  },
  {
   "cell_type": "code",
   "execution_count": null,
   "metadata": {},
   "outputs": [],
   "source": []
  }
 ],
 "metadata": {
  "kernelspec": {
   "display_name": "Python 3",
   "language": "python",
   "name": "python3"
  },
  "language_info": {
   "codemirror_mode": {
    "name": "ipython",
    "version": 3
   },
   "file_extension": ".py",
   "mimetype": "text/x-python",
   "name": "python",
   "nbconvert_exporter": "python",
   "pygments_lexer": "ipython3",
   "version": "3.7.0"
  }
 },
 "nbformat": 4,
 "nbformat_minor": 2
}
