{
 "cells": [
  {
   "cell_type": "markdown",
   "metadata": {},
   "source": [
    "Print a matrix diagonally\n",
    "\n",
    "```\n",
    "Input:\n",
    "[\n",
    "[1,2,3],\n",
    "[2,3,4],\n",
    "[3,4,5],\n",
    "]\n",
    "Output:\n",
    "1\n",
    "2 2\n",
    "3 3 3\n",
    "4 4\n",
    "5\n",
    "```"
   ]
  },
  {
   "cell_type": "code",
   "execution_count": 7,
   "metadata": {},
   "outputs": [],
   "source": [
    "def diagonalMatrix(matrix):\n",
    "    rows = len(matrix)\n",
    "    columns = len(matrix[0])\n",
    "    \n",
    "    for r in range(rows-1):\n",
    "        \n",
    "        i = r\n",
    "        j = 0\n",
    "        \n",
    "        while i >= 0 and j < columns:\n",
    "            print(matrix[i][j], end= ' ')\n",
    "            i -= 1\n",
    "            j += 1\n",
    "            \n",
    "        print('')\n",
    "        \n",
    "    for c in range(columns):\n",
    "        \n",
    "        i = rows - 1\n",
    "        j = c\n",
    "        \n",
    "        while i >= 0 and j < columns:\n",
    "            print(matrix[i][j], end=' ')\n",
    "            i -= 1\n",
    "            j += 1\n",
    "        \n",
    "        print('')"
   ]
  },
  {
   "cell_type": "code",
   "execution_count": 8,
   "metadata": {},
   "outputs": [
    {
     "name": "stdout",
     "output_type": "stream",
     "text": [
      "1 \n",
      "2 2 \n",
      "3 3 3 \n",
      "4 4 \n",
      "5 \n"
     ]
    }
   ],
   "source": [
    "matrix = [\n",
    "    [1,2,3],\n",
    "    [2,3,4],\n",
    "    [3,4,5],\n",
    "]\n",
    "diagonalMatrix(matrix)"
   ]
  }
 ],
 "metadata": {
  "kernelspec": {
   "display_name": "Python 3",
   "language": "python",
   "name": "python3"
  },
  "language_info": {
   "codemirror_mode": {
    "name": "ipython",
    "version": 3
   },
   "file_extension": ".py",
   "mimetype": "text/x-python",
   "name": "python",
   "nbconvert_exporter": "python",
   "pygments_lexer": "ipython3",
   "version": "3.7.1"
  }
 },
 "nbformat": 4,
 "nbformat_minor": 2
}
