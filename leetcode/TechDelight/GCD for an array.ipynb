{
 "cells": [
  {
   "cell_type": "markdown",
   "metadata": {},
   "source": [
    "iven an array of numbers, find GCD of the array elements. In a previous post we find GCD of two number.\n",
    "\n",
    "Examples:\n",
    "```\n",
    "Input  : arr[] = {1, 2, 3}\n",
    "Output : 1\n",
    "```\n",
    "\n",
    "```\n",
    "Input  : arr[] = {2, 4, 6, 8}\n",
    "Output : 2\n",
    "```"
   ]
  },
  {
   "cell_type": "code",
   "execution_count": 10,
   "metadata": {},
   "outputs": [],
   "source": [
    "def findGCD(nums):\n",
    "    \n",
    "    def helper(x,y):\n",
    "        while y:\n",
    "            x,y = y,x%y\n",
    "            \n",
    "        return x\n",
    "    \n",
    "    gcd = nums[0]%nums[1]\n",
    "    for i in range(2, len(nums)):\n",
    "        gcd = helper(gcd, nums[i])\n",
    "        \n",
    "    return gcd"
   ]
  },
  {
   "cell_type": "code",
   "execution_count": 11,
   "metadata": {},
   "outputs": [
    {
     "name": "stdout",
     "output_type": "stream",
     "text": [
      "2\n"
     ]
    }
   ],
   "source": [
    "print(findGCD([2,4,6,8]))"
   ]
  },
  {
   "cell_type": "code",
   "execution_count": 12,
   "metadata": {},
   "outputs": [
    {
     "name": "stdout",
     "output_type": "stream",
     "text": [
      "1\n"
     ]
    }
   ],
   "source": [
    "print(findGCD([1,2,7,14]))"
   ]
  }
 ],
 "metadata": {
  "kernelspec": {
   "display_name": "Python 3",
   "language": "python",
   "name": "python3"
  },
  "language_info": {
   "codemirror_mode": {
    "name": "ipython",
    "version": 3
   },
   "file_extension": ".py",
   "mimetype": "text/x-python",
   "name": "python",
   "nbconvert_exporter": "python",
   "pygments_lexer": "ipython3",
   "version": "3.7.1"
  }
 },
 "nbformat": 4,
 "nbformat_minor": 2
}
