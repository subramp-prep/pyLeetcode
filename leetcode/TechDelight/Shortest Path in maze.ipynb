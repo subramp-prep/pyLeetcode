{
 "cells": [
  {
   "cell_type": "markdown",
   "metadata": {},
   "source": [
    "Given a maze in the form of the binary rectangular matrix, find length of the shortest path in maze from given source to given destination. The path can only be constructed out of celss having value 1 and at any given moment. We can only move in one of the four directions.\n",
    "\n",
    "The valid moves are :\n",
    "\n",
    "Go up: (x,y) -> (x-1,y)\n",
    "Go left: (x,y) -> (x,y-1)\n",
    "Go down: (x,y) -> (x+1,y)\n",
    "Go right: (x,y) -> (x,y+1)"
   ]
  },
  {
   "cell_type": "code",
   "execution_count": 1,
   "metadata": {},
   "outputs": [],
   "source": [
    "def lengthShortestPath(matrix, sx, sy, ex, ey):\n",
    "    \n",
    "    row, column = len(matrix), len(matrix[0])\n",
    "    dp = [[0 for _ in range(column)] for _ in range(row)]\n",
    "\n",
    "    def dfs(x, y):\n",
    "        if not dp[x][y]:\n",
    "            dp[x][y] = matrix[x][y] + max(\n",
    "                dfs(x+1, y) if x+1 <= ex else 0,\n",
    "                dfs(x, y+1) if y+1 <= ey else 0\n",
    "            )\n",
    "\n",
    "        return dp[x][y]\n",
    "\n",
    "    dfs(sx, sy)\n",
    "    return dp[sx][sy] - 1"
   ]
  },
  {
   "cell_type": "code",
   "execution_count": 2,
   "metadata": {},
   "outputs": [
    {
     "name": "stdout",
     "output_type": "stream",
     "text": [
      "12\n"
     ]
    }
   ],
   "source": [
    "print(lengthShortestPath([\n",
    "    [1, 1, 1, 1, 1, 0, 0, 1, 1, 1],\n",
    "    [0, 1, 1, 1, 1, 1, 0, 1, 0, 1],\n",
    "    [0, 0, 1, 0, 1, 1, 1, 0, 0, 1],\n",
    "    [1, 0, 1, 1, 1, 0, 1, 1, 0, 1],\n",
    "    [0, 0, 0, 1, 0, 0, 0, 1, 0, 1],\n",
    "    [1, 0, 1, 1, 1, 0, 0, 1, 1, 0],\n",
    "    [0, 0, 0, 0, 1, 0, 0, 1, 0, 1],\n",
    "    [0, 1, 1, 1, 1, 1, 1, 1, 0, 0],\n",
    "    [1, 1, 1, 1, 1, 0, 0, 1, 1, 1],\n",
    "    [0, 0, 1, 0, 0, 1, 1, 0, 0, 1]\n",
    "], 0, 0, 7, 5))"
   ]
  }
 ],
 "metadata": {
  "kernelspec": {
   "display_name": "Python 3",
   "language": "python",
   "name": "python3"
  },
  "language_info": {
   "codemirror_mode": {
    "name": "ipython",
    "version": 3
   },
   "file_extension": ".py",
   "mimetype": "text/x-python",
   "name": "python",
   "nbconvert_exporter": "python",
   "pygments_lexer": "ipython3",
   "version": "3.7.1"
  }
 },
 "nbformat": 4,
 "nbformat_minor": 2
}
