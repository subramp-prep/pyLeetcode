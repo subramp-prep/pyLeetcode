{
 "cells": [
  {
   "cell_type": "markdown",
   "metadata": {},
   "source": [
    "## Flatten a Dictionary\n",
    "\n",
    "A dictionary is a type of data structure that is supported natively in all major interpreted languages such as JavaScript, Python, Ruby and PHP, where it’s known as an Object, Dictionary, Hash and Array, respectively. In simple terms, a dictionary is a collection of unique keys and their values. The values can typically be of any primitive type (i.e an integer, boolean, double, string etc) or other dictionaries (dictionaries can be nested). However, for this exercise assume that values are either an integer, a string or another dictionary.\n",
    "\n",
    "Given a dictionary dict, write a function flattenDictionary that returns a flattened version of it .\n",
    "\n",
    "If you’re using a compiled language such Java, C++, C#, Swift and Go, you may want to use a Map/Dictionary/Hash Table that maps strings (keys) to a generic type (e.g. Object in Java, AnyObject in Swift etc.) to allow nested dictionaries.\n",
    "\n",
    "If a certain key is empty, it should be excluded from the output (see e in the example below).\n",
    "\n",
    "Example:\n",
    "\n",
    "```\n",
    "input:  dict = {\n",
    "            \"Key1\" : \"1\",\n",
    "            \"Key2\" : {\n",
    "                \"a\" : \"2\",\n",
    "                \"b\" : \"3\",\n",
    "                \"c\" : {\n",
    "                    \"d\" : \"3\",\n",
    "                    \"e\" : {\n",
    "                        \"\" : \"1\"\n",
    "                    }\n",
    "                }\n",
    "            }\n",
    "        }\n",
    "\n",
    "output: {\n",
    "            \"Key1\" : \"1\",\n",
    "            \"Key2.a\" : \"2\",\n",
    "            \"Key2.b\" : \"3\",\n",
    "            \"Key2.c.d\" : \"3\",\n",
    "            \"Key2.c.e\" : \"1\"\n",
    "        }\n",
    "```\n",
    "\n",
    "Important: when you concatenate keys, make sure to add the dot character between them. For instance concatenating Key2, c and d the result key would be Key2.c.d.\n",
    "\n",
    "Constraints:\n",
    "\n",
    "[time limit] 5000ms\n",
    "[input] Dictionary dict\n",
    "[output] Dictionary"
   ]
  },
  {
   "cell_type": "code",
   "execution_count": 1,
   "metadata": {},
   "outputs": [],
   "source": [
    "def flatten_dictionary(dictionary):\n",
    "    maps = {}\n",
    "\n",
    "    def helper(key, hashmap):\n",
    "        for k in hashmap:\n",
    "            if type(hashmap[k]) is dict:\n",
    "                if len(key) <= 0:\n",
    "                    helper(k, hashmap[k])\n",
    "                else:\n",
    "                    helper(key + '.' + k, hashmap[k])\n",
    "\n",
    "            else:\n",
    "                if len(key) <= 0:\n",
    "                    maps[k] = hashmap[k]\n",
    "                    \n",
    "                elif len(k) <= 0:\n",
    "                    maps[key] = hashmap[k]\n",
    "                    \n",
    "                else:\n",
    "                    maps[key+'.'+k] = hashmap[k]\n",
    "\n",
    "    helper('', dictionary)\n",
    "\n",
    "    return maps"
   ]
  },
  {
   "cell_type": "code",
   "execution_count": 3,
   "metadata": {},
   "outputs": [
    {
     "name": "stdout",
     "output_type": "stream",
     "text": [
      "{'Key1': '1', 'Key2.a': '2', 'Key2.b': '3', 'Key2.c.d': '3', 'Key2.c.e': '1'}\n"
     ]
    }
   ],
   "source": [
    "test = {\n",
    "    \"Key1\": \"1\",\n",
    "    \"Key2\": {\n",
    "        \"a\": \"2\",\n",
    "        \"b\": \"3\",\n",
    "        \"c\": {\n",
    "            \"d\": \"3\",\n",
    "            \"e\": {\n",
    "                \"\": \"1\"\n",
    "            }\n",
    "        }\n",
    "    }\n",
    "}\n",
    "print(flatten_dictionary(test))"
   ]
  },
  {
   "cell_type": "code",
   "execution_count": 4,
   "metadata": {},
   "outputs": [
    {
     "name": "stdout",
     "output_type": "stream",
     "text": [
      "{'c': '2'}\n"
     ]
    }
   ],
   "source": [
    "test = {\n",
    "    '' : {\n",
    "        '' : {\n",
    "            '' : {\n",
    "                'c' : '2'\n",
    "            }\n",
    "        }\n",
    "    }\n",
    "}\n",
    "print(flatten_dictionary(test))"
   ]
  },
  {
   "cell_type": "code",
   "execution_count": null,
   "metadata": {},
   "outputs": [],
   "source": []
  }
 ],
 "metadata": {
  "kernelspec": {
   "display_name": "Python 3",
   "language": "python",
   "name": "python3"
  },
  "language_info": {
   "codemirror_mode": {
    "name": "ipython",
    "version": 3
   },
   "file_extension": ".py",
   "mimetype": "text/x-python",
   "name": "python",
   "nbconvert_exporter": "python",
   "pygments_lexer": "ipython3",
   "version": "3.7.4"
  }
 },
 "nbformat": 4,
 "nbformat_minor": 2
}
