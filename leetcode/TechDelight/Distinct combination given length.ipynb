{
 "cells": [
  {
   "cell_type": "markdown",
   "metadata": {},
   "source": [
    "Find all distinct combination given length\n",
    "\n",
    "Example 1:\n",
    "```\n",
    "Input: {1,2,3}, k =2\n",
    "Output: {1,2}, {1,3}, {2,3}\n",
    "```\n",
    "\n",
    "Example 2:\n",
    "```\n",
    "Input: {1,2,1}, k =2\n",
    "Output: {1,1}, {1,2}\n",
    "```"
   ]
  },
  {
   "cell_type": "code",
   "execution_count": 1,
   "metadata": {},
   "outputs": [],
   "source": [
    "def distinctCombinations(nums, k):\n",
    "    nums.sort()\n",
    "    used = [False]*len(nums)\n",
    "    output = []\n",
    "\n",
    "    def helper(chosen, used, startIndex):\n",
    "        if len(chosen) == k:\n",
    "            output.append(chosen[::])\n",
    "        elif len(chosen) > k:\n",
    "            return\n",
    "        else:\n",
    "            for i in range(startIndex, len(nums)):\n",
    "\n",
    "                if used[i] or i > 0 and nums[i] == nums[i-1] and used[i-1] == False:\n",
    "                    continue\n",
    "                \n",
    "                used[i] = True\n",
    "                chosen.append(nums[i])\n",
    "\n",
    "                helper(chosen, used, i+1)\n",
    "\n",
    "                chosen.pop()\n",
    "                used[i] = False\n",
    "\n",
    "    helper([], used, 0)\n",
    "\n",
    "    return output"
   ]
  },
  {
   "cell_type": "code",
   "execution_count": 2,
   "metadata": {},
   "outputs": [
    {
     "name": "stdout",
     "output_type": "stream",
     "text": [
      "[[1, 1], [1, 2]]\n"
     ]
    }
   ],
   "source": [
    "print(distinctCombinations([1,2,1], 2))"
   ]
  },
  {
   "cell_type": "code",
   "execution_count": 3,
   "metadata": {},
   "outputs": [
    {
     "name": "stdout",
     "output_type": "stream",
     "text": [
      "[[1, 2], [1, 3], [2, 3]]\n"
     ]
    }
   ],
   "source": [
    "print(distinctCombinations([1,2,3], 2))"
   ]
  }
 ],
 "metadata": {
  "kernelspec": {
   "display_name": "Python 3",
   "language": "python",
   "name": "python3"
  },
  "language_info": {
   "codemirror_mode": {
    "name": "ipython",
    "version": 3
   },
   "file_extension": ".py",
   "mimetype": "text/x-python",
   "name": "python",
   "nbconvert_exporter": "python",
   "pygments_lexer": "ipython3",
   "version": "3.7.1"
  }
 },
 "nbformat": 4,
 "nbformat_minor": 2
}
