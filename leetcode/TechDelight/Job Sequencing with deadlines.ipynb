{
 "cells": [
  {
   "cell_type": "markdown",
   "metadata": {},
   "source": [
    "Find maximum profit with deadlines"
   ]
  },
  {
   "cell_type": "code",
   "execution_count": 2,
   "metadata": {},
   "outputs": [],
   "source": [
    "class Job:\n",
    "    def __init__(self, start, deadlines, profit):\n",
    "        self.start = start\n",
    "        self.deadlines = deadlines\n",
    "        self.profit = profit\n",
    "        \n",
    "        \n",
    "def scheduleJobMaxProfit(jobs, T):\n",
    "    pass"
   ]
  },
  {
   "cell_type": "code",
   "execution_count": 3,
   "metadata": {},
   "outputs": [],
   "source": [
    "jobs = [\n",
    "    Job(1, 9, 15), Job(2, 2, 2),\n",
    "    Job(3, 5, 18), Job(4, 7, 1),\n",
    "    Job(5, 4, 25), Job(6, 2, 20),\n",
    "    Job(7, 5, 8), Job(8, 7, 10),\n",
    "    Job(9, 4, 12), Job(10, 3, 5)\n",
    "]\n"
   ]
  }
 ],
 "metadata": {
  "kernelspec": {
   "display_name": "Python 3",
   "language": "python",
   "name": "python3"
  },
  "language_info": {
   "codemirror_mode": {
    "name": "ipython",
    "version": 3
   },
   "file_extension": ".py",
   "mimetype": "text/x-python",
   "name": "python",
   "nbconvert_exporter": "python",
   "pygments_lexer": "ipython3",
   "version": "3.7.6"
  }
 },
 "nbformat": 4,
 "nbformat_minor": 4
}
