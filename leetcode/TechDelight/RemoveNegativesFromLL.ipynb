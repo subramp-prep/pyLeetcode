{
 "cells": [
  {
   "cell_type": "markdown",
   "metadata": {},
   "source": [
    "Remove negative numbers from LinkedList\n",
    "\n",
    "Example 1:\n",
    "```\n",
    "Input: 2 -> 3 -> -5 ->6\n",
    "Output: 2 -> 3 -> 6\n",
    "```"
   ]
  },
  {
   "cell_type": "code",
   "execution_count": 1,
   "metadata": {},
   "outputs": [],
   "source": [
    "class LLNode:\n",
    "    def __init__(self, val, next = None):\n",
    "        self.val = val\n",
    "        self.next = next\n",
    "\n",
    "\n",
    "\n",
    "def removeNegative(head):\n",
    "    result = temp = LLNode(-1)\n",
    "    \n",
    "    try:\n",
    "        while head:\n",
    "            \n",
    "            while head and head.val < 0:\n",
    "                head = head.next\n",
    "\n",
    "            temp.next = head\n",
    "            temp = temp.next\n",
    "            head = head.next\n",
    "\n",
    "    except:\n",
    "        print('reached end')\n",
    "\n",
    "    return result.next\n",
    "\n",
    "\n",
    "def parseList(head):\n",
    "    \n",
    "    while head:\n",
    "        print(head.val, end ='\\t')\n",
    "        head = head.next\n",
    "\n",
    "    print('')"
   ]
  },
  {
   "cell_type": "code",
   "execution_count": 2,
   "metadata": {},
   "outputs": [
    {
     "name": "stdout",
     "output_type": "stream",
     "text": [
      "2\t3\t6\t\n"
     ]
    }
   ],
   "source": [
    "ll = LLNode(2, LLNode(3, LLNode(-5, LLNode(6))))\n",
    "m_ll = removeNegative(ll)\n",
    "parseList(m_ll)"
   ]
  },
  {
   "cell_type": "code",
   "execution_count": 3,
   "metadata": {},
   "outputs": [
    {
     "name": "stdout",
     "output_type": "stream",
     "text": [
      "6\t\n"
     ]
    }
   ],
   "source": [
    "ll = LLNode(-3, LLNode(-3, LLNode(-5, LLNode(6))))\n",
    "m_ll = removeNegative(ll)\n",
    "parseList(m_ll)"
   ]
  },
  {
   "cell_type": "code",
   "execution_count": 5,
   "metadata": {},
   "outputs": [
    {
     "name": "stdout",
     "output_type": "stream",
     "text": [
      "\n"
     ]
    }
   ],
   "source": [
    "ll = None\n",
    "m_ll = removeNegative(ll)\n",
    "parseList(m_ll)"
   ]
  },
  {
   "cell_type": "code",
   "execution_count": 6,
   "metadata": {},
   "outputs": [
    {
     "name": "stdout",
     "output_type": "stream",
     "text": [
      "reached end\n",
      "\n"
     ]
    }
   ],
   "source": [
    "ll = LLNode(-3, LLNode(-3, LLNode(-5, LLNode(-6))))\n",
    "m_ll = removeNegative(ll)\n",
    "parseList(m_ll)"
   ]
  }
 ],
 "metadata": {
  "kernelspec": {
   "display_name": "Python 3",
   "language": "python",
   "name": "python3"
  },
  "language_info": {
   "codemirror_mode": {
    "name": "ipython",
    "version": 3
   },
   "file_extension": ".py",
   "mimetype": "text/x-python",
   "name": "python",
   "nbconvert_exporter": "python",
   "pygments_lexer": "ipython3",
   "version": "3.7.1"
  }
 },
 "nbformat": 4,
 "nbformat_minor": 2
}
