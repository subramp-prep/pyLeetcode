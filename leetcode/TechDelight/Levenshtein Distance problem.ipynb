{
 "cells": [
  {
   "cell_type": "markdown",
   "metadata": {},
   "source": [
    "## Levenshtein distance\n",
    "\n",
    "The Levenshtein distance is a string metric for measuring the difference between two sequences. Informally, the Levenshtein distance between two words is the minimum number of single-character edits (i.e. insertions, deletions, or substitutions) required to change one word into the other. It is named after Vladimir Levenshtein, who discovered this equation in 1965.\n",
    "\n",
    "Levenshtein distance may also be referred to as edit distance, although it may also denote a larger family of distance metrics. It is closely related to pairwise string alignments."
   ]
  },
  {
   "cell_type": "markdown",
   "metadata": {},
   "source": [
    "## Recursive"
   ]
  },
  {
   "cell_type": "code",
   "execution_count": 4,
   "metadata": {},
   "outputs": [],
   "source": [
    "import datetime\n",
    "\n",
    "def levenshteinDistance_reursion(x, y):\n",
    "    \n",
    "    def helper(xl, yl):\n",
    "        if xl == 0:\n",
    "            return yl\n",
    "\n",
    "        if yl == 0:\n",
    "            return xl\n",
    "        \n",
    "        cost = 0\n",
    "\n",
    "        if x[xl-1] != y[yl-1]:\n",
    "            cost = 1\n",
    "            \n",
    "\n",
    "        return min( min(helper(xl-1, yl) + 1, \n",
    "                        helper(xl, yl-1) + 1 ),\n",
    "                    helper(xl-1, yl-1) + cost)\n",
    "\n",
    "    return helper(len(x), len(y))"
   ]
  },
  {
   "cell_type": "code",
   "execution_count": 5,
   "metadata": {},
   "outputs": [
    {
     "name": "stdout",
     "output_type": "stream",
     "text": [
      "3\n",
      "non-DP: 0:00:00.091681\n"
     ]
    }
   ],
   "source": [
    "start = datetime.datetime.now()\n",
    "print(levenshteinDistance_reursion('kittens', 'sittings'))\n",
    "print('non-DP:', datetime.datetime.now()-start)"
   ]
  },
  {
   "cell_type": "code",
   "execution_count": 6,
   "metadata": {},
   "outputs": [
    {
     "name": "stdout",
     "output_type": "stream",
     "text": [
      "3\n",
      "non-DP: 0:00:00.106364\n"
     ]
    }
   ],
   "source": [
    "start = datetime.datetime.now()\n",
    "print(levenshteinDistance_reursion('elephant', 'element'))\n",
    "print('non-DP:', datetime.datetime.now()-start)"
   ]
  },
  {
   "cell_type": "markdown",
   "metadata": {},
   "source": [
    "## Dynamic Programming"
   ]
  },
  {
   "cell_type": "code",
   "execution_count": 7,
   "metadata": {},
   "outputs": [],
   "source": [
    "def levenshteinDistance(x, y):\n",
    "\n",
    "    def helper(xl, yl, maps):\n",
    "        if xl == 0:\n",
    "            return yl\n",
    "\n",
    "        if yl == 0:\n",
    "            return xl\n",
    "\n",
    "        combo = str(xl) + '|' + str(yl)\n",
    "        \n",
    "        if combo not in maps:\n",
    "            cost = 0\n",
    "\n",
    "            if x[xl-1] != y[yl-1]:\n",
    "                cost = 1\n",
    "\n",
    "            maps[combo] = min(min(helper(xl-1, yl, maps) + 1,\n",
    "                       helper(xl, yl-1, maps) + 1),\n",
    "                    helper(xl-1, yl-1, maps) + cost)\n",
    "\n",
    "        #print(maps)\n",
    "        return maps[combo]\n",
    "\n",
    "    return helper(len(x), len(y), {})"
   ]
  },
  {
   "cell_type": "code",
   "execution_count": 8,
   "metadata": {},
   "outputs": [
    {
     "name": "stdout",
     "output_type": "stream",
     "text": [
      "1\n",
      "DP: 0:00:00.000466\n"
     ]
    }
   ],
   "source": [
    "start = datetime.datetime.now()\n",
    "print(levenshteinDistance('dog', 'doc'))\n",
    "print('DP:', datetime.datetime.now()-start)"
   ]
  },
  {
   "cell_type": "code",
   "execution_count": 9,
   "metadata": {},
   "outputs": [
    {
     "name": "stdout",
     "output_type": "stream",
     "text": [
      "3\n",
      "DP: 0:00:00.001189\n"
     ]
    }
   ],
   "source": [
    "start = datetime.datetime.now()\n",
    "print(levenshteinDistance('kittens', 'sittings'))\n",
    "print('DP:', datetime.datetime.now()-start)"
   ]
  },
  {
   "cell_type": "code",
   "execution_count": 10,
   "metadata": {},
   "outputs": [
    {
     "name": "stdout",
     "output_type": "stream",
     "text": [
      "3\n",
      "DP: 0:00:00.001179\n"
     ]
    }
   ],
   "source": [
    "start = datetime.datetime.now()\n",
    "print(levenshteinDistance('elephant', 'element'))\n",
    "print('DP:', datetime.datetime.now()-start)"
   ]
  }
 ],
 "metadata": {
  "kernelspec": {
   "display_name": "Python 3",
   "language": "python",
   "name": "python3"
  },
  "language_info": {
   "codemirror_mode": {
    "name": "ipython",
    "version": 3
   },
   "file_extension": ".py",
   "mimetype": "text/x-python",
   "name": "python",
   "nbconvert_exporter": "python",
   "pygments_lexer": "ipython3",
   "version": "3.7.1"
  }
 },
 "nbformat": 4,
 "nbformat_minor": 2
}
