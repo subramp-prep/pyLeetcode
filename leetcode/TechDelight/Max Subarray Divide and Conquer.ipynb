{
 "cells": [
  {
   "cell_type": "markdown",
   "metadata": {},
   "source": [
    "Identify the maximum sum subarray using Divide and Conquer\n",
    "\n",
    "```\n",
    "Input: A[] = [2, -4, 1, 9, -6, 7, -3]\n",
    "Output: 11 since (1,9, -6, 7)\n",
    "```"
   ]
  },
  {
   "cell_type": "markdown",
   "metadata": {},
   "source": [
    "Intution of this solution is to divide the array into left and right, add the elements and find max"
   ]
  },
  {
   "cell_type": "code",
   "execution_count": 3,
   "metadata": {},
   "outputs": [],
   "source": [
    "#TODO more analysis required since the answer should be 11 and not 10\n",
    "import sys\n",
    "\n",
    "def maxSubArray(nums, low, high):\n",
    "    \n",
    "    if low == high:\n",
    "        return nums[low]\n",
    "    \n",
    "    mid = int((low+high)/2)\n",
    "    \n",
    "    currSum = 0\n",
    "    left_max = -sys.maxsize    \n",
    "    #while low <= mid:\n",
    "        \n",
    "    for i in range(mid, low-1, -1):\n",
    "        currSum += nums[i]\n",
    "        if left_max < currSum:\n",
    "            left_max = currSum\n",
    "        \n",
    "        #low += 1\n",
    "    \n",
    "    currSum = 0\n",
    "    right_max = -sys.maxsize\n",
    "    #while mid <= high:\n",
    "    for i in range(mid, high+1):\n",
    "        currSum += nums[i]\n",
    "        if right_max < currSum:\n",
    "            right_max = currSum\n",
    "            \n",
    "        #mid\n",
    "            \n",
    "    max_left_right = max(maxSubArray(nums, low, mid),\n",
    "                         maxSubArray(nums, mid+1, high))\n",
    "    \n",
    "    return max(max_left_right, left_max, right_max)"
   ]
  },
  {
   "cell_type": "code",
   "execution_count": 4,
   "metadata": {},
   "outputs": [
    {
     "name": "stdout",
     "output_type": "stream",
     "text": [
      "10\n"
     ]
    }
   ],
   "source": [
    "nums = [2, -4, 1, 9, -6, 7, -3]\n",
    "print(maxSubArray(nums, 0, len(nums)-1))"
   ]
  },
  {
   "cell_type": "markdown",
   "metadata": {},
   "source": [
    "# Kadane's algorithm"
   ]
  },
  {
   "cell_type": "code",
   "execution_count": 5,
   "metadata": {},
   "outputs": [],
   "source": [
    "import sys\n",
    "\n",
    "def maxSubArraySum(nums):\n",
    "    currSum, maxSum = 0, -sys.maxsize\n",
    "    \n",
    "    for num in nums:\n",
    "        currSum += num\n",
    "        maxSum = max(maxSum, currSum)\n",
    "        currSum = max(currSum, 0)\n",
    "        \n",
    "    return maxSum"
   ]
  },
  {
   "cell_type": "code",
   "execution_count": 6,
   "metadata": {},
   "outputs": [
    {
     "name": "stdout",
     "output_type": "stream",
     "text": [
      "11\n"
     ]
    }
   ],
   "source": [
    "nums = [2, -4, 1, 9, -6, 7, -3]\n",
    "print(maxSubArraySum(nums))"
   ]
  },
  {
   "cell_type": "code",
   "execution_count": null,
   "metadata": {},
   "outputs": [],
   "source": []
  }
 ],
 "metadata": {
  "kernelspec": {
   "display_name": "Python 3",
   "language": "python",
   "name": "python3"
  },
  "language_info": {
   "codemirror_mode": {
    "name": "ipython",
    "version": 3
   },
   "file_extension": ".py",
   "mimetype": "text/x-python",
   "name": "python",
   "nbconvert_exporter": "python",
   "pygments_lexer": "ipython3",
   "version": "3.7.1"
  }
 },
 "nbformat": 4,
 "nbformat_minor": 2
}
