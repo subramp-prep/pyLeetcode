{
 "cells": [
  {
   "cell_type": "markdown",
   "metadata": {},
   "source": [
    "Implement stack using a Linked-list to support operations\n",
    "\n",
    "* push\n",
    "* pop\n",
    "* peek\n",
    "* is_empty"
   ]
  },
  {
   "cell_type": "code",
   "execution_count": 1,
   "metadata": {},
   "outputs": [],
   "source": [
    "class LLNode:\n",
    "    def __init__(self, val, nex=None):\n",
    "        self.nex = nex\n",
    "        self.val = val\n",
    "        \n",
    "class MyStack:\n",
    "    def __init__(self, node):\n",
    "        self.top = node\n",
    "        \n",
    "    def push(self, data):\n",
    "        self.top = LLNode(data, self.top)\n",
    "        \n",
    "    def pop(self):\n",
    "        if self.top is None:\n",
    "            return None\n",
    "        \n",
    "        data = self.top.val\n",
    "        self.top = self.top.next\n",
    "        return data\n",
    "    \n",
    "    def peek(self):\n",
    "        if self.top is None:\n",
    "            return None\n",
    "        \n",
    "        return self.top.val\n",
    "    \n",
    "    def isEmpty():\n",
    "        return self.isEmpty() is None"
   ]
  }
 ],
 "metadata": {
  "kernelspec": {
   "display_name": "Python 3",
   "language": "python",
   "name": "python3"
  },
  "language_info": {
   "codemirror_mode": {
    "name": "ipython",
    "version": 3
   },
   "file_extension": ".py",
   "mimetype": "text/x-python",
   "name": "python",
   "nbconvert_exporter": "python",
   "pygments_lexer": "ipython3",
   "version": "3.7.4"
  }
 },
 "nbformat": 4,
 "nbformat_minor": 2
}
