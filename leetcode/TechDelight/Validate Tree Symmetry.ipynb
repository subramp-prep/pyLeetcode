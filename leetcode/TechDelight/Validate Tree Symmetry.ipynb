{
 "cells": [
  {
   "cell_type": "code",
   "execution_count": 15,
   "metadata": {},
   "outputs": [],
   "source": [
    "class Tree:\n",
    "    def __init__(self, val):\n",
    "        self.val = val\n",
    "        self.left = None\n",
    "        self.right = None\n",
    "\n",
    "def buildTree(nums, index, root):\n",
    "    if index < len(nums):\n",
    "        root = Tree(nums[index])\n",
    "        root.left = buildTree(nums, 2*index+1, root.left)\n",
    "        root.right = buildTree(nums, 2*index+2, root.right)\n",
    "        \n",
    "    return root"
   ]
  },
  {
   "cell_type": "markdown",
   "metadata": {},
   "source": [
    "# Recursive"
   ]
  },
  {
   "cell_type": "code",
   "execution_count": 16,
   "metadata": {},
   "outputs": [],
   "source": [
    "def ValidateTrees(root1, root2):\n",
    "    if root1 is None and root2 is None:\n",
    "        return True\n",
    "    \n",
    "    '''\n",
    "    return  (root1 == root2) and # validate if node exists for asymmeteric length\n",
    "            (root1.val == root2.val) and  # validate value\n",
    "            ValidateTrees(root1.left, root2.left) and  # validate left's\n",
    "            ValidateTrees(root1.right, root2.right) # validate right's\n",
    "    '''\n",
    "    return (root1 != None and root2 != None) and \\\n",
    "           (root1.val == root2.val) and \\\n",
    "           ValidateTrees(root1.left, root2.left) and \\\n",
    "           ValidateTrees(root1.right, root2.right)  # validate right's"
   ]
  },
  {
   "cell_type": "code",
   "execution_count": 17,
   "metadata": {},
   "outputs": [
    {
     "name": "stdout",
     "output_type": "stream",
     "text": [
      "False\n"
     ]
    }
   ],
   "source": [
    "root1 = buildTree([1,2,3,4,5], 0, None)\n",
    "root2 = buildTree([1,2,3,4], 0, None)\n",
    "\n",
    "print(ValidateTrees(root1, root2))"
   ]
  },
  {
   "cell_type": "code",
   "execution_count": 18,
   "metadata": {},
   "outputs": [
    {
     "name": "stdout",
     "output_type": "stream",
     "text": [
      "True\n"
     ]
    }
   ],
   "source": [
    "root1 = buildTree([1,2,3,4,5], 0, None)\n",
    "root2 = buildTree([1,2,3,4,5], 0, None)\n",
    "\n",
    "print(ValidateTrees(root1, root2))"
   ]
  },
  {
   "cell_type": "markdown",
   "metadata": {},
   "source": [
    "# Iterative"
   ]
  },
  {
   "cell_type": "code",
   "execution_count": null,
   "metadata": {},
   "outputs": [],
   "source": [
    "def ValidateTreesIterative(root1, root2):\n",
    "    if root1 is None and root2 is None:\n",
    "        return True\n",
    "\n",
    "    stack = []\n",
    "\n",
    "    if root1 is None:\n",
    "        return False\n",
    "\n",
    "    if root2 is None:\n",
    "        return False\n",
    "\n",
    "    t = root1, root2\n",
    "    stack.append(t)\n",
    "\n",
    "    while  len(stack) > 0:\n",
    "        recent = stack.pop()\n",
    "\n",
    "        # check for validity of data\n",
    "        if recent[0].val != recent[1].val:\n",
    "            return False\n",
    "\n",
    "        if recent[0].left and recent[1].left:\n",
    "            t = recent[0].left, recent[1].left\n",
    "            stack.append(t)\n",
    "        elif recent[0].left or recent[1].left:\n",
    "            return False\n",
    "\n",
    "        if recent[0].right and recent[1].right:\n",
    "            t = recent[0].right, recent[1].right\n",
    "            stack.append(t)\n",
    "        elif recent[0].right or recent[1].right:\n",
    "            return False\n",
    "\n",
    "    return True\n",
    "\n",
    "root1 = buildTree([1,2,3,5], 0, None)\n",
    "root2 = buildTree([1,2,3,4,5], 0, None)\n",
    "\n",
    "print(ValidateTreesIterative(root1, root2))"
   ]
  },
  {
   "cell_type": "code",
   "execution_count": null,
   "metadata": {},
   "outputs": [],
   "source": []
  },
  {
   "cell_type": "code",
   "execution_count": null,
   "metadata": {},
   "outputs": [],
   "source": []
  }
 ],
 "metadata": {
  "kernelspec": {
   "display_name": "Python 3",
   "language": "python",
   "name": "python3"
  },
  "language_info": {
   "codemirror_mode": {
    "name": "ipython",
    "version": 3
   },
   "file_extension": ".py",
   "mimetype": "text/x-python",
   "name": "python",
   "nbconvert_exporter": "python",
   "pygments_lexer": "ipython3",
   "version": "3.7.1"
  }
 },
 "nbformat": 4,
 "nbformat_minor": 2
}
