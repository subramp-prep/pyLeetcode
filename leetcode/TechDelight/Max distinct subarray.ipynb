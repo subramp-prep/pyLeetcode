{
 "cells": [
  {
   "cell_type": "markdown",
   "metadata": {},
   "source": [
    "Write a function that takes an array of integers A and returns the length of the longes subarray of A with the constrainct of all elements are distinct. For example, if A = [5,7,5,11,13,2,11,19,2,11] the longest subarry would be [7,5,11,13,2]"
   ]
  },
  {
   "cell_type": "code",
   "execution_count": 3,
   "metadata": {},
   "outputs": [],
   "source": [
    "import sys\n",
    "\n",
    "def maxDistinctSubarrayLength(nums):\n",
    "    maps = {}\n",
    "    maxLen, startIndex = -sys.maxsize, 0\n",
    "    \n",
    "    for i, num in enumerate(nums):\n",
    "        if num in maps:\n",
    "            last_seen = maps[num]\n",
    "            \n",
    "            if last_seen >= startIndex:\n",
    "                maxLen = max(maxLen, i-startIndex)\n",
    "                startIndex = last_seen + 1\n",
    "                \n",
    "        maps[num] = i\n",
    "        \n",
    "    return maxLen"
   ]
  },
  {
   "cell_type": "code",
   "execution_count": 5,
   "metadata": {},
   "outputs": [
    {
     "name": "stdout",
     "output_type": "stream",
     "text": [
      "5\n"
     ]
    }
   ],
   "source": [
    "print(maxDistinctSubarrayLength([5,7,5,11,13,2,11,19,2,11]))"
   ]
  },
  {
   "cell_type": "markdown",
   "metadata": {},
   "source": [
    "## Intuition\n",
    "\n",
    "If we have seen the same element before keep updating the **startIndex** with the next index. **maxLen** would cache the longest of distinct arrays"
   ]
  },
  {
   "cell_type": "code",
   "execution_count": null,
   "metadata": {},
   "outputs": [],
   "source": []
  }
 ],
 "metadata": {
  "kernelspec": {
   "display_name": "Python 3",
   "language": "python",
   "name": "python3"
  },
  "language_info": {
   "codemirror_mode": {
    "name": "ipython",
    "version": 3
   },
   "file_extension": ".py",
   "mimetype": "text/x-python",
   "name": "python",
   "nbconvert_exporter": "python",
   "pygments_lexer": "ipython3",
   "version": "3.7.1"
  }
 },
 "nbformat": 4,
 "nbformat_minor": 2
}
