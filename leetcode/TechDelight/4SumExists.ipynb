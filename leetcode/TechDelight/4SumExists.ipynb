{
 "cells": [
  {
   "cell_type": "code",
   "execution_count": 14,
   "metadata": {},
   "outputs": [],
   "source": [
    "def quadTupleExists(nums, total, n, count):\n",
    "    print('Total:', total, 'n:', n, 'Count:', count)\n",
    "    if count == 4 and total ==0:\n",
    "        print('Found!')\n",
    "        return True\n",
    "    \n",
    "    # if we have reached the left end of the array\n",
    "    # can't progress any further\n",
    "    if count > 4 or n == 0:\n",
    "        return False\n",
    "    \n",
    "    return quadTupleExists(nums, total - nums[n-1], n-1, count + 1) or \\\n",
    "            quadTupleExists(nums, total, n-1, count)"
   ]
  },
  {
   "cell_type": "code",
   "execution_count": 16,
   "metadata": {},
   "outputs": [
    {
     "name": "stdout",
     "output_type": "stream",
     "text": [
      "Total: 0 n: 6 Count: 0\n",
      "Total: -2 n: 5 Count: 1\n",
      "Total: 0 n: 4 Count: 2\n",
      "Total: 0 n: 3 Count: 3\n",
      "Total: 1 n: 2 Count: 4\n",
      "Total: 1 n: 1 Count: 5\n",
      "Total: 1 n: 1 Count: 4\n",
      "Total: 0 n: 0 Count: 5\n",
      "Total: 1 n: 0 Count: 4\n",
      "Total: 0 n: 2 Count: 3\n",
      "Total: 0 n: 1 Count: 4\n",
      "Found!\n",
      "True\n"
     ]
    }
   ],
   "source": [
    "nums = [1, 0, -1, 0, -2, 2, 5]\n",
    "print(quadTupleExists(nums, 0, len(nums)-1, 0))"
   ]
  },
  {
   "cell_type": "code",
   "execution_count": null,
   "metadata": {},
   "outputs": [],
   "source": []
  }
 ],
 "metadata": {
  "kernelspec": {
   "display_name": "Python 3",
   "language": "python",
   "name": "python3"
  },
  "language_info": {
   "codemirror_mode": {
    "name": "ipython",
    "version": 3
   },
   "file_extension": ".py",
   "mimetype": "text/x-python",
   "name": "python",
   "nbconvert_exporter": "python",
   "pygments_lexer": "ipython3",
   "version": "3.7.1"
  }
 },
 "nbformat": 4,
 "nbformat_minor": 2
}
