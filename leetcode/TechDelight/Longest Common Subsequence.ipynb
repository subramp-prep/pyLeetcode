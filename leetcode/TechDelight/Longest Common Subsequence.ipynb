{
 "cells": [
  {
   "cell_type": "markdown",
   "metadata": {},
   "source": [
    "Find the longest common subsequence from 2 strings\n",
    "\n",
    "Input:\n",
    "```\n",
    "A : \"ABCBDAB\"\n",
    "B : \"BDCABA\"\n",
    "```\n",
    "\n",
    "Output:\n",
    "```\n",
    "BDAB\n",
    "BCBA\n",
    "BCAB\n",
    "```"
   ]
  },
  {
   "cell_type": "markdown",
   "metadata": {},
   "source": [
    "## Recursion"
   ]
  },
  {
   "cell_type": "code",
   "execution_count": 4,
   "metadata": {},
   "outputs": [],
   "source": [
    "def longestSubsequence(A, B, x, y):\n",
    "    if x == 0 or y == 0:\n",
    "        return 0\n",
    "    \n",
    "    if A[x-1] == B [y-1]:\n",
    "        return longestSubsequence(A, B, x-1, y-1) + 1\n",
    "    \n",
    "    return max(longestSubsequence(A, B, x-1, y), longestSubsequence(A, B, x, y-1))\n",
    "\n",
    "def longestSub(A, B):\n",
    "    return longestSubsequence(A, B, len(A), len(B))"
   ]
  },
  {
   "cell_type": "code",
   "execution_count": 5,
   "metadata": {},
   "outputs": [
    {
     "name": "stdout",
     "output_type": "stream",
     "text": [
      "4\n"
     ]
    }
   ],
   "source": [
    "print(longestSub(\"ABCBDAB\", \"BDCABA\"))"
   ]
  },
  {
   "cell_type": "markdown",
   "metadata": {},
   "source": [
    "## Recursion with Dynamic Programming (Top-Down)"
   ]
  },
  {
   "cell_type": "code",
   "execution_count": 10,
   "metadata": {},
   "outputs": [],
   "source": [
    "def longestSubsequenceDP(A, B, x, y, maps):\n",
    "    if x == 0 or y == 0:\n",
    "        return 0\n",
    "    \n",
    "    # update the map with indices for look-up\n",
    "    combination = str(x) + '|' + str(y)\n",
    "    \n",
    "    if combination not in maps:\n",
    "        \n",
    "        if A[x-1] == B[y-1]:\n",
    "            maps[combination] = longestSubsequenceDP(A, B, x-1, y-1, maps) + 1\n",
    "            \n",
    "        else:\n",
    "            maps[combination] = max(longestSubsequenceDP(A, B, x-1, y, maps), longestSubsequenceDP(A, B, x, y-1, maps))\n",
    "            \n",
    "    return maps[combination]\n",
    "\n",
    "def longestSubDP(A, B):\n",
    "    return longestSubsequenceDP(A, B, len(A), len(B), {})"
   ]
  },
  {
   "cell_type": "code",
   "execution_count": 11,
   "metadata": {},
   "outputs": [
    {
     "name": "stdout",
     "output_type": "stream",
     "text": [
      "4\n"
     ]
    }
   ],
   "source": [
    "print(longestSubDP(\"ABCBDAB\", \"BDCABA\"))"
   ]
  },
  {
   "cell_type": "markdown",
   "metadata": {},
   "source": [
    "## Recursion with Dynamic Programming (Bottom-Up)"
   ]
  },
  {
   "cell_type": "code",
   "execution_count": 12,
   "metadata": {},
   "outputs": [],
   "source": [
    "def longestCSDPTopDown(A, B):\n",
    "    x, y = len(A), len(B)\n",
    "\n",
    "    #create a look-up table to identify common characters\n",
    "    table = [[0 for _ in range(y+1)] for _ in range(x+1)]\n",
    "\n",
    "    for i in range(1, x+1):\n",
    "        for j in range(1, y+1):\n",
    "            try:\n",
    "                if A[i-1] == B[j-1]:\n",
    "                    table[i][j] = table[i-1][j-1] + 1\n",
    "                else:\n",
    "                    table[i][j] = max(table[i][j-1], table[i-1][j])\n",
    "            except:\n",
    "                print('i:', i, 'j:', j)\n",
    "\n",
    "    return table[x][y]"
   ]
  },
  {
   "cell_type": "code",
   "execution_count": 13,
   "metadata": {},
   "outputs": [
    {
     "name": "stdout",
     "output_type": "stream",
     "text": [
      "4\n"
     ]
    }
   ],
   "source": [
    "print(longestCSDPTopDown(\"ABCBDAB\", \"BDCABA\"))"
   ]
  }
 ],
 "metadata": {
  "kernelspec": {
   "display_name": "Python 3",
   "language": "python",
   "name": "python3"
  },
  "language_info": {
   "codemirror_mode": {
    "name": "ipython",
    "version": 3
   },
   "file_extension": ".py",
   "mimetype": "text/x-python",
   "name": "python",
   "nbconvert_exporter": "python",
   "pygments_lexer": "ipython3",
   "version": "3.7.1"
  }
 },
 "nbformat": 4,
 "nbformat_minor": 2
}
