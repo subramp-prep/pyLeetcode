{
 "cells": [
  {
   "cell_type": "markdown",
   "metadata": {},
   "source": [
    "Find the longest common subsequence from 2 strings\n",
    "\n",
    "Input:\n",
    "```\n",
    "A : \"ABCBDAB\"\n",
    "B : \"BDCABA\"\n",
    "```\n",
    "\n",
    "Output:\n",
    "```\n",
    "BDAB\n",
    "BCBA\n",
    "BCAB\n",
    "```"
   ]
  },
  {
   "cell_type": "markdown",
   "metadata": {},
   "source": [
    "## Recursion"
   ]
  },
  {
   "cell_type": "code",
   "execution_count": 4,
   "metadata": {},
   "outputs": [],
   "source": [
    "def longestSubsequence(A, B, x, y):\n",
    "    if x == 0 or y == 0:\n",
    "        return 0\n",
    "    \n",
    "    if A[x-1] == B [y-1]:\n",
    "        return longestSubsequence(A, B, x-1, y-1) + 1\n",
    "    \n",
    "    return max(longestSubsequence(A, B, x-1, y), longestSubsequence(A, B, x, y-1))\n",
    "\n",
    "def longestSub(A, B):\n",
    "    return longestSubsequence(A, B, len(A), len(B))"
   ]
  },
  {
   "cell_type": "code",
   "execution_count": 5,
   "metadata": {},
   "outputs": [
    {
     "name": "stdout",
     "output_type": "stream",
     "text": [
      "4\n"
     ]
    }
   ],
   "source": [
    "print(longestSub(\"ABCBDAB\", \"BDCABA\"))"
   ]
  },
  {
   "cell_type": "markdown",
   "metadata": {},
   "source": [
    "## Recursion with Dynamic Programming (Top-Down)"
   ]
  },
  {
   "cell_type": "code",
   "execution_count": 6,
   "metadata": {},
   "outputs": [],
   "source": [
    "def longestSubsequenceDP(A, B, x, y, maps):\n",
    "    if x == 0 or y == 0:\n",
    "        return 0\n",
    "    \n",
    "    combination = str(x) + '|' + str(y)\n",
    "    \n",
    "    if combination not in maps:\n",
    "        \n",
    "        if A[x-1] == B[y-1]:\n",
    "            maps[combination] = longestSubsequenceDP(A, B, x-1, y-1, maps)\n",
    "            \n",
    "        else:\n",
    "            maps[combination] = max(longestSubsequenceDP(A, B, x-1, y), longestSubsequenceDP(A, B, x, y-1))+1\n",
    "            \n",
    "    return maps[combination]\n",
    "\n",
    "def longestSubDP(A, B):\n",
    "    return longestSubsequenceDP(A, B, len(A), len(B), {})"
   ]
  },
  {
   "cell_type": "code",
   "execution_count": 7,
   "metadata": {},
   "outputs": [
    {
     "name": "stdout",
     "output_type": "stream",
     "text": [
      "4\n"
     ]
    }
   ],
   "source": [
    "print(longestSub(\"ABCBDAB\", \"BDCABA\"))"
   ]
  },
  {
   "cell_type": "markdown",
   "metadata": {},
   "source": [
    "## Recursion with Dynamic Programming (Bottom-Up)"
   ]
  },
  {
   "cell_type": "code",
   "execution_count": null,
   "metadata": {},
   "outputs": [],
   "source": []
  }
 ],
 "metadata": {
  "kernelspec": {
   "display_name": "Python 3",
   "language": "python",
   "name": "python3"
  },
  "language_info": {
   "codemirror_mode": {
    "name": "ipython",
    "version": 3
   },
   "file_extension": ".py",
   "mimetype": "text/x-python",
   "name": "python",
   "nbconvert_exporter": "python",
   "pygments_lexer": "ipython3",
   "version": "3.7.1"
  }
 },
 "nbformat": 4,
 "nbformat_minor": 2
}
