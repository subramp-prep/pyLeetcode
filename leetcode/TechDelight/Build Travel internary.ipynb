{
 "cells": [
  {
   "cell_type": "markdown",
   "metadata": {},
   "source": [
    "In this case we're simplifiying it to build a travel itinerary.\n",
    "You will build a travel itinerary from the countries given. Return the list in order from starting location to final ending location.\n",
    "\n",
    "There are no loops (Never visiting the same country twice).\n",
    "There are no dead ends.\n",
    "You may assume valid input.\n",
    "You are not given the starting location nor the ending location.\n",
    "\n",
    "\n",
    "INPUT:\n",
    "```\n",
    "travel = [\n",
    "    {\"origin\" : \"UK\", \"dest\" : \"MEX\"},\n",
    "    {\"origin\" : \"MEX\", \"dest\" : \"GER\"},\n",
    "    {\"origin\" : \"USA\", \"dest\" : \"CAN\"},\n",
    "    {\"origin\" : \"CAN\", \"dest\" : \"UK\"}\n",
    "];\n",
    "```\n",
    "\n",
    "OUTPUT:\n",
    "```\n",
    "['USA', 'CAN', 'UK', 'MEX', 'GER']\n",
    "```"
   ]
  },
  {
   "cell_type": "code",
   "execution_count": 2,
   "metadata": {},
   "outputs": [],
   "source": [
    "def travelIternary(segments):\n",
    "\n",
    "    output = []\n",
    "    sources = {}\n",
    "    destinations = {}\n",
    "    findSource = set()\n",
    "\n",
    "    for seg in segments:\n",
    "        source = seg['origin']\n",
    "        destination = seg['dest'] #reverse index, can be optimized\n",
    "\n",
    "        sources[source] = destination\n",
    "        destinations[destination] = source\n",
    "\n",
    "        if destination in findSource:\n",
    "            findSource.remove(destination)\n",
    "\n",
    "        findSource.add(source)\n",
    "\n",
    "    # Intution: only one source can be in the input\n",
    "    for elem in destinations:\n",
    "        if elem in findSource:\n",
    "            findSource.remove(elem)\n",
    "\n",
    "    output.append(findSource.pop())\n",
    "\n",
    "    while len(sources) > 0:\n",
    "        sou = output[-1]\n",
    "        output.append(sources[sou])\n",
    "        sources.pop(sou)\n",
    "\n",
    "    return output"
   ]
  },
  {
   "cell_type": "code",
   "execution_count": 4,
   "metadata": {},
   "outputs": [
    {
     "name": "stdout",
     "output_type": "stream",
     "text": [
      "['USA', 'CAN', 'UK', 'MEX', 'GER']\n"
     ]
    }
   ],
   "source": [
    "travel = [\n",
    "    {\"origin\" : \"UK\", \"dest\" : \"MEX\"},\n",
    "    {\"origin\" : \"MEX\", \"dest\" : \"GER\"},\n",
    "    {\"origin\" : \"USA\", \"dest\" : \"CAN\"},\n",
    "    {\"origin\" : \"CAN\", \"dest\" : \"UK\"}\n",
    "];\n",
    "\n",
    "print(travelIternary(travel))"
   ]
  },
  {
   "cell_type": "code",
   "execution_count": null,
   "metadata": {},
   "outputs": [],
   "source": []
  }
 ],
 "metadata": {
  "kernelspec": {
   "display_name": "Python 3",
   "language": "python",
   "name": "python3"
  },
  "language_info": {
   "codemirror_mode": {
    "name": "ipython",
    "version": 3
   },
   "file_extension": ".py",
   "mimetype": "text/x-python",
   "name": "python",
   "nbconvert_exporter": "python",
   "pygments_lexer": "ipython3",
   "version": "3.7.1"
  }
 },
 "nbformat": 4,
 "nbformat_minor": 2
}
