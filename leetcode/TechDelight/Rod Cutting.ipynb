{
 "cells": [
  {
   "cell_type": "markdown",
   "metadata": {},
   "source": [
    "Given a rod of length n inches and an array of prices \n",
    "that contains prices of all pieces of size smaller than n. \n",
    "Determine the maximum value obtainable by cutting up the \n",
    "rod and selling the pieces. For example, if length of the \n",
    "rod is 8 and the values of different pieces are given as \n",
    "following, then the maximum obtainable value is 22 (by \n",
    "cutting in two pieces of lengths 2 and 6)\n",
    "\n",
    "\n",
    "```\n",
    "length   | 1   2   3   4   5   6   7   8  \n",
    "price    | 1   5   8   9  10  17  17  20\n",
    "```"
   ]
  },
  {
   "cell_type": "code",
   "execution_count": 1,
   "metadata": {},
   "outputs": [],
   "source": [
    "def rodcutting_trial(length, price):\n",
    "    output = []\n",
    "\n",
    "    def helper(chosen, rodValue):\n",
    "        if sum(chosen) > length:\n",
    "            return\n",
    "\n",
    "        if sum(chosen) == length:\n",
    "            output.append(rodValue)\n",
    "            \n",
    "        else:\n",
    "            for i in range(1, len(price)):\n",
    "                helper(chosen + [i], rodValue + price[i-1])\n",
    "\n",
    "    helper([], 0)\n",
    "\n",
    "    return max(output)"
   ]
  },
  {
   "cell_type": "code",
   "execution_count": 3,
   "metadata": {},
   "outputs": [
    {
     "name": "stdout",
     "output_type": "stream",
     "text": [
      "10\n"
     ]
    }
   ],
   "source": [
    "print(rodcutting_trial(4, [1,5,8,9,10,17,17,20]))"
   ]
  },
  {
   "cell_type": "code",
   "execution_count": 4,
   "metadata": {},
   "outputs": [],
   "source": [
    "def rodCut(prices, length):\n",
    "\n",
    "    if length <= 0:\n",
    "        return 0\n",
    "\n",
    "    maxValue = float('-inf')\n",
    "\n",
    "    for i in range(1, length+1):\n",
    "        maxValue = max(maxValue, prices[i-1] + rodCut(prices, length-i))\n",
    "\n",
    "    return maxValue"
   ]
  },
  {
   "cell_type": "code",
   "execution_count": 7,
   "metadata": {},
   "outputs": [
    {
     "name": "stdout",
     "output_type": "stream",
     "text": [
      "10\n"
     ]
    }
   ],
   "source": [
    "print(rodCut([1,5,8,9,10,17,17,20], 4))"
   ]
  },
  {
   "cell_type": "code",
   "execution_count": null,
   "metadata": {},
   "outputs": [],
   "source": []
  }
 ],
 "metadata": {
  "kernelspec": {
   "display_name": "Python 3",
   "language": "python",
   "name": "python3"
  },
  "language_info": {
   "codemirror_mode": {
    "name": "ipython",
    "version": 3
   },
   "file_extension": ".py",
   "mimetype": "text/x-python",
   "name": "python",
   "nbconvert_exporter": "python",
   "pygments_lexer": "ipython3",
   "version": "3.7.6"
  }
 },
 "nbformat": 4,
 "nbformat_minor": 2
}
