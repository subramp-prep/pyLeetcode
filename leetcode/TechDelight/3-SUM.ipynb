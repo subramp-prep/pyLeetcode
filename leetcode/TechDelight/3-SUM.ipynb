{
 "cells": [
  {
   "cell_type": "markdown",
   "metadata": {},
   "source": [
    "Find triplet with given sum in an array\n",
    "\n",
    "**Example:**\n",
    "```\n",
    "Input [2,7,4,0,9,5,1,3] Sum 6\n",
    "Output [0,1,5], [2,1,3], [0,2,4]\n",
    "```"
   ]
  },
  {
   "cell_type": "code",
   "execution_count": 3,
   "metadata": {},
   "outputs": [],
   "source": [
    "def threeSum(nums, totSum):\n",
    "    nums = sorted(nums)\n",
    "    for i in range(len(nums)-1):\n",
    "        j = i+1\n",
    "        k = len(nums)-1\n",
    "        while j < k:\n",
    "            currSum = nums[i] + nums[j] + nums[k]\n",
    "            if currSum < totSum: \n",
    "                j += 1\n",
    "            elif currSum > totSum:\n",
    "                k -= 1\n",
    "            else:\n",
    "                print('Found:', nums[i], nums[j], nums[k])\n",
    "                j += 1\n",
    "                k -= 1"
   ]
  },
  {
   "cell_type": "code",
   "execution_count": 4,
   "metadata": {},
   "outputs": [
    {
     "name": "stdout",
     "output_type": "stream",
     "text": [
      "Found: 0 1 5\n",
      "Found: 0 2 4\n",
      "Found: 1 2 3\n"
     ]
    }
   ],
   "source": [
    "threeSum([2,7,4,0,9,5,1,3], 6)"
   ]
  },
  {
   "cell_type": "code",
   "execution_count": null,
   "metadata": {},
   "outputs": [],
   "source": []
  }
 ],
 "metadata": {
  "kernelspec": {
   "display_name": "Python 3",
   "language": "python",
   "name": "python3"
  },
  "language_info": {
   "codemirror_mode": {
    "name": "ipython",
    "version": 3
   },
   "file_extension": ".py",
   "mimetype": "text/x-python",
   "name": "python",
   "nbconvert_exporter": "python",
   "pygments_lexer": "ipython3",
   "version": "3.7.1"
  }
 },
 "nbformat": 4,
 "nbformat_minor": 2
}
