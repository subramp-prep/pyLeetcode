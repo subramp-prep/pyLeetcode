{
 "cells": [
  {
   "cell_type": "markdown",
   "metadata": {},
   "source": [
    "Given a sorted array, find the smallest missing number\n",
    "\n",
    "Example 1:\n",
    "```\n",
    "Input: [0,1,2,6,9,11,15]\n",
    "Output: 3\n",
    "```\n",
    "\n",
    "Example 2:\n",
    "```\n",
    "Input: [0,1,2,3]\n",
    "Output: 4\n",
    "```"
   ]
  },
  {
   "cell_type": "code",
   "execution_count": 7,
   "metadata": {},
   "outputs": [],
   "source": [
    "def smallestMissing(nums):\n",
    "    \n",
    "    def helper(l, h):\n",
    "        \n",
    "        if l > h:\n",
    "            return l\n",
    "        \n",
    "        m = (l+h)//2\n",
    "        \n",
    "        if nums[m] == m:\n",
    "            # missing in right part\n",
    "            return helper(m+1, h)\n",
    "        else:\n",
    "            # missing element in left part\n",
    "            return helper(l, m-1)\n",
    "        \n",
    "    return helper(0, len(nums)-1)"
   ]
  },
  {
   "cell_type": "code",
   "execution_count": 8,
   "metadata": {},
   "outputs": [
    {
     "name": "stdout",
     "output_type": "stream",
     "text": [
      "3\n"
     ]
    }
   ],
   "source": [
    "print(smallestMissing([0,1,2,6,9,11,15]))"
   ]
  },
  {
   "cell_type": "code",
   "execution_count": 9,
   "metadata": {},
   "outputs": [
    {
     "name": "stdout",
     "output_type": "stream",
     "text": [
      "4\n"
     ]
    }
   ],
   "source": [
    "print(smallestMissing([0,1,2,3]))"
   ]
  }
 ],
 "metadata": {
  "kernelspec": {
   "display_name": "Python 3",
   "language": "python",
   "name": "python3"
  },
  "language_info": {
   "codemirror_mode": {
    "name": "ipython",
    "version": 3
   },
   "file_extension": ".py",
   "mimetype": "text/x-python",
   "name": "python",
   "nbconvert_exporter": "python",
   "pygments_lexer": "ipython3",
   "version": "3.7.1"
  }
 },
 "nbformat": 4,
 "nbformat_minor": 2
}
