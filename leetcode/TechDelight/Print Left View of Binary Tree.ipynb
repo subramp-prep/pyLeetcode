{
 "cells": [
  {
   "cell_type": "markdown",
   "metadata": {},
   "source": [
    "Given a binary tree, print left view of it. Assume, the left and right child of a node makes 45 degree angle with the parent\n",
    "\n",
    "For example, bottom view of below tree is **1,2,5,7**\n",
    "\n",
    "![axisBT](img/BTAxis.png)"
   ]
  },
  {
   "cell_type": "code",
   "execution_count": 3,
   "metadata": {},
   "outputs": [],
   "source": [
    "# Hint, similar to print bottom view of Binary tree, except output would have lower level\n",
    "\n",
    "class Treenode:\n",
    "    def __init__(self, val):\n",
    "        self.val = val\n",
    "        self.left = None\n",
    "        self.right = None\n",
    "        \n",
    "def buildTree(nums, index, root):\n",
    "    if index < len(nums) and nums[index]:\n",
    "        root = Treenode(nums[index])\n",
    "        root.left = buildTree(nums, 2*index+1, root.left)\n",
    "        root.right = buildTree(nums, 2*index+2, root.right)\n",
    "        \n",
    "    return root\n",
    "\n",
    "def printBottom(root):\n",
    "    nodePositionMap = {}\n",
    "    \n",
    "    helper(root, 0, nodePositionMap)\n",
    "    \n",
    "    return nodePositionMap\n",
    "\n",
    "def helper(root, level, nodePositionMap):\n",
    "    if not root:\n",
    "        return\n",
    "    \n",
    "    if level not in nodePositionMap:\n",
    "        nodePositionMap[level] = root.val\n",
    "    \n",
    "    helper(root.left, level+1, nodePositionMap)\n",
    "    helper(root.right, level+1, nodePositionMap)"
   ]
  },
  {
   "cell_type": "code",
   "execution_count": 4,
   "metadata": {},
   "outputs": [
    {
     "name": "stdout",
     "output_type": "stream",
     "text": [
      "{0: 1, 1: 2, 2: 5, 3: 7}\n"
     ]
    }
   ],
   "source": [
    "nums = [1,2,3,None, None, 5, 6, None, None,None, None,7,8]\n",
    "root = buildTree(nums, 0, None)\n",
    "\n",
    "print(printBottom(root))"
   ]
  }
 ],
 "metadata": {
  "kernelspec": {
   "display_name": "Python 3",
   "language": "python",
   "name": "python3"
  },
  "language_info": {
   "codemirror_mode": {
    "name": "ipython",
    "version": 3
   },
   "file_extension": ".py",
   "mimetype": "text/x-python",
   "name": "python",
   "nbconvert_exporter": "python",
   "pygments_lexer": "ipython3",
   "version": "3.7.1"
  }
 },
 "nbformat": 4,
 "nbformat_minor": 2
}
