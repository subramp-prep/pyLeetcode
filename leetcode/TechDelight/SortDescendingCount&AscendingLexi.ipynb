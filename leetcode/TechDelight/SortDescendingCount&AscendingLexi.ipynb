{
 "cells": [
  {
   "cell_type": "markdown",
   "metadata": {},
   "source": [
    "Sort text in descending count and ascending lexiographically"
   ]
  },
  {
   "cell_type": "code",
   "execution_count": 13,
   "metadata": {},
   "outputs": [
    {
     "name": "stdout",
     "output_type": "stream",
     "text": [
      "[('the', 5), ('charge', 4), ('to', 4), ('a', 3), ('fitbit', 3), ('and', 2), ('can', 2), ('if', 2), ('is', 2), ('it', 2), ('up', 2), ('you’re', 2), ('2,', 1), ('3', 1), ('50', 1), ('7', 1), ('activity', 1), ('activity,', 1), ('also', 1), ('an', 1), ('any', 1), ('at', 1), ('battery', 1), ('comes', 1), ('cycles,', 1), ('days', 1), ('device.', 1), ('display', 1), ('easier', 1), ('even', 1), ('excellent', 1), ('fitness', 1), ('for', 1), ('full', 1), ('given', 1), ('go', 1), ('heart', 1), ('however,', 1), ('in', 1), ('its', 1), ('life.', 1), ('line', 1), ('long-lasting', 1), ('looking', 1), ('makes', 1), ('making', 1), ('meters', 1), ('model', 1), ('needing', 1), ('newest', 1), ('of', 1), ('option.', 1), ('pick', 1), ('purpose', 1), ('rate', 1), ('resistance', 1), ('sleep', 1), ('so', 1), ('sole', 1), ('swimming.', 1), ('this', 1), ('time.', 1), ('touchscreen', 1), ('track', 1), ('tracker', 1), ('tracking,', 1), ('unlike', 1), ('use', 1), ('valuable,', 1), ('water', 1), ('what', 1), ('with', 1), ('without', 1), ('you', 1), ('your', 1), ('—', 1)]\n"
     ]
    }
   ],
   "source": [
    "import collections\n",
    "import string\n",
    "\n",
    "text = \\\n",
    "'''\n",
    "If you’re looking to pick up a Fitbit for the sole purpose of activity tracking, \n",
    "the newest model in the Fitbit Charge line is an excellent option. The Fitbit Charge \n",
    "3 can track activity, sleep cycles, and heart rate at any given time. Unlike the Charge 2, \n",
    "it also comes with a touchscreen display and water resistance up to 50 meters — making \n",
    "it easier to use even if you’re swimming. What makes this fitness tracker so valuable, \n",
    "however, is its long-lasting battery life. You can go a full 7 days without needing to charge your device.\n",
    "'''\n",
    "\n",
    "def sortParagraph(s):\n",
    "    count = collections.Counter(s.lower().strip(string.punctuation).replace('\\n', '').split(' '))\n",
    "    return sorted(count.items(), key= lambda x: (-x[1],x[0]))\n",
    "    \n",
    "    \n",
    "print(sortParagraph(text))"
   ]
  },
  {
   "cell_type": "code",
   "execution_count": null,
   "metadata": {},
   "outputs": [],
   "source": []
  },
  {
   "cell_type": "code",
   "execution_count": null,
   "metadata": {},
   "outputs": [],
   "source": []
  }
 ],
 "metadata": {
  "kernelspec": {
   "display_name": "Python 3",
   "language": "python",
   "name": "python3"
  },
  "language_info": {
   "codemirror_mode": {
    "name": "ipython",
    "version": 3
   },
   "file_extension": ".py",
   "mimetype": "text/x-python",
   "name": "python",
   "nbconvert_exporter": "python",
   "pygments_lexer": "ipython3",
   "version": "3.7.1"
  }
 },
 "nbformat": 4,
 "nbformat_minor": 2
}
