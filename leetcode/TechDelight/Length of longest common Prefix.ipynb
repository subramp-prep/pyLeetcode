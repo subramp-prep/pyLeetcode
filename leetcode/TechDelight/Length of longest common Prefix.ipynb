{
 "cells": [
  {
   "cell_type": "markdown",
   "metadata": {},
   "source": [
    "Identify length of longes common prefix from an array of strings\n",
    "\n",
    "```\n",
    "words = ['basic', 'anchor', 'bass', 'bandage', 'anchovy', 'cat', 'car', 'cats', 'cars']\n",
    "```"
   ]
  },
  {
   "cell_type": "code",
   "execution_count": 13,
   "metadata": {},
   "outputs": [],
   "source": [
    "class Trie:\n",
    "    def __init__(self):\n",
    "        self.children = {}\n",
    "        self.value = None\n",
    "        self.visitCount = 0\n",
    "        self.isLeaf = False\n",
    "\n",
    "def insert(root, word):\n",
    "    temp = root\n",
    "\n",
    "    for v in word:\n",
    "        if v not in temp.children:\n",
    "            temp.children[v] = Trie()\n",
    "            \n",
    "        temp.visitCount += 1\n",
    "        temp = temp.children[v]\n",
    "\n",
    "    temp.value = word\n",
    "    temp.isLeaf = True\n",
    "\n",
    "    return root\n",
    "\n",
    "def longestCommonPrefix(maps):\n",
    "    maxLength = float('-inf')\n",
    "    prefix = ''\n",
    "\n",
    "    for k, v in maps.items():\n",
    "        \n",
    "        length = 0\n",
    "        s = ''\n",
    "        while v and len(v.children) == 1:\n",
    "            \n",
    "            value = next(iter(v.children))\n",
    "            v = v.children[value]\n",
    "            length += 1\n",
    "            s = s + value\n",
    "\n",
    "        maxLength = max(length, maxLength)\n",
    "        if len(s) == maxLength:\n",
    "            prefix = s\n",
    "    \n",
    "    return (prefix, maxLength)"
   ]
  },
  {
   "cell_type": "code",
   "execution_count": 14,
   "metadata": {},
   "outputs": [
    {
     "name": "stdout",
     "output_type": "stream",
     "text": [
      "('ancho', 5)\n"
     ]
    }
   ],
   "source": [
    "maps = {}\n",
    "words = ['basic', 'anchor', 'bass', 'bandage', 'anchovy', 'cat', 'car', 'cats', 'cars']\n",
    "\n",
    "for word in words:\n",
    "\n",
    "    wordTrie = None\n",
    "    if word[0] not in maps:\n",
    "        wordTrie = Trie()\n",
    "        maps[word[0]] = wordTrie\n",
    "    else:\n",
    "        wordTrie = maps[word[0]]\n",
    "\n",
    "    insert(wordTrie, word)\n",
    "\n",
    "print(longestCommonPrefix(maps))"
   ]
  }
 ],
 "metadata": {
  "kernelspec": {
   "display_name": "Python 3",
   "language": "python",
   "name": "python3"
  },
  "language_info": {
   "codemirror_mode": {
    "name": "ipython",
    "version": 3
   },
   "file_extension": ".py",
   "mimetype": "text/x-python",
   "name": "python",
   "nbconvert_exporter": "python",
   "pygments_lexer": "ipython3",
   "version": "3.7.1"
  }
 },
 "nbformat": 4,
 "nbformat_minor": 2
}
