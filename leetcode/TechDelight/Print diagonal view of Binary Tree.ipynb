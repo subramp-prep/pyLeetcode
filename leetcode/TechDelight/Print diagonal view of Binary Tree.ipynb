{
 "cells": [
  {
   "cell_type": "markdown",
   "metadata": {},
   "source": [
    "Print diagonal view of Binary Tree\n",
    "\n",
    "\n",
    "![diagonalBT](img/Diagonal-Traversal-Binary-Tree.png)\n",
    "\n",
    "```\n",
    "Time complexity O(n log n)\n",
    "Space complexity O(n)\n",
    "```"
   ]
  },
  {
   "cell_type": "code",
   "execution_count": 5,
   "metadata": {},
   "outputs": [],
   "source": [
    "class TreeNode:\n",
    "    def __init__(self, val, left=None, right=None):\n",
    "        self.val = val\n",
    "        self.left = left\n",
    "        self.right = right\n",
    "\n",
    "def diagonalTreeTraversal(root):\n",
    "\n",
    "    maps= {}\n",
    "\n",
    "    def helper(head, diagonal):\n",
    "        if head:\n",
    "            maps[diagonal] = maps.setdefault(diagonal, []) + [head.val]\n",
    "\n",
    "            helper(head.left, diagonal + 1)\n",
    "            helper(head.right, diagonal)\n",
    "\n",
    "    helper(root, 0)\n",
    "    return maps"
   ]
  },
  {
   "cell_type": "code",
   "execution_count": 6,
   "metadata": {},
   "outputs": [
    {
     "name": "stdout",
     "output_type": "stream",
     "text": [
      "{0: [1, 3, 6], 1: [2, 5, 8], 2: [4, 7]}\n"
     ]
    }
   ],
   "source": [
    "root = TreeNode(1, TreeNode(2, TreeNode(4)), TreeNode(3, TreeNode(5, TreeNode(7), TreeNode(8)), TreeNode(6)))\n",
    "print(diagonalTreeTraversal(root))"
   ]
  }
 ],
 "metadata": {
  "kernelspec": {
   "display_name": "Python 3",
   "language": "python",
   "name": "python3"
  },
  "language_info": {
   "codemirror_mode": {
    "name": "ipython",
    "version": 3
   },
   "file_extension": ".py",
   "mimetype": "text/x-python",
   "name": "python",
   "nbconvert_exporter": "python",
   "pygments_lexer": "ipython3",
   "version": "3.7.6"
  }
 },
 "nbformat": 4,
 "nbformat_minor": 2
}
