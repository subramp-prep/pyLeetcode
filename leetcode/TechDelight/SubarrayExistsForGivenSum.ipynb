{
 "cells": [
  {
   "cell_type": "markdown",
   "metadata": {},
   "source": [
    "Given an array of integers, find a subarray having given sum in it\n",
    "\n",
    "**Example 1**\n",
    "```\n",
    "Input: {2,6,0,9,7,3,1,4,1,10} sum: 15\n",
    "Output: Subarray {6,0,9} exists with sum 15\n",
    "```\n",
    "\n",
    "**Example 2**\n",
    "```\n",
    "Input: {0,5,-7,1,-4,7,6,1,4,1,10} sum: -3\n",
    "Output: Subarray {6,0,9} exists with sum -3\n",
    "```"
   ]
  },
  {
   "cell_type": "code",
   "execution_count": 4,
   "metadata": {},
   "outputs": [],
   "source": [
    "def subArrayExists(nums, target):\n",
    "    hashSet = set()\n",
    "    sumSoFar = 0\n",
    "    \n",
    "    print('Target:', target, end='\\n\\n')\n",
    "    for num in nums:\n",
    "        print('num:', num, end='\\t')\n",
    "        \n",
    "        sumSoFar += num\n",
    "        print('sumSoFar:', sumSoFar, end='\\t')\n",
    "        \n",
    "        print('sumSoFar-target = diffSoFar:', sumSoFar-target)\n",
    "        if sumSoFar - target in hashSet:\n",
    "            return True\n",
    "        \n",
    "        hashSet.add(sumSoFar)\n",
    "        \n",
    "    return False"
   ]
  },
  {
   "cell_type": "code",
   "execution_count": 5,
   "metadata": {},
   "outputs": [
    {
     "name": "stdout",
     "output_type": "stream",
     "text": [
      "Target: 15\n",
      "\n",
      "num: 2\tsumSoFar: 2\tsumSoFar-target = diffSoFar: -13\n",
      "num: 6\tsumSoFar: 8\tsumSoFar-target = diffSoFar: -7\n",
      "num: 0\tsumSoFar: 8\tsumSoFar-target = diffSoFar: -7\n",
      "num: 9\tsumSoFar: 17\tsumSoFar-target = diffSoFar: 2\n",
      "True\n"
     ]
    }
   ],
   "source": [
    "print(subArrayExists([2,6,0,9,7,3,1,4,1,10], 15))"
   ]
  },
  {
   "cell_type": "code",
   "execution_count": 6,
   "metadata": {},
   "outputs": [
    {
     "name": "stdout",
     "output_type": "stream",
     "text": [
      "Target: -3\n",
      "\n",
      "num: 0\tsumSoFar: 0\tsumSoFar-target = diffSoFar: 3\n",
      "num: 5\tsumSoFar: 5\tsumSoFar-target = diffSoFar: 8\n",
      "num: -7\tsumSoFar: -2\tsumSoFar-target = diffSoFar: 1\n",
      "num: 1\tsumSoFar: -1\tsumSoFar-target = diffSoFar: 2\n",
      "num: -4\tsumSoFar: -5\tsumSoFar-target = diffSoFar: -2\n",
      "True\n"
     ]
    }
   ],
   "source": [
    "print(subArrayExists([0,5,-7,1,-4,7,6,1,4,1,10], -3))"
   ]
  },
  {
   "cell_type": "code",
   "execution_count": null,
   "metadata": {},
   "outputs": [],
   "source": []
  }
 ],
 "metadata": {
  "kernelspec": {
   "display_name": "Python 3",
   "language": "python",
   "name": "python3"
  },
  "language_info": {
   "codemirror_mode": {
    "name": "ipython",
    "version": 3
   },
   "file_extension": ".py",
   "mimetype": "text/x-python",
   "name": "python",
   "nbconvert_exporter": "python",
   "pygments_lexer": "ipython3",
   "version": "3.7.1"
  }
 },
 "nbformat": 4,
 "nbformat_minor": 2
}
