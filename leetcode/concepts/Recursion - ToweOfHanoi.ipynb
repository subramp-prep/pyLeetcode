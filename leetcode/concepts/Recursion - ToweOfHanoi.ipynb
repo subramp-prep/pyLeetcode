{
 "cells": [
  {
   "cell_type": "markdown",
   "metadata": {},
   "source": [
    "# Implement Tower of Hanoi"
   ]
  },
  {
   "cell_type": "code",
   "execution_count": 10,
   "metadata": {},
   "outputs": [
    {
     "name": "stdout",
     "output_type": "stream",
     "text": [
      "Moving disk:  1 from  A  to  C\n",
      "Moving disk:  2 from  A  to  B\n",
      "Moving disk:  1 from  C  to  B\n"
     ]
    }
   ],
   "source": [
    "def Move(disks, start, end, aux):\n",
    "    if(disks == 1):\n",
    "        print(\"Moving disk: \", disks, \"from \", start , \" to \", end)\n",
    "        return\n",
    "        \n",
    "    Move(disks-1, start, aux, end)\n",
    "    print(\"Moving disk: \", disks, \"from \", start , \" to \", end)\n",
    "    Move(disks-1, aux, end, start)\n",
    "    \n",
    "Move(2, 'A', 'B', 'C')"
   ]
  },
  {
   "cell_type": "code",
   "execution_count": null,
   "metadata": {},
   "outputs": [],
   "source": []
  }
 ],
 "metadata": {
  "kernelspec": {
   "display_name": "Python 3",
   "language": "python",
   "name": "python3"
  },
  "language_info": {
   "codemirror_mode": {
    "name": "ipython",
    "version": 3
   },
   "file_extension": ".py",
   "mimetype": "text/x-python",
   "name": "python",
   "nbconvert_exporter": "python",
   "pygments_lexer": "ipython3",
   "version": "3.7.0"
  }
 },
 "nbformat": 4,
 "nbformat_minor": 2
}
