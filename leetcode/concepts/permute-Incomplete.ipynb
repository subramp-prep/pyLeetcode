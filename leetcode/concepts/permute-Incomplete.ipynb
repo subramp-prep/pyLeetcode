{
 "cells": [
  {
   "cell_type": "code",
   "execution_count": null,
   "metadata": {},
   "outputs": [],
   "source": [
    "def permuteString(s):\n",
    "    output = []\n",
    "    chosen = ''\n",
    "    permute(s, chosen, output)\n",
    "    return output\n",
    "\n",
    "def permute(s, chosen, out):\n",
    "    if len(s) == 0:\n",
    "        out.append(chosen)\n",
    "    else :\n",
    "        for i, a in s:\n",
    "            chosen = string\n",
    "    "
   ]
  }
 ],
 "metadata": {
  "kernelspec": {
   "display_name": "Python 3",
   "language": "python",
   "name": "python3"
  },
  "language_info": {
   "codemirror_mode": {
    "name": "ipython",
    "version": 3
   },
   "file_extension": ".py",
   "mimetype": "text/x-python",
   "name": "python",
   "nbconvert_exporter": "python",
   "pygments_lexer": "ipython3",
   "version": "3.7.0"
  }
 },
 "nbformat": 4,
 "nbformat_minor": 2
}
