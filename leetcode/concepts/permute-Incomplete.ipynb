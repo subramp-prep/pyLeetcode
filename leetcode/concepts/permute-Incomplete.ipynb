{
 "cells": [
  {
   "cell_type": "code",
   "execution_count": 14,
   "metadata": {},
   "outputs": [],
   "source": [
    "def permuteMultiply(nums, k):\n",
    "    chosen = []\n",
    "    used = []\n",
    "    output = []\n",
    "    nums = sorted(nums)\n",
    "    \n",
    "    for x in nums:\n",
    "        used.append(False)\n",
    "    \n",
    "    def helper(nums, chosen, used, output):\n",
    "        if len(chosen) == len(nums):\n",
    "            output.append(chosen.copy())\n",
    "            #product = 1\n",
    "            #for x in chosen:\n",
    "            #    product *= x\n",
    "            #    if product > largest:\n",
    "            #        return chosen\n",
    "        else:\n",
    "            for i in range(len(nums)):\n",
    "                if used[i] or i > 0 and nums[i] == nums[i-1] and used[i-1] == False:\n",
    "                        continue\n",
    "                \n",
    "                chosen.append(nums[i])\n",
    "                used[i] = True\n",
    "                \n",
    "                helper(nums, chosen, used, output)\n",
    "                \n",
    "                used[i] = False\n",
    "                chosen.pop()\n",
    "    \n",
    "    helper(nums, chosen, used, output)\n",
    "    return output\n",
    "    "
   ]
  },
  {
   "cell_type": "code",
   "execution_count": 15,
   "metadata": {},
   "outputs": [
    {
     "name": "stdout",
     "output_type": "stream",
     "text": [
      "[[-10, -10, 2, 5], [-10, -10, 5, 2], [-10, 2, -10, 5], [-10, 2, 5, -10], [-10, 5, -10, 2], [-10, 5, 2, -10], [2, -10, -10, 5], [2, -10, 5, -10], [2, 5, -10, -10], [5, -10, -10, 2], [5, -10, 2, -10], [5, 2, -10, -10]]\n"
     ]
    }
   ],
   "source": [
    "print(permuteMultiply([-10, -10, 5, 2], 3))"
   ]
  },
  {
   "cell_type": "code",
   "execution_count": null,
   "metadata": {},
   "outputs": [],
   "source": []
  }
 ],
 "metadata": {
  "kernelspec": {
   "display_name": "Python 3",
   "language": "python",
   "name": "python3"
  },
  "language_info": {
   "codemirror_mode": {
    "name": "ipython",
    "version": 3
   },
   "file_extension": ".py",
   "mimetype": "text/x-python",
   "name": "python",
   "nbconvert_exporter": "python",
   "pygments_lexer": "ipython3",
   "version": "3.7.1"
  }
 },
 "nbformat": 4,
 "nbformat_minor": 2
}
