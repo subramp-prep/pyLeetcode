{
 "cells": [
  {
   "cell_type": "code",
   "execution_count": 1,
   "metadata": {},
   "outputs": [],
   "source": [
    "class DLNode:\n",
    "    def __init__(self, val, prev=None, next=None, child=None):\n",
    "        self.val = val\n",
    "        self.prev = prev\n",
    "        self.next = next\n",
    "        self.child = child\n",
    "        \n",
    "def buildDoubleLL(nums):\n",
    "    \n",
    "    temp = result = DLNode(-1)\n",
    "    prev = None\n",
    "\n",
    "    for num in nums:\n",
    "        node = DLNode(num)\n",
    "        \n",
    "        node.prev = prev\n",
    "        prev = node\n",
    "        \n",
    "        temp.next = node\n",
    "        temp = temp.next\n",
    "\n",
    "    return result.next"
   ]
  },
  {
   "cell_type": "code",
   "execution_count": 2,
   "metadata": {},
   "outputs": [
    {
     "name": "stdout",
     "output_type": "stream",
     "text": [
      "<__main__.DLNode object at 0x10fbc1350>\n"
     ]
    }
   ],
   "source": [
    "doubleLL = buildDoubleLL([1,2,3,4,5])\n",
    "print(doubleLL)"
   ]
  },
  {
   "cell_type": "code",
   "execution_count": null,
   "metadata": {},
   "outputs": [],
   "source": []
  }
 ],
 "metadata": {
  "kernelspec": {
   "display_name": "Python 3",
   "language": "python",
   "name": "python3"
  },
  "language_info": {
   "codemirror_mode": {
    "name": "ipython",
    "version": 3
   },
   "file_extension": ".py",
   "mimetype": "text/x-python",
   "name": "python",
   "nbconvert_exporter": "python",
   "pygments_lexer": "ipython3",
   "version": "3.7.6"
  }
 },
 "nbformat": 4,
 "nbformat_minor": 4
}
