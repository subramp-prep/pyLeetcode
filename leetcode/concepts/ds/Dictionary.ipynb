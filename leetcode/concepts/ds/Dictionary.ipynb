{
 "cells": [
  {
   "cell_type": "markdown",
   "metadata": {},
   "source": [
    "## Merge 2 dictionaries"
   ]
  },
  {
   "cell_type": "code",
   "execution_count": null,
   "metadata": {},
   "outputs": [],
   "source": [
    "m1 = {'a': 1, 'b': 2}\n",
    "m2 = {'b': 3, 'c': 4}\n",
    "\n",
    "m3 = {**m1, **m2}\n",
    "\n",
    "print(m3)"
   ]
  },
  {
   "cell_type": "code",
   "execution_count": 1,
   "metadata": {},
   "outputs": [
    {
     "name": "stdout",
     "output_type": "stream",
     "text": [
      "Keys: dict_keys(['a', 'b'])\n",
      "Values: dict_values(['a', 'b'])\n"
     ]
    }
   ],
   "source": [
    "d = {'a':'a', 'b':'b'}\n",
    "\n",
    "print('Keys:', d.keys())\n",
    "print('Values:', d.values())"
   ]
  },
  {
   "cell_type": "code",
   "execution_count": 5,
   "metadata": {},
   "outputs": [
    {
     "name": "stdout",
     "output_type": "stream",
     "text": [
      "for_loop\n",
      "23 2 45 27 18  \n",
      "for_index\n",
      "0:23 1:2 2:45 3:27 4:18  \n",
      "for_range\n",
      "1 2 3 4 5 6 7 8 9  \n"
     ]
    }
   ],
   "source": [
    "def for_loop(nums):\n",
    "    print('for_loop')\n",
    "    for num in nums:\n",
    "        print(num, end = ' ')\n",
    "    print(' ')\n",
    "        \n",
    "def for_index(nums):\n",
    "    print('for_index')\n",
    "    #for i, num in nums:\n",
    "    for i, num in enumerate(nums):\n",
    "        print('{}:{}'.format(i, num), end = ' ')\n",
    "    print(' ')\n",
    "        \n",
    "def for_range():\n",
    "    print('for_range')\n",
    "    for i in range(1, 10):\n",
    "        print(i, end = ' ')\n",
    "    print(' ')\n",
    "        \n",
    "nums = [23, 2, 45, 27, 18]\n",
    "\n",
    "for_loop(nums)\n",
    "for_index(nums)\n",
    "for_range()"
   ]
  },
  {
   "cell_type": "code",
   "execution_count": null,
   "metadata": {},
   "outputs": [],
   "source": []
  }
 ],
 "metadata": {
  "kernelspec": {
   "display_name": "Python 3",
   "language": "python",
   "name": "python3"
  },
  "language_info": {
   "codemirror_mode": {
    "name": "ipython",
    "version": 3
   },
   "file_extension": ".py",
   "mimetype": "text/x-python",
   "name": "python",
   "nbconvert_exporter": "python",
   "pygments_lexer": "ipython3",
   "version": "3.7.0"
  }
 },
 "nbformat": 4,
 "nbformat_minor": 2
}
