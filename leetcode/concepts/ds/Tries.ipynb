{
 "cells": [
  {
   "cell_type": "markdown",
   "metadata": {},
   "source": [
    "# Applications\n",
    "\n",
    "\n",
    "As discussed below, a trie has a number of advantages over binary search trees.[6] A trie can also be used to replace a hash table, over which it has the following advantages:\n",
    "\n",
    "* Looking up data in a trie is faster in the worst case, O(m) time (where m is the length of a search string), compared to an imperfect hash table. An imperfect hash table can have key collisions. A key collision is the hash function mapping of different keys to the same position in a hash table. The worst-case lookup speed in an imperfect hash table is O(N) time, but far more typically is O(1), with O(m) time spent evaluating the hash.[citation needed]\n",
    "* There are no collisions of different keys in a trie.\n",
    "* Buckets in a trie, which are analogous to hash table buckets that store key collisions, are necessary only if a single key is associated with more than one value.\n",
    "* There is no need to provide a hash function or to change hash functions as more keys are added to a trie.\n",
    "* A trie can provide an alphabetical ordering of the entries by key.\n",
    "Tries do have some drawbacks as well:\n",
    "\n",
    "## Cons\n",
    "\n",
    "* Trie lookup can be slower in some cases than hash tables, especially if the data is directly accessed on a hard disk drive or some other secondary storage device where the random-access time is high compared to main memory.[7]\n",
    "* Some keys, such as floating point numbers, can lead to long chains and prefixes that are not particularly meaningful. Nevertheless, a bitwise trie can handle standard IEEE single and double format floating point numbers.[citation needed]\n",
    "* Some tries can require more space than a hash table, as memory may be allocated for each character in the search string, rather than a single chunk of memory for the whole entry, as in most hash tables."
   ]
  },
  {
   "cell_type": "code",
   "execution_count": 5,
   "metadata": {},
   "outputs": [],
   "source": [
    "class Trie:\n",
    "    def __init__(self):\n",
    "        self.children = {}\n",
    "        self.value = None\n",
    "        \n",
    "    def insert(self, root, s):\n",
    "        node = root\n",
    "        index_last_char = None\n",
    "\n",
    "        for i, c in enumerate(list(s)):\n",
    "            if c in node.children:\n",
    "                node = node.children[c]\n",
    "            else:            \n",
    "                index_last_char = i\n",
    "                break\n",
    "\n",
    "        if index_last_char is not None:\n",
    "            for c in s[index_last_char:]:\n",
    "                node.children[c] = Trie()\n",
    "                node = node.children[c]\n",
    "\n",
    "        node.value = s\n",
    "    \n",
    "def printTrie(root):\n",
    "    if root is None:\n",
    "        return\n",
    "\n",
    "    if root.value:\n",
    "        print(root.value)\n",
    "\n",
    "    if len(root.children) <= 0:\n",
    "        return\n",
    "\n",
    "    for k, v in root.children.items():\n",
    "        printTrie(v)"
   ]
  },
  {
   "cell_type": "code",
   "execution_count": 6,
   "metadata": {},
   "outputs": [
    {
     "name": "stdout",
     "output_type": "stream",
     "text": [
      "basic\n",
      "bass\n",
      "bandage\n",
      "anchor\n",
      "anchovy\n"
     ]
    }
   ],
   "source": [
    "t = Trie()\n",
    "\n",
    "t.insert(t, 'basic')\n",
    "t.insert(t, 'bass')\n",
    "t.insert(t, 'anchor')\n",
    "t.insert(t, 'bandage')\n",
    "t.insert(t, 'anchovy')\n",
    "\n",
    "printTrie(t)"
   ]
  },
  {
   "cell_type": "markdown",
   "metadata": {},
   "source": [
    "## An easier Trie"
   ]
  },
  {
   "cell_type": "code",
   "execution_count": 10,
   "metadata": {},
   "outputs": [],
   "source": [
    "def insertTrie(root, word):\n",
    "    temp = root\n",
    "    \n",
    "    for v in word:\n",
    "        if v not in temp.children:\n",
    "            temp.children[v] = Trie()\n",
    "            \n",
    "        temp = temp.children[v]\n",
    "        \n",
    "    temp.value = word\n",
    "\n",
    "    return root"
   ]
  },
  {
   "cell_type": "code",
   "execution_count": 11,
   "metadata": {},
   "outputs": [
    {
     "name": "stdout",
     "output_type": "stream",
     "text": [
      "cat\n",
      "cats\n",
      "car\n",
      "cars\n",
      "apple\n",
      "anchor\n",
      "anchovy\n",
      "basic\n",
      "bass\n",
      "bandage\n"
     ]
    }
   ],
   "source": [
    "t = Trie()\n",
    "insertTrie(t, 'cat')\n",
    "insertTrie(t, 'car')\n",
    "insertTrie(t, 'cats')\n",
    "insertTrie(t, 'cars')\n",
    "insertTrie(t, 'apple')\n",
    "\n",
    "words = ['basic', 'anchor', 'bass', 'bandage', 'anchovy']\n",
    "for word in words:\n",
    "    insertTrie(t, word)\n",
    "    \n",
    "printTrie(t)"
   ]
  }
 ],
 "metadata": {
  "kernelspec": {
   "display_name": "Python 3",
   "language": "python",
   "name": "python3"
  },
  "language_info": {
   "codemirror_mode": {
    "name": "ipython",
    "version": 3
   },
   "file_extension": ".py",
   "mimetype": "text/x-python",
   "name": "python",
   "nbconvert_exporter": "python",
   "pygments_lexer": "ipython3",
   "version": "3.7.1"
  }
 },
 "nbformat": 4,
 "nbformat_minor": 2
}
