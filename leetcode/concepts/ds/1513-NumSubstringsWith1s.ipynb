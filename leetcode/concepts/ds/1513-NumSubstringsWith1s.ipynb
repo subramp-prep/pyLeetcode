{
 "cells": [
  {
   "cell_type": "markdown",
   "metadata": {},
   "source": [
    "## Q1513. Number of Substrings With Only 1s\n",
    "\n",
    "Given a binary string s (a string consisting only of '0' and '1's).\n",
    "\n",
    "Return the number of substrings with all characters 1's.\n",
    "\n",
    "Since the answer may be too large, return it modulo 10^9 + 7.\n",
    "\n",
    " \n",
    "\n",
    "Example 1:\n",
    "```\n",
    "Input: s = \"0110111\"\n",
    "Output: 9\n",
    "```\n",
    "Explanation: There are 9 substring in total with only 1's characters.\n",
    "\"1\" -> 5 times.\n",
    "\"11\" -> 3 times.\n",
    "\"111\" -> 1 time.\n",
    "Example 2:\n",
    "```\n",
    "Input: s = \"101\"\n",
    "Output: 2\n",
    "```\n",
    "Explanation: Substring \"1\" is shown 2 times in s.\n",
    "Example 3:\n",
    "```\n",
    "Input: s = \"111111\"\n",
    "Output: 21\n",
    "```\n",
    "Explanation: Each substring contains only 1's characters.\n",
    "Example 4:\n",
    "```\n",
    "Input: s = \"000\"\n",
    "Output: 0\n",
    "```\n",
    "\n",
    "Constraints:\n",
    "```\n",
    "s[i] == '0' or s[i] == '1'\n",
    "1 <= s.length <= 10^5\n",
    "```"
   ]
  },
  {
   "cell_type": "code",
   "execution_count": 1,
   "metadata": {},
   "outputs": [],
   "source": [
    "def numSub(s):\n",
    "    count = 0\n",
    "    for a in s.split('0'):\n",
    "        count += len(a) * (len(a) + 1) // 2\n",
    "\n",
    "    return count % (10**9 + 7)"
   ]
  },
  {
   "cell_type": "code",
   "execution_count": 2,
   "metadata": {},
   "outputs": [
    {
     "name": "stdout",
     "output_type": "stream",
     "text": [
      "9\n"
     ]
    }
   ],
   "source": [
    "print(numSub(\"0110111\"))"
   ]
  },
  {
   "cell_type": "code",
   "execution_count": 3,
   "metadata": {},
   "outputs": [
    {
     "name": "stdout",
     "output_type": "stream",
     "text": [
      "2\n"
     ]
    }
   ],
   "source": [
    "print(numSub(\"101\"))"
   ]
  },
  {
   "cell_type": "code",
   "execution_count": 4,
   "metadata": {},
   "outputs": [
    {
     "name": "stdout",
     "output_type": "stream",
     "text": [
      "21\n"
     ]
    }
   ],
   "source": [
    "print(numSub(\"111111\"))"
   ]
  },
  {
   "cell_type": "code",
   "execution_count": 5,
   "metadata": {},
   "outputs": [
    {
     "name": "stdout",
     "output_type": "stream",
     "text": [
      "0\n"
     ]
    }
   ],
   "source": [
    "print(numSub(\"000\"))"
   ]
  }
 ],
 "metadata": {
  "kernelspec": {
   "display_name": "Python 3",
   "language": "python",
   "name": "python3"
  },
  "language_info": {
   "codemirror_mode": {
    "name": "ipython",
    "version": 3
   },
   "file_extension": ".py",
   "mimetype": "text/x-python",
   "name": "python",
   "nbconvert_exporter": "python",
   "pygments_lexer": "ipython3",
   "version": "3.7.6"
  }
 },
 "nbformat": 4,
 "nbformat_minor": 4
}
