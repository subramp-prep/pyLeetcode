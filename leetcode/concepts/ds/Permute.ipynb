{
 "cells": [
  {
   "cell_type": "markdown",
   "metadata": {},
   "source": [
    "def Permute(string):\n",
    "    output = []\n",
    "    def PermuteHelper(s, chosen):\n",
    "        if s == '':\n",
    "            output.append(chosen)\n",
    "        else:\n",
    "            for c in s:\n",
    "                cache = c\n",
    "                chosen = chosen + cache\n",
    "                s = list(s).remove(cache)\n",
    "                \n",
    "                PermuteHelper(s, chosen)\n",
    "                \n",
    "                chosen = chosen[:len(chosen)-1]\n",
    "                s = list(s).append(cache)\n",
    "    \n",
    "    chosen = ''\n",
    "    PermuteHelper(string, chosen)\n",
    "    return output\n",
    "\n",
    "Permute('cat')"
   ]
  },
  {
   "cell_type": "markdown",
   "metadata": {},
   "source": [
    "# Simple permute logic without duplicates"
   ]
  },
  {
   "cell_type": "code",
   "execution_count": null,
   "metadata": {},
   "outputs": [],
   "source": [
    "def permute(string):\n",
    "    output, chosen = [], []\n",
    "\n",
    "    def permuteHelper(s, chosen):\n",
    "        if len(s) == len(chosen):\n",
    "            output.append(\"\".join(chosen))\n",
    "        else:\n",
    "            for c in s:\n",
    "                if c in chosen:\n",
    "                    continue\n",
    "\n",
    "                chosen.append(c)\n",
    "                permuteHelper(s, chosen)\n",
    "                chosen.pop()\n",
    "\n",
    "    s = list(string)\n",
    "\n",
    "    permuteHelper(s, chosen)\n",
    "    return output"
   ]
  },
  {
   "cell_type": "code",
   "execution_count": null,
   "metadata": {},
   "outputs": [],
   "source": [
    "print(permute('abc'))"
   ]
  },
  {
   "cell_type": "code",
   "execution_count": null,
   "metadata": {},
   "outputs": [],
   "source": [
    "print(permute('mitra'))"
   ]
  },
  {
   "cell_type": "markdown",
   "metadata": {},
   "source": [
    "# Permute logic with duplicates"
   ]
  },
  {
   "cell_type": "code",
   "execution_count": null,
   "metadata": {},
   "outputs": [],
   "source": [
    "def permuteIII(string):\n",
    "    chosen, output, used = [], [], []\n",
    "    \n",
    "    string = sorted(string)\n",
    "    for i in string:\n",
    "        used.append(False)\n",
    "    \n",
    "    def permuteHelper(string, chosen, output, used):\n",
    "        if len(string) == len(chosen):\n",
    "            output.append(''.join(chosen))\n",
    "        else:\n",
    "            #for i, c in enumerate(string):\n",
    "            for i in range(len(string)):\n",
    "                \n",
    "                if used[i] or i > 0 and string[i-1] == string[i] and used[i-1]== False:\n",
    "                    continue\n",
    "                \n",
    "                chosen.append(string[i])\n",
    "                used[i] = True\n",
    "                \n",
    "                permuteHelper(string, chosen, output, used)\n",
    "                \n",
    "                used[i] = False\n",
    "                chosen.pop()\n",
    "                \n",
    "    \n",
    "    \n",
    "    permuteHelper(string, chosen, output, used)\n",
    "    return output\n",
    "    \n",
    "\n",
    "permuteIII('adda')"
   ]
  },
  {
   "cell_type": "markdown",
   "metadata": {},
   "source": [
    "def permuteII(string):\n",
    "    chosen, output, used = [], [], []\n",
    "\n",
    "    string = sorted(string)\n",
    "    for b in string:\n",
    "        used.append(False)\n",
    "\n",
    "    def permuteHelper(string, chosen, output, used):\n",
    "        if len(string) == len(chosen):\n",
    "            output.append(''.join(chosen))\n",
    "        else:\n",
    "            #for i in range(len(string)):\n",
    "            for i in range(len(string)):\n",
    "\n",
    "                if used[i]  or i > 0 and string[i-1] == string[i] and used[i-1] == False:\n",
    "                    continue\n",
    "                #if i-1 > 0 and string[i] == string[i-1]:\n",
    "                #    continue\n",
    "\n",
    "                chosen.append(string[i])\n",
    "                used[i] = True\n",
    "\n",
    "                permuteHelper(string, chosen, output, used)\n",
    "\n",
    "                used[i] = False\n",
    "                chosen.pop()\n",
    "\n",
    "    s = list(string)\n",
    "    \n",
    "    permuteHelper(string, chosen, output, used)\n",
    "    return output\n",
    "\n",
    "print(permuteII('google'))"
   ]
  }
 ],
 "metadata": {
  "kernelspec": {
   "display_name": "Python 3",
   "language": "python",
   "name": "python3"
  },
  "language_info": {
   "codemirror_mode": {
    "name": "ipython",
    "version": 3
   },
   "file_extension": ".py",
   "mimetype": "text/x-python",
   "name": "python",
   "nbconvert_exporter": "python",
   "pygments_lexer": "ipython3",
   "version": "3.7.0"
  }
 },
 "nbformat": 4,
 "nbformat_minor": 2
}
