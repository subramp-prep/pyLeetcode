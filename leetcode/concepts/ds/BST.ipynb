{
 "cells": [
  {
   "cell_type": "markdown",
   "metadata": {},
   "source": [
    "Build a BST from sorted array"
   ]
  },
  {
   "cell_type": "code",
   "execution_count": 1,
   "metadata": {},
   "outputs": [],
   "source": [
    "class TreeNode:\n",
    "    def __init__(self, val, left=None, right=None):\n",
    "        self.val = val\n",
    "        self.left = left\n",
    "        self.right = right\n",
    "        \n",
    "def buildBST(nums):\n",
    "    if len(nums) <= 0:\n",
    "        return None\n",
    "    \n",
    "    m = len(nums)//2\n",
    "    \n",
    "    root = TreeNode(nums[m])\n",
    "    root.left = buildBST(nums[:m])\n",
    "    root.right = buildBST(nums[m+1:])\n",
    "    \n",
    "    return root\n",
    "\n",
    "def parseTree(root):\n",
    "    if root:\n",
    "        parseTree(root.left)\n",
    "        print(root.val, end=' ')\n",
    "        parseTree(root.right)"
   ]
  },
  {
   "cell_type": "code",
   "execution_count": 2,
   "metadata": {},
   "outputs": [
    {
     "name": "stdout",
     "output_type": "stream",
     "text": [
      "1 2 3 "
     ]
    }
   ],
   "source": [
    "nums = [1,2,3]\n",
    "root = buildBST(nums)\n",
    "\n",
    "parseTree(root)"
   ]
  },
  {
   "cell_type": "code",
   "execution_count": null,
   "metadata": {},
   "outputs": [],
   "source": []
  }
 ],
 "metadata": {
  "kernelspec": {
   "display_name": "Python 3",
   "language": "python",
   "name": "python3"
  },
  "language_info": {
   "codemirror_mode": {
    "name": "ipython",
    "version": 3
   },
   "file_extension": ".py",
   "mimetype": "text/x-python",
   "name": "python",
   "nbconvert_exporter": "python",
   "pygments_lexer": "ipython3",
   "version": "3.7.1"
  }
 },
 "nbformat": 4,
 "nbformat_minor": 2
}
