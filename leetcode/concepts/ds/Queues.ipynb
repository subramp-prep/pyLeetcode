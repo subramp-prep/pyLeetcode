{
 "cells": [
  {
   "cell_type": "code",
   "execution_count": null,
   "metadata": {},
   "outputs": [],
   "source": [
    "from collections import deque\n",
    "\n",
    "q = deque()\n",
    "q.append(23)\n",
    "q.append(8)\n",
    "q.append(15)\n",
    "q.append(16)\n",
    "q.append(20)\n",
    "q.append(6)\n",
    "\n",
    "print(\"Original: \", q)\n",
    "\n",
    "q.popleft()\n",
    "\n",
    "print(\"After popleft: \", q)\n",
    "\n",
    "print(\"q[0]\", q[0])"
   ]
  }
 ],
 "metadata": {
  "kernelspec": {
   "display_name": "Python 3",
   "language": "python",
   "name": "python3"
  },
  "language_info": {
   "codemirror_mode": {
    "name": "ipython",
    "version": 3
   },
   "file_extension": ".py",
   "mimetype": "text/x-python",
   "name": "python",
   "nbconvert_exporter": "python",
   "pygments_lexer": "ipython3",
   "version": "3.7.0"
  }
 },
 "nbformat": 4,
 "nbformat_minor": 2
}
