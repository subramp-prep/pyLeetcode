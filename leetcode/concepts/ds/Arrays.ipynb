{
 "cells": [
  {
   "cell_type": "markdown",
   "metadata": {},
   "source": [
    "# Arrays"
   ]
  },
  {
   "cell_type": "code",
   "execution_count": 1,
   "metadata": {},
   "outputs": [
    {
     "name": "stdout",
     "output_type": "stream",
     "text": [
      "Print last number in array num[-1]: 67\n",
      "1\n",
      "2\n",
      "3\n",
      "23\n",
      "12\n",
      "15\n",
      "67\n"
     ]
    }
   ],
   "source": [
    "def arrayTraverse(num):\n",
    "    print(\"Print last number in array num[-1]:\", num[-1])\n",
    "    for num in nums:\n",
    "        print(num)\n",
    "        \n",
    "\n",
    "nums = [1,2,3, 23, 12, 15, 67];\n",
    "arrayTraverse(nums)"
   ]
  },
  {
   "cell_type": "markdown",
   "metadata": {},
   "source": [
    "## Print left 2 numbers"
   ]
  },
  {
   "cell_type": "code",
   "execution_count": 2,
   "metadata": {},
   "outputs": [
    {
     "name": "stdout",
     "output_type": "stream",
     "text": [
      "[1, 2]\n"
     ]
    }
   ],
   "source": [
    "print(nums[:2])"
   ]
  },
  {
   "cell_type": "markdown",
   "metadata": {},
   "source": [
    "## Print from index towards right"
   ]
  },
  {
   "cell_type": "code",
   "execution_count": 3,
   "metadata": {},
   "outputs": [
    {
     "name": "stdout",
     "output_type": "stream",
     "text": [
      "[3, 23, 12, 15, 67]\n"
     ]
    }
   ],
   "source": [
    "print(nums[2:])"
   ]
  },
  {
   "cell_type": "markdown",
   "metadata": {},
   "source": [
    "## Print index and value of an array"
   ]
  },
  {
   "cell_type": "code",
   "execution_count": 4,
   "metadata": {},
   "outputs": [
    {
     "name": "stdout",
     "output_type": "stream",
     "text": [
      "index:  0  value:  1\n",
      "index:  1  value:  2\n",
      "index:  2  value:  56\n",
      "index:  3  value:  23\n",
      "index:  4  value:  12\n",
      "index:  5  value:  15\n",
      "index:  6  value:  35\n"
     ]
    }
   ],
   "source": [
    "nums1 = [1,2,56,23,12,15,35]\n",
    "\n",
    "for i, num in enumerate(nums1):\n",
    "    print('index: ', i, ' value: ', num)"
   ]
  },
  {
   "cell_type": "markdown",
   "metadata": {},
   "source": [
    "# Print a 2D array"
   ]
  },
  {
   "cell_type": "code",
   "execution_count": 5,
   "metadata": {},
   "outputs": [
    {
     "name": "stdout",
     "output_type": "stream",
     "text": [
      "0 0 F\n",
      "0 1 A\n",
      "0 2 C\n",
      "0 3 I\n",
      "1 0 O\n",
      "1 1 B\n",
      "1 2 Q\n",
      "1 3 P\n",
      "2 0 A\n",
      "2 1 N\n",
      "2 2 O\n",
      "2 3 B\n",
      "3 0 M\n",
      "3 1 A\n",
      "3 2 S\n",
      "3 3 S\n"
     ]
    }
   ],
   "source": [
    "wordMatrix = [\n",
    "     ['F', 'A', 'C', 'I'],\n",
    "     ['O', 'B', 'Q', 'P'],\n",
    "     ['A', 'N', 'O', 'B'],\n",
    "     ['M', 'A', 'S', 'S']\n",
    "]\n",
    "\n",
    "for i, x in enumerate(wordMatrix):\n",
    "    for j, y in enumerate(x):\n",
    "        print(i,j, y)"
   ]
  },
  {
   "cell_type": "code",
   "execution_count": 6,
   "metadata": {},
   "outputs": [
    {
     "name": "stdout",
     "output_type": "stream",
     "text": [
      "['a', 'e', 't']\n",
      "aet\n"
     ]
    }
   ],
   "source": [
    "dictionary = {}\n",
    "dir(dictionary)\n",
    "\n",
    "splitChars = sorted('eat')\n",
    "print(splitChars)\n",
    "\n",
    "joinedChars = ''.join(splitChars)\n",
    "print(joinedChars)"
   ]
  },
  {
   "cell_type": "code",
   "execution_count": 7,
   "metadata": {},
   "outputs": [
    {
     "name": "stdout",
     "output_type": "stream",
     "text": [
      "c\n"
     ]
    }
   ],
   "source": [
    "test = ['a', 'b', 'c']\n",
    "print(test[2])"
   ]
  },
  {
   "cell_type": "markdown",
   "metadata": {},
   "source": [
    "# Initialize a boolean array for n-values"
   ]
  },
  {
   "cell_type": "code",
   "execution_count": 10,
   "metadata": {},
   "outputs": [
    {
     "name": "stdout",
     "output_type": "stream",
     "text": [
      "[False, False, False, False, False]\n"
     ]
    }
   ],
   "source": [
    "testBoolArray = [False]*5\n",
    "print(testBoolArray)"
   ]
  },
  {
   "cell_type": "markdown",
   "metadata": {},
   "source": [
    "# For loop fun"
   ]
  },
  {
   "cell_type": "code",
   "execution_count": 11,
   "metadata": {},
   "outputs": [
    {
     "name": "stdout",
     "output_type": "stream",
     "text": [
      "('M', 'S', 'A', 'G')\n",
      "('S', 'Y', 'M', 'O')\n",
      "('F', 'M', 'Z', 'O')\n",
      "('T', 'C', 'N', 'G')\n"
     ]
    }
   ],
   "source": [
    "names = ['MSFT', 'SYMC', 'AMZN', 'GOOG']\n",
    "\n",
    "for a in zip(*names):\n",
    "    print(a)"
   ]
  },
  {
   "cell_type": "code",
   "execution_count": null,
   "metadata": {},
   "outputs": [],
   "source": []
  }
 ],
 "metadata": {
  "kernelspec": {
   "display_name": "Python 3",
   "language": "python",
   "name": "python3"
  },
  "language_info": {
   "codemirror_mode": {
    "name": "ipython",
    "version": 3
   },
   "file_extension": ".py",
   "mimetype": "text/x-python",
   "name": "python",
   "nbconvert_exporter": "python",
   "pygments_lexer": "ipython3",
   "version": "3.7.1"
  }
 },
 "nbformat": 4,
 "nbformat_minor": 2
}
