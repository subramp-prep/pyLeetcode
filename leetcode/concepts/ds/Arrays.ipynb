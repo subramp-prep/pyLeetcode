{
 "cells": [
  {
   "cell_type": "markdown",
   "metadata": {},
   "source": [
    "# Arrays"
   ]
  },
  {
   "cell_type": "code",
   "execution_count": null,
   "metadata": {},
   "outputs": [],
   "source": [
    "def arrayTraverse(num):\n",
    "    print(\"Print last number in array num[-1]:\", num[-1])\n",
    "    for num in nums:\n",
    "        print(num)\n",
    "        \n",
    "\n",
    "nums = [1,2,3, 23, 12, 15, 67];\n",
    "arrayTraverse(nums)"
   ]
  },
  {
   "cell_type": "markdown",
   "metadata": {},
   "source": [
    "## Print left 2 numbers"
   ]
  },
  {
   "cell_type": "code",
   "execution_count": null,
   "metadata": {},
   "outputs": [],
   "source": [
    "print(nums[:2])"
   ]
  },
  {
   "cell_type": "markdown",
   "metadata": {},
   "source": [
    "## Print from index towards right"
   ]
  },
  {
   "cell_type": "code",
   "execution_count": null,
   "metadata": {},
   "outputs": [],
   "source": [
    "print(nums[2:])"
   ]
  },
  {
   "cell_type": "markdown",
   "metadata": {},
   "source": [
    "## Print index and value of an array"
   ]
  },
  {
   "cell_type": "code",
   "execution_count": null,
   "metadata": {},
   "outputs": [],
   "source": [
    "nums1 = [1,2,56,23,12,15,35]\n",
    "\n",
    "for i, num in enumerate(nums1):\n",
    "    print('index: ', i, ' value: ', num)"
   ]
  },
  {
   "cell_type": "markdown",
   "metadata": {},
   "source": [
    "# Print a 2D array"
   ]
  },
  {
   "cell_type": "code",
   "execution_count": null,
   "metadata": {},
   "outputs": [],
   "source": [
    "wordMatrix = [\n",
    "     ['F', 'A', 'C', 'I'],\n",
    "     ['O', 'B', 'Q', 'P'],\n",
    "     ['A', 'N', 'O', 'B'],\n",
    "     ['M', 'A', 'S', 'S']\n",
    "]\n",
    "\n",
    "for i, x in enumerate(wordMatrix):\n",
    "    for j, y in enumerate(x):\n",
    "        print(i,j, y)"
   ]
  },
  {
   "cell_type": "code",
   "execution_count": null,
   "metadata": {},
   "outputs": [],
   "source": [
    "dictionary = {}\n",
    "dir(dictionary)\n",
    "\n",
    "splitChars = sorted('eat')\n",
    "print(splitChars)\n",
    "\n",
    "joinedChars = ''.join(splitChars)\n",
    "print(joinedChars)"
   ]
  },
  {
   "cell_type": "code",
   "execution_count": null,
   "metadata": {},
   "outputs": [],
   "source": [
    "test = ['a', 'b', 'c']\n",
    "print(test[2])"
   ]
  },
  {
   "cell_type": "code",
   "execution_count": null,
   "metadata": {},
   "outputs": [],
   "source": []
  }
 ],
 "metadata": {
  "kernelspec": {
   "display_name": "Python 3",
   "language": "python",
   "name": "python3"
  },
  "language_info": {
   "codemirror_mode": {
    "name": "ipython",
    "version": 3
   },
   "file_extension": ".py",
   "mimetype": "text/x-python",
   "name": "python",
   "nbconvert_exporter": "python",
   "pygments_lexer": "ipython3",
   "version": "3.7.1"
  }
 },
 "nbformat": 4,
 "nbformat_minor": 2
}
