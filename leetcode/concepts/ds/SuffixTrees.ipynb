{
 "cells": [
  {
   "cell_type": "markdown",
   "metadata": {},
   "source": [
    "# Applications\n",
    "\n",
    "1. Find all occurences of q as a substring of S a.k.a. String matching (Steven Skiena P-**628**)\n",
    "2. Longest substring common to a set of strings (Steven Skiena P-**650**)\n",
    "3. Find the longest palindrome in S\n",
    "4. Text compression (Steven Skiena P-**637**)\n",
    "\n",
    "### Suffix arrays do most of what suffix trees do with 1/4th of the memory\n",
    "\n",
    "Github of **Suffix Tree** implementation in [python](https://github.com/ptrus/suffix-trees)"
   ]
  },
  {
   "cell_type": "code",
   "execution_count": 8,
   "metadata": {},
   "outputs": [
    {
     "name": "stdout",
     "output_type": "stream",
     "text": [
      "3\n",
      "1\n",
      "[0, 8]\n"
     ]
    }
   ],
   "source": [
    "#pip3 install suffix-trees\n",
    "\n",
    "from suffix_trees import STree\n",
    "\n",
    "st = STree.STree('prasad')\n",
    "\n",
    "print(st.find('sa'))\n",
    "print(st.find('ra'))\n",
    "\n",
    "st = STree.STree('abcdefghab')\n",
    "print(st.find_all('ab'))\n",
    "st.build()"
   ]
  },
  {
   "cell_type": "code",
   "execution_count": 9,
   "metadata": {},
   "outputs": [
    {
     "name": "stdout",
     "output_type": "stream",
     "text": [
      "abc\n"
     ]
    }
   ],
   "source": [
    "a = [\"xxxabcxxx\", \"adsaabc\", \"ytysabcrew\", \"qqqabcqw\", \"aaabc\"]\n",
    "st = STree.STree(a)\n",
    "print(st.lcs())"
   ]
  }
 ],
 "metadata": {
  "kernelspec": {
   "display_name": "Python 3",
   "language": "python",
   "name": "python3"
  },
  "language_info": {
   "codemirror_mode": {
    "name": "ipython",
    "version": 3
   },
   "file_extension": ".py",
   "mimetype": "text/x-python",
   "name": "python",
   "nbconvert_exporter": "python",
   "pygments_lexer": "ipython3",
   "version": "3.7.1"
  }
 },
 "nbformat": 4,
 "nbformat_minor": 2
}
