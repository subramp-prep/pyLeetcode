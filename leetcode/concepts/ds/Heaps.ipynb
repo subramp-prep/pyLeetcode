{
 "cells": [
  {
   "cell_type": "code",
   "execution_count": 6,
   "metadata": {},
   "outputs": [
    {
     "name": "stdout",
     "output_type": "stream",
     "text": [
      "Heap Formation:  [2, 23, 18, 34, 28]\n",
      "Heap pop:  [18, 23, 28, 34]\n"
     ]
    },
    {
     "ename": "TypeError",
     "evalue": "nlargest() missing 1 required positional argument: 'iterable'",
     "output_type": "error",
     "traceback": [
      "\u001b[0;31m---------------------------------------------------------------------------\u001b[0m",
      "\u001b[0;31mTypeError\u001b[0m                                 Traceback (most recent call last)",
      "\u001b[0;32m<ipython-input-6-cd1b962bcf34>\u001b[0m in \u001b[0;36m<module>\u001b[0;34m()\u001b[0m\n\u001b[1;32m     14\u001b[0m \u001b[0mprint\u001b[0m\u001b[0;34m(\u001b[0m\u001b[0;34m\"Heap pop: \"\u001b[0m\u001b[0;34m,\u001b[0m \u001b[0mheap\u001b[0m\u001b[0;34m)\u001b[0m\u001b[0;34m\u001b[0m\u001b[0m\n\u001b[1;32m     15\u001b[0m \u001b[0;34m\u001b[0m\u001b[0m\n\u001b[0;32m---> 16\u001b[0;31m \u001b[0mprint\u001b[0m\u001b[0;34m(\u001b[0m\u001b[0;34m\"Heap nLargest: \"\u001b[0m\u001b[0;34m,\u001b[0m\u001b[0mheapq\u001b[0m\u001b[0;34m.\u001b[0m\u001b[0mnlargest\u001b[0m\u001b[0;34m(\u001b[0m\u001b[0mheap\u001b[0m\u001b[0;34m)\u001b[0m\u001b[0;34m)\u001b[0m\u001b[0;34m\u001b[0m\u001b[0m\n\u001b[0m",
      "\u001b[0;31mTypeError\u001b[0m: nlargest() missing 1 required positional argument: 'iterable'"
     ]
    }
   ],
   "source": [
    "import heapq\n",
    "\n",
    "heap = [] #initialize heap\n",
    "heapq.heappush(heap, 23)\n",
    "heapq.heappush(heap, 2)\n",
    "heapq.heappush(heap, 18)\n",
    "heapq.heappush(heap, 34)\n",
    "heapq.heappush(heap, 28)\n",
    "\n",
    "print(\"Heap Formation: \", heap)\n",
    "\n",
    "heapq.heappop(heap)\n",
    "\n",
    "print(\"Heap pop: \", heap)\n",
    "\n",
    "#print(\"Heap nLargest: \",heapq.nlargest(heap))"
   ]
  },
  {
   "cell_type": "code",
   "execution_count": null,
   "metadata": {},
   "outputs": [],
   "source": []
  }
 ],
 "metadata": {
  "kernelspec": {
   "display_name": "Python 3",
   "language": "python",
   "name": "python3"
  },
  "language_info": {
   "codemirror_mode": {
    "name": "ipython",
    "version": 3
   },
   "file_extension": ".py",
   "mimetype": "text/x-python",
   "name": "python",
   "nbconvert_exporter": "python",
   "pygments_lexer": "ipython3",
   "version": "3.7.0"
  }
 },
 "nbformat": 4,
 "nbformat_minor": 2
}
