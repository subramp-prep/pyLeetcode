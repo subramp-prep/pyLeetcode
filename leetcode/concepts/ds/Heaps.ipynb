{
 "cells": [
  {
   "cell_type": "markdown",
   "metadata": {},
   "source": [
    "# Heap basic push and pop"
   ]
  },
  {
   "cell_type": "code",
   "execution_count": 1,
   "metadata": {},
   "outputs": [
    {
     "name": "stdout",
     "output_type": "stream",
     "text": [
      "Heap Formation:  [2, 23, 18, 34, 28]\n",
      "Heap pop:  [18, 23, 28, 34]\n"
     ]
    }
   ],
   "source": [
    "import heapq\n",
    "\n",
    "heap = [] #initialize heap\n",
    "heapq.heappush(heap, 23)\n",
    "heapq.heappush(heap, 2)\n",
    "heapq.heappush(heap, 18)\n",
    "heapq.heappush(heap, 34)\n",
    "heapq.heappush(heap, 28)\n",
    "\n",
    "print(\"Heap Formation: \", heap)\n",
    "\n",
    "heapq.heappop(heap)\n",
    "\n",
    "print(\"Heap pop: \", heap)\n",
    "\n",
    "#print(\"Heap nLargest: \",heapq.nlargest(heap))"
   ]
  },
  {
   "cell_type": "markdown",
   "metadata": {},
   "source": [
    "# Heapsort"
   ]
  },
  {
   "cell_type": "code",
   "execution_count": 2,
   "metadata": {},
   "outputs": [
    {
     "data": {
      "text/plain": [
       "[1, 2, 8, 12, 23, 34, 56]"
      ]
     },
     "execution_count": 2,
     "metadata": {},
     "output_type": "execute_result"
    }
   ],
   "source": [
    "import heapq\n",
    "\n",
    "def heapsort(nums):\n",
    "    heap = []\n",
    "    \n",
    "    for num in nums:\n",
    "        heapq.heappush(heap, num)\n",
    "        \n",
    "    return [heapq.heappop(heap) for i in range(len(nums))]\n",
    "\n",
    "\n",
    "heapsort([23, 12, 34, 56, 2, 1, 8])"
   ]
  },
  {
   "cell_type": "markdown",
   "metadata": {},
   "source": [
    "# Heapify\n",
    "\n",
    "Transform a **list** to heap in-place"
   ]
  },
  {
   "cell_type": "code",
   "execution_count": 3,
   "metadata": {},
   "outputs": [
    {
     "name": "stdout",
     "output_type": "stream",
     "text": [
      "[1, 2, 8, 56, 12, 34, 23]\n"
     ]
    }
   ],
   "source": [
    "import heapq\n",
    "\n",
    "def heapify(nums):\n",
    "    heapq.heapify(nums)    \n",
    "    return nums\n",
    "\n",
    "print(heapify([23, 12, 34, 56, 2, 1, 8]))"
   ]
  },
  {
   "cell_type": "markdown",
   "metadata": {},
   "source": [
    "# Heap nLargest"
   ]
  },
  {
   "cell_type": "code",
   "execution_count": 4,
   "metadata": {},
   "outputs": [
    {
     "name": "stdout",
     "output_type": "stream",
     "text": [
      "nLargestKV for keys: ['Teradata', 'Symantec', 'Nvidia']\n",
      "nLargestV for values: ['Symantec', 'Nvidia', 'Nordstorm']\n"
     ]
    }
   ],
   "source": [
    "import heapq\n",
    "\n",
    "def nLargest(nums):\n",
    "    return heapq.nlargest(2, nums)\n",
    "\n",
    "# get largest elements based on key\n",
    "def nLargestKV(elements):\n",
    "    return heapq.nlargest(3, elements, key=elements.get)\n",
    "\n",
    "def nLargestV(elements):\n",
    "    return heapq.nlargest(3, elements, key=lambda x:x[1])\n",
    "\n",
    "kvmap = {\n",
    "    'Symantec': 'Symc',\n",
    "    'Nvidia' : 'Nvd',\n",
    "    'Nordstorm' : 'Nds',\n",
    "    'Google' : 'Goog',\n",
    "    'Amazon' : 'Amzn',\n",
    "    'Facebook' : 'Fb',\n",
    "    'Microsoft' : 'Msft',\n",
    "    'Teradata' : 'Td'\n",
    "}\n",
    "\n",
    "print('nLargestKV for keys:',nLargestKV(kvmap))\n",
    "\n",
    "print('nLargestV for values:',nLargestV(kvmap))\n"
   ]
  },
  {
   "cell_type": "markdown",
   "metadata": {},
   "source": [
    "# Heap nSmallest"
   ]
  },
  {
   "cell_type": "code",
   "execution_count": 5,
   "metadata": {},
   "outputs": [
    {
     "name": "stdout",
     "output_type": "stream",
     "text": [
      "[1, 2, 8]\n",
      "nSmallestKV for Keys: ['Amazon', 'Facebook', 'Google']\n",
      "nSmallestKV for Values: ['Facebook', 'Teradata', 'Microsoft']\n"
     ]
    },
    {
     "data": {
      "text/plain": [
       "[('Amazon', 'Amzn'),\n",
       " ('Facebook', 'Fb'),\n",
       " ('Google', 'Goog'),\n",
       " ('Microsoft', 'Msft'),\n",
       " ('Nordstorm', 'Nds'),\n",
       " ('Nvidia', 'Nvd'),\n",
       " ('Symantec', 'Symc'),\n",
       " ('Teradata', 'Td')]"
      ]
     },
     "execution_count": 5,
     "metadata": {},
     "output_type": "execute_result"
    }
   ],
   "source": [
    "def nSmallest(nums):\n",
    "    return heapq.nsmallest(3, nums)\n",
    "\n",
    "# get largest elements based on key\n",
    "def nSmallestKV(elements):\n",
    "    return heapq.nsmallest(3, elements, key=elements.get)\n",
    "\n",
    "def nSmallestV(elements):\n",
    "    return heapq.nsmallest(3, elements, key=lambda x:x[1])\n",
    "\n",
    "print(nSmallest([23, 12, 34, 56, 2, 1, 8]))\n",
    "\n",
    "kvmap = {\n",
    "    'Symantec': 'Symc',\n",
    "    'Nvidia' : 'Nvd',\n",
    "    'Nordstorm' : 'Nds',\n",
    "    'Google' : 'Goog',\n",
    "    'Amazon' : 'Amzn',\n",
    "    'Facebook' : 'Fb',\n",
    "    'Microsoft' : 'Msft',\n",
    "    'Teradata' : 'Td'\n",
    "}\n",
    "\n",
    "print(\"nSmallestKV for Keys:\", nSmallestKV(kvmap))\n",
    "print(\"nSmallestKV for Values:\", nSmallestV(kvmap))\n",
    "\n",
    "sorted(kvmap.items(), key=lambda x:x[1])"
   ]
  },
  {
   "cell_type": "markdown",
   "metadata": {},
   "source": [
    "# Question\n",
    "\n",
    "Return a new sorted merged list from K sorted lists, each with size N."
   ]
  },
  {
   "cell_type": "code",
   "execution_count": 6,
   "metadata": {},
   "outputs": [
    {
     "name": "stdout",
     "output_type": "stream",
     "text": [
      "[10, 12, 15, 15, 17, 20, 20, 30, 32]\n"
     ]
    }
   ],
   "source": [
    "def merge(lists):\n",
    "    merged_list = []\n",
    "\n",
    "    heap = [(lst[0], i, 0) for i, lst in enumerate(lists) if lst] # list comprehension\n",
    "    heapq.heapify(heap)\n",
    "    \n",
    "    # above 2 lines is equivalent to \n",
    "    # heap1 = []\n",
    "    # for i, lst in enumerate(lists):\n",
    "    #     heapq.heappush(heap1, (lst[0], i, 0))\n",
    "\n",
    "    while heap:\n",
    "        val, list_ind, element_ind = heapq.heappop(heap) #tuple unpacking\n",
    "\n",
    "        merged_list.append(val)\n",
    "\n",
    "        if element_ind + 1 < len(lists[list_ind]):\n",
    "            next_tuple = (lists[list_ind][element_ind + 1],\n",
    "                          list_ind,\n",
    "                          element_ind + 1)\n",
    "            heapq.heappush(heap, next_tuple)\n",
    "    return merged_list\n",
    "\n",
    "lists = [\n",
    "    [10, 15, 30],\n",
    "    [12, 15, 20],\n",
    "    [17, 20, 32]\n",
    "]\n",
    "\n",
    "mergeSorted = merge(lists)\n",
    "\n",
    "print(mergeSorted)"
   ]
  },
  {
   "cell_type": "code",
   "execution_count": null,
   "metadata": {},
   "outputs": [],
   "source": []
  }
 ],
 "metadata": {
  "kernelspec": {
   "display_name": "Python 3",
   "language": "python",
   "name": "python3"
  },
  "language_info": {
   "codemirror_mode": {
    "name": "ipython",
    "version": 3
   },
   "file_extension": ".py",
   "mimetype": "text/x-python",
   "name": "python",
   "nbconvert_exporter": "python",
   "pygments_lexer": "ipython3",
   "version": "3.7.1"
  }
 },
 "nbformat": 4,
 "nbformat_minor": 2
}
