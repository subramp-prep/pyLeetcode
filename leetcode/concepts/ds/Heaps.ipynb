{
 "cells": [
  {
   "cell_type": "code",
   "execution_count": null,
   "metadata": {},
   "outputs": [],
   "source": [
    "import heapq\n",
    "\n",
    "heap = [] #initialize heap\n",
    "heapq.heappush(heap, 23)\n",
    "heapq.heappush(heap, 2)\n",
    "heapq.heappush(heap, 18)\n",
    "heapq.heappush(heap, 34)\n",
    "heapq.heappush(heap, 28)\n",
    "\n",
    "print(\"Heap Formation: \", heap)\n",
    "\n",
    "heapq.heappop(heap)\n",
    "\n",
    "print(\"Heap pop: \", heap)\n",
    "\n",
    "#print(\"Heap nLargest: \",heapq.nlargest(heap))"
   ]
  },
  {
   "cell_type": "markdown",
   "metadata": {},
   "source": [
    "# Question\n",
    "\n",
    "Return a new sorted merged list from K sorted lists, each with size N."
   ]
  },
  {
   "cell_type": "code",
   "execution_count": null,
   "metadata": {},
   "outputs": [],
   "source": [
    "def merge(lists):\n",
    "    merged_list = []\n",
    "\n",
    "    heap = [(lst[0], i, 0) for i, lst in enumerate(lists) if lst] # list comprehension\n",
    "    heapq.heapify(heap)\n",
    "    \n",
    "    # above 2 lines is equivalent to \n",
    "    # heap1 = []\n",
    "    # for i, lst in enumerate(lists):\n",
    "    #     heapq.heappush(heap1, (lst[0], i, 0))\n",
    "\n",
    "    while heap:\n",
    "        val, list_ind, element_ind = heapq.heappop(heap) #tuple unpacking\n",
    "\n",
    "        merged_list.append(val)\n",
    "\n",
    "        if element_ind + 1 < len(lists[list_ind]):\n",
    "            next_tuple = (lists[list_ind][element_ind + 1],\n",
    "                          list_ind,\n",
    "                          element_ind + 1)\n",
    "            heapq.heappush(heap, next_tuple)\n",
    "    return merged_list\n",
    "\n",
    "lists = [\n",
    "    [10, 15, 30],\n",
    "    [12, 15, 20],\n",
    "    [17, 20, 32]\n",
    "]\n",
    "\n",
    "mergeSorted = merge(lists)\n",
    "\n",
    "print(mergeSorted)"
   ]
  },
  {
   "cell_type": "code",
   "execution_count": null,
   "metadata": {},
   "outputs": [],
   "source": []
  }
 ],
 "metadata": {
  "kernelspec": {
   "display_name": "Python 3",
   "language": "python",
   "name": "python3"
  },
  "language_info": {
   "codemirror_mode": {
    "name": "ipython",
    "version": 3
   },
   "file_extension": ".py",
   "mimetype": "text/x-python",
   "name": "python",
   "nbconvert_exporter": "python",
   "pygments_lexer": "ipython3",
   "version": "3.7.0"
  }
 },
 "nbformat": 4,
 "nbformat_minor": 2
}
