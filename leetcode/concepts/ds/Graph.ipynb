{
 "cells": [
  {
   "cell_type": "code",
   "execution_count": 1,
   "metadata": {},
   "outputs": [],
   "source": [
    "from collections import defaultdict\n",
    "\n",
    "class GraphNode:\n",
    "    def __init__(self):        \n",
    "        self.adjacent = defaultdict(list)\n",
    "        \n",
    "    def addEdge(self, u, v):\n",
    "        self.adjacent[u].append(v)\n",
    "        \n",
    "    def dfs (self, a,b,visited):\n",
    "        if a in visited:\n",
    "            return False\n",
    "\n",
    "        if a == b:\n",
    "            return True\n",
    "\n",
    "        visited.add(a)\n",
    "\n",
    "        for x in self.adjacent[a]:\n",
    "            if self.dfs(x, b, visited):\n",
    "                return True\n",
    "\n",
    "        return False"
   ]
  },
  {
   "cell_type": "code",
   "execution_count": 2,
   "metadata": {},
   "outputs": [
    {
     "data": {
      "text/plain": [
       "True"
      ]
     },
     "execution_count": 2,
     "metadata": {},
     "output_type": "execute_result"
    }
   ],
   "source": [
    "g = GraphNode()\n",
    "\n",
    "g.addEdge(0, 1)\n",
    "g.addEdge(0, 2) \n",
    "g.addEdge(1, 2) \n",
    "g.addEdge(2, 0) \n",
    "g.addEdge(2, 3) \n",
    "g.addEdge(3, 3) \n",
    "\n",
    "s = set()\n",
    "g.dfs(0,0,s)"
   ]
  },
  {
   "cell_type": "code",
   "execution_count": 9,
   "metadata": {},
   "outputs": [],
   "source": [
    "def find_path(graph, start, end, chosen):\n",
    "    if start == end:\n",
    "        return chosen\n",
    "    \n",
    "    if start not in graph:\n",
    "        return None\n",
    "    \n",
    "    for node in graph[start]:\n",
    "        if node in chosen:\n",
    "            continue\n",
    "            \n",
    "        chosen.append(node)\n",
    "        path = find_path(graph, node, end, chosen)\n",
    "        \n",
    "        if path:\n",
    "            return path\n",
    "        \n",
    "    return None\n",
    "\n",
    "graph = {\n",
    "    'A' : ['B', 'C'],\n",
    "    'B' : ['C', 'D'],\n",
    "    'C' : ['D', 'F'],\n",
    "    'D' : ['C'],\n",
    "    'E' : ['F']\n",
    "}"
   ]
  },
  {
   "cell_type": "code",
   "execution_count": 10,
   "metadata": {},
   "outputs": [
    {
     "name": "stdout",
     "output_type": "stream",
     "text": [
      "['B', 'C', 'D']\n"
     ]
    }
   ],
   "source": [
    "print(find_path(graph, 'A', 'D', []))"
   ]
  },
  {
   "cell_type": "code",
   "execution_count": 11,
   "metadata": {},
   "outputs": [
    {
     "name": "stdout",
     "output_type": "stream",
     "text": [
      "['C', 'D', 'F']\n"
     ]
    }
   ],
   "source": [
    "print(find_path(graph, 'B', 'F', []))"
   ]
  }
 ],
 "metadata": {
  "kernelspec": {
   "display_name": "Python 3",
   "language": "python",
   "name": "python3"
  },
  "language_info": {
   "codemirror_mode": {
    "name": "ipython",
    "version": 3
   },
   "file_extension": ".py",
   "mimetype": "text/x-python",
   "name": "python",
   "nbconvert_exporter": "python",
   "pygments_lexer": "ipython3",
   "version": "3.7.1"
  }
 },
 "nbformat": 4,
 "nbformat_minor": 2
}
