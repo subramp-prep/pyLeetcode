{
 "cells": [
  {
   "cell_type": "code",
   "execution_count": null,
   "metadata": {},
   "outputs": [],
   "source": [
    "from array import *\n",
    "\n",
    "class Tree:       \n",
    "    def __init__(self, val):\n",
    "        self.val = val\n",
    "        self.left = None\n",
    "        self.right = None"
   ]
  },
  {
   "cell_type": "markdown",
   "metadata": {},
   "source": [
    "Below function is to build a tree given an array"
   ]
  },
  {
   "cell_type": "code",
   "execution_count": null,
   "metadata": {},
   "outputs": [],
   "source": [
    "def buildTree(nums, index, root):\n",
    "    if index < len(nums):        \n",
    "        root = Tree(nums[index])\n",
    "        root.left = buildTree(nums, 2*index+1, root.left)\n",
    "        root.right = buildTree(nums, 2*index+2, root.right)\n",
    "    return root"
   ]
  },
  {
   "cell_type": "code",
   "execution_count": null,
   "metadata": {},
   "outputs": [],
   "source": [
    "nums = [1,2,3,4,5,6,7,8,9]\n",
    "\n",
    "print(type(nums))\n",
    "\n",
    "list?\n",
    "\n",
    "#tree = buildTree(nums, 0, None)"
   ]
  },
  {
   "cell_type": "code",
   "execution_count": null,
   "metadata": {},
   "outputs": [],
   "source": [
    "expression = ['*', '+', '+', '3', '2', '4', '5']\n",
    "root = buildTree(expression, 0, None)"
   ]
  },
  {
   "cell_type": "code",
   "execution_count": null,
   "metadata": {},
   "outputs": [],
   "source": [
    "def inorder( root):\n",
    "        if root == None:\n",
    "            return\n",
    "\n",
    "        inorder(root.left)\n",
    "        print(root.val)\n",
    "        inorder(root.right)\n",
    "\n",
    "\n",
    "inorder(tree)"
   ]
  },
  {
   "cell_type": "code",
   "execution_count": null,
   "metadata": {},
   "outputs": [],
   "source": [
    "def preorder(root):\n",
    "    if root == None:\n",
    "        return\n",
    "    \n",
    "    print(root.val)\n",
    "    preorder(root.left)    \n",
    "    preorder(root.right)\n",
    "    \n",
    "preorder(tree)"
   ]
  },
  {
   "cell_type": "code",
   "execution_count": null,
   "metadata": {},
   "outputs": [],
   "source": [
    "def postorder(root):\n",
    "    if root == None:\n",
    "        return\n",
    "\n",
    "    postorder(root.left)        \n",
    "    postorder(root.right)\n",
    "    print(root.val)\n",
    "\n",
    "postorder(tree)"
   ]
  },
  {
   "cell_type": "code",
   "execution_count": null,
   "metadata": {},
   "outputs": [],
   "source": [
    "import sys,os,io,types\n",
    "\n",
    "print(os.curdir)\n",
    "\n",
    "os."
   ]
  },
  {
   "cell_type": "code",
   "execution_count": null,
   "metadata": {},
   "outputs": [],
   "source": [
    "%%bash\n",
    "\n",
    "date\n",
    "pwd\n",
    "whoami"
   ]
  },
  {
   "cell_type": "code",
   "execution_count": null,
   "metadata": {},
   "outputs": [],
   "source": [
    "PLUS = \"+\"\n",
    "MINUS = \"-\"\n",
    "TIMES = \"*\"\n",
    "DIVIDE = \"/\"\n",
    "\n",
    "def evaluate(root):    \n",
    "    if root.val == PLUS:\n",
    "        return evaluate(root.left) + evaluate(root.right)\n",
    "    elif root.val == MINUS:\n",
    "        return evaluate(root.left) - evaluate(root.right)\n",
    "    elif root.val == TIMES:\n",
    "        return evaluate(root.left) * evaluate(root.right)\n",
    "    elif root.val == DIVIDE:\n",
    "        return evaluate(root.left) / evaluate(root.right)\n",
    "    return root.val\n",
    "    \n",
    "evaluate(root)"
   ]
  },
  {
   "cell_type": "code",
   "execution_count": 6,
   "metadata": {},
   "outputs": [],
   "source": []
  },
  {
   "cell_type": "code",
   "execution_count": 15,
   "metadata": {},
   "outputs": [
    {
     "name": "stdout",
     "output_type": "stream",
     "text": [
      "deque([1, 2, 3, 4, 5, 6])\n",
      "Pop: 6\n",
      "deque([1, 2, 3, 4, 5])\n",
      "Popleft: 1\n",
      "deque([2, 3, 4, 5])\n"
     ]
    }
   ],
   "source": []
  },
  {
   "cell_type": "code",
   "execution_count": null,
   "metadata": {},
   "outputs": [],
   "source": []
  }
 ],
 "metadata": {
  "kernelspec": {
   "display_name": "Python 3",
   "language": "python",
   "name": "python3"
  },
  "language_info": {
   "codemirror_mode": {
    "name": "ipython",
    "version": 3
   },
   "file_extension": ".py",
   "mimetype": "text/x-python",
   "name": "python",
   "nbconvert_exporter": "python",
   "pygments_lexer": "ipython3",
   "version": "3.7.0"
  }
 },
 "nbformat": 4,
 "nbformat_minor": 2
}
