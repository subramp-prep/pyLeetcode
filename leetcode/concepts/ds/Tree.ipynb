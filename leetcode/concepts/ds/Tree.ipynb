{
 "cells": [
  {
   "cell_type": "code",
   "execution_count": 1,
   "metadata": {},
   "outputs": [],
   "source": [
    "from array import *\n",
    "\n",
    "class Tree:       \n",
    "    def __init__(self, val):\n",
    "        self.val = val\n",
    "        self.left = None\n",
    "        self.right = None"
   ]
  },
  {
   "cell_type": "markdown",
   "metadata": {},
   "source": [
    "# Below function is to build a tree given an array"
   ]
  },
  {
   "cell_type": "code",
   "execution_count": 2,
   "metadata": {},
   "outputs": [],
   "source": [
    "def buildTree(nums, index, root):\n",
    "    if index < len(nums):        \n",
    "        root = Tree(nums[index])\n",
    "        root.left = buildTree(nums, 2*index+1, root.left)\n",
    "        root.right = buildTree(nums, 2*index+2, root.right)\n",
    "    return root\n",
    "\n",
    "\n",
    "nums = [1,2,3,4,5,6,7,8,9]\n",
    "root = buildTree(nums, 0, None)"
   ]
  },
  {
   "cell_type": "markdown",
   "metadata": {},
   "source": [
    "# Inorder traversal ***recursive***"
   ]
  },
  {
   "cell_type": "code",
   "execution_count": 3,
   "metadata": {},
   "outputs": [
    {
     "name": "stdout",
     "output_type": "stream",
     "text": [
      "8, 4, 9, 2, 5, 1, 6, 3, 7, "
     ]
    }
   ],
   "source": [
    "def inorder(root):\n",
    "        if root == None:\n",
    "            return\n",
    "\n",
    "        inorder(root.left)\n",
    "        print(root.val, end = \", \")\n",
    "        inorder(root.right)\n",
    "\n",
    "\n",
    "inorder(root)"
   ]
  },
  {
   "cell_type": "markdown",
   "metadata": {},
   "source": [
    "# Inorder traversal ***iterative***"
   ]
  },
  {
   "cell_type": "code",
   "execution_count": null,
   "metadata": {},
   "outputs": [],
   "source": [
    "def inorderIterative(root):\n",
    "    stack = []\n",
    "    while root or len(stack) > 0:\n",
    "        if root:\n",
    "            stack.append(root)\n",
    "            root = root.left\n",
    "        else:\n",
    "            root = stack[-1] #cache the last value\n",
    "            print(root.val, end = \", \")\n",
    "            stack.pop()\n",
    "            root = root.right\n",
    "\n",
    "inorderIterative(root)"
   ]
  },
  {
   "cell_type": "markdown",
   "metadata": {},
   "source": [
    "# Preorder traversal ***recursive***"
   ]
  },
  {
   "cell_type": "code",
   "execution_count": null,
   "metadata": {},
   "outputs": [],
   "source": [
    "def preorder(root):\n",
    "    if root == None:\n",
    "        return\n",
    "    \n",
    "    print(root.val, end = \", \")\n",
    "    preorder(root.left)    \n",
    "    preorder(root.right)\n",
    "    \n",
    "preorder(root)"
   ]
  },
  {
   "cell_type": "markdown",
   "metadata": {},
   "source": [
    "# Preorder traversal ***iterative***"
   ]
  },
  {
   "cell_type": "code",
   "execution_count": null,
   "metadata": {},
   "outputs": [],
   "source": [
    "# approach similar to BFS\n",
    "# First add root\n",
    "# Use root to traverse other nodes, first adding right then left\n",
    "# to maintain the order \n",
    "\n",
    "def preorderRecursive(root):\n",
    "    stack = []\n",
    "    \n",
    "    stack.append(root)\n",
    "    while len(stack) > 0:\n",
    "        recent = stack[-1]\n",
    "        stack.pop()\n",
    "        \n",
    "        print(recent.val, end = \", \")\n",
    "        \n",
    "        if recent.right:\n",
    "            stack.append(recent.right)\n",
    "            \n",
    "        if recent.left:\n",
    "            stack.append(recent.left)\n",
    "            \n",
    "    \n",
    "preorderRecursive(root)"
   ]
  },
  {
   "cell_type": "markdown",
   "metadata": {},
   "source": [
    "# Postorder traversal ***recursive***"
   ]
  },
  {
   "cell_type": "code",
   "execution_count": null,
   "metadata": {},
   "outputs": [],
   "source": [
    "def postorder(root):\n",
    "    if root == None:\n",
    "        return\n",
    "\n",
    "    postorder(root.left)        \n",
    "    postorder(root.right)\n",
    "    print(root.val, end = \", \")\n",
    "\n",
    "postorder(root)"
   ]
  },
  {
   "cell_type": "markdown",
   "metadata": {},
   "source": [
    "# Postorder traversal ***iterative***"
   ]
  },
  {
   "cell_type": "code",
   "execution_count": null,
   "metadata": {},
   "outputs": [],
   "source": [
    "def postorderIterative(root):\n",
    "    stackNode = []\n",
    "    dataNode = []\n",
    "    \n",
    "    stackNode.append(root)\n",
    "    while len(stackNode) > 0:\n",
    "        recent = stackNode[-1]\n",
    "        \n",
    "        stackNode.pop()\n",
    "        dataNode.append(recent.val)\n",
    "        \n",
    "        if recent.left:\n",
    "            stackNode.append(recent.left)\n",
    "            \n",
    "        if recent.right:\n",
    "            stackNode.append(recent.right)\n",
    "            \n",
    "    while len(dataNode) > 0:\n",
    "        print(dataNode.pop(), end = \", \")\n",
    "        \n",
    "postorderIterative(root)"
   ]
  },
  {
   "cell_type": "code",
   "execution_count": null,
   "metadata": {},
   "outputs": [],
   "source": [
    "import sys,os,io,types\n",
    "\n",
    "print(os.curdir)\n",
    "\n",
    "#os."
   ]
  },
  {
   "cell_type": "code",
   "execution_count": null,
   "metadata": {},
   "outputs": [],
   "source": [
    "%%bash\n",
    "\n",
    "date\n",
    "pwd\n",
    "whoami"
   ]
  },
  {
   "cell_type": "code",
   "execution_count": null,
   "metadata": {},
   "outputs": [],
   "source": []
  }
 ],
 "metadata": {
  "kernelspec": {
   "display_name": "Python 3",
   "language": "python",
   "name": "python3"
  },
  "language_info": {
   "codemirror_mode": {
    "name": "ipython",
    "version": 3
   },
   "file_extension": ".py",
   "mimetype": "text/x-python",
   "name": "python",
   "nbconvert_exporter": "python",
   "pygments_lexer": "ipython3",
   "version": "3.7.1"
  }
 },
 "nbformat": 4,
 "nbformat_minor": 2
}
