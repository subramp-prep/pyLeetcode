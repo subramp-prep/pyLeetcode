{
 "cells": [
  {
   "cell_type": "code",
   "execution_count": 1,
   "metadata": {},
   "outputs": [],
   "source": [
    "class linkedListNode:    \n",
    "\n",
    "    def __init__(self, value):\n",
    "        self._value = value\n",
    "        self.next = None\n",
    "\n",
    "    def buildHeadNode(self, val):\n",
    "        return linkedListNode(val)\n",
    "\n",
    "    def createNodes(self,vals, head):\n",
    "        start = head\n",
    "        for val in vals:\n",
    "            node = linkedListNode(val)\n",
    "            head.next = node\n",
    "            head = node\n",
    "\n",
    "        return start\n",
    "\n",
    "    def printNodes(self, head):\n",
    "        \n",
    "        while head:\n",
    "            print('Value:', head._value)\n",
    "            head = head.next\n",
    "\n",
    "    def reverseNodes(self, head):\n",
    "\n",
    "        result = None\n",
    "        while head:\n",
    "            nextNode = head.next\n",
    "            head.next = result\n",
    "            result = head\n",
    "            head = nextNode\n",
    "\n",
    "        return result"
   ]
  },
  {
   "cell_type": "markdown",
   "metadata": {},
   "source": [
    "## Create head node"
   ]
  },
  {
   "cell_type": "code",
   "execution_count": 2,
   "metadata": {},
   "outputs": [],
   "source": [
    "headNode = linkedListNode(1)"
   ]
  },
  {
   "cell_type": "markdown",
   "metadata": {},
   "source": [
    "## Build more nodes"
   ]
  },
  {
   "cell_type": "code",
   "execution_count": 3,
   "metadata": {},
   "outputs": [],
   "source": [
    "nodes = headNode.createNodes([2, 3, 4, 5, 6], headNode)"
   ]
  },
  {
   "cell_type": "markdown",
   "metadata": {},
   "source": [
    "## Print all nodes"
   ]
  },
  {
   "cell_type": "code",
   "execution_count": 4,
   "metadata": {},
   "outputs": [
    {
     "name": "stdout",
     "output_type": "stream",
     "text": [
      "Value: 1\n",
      "Value: 2\n",
      "Value: 3\n",
      "Value: 4\n",
      "Value: 5\n",
      "Value: 6\n"
     ]
    }
   ],
   "source": [
    "headNode.printNodes(headNode)"
   ]
  },
  {
   "cell_type": "markdown",
   "metadata": {},
   "source": [
    "## Reverse nodes"
   ]
  },
  {
   "cell_type": "code",
   "execution_count": 5,
   "metadata": {},
   "outputs": [
    {
     "name": "stdout",
     "output_type": "stream",
     "text": [
      "Value: 6\n",
      "Value: 5\n",
      "Value: 4\n",
      "Value: 3\n",
      "Value: 2\n",
      "Value: 1\n"
     ]
    }
   ],
   "source": [
    "reverseNodes = headNode.reverseNodes(headNode)\n",
    "headNode.printNodes(reverseNodes)"
   ]
  }
 ],
 "metadata": {
  "kernelspec": {
   "display_name": "Python 3",
   "language": "python",
   "name": "python3"
  },
  "language_info": {
   "codemirror_mode": {
    "name": "ipython",
    "version": 3
   },
   "file_extension": ".py",
   "mimetype": "text/x-python",
   "name": "python",
   "nbconvert_exporter": "python",
   "pygments_lexer": "ipython3",
   "version": "3.7.1"
  }
 },
 "nbformat": 4,
 "nbformat_minor": 2
}
