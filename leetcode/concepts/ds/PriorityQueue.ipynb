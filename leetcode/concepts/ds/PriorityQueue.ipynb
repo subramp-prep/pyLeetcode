{
 "cells": [
  {
   "cell_type": "markdown",
   "metadata": {},
   "source": [
    "The reason we re-implement a priority queue is to improve its effiiciency. When we implemented a priority queue with an array or a linked list, the efficiency of some operations were O(n).\n",
    "\n",
    "\n",
    " \n",
    " |  DS           | insert   |  deleteMin| remove  |\t  findMin  |\n",
    " | --------------| ---------| ----------| ------| ------ |\n",
    " |ordered array\t  | O(n)\t | O(1)\t    | O(n)\t| O(1) |\n",
    " |ordered list\t  | O(n)\t | O(1)\t    | O(1)\t| O(1) |\n",
    " |unordered array | O(1)\t | O(n)\t    | O(1)\t| O(n) |\n",
    " |unordered list  | O(1)\t | O(n)\t    | O(1)\t| O(n) |\n"
   ]
  },
  {
   "cell_type": "code",
   "execution_count": null,
   "metadata": {},
   "outputs": [],
   "source": []
  }
 ],
 "metadata": {
  "kernelspec": {
   "display_name": "Python 3",
   "language": "python",
   "name": "python3"
  },
  "language_info": {
   "codemirror_mode": {
    "name": "ipython",
    "version": 3
   },
   "file_extension": ".py",
   "mimetype": "text/x-python",
   "name": "python",
   "nbconvert_exporter": "python",
   "pygments_lexer": "ipython3",
   "version": "3.7.4"
  }
 },
 "nbformat": 4,
 "nbformat_minor": 2
}
