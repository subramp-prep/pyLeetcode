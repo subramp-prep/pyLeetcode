{
 "cells": [
  {
   "cell_type": "markdown",
   "metadata": {},
   "source": [
    "The reason we re-implement a priority queue is to improve its effiiciency. When we implemented a priority queue with an array or a linked list, the efficiency of some operations were O(n).\n",
    "\n",
    "\n",
    " \n",
    " |  DS           | insert   |  deleteMin| remove  |\t  findMin  |\n",
    " | --------------| ---------| ----------| ------| ------ |\n",
    " |ordered array\t  | O(n)\t | O(1)\t    | O(n)\t| O(1) |\n",
    " |ordered list\t  | O(n)\t | O(1)\t    | O(1)\t| O(1) |\n",
    " |unordered array | O(1)\t | O(n)\t    | O(1)\t| O(n) |\n",
    " |unordered list  | O(1)\t | O(n)\t    | O(1)\t| O(n) |\n",
    "\n",
    "\n",
    "Priority queue arranges elements based on a priority, the higher priority elements are always in front of the queue. As the high priority element is popped, the next high priority element moves to the front.\n",
    "\n",
    "Applications\n",
    "\n",
    "- Dijkstra's algorithm\n",
    "- Prim's\n",
    "- Data compression\n",
    "- A* search algorithm\n",
    "- Heap sort"
   ]
  },
  {
   "cell_type": "code",
   "execution_count": 1,
   "metadata": {},
   "outputs": [],
   "source": [
    "class PriorityQueueNode:\n",
    "    def __init__(self, data, key):\n",
    "        self.data = data\n",
    "        self.val = key\n",
    "        \n",
    "    def __repr__(self):\n",
    "        return str(self.data) + ':' + str(self.val)\n",
    "    \n",
    "class PriorityQueue:\n",
    "    def __init__(self):\n",
    "        self.array = []\n",
    "        \n",
    "    def insert(self, node):\n",
    "        self.array.append(node)\n",
    "        return self.array[-1]\n",
    "    \n",
    "    def extract_min(self):\n",
    "        minIndex = -1\n",
    "        minValue = float('inf')\n",
    "        \n",
    "        for i, v in enumerate(self.array):\n",
    "            if minValue > v.val:\n",
    "                minValue = v.val\n",
    "                minIndex = i\n",
    "                \n",
    "        return self.array.pop(minIndex)\n",
    "    \n",
    "    def decrease_key(self, obj, key):\n",
    "        \n",
    "        for node in self.array:\n",
    "            if node is obj:\n",
    "                node.val = key\n",
    "                return node\n",
    "            \n",
    "        return None"
   ]
  },
  {
   "cell_type": "code",
   "execution_count": 4,
   "metadata": {},
   "outputs": [
    {
     "name": "stdout",
     "output_type": "stream",
     "text": [
      "[f:2, b:5, c:15, a:20, d:22]\n"
     ]
    }
   ],
   "source": [
    "pq = PriorityQueue()\n",
    "pq.insert(PriorityQueueNode('a', 20))\n",
    "pq.insert(PriorityQueueNode('b', 5))\n",
    "pq.insert(PriorityQueueNode('c', 15))\n",
    "pq.insert(PriorityQueueNode('d', 22))\n",
    "pq.insert(PriorityQueueNode('f', 2))\n",
    "\n",
    "mins = []\n",
    "while pq.array:\n",
    "    mins.append(pq.extract_min())\n",
    "    \n",
    "print(mins)"
   ]
  }
 ],
 "metadata": {
  "kernelspec": {
   "display_name": "Python 3",
   "language": "python",
   "name": "python3"
  },
  "language_info": {
   "codemirror_mode": {
    "name": "ipython",
    "version": 3
   },
   "file_extension": ".py",
   "mimetype": "text/x-python",
   "name": "python",
   "nbconvert_exporter": "python",
   "pygments_lexer": "ipython3",
   "version": "3.7.4"
  }
 },
 "nbformat": 4,
 "nbformat_minor": 2
}
