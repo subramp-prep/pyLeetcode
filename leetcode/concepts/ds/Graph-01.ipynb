{
 "cells": [
  {
   "cell_type": "code",
   "execution_count": 1,
   "metadata": {},
   "outputs": [],
   "source": [
    "class Graph:\n",
    "    def __init__(self):\n",
    "        self.maps = {}\n",
    "        self.inDegress = {}\n",
    "\n",
    "    def insertNode(self, u, v):\n",
    "        self.maps[u] = self.maps.setdefault(u, []) + [v]\n",
    "        self.inDegress[v] = self.inDegress.setdefault(v, 0) + 1\n",
    "        self.inDegress[u] = self.inDegress.setdefault(u, 0)\n",
    "\n",
    "    def displayNodes(self):\n",
    "\n",
    "        for k in self.maps:\n",
    "            print(k, end=':')\n",
    "\n",
    "            for n in self.maps[k]:\n",
    "                print(n, end=' ')\n",
    "\n",
    "            print(' ')\n",
    "\n",
    "    def getNodes(self):\n",
    "        nodes = set()\n",
    "\n",
    "        for k in self.maps:\n",
    "            nodes.add(k)\n",
    "            \n",
    "            for v in self.maps[k]:\n",
    "                nodes.add(v)\n",
    "\n",
    "        return nodes\n",
    "\n",
    "    def getOnlyOutgoing(self):\n",
    "        incoming = set()\n",
    "        outgoing = set()\n",
    "\n",
    "        for k in self.maps:\n",
    "            \n",
    "            outgoing.add(k)\n",
    "\n",
    "            for n in self.maps[k]:\n",
    "                incoming.add(n)\n",
    "\n",
    "        for o in incoming:\n",
    "            if o in outgoing:\n",
    "                outgoing.remove(o)\n",
    "\n",
    "        return outgoing\n",
    "\n",
    "    '''\n",
    "    L ← Empty list that will contain the sorted elements\n",
    "    S ← Set of all nodes with no incoming edge\n",
    "    while S is non-empty do\n",
    "        remove a node n from S\n",
    "        add n to tail of L\n",
    "        for each node m with an edge e from n to m do\n",
    "            remove edge e from the graph\n",
    "            if m has no other incoming edges then\n",
    "                insert m into S\n",
    "    if graph has edges then\n",
    "        return error   (graph has at least one cycle)\n",
    "    else \n",
    "        return L   (a topologically sorted order)\n",
    "    \n",
    "    5, 7, 3, 11, 8, 2, 9, 10 (visual left-to-right, top-to-bottom)\n",
    "    3, 5, 7, 8, 11, 2, 9, 10 (smallest-numbered available vertex first)\n",
    "    5, 7, 3, 8, 11, 10, 9, 2 (fewest edges first)\n",
    "    7, 5, 11, 3, 10, 8, 9, 2 (largest-numbered available vertex first)\n",
    "    5, 7, 11, 2, 3, 8, 9, 10 (attempting top-to-bottom, left-to-right)\n",
    "    3, 7, 8, 5, 11, 10, 2, 9 (arbitrary)\n",
    "    '''\n",
    "    def kahnsTopolgicalSort(self):\n",
    "        L = []\n",
    "        #S = self.getOnlyOutgoing()\n",
    "        S = []\n",
    "        tMaps = self.maps.copy()\n",
    "        tInDegree = self.inDegress.copy()\n",
    "\n",
    "        for n in self.inDegress:\n",
    "            if self.inDegress[n] == 0:\n",
    "                S.append(n)\n",
    "\n",
    "        while len(S) > 0:\n",
    "\n",
    "            n = S.pop(0)\n",
    "            L.append(n)\n",
    "\n",
    "            if n in tMaps:\n",
    "                for m in tMaps[n]:\n",
    "                    tInDegree[m] -= 1\n",
    "\n",
    "                    if tInDegree[m] == 0:\n",
    "                        S.append(m)\n",
    "\n",
    "        print(L)\n",
    "\n",
    "        return L"
   ]
  },
  {
   "cell_type": "code",
   "execution_count": 2,
   "metadata": {},
   "outputs": [
    {
     "name": "stdout",
     "output_type": "stream",
     "text": [
      "[5, 4, 2, 0, 3, 1]\n"
     ]
    },
    {
     "data": {
      "text/plain": [
       "[5, 4, 2, 0, 3, 1]"
      ]
     },
     "execution_count": 2,
     "metadata": {},
     "output_type": "execute_result"
    }
   ],
   "source": [
    "num1g = Graph()\n",
    "num1g.insertNode(5, 0)\n",
    "num1g.insertNode(4, 0)\n",
    "num1g.insertNode(5, 2)\n",
    "num1g.insertNode(4, 1)\n",
    "num1g.insertNode(2, 3)\n",
    "num1g.insertNode(3, 1)\n",
    "num1g.kahnsTopolgicalSort()"
   ]
  },
  {
   "cell_type": "code",
   "execution_count": null,
   "metadata": {},
   "outputs": [],
   "source": []
  }
 ],
 "metadata": {
  "kernelspec": {
   "display_name": "Python 3",
   "language": "python",
   "name": "python3"
  },
  "language_info": {
   "codemirror_mode": {
    "name": "ipython",
    "version": 3
   },
   "file_extension": ".py",
   "mimetype": "text/x-python",
   "name": "python",
   "nbconvert_exporter": "python",
   "pygments_lexer": "ipython3",
   "version": "3.7.4"
  }
 },
 "nbformat": 4,
 "nbformat_minor": 2
}
