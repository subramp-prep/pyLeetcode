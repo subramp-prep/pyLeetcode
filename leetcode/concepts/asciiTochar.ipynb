{
 "cells": [
  {
   "cell_type": "markdown",
   "metadata": {},
   "source": [
    "# integer to ascii"
   ]
  },
  {
   "cell_type": "code",
   "execution_count": 5,
   "metadata": {},
   "outputs": [
    {
     "name": "stdout",
     "output_type": "stream",
     "text": [
      "33 : !\t34 : \"\t35 : #\t36 : $\t37 : %\t38 : &\t39 : '\t40 : (\t41 : )\t42 : *\t43 : +\t44 : ,\t45 : -\t46 : .\t47 : /\t48 : 0\t49 : 1\t50 : 2\t51 : 3\t52 : 4\t53 : 5\t54 : 6\t55 : 7\t56 : 8\t57 : 9\t58 : :\t59 : ;\t60 : <\t61 : =\t62 : >\t63 : ?\t64 : @\t65 : A\t66 : B\t67 : C\t68 : D\t69 : E\t70 : F\t71 : G\t72 : H\t73 : I\t74 : J\t75 : K\t76 : L\t77 : M\t78 : N\t79 : O\t80 : P\t81 : Q\t82 : R\t83 : S\t84 : T\t85 : U\t86 : V\t87 : W\t88 : X\t89 : Y\t90 : Z\t91 : [\t92 : \\\t93 : ]\t94 : ^\t95 : _\t96 : `\t97 : a\t98 : b\t99 : c\t100 : d\t101 : e\t102 : f\t103 : g\t104 : h\t105 : i\t106 : j\t107 : k\t108 : l\t109 : m\t110 : n\t111 : o\t112 : p\t113 : q\t114 : r\t115 : s\t116 : t\t117 : u\t118 : v\t119 : w\t120 : x\t121 : y\t122 : z\t123 : {\t124 : |\t"
     ]
    }
   ],
   "source": [
    "for i in range(33,125):\n",
    "    print(i, ':' ,chr(i), end = '\\t')"
   ]
  },
  {
   "cell_type": "markdown",
   "metadata": {},
   "source": [
    "# ascii to integer"
   ]
  },
  {
   "cell_type": "markdown",
   "metadata": {},
   "source": [
    "## lowercase"
   ]
  },
  {
   "cell_type": "code",
   "execution_count": 2,
   "metadata": {},
   "outputs": [
    {
     "name": "stdout",
     "output_type": "stream",
     "text": [
      "a : 97\tb : 98\tc : 99\td : 100\te : 101\tf : 102\tg : 103\th : 104\ti : 105\tj : 106\tk : 107\tl : 108\tm : 109\tn : 110\to : 111\tp : 112\tq : 113\tr : 114\ts : 115\tt : 116\tu : 117\tv : 118\tw : 119\tx : 120\ty : 121\tz : 122\t"
     ]
    }
   ],
   "source": [
    "lowerCase = 'abcdefghijklmnopqrstuvwxyz'\n",
    "\n",
    "for c in range(len(lowerCase)):\n",
    "    print(lowerCase[c], ':', ord(lowerCase[c]), end = '\\t')"
   ]
  },
  {
   "cell_type": "markdown",
   "metadata": {},
   "source": [
    "## uppercase"
   ]
  },
  {
   "cell_type": "code",
   "execution_count": 3,
   "metadata": {},
   "outputs": [
    {
     "name": "stdout",
     "output_type": "stream",
     "text": [
      "A : 65\tB : 66\tC : 67\tD : 68\tE : 69\tF : 70\tG : 71\tH : 72\tI : 73\tJ : 74\tK : 75\tL : 76\tM : 77\tN : 78\tO : 79\tP : 80\tQ : 81\tR : 82\tS : 83\tT : 84\tU : 85\tV : 86\tW : 87\tX : 88\tY : 89\tZ : 90\t"
     ]
    }
   ],
   "source": [
    "upperCase = 'ABCDEFGHIJKLMNOPQRSTUVWXYZ'\n",
    "\n",
    "for c in range(len(upperCase)):\n",
    "    print(upperCase[c], ':', ord(upperCase[c]), end = '\\t')"
   ]
  },
  {
   "cell_type": "markdown",
   "metadata": {},
   "source": [
    "## numbers"
   ]
  },
  {
   "cell_type": "code",
   "execution_count": 4,
   "metadata": {},
   "outputs": [
    {
     "name": "stdout",
     "output_type": "stream",
     "text": [
      "0 : 48\t1 : 49\t2 : 50\t3 : 51\t4 : 52\t5 : 53\t6 : 54\t7 : 55\t8 : 56\t8 : 56\t9 : 57\t"
     ]
    }
   ],
   "source": [
    "numbers = '01234567889'\n",
    "\n",
    "for c in range(len(numbers)):\n",
    "    print(numbers[c], ':', ord(numbers[c]), end = '\\t')"
   ]
  }
 ],
 "metadata": {
  "kernelspec": {
   "display_name": "Python 3",
   "language": "python",
   "name": "python3"
  },
  "language_info": {
   "codemirror_mode": {
    "name": "ipython",
    "version": 3
   },
   "file_extension": ".py",
   "mimetype": "text/x-python",
   "name": "python",
   "nbconvert_exporter": "python",
   "pygments_lexer": "ipython3",
   "version": "3.7.1"
  }
 },
 "nbformat": 4,
 "nbformat_minor": 2
}
