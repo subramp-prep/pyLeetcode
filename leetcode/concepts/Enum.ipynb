{
 "cells": [
  {
   "cell_type": "code",
   "execution_count": null,
   "metadata": {},
   "outputs": [],
   "source": [
    "import enum\n",
    "\n",
    "#dir(enum)\n",
    "\n",
    "sets = set()\n",
    "print(type(sets))\n",
    "\n",
    "sets.add(1)\n",
    "sets.add(1)\n",
    "sets.add(23)\n",
    "\n",
    "print(sets)\n",
    "\n",
    "sets.pop()\n",
    "\n",
    "print(sets)"
   ]
  },
  {
   "cell_type": "code",
   "execution_count": 5,
   "metadata": {},
   "outputs": [
    {
     "name": "stdout",
     "output_type": "stream",
     "text": [
      "l1: [1, 2, 3]\n",
      "l2: [23, 34, 67, 78]\n",
      "l3: [23, 45]\n"
     ]
    },
    {
     "data": {
      "text/plain": [
       "[(1, 67, 23), (2, 78, 45)]"
      ]
     },
     "execution_count": 5,
     "metadata": {},
     "output_type": "execute_result"
    }
   ],
   "source": [
    "l1 = [1,2,3]\n",
    "l2 = [67,78,23, 34]\n",
    "l3 = [23, 45]\n",
    "\n",
    "\n",
    "print('l1:', sorted(l1))\n",
    "print('l2:', sorted(l2))\n",
    "print('l3:', sorted(l3))\n",
    "\n",
    "z = zip(l1, l2, l3)\n",
    "\n",
    "list(z)"
   ]
  },
  {
   "cell_type": "code",
   "execution_count": null,
   "metadata": {},
   "outputs": [],
   "source": [
    "def reverseStringOri(s):\n",
    "    r = ''\n",
    "    for c in s:\n",
    "        r = c + r\n",
    "    return r\n",
    "\n",
    "def reverseString(s):\n",
    "    return s[::-1]\n",
    "    \n",
    "s = 'Mitra'\n",
    "\n",
    "print('s[1:4] = ',s[1:4])\n",
    "print('s[-1] = ',s[::-1])"
   ]
  }
 ],
 "metadata": {
  "kernelspec": {
   "display_name": "Python 3",
   "language": "python",
   "name": "python3"
  },
  "language_info": {
   "codemirror_mode": {
    "name": "ipython",
    "version": 3
   },
   "file_extension": ".py",
   "mimetype": "text/x-python",
   "name": "python",
   "nbconvert_exporter": "python",
   "pygments_lexer": "ipython3",
   "version": "3.7.0"
  }
 },
 "nbformat": 4,
 "nbformat_minor": 2
}
