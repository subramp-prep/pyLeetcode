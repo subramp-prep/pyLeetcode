{
 "cells": [
  {
   "cell_type": "code",
   "execution_count": 2,
   "metadata": {},
   "outputs": [
    {
     "data": {
      "text/plain": [
       "['DynamicClassAttribute',\n",
       " 'Enum',\n",
       " 'EnumMeta',\n",
       " 'Flag',\n",
       " 'IntEnum',\n",
       " 'IntFlag',\n",
       " 'MappingProxyType',\n",
       " 'OrderedDict',\n",
       " '_EnumDict',\n",
       " '__all__',\n",
       " '__builtins__',\n",
       " '__cached__',\n",
       " '__doc__',\n",
       " '__file__',\n",
       " '__loader__',\n",
       " '__name__',\n",
       " '__package__',\n",
       " '__spec__',\n",
       " '_auto_null',\n",
       " '_decompose',\n",
       " '_high_bit',\n",
       " '_is_descriptor',\n",
       " '_is_dunder',\n",
       " '_is_sunder',\n",
       " '_make_class_unpicklable',\n",
       " '_power_of_two',\n",
       " '_reduce_ex_by_name',\n",
       " 'auto',\n",
       " 'sys',\n",
       " 'unique']"
      ]
     },
     "execution_count": 2,
     "metadata": {},
     "output_type": "execute_result"
    }
   ],
   "source": [
    "import enum\n",
    "\n",
    "dir(enum)"
   ]
  },
  {
   "cell_type": "code",
   "execution_count": null,
   "metadata": {},
   "outputs": [],
   "source": []
  }
 ],
 "metadata": {
  "kernelspec": {
   "display_name": "Python 3",
   "language": "python",
   "name": "python3"
  },
  "language_info": {
   "codemirror_mode": {
    "name": "ipython",
    "version": 3
   },
   "file_extension": ".py",
   "mimetype": "text/x-python",
   "name": "python",
   "nbconvert_exporter": "python",
   "pygments_lexer": "ipython3",
   "version": "3.7.0"
  }
 },
 "nbformat": 4,
 "nbformat_minor": 2
}
