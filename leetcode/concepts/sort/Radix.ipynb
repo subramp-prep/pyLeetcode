{
 "cells": [
  {
   "cell_type": "code",
   "execution_count": 5,
   "metadata": {},
   "outputs": [],
   "source": [
    "def bucket(nums, digit, base=10):\n",
    "    buckets = [[] for _ in range(base)]\n",
    "    \n",
    "    for num in nums:\n",
    "        bucketIndex = (num//base**digit)%base\n",
    "        buckets[bucketIndex].append(num)\n",
    "        \n",
    "    result = []\n",
    "    \n",
    "    for bucket in buckets:\n",
    "        result.extend(bucket)\n",
    "        \n",
    "    return result\n",
    "\n",
    "def radixSort(nums, digits=10):\n",
    "    \n",
    "    for digit in range(digits):\n",
    "        nums = bucket(nums, digit)\n",
    "        \n",
    "    return nums"
   ]
  },
  {
   "cell_type": "code",
   "execution_count": 6,
   "metadata": {},
   "outputs": [
    {
     "name": "stdout",
     "output_type": "stream",
     "text": [
      "[1, 23, 54, 423, 525, 679]\n"
     ]
    }
   ],
   "source": [
    "print(radixSort([54, 23, 1, 679, 525, 423]))"
   ]
  },
  {
   "cell_type": "code",
   "execution_count": null,
   "metadata": {},
   "outputs": [],
   "source": []
  }
 ],
 "metadata": {
  "kernelspec": {
   "display_name": "Python 3",
   "language": "python",
   "name": "python3"
  },
  "language_info": {
   "codemirror_mode": {
    "name": "ipython",
    "version": 3
   },
   "file_extension": ".py",
   "mimetype": "text/x-python",
   "name": "python",
   "nbconvert_exporter": "python",
   "pygments_lexer": "ipython3",
   "version": "3.7.1"
  }
 },
 "nbformat": 4,
 "nbformat_minor": 2
}
