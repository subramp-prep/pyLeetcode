{
 "cells": [
  {
   "cell_type": "markdown",
   "metadata": {},
   "source": [
    "![Sort Big )](../img/sort.png)"
   ]
  },
  {
   "cell_type": "code",
   "execution_count": 19,
   "metadata": {},
   "outputs": [],
   "source": [
    "def insertionSort(nums):\n",
    "    for i in range(1, len(nums)):\n",
    "        print('For i=', i)\n",
    "        j = i\n",
    "        while j > 0 and nums[j] < nums[j-1]:\n",
    "            print('While j=', j, ' Before Nums=', nums, end = '\\t')\n",
    "            nums[j], nums[j-1] = nums[j-1], nums[j]\n",
    "            j = j-1\n",
    "            print(' After nums=', nums)\n",
    "            \n",
    "    return nums"
   ]
  },
  {
   "cell_type": "code",
   "execution_count": 20,
   "metadata": {},
   "outputs": [
    {
     "name": "stdout",
     "output_type": "stream",
     "text": [
      "For i= 1\n",
      "While j= 1  Before Nums= [2, 1, 5, 4, 3]\t After nums= [1, 2, 5, 4, 3]\n",
      "For i= 2\n",
      "For i= 3\n",
      "While j= 3  Before Nums= [1, 2, 5, 4, 3]\t After nums= [1, 2, 4, 5, 3]\n",
      "For i= 4\n",
      "While j= 4  Before Nums= [1, 2, 4, 5, 3]\t After nums= [1, 2, 4, 3, 5]\n",
      "While j= 3  Before Nums= [1, 2, 4, 3, 5]\t After nums= [1, 2, 3, 4, 5]\n"
     ]
    },
    {
     "data": {
      "text/plain": [
       "[1, 2, 3, 4, 5]"
      ]
     },
     "execution_count": 20,
     "metadata": {},
     "output_type": "execute_result"
    }
   ],
   "source": [
    "insertionSort([2,1,5,4,3])"
   ]
  },
  {
   "cell_type": "code",
   "execution_count": 21,
   "metadata": {},
   "outputs": [
    {
     "name": "stdout",
     "output_type": "stream",
     "text": [
      "For i= 1\n",
      "For i= 2\n",
      "While j= 2  Before Nums= [4, 5, 3, 1, 2]\t After nums= [4, 3, 5, 1, 2]\n",
      "While j= 1  Before Nums= [4, 3, 5, 1, 2]\t After nums= [3, 4, 5, 1, 2]\n",
      "For i= 3\n",
      "While j= 3  Before Nums= [3, 4, 5, 1, 2]\t After nums= [3, 4, 1, 5, 2]\n",
      "While j= 2  Before Nums= [3, 4, 1, 5, 2]\t After nums= [3, 1, 4, 5, 2]\n",
      "While j= 1  Before Nums= [3, 1, 4, 5, 2]\t After nums= [1, 3, 4, 5, 2]\n",
      "For i= 4\n",
      "While j= 4  Before Nums= [1, 3, 4, 5, 2]\t After nums= [1, 3, 4, 2, 5]\n",
      "While j= 3  Before Nums= [1, 3, 4, 2, 5]\t After nums= [1, 3, 2, 4, 5]\n",
      "While j= 2  Before Nums= [1, 3, 2, 4, 5]\t After nums= [1, 2, 3, 4, 5]\n"
     ]
    },
    {
     "data": {
      "text/plain": [
       "[1, 2, 3, 4, 5]"
      ]
     },
     "execution_count": 21,
     "metadata": {},
     "output_type": "execute_result"
    }
   ],
   "source": [
    "insertionSort([4,5,3,1,2])"
   ]
  },
  {
   "cell_type": "code",
   "execution_count": 23,
   "metadata": {},
   "outputs": [
    {
     "name": "stdout",
     "output_type": "stream",
     "text": [
      "For i= 1\n",
      "For i= 2\n",
      "For i= 3\n",
      "While j= 3  Before Nums= ['I', 'N', 'S', 'E', 'R', 'T', 'I', 'O', 'N', 'S', 'O', 'R', 'T']\t After nums= ['I', 'N', 'E', 'S', 'R', 'T', 'I', 'O', 'N', 'S', 'O', 'R', 'T']\n",
      "While j= 2  Before Nums= ['I', 'N', 'E', 'S', 'R', 'T', 'I', 'O', 'N', 'S', 'O', 'R', 'T']\t After nums= ['I', 'E', 'N', 'S', 'R', 'T', 'I', 'O', 'N', 'S', 'O', 'R', 'T']\n",
      "While j= 1  Before Nums= ['I', 'E', 'N', 'S', 'R', 'T', 'I', 'O', 'N', 'S', 'O', 'R', 'T']\t After nums= ['E', 'I', 'N', 'S', 'R', 'T', 'I', 'O', 'N', 'S', 'O', 'R', 'T']\n",
      "For i= 4\n",
      "While j= 4  Before Nums= ['E', 'I', 'N', 'S', 'R', 'T', 'I', 'O', 'N', 'S', 'O', 'R', 'T']\t After nums= ['E', 'I', 'N', 'R', 'S', 'T', 'I', 'O', 'N', 'S', 'O', 'R', 'T']\n",
      "For i= 5\n",
      "For i= 6\n",
      "While j= 6  Before Nums= ['E', 'I', 'N', 'R', 'S', 'T', 'I', 'O', 'N', 'S', 'O', 'R', 'T']\t After nums= ['E', 'I', 'N', 'R', 'S', 'I', 'T', 'O', 'N', 'S', 'O', 'R', 'T']\n",
      "While j= 5  Before Nums= ['E', 'I', 'N', 'R', 'S', 'I', 'T', 'O', 'N', 'S', 'O', 'R', 'T']\t After nums= ['E', 'I', 'N', 'R', 'I', 'S', 'T', 'O', 'N', 'S', 'O', 'R', 'T']\n",
      "While j= 4  Before Nums= ['E', 'I', 'N', 'R', 'I', 'S', 'T', 'O', 'N', 'S', 'O', 'R', 'T']\t After nums= ['E', 'I', 'N', 'I', 'R', 'S', 'T', 'O', 'N', 'S', 'O', 'R', 'T']\n",
      "While j= 3  Before Nums= ['E', 'I', 'N', 'I', 'R', 'S', 'T', 'O', 'N', 'S', 'O', 'R', 'T']\t After nums= ['E', 'I', 'I', 'N', 'R', 'S', 'T', 'O', 'N', 'S', 'O', 'R', 'T']\n",
      "For i= 7\n",
      "While j= 7  Before Nums= ['E', 'I', 'I', 'N', 'R', 'S', 'T', 'O', 'N', 'S', 'O', 'R', 'T']\t After nums= ['E', 'I', 'I', 'N', 'R', 'S', 'O', 'T', 'N', 'S', 'O', 'R', 'T']\n",
      "While j= 6  Before Nums= ['E', 'I', 'I', 'N', 'R', 'S', 'O', 'T', 'N', 'S', 'O', 'R', 'T']\t After nums= ['E', 'I', 'I', 'N', 'R', 'O', 'S', 'T', 'N', 'S', 'O', 'R', 'T']\n",
      "While j= 5  Before Nums= ['E', 'I', 'I', 'N', 'R', 'O', 'S', 'T', 'N', 'S', 'O', 'R', 'T']\t After nums= ['E', 'I', 'I', 'N', 'O', 'R', 'S', 'T', 'N', 'S', 'O', 'R', 'T']\n",
      "For i= 8\n",
      "While j= 8  Before Nums= ['E', 'I', 'I', 'N', 'O', 'R', 'S', 'T', 'N', 'S', 'O', 'R', 'T']\t After nums= ['E', 'I', 'I', 'N', 'O', 'R', 'S', 'N', 'T', 'S', 'O', 'R', 'T']\n",
      "While j= 7  Before Nums= ['E', 'I', 'I', 'N', 'O', 'R', 'S', 'N', 'T', 'S', 'O', 'R', 'T']\t After nums= ['E', 'I', 'I', 'N', 'O', 'R', 'N', 'S', 'T', 'S', 'O', 'R', 'T']\n",
      "While j= 6  Before Nums= ['E', 'I', 'I', 'N', 'O', 'R', 'N', 'S', 'T', 'S', 'O', 'R', 'T']\t After nums= ['E', 'I', 'I', 'N', 'O', 'N', 'R', 'S', 'T', 'S', 'O', 'R', 'T']\n",
      "While j= 5  Before Nums= ['E', 'I', 'I', 'N', 'O', 'N', 'R', 'S', 'T', 'S', 'O', 'R', 'T']\t After nums= ['E', 'I', 'I', 'N', 'N', 'O', 'R', 'S', 'T', 'S', 'O', 'R', 'T']\n",
      "For i= 9\n",
      "While j= 9  Before Nums= ['E', 'I', 'I', 'N', 'N', 'O', 'R', 'S', 'T', 'S', 'O', 'R', 'T']\t After nums= ['E', 'I', 'I', 'N', 'N', 'O', 'R', 'S', 'S', 'T', 'O', 'R', 'T']\n",
      "For i= 10\n",
      "While j= 10  Before Nums= ['E', 'I', 'I', 'N', 'N', 'O', 'R', 'S', 'S', 'T', 'O', 'R', 'T']\t After nums= ['E', 'I', 'I', 'N', 'N', 'O', 'R', 'S', 'S', 'O', 'T', 'R', 'T']\n",
      "While j= 9  Before Nums= ['E', 'I', 'I', 'N', 'N', 'O', 'R', 'S', 'S', 'O', 'T', 'R', 'T']\t After nums= ['E', 'I', 'I', 'N', 'N', 'O', 'R', 'S', 'O', 'S', 'T', 'R', 'T']\n",
      "While j= 8  Before Nums= ['E', 'I', 'I', 'N', 'N', 'O', 'R', 'S', 'O', 'S', 'T', 'R', 'T']\t After nums= ['E', 'I', 'I', 'N', 'N', 'O', 'R', 'O', 'S', 'S', 'T', 'R', 'T']\n",
      "While j= 7  Before Nums= ['E', 'I', 'I', 'N', 'N', 'O', 'R', 'O', 'S', 'S', 'T', 'R', 'T']\t After nums= ['E', 'I', 'I', 'N', 'N', 'O', 'O', 'R', 'S', 'S', 'T', 'R', 'T']\n",
      "For i= 11\n",
      "While j= 11  Before Nums= ['E', 'I', 'I', 'N', 'N', 'O', 'O', 'R', 'S', 'S', 'T', 'R', 'T']\t After nums= ['E', 'I', 'I', 'N', 'N', 'O', 'O', 'R', 'S', 'S', 'R', 'T', 'T']\n",
      "While j= 10  Before Nums= ['E', 'I', 'I', 'N', 'N', 'O', 'O', 'R', 'S', 'S', 'R', 'T', 'T']\t After nums= ['E', 'I', 'I', 'N', 'N', 'O', 'O', 'R', 'S', 'R', 'S', 'T', 'T']\n",
      "While j= 9  Before Nums= ['E', 'I', 'I', 'N', 'N', 'O', 'O', 'R', 'S', 'R', 'S', 'T', 'T']\t After nums= ['E', 'I', 'I', 'N', 'N', 'O', 'O', 'R', 'R', 'S', 'S', 'T', 'T']\n",
      "For i= 12\n"
     ]
    },
    {
     "data": {
      "text/plain": [
       "['E', 'I', 'I', 'N', 'N', 'O', 'O', 'R', 'R', 'S', 'S', 'T', 'T']"
      ]
     },
     "execution_count": 23,
     "metadata": {},
     "output_type": "execute_result"
    }
   ],
   "source": [
    "insertionSort(list('INSERTIONSORT'))"
   ]
  },
  {
   "cell_type": "code",
   "execution_count": null,
   "metadata": {},
   "outputs": [],
   "source": []
  }
 ],
 "metadata": {
  "kernelspec": {
   "display_name": "Python 3",
   "language": "python",
   "name": "python3"
  },
  "language_info": {
   "codemirror_mode": {
    "name": "ipython",
    "version": 3
   },
   "file_extension": ".py",
   "mimetype": "text/x-python",
   "name": "python",
   "nbconvert_exporter": "python",
   "pygments_lexer": "ipython3",
   "version": "3.7.1"
  }
 },
 "nbformat": 4,
 "nbformat_minor": 2
}
