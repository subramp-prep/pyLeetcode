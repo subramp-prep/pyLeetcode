{
 "cells": [
  {
   "attachments": {},
   "cell_type": "markdown",
   "metadata": {},
   "source": [
    "![Sort Big )](../img/sort.png)"
   ]
  },
  {
   "cell_type": "code",
   "execution_count": 9,
   "metadata": {},
   "outputs": [],
   "source": [
    "def insertionSort(nums):\n",
    "    for i in range(1, len(nums)):\n",
    "        print('For i=', i)\n",
    "        j = i\n",
    "        while j > 0 and nums[j] < nums[j-1]:\n",
    "            print('While j=', j, ' Nums=', nums)\n",
    "            nums[j], nums[j-1] = nums[j-1], nums[j]\n",
    "            j = j-1\n",
    "            \n",
    "    return nums"
   ]
  },
  {
   "cell_type": "code",
   "execution_count": 10,
   "metadata": {},
   "outputs": [
    {
     "name": "stdout",
     "output_type": "stream",
     "text": [
      "For i= 1\n",
      "While j= 1  Nums= [2, 1, 5, 4, 3]\n",
      "For i= 2\n",
      "For i= 3\n",
      "While j= 3  Nums= [1, 2, 5, 4, 3]\n",
      "For i= 4\n",
      "While j= 4  Nums= [1, 2, 4, 5, 3]\n",
      "While j= 3  Nums= [1, 2, 4, 3, 5]\n",
      "[1, 2, 3, 4, 5]\n"
     ]
    }
   ],
   "source": [
    "print(insertionSort([2,1,5,4,3]))"
   ]
  },
  {
   "cell_type": "code",
   "execution_count": 11,
   "metadata": {},
   "outputs": [
    {
     "name": "stdout",
     "output_type": "stream",
     "text": [
      "For i= 1\n",
      "For i= 2\n",
      "For i= 3\n",
      "While j= 3  Nums= ['I', 'N', 'S', 'E', 'R', 'T', 'I', 'O', 'N', 'S', 'O', 'R', 'T']\n",
      "While j= 2  Nums= ['I', 'N', 'E', 'S', 'R', 'T', 'I', 'O', 'N', 'S', 'O', 'R', 'T']\n",
      "While j= 1  Nums= ['I', 'E', 'N', 'S', 'R', 'T', 'I', 'O', 'N', 'S', 'O', 'R', 'T']\n",
      "For i= 4\n",
      "While j= 4  Nums= ['E', 'I', 'N', 'S', 'R', 'T', 'I', 'O', 'N', 'S', 'O', 'R', 'T']\n",
      "For i= 5\n",
      "For i= 6\n",
      "While j= 6  Nums= ['E', 'I', 'N', 'R', 'S', 'T', 'I', 'O', 'N', 'S', 'O', 'R', 'T']\n",
      "While j= 5  Nums= ['E', 'I', 'N', 'R', 'S', 'I', 'T', 'O', 'N', 'S', 'O', 'R', 'T']\n",
      "While j= 4  Nums= ['E', 'I', 'N', 'R', 'I', 'S', 'T', 'O', 'N', 'S', 'O', 'R', 'T']\n",
      "While j= 3  Nums= ['E', 'I', 'N', 'I', 'R', 'S', 'T', 'O', 'N', 'S', 'O', 'R', 'T']\n",
      "For i= 7\n",
      "While j= 7  Nums= ['E', 'I', 'I', 'N', 'R', 'S', 'T', 'O', 'N', 'S', 'O', 'R', 'T']\n",
      "While j= 6  Nums= ['E', 'I', 'I', 'N', 'R', 'S', 'O', 'T', 'N', 'S', 'O', 'R', 'T']\n",
      "While j= 5  Nums= ['E', 'I', 'I', 'N', 'R', 'O', 'S', 'T', 'N', 'S', 'O', 'R', 'T']\n",
      "For i= 8\n",
      "While j= 8  Nums= ['E', 'I', 'I', 'N', 'O', 'R', 'S', 'T', 'N', 'S', 'O', 'R', 'T']\n",
      "While j= 7  Nums= ['E', 'I', 'I', 'N', 'O', 'R', 'S', 'N', 'T', 'S', 'O', 'R', 'T']\n",
      "While j= 6  Nums= ['E', 'I', 'I', 'N', 'O', 'R', 'N', 'S', 'T', 'S', 'O', 'R', 'T']\n",
      "While j= 5  Nums= ['E', 'I', 'I', 'N', 'O', 'N', 'R', 'S', 'T', 'S', 'O', 'R', 'T']\n",
      "For i= 9\n",
      "While j= 9  Nums= ['E', 'I', 'I', 'N', 'N', 'O', 'R', 'S', 'T', 'S', 'O', 'R', 'T']\n",
      "For i= 10\n",
      "While j= 10  Nums= ['E', 'I', 'I', 'N', 'N', 'O', 'R', 'S', 'S', 'T', 'O', 'R', 'T']\n",
      "While j= 9  Nums= ['E', 'I', 'I', 'N', 'N', 'O', 'R', 'S', 'S', 'O', 'T', 'R', 'T']\n",
      "While j= 8  Nums= ['E', 'I', 'I', 'N', 'N', 'O', 'R', 'S', 'O', 'S', 'T', 'R', 'T']\n",
      "While j= 7  Nums= ['E', 'I', 'I', 'N', 'N', 'O', 'R', 'O', 'S', 'S', 'T', 'R', 'T']\n",
      "For i= 11\n",
      "While j= 11  Nums= ['E', 'I', 'I', 'N', 'N', 'O', 'O', 'R', 'S', 'S', 'T', 'R', 'T']\n",
      "While j= 10  Nums= ['E', 'I', 'I', 'N', 'N', 'O', 'O', 'R', 'S', 'S', 'R', 'T', 'T']\n",
      "While j= 9  Nums= ['E', 'I', 'I', 'N', 'N', 'O', 'O', 'R', 'S', 'R', 'S', 'T', 'T']\n",
      "For i= 12\n",
      "['E', 'I', 'I', 'N', 'N', 'O', 'O', 'R', 'R', 'S', 'S', 'T', 'T']\n"
     ]
    }
   ],
   "source": [
    "print(insertionSort(list('INSERTIONSORT')))"
   ]
  }
 ],
 "metadata": {
  "kernelspec": {
   "display_name": "Python 3",
   "language": "python",
   "name": "python3"
  },
  "language_info": {
   "codemirror_mode": {
    "name": "ipython",
    "version": 3
   },
   "file_extension": ".py",
   "mimetype": "text/x-python",
   "name": "python",
   "nbconvert_exporter": "python",
   "pygments_lexer": "ipython3",
   "version": "3.7.1"
  }
 },
 "nbformat": 4,
 "nbformat_minor": 2
}
