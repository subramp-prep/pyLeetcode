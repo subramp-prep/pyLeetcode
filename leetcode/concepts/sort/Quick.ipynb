{
 "cells": [
  {
   "cell_type": "markdown",
   "metadata": {},
   "source": [
    "# Quicksort\n",
    "\n",
    "Worst : O(n2)\n",
    "Best : O(n log n)\n",
    "Average: O(n log n)"
   ]
  },
  {
   "cell_type": "code",
   "execution_count": 1,
   "metadata": {},
   "outputs": [],
   "source": [
    "# Driver\n",
    "def quickSort(nums, low, high):\n",
    "    if high-low > 0:\n",
    "        pivot = sort(nums, low, high)\n",
    "        quickSort(nums, low, pivot-1)\n",
    "        quickSort(nums, pivot+1, high)\n",
    "        \n",
    "# Core functionality\n",
    "def sort(nums, low, high):\n",
    "    firstHigh, pivot = low, high\n",
    "    \n",
    "    while low < high:\n",
    "        if nums[low] < nums[pivot]:\n",
    "            print(nums)\n",
    "            nums[firstHigh], nums[low] = nums[low], nums[firstHigh]\n",
    "            firstHigh += 1\n",
    "            \n",
    "        low += 1\n",
    "        \n",
    "    nums[firstHigh], nums[pivot] = nums[pivot], nums[firstHigh]\n",
    "    print(nums)\n",
    "    \n",
    "    return firstHigh"
   ]
  },
  {
   "cell_type": "code",
   "execution_count": 2,
   "metadata": {},
   "outputs": [
    {
     "name": "stdout",
     "output_type": "stream",
     "text": [
      "Before sort: [5, 4, 2, 1, 3]\n",
      "[5, 4, 2, 1, 3]\n",
      "[2, 4, 5, 1, 3]\n",
      "[2, 1, 3, 4, 5]\n",
      "[1, 2, 3, 4, 5]\n",
      "[1, 2, 3, 4, 5]\n",
      "[1, 2, 3, 4, 5]\n",
      "After sort: [1, 2, 3, 4, 5]\n"
     ]
    }
   ],
   "source": [
    "nums = [5,4,2,1,3]\n",
    "\n",
    "print('Before sort:', nums)\n",
    "\n",
    "quickSort(nums, 0, len(nums)-1)\n",
    "\n",
    "print('After sort:', nums)"
   ]
  },
  {
   "cell_type": "code",
   "execution_count": null,
   "metadata": {},
   "outputs": [],
   "source": []
  }
 ],
 "metadata": {
  "kernelspec": {
   "display_name": "Python 3",
   "language": "python",
   "name": "python3"
  },
  "language_info": {
   "codemirror_mode": {
    "name": "ipython",
    "version": 3
   },
   "file_extension": ".py",
   "mimetype": "text/x-python",
   "name": "python",
   "nbconvert_exporter": "python",
   "pygments_lexer": "ipython3",
   "version": "3.7.1"
  }
 },
 "nbformat": 4,
 "nbformat_minor": 2
}
