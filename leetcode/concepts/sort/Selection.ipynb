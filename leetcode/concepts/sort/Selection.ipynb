{
 "cells": [
  {
   "cell_type": "code",
   "execution_count": 5,
   "metadata": {},
   "outputs": [],
   "source": [
    "def selectionSort(nums):\n",
    "    minIndex = -1\n",
    "    \n",
    "    for i in range(len(nums)):\n",
    "        minIndex = i\n",
    "        print('Before:', nums)\n",
    "        \n",
    "        for j in range(i+1, len(nums)):\n",
    "            if nums[j] < nums[minIndex]:\n",
    "                minIndex = j\n",
    "        \n",
    "        if minIndex != i:\n",
    "            nums[minIndex], nums[i] = nums[i], nums[minIndex]\n",
    "            print('After:', nums)\n",
    "            \n",
    "    return nums"
   ]
  },
  {
   "cell_type": "code",
   "execution_count": 6,
   "metadata": {},
   "outputs": [
    {
     "name": "stdout",
     "output_type": "stream",
     "text": [
      "Before: [3, 4, 5, 1, 2]\n",
      "After: [1, 4, 5, 3, 2]\n",
      "Before: [1, 4, 5, 3, 2]\n",
      "After: [1, 2, 5, 3, 4]\n",
      "Before: [1, 2, 5, 3, 4]\n",
      "After: [1, 2, 3, 5, 4]\n",
      "Before: [1, 2, 3, 5, 4]\n",
      "After: [1, 2, 3, 4, 5]\n",
      "Before: [1, 2, 3, 4, 5]\n",
      "[1, 2, 3, 4, 5]\n"
     ]
    }
   ],
   "source": [
    "print(selectionSort([3, 4, 5, 1, 2]))"
   ]
  }
 ],
 "metadata": {
  "kernelspec": {
   "display_name": "Python 3",
   "language": "python",
   "name": "python3"
  },
  "language_info": {
   "codemirror_mode": {
    "name": "ipython",
    "version": 3
   },
   "file_extension": ".py",
   "mimetype": "text/x-python",
   "name": "python",
   "nbconvert_exporter": "python",
   "pygments_lexer": "ipython3",
   "version": "3.7.1"
  }
 },
 "nbformat": 4,
 "nbformat_minor": 2
}
