{
 "cells": [
  {
   "cell_type": "markdown",
   "metadata": {},
   "source": [
    "# Heap Sort\n",
    "\n",
    "Sort is a 2 step process:\n",
    "- build a heap from array O(n)\n",
    "- sort the array in-place O(log n) * n times\n",
    "\n",
    "Total complexity: \n",
    "\n",
    "O(n) + O(n log n) => O(n log n)"
   ]
  },
  {
   "cell_type": "code",
   "execution_count": 1,
   "metadata": {},
   "outputs": [],
   "source": [
    "def heapify(nums, n, i):\n",
    "    largest = i\n",
    "    left = 2*i+1\n",
    "    right = 2*i+2\n",
    "\n",
    "    if left <  n and nums[i] < nums[left]:\n",
    "        largest = left\n",
    "\n",
    "    if right < n and nums[largest] < nums[right]:\n",
    "        largest = right\n",
    "\n",
    "    if largest != i:\n",
    "        nums[i], nums[largest] = nums[largest], nums[i]\n",
    "        heapify(nums, n, largest)\n",
    "\n",
    "def heapSort(nums):\n",
    "    length = len(nums)\n",
    "\n",
    "    # build a heap\n",
    "    for i in range(length, -1, -1):\n",
    "        heapify(nums, length, i)\n",
    "\n",
    "    # sort from largest elements in place\n",
    "    for i in range(length - 1, 0, -1):\n",
    "        nums[i], nums[0] = nums[0], nums[i]\n",
    "        heapify(nums, i, 0)"
   ]
  },
  {
   "cell_type": "code",
   "execution_count": 2,
   "metadata": {},
   "outputs": [
    {
     "name": "stdout",
     "output_type": "stream",
     "text": [
      "[1, 2, 3]\n"
     ]
    }
   ],
   "source": [
    "arr = [2,1,3]\n",
    "heapSort(arr)\n",
    "print(arr)"
   ]
  },
  {
   "cell_type": "code",
   "execution_count": null,
   "metadata": {},
   "outputs": [],
   "source": []
  }
 ],
 "metadata": {
  "kernelspec": {
   "display_name": "Python 3",
   "language": "python",
   "name": "python3"
  },
  "language_info": {
   "codemirror_mode": {
    "name": "ipython",
    "version": 3
   },
   "file_extension": ".py",
   "mimetype": "text/x-python",
   "name": "python",
   "nbconvert_exporter": "python",
   "pygments_lexer": "ipython3",
   "version": "3.7.1"
  }
 },
 "nbformat": 4,
 "nbformat_minor": 2
}
