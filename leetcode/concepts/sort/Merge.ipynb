{
 "cells": [
  {
   "cell_type": "markdown",
   "metadata": {},
   "source": [
    "# Merge Sort\n",
    "\n",
    "\n",
    "Recursively split the array to sort and then merge"
   ]
  },
  {
   "cell_type": "code",
   "execution_count": 1,
   "metadata": {},
   "outputs": [
    {
     "name": "stdout",
     "output_type": "stream",
     "text": [
      "Merge  [34, 12, 8, 47] 0 3\n",
      "Merge  [34, 12, 8, 47] 0 1\n",
      "Merge  [34, 12, 8, 47] 0 0\n",
      "Merge  [34, 12, 8, 47] 1 1\n",
      "Merge  [12, 34, 8, 47] 2 3\n",
      "Merge  [12, 34, 8, 47] 2 2\n",
      "Merge  [12, 34, 8, 47] 3 3\n",
      "Final result:  [8, 12, 34, 47]\n"
     ]
    }
   ],
   "source": [
    "from collections import deque\n",
    "\n",
    "def MergeSort(nums):\n",
    "    Merge(nums, 0, len(nums) - 1)\n",
    "    \n",
    "def Merge(nums, begin, end):\n",
    "    print(\"Merge \", nums, begin, end)\n",
    "    if begin < end:\n",
    "        # typecasting is important to avoid decimals\n",
    "        mid = int((begin + end)/2)\n",
    "        \n",
    "        Merge(nums, begin, mid)\n",
    "        Merge(nums, mid+1, end)\n",
    "        Sort(nums, begin, mid, end)\n",
    "\n",
    "def Sort(nums, begin, mid, end):\n",
    "    # Queue to hold low-end of elements from sequence\n",
    "    lowQ = deque()\n",
    "    l = begin\n",
    "    while l <= mid:\n",
    "        lowQ.append(nums[l])\n",
    "        l += 1        \n",
    "    \n",
    "    # Queue to hold high-end of elements from sequence\n",
    "    highQ = deque()\n",
    "    h = mid+1\n",
    "    while h <= end:\n",
    "        highQ.append(nums[h])\n",
    "        h += 1        \n",
    "    \n",
    "    index = begin\n",
    "    \n",
    "    while len(lowQ) > 0 and len(highQ) > 0:\n",
    "        if lowQ[0] < highQ[0]:\n",
    "            nums[index] = lowQ.popleft()            \n",
    "        elif highQ[0] < lowQ[0]:\n",
    "            nums[index] = highQ.popleft()            \n",
    "        index += 1\n",
    "        \n",
    "    while len(lowQ) > 0:\n",
    "        nums[index] = lowQ.popleft()\n",
    "        index += 1\n",
    "        \n",
    "    while len(highQ) > 0:\n",
    "        nums[index] = highQ.popleft()\n",
    "        index += 1\n",
    "    \n",
    "    \n",
    "#nums = [23, 12, 9, 15, 2]\n",
    "nums = [34, 12, 8, 47]\n",
    "MergeSort(nums)\n",
    "print(\"Final result: \", nums)"
   ]
  },
  {
   "cell_type": "code",
   "execution_count": null,
   "metadata": {},
   "outputs": [],
   "source": []
  }
 ],
 "metadata": {
  "kernelspec": {
   "display_name": "Python 3",
   "language": "python",
   "name": "python3"
  },
  "language_info": {
   "codemirror_mode": {
    "name": "ipython",
    "version": 3
   },
   "file_extension": ".py",
   "mimetype": "text/x-python",
   "name": "python",
   "nbconvert_exporter": "python",
   "pygments_lexer": "ipython3",
   "version": "3.7.0"
  }
 },
 "nbformat": 4,
 "nbformat_minor": 2
}
