{
 "cells": [
  {
   "cell_type": "markdown",
   "metadata": {},
   "source": [
    "# Bubble Sort"
   ]
  },
  {
   "cell_type": "markdown",
   "metadata": {},
   "source": [
    "## Old Implementation\n",
    "\n",
    "def bubbleSort(nums):    \n",
    "    for i in range(len(nums)-1):\n",
    "        for j in range(len(nums)-1):\n",
    "            if(nums[j] > nums[j+1]):\n",
    "                #temp = nums[j]\n",
    "                #nums[j] = nums[j+1]\n",
    "                #nums[j+1] = temp\n",
    "                #easier way to swap 3 lines v 1 line\n",
    "                nums[j], nums[j+1] = nums[j+1], nums[j] "
   ]
  },
  {
   "cell_type": "code",
   "execution_count": 8,
   "metadata": {},
   "outputs": [],
   "source": [
    "def bubbleSort_Opt(nums):\n",
    "    print(nums)\n",
    "    for i in range(len(nums)):\n",
    "        for j in range(1, len(nums)):\n",
    "            if nums[j] < nums[j-1]:\n",
    "                nums[j], nums[j-1] = nums[j-1], nums[j]\n",
    "                print(nums)"
   ]
  },
  {
   "cell_type": "code",
   "execution_count": 9,
   "metadata": {},
   "outputs": [
    {
     "name": "stdout",
     "output_type": "stream",
     "text": [
      "[45, 35, 21, 46, 3]\n",
      "[35, 45, 21, 46, 3]\n",
      "[35, 21, 45, 46, 3]\n",
      "[35, 21, 45, 3, 46]\n",
      "[21, 35, 45, 3, 46]\n",
      "[21, 35, 3, 45, 46]\n",
      "[21, 3, 35, 45, 46]\n",
      "[3, 21, 35, 45, 46]\n"
     ]
    }
   ],
   "source": [
    "#nums = [45, 35, 21, 46, 3]\n",
    "\n",
    "#print(\"Before: \", nums)\n",
    "bubbleSort_Opt([45, 35, 21, 46, 3])\n",
    "#print(\"After: \", nums)"
   ]
  },
  {
   "cell_type": "code",
   "execution_count": null,
   "metadata": {},
   "outputs": [],
   "source": []
  }
 ],
 "metadata": {
  "kernelspec": {
   "display_name": "Python 3",
   "language": "python",
   "name": "python3"
  },
  "language_info": {
   "codemirror_mode": {
    "name": "ipython",
    "version": 3
   },
   "file_extension": ".py",
   "mimetype": "text/x-python",
   "name": "python",
   "nbconvert_exporter": "python",
   "pygments_lexer": "ipython3",
   "version": "3.7.1"
  }
 },
 "nbformat": 4,
 "nbformat_minor": 2
}
