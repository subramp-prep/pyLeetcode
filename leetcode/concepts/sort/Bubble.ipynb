{
 "cells": [
  {
   "cell_type": "markdown",
   "metadata": {},
   "source": [
    "# Bubble Sort"
   ]
  },
  {
   "cell_type": "code",
   "execution_count": null,
   "metadata": {},
   "outputs": [],
   "source": [
    "def bubbleSort(nums):    \n",
    "    for i in range(len(nums)-1):\n",
    "        for j in range(len(nums)-1):\n",
    "            if(nums[j] > nums[j+1]):\n",
    "                #temp = nums[j]\n",
    "                #nums[j] = nums[j+1]\n",
    "                #nums[j+1] = temp\n",
    "                #easier way to swap 3 lines v 1 line\n",
    "                nums[j], nums[j+1] = nums[j+1], nums[j] \n",
    "                \n",
    "nums = [45, 35, 21, 46, 3]\n",
    "\n",
    "print(\"Before: \", nums)\n",
    "bubbleSort(nums)\n",
    "print(\"After: \", nums)"
   ]
  }
 ],
 "metadata": {
  "kernelspec": {
   "display_name": "Python 3",
   "language": "python",
   "name": "python3"
  },
  "language_info": {
   "codemirror_mode": {
    "name": "ipython",
    "version": 3
   },
   "file_extension": ".py",
   "mimetype": "text/x-python",
   "name": "python",
   "nbconvert_exporter": "python",
   "pygments_lexer": "ipython3",
   "version": "3.7.0"
  }
 },
 "nbformat": 4,
 "nbformat_minor": 2
}
