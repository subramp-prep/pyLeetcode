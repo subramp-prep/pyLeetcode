{
 "cells": [
  {
   "cell_type": "markdown",
   "metadata": {},
   "source": [
    "Return if a number is a valid strobogrammatic number"
   ]
  },
  {
   "cell_type": "code",
   "execution_count": 1,
   "metadata": {},
   "outputs": [],
   "source": [
    "def isStrobogrammatic(num):\n",
    "    \n",
    "    maps = {\n",
    "        '0':'0',\n",
    "        '1':'1',\n",
    "        '6':'9',\n",
    "        '9':'6',\n",
    "        '8':'8'\n",
    "    }\n",
    "    \n",
    "    rev = ''\n",
    "    \n",
    "    for c in reversed(num):\n",
    "        \n",
    "        if c not in maps:\n",
    "            return False\n",
    "        \n",
    "        rev += maps[c]\n",
    "        \n",
    "    return rev == num"
   ]
  },
  {
   "cell_type": "code",
   "execution_count": 2,
   "metadata": {},
   "outputs": [
    {
     "name": "stdout",
     "output_type": "stream",
     "text": [
      "True\n"
     ]
    }
   ],
   "source": [
    "print(isStrobogrammatic('88'))"
   ]
  },
  {
   "cell_type": "code",
   "execution_count": 3,
   "metadata": {},
   "outputs": [
    {
     "name": "stdout",
     "output_type": "stream",
     "text": [
      "False\n"
     ]
    }
   ],
   "source": [
    "print(isStrobogrammatic('9'))"
   ]
  },
  {
   "cell_type": "code",
   "execution_count": 4,
   "metadata": {},
   "outputs": [
    {
     "name": "stdout",
     "output_type": "stream",
     "text": [
      "False\n"
     ]
    }
   ],
   "source": [
    "print(isStrobogrammatic('78'))"
   ]
  },
  {
   "cell_type": "markdown",
   "metadata": {},
   "source": [
    "### Follow-up\n",
    "\n",
    "Given length k, print all possible strobogrammatic numbers"
   ]
  },
  {
   "cell_type": "code",
   "execution_count": 5,
   "metadata": {},
   "outputs": [],
   "source": [
    "def genStrobo(k):\n",
    "    \n",
    "    output = []\n",
    "    maps = {\n",
    "        '0':'0',\n",
    "        '1':'1',\n",
    "        '6':'9',\n",
    "        '9':'6',\n",
    "        '8':'8'\n",
    "    }\n",
    "    \n",
    "    def helper(chosen):\n",
    "        \n",
    "        if len(chosen) == k and isStrobogrammatic(''.join(chosen)):\n",
    "            output.append(''.join(chosen))\n",
    "            \n",
    "        elif len(chosen) > k:\n",
    "            return\n",
    "        \n",
    "        else:\n",
    "            \n",
    "            for c in maps:\n",
    "                \n",
    "                helper(chosen + [maps[c]])\n",
    "                \n",
    "    helper([])\n",
    "    return output"
   ]
  },
  {
   "cell_type": "code",
   "execution_count": 6,
   "metadata": {},
   "outputs": [
    {
     "name": "stdout",
     "output_type": "stream",
     "text": [
      "['0', '1', '8']\n"
     ]
    }
   ],
   "source": [
    "print(genStrobo(1))"
   ]
  },
  {
   "cell_type": "code",
   "execution_count": 7,
   "metadata": {},
   "outputs": [
    {
     "name": "stdout",
     "output_type": "stream",
     "text": [
      "['00', '11', '96', '69', '88']\n"
     ]
    }
   ],
   "source": [
    "print(genStrobo(2))"
   ]
  },
  {
   "cell_type": "code",
   "execution_count": 8,
   "metadata": {},
   "outputs": [
    {
     "name": "stdout",
     "output_type": "stream",
     "text": [
      "['000', '010', '080', '101', '111', '181', '906', '916', '986', '609', '619', '689', '808', '818', '888']\n"
     ]
    }
   ],
   "source": [
    "print(genStrobo(3))"
   ]
  },
  {
   "cell_type": "code",
   "execution_count": 9,
   "metadata": {},
   "outputs": [
    {
     "name": "stdout",
     "output_type": "stream",
     "text": [
      "['0000', '0110', '0960', '0690', '0880', '1001', '1111', '1961', '1691', '1881', '9006', '9116', '9966', '9696', '9886', '6009', '6119', '6969', '6699', '6889', '8008', '8118', '8968', '8698', '8888']\n"
     ]
    }
   ],
   "source": [
    "print(genStrobo(4))"
   ]
  },
  {
   "cell_type": "code",
   "execution_count": 10,
   "metadata": {},
   "outputs": [
    {
     "name": "stdout",
     "output_type": "stream",
     "text": [
      "['00000', '00100', '00800', '01010', '01110', '01810', '09060', '09160', '09860', '06090', '06190', '06890', '08080', '08180', '08880', '10001', '10101', '10801', '11011', '11111', '11811', '19061', '19161', '19861', '16091', '16191', '16891', '18081', '18181', '18881', '90006', '90106', '90806', '91016', '91116', '91816', '99066', '99166', '99866', '96096', '96196', '96896', '98086', '98186', '98886', '60009', '60109', '60809', '61019', '61119', '61819', '69069', '69169', '69869', '66099', '66199', '66899', '68089', '68189', '68889', '80008', '80108', '80808', '81018', '81118', '81818', '89068', '89168', '89868', '86098', '86198', '86898', '88088', '88188', '88888']\n"
     ]
    }
   ],
   "source": [
    "print(genStrobo(5))"
   ]
  },
  {
   "cell_type": "code",
   "execution_count": null,
   "metadata": {},
   "outputs": [],
   "source": []
  }
 ],
 "metadata": {
  "kernelspec": {
   "display_name": "Python 3",
   "language": "python",
   "name": "python3"
  },
  "language_info": {
   "codemirror_mode": {
    "name": "ipython",
    "version": 3
   },
   "file_extension": ".py",
   "mimetype": "text/x-python",
   "name": "python",
   "nbconvert_exporter": "python",
   "pygments_lexer": "ipython3",
   "version": "3.7.1"
  }
 },
 "nbformat": 4,
 "nbformat_minor": 2
}
