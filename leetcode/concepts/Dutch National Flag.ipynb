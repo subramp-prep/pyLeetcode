{
 "cells": [
  {
   "cell_type": "markdown",
   "metadata": {},
   "source": [
    "## Dutch national flag\n",
    "\n",
    "The Dutch national flag problem (DNF)[1] is a computer science programming problem proposed by Edsger Dijkstra.[2] The flag of the Netherlands consists of three colors: red, white and blue. Given balls of these three colors arranged randomly in a line (the actual number of balls does not matter), the task is to arrange them such that all balls of the same color are together and their collective color groups are in the correct order."
   ]
  },
  {
   "cell_type": "code",
   "execution_count": 13,
   "metadata": {},
   "outputs": [],
   "source": [
    "def dutchNationalFlag(nums, mid):\n",
    "    i = j = 0\n",
    "    n = len(nums) - 1\n",
    "    \n",
    "    while j <= n:\n",
    "        print('i:{}, j: {}, n:{}'.format(i, j, n))\n",
    "        if nums[j] < mid:\n",
    "            nums[i], nums[j] = nums[j], nums[i]\n",
    "            i += 1\n",
    "            j += 1\n",
    "        elif nums[j] > mid:\n",
    "            nums[n], nums[j] = nums[j], nums[n]\n",
    "            n -= 1\n",
    "        else:\n",
    "            j += 1\n",
    "            \n",
    "    return nums"
   ]
  },
  {
   "cell_type": "code",
   "execution_count": 14,
   "metadata": {},
   "outputs": [
    {
     "name": "stdout",
     "output_type": "stream",
     "text": [
      "i:0, j: 0, n:5\n",
      "i:1, j: 1, n:5\n",
      "i:1, j: 2, n:5\n",
      "i:1, j: 2, n:4\n",
      "i:1, j: 2, n:3\n",
      "i:1, j: 3, n:3\n",
      "[0, 0, 1, 1, 2, 2]\n"
     ]
    }
   ],
   "source": [
    "print(dutchNationalFlag([0, 1, 2, 0, 1, 2], 1))"
   ]
  },
  {
   "cell_type": "code",
   "execution_count": null,
   "metadata": {},
   "outputs": [],
   "source": []
  }
 ],
 "metadata": {
  "kernelspec": {
   "display_name": "Python 3",
   "language": "python",
   "name": "python3"
  },
  "language_info": {
   "codemirror_mode": {
    "name": "ipython",
    "version": 3
   },
   "file_extension": ".py",
   "mimetype": "text/x-python",
   "name": "python",
   "nbconvert_exporter": "python",
   "pygments_lexer": "ipython3",
   "version": "3.7.1"
  }
 },
 "nbformat": 4,
 "nbformat_minor": 2
}
