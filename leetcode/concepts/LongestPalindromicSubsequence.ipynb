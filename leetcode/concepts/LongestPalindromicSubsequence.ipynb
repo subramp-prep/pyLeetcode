{
 "cells": [
  {
   "cell_type": "markdown",
   "metadata": {},
   "source": [
    "For example, consider the sequence **ABBDCACB**\n",
    "\n",
    "The length of the longest palindromic subsequence is 5\n",
    "The longest palindromic subsequence is **BCACB**"
   ]
  },
  {
   "cell_type": "markdown",
   "metadata": {},
   "source": [
    "## Brute force\n",
    "\n",
    "Complexity is O(2 power(n))"
   ]
  },
  {
   "cell_type": "code",
   "execution_count": 1,
   "metadata": {},
   "outputs": [],
   "source": [
    "def longestPalindrome(s, i, j):\n",
    "    if i > j:\n",
    "        return 0\n",
    "    \n",
    "    if i == j:\n",
    "        return 1\n",
    "    \n",
    "    if s[i] == s[j]:\n",
    "        return longestPalindrome(s, i+1, j-1) + 2\n",
    "    \n",
    "    return max(longestPalindrome(s,i+1, j), longestPalindrome(s,i, j-1))"
   ]
  },
  {
   "cell_type": "code",
   "execution_count": 2,
   "metadata": {},
   "outputs": [
    {
     "name": "stdout",
     "output_type": "stream",
     "text": [
      "5\n"
     ]
    }
   ],
   "source": [
    "s = 'ABBDCACB'\n",
    "print(longestPalindrome(s, 0, len(s)-1))"
   ]
  },
  {
   "cell_type": "code",
   "execution_count": 3,
   "metadata": {},
   "outputs": [
    {
     "name": "stdout",
     "output_type": "stream",
     "text": [
      "3\n"
     ]
    }
   ],
   "source": [
    "t = 'PRASAD'\n",
    "print(longestPalindrome(t, 0, len(t)-1))"
   ]
  },
  {
   "cell_type": "code",
   "execution_count": null,
   "metadata": {},
   "outputs": [],
   "source": []
  }
 ],
 "metadata": {
  "kernelspec": {
   "display_name": "Python 3",
   "language": "python",
   "name": "python3"
  },
  "language_info": {
   "codemirror_mode": {
    "name": "ipython",
    "version": 3
   },
   "file_extension": ".py",
   "mimetype": "text/x-python",
   "name": "python",
   "nbconvert_exporter": "python",
   "pygments_lexer": "ipython3",
   "version": "3.7.1"
  }
 },
 "nbformat": 4,
 "nbformat_minor": 2
}
