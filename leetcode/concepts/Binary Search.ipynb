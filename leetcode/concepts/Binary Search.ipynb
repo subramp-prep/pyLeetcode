{
 "cells": [
  {
   "cell_type": "markdown",
   "metadata": {},
   "source": [
    "## Binary search\n",
    "\n",
    "Algorithm to find an element in a sorted array in O(log n) complexity"
   ]
  },
  {
   "cell_type": "markdown",
   "metadata": {},
   "source": [
    "### Iterative"
   ]
  },
  {
   "cell_type": "code",
   "execution_count": 1,
   "metadata": {},
   "outputs": [],
   "source": [
    "def binarySearch_iterative(nums, k):\n",
    "    l, h = 0, len(nums)-1\n",
    "    \n",
    "    while l <= h:\n",
    "\n",
    "        # note the double forward slash to round\n",
    "        m = (l+h)//2\n",
    "\n",
    "        if nums[m] == k:\n",
    "            return True\n",
    "        elif nums[m] > k:\n",
    "            h = m - 1\n",
    "        else:\n",
    "            l = m + 1\n",
    "\n",
    "    return False"
   ]
  },
  {
   "cell_type": "markdown",
   "metadata": {},
   "source": [
    "### Recursive"
   ]
  },
  {
   "cell_type": "code",
   "execution_count": 2,
   "metadata": {},
   "outputs": [],
   "source": [
    "def binarySearch_recursive(nums, k):\n",
    "\n",
    "    def helper(l, h):\n",
    "        if l > h:\n",
    "            return False\n",
    "\n",
    "        m = (l+h)//2\n",
    "\n",
    "        if nums[m] == k:\n",
    "            return True\n",
    "        \n",
    "        elif nums[m] > k:\n",
    "            # element in leading half\n",
    "            return helper(l, m-1)\n",
    "        else:\n",
    "            \n",
    "            # element in trailing half\n",
    "            return helper(m+1, h)\n",
    "    \n",
    "    return helper(0, len(nums)-1)"
   ]
  },
  {
   "cell_type": "code",
   "execution_count": 3,
   "metadata": {},
   "outputs": [
    {
     "name": "stdout",
     "output_type": "stream",
     "text": [
      "True\n"
     ]
    }
   ],
   "source": [
    "print(binarySearch_recursive([2, 3, 6, 8, 10, 12, 13, 15], 3))"
   ]
  },
  {
   "cell_type": "code",
   "execution_count": 4,
   "metadata": {},
   "outputs": [
    {
     "name": "stdout",
     "output_type": "stream",
     "text": [
      "False\n"
     ]
    }
   ],
   "source": [
    "print(binarySearch_recursive([2, 3, 6, 8, 10, 12, 13, 15], 1))"
   ]
  }
 ],
 "metadata": {
  "kernelspec": {
   "display_name": "Python 3",
   "language": "python",
   "name": "python3"
  },
  "language_info": {
   "codemirror_mode": {
    "name": "ipython",
    "version": 3
   },
   "file_extension": ".py",
   "mimetype": "text/x-python",
   "name": "python",
   "nbconvert_exporter": "python",
   "pygments_lexer": "ipython3",
   "version": "3.7.1"
  }
 },
 "nbformat": 4,
 "nbformat_minor": 2
}
