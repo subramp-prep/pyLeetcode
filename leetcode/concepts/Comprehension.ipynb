{
 "cells": [
  {
   "cell_type": "markdown",
   "metadata": {},
   "source": [
    "# List Comprehension\n",
    "\n",
    "Comprehension can be considered a fancy way to generate a list of objects in a single line"
   ]
  },
  {
   "cell_type": "markdown",
   "metadata": {},
   "source": [
    "## Example 1:\n",
    "\n",
    "To find cube of an array"
   ]
  },
  {
   "cell_type": "code",
   "execution_count": null,
   "metadata": {},
   "outputs": [],
   "source": [
    "cubes = [x*x*x for x in range(10)]\n",
    "\n",
    "print(cubes)\n",
    "type(cubes)"
   ]
  },
  {
   "cell_type": "markdown",
   "metadata": {},
   "source": [
    "## Example 2:\n",
    "\n",
    "To find cube of an array with even values"
   ]
  },
  {
   "cell_type": "code",
   "execution_count": null,
   "metadata": {},
   "outputs": [],
   "source": [
    "even_cubes = [x*x*x for x in range(10) if x%2 == 0]\n",
    "\n",
    "print(even_cubes)"
   ]
  },
  {
   "cell_type": "markdown",
   "metadata": {},
   "source": [
    "## Example 3:\n",
    "\n",
    "To find squares for a **set**"
   ]
  },
  {
   "cell_type": "code",
   "execution_count": 10,
   "metadata": {},
   "outputs": [
    {
     "name": "stdout",
     "output_type": "stream",
     "text": [
      "{64, 1, 0, 36, 4, 9, 16, 81, 49, 25}\n"
     ]
    },
    {
     "data": {
      "text/plain": [
       "set"
      ]
     },
     "execution_count": 10,
     "metadata": {},
     "output_type": "execute_result"
    }
   ],
   "source": [
    "set_squares = {x*x for x in range(-9,10)}\n",
    "\n",
    "print(set_squares)\n",
    "type(set_squares)"
   ]
  },
  {
   "cell_type": "markdown",
   "metadata": {},
   "source": [
    "## Example 4:\n",
    "\n",
    "To find square for a **dictionary**"
   ]
  },
  {
   "cell_type": "code",
   "execution_count": 23,
   "metadata": {},
   "outputs": [
    {
     "name": "stdout",
     "output_type": "stream",
     "text": [
      "{0: 0, 1: 1, 2: 4, 3: 9, 4: 16, 5: 25, 6: 36, 7: 49, 8: 64, 9: 81}\n",
      "Key:09 Value: 81\n",
      "Key:10 Value: -1\n",
      "Key:11 Value: None\n"
     ]
    }
   ],
   "source": [
    "dictionary_squares = {x : x*x for x in range(0, 10)}\n",
    "\n",
    "print(dictionary_squares)\n",
    "type(dictionary_squares)\n",
    "\n",
    "# get value for key, otherwise return -1\n",
    "print(\"Key:09 Value:\",dictionary_squares.get(9, -1))\n",
    "print(\"Key:10 Value:\",dictionary_squares.get(10, -1))\n",
    "print(\"Key:11 Value:\",dictionary_squares.get(11 -1))"
   ]
  },
  {
   "cell_type": "code",
   "execution_count": null,
   "metadata": {},
   "outputs": [],
   "source": []
  }
 ],
 "metadata": {
  "kernelspec": {
   "display_name": "Python 3",
   "language": "python",
   "name": "python3"
  },
  "language_info": {
   "codemirror_mode": {
    "name": "ipython",
    "version": 3
   },
   "file_extension": ".py",
   "mimetype": "text/x-python",
   "name": "python",
   "nbconvert_exporter": "python",
   "pygments_lexer": "ipython3",
   "version": "3.7.0"
  }
 },
 "nbformat": 4,
 "nbformat_minor": 2
}
