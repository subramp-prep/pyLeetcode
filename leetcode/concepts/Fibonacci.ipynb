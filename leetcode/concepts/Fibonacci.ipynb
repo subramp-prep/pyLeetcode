{
 "cells": [
  {
   "cell_type": "markdown",
   "metadata": {},
   "source": [
    "# Recursive (non-optimized)"
   ]
  },
  {
   "cell_type": "code",
   "execution_count": null,
   "metadata": {},
   "outputs": [],
   "source": [
    "def fib(n):\n",
    "    if n == 0:\n",
    "        return 0\n",
    "    \n",
    "    if n == 1:\n",
    "        return 1\n",
    "    \n",
    "    return fib(n-2) + fib(n-1)"
   ]
  },
  {
   "cell_type": "code",
   "execution_count": null,
   "metadata": {},
   "outputs": [],
   "source": [
    "for i in range(20):\n",
    "    print('{}:{}'.format(i, fib(i)), end = ' ')"
   ]
  },
  {
   "cell_type": "markdown",
   "metadata": {},
   "source": [
    "# Dynamic Programming"
   ]
  },
  {
   "cell_type": "code",
   "execution_count": 2,
   "metadata": {},
   "outputs": [],
   "source": [
    "fib_series = [0, 1]\n",
    "\n",
    "def fib_d(n):\n",
    "    if n < 0:\n",
    "        return 0\n",
    "    \n",
    "    if n == 0:\n",
    "        return fib_series[0]\n",
    "    \n",
    "    if n == 1:\n",
    "        return fib_series[1]    \n",
    "    \n",
    "    fib_series.append(0) #important to add space in the array\n",
    "    \n",
    "    fib_series[n] = fib_d(n-1) + fib_d(n-2)\n",
    "    \n",
    "    return fib_series[n]"
   ]
  },
  {
   "cell_type": "code",
   "execution_count": 3,
   "metadata": {},
   "outputs": [
    {
     "name": "stdout",
     "output_type": "stream",
     "text": [
      "0:0\n",
      "1:1\n",
      "2:1\n",
      "3:2\n",
      "4:3\n",
      "5:5\n",
      "6:8\n",
      "7:13\n",
      "8:21\n",
      "9:34\n",
      "10:55\n",
      "11:89\n",
      "12:144\n",
      "13:233\n",
      "14:377\n",
      "15:610\n",
      "16:987\n",
      "17:1597\n",
      "18:2584\n",
      "19:4181\n"
     ]
    }
   ],
   "source": [
    "for i in range(20):\n",
    "    print('{}:{}'.format(i, fib_d(i)))"
   ]
  },
  {
   "cell_type": "markdown",
   "metadata": {},
   "source": [
    "## Optimized DP"
   ]
  },
  {
   "cell_type": "code",
   "execution_count": 9,
   "metadata": {},
   "outputs": [],
   "source": [
    "def fibOptimizedDP(n):\n",
    "    memo = [0] * (n+1)\n",
    "    memo[0], memo[1] = 0, 1\n",
    "    \n",
    "    for i in range(2, n):\n",
    "        memo[i] = memo[i-1] + memo[i-2]\n",
    "        \n",
    "    return memo[n]"
   ]
  },
  {
   "cell_type": "code",
   "execution_count": 10,
   "metadata": {},
   "outputs": [
    {
     "name": "stdout",
     "output_type": "stream",
     "text": [
      "0\n"
     ]
    }
   ],
   "source": [
    "print(fibOptimizedDP(5))"
   ]
  },
  {
   "cell_type": "code",
   "execution_count": null,
   "metadata": {},
   "outputs": [],
   "source": []
  }
 ],
 "metadata": {
  "kernelspec": {
   "display_name": "Python 3",
   "language": "python",
   "name": "python3"
  },
  "language_info": {
   "codemirror_mode": {
    "name": "ipython",
    "version": 3
   },
   "file_extension": ".py",
   "mimetype": "text/x-python",
   "name": "python",
   "nbconvert_exporter": "python",
   "pygments_lexer": "ipython3",
   "version": "3.7.1"
  }
 },
 "nbformat": 4,
 "nbformat_minor": 2
}
