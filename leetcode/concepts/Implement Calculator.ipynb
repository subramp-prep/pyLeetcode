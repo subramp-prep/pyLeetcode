{
 "cells": [
  {
   "cell_type": "markdown",
   "metadata": {},
   "source": [
    "Build a calculator with 'add' and 'sub' to evaluate an expression like\n",
    "\n",
    "Example 1:\n",
    "```\n",
    "Input: add(2, 3 )\n",
    "Out: 5\n",
    "```\n",
    "\n",
    "Example 2:\n",
    "```\n",
    "Input: sub(9, 4   )\n",
    "Out: 5\n",
    "```\n",
    "\n",
    "Example 3:\n",
    "```\n",
    "Input: sub(add(19, 8), add(1, 3))\n",
    "Out: 23\n",
    "```"
   ]
  },
  {
   "cell_type": "code",
   "execution_count": 1,
   "metadata": {},
   "outputs": [],
   "source": [
    "def calculator(s):\n",
    "    s = s.replace('add', '+').replace('sub', '-').replace(' ','')\n",
    "    stack = []\n",
    "    index = len(s)-1\n",
    "    num = ''\n",
    "    \n",
    "    while index >= 0:\n",
    "        if s[index] in '(),':\n",
    "            if len(num) > 0:\n",
    "                stack.append(num)\n",
    "                \n",
    "            num = ''\n",
    "        elif s[index] in '+-':\n",
    "            t1 = int(stack.pop())\n",
    "            t2 = int(stack.pop())\n",
    "            \n",
    "            if s[index] == '+':\n",
    "                stack.append(t1+t2)\n",
    "            else:\n",
    "                stack.append(t1-t2)\n",
    "        else:\n",
    "            num = s[index] + num\n",
    "            \n",
    "        index -= 1\n",
    "        \n",
    "    return stack.pop() if len(stack) > 0 else None"
   ]
  },
  {
   "cell_type": "code",
   "execution_count": 2,
   "metadata": {},
   "outputs": [
    {
     "name": "stdout",
     "output_type": "stream",
     "text": [
      "None\n"
     ]
    }
   ],
   "source": [
    "print(calculator('werwerw'))"
   ]
  },
  {
   "cell_type": "code",
   "execution_count": 3,
   "metadata": {},
   "outputs": [
    {
     "name": "stdout",
     "output_type": "stream",
     "text": [
      "5\n"
     ]
    }
   ],
   "source": [
    "print(calculator('add(2, 3 )'))"
   ]
  },
  {
   "cell_type": "code",
   "execution_count": 4,
   "metadata": {},
   "outputs": [
    {
     "name": "stdout",
     "output_type": "stream",
     "text": [
      "5\n"
     ]
    }
   ],
   "source": [
    "print(calculator('sub(9, 4   )'))"
   ]
  },
  {
   "cell_type": "code",
   "execution_count": 5,
   "metadata": {},
   "outputs": [
    {
     "name": "stdout",
     "output_type": "stream",
     "text": [
      "23\n"
     ]
    }
   ],
   "source": [
    "print(calculator('sub(add(19, 8), add(1, 3))'))"
   ]
  }
 ],
 "metadata": {
  "kernelspec": {
   "display_name": "Python 3",
   "language": "python",
   "name": "python3"
  },
  "language_info": {
   "codemirror_mode": {
    "name": "ipython",
    "version": 3
   },
   "file_extension": ".py",
   "mimetype": "text/x-python",
   "name": "python",
   "nbconvert_exporter": "python",
   "pygments_lexer": "ipython3",
   "version": "3.7.1"
  }
 },
 "nbformat": 4,
 "nbformat_minor": 2
}
