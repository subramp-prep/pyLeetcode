{
 "cells": [
  {
   "cell_type": "markdown",
   "metadata": {},
   "source": [
    "# 0/1 Knapsacks problem\n",
    "\n",
    "Identify how to fit a knapsack with a given size with best options. The goal is pick the most important items summing to a certain value.\n",
    "\n",
    "In 0-1 Knapsack problem, we are given a set of items, each with a weight and a value and we need to determine the number of each to include in a collection so that the total weight is less than or equal to a given limit and the total value is as large as possible."
   ]
  },
  {
   "cell_type": "markdown",
   "metadata": {},
   "source": [
    "## Question\n",
    "\n",
    "Allowed to take a maximum of only 10 items, identify the maximum value, that sums to the item count"
   ]
  },
  {
   "cell_type": "markdown",
   "metadata": {},
   "source": [
    "## Recursion"
   ]
  },
  {
   "cell_type": "code",
   "execution_count": 13,
   "metadata": {},
   "outputs": [],
   "source": [
    "import sys\n",
    "\n",
    "def knapsack_recursion(weights, values, index, capacity):\n",
    "    print('Items: {}, Values: {}, Index: {}, Capacity: {}'\\\n",
    "          .format(weights, values, index, capacity))\n",
    "    \n",
    "    if capacity < 0:\n",
    "        return -sys.maxsize\n",
    "\n",
    "    if index < 0 or capacity == 0:\n",
    "        return 0\n",
    "\n",
    "    include = values[index] + \\\n",
    "              knapsack_recursion(weights, values, index - 1, capacity - weights[index])\n",
    "    #print('Include:', include)\n",
    "    \n",
    "    exclude = knapsack_recursion(weights, values, index - 1, capacity)\n",
    "    #print('Exclude:', exclude)\n",
    "\n",
    "    return max(include, exclude)"
   ]
  },
  {
   "cell_type": "markdown",
   "metadata": {},
   "source": [
    "## Divide-n-Conquer"
   ]
  },
  {
   "cell_type": "code",
   "execution_count": 14,
   "metadata": {},
   "outputs": [],
   "source": [
    "maps = {}\n",
    "def knapsack_divideNConquer(weights, values, index, capacity):\n",
    "    print('Items: {}, Values: {}, Index: {}, Capacity: {}'\\\n",
    "          .format(weights, values, index, capacity))\n",
    "    \n",
    "    if capacity < 0:\n",
    "        return -sys.maxsize\n",
    "\n",
    "    if index <0 or capacity == 0:\n",
    "        return 0\n",
    "\n",
    "    key = '{}|{}'.format(index, capacity)\n",
    "\n",
    "    if key not in maps:\n",
    "        include = values[index] + \\\n",
    "        knapsack_divideNConquer(weights, values, index-1, capacity - weights[index])\n",
    "\n",
    "        exclude = knapsack_divideNConquer(weights, values, index-1, capacity)\n",
    "\n",
    "        maps[key] = max(include, exclude)\n",
    "\n",
    "    return maps[key]"
   ]
  },
  {
   "cell_type": "code",
   "execution_count": 15,
   "metadata": {},
   "outputs": [
    {
     "name": "stdout",
     "output_type": "stream",
     "text": [
      "Items: [1, 2, 3, 8, 7, 4], Values: [20, 5, 10, 40, 15, 25], Index: 5, Capacity: 10\n",
      "Items: [1, 2, 3, 8, 7, 4], Values: [20, 5, 10, 40, 15, 25], Index: 4, Capacity: 6\n",
      "Items: [1, 2, 3, 8, 7, 4], Values: [20, 5, 10, 40, 15, 25], Index: 3, Capacity: -1\n",
      "Items: [1, 2, 3, 8, 7, 4], Values: [20, 5, 10, 40, 15, 25], Index: 3, Capacity: 6\n",
      "Items: [1, 2, 3, 8, 7, 4], Values: [20, 5, 10, 40, 15, 25], Index: 2, Capacity: -2\n",
      "Items: [1, 2, 3, 8, 7, 4], Values: [20, 5, 10, 40, 15, 25], Index: 2, Capacity: 6\n",
      "Items: [1, 2, 3, 8, 7, 4], Values: [20, 5, 10, 40, 15, 25], Index: 1, Capacity: 3\n",
      "Items: [1, 2, 3, 8, 7, 4], Values: [20, 5, 10, 40, 15, 25], Index: 0, Capacity: 1\n",
      "Items: [1, 2, 3, 8, 7, 4], Values: [20, 5, 10, 40, 15, 25], Index: -1, Capacity: 0\n",
      "Items: [1, 2, 3, 8, 7, 4], Values: [20, 5, 10, 40, 15, 25], Index: -1, Capacity: 1\n",
      "Items: [1, 2, 3, 8, 7, 4], Values: [20, 5, 10, 40, 15, 25], Index: 0, Capacity: 3\n",
      "Items: [1, 2, 3, 8, 7, 4], Values: [20, 5, 10, 40, 15, 25], Index: -1, Capacity: 2\n",
      "Items: [1, 2, 3, 8, 7, 4], Values: [20, 5, 10, 40, 15, 25], Index: -1, Capacity: 3\n",
      "Items: [1, 2, 3, 8, 7, 4], Values: [20, 5, 10, 40, 15, 25], Index: 1, Capacity: 6\n",
      "Items: [1, 2, 3, 8, 7, 4], Values: [20, 5, 10, 40, 15, 25], Index: 0, Capacity: 4\n",
      "Items: [1, 2, 3, 8, 7, 4], Values: [20, 5, 10, 40, 15, 25], Index: -1, Capacity: 3\n",
      "Items: [1, 2, 3, 8, 7, 4], Values: [20, 5, 10, 40, 15, 25], Index: -1, Capacity: 4\n",
      "Items: [1, 2, 3, 8, 7, 4], Values: [20, 5, 10, 40, 15, 25], Index: 0, Capacity: 6\n",
      "Items: [1, 2, 3, 8, 7, 4], Values: [20, 5, 10, 40, 15, 25], Index: -1, Capacity: 5\n",
      "Items: [1, 2, 3, 8, 7, 4], Values: [20, 5, 10, 40, 15, 25], Index: -1, Capacity: 6\n",
      "Items: [1, 2, 3, 8, 7, 4], Values: [20, 5, 10, 40, 15, 25], Index: 4, Capacity: 10\n",
      "Items: [1, 2, 3, 8, 7, 4], Values: [20, 5, 10, 40, 15, 25], Index: 3, Capacity: 3\n",
      "Items: [1, 2, 3, 8, 7, 4], Values: [20, 5, 10, 40, 15, 25], Index: 2, Capacity: -5\n",
      "Items: [1, 2, 3, 8, 7, 4], Values: [20, 5, 10, 40, 15, 25], Index: 2, Capacity: 3\n",
      "Items: [1, 2, 3, 8, 7, 4], Values: [20, 5, 10, 40, 15, 25], Index: 1, Capacity: 0\n",
      "Items: [1, 2, 3, 8, 7, 4], Values: [20, 5, 10, 40, 15, 25], Index: 1, Capacity: 3\n",
      "Items: [1, 2, 3, 8, 7, 4], Values: [20, 5, 10, 40, 15, 25], Index: 0, Capacity: 1\n",
      "Items: [1, 2, 3, 8, 7, 4], Values: [20, 5, 10, 40, 15, 25], Index: -1, Capacity: 0\n",
      "Items: [1, 2, 3, 8, 7, 4], Values: [20, 5, 10, 40, 15, 25], Index: -1, Capacity: 1\n",
      "Items: [1, 2, 3, 8, 7, 4], Values: [20, 5, 10, 40, 15, 25], Index: 0, Capacity: 3\n",
      "Items: [1, 2, 3, 8, 7, 4], Values: [20, 5, 10, 40, 15, 25], Index: -1, Capacity: 2\n",
      "Items: [1, 2, 3, 8, 7, 4], Values: [20, 5, 10, 40, 15, 25], Index: -1, Capacity: 3\n",
      "Items: [1, 2, 3, 8, 7, 4], Values: [20, 5, 10, 40, 15, 25], Index: 3, Capacity: 10\n",
      "Items: [1, 2, 3, 8, 7, 4], Values: [20, 5, 10, 40, 15, 25], Index: 2, Capacity: 2\n",
      "Items: [1, 2, 3, 8, 7, 4], Values: [20, 5, 10, 40, 15, 25], Index: 1, Capacity: -1\n",
      "Items: [1, 2, 3, 8, 7, 4], Values: [20, 5, 10, 40, 15, 25], Index: 1, Capacity: 2\n",
      "Items: [1, 2, 3, 8, 7, 4], Values: [20, 5, 10, 40, 15, 25], Index: 0, Capacity: 0\n",
      "Items: [1, 2, 3, 8, 7, 4], Values: [20, 5, 10, 40, 15, 25], Index: 0, Capacity: 2\n",
      "Items: [1, 2, 3, 8, 7, 4], Values: [20, 5, 10, 40, 15, 25], Index: -1, Capacity: 1\n",
      "Items: [1, 2, 3, 8, 7, 4], Values: [20, 5, 10, 40, 15, 25], Index: -1, Capacity: 2\n",
      "Items: [1, 2, 3, 8, 7, 4], Values: [20, 5, 10, 40, 15, 25], Index: 2, Capacity: 10\n",
      "Items: [1, 2, 3, 8, 7, 4], Values: [20, 5, 10, 40, 15, 25], Index: 1, Capacity: 7\n",
      "Items: [1, 2, 3, 8, 7, 4], Values: [20, 5, 10, 40, 15, 25], Index: 0, Capacity: 5\n",
      "Items: [1, 2, 3, 8, 7, 4], Values: [20, 5, 10, 40, 15, 25], Index: -1, Capacity: 4\n",
      "Items: [1, 2, 3, 8, 7, 4], Values: [20, 5, 10, 40, 15, 25], Index: -1, Capacity: 5\n",
      "Items: [1, 2, 3, 8, 7, 4], Values: [20, 5, 10, 40, 15, 25], Index: 0, Capacity: 7\n",
      "Items: [1, 2, 3, 8, 7, 4], Values: [20, 5, 10, 40, 15, 25], Index: -1, Capacity: 6\n",
      "Items: [1, 2, 3, 8, 7, 4], Values: [20, 5, 10, 40, 15, 25], Index: -1, Capacity: 7\n",
      "Items: [1, 2, 3, 8, 7, 4], Values: [20, 5, 10, 40, 15, 25], Index: 1, Capacity: 10\n",
      "Items: [1, 2, 3, 8, 7, 4], Values: [20, 5, 10, 40, 15, 25], Index: 0, Capacity: 8\n",
      "Items: [1, 2, 3, 8, 7, 4], Values: [20, 5, 10, 40, 15, 25], Index: -1, Capacity: 7\n",
      "Items: [1, 2, 3, 8, 7, 4], Values: [20, 5, 10, 40, 15, 25], Index: -1, Capacity: 8\n",
      "Items: [1, 2, 3, 8, 7, 4], Values: [20, 5, 10, 40, 15, 25], Index: 0, Capacity: 10\n",
      "Items: [1, 2, 3, 8, 7, 4], Values: [20, 5, 10, 40, 15, 25], Index: -1, Capacity: 9\n",
      "Items: [1, 2, 3, 8, 7, 4], Values: [20, 5, 10, 40, 15, 25], Index: -1, Capacity: 10\n",
      "60\n"
     ]
    }
   ],
   "source": [
    "weights = [1, 2, 3, 8, 7, 4]\n",
    "values  = [20, 5, 10, 40, 15, 25]\n",
    "\n",
    "print(knapsack_recursion(weights, values, len(weights)-1, 10))"
   ]
  }
 ],
 "metadata": {
  "kernelspec": {
   "display_name": "Python 3",
   "language": "python",
   "name": "python3"
  },
  "language_info": {
   "codemirror_mode": {
    "name": "ipython",
    "version": 3
   },
   "file_extension": ".py",
   "mimetype": "text/x-python",
   "name": "python",
   "nbconvert_exporter": "python",
   "pygments_lexer": "ipython3",
   "version": "3.7.1"
  }
 },
 "nbformat": 4,
 "nbformat_minor": 2
}
