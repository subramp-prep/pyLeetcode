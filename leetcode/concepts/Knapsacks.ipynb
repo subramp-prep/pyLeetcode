{
 "cells": [
  {
   "cell_type": "markdown",
   "metadata": {},
   "source": [
    "# 0/1 Knapsacks problem\n",
    "\n",
    "Identify how to fit a knapsack with a given size with best options. The goal is pick the most important items summing to a certain value."
   ]
  },
  {
   "cell_type": "markdown",
   "metadata": {},
   "source": [
    "## Recursion"
   ]
  },
  {
   "cell_type": "code",
   "execution_count": 1,
   "metadata": {},
   "outputs": [],
   "source": [
    "import sys\n",
    "\n",
    "def knapsack_recursion(weights, values, index, capacity):\n",
    "    if capacity < 0:\n",
    "        return -sys.maxsize\n",
    "\n",
    "    if index < 0 or capacity == 0:\n",
    "        return 0\n",
    "\n",
    "    include = values[index] + \\\n",
    "              knapsack_recursion(weights, values, index - 1, capacity - weights[index])\n",
    "    \n",
    "    exclude = knapsack_recursion(weights, values, index - 1, capacity)\n",
    "\n",
    "    return max(include, exclude)"
   ]
  },
  {
   "cell_type": "markdown",
   "metadata": {},
   "source": [
    "## Divide-n-Conquer"
   ]
  },
  {
   "cell_type": "code",
   "execution_count": null,
   "metadata": {},
   "outputs": [],
   "source": [
    "maps = {}\n",
    "def knapsack_divideNConquer(weights, values, index, capacity):\n",
    "    if capacity < 0:\n",
    "        return -sys.maxsize\n",
    "\n",
    "    if index <0 or capacity == 0:\n",
    "        return 0\n",
    "\n",
    "    key = '{}|{}'.format(index, capacity)\n",
    "\n",
    "    if key not in maps:\n",
    "        include = values[index] + \\\n",
    "        knapsack_divideNConquer(weights, values, index-1, capacity - weights[index])\n",
    "\n",
    "        exclude = knapsack_divideNConquer(weights, values, index-1, capacity)\n",
    "\n",
    "        maps[key] = max(include, exclude)\n",
    "\n",
    "    return maps[key]"
   ]
  }
 ],
 "metadata": {
  "kernelspec": {
   "display_name": "Python 3",
   "language": "python",
   "name": "python3"
  },
  "language_info": {
   "codemirror_mode": {
    "name": "ipython",
    "version": 3
   },
   "file_extension": ".py",
   "mimetype": "text/x-python",
   "name": "python",
   "nbconvert_exporter": "python",
   "pygments_lexer": "ipython3",
   "version": "3.7.1"
  }
 },
 "nbformat": 4,
 "nbformat_minor": 2
}
