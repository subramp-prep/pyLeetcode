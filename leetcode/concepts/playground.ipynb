{
 "cells": [
  {
   "cell_type": "markdown",
   "metadata": {},
   "source": [
    "# Split array words and join"
   ]
  },
  {
   "cell_type": "code",
   "execution_count": null,
   "metadata": {},
   "outputs": [],
   "source": [
    "n = 3\n",
    "words = ['PLOP', 'XPLDR', 'TWRT']\n",
    "\n",
    "vowels = ['a', 'e', 'i', 'o', 'u', 'A', 'E', 'I', 'O', 'U']\n",
    "for i in range(n):\n",
    "\n",
    "    splitWord = list(words[i])\n",
    "    print(splitWord)\n",
    "    if splitWord in vowels:\n",
    "        w = \"\".join(sorted(splitWord))\n",
    "        print(w[0])\n",
    "    else:\n",
    "        print('None')"
   ]
  },
  {
   "cell_type": "code",
   "execution_count": null,
   "metadata": {},
   "outputs": [],
   "source": [
    "n = 2\n",
    "\n",
    "for i in range(n):\n",
    "    index = 0\n",
    "    while index < i:\n",
    "        print(n, end = ' ')\n",
    "        index += 1"
   ]
  },
  {
   "cell_type": "markdown",
   "metadata": {},
   "source": [
    "# Build a multi-dimensional board -> Update -> Print"
   ]
  },
  {
   "cell_type": "code",
   "execution_count": null,
   "metadata": {},
   "outputs": [],
   "source": [
    "def buildBoard(r, c):\n",
    "    output = [['0' for i in range(c)] for i in range(r)]\n",
    "    return output\n",
    "\n",
    "r, c = 4, 5\n",
    "print('Init')\n",
    "board = buildBoard(r, c)\n",
    "for i in range(len(board)):\n",
    "    print(''.join([str(board[i][j]) for j in range(len(board[i]))]))\n",
    "\n",
    "print('Modified-> Set 1 diag from (0,0)')\n",
    "for i, j in zip(range(0, r, 1), range(0, c, 1)):\n",
    "    board[i][j] = '1'\n",
    "    \n",
    "for i in range(len(board)):\n",
    "    print(''.join([str(board[i][j]) for j in range(len(board[i]))]))\n",
    "\n",
    "print('Modified again -> Set 2 diag from (3,4)')\n",
    "for i, j in zip(range(r-1, -1, -1), range(c-1, -1, -1)):\n",
    "    board[i][j] = '2'\n",
    "    \n",
    "for i in range(len(board)):\n",
    "nums     print(''.join([str(board[i][j]) for j in range(len(board[i]))]))"
   ]
  },
  {
   "cell_type": "code",
   "execution_count": null,
   "metadata": {},
   "outputs": [],
   "source": [
    "import itertools\n",
    "\n",
    "nums = [4,5,6,7]\n",
    "\n",
    "for h1,h2,m1,m2 in itertools.permutations(nums):\n",
    "    hours, minutes = 10*h1+h2, 10*m1+m2\n",
    "    time = 60*hours+minutes\n",
    "    print(time)"
   ]
  },
  {
   "cell_type": "code",
   "execution_count": 4,
   "metadata": {},
   "outputs": [
    {
     "name": "stdout",
     "output_type": "stream",
     "text": [
      "asd\n",
      "ads\n",
      "sad\n",
      "sda\n",
      "das\n",
      "dsa\n"
     ]
    }
   ],
   "source": [
    "import itertools\n",
    "\n",
    "#letters = ['a','s','d','e','f', 'g','h', 'j', 'k', 'l', 'i']\n",
    "letters = ['a','s', 'd']\n",
    "#print(''.join(letters))\n",
    "\n",
    "for l in itertools.permutations(letters):\n",
    "    print(''.join(l))"
   ]
  },
  {
   "cell_type": "code",
   "execution_count": null,
   "metadata": {},
   "outputs": [],
   "source": []
  }
 ],
 "metadata": {
  "kernelspec": {
   "display_name": "Python 3",
   "language": "python",
   "name": "python3"
  },
  "language_info": {
   "codemirror_mode": {
    "name": "ipython",
    "version": 3
   },
   "file_extension": ".py",
   "mimetype": "text/x-python",
   "name": "python",
   "nbconvert_exporter": "python",
   "pygments_lexer": "ipython3",
   "version": "3.7.1"
  }
 },
 "nbformat": 4,
 "nbformat_minor": 2
}
