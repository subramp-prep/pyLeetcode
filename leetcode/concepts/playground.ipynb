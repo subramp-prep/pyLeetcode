{
 "cells": [
  {
   "cell_type": "code",
   "execution_count": 4,
   "metadata": {},
   "outputs": [
    {
     "name": "stdout",
     "output_type": "stream",
     "text": [
      "['P', 'L', 'O', 'P']\n",
      "None\n",
      "['X', 'P', 'L', 'D', 'R']\n",
      "None\n",
      "['T', 'W', 'R', 'T']\n",
      "None\n"
     ]
    }
   ],
   "source": [
    "n = 3\n",
    "words = ['PLOP', 'XPLDR', 'TWRT']\n",
    "\n",
    "vowels = ['a', 'e', 'i', 'o', 'u', 'A', 'E', 'I', 'O', 'U']\n",
    "for i in range(n):\n",
    "\n",
    "    splitWord = list(words[i])\n",
    "    print(splitWord)\n",
    "    if splitWord in vowels:\n",
    "        w = \"\".join(sorted(splitWord))\n",
    "        print(w[0])\n",
    "    else:\n",
    "        print('None')"
   ]
  },
  {
   "cell_type": "code",
   "execution_count": null,
   "metadata": {},
   "outputs": [],
   "source": [
    "n = 2\n",
    "\n",
    "for i in range(n):\n",
    "    index = 0\n",
    "    while index < i:\n",
    "        print(n, end = ' ')\n",
    "        index += 1"
   ]
  },
  {
   "cell_type": "code",
   "execution_count": null,
   "metadata": {},
   "outputs": [],
   "source": []
  }
 ],
 "metadata": {
  "kernelspec": {
   "display_name": "Python 3",
   "language": "python",
   "name": "python3"
  },
  "language_info": {
   "codemirror_mode": {
    "name": "ipython",
    "version": 3
   },
   "file_extension": ".py",
   "mimetype": "text/x-python",
   "name": "python",
   "nbconvert_exporter": "python",
   "pygments_lexer": "ipython3",
   "version": "3.7.0"
  }
 },
 "nbformat": 4,
 "nbformat_minor": 2
}
